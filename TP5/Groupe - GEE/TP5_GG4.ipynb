{
 "cells": [
  {
   "cell_type": "code",
   "execution_count": 1,
   "id": "bb58c4b2-b5aa-461c-bbbf-d165c9ff52d3",
   "metadata": {},
   "outputs": [],
   "source": [
    "import ee\n",
    "import geemap\n",
    "import pandas as pd\n",
    "from ipyleaflet import ImageOverlay\n",
    "from ipyleaflet import WidgetControl\n",
    "from ipywidgets import VBox, HTML\n",
    "\n",
    "\n",
    "# Authentifier et initialiser Google Earth Engine\n",
    "ee.Authenticate()\n",
    "ee.Initialize()"
   ]
  },
  {
   "cell_type": "code",
   "execution_count": 2,
   "id": "ebf68c65-40e1-425b-8925-b56d5c4b6725",
   "metadata": {},
   "outputs": [
    {
     "data": {
      "text/html": [
       "\n",
       "            <style>\n",
       "                .geemap-dark {\n",
       "                    --jp-widgets-color: white;\n",
       "                    --jp-widgets-label-color: white;\n",
       "                    --jp-ui-font-color1: white;\n",
       "                    --jp-layout-color2: #454545;\n",
       "                    background-color: #383838;\n",
       "                }\n",
       "\n",
       "                .geemap-dark .jupyter-button {\n",
       "                    --jp-layout-color3: #383838;\n",
       "                }\n",
       "\n",
       "                .geemap-colab {\n",
       "                    background-color: var(--colab-primary-surface-color, white);\n",
       "                }\n",
       "\n",
       "                .geemap-colab .jupyter-button {\n",
       "                    --jp-layout-color3: var(--colab-primary-surface-color, white);\n",
       "                }\n",
       "            </style>\n",
       "            "
      ],
      "text/plain": [
       "<IPython.core.display.HTML object>"
      ]
     },
     "metadata": {},
     "output_type": "display_data"
    },
    {
     "name": "stdout",
     "output_type": "stream",
     "text": [
      "Nombre de géométries (pays) : 1\n",
      "CRS du shapefile du pays : {'type': 'Projection', 'crs': 'EPSG:4326', 'transform': [1, 0, 0, 0, 1, 0]}\n",
      "Extent (limites) du pays : {'geodesic': False, 'type': 'Polygon', 'coordinates': [[[0.16666781762811478, 11.691999274801383], [15.996668338772286, 11.691999274801383], [15.996668338772286, 23.517178579212032], [0.16666781762811478, 23.517178579212032], [0.16666781762811478, 11.691999274801383]]]}\n",
      "Taille des pixels du raster de population : 92.76624195800512 mètres\n"
     ]
    },
    {
     "data": {
      "application/vnd.jupyter.widget-view+json": {
       "model_id": "ac772dbca3a84c4f90b8f8f5c1d61fd1",
       "version_major": 2,
       "version_minor": 0
      },
      "text/plain": [
       "Map(center=[17.413175629395553, 9.346513612635333], controls=(WidgetControl(options=['position', 'transparent_…"
      ]
     },
     "execution_count": 2,
     "metadata": {},
     "output_type": "execute_result"
    }
   ],
   "source": [
    "# Section 1 : Données Vectorielles\n",
    "# Créer une carte interactive pour afficher les données vectorielles et raster\n",
    "Map = geemap.Map()\n",
    "\n",
    "# Importer les données de shapefiles pour les différents niveaux administratifs du Niger\n",
    "pays = ee.FeatureCollection(\"projects/ee-senemalick123450/assets/geoBoundaries-NER-ADM0\")  # Niveau pays\n",
    "regions = ee.FeatureCollection(\"projects/ee-senemalick123450/assets/geoBoundaries-NER-ADM1\")  # Niveau régions\n",
    "departements = ee.FeatureCollection(\"projects/ee-senemalick123450/assets/geoBoundaries-NER-ADM2\")  # Niveau départements\n",
    "communes = ee.FeatureCollection(\"projects/ee-senemalick123450/assets/geoBoundaries-NER-ADM3\")  # Niveau communes\n",
    "\n",
    "# Calculs statistiques : récupérer et afficher des informations pour le niveau pays\n",
    "country_count = pays.size().getInfo()  # Obtenir le nombre de géométries dans le shapefile des pays\n",
    "print(f'Nombre de géométries (pays) : {country_count}')\n",
    "\n",
    "crs_country = pays.first().geometry().projection().getInfo()  # Obtenir le système de coordonnées (CRS) du shapefile\n",
    "print(f'CRS du shapefile du pays : {crs_country}')\n",
    "\n",
    "extent_country = pays.geometry().bounds().getInfo()  # Obtenir les limites géographiques du shapefile\n",
    "print(f'Extent (limites) du pays : {extent_country}')\n",
    "\n",
    "# Visualisation des shapefiles : ajouter le shapefile du niveau pays sur la carte\n",
    "Map.addLayer(pays, {}, 'Pays')  # Ajouter le layer du pays sans style spécifique\n",
    "Map.centerObject(pays, 6)  # Centrer la vue sur le shapefile du pays avec un niveau de zoom de 6\n",
    "\n",
    "# Section 2 : Données Raster - Visualisation de la population\n",
    "# Charger un raster de population (ex. WorldPop ou une source de données de population pour le Niger)\n",
    "population_raster = ee.Image(\"projects/ee-senemalick123450/assets/NER_population_v1_0_gridded\")  # Remplacez par votre raster si nécessaire\n",
    "\n",
    "# Ajouter le raster de population à la carte avec une palette de couleurs pour représenter les densités de population\n",
    "palette = ['ffffcc', 'c2e699', '78c679', '31a354', '006837']  # Palette de couleurs allant du clair au foncé pour illustrer les variations de densité\n",
    "Map.addLayer(population_raster, {'palette': palette, 'min': 0, 'max': 300}, 'Population')  # Définir la palette et les valeurs min/max de population\n",
    "\n",
    "# Vérifier la résolution spatiale du raster en obtenant la taille des pixels\n",
    "pixel_size = population_raster.projection().nominalScale().getInfo()  # Obtenir la résolution (taille des pixels en mètres)\n",
    "print(f\"Taille des pixels du raster de population : {pixel_size} mètres\")\n",
    "\n",
    "# Afficher la carte combinée (données vectorielles + données raster)\n",
    "Map  # Affiche la carte interactive avec les couches de données ajoutées\n"
   ]
  },
  {
   "cell_type": "code",
   "execution_count": 3,
   "id": "a1e879ad-b94b-4a4b-97e6-2bbc36960439",
   "metadata": {},
   "outputs": [
    {
     "data": {
      "text/html": [
       "\n",
       "            <style>\n",
       "                .geemap-dark {\n",
       "                    --jp-widgets-color: white;\n",
       "                    --jp-widgets-label-color: white;\n",
       "                    --jp-ui-font-color1: white;\n",
       "                    --jp-layout-color2: #454545;\n",
       "                    background-color: #383838;\n",
       "                }\n",
       "\n",
       "                .geemap-dark .jupyter-button {\n",
       "                    --jp-layout-color3: #383838;\n",
       "                }\n",
       "\n",
       "                .geemap-colab {\n",
       "                    background-color: var(--colab-primary-surface-color, white);\n",
       "                }\n",
       "\n",
       "                .geemap-colab .jupyter-button {\n",
       "                    --jp-layout-color3: var(--colab-primary-surface-color, white);\n",
       "                }\n",
       "            </style>\n",
       "            "
      ],
      "text/plain": [
       "<IPython.core.display.HTML object>"
      ]
     },
     "metadata": {},
     "output_type": "display_data"
    },
    {
     "name": "stdout",
     "output_type": "stream",
     "text": [
      "Les fichiers CSV de population par niveau administratif ont été exportés avec succès.\n"
     ]
    }
   ],
   "source": [
    "import pandas as pd\n",
    "\n",
    "# Fonction pour calculer la population dans une zone administrative donnée\n",
    "def calculer_population_par_zone(admin_level, zone_name):\n",
    "    pop_totale = population_raster.reduceRegion(\n",
    "        reducer=ee.Reducer.sum(),  # Utilisation du réducteur de somme pour agréger la population dans la zone\n",
    "        geometry=admin_level.geometry(),  # Définition de la géométrie de la zone administrative\n",
    "        scale=population_raster.projection().nominalScale(),  # Échelle basée sur la résolution du raster de population\n",
    "        maxPixels=1e13  # Limite de pixels pour la réduction\n",
    "    ).get('b1')  # 'b1' correspond à la bande de population par défaut dans WorldPop\n",
    "\n",
    "    return ee.Feature(None, {'ID': zone_name, 'Population': pop_totale})  # Création d'une Feature avec l'ID de la zone et la population calculée\n",
    "\n",
    "# Calculer la population pour chaque niveau administratif en appliquant la fonction sur chaque Feature\n",
    "pop_pays = pays.map(lambda feature: calculer_population_par_zone(feature, feature.get('shapeID')))  # Population par pays\n",
    "pop_regions = regions.map(lambda feature: calculer_population_par_zone(feature, feature.get('shapeID')))  # Population par région\n",
    "pop_departements = departements.map(lambda feature: calculer_population_par_zone(feature, feature.get('shapeID')))  # Population par département\n",
    "pop_communes = communes.map(lambda feature: calculer_population_par_zone(feature, feature.get('shapeID')))  # Population par commune\n",
    "\n",
    "# Fonction pour convertir une FeatureCollection en dictionnaire avec les ID et les populations\n",
    "def features_to_dict(feature_collection):\n",
    "    ids = feature_collection.aggregate_array('ID').getInfo()  # Extraction des IDs de chaque Feature\n",
    "    populations = feature_collection.aggregate_array('Population').getInfo()  # Extraction des valeurs de population\n",
    "    return [{'ID': id, 'Population': pop} for id, pop in zip(ids, populations)]  # Construction d'une liste de dictionnaires avec les données\n",
    "\n",
    "# Obtenir les données sous forme de liste de dictionnaires pour chaque niveau administratif\n",
    "pop_pays_data = features_to_dict(pop_pays)  # Données pour les pays\n",
    "pop_regions_data = features_to_dict(pop_regions)  # Données pour les régions\n",
    "pop_departements_data = features_to_dict(pop_departements)  # Données pour les départements\n",
    "pop_communes_data = features_to_dict(pop_communes)  # Données pour les communes\n",
    "\n",
    "# Convertir les résultats en DataFrames pandas et les exporter en fichiers CSV\n",
    "pop_pays_df = pd.DataFrame(pop_pays_data)  # DataFrame pour les pays\n",
    "pop_regions_df = pd.DataFrame(pop_regions_data)  # DataFrame pour les régions\n",
    "pop_departements_df = pd.DataFrame(pop_departements_data)  # DataFrame pour les départements\n",
    "pop_communes_df = pd.DataFrame(pop_communes_data)  # DataFrame pour les communes\n",
    "\n",
    "# Exportation de chaque DataFrame au format CSV\n",
    "pop_pays_df.to_csv('population_par_pays.csv', index=False)  # Export des données de population par pays\n",
    "pop_regions_df.to_csv('population_par_regions.csv', index=False)  # Export des données de population par régions\n",
    "pop_departements_df.to_csv('population_par_departements.csv', index=False)  # Export des données de population par départements\n",
    "pop_communes_df.to_csv('population_par_communes.csv', index=False)  # Export des données de population par communes\n",
    "\n",
    "# Message de confirmation\n",
    "print(\"Les fichiers CSV de population par niveau administratif ont été exportés avec succès.\")\n"
   ]
  },
  {
   "cell_type": "code",
   "execution_count": 4,
   "id": "03572d88-075e-407d-ba60-a0b1bdbb6df2",
   "metadata": {},
   "outputs": [
    {
     "data": {
      "text/html": [
       "\n",
       "            <style>\n",
       "                .geemap-dark {\n",
       "                    --jp-widgets-color: white;\n",
       "                    --jp-widgets-label-color: white;\n",
       "                    --jp-ui-font-color1: white;\n",
       "                    --jp-layout-color2: #454545;\n",
       "                    background-color: #383838;\n",
       "                }\n",
       "\n",
       "                .geemap-dark .jupyter-button {\n",
       "                    --jp-layout-color3: #383838;\n",
       "                }\n",
       "\n",
       "                .geemap-colab {\n",
       "                    background-color: var(--colab-primary-surface-color, white);\n",
       "                }\n",
       "\n",
       "                .geemap-colab .jupyter-button {\n",
       "                    --jp-layout-color3: var(--colab-primary-surface-color, white);\n",
       "                }\n",
       "            </style>\n",
       "            "
      ],
      "text/plain": [
       "<IPython.core.display.HTML object>"
      ]
     },
     "metadata": {},
     "output_type": "display_data"
    },
    {
     "data": {
      "application/vnd.jupyter.widget-view+json": {
       "model_id": "ac772dbca3a84c4f90b8f8f5c1d61fd1",
       "version_major": 2,
       "version_minor": 0
      },
      "text/plain": [
       "Map(center=[17.413175629395553, 9.346513612635333], controls=(WidgetControl(options=['position', 'transparent_…"
      ]
     },
     "execution_count": 4,
     "metadata": {},
     "output_type": "execute_result"
    }
   ],
   "source": [
    "# Définir la nouvelle résolution pour l'agrégation en mètres (ici, 5 km = 5000 mètres)\n",
    "nouvelle_resolution = 5000\n",
    "\n",
    "# Agréger les pixels du raster de population à la nouvelle résolution définie\n",
    "population_raster_5km = population_raster.reduceResolution(\n",
    "    reducer=ee.Reducer.sum(),  # Utiliser la somme pour agréger les valeurs de population dans chaque zone  # Permet à Google Earth Engine d'ajuster automatiquement l'agrégation si nécessaire\n",
    "    maxPixels=5000  # Limite du nombre de pixels à traiter dans chaque agrégation pour éviter une surcharge de calcul\n",
    ").reproject(\n",
    "    crs=population_raster.projection(),  # Conserver le système de coordonnées d'origine du raster\n",
    "    scale=nouvelle_resolution  # Appliquer la nouvelle résolution de 5 km\n",
    ")\n",
    "\n",
    "# Ajouter le raster agrégé avec la nouvelle résolution sur la carte pour visualisation\n",
    "Map.addLayer(\n",
    "    population_raster_5km, \n",
    "    {'palette': palette, 'min': 0, 'max': 3000},  # Appliquer la même palette de couleurs pour une échelle de population\n",
    "    'Population (5km resolution)'  # Légende pour indiquer la résolution du raster\n",
    ")\n",
    "\n",
    "# Afficher la carte avec le raster de population agrégé\n",
    "Map\n"
   ]
  },
  {
   "cell_type": "code",
   "execution_count": 6,
   "id": "d0593452-296b-42ff-ab93-7d229409c583",
   "metadata": {},
   "outputs": [
    {
     "data": {
      "text/html": [
       "\n",
       "            <style>\n",
       "                .geemap-dark {\n",
       "                    --jp-widgets-color: white;\n",
       "                    --jp-widgets-label-color: white;\n",
       "                    --jp-ui-font-color1: white;\n",
       "                    --jp-layout-color2: #454545;\n",
       "                    background-color: #383838;\n",
       "                }\n",
       "\n",
       "                .geemap-dark .jupyter-button {\n",
       "                    --jp-layout-color3: #383838;\n",
       "                }\n",
       "\n",
       "                .geemap-colab {\n",
       "                    background-color: var(--colab-primary-surface-color, white);\n",
       "                }\n",
       "\n",
       "                .geemap-colab .jupyter-button {\n",
       "                    --jp-layout-color3: var(--colab-primary-surface-color, white);\n",
       "                }\n",
       "            </style>\n",
       "            "
      ],
      "text/plain": [
       "<IPython.core.display.HTML object>"
      ]
     },
     "metadata": {},
     "output_type": "display_data"
    },
    {
     "data": {
      "application/vnd.jupyter.widget-view+json": {
       "model_id": "ac772dbca3a84c4f90b8f8f5c1d61fd1",
       "version_major": 2,
       "version_minor": 0
      },
      "text/plain": [
       "Map(bottom=7687.0, center=[17.413175629395553, 9.346513612635333], controls=(WidgetControl(options=['position'…"
      ]
     },
     "execution_count": 6,
     "metadata": {},
     "output_type": "execute_result"
    }
   ],
   "source": [
    "# Calculer le raster représentant le pourcentage d'enfants âgés de 2 à 10 ans dans la population.\n",
    "# Hypothèse : les enfants de 2 à 10 ans représentent 0,1 % de la population totale\n",
    "population_enfants_2_10 = population_raster_5km.multiply(0.001)\n",
    "\n",
    "# Ajouter le raster calculé pour la population d'enfants (2-10 ans) à la carte pour visualisation\n",
    "# La palette de couleurs et la plage (min et max) sont définies pour représenter les valeurs du pourcentage d'enfants\n",
    "Map.addLayer(\n",
    "    population_enfants_2_10, \n",
    "    {'palette': palette, 'min': 0, 'max': 3},  # Palette de couleurs et limites de l'échelle pour la population d'enfants\n",
    "    'Population Enfants (2-10 ans, 5km resolution)'  # Légende pour indiquer la tranche d'âge et la résolution\n",
    ")\n",
    "\n",
    "# Afficher la carte avec le raster des enfants âgés de 2-10 ans\n",
    "Map\n"
   ]
  },
  {
   "cell_type": "code",
   "execution_count": 7,
   "id": "9a0d63da-76b9-4f7f-ba41-e3de205266f4",
   "metadata": {},
   "outputs": [
    {
     "data": {
      "text/html": [
       "\n",
       "            <style>\n",
       "                .geemap-dark {\n",
       "                    --jp-widgets-color: white;\n",
       "                    --jp-widgets-label-color: white;\n",
       "                    --jp-ui-font-color1: white;\n",
       "                    --jp-layout-color2: #454545;\n",
       "                    background-color: #383838;\n",
       "                }\n",
       "\n",
       "                .geemap-dark .jupyter-button {\n",
       "                    --jp-layout-color3: #383838;\n",
       "                }\n",
       "\n",
       "                .geemap-colab {\n",
       "                    background-color: var(--colab-primary-surface-color, white);\n",
       "                }\n",
       "\n",
       "                .geemap-colab .jupyter-button {\n",
       "                    --jp-layout-color3: var(--colab-primary-surface-color, white);\n",
       "                }\n",
       "            </style>\n",
       "            "
      ],
      "text/plain": [
       "<IPython.core.display.HTML object>"
      ]
     },
     "metadata": {},
     "output_type": "display_data"
    }
   ],
   "source": [
    "# Fonction pour obtenir les images raster par année et sélectionner la première bande\n",
    "def importation_rasters(annee):\n",
    "    nom_raster = f\"202406_Global_Pf_Parasite_Rate_NER_{annee}\"\n",
    "    asset_id = f'projects/ee-senemalick123450/assets/{nom_raster}'\n",
    "    return ee.Image(asset_id).select(0)\n",
    "\n",
    "# Liste des années pour les rasters\n",
    "annees = list(range(2000, 2023))\n",
    "\n",
    "# Charger toutes les images raster et sélectionner la première bande\n",
    "rasters = [importation_rasters(annee) for annee in annees]\n",
    "\n",
    "# Créer une collection à partir de la liste d'images\n",
    "stack_raster = ee.ImageCollection(rasters)"
   ]
  },
  {
   "cell_type": "code",
   "execution_count": 8,
   "id": "8aa9e29d-68c9-41cc-8ac1-de56a59959cb",
   "metadata": {},
   "outputs": [
    {
     "data": {
      "text/html": [
       "\n",
       "            <style>\n",
       "                .geemap-dark {\n",
       "                    --jp-widgets-color: white;\n",
       "                    --jp-widgets-label-color: white;\n",
       "                    --jp-ui-font-color1: white;\n",
       "                    --jp-layout-color2: #454545;\n",
       "                    background-color: #383838;\n",
       "                }\n",
       "\n",
       "                .geemap-dark .jupyter-button {\n",
       "                    --jp-layout-color3: #383838;\n",
       "                }\n",
       "\n",
       "                .geemap-colab {\n",
       "                    background-color: var(--colab-primary-surface-color, white);\n",
       "                }\n",
       "\n",
       "                .geemap-colab .jupyter-button {\n",
       "                    --jp-layout-color3: var(--colab-primary-surface-color, white);\n",
       "                }\n",
       "            </style>\n",
       "            "
      ],
      "text/plain": [
       "<IPython.core.display.HTML object>"
      ]
     },
     "metadata": {},
     "output_type": "display_data"
    }
   ],
   "source": [
    "# Calculer la moyenne sur la collection\n",
    "moyenne_raster = stack_raster.mean()"
   ]
  },
  {
   "cell_type": "code",
   "execution_count": 9,
   "id": "2d2551d4-c9b8-441b-9931-4b123f216d35",
   "metadata": {},
   "outputs": [
    {
     "data": {
      "text/html": [
       "\n",
       "            <style>\n",
       "                .geemap-dark {\n",
       "                    --jp-widgets-color: white;\n",
       "                    --jp-widgets-label-color: white;\n",
       "                    --jp-ui-font-color1: white;\n",
       "                    --jp-layout-color2: #454545;\n",
       "                    background-color: #383838;\n",
       "                }\n",
       "\n",
       "                .geemap-dark .jupyter-button {\n",
       "                    --jp-layout-color3: #383838;\n",
       "                }\n",
       "\n",
       "                .geemap-colab {\n",
       "                    background-color: var(--colab-primary-surface-color, white);\n",
       "                }\n",
       "\n",
       "                .geemap-colab .jupyter-button {\n",
       "                    --jp-layout-color3: var(--colab-primary-surface-color, white);\n",
       "                }\n",
       "            </style>\n",
       "            "
      ],
      "text/plain": [
       "<IPython.core.display.HTML object>"
      ]
     },
     "metadata": {},
     "output_type": "display_data"
    },
    {
     "data": {
      "application/vnd.jupyter.widget-view+json": {
       "model_id": "9a40d3246a984d8bb6acb4f837bde556",
       "version_major": 2,
       "version_minor": 0
      },
      "text/plain": [
       "Map(center=[0, 0], controls=(WidgetControl(options=['position', 'transparent_bg'], widget=SearchDataGUI(childr…"
      ]
     },
     "execution_count": 9,
     "metadata": {},
     "output_type": "execute_result"
    }
   ],
   "source": [
    "# Paramètres de visualisation pour l'image raster\n",
    "# 'min' et 'max' définissent les valeurs minimales et maximales de la plage de couleurs\n",
    "# 'palette' définit les couleurs allant du plus bas au plus haut\n",
    "vis_params = {\n",
    "    'min': 0,\n",
    "    'max': 1,\n",
    "    'palette': ['blue', 'green', 'yellow', 'red']\n",
    "}\n",
    "\n",
    "# Création d'une instance de carte centrée sur les coordonnées [0, 0] avec un zoom initial de 2\n",
    "Map = geemap.Map(center=[0, 0], zoom=2)\n",
    "\n",
    "# Fonction pour visualiser une image sur la carte en ajoutant une couche avec des paramètres spécifiques\n",
    "# 'image' est l'image raster à afficher, 'vis_params' sont les paramètres de visualisation, et 'title' est le nom de la couche\n",
    "def visualize_image(image, vis_params, title):\n",
    "    Map.addLayer(image, vis_params, title)\n",
    "\n",
    "# Appel de la fonction pour visualiser 'moyenne_raster' avec les paramètres définis\n",
    "visualize_image(moyenne_raster, vis_params, 'moyenne_raster')\n",
    "\n",
    "# Ajout d'une barre de couleurs (colorbar) pour représenter les valeurs de l'image\n",
    "# 'label' définit le texte affiché sur la légende, et 'layer_name' le nom de la couche associée\n",
    "Map.add_colorbar(vis_params=vis_params, label=\"Valeur\", layer_name='moyenne_raster')\n",
    "\n",
    "# Ajouter une flèche du nord sur la carte pour indiquer l'orientation\n",
    "# 'north_arrow_url' est le lien de l'image, qui sera affichée comme une flèche du nord\n",
    "north_arrow_url = 'https://img.freepik.com/vecteurs-premium/icone-fleche-nord-symbole-compas-panneau-direction-carte-logo-nord-sud-ouest-est-dans-vecteur-plat_754658-414.jpg?w=2000'\n",
    "\n",
    "# Définition d'une superposition d'image avec les paramètres de la flèche du nord\n",
    "# 'bounds' définit la position et la taille de la flèche sur la carte\n",
    "north_arrow = ImageOverlay(\n",
    "    url=north_arrow_url,\n",
    "    bounds=[[20, -10], [25, -15]],  # Coordonnées pour réduire la taille et positionner la flèche en haut à droite\n",
    "    opacity=0.8  # Opacité de l'image, 0 étant transparent et 1 opaque\n",
    ")\n",
    "Map.add_layer(north_arrow)  # Ajout de la flèche du nord à la carte\n",
    "\n",
    "# Affichage final de la carte avec toutes les couches ajoutées\n",
    "Map\n"
   ]
  },
  {
   "cell_type": "code",
   "execution_count": 10,
   "id": "e6126b16-cf74-409d-95f3-5c4e4696a131",
   "metadata": {},
   "outputs": [
    {
     "data": {
      "text/html": [
       "\n",
       "            <style>\n",
       "                .geemap-dark {\n",
       "                    --jp-widgets-color: white;\n",
       "                    --jp-widgets-label-color: white;\n",
       "                    --jp-ui-font-color1: white;\n",
       "                    --jp-layout-color2: #454545;\n",
       "                    background-color: #383838;\n",
       "                }\n",
       "\n",
       "                .geemap-dark .jupyter-button {\n",
       "                    --jp-layout-color3: #383838;\n",
       "                }\n",
       "\n",
       "                .geemap-colab {\n",
       "                    background-color: var(--colab-primary-surface-color, white);\n",
       "                }\n",
       "\n",
       "                .geemap-colab .jupyter-button {\n",
       "                    --jp-layout-color3: var(--colab-primary-surface-color, white);\n",
       "                }\n",
       "            </style>\n",
       "            "
      ],
      "text/plain": [
       "<IPython.core.display.HTML object>"
      ]
     },
     "metadata": {},
     "output_type": "display_data"
    },
    {
     "data": {
      "application/vnd.jupyter.widget-view+json": {
       "model_id": "f05c49d3d23744b5a4ae178f2402ec94",
       "version_major": 2,
       "version_minor": 0
      },
      "text/plain": [
       "Map(center=[0, 0], controls=(WidgetControl(options=['position', 'transparent_bg'], widget=SearchDataGUI(childr…"
      ]
     },
     "execution_count": 10,
     "metadata": {},
     "output_type": "execute_result"
    }
   ],
   "source": [
    "# Paramètres de visualisation du raster\n",
    "vis_params = {\n",
    "    'min': 0,\n",
    "    'max': 1,\n",
    "    #'palette': ['blue', 'green', 'yellow', 'red']\n",
    "}\n",
    "# Créer une carte\n",
    "Map = geemap.Map(center=[0, 0], zoom=2)\n",
    "\n",
    "# Ajouter le raster à la carte\n",
    "Map.addLayer(moyenne_raster, vis_params, 'Raster')\n",
    "\n",
    "# Ajouter le shapefile à la carte\n",
    "Map.addLayer(pays, {'color': 'black'}, 'Shapefile')\n",
    "\n",
    "# Afficher la carte avec les deux couches superposées\n",
    "Map\n"
   ]
  },
  {
   "cell_type": "code",
   "execution_count": 12,
   "id": "724ce4c2-0b24-4bd8-8ea0-1210b53515fd",
   "metadata": {},
   "outputs": [
    {
     "data": {
      "text/html": [
       "\n",
       "            <style>\n",
       "                .geemap-dark {\n",
       "                    --jp-widgets-color: white;\n",
       "                    --jp-widgets-label-color: white;\n",
       "                    --jp-ui-font-color1: white;\n",
       "                    --jp-layout-color2: #454545;\n",
       "                    background-color: #383838;\n",
       "                }\n",
       "\n",
       "                .geemap-dark .jupyter-button {\n",
       "                    --jp-layout-color3: #383838;\n",
       "                }\n",
       "\n",
       "                .geemap-colab {\n",
       "                    background-color: var(--colab-primary-surface-color, white);\n",
       "                }\n",
       "\n",
       "                .geemap-colab .jupyter-button {\n",
       "                    --jp-layout-color3: var(--colab-primary-surface-color, white);\n",
       "                }\n",
       "            </style>\n",
       "            "
      ],
      "text/plain": [
       "<IPython.core.display.HTML object>"
      ]
     },
     "metadata": {},
     "output_type": "display_data"
    },
    {
     "data": {
      "application/vnd.jupyter.widget-view+json": {
       "model_id": "2a38788f01b547da98e4ad511d4eee00",
       "version_major": 2,
       "version_minor": 0
      },
      "text/plain": [
       "Map(center=[12, -1], controls=(WidgetControl(options=['position', 'transparent_bg'], widget=SearchDataGUI(chil…"
      ]
     },
     "execution_count": 12,
     "metadata": {},
     "output_type": "execute_result"
    }
   ],
   "source": [
    "# Fonction pour importer les images raster par année\n",
    "# ------------------------\n",
    "# Cette fonction prend une année en paramètre, construit le nom du raster et renvoie l'image raster correspondante\n",
    "def importation_rasters(annee):\n",
    "    # Créer le nom du raster en fonction de l'année donnée\n",
    "    nom_raster = f\"202406_Global_Pf_Parasite_Rate_NER_{annee}\"\n",
    "    # Construire l'ID de l'asset dans Google Earth Engine\n",
    "    asset_id = f'projects/ee-senemalick123450/assets/{nom_raster}'\n",
    "    # Retourner l'image raster en sélectionnant la première bande (index 0)\n",
    "    return ee.Image(asset_id).select(0)\n",
    "\n",
    "# ------------------------\n",
    "# Charger les rasters et créer une collection\n",
    "# ------------------------\n",
    "# Liste des années pour les rasters de 2000 à 2022\n",
    "annees = list(range(2000, 2023))\n",
    "\n",
    "# Charger toutes les images raster en utilisant la fonction définie précédemment\n",
    "# Cette liste contient toutes les images raster importées pour chaque année\n",
    "rasters = [importation_rasters(annee) for annee in annees]\n",
    "\n",
    "# Créer une collection d'images à partir de la liste d'images raster\n",
    "stack_raster = ee.ImageCollection(rasters)\n",
    "\n",
    "# Calculer la moyenne et l'écart type des valeurs de pixels pour toutes les images de la collection\n",
    "moyenne_raster = stack_raster.mean()\n",
    "ecart_type_raster = stack_raster.reduce(ee.Reducer.stdDev())\n",
    "\n",
    "# Paramètres de visualisation pour la moyenne et l'écart type\n",
    "vis_params_moyenne = {\n",
    "    'min': 0,\n",
    "    'max': 1,\n",
    "    'palette': ['blue', 'green', 'yellow', 'red']  # Palette de couleurs pour visualiser la moyenne\n",
    "}\n",
    "\n",
    "vis_params_ecart_type = {\n",
    "    'min': 0,\n",
    "    'max': 0.5,\n",
    "    'palette': ['white', 'orange', 'red']  # Palette de couleurs pour visualiser l'écart type\n",
    "}\n",
    "\n",
    "# Créer une carte pour visualiser la moyenne et l'écart type\n",
    "Map_stats = geemap.Map(center=[12, -1], zoom=6)  # Initialiser la carte centrée sur des coordonnées spécifiques\n",
    "Map_stats.addLayer(moyenne_raster, vis_params_moyenne, 'Moyenne Taux Malaria (2000-2022)')  # Ajouter la couche de moyenne\n",
    "Map_stats.addLayer(ecart_type_raster, vis_params_ecart_type, 'Ecart Type Taux Malaria (2000-2022)')  # Ajouter la couche d'écart type\n",
    "\n",
    "# Ajouter des barres de couleur pour les deux couches\n",
    "Map_stats.add_colorbar(vis_params=vis_params_moyenne, label=\"Moyenne des valeurs des pixels\")  # Légende pour la moyenne\n",
    "Map_stats.add_colorbar(vis_params=vis_params_ecart_type, label=\"Ecart Type des valeurs des pixels\")  # Légende pour l'écart type\n",
    "\n",
    "# Afficher la carte\n",
    "Map_stats\n"
   ]
  },
  {
   "cell_type": "code",
   "execution_count": 13,
   "id": "27b6c9a8-5165-4131-a053-1820ac44037c",
   "metadata": {},
   "outputs": [
    {
     "data": {
      "text/html": [
       "\n",
       "            <style>\n",
       "                .geemap-dark {\n",
       "                    --jp-widgets-color: white;\n",
       "                    --jp-widgets-label-color: white;\n",
       "                    --jp-ui-font-color1: white;\n",
       "                    --jp-layout-color2: #454545;\n",
       "                    background-color: #383838;\n",
       "                }\n",
       "\n",
       "                .geemap-dark .jupyter-button {\n",
       "                    --jp-layout-color3: #383838;\n",
       "                }\n",
       "\n",
       "                .geemap-colab {\n",
       "                    background-color: var(--colab-primary-surface-color, white);\n",
       "                }\n",
       "\n",
       "                .geemap-colab .jupyter-button {\n",
       "                    --jp-layout-color3: var(--colab-primary-surface-color, white);\n",
       "                }\n",
       "            </style>\n",
       "            "
      ],
      "text/plain": [
       "<IPython.core.display.HTML object>"
      ]
     },
     "metadata": {},
     "output_type": "display_data"
    },
    {
     "data": {
      "application/vnd.jupyter.widget-view+json": {
       "model_id": "34d25104f0c741cd9e1b9f3c570b3858",
       "version_major": 2,
       "version_minor": 0
      },
      "text/plain": [
       "Map(center=[12, -1], controls=(WidgetControl(options=['position', 'transparent_bg'], widget=SearchDataGUI(chil…"
      ]
     },
     "execution_count": 13,
     "metadata": {},
     "output_type": "execute_result"
    }
   ],
   "source": [
    "# 2. Représenter la situation de chaque pixel en 2020, 2021 et 2022\n",
    "# ------------------------\n",
    "\n",
    "\n",
    "# Fonction pour représenter la situation de chaque pixel pour une année donnée\n",
    "def representer_situation(annee):\n",
    "    # Importer l'image raster pour l'année spécifiée\n",
    "    image = importation_rasters(annee)\n",
    "    \n",
    "    # Calculer l'indicateur de situation par pixel\n",
    "    # Catégories : \n",
    "    # - Aucune situation grave (valeur < moyenne + écart type)\n",
    "    # - Situation modérée (moyenne + écart type <= valeur < moyenne + 2 * écart type)\n",
    "    # - Crise (valeur >= moyenne + 2 * écart type)\n",
    "    situation = image.expression(\n",
    "        \"(b('b1') < moyenne + ecart_type) ? 1 : (b('b1') < moyenne + 2 * ecart_type) ? 2 : 3\",\n",
    "        {\n",
    "            'b1': image,\n",
    "            'moyenne': moyenne_raster,\n",
    "            'ecart_type': ecart_type_raster\n",
    "        }\n",
    "    )\n",
    "    \n",
    "    # Clipper l'image à la frontière géographique de la région d'intérêt\n",
    "    return situation.clip(ee.FeatureCollection(\"projects/ee-senemalick123450/assets/geoBoundaries-NER-ADM0\"))\n",
    "\n",
    "# Créer une carte pour représenter les situations en 2020, 2021 et 2022\n",
    "Map_situations = geemap.Map(center=[12, -1], zoom=6)\n",
    "\n",
    "# Récupérer les images pour les années 2020, 2021 et 2022\n",
    "situation_2020 = representer_situation(2020)\n",
    "situation_2021 = representer_situation(2021)\n",
    "situation_2022 = representer_situation(2022)\n",
    "\n",
    "# Ajouter les images à la carte avec des paramètres de visualisation\n",
    "vis_params_situation = {\n",
    "    'min': 1,\n",
    "    'max': 3,\n",
    "    'palette': ['green', 'yellow', 'red']  # 1: aucune situation grave, 2: modérée, 3: crise\n",
    "}\n",
    "\n",
    "Map_situations.addLayer(situation_2020, vis_params_situation, 'Situation 2020')\n",
    "Map_situations.addLayer(situation_2021, vis_params_situation, 'Situation 2021')\n",
    "Map_situations.addLayer(situation_2022, vis_params_situation, 'Situation 2022')\n",
    "\n",
    "# Créer un widget HTML pour la légende de la carte\n",
    "legend_html = \"\"\"\n",
    "    <div style='padding: 10px; background-color: white; border-radius: 5px;'>\n",
    "        <h4>Indicateur de Situation (2020-2022)</h4>\n",
    "        <p style='margin: 0'><span style='color: green;'>⬤</span> Aucune situation grave</p>\n",
    "        <p style='margin: 0'><span style='color: yellow;'>⬤</span> Situation modérée</p>\n",
    "        <p style='margin: 0'><span style='color: red;'>⬤</span> Crise</p>\n",
    "    </div>\n",
    "\"\"\"\n",
    "# Créer le widget HTML pour la légende\n",
    "legend_widget = HTML(value=legend_html)\n",
    "\n",
    "# Ajouter le widget de légende à la carte\n",
    "legend_control = WidgetControl(widget=legend_widget, position=\"topright\")\n",
    "Map_situations.add_control(legend_control)\n",
    "\n",
    "# Afficher la carte\n",
    "Map_situations\n"
   ]
  },
  {
   "cell_type": "code",
   "execution_count": 14,
   "id": "a4d2b706-ae00-48fb-85cc-2d244e1258f1",
   "metadata": {},
   "outputs": [
    {
     "data": {
      "text/html": [
       "\n",
       "            <style>\n",
       "                .geemap-dark {\n",
       "                    --jp-widgets-color: white;\n",
       "                    --jp-widgets-label-color: white;\n",
       "                    --jp-ui-font-color1: white;\n",
       "                    --jp-layout-color2: #454545;\n",
       "                    background-color: #383838;\n",
       "                }\n",
       "\n",
       "                .geemap-dark .jupyter-button {\n",
       "                    --jp-layout-color3: #383838;\n",
       "                }\n",
       "\n",
       "                .geemap-colab {\n",
       "                    background-color: var(--colab-primary-surface-color, white);\n",
       "                }\n",
       "\n",
       "                .geemap-colab .jupyter-button {\n",
       "                    --jp-layout-color3: var(--colab-primary-surface-color, white);\n",
       "                }\n",
       "            </style>\n",
       "            "
      ],
      "text/plain": [
       "<IPython.core.display.HTML object>"
      ]
     },
     "metadata": {},
     "output_type": "display_data"
    },
    {
     "data": {
      "application/vnd.jupyter.widget-view+json": {
       "model_id": "b18b8e9a9ea34ef293bdb615f4a31fd5",
       "version_major": 2,
       "version_minor": 0
      },
      "text/plain": [
       "Map(center=[12, -1], controls=(WidgetControl(options=['position', 'transparent_bg'], widget=SearchDataGUI(chil…"
      ]
     },
     "execution_count": 14,
     "metadata": {},
     "output_type": "execute_result"
    }
   ],
   "source": [
    "# Importer le raster pour l'année 2022\n",
    "raster_2022 = importation_rasters(2022)\n",
    "\n",
    "# Calculer l'indicateur de situation par pixel pour 2022\n",
    "situation_2022 = representer_situation(2022)\n",
    "\n",
    "# Masquer les autres zones en laissant seulement les taux de malaria pour chaque situation\n",
    "taux_aucune_situation = raster_2022.updateMask(situation_2022.eq(1))  # Aucune situation grave\n",
    "taux_situation_moderee = raster_2022.updateMask(situation_2022.eq(2))  # Situation modérée\n",
    "taux_situation_crise = raster_2022.updateMask(situation_2022.eq(3))    # Crise\n",
    "\n",
    "# Calculer la population d'enfants pour chaque situation en multipliant les taux par la population d'enfants\n",
    "# population_enfants_2_10 représente la population totale d'enfants dans la plage d'âge souhaitée\n",
    "population_enfants_aucune_situation = population_enfants_2_10.multiply(taux_aucune_situation)\n",
    "population_enfants_situation_moderee = population_enfants_2_10.multiply(taux_situation_moderee)\n",
    "population_enfants_situation_crise = population_enfants_2_10.multiply(taux_situation_crise)\n",
    "\n",
    "# Paramètres de visualisation pour les cartes\n",
    "vis_params_population = {\n",
    "    'min': 0,\n",
    "    'max': 50,  # Ajuster selon les valeurs maximales de population dans les données\n",
    "    'palette': ['white', 'blue']  # Palette pour visualiser la population d'enfants\n",
    "}\n",
    "\n",
    "# Créer une carte pour visualiser les populations d'enfants dans chaque situation\n",
    "Map_population = geemap.Map(center=[12, -1], zoom=6)\n",
    "\n",
    "# Ajouter les couches pour chaque situation\n",
    "Map_population.addLayer(population_enfants_aucune_situation, vis_params_population, 'Aucune Situation Grave')\n",
    "Map_population.addLayer(population_enfants_situation_moderee, vis_params_population, 'Situation Modérée')\n",
    "Map_population.addLayer(population_enfants_situation_crise, vis_params_population, 'Crise')\n",
    "\n",
    "# Afficher la carte\n",
    "Map_population\n"
   ]
  },
  {
   "cell_type": "code",
   "execution_count": 16,
   "id": "eb9b1f25-043d-4c45-beec-8954596fc77a",
   "metadata": {},
   "outputs": [
    {
     "data": {
      "text/html": [
       "\n",
       "            <style>\n",
       "                .geemap-dark {\n",
       "                    --jp-widgets-color: white;\n",
       "                    --jp-widgets-label-color: white;\n",
       "                    --jp-ui-font-color1: white;\n",
       "                    --jp-layout-color2: #454545;\n",
       "                    background-color: #383838;\n",
       "                }\n",
       "\n",
       "                .geemap-dark .jupyter-button {\n",
       "                    --jp-layout-color3: #383838;\n",
       "                }\n",
       "\n",
       "                .geemap-colab {\n",
       "                    background-color: var(--colab-primary-surface-color, white);\n",
       "                }\n",
       "\n",
       "                .geemap-colab .jupyter-button {\n",
       "                    --jp-layout-color3: var(--colab-primary-surface-color, white);\n",
       "                }\n",
       "            </style>\n",
       "            "
      ],
      "text/plain": [
       "<IPython.core.display.HTML object>"
      ]
     },
     "metadata": {},
     "output_type": "display_data"
    },
    {
     "name": "stdout",
     "output_type": "stream",
     "text": [
      "Les fichiers CSV pour chaque situation et niveau administratif ont été exportés avec succès.\n"
     ]
    }
   ],
   "source": [
    "\n",
    "\n",
    "# Initialiser Google Earth Engine\n",
    "ee.Initialize()\n",
    "\n",
    "# Fonction pour calculer la population d'enfants dans chaque situation pour un niveau administratif\n",
    "def calculer_population_enfants_par_zone(admin_feature, population_enfants_situation):\n",
    "    pop_totale = population_enfants_situation.reduceRegion(\n",
    "        reducer=ee.Reducer.sum(),\n",
    "        geometry=admin_feature.geometry(),\n",
    "        scale=population_enfants_situation.projection().nominalScale(),\n",
    "        maxPixels=1e13\n",
    "    ).get('b1')  # 'b1' est la bande par défaut pour les données de population\n",
    "\n",
    "    # Créer un Feature avec l'ID de la zone et le nombre d'enfants atteints\n",
    "    return ee.Feature(None, {\n",
    "        'ID': admin_feature.get('shapeID'),  # 'shapeID' représente l'identifiant de la zone, à adapter selon le cas\n",
    "        'Enfants_Atteints': pop_totale\n",
    "    })\n",
    "\n",
    "# Calculer le nombre d'enfants atteints pour chaque situation et chaque niveau administratif\n",
    "# Aucune situation grave\n",
    "population_enfants_aucune_pays = pays.map(lambda feature: calculer_population_enfants_par_zone(feature, population_enfants_aucune_situation))\n",
    "population_enfants_aucune_regions = regions.map(lambda feature: calculer_population_enfants_par_zone(feature, population_enfants_aucune_situation))\n",
    "population_enfants_aucune_departements = departements.map(lambda feature: calculer_population_enfants_par_zone(feature, population_enfants_aucune_situation))\n",
    "population_enfants_aucune_communes = communes.map(lambda feature: calculer_population_enfants_par_zone(feature, population_enfants_aucune_situation))\n",
    "\n",
    "# Situation modérée\n",
    "population_enfants_moderee_pays = pays.map(lambda feature: calculer_population_enfants_par_zone(feature, population_enfants_situation_moderee))\n",
    "population_enfants_moderee_regions = regions.map(lambda feature: calculer_population_enfants_par_zone(feature, population_enfants_situation_moderee))\n",
    "population_enfants_moderee_departements = departements.map(lambda feature: calculer_population_enfants_par_zone(feature, population_enfants_situation_moderee))\n",
    "population_enfants_moderee_communes = communes.map(lambda feature: calculer_population_enfants_par_zone(feature, population_enfants_situation_moderee))\n",
    "\n",
    "# Crise\n",
    "population_enfants_crise_pays = pays.map(lambda feature: calculer_population_enfants_par_zone(feature, population_enfants_situation_crise))\n",
    "population_enfants_crise_regions = regions.map(lambda feature: calculer_population_enfants_par_zone(feature, population_enfants_situation_crise))\n",
    "population_enfants_crise_departements = departements.map(lambda feature: calculer_population_enfants_par_zone(feature, population_enfants_situation_crise))\n",
    "population_enfants_crise_communes = communes.map(lambda feature: calculer_population_enfants_par_zone(feature, population_enfants_situation_crise))\n",
    "\n",
    "# Fonction pour convertir une FeatureCollection en dictionnaire pour extraire les ID et Enfants_Atteints\n",
    "def features_to_dict(feature_collection):\n",
    "    ids = feature_collection.aggregate_array('ID').getInfo()\n",
    "    enfants_atteints = feature_collection.aggregate_array('Enfants_Atteints').getInfo()\n",
    "    return [{'ID': id, 'Enfants_Atteints': enfants} for id, enfants in zip(ids, enfants_atteints)]\n",
    "\n",
    "# Extraire et exporter les données pour chaque niveau administratif et chaque situation\n",
    "\n",
    "# Aucune situation grave\n",
    "data_aucune_pays = features_to_dict(population_enfants_aucune_pays)\n",
    "data_aucune_regions = features_to_dict(population_enfants_aucune_regions)\n",
    "data_aucune_departements = features_to_dict(population_enfants_aucune_departements)\n",
    "data_aucune_communes = features_to_dict(population_enfants_aucune_communes)\n",
    "\n",
    "# Situation modérée\n",
    "data_moderee_pays = features_to_dict(population_enfants_moderee_pays)\n",
    "data_moderee_regions = features_to_dict(population_enfants_moderee_regions)\n",
    "data_moderee_departements = features_to_dict(population_enfants_moderee_departements)\n",
    "data_moderee_communes = features_to_dict(population_enfants_moderee_communes)\n",
    "\n",
    "# Crise\n",
    "data_crise_pays = features_to_dict(population_enfants_crise_pays)\n",
    "data_crise_regions = features_to_dict(population_enfants_crise_regions)\n",
    "data_crise_departements = features_to_dict(population_enfants_crise_departements)\n",
    "data_crise_communes = features_to_dict(population_enfants_crise_communes)\n",
    "\n",
    "# Convertir les données en DataFrames et exporter chaque DataFrame en CSV\n",
    "# Aucune situation grave\n",
    "pd.DataFrame(data_aucune_pays).to_csv('population_enfants_aucune_situation_pays.csv', index=False)\n",
    "pd.DataFrame(data_aucune_regions).to_csv('population_enfants_aucune_situation_regions.csv', index=False)\n",
    "pd.DataFrame(data_aucune_departements).to_csv('population_enfants_aucune_situation_departements.csv', index=False)\n",
    "pd.DataFrame(data_aucune_communes).to_csv('population_enfants_aucune_situation_communes.csv', index=False)\n",
    "\n",
    "# Situation modérée\n",
    "pd.DataFrame(data_moderee_pays).to_csv('population_enfants_moderee_pays.csv', index=False)\n",
    "pd.DataFrame(data_moderee_regions).to_csv('population_enfants_moderee_regions.csv', index=False)\n",
    "pd.DataFrame(data_moderee_departements).to_csv('population_enfants_moderee_departements.csv', index=False)\n",
    "pd.DataFrame(data_moderee_communes).to_csv('population_enfants_moderee_communes.csv', index=False)\n",
    "\n",
    "# Crise\n",
    "pd.DataFrame(data_crise_pays).to_csv('population_enfants_crise_pays.csv', index=False)\n",
    "pd.DataFrame(data_crise_regions).to_csv('population_enfants_crise_regions.csv', index=False)\n",
    "pd.DataFrame(data_crise_departements).to_csv('population_enfants_crise_departements.csv', index=False)\n",
    "pd.DataFrame(data_crise_communes).to_csv('population_enfants_crise_communes.csv', index=False)\n",
    "\n",
    "print(\"Les fichiers CSV pour chaque situation et niveau administratif ont été exportés avec succès.\")\n"
   ]
  },
  {
   "cell_type": "code",
   "execution_count": 17,
   "id": "98e047a9-66e3-4d12-a66b-e225f1a794ba",
   "metadata": {},
   "outputs": [
    {
     "data": {
      "text/html": [
       "\n",
       "            <style>\n",
       "                .geemap-dark {\n",
       "                    --jp-widgets-color: white;\n",
       "                    --jp-widgets-label-color: white;\n",
       "                    --jp-ui-font-color1: white;\n",
       "                    --jp-layout-color2: #454545;\n",
       "                    background-color: #383838;\n",
       "                }\n",
       "\n",
       "                .geemap-dark .jupyter-button {\n",
       "                    --jp-layout-color3: #383838;\n",
       "                }\n",
       "\n",
       "                .geemap-colab {\n",
       "                    background-color: var(--colab-primary-surface-color, white);\n",
       "                }\n",
       "\n",
       "                .geemap-colab .jupyter-button {\n",
       "                    --jp-layout-color3: var(--colab-primary-surface-color, white);\n",
       "                }\n",
       "            </style>\n",
       "            "
      ],
      "text/plain": [
       "<IPython.core.display.HTML object>"
      ]
     },
     "metadata": {},
     "output_type": "display_data"
    },
    {
     "name": "stdout",
     "output_type": "stream",
     "text": [
      "Les taux d'enfants atteints de malaria pour 'aucune situation grave' ont été exportés avec succès.\n"
     ]
    }
   ],
   "source": [
    "\n",
    "# Fonction pour calculer la population totale d'enfants par zone administrative\n",
    "def calculer_population_totale_par_zone(admin_feature, population_enfants):\n",
    "    pop_totale = population_enfants.reduceRegion(\n",
    "        reducer=ee.Reducer.sum(),\n",
    "        geometry=admin_feature.geometry(),\n",
    "        scale=population_enfants.projection().nominalScale(),\n",
    "        maxPixels=1e13\n",
    "    ).get('b1')  # 'b1' est la bande par défaut pour les données de population\n",
    "\n",
    "    # Créer un Feature avec l'ID de la zone et la population totale d'enfants\n",
    "    return ee.Feature(None, {\n",
    "        'ID': admin_feature.get('shapeID'),  # 'shapeID' représente l'identifiant de la zone\n",
    "        'Population_Enfants': pop_totale\n",
    "    })\n",
    "\n",
    "# Calculer la population totale d'enfants pour chaque niveau administratif\n",
    "population_totale_pays = pays.map(lambda feature: calculer_population_totale_par_zone(feature, population_enfants_2_10))\n",
    "population_totale_regions = regions.map(lambda feature: calculer_population_totale_par_zone(feature, population_enfants_2_10))\n",
    "population_totale_departements = departements.map(lambda feature: calculer_population_totale_par_zone(feature, population_enfants_2_10))\n",
    "population_totale_communes = communes.map(lambda feature: calculer_population_totale_par_zone(feature, population_enfants_2_10))\n",
    "\n",
    "# Fonction pour calculer le taux en fonction des enfants atteints et de la population totale\n",
    "def calculer_taux_par_zone(enfants_atteints_feature, population_totale_feature):\n",
    "    id_zone = enfants_atteints_feature.get('ID')\n",
    "    enfants_atteints = ee.Number(enfants_atteints_feature.get('Enfants_Atteints'))\n",
    "    population_totale = ee.Number(population_totale_feature.get('Population_Enfants'))\n",
    "    \n",
    "    taux = enfants_atteints.divide(population_totale).multiply(100)\n",
    "    return ee.Feature(None, {\n",
    "        'ID': id_zone,\n",
    "        'Taux_Enfants_Atteints': taux\n",
    "    })\n",
    "\n",
    "# Appliquer la fonction de taux pour chaque situation et niveau administratif\n",
    "\n",
    "# Exemple pour \"Aucune situation grave\" pour les niveaux administratifs\n",
    "taux_aucune_pays = population_enfants_aucune_pays.map(lambda feature: calculer_taux_par_zone(feature, population_totale_pays.filter(ee.Filter.eq('ID', feature.get('ID'))).first()))\n",
    "taux_aucune_regions = population_enfants_aucune_regions.map(lambda feature: calculer_taux_par_zone(feature, population_totale_regions.filter(ee.Filter.eq('ID', feature.get('ID'))).first()))\n",
    "taux_aucune_departements = population_enfants_aucune_departements.map(lambda feature: calculer_taux_par_zone(feature, population_totale_departements.filter(ee.Filter.eq('ID', feature.get('ID'))).first()))\n",
    "taux_aucune_communes = population_enfants_aucune_communes.map(lambda feature: calculer_taux_par_zone(feature, population_totale_communes.filter(ee.Filter.eq('ID', feature.get('ID'))).first()))\n",
    "\n",
    "# Convertir les résultats en DataFrames et exporter au format CSV\n",
    "def taux_to_dict(feature_collection):\n",
    "    ids = feature_collection.aggregate_array('ID').getInfo()\n",
    "    taux = feature_collection.aggregate_array('Taux_Enfants_Atteints').getInfo()\n",
    "    return [{'ID': id, 'Taux_Enfants_Atteints': t} for id, t in zip(ids, taux)]\n",
    "\n",
    "# Extraire les données pour chaque niveau administratif et exporter les résultats en CSV\n",
    "data_taux_aucune_pays = taux_to_dict(taux_aucune_pays)\n",
    "data_taux_aucune_regions = taux_to_dict(taux_aucune_regions)\n",
    "data_taux_aucune_departements = taux_to_dict(taux_aucune_departements)\n",
    "data_taux_aucune_communes = taux_to_dict(taux_aucune_communes)\n",
    "\n",
    "# Exporter chaque DataFrame en CSV\n",
    "pd.DataFrame(data_taux_aucune_pays).to_csv('taux_enfants_aucune_situation_pays.csv', index=False)\n",
    "pd.DataFrame(data_taux_aucune_regions).to_csv('taux_enfants_aucune_situation_regions.csv', index=False)\n",
    "pd.DataFrame(data_taux_aucune_departements).to_csv('taux_enfants_aucune_situation_departements.csv', index=False)\n",
    "pd.DataFrame(data_taux_aucune_communes).to_csv('taux_enfants_aucune_situation_communes.csv', index=False)\n",
    "\n",
    "print(\"Les taux d'enfants atteints de malaria pour 'aucune situation grave' ont été exportés avec succès.\")\n"
   ]
  }
 ],
 "metadata": {
  "kernelspec": {
   "display_name": "Python (gee)",
   "language": "python",
   "name": "gee"
  },
  "language_info": {
   "codemirror_mode": {
    "name": "ipython",
    "version": 3
   },
   "file_extension": ".py",
   "mimetype": "text/x-python",
   "name": "python",
   "nbconvert_exporter": "python",
   "pygments_lexer": "ipython3",
   "version": "3.8.20"
  }
 },
 "nbformat": 4,
 "nbformat_minor": 5
}
