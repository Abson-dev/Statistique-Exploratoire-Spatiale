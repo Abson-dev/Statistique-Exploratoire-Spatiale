{
 "cells": [
  {
   "cell_type": "markdown",
   "id": "e14167dc-a71f-4c17-ad37-bafa12136bf4",
   "metadata": {},
   "source": [
    "         ECOLE NATIONALE DE LA STATISTIQUE ET DE L'ANALYSE ECONOMIQUE PIERRE NDIAYE     \n",
    "            COURS DE STATISTIQUES EXPLORATOIRE ET SPATIALE - ISE1_CYCLE LONG          \n",
    "                            ENSEIGNANT: MR HEMA                                     \n",
    "                      TP5_GOOGLE EARTH ENGINE AVEC PYTHON                            \n",
    "                     MEMBRES: FOGWOUNG DJOUFACK SARAH-LAURE                         \n",
    "                              NGUEMFOUO NGOUMTSA CELINA                            \n",
    "                              NIASS AHMADOU                                       \n",
    "                              SENE MALICK                                        "
   ]
  },
  {
   "cell_type": "markdown",
   "id": "e10d0d3f-64f2-406b-9f4b-3667bd533ed8",
   "metadata": {},
   "source": [
    "  Consigne du TP :\n",
    "  \n",
    "  - Importer les fichiers\n",
    "  - Visualiser le raster Worldpop Sénégal \n",
    "  - Calculer le nombre de personnes par admin et exporter sous format .csv\n",
    "  - Ramener le raster population à 5km\n",
    "  - Visualiser le nouveau raster de la population avec un choix de couleur approprié\n",
    "  - A partir du nouveau raster de la population, calculer un nouveau raster en le multipliant par 0.1%(qui est supposé représenté le nombre d'enfants de 0 à 12 ans)\n",
    "  - Compter le nombre d'enfants dans chacune des classifications qu'on avait avec la raster de la malaria\n",
    "  - Calculer le nombre d'enfants atteints de malaria par admin(0-3) et exporter\n",
    "  - Calcul du taux d'enfants atteints de malaria par admin (0-3)\n"
   ]
  },
  {
   "cell_type": "code",
   "execution_count": 1,
   "id": "2b669d11-576f-4055-a365-62a56232bb56",
   "metadata": {},
   "outputs": [
    {
     "name": "stdout",
     "output_type": "stream",
     "text": [
      "DONE\n"
     ]
    }
   ],
   "source": [
    "############   STEP1: Importation des packages   ############\n",
    "\n",
    "import ee  # c'est la bibliothèque Python qui permet d'accéder à l'API de Google Earth Engine\n",
    "import geemap # Elle permet de créer et visualiser des cartes interactives basées sur des données GEE.\n",
    "import pandas as pd # Elle permet la manipulation et l’analyse généralement pour des données tabulaires\n",
    "from ipyleaflet import ImageOverlay # Permet d'ajouter des images en superposition (overlay) sur une carte interactive Leaflet.\n",
    "from ipyleaflet import WidgetControl # Toujours pour une meilleure visualisation des cartes: permettant d’ajouter des widgets interactifs tels des boutons et champs de texte; sur des cartes.\n",
    "from ipywidgets import VBox, HTML\n",
    "# Toujours pour l'aspect visuel,VBox permet d'organiser en colonne des éléments qu'on aura empiler en parametres dans VBox\n",
    "# et HTML c'est juste pour la mise en forme des textes (couleurs, gras, italique ...)\n",
    "\n",
    "\n",
    "# Authentification et initialisation Google Earth Engine\n",
    "ee.Authenticate()  # Ceci permet de gérer le processus d'authentification pour accéder à Google Earth Engine.\n",
    "ee.Initialize()   # Initialise l'instance Earth Engine pour permettre certaines opérations qu'on fera par la suite\n",
    "\n",
    "print(\"DONE\") # Juste pour savoir quand ca aura finit d'éxecuter "
   ]
  },
  {
   "cell_type": "code",
   "execution_count": 3,
   "id": "3778f6f9-41ae-495c-9e56-bf6799aa0671",
   "metadata": {},
   "outputs": [
    {
     "data": {
      "text/html": [
       "\n",
       "            <style>\n",
       "                .geemap-dark {\n",
       "                    --jp-widgets-color: white;\n",
       "                    --jp-widgets-label-color: white;\n",
       "                    --jp-ui-font-color1: white;\n",
       "                    --jp-layout-color2: #454545;\n",
       "                    background-color: #383838;\n",
       "                }\n",
       "\n",
       "                .geemap-dark .jupyter-button {\n",
       "                    --jp-layout-color3: #383838;\n",
       "                }\n",
       "\n",
       "                .geemap-colab {\n",
       "                    background-color: var(--colab-primary-surface-color, white);\n",
       "                }\n",
       "\n",
       "                .geemap-colab .jupyter-button {\n",
       "                    --jp-layout-color3: var(--colab-primary-surface-color, white);\n",
       "                }\n",
       "            </style>\n",
       "            "
      ],
      "text/plain": [
       "<IPython.core.display.HTML object>"
      ]
     },
     "metadata": {},
     "output_type": "display_data"
    },
    {
     "name": "stdout",
     "output_type": "stream",
     "text": [
      "Nombre de géométries (pays) : 1\n",
      "CRS du shapefile du pays : {'type': 'Projection', 'crs': 'EPSG:4326', 'transform': [1, 0, 0, 0, 1, 0]}\n",
      "Extent (limites) du pays : {'geodesic': False, 'type': 'Polygon', 'coordinates': [[[0.16666781762811478, 11.691999274801383], [15.996668338772286, 11.691999274801383], [15.996668338772286, 23.517178579212032], [0.16666781762811478, 23.517178579212032], [0.16666781762811478, 11.691999274801383]]]}\n",
      "Nombre de géométries (regions) : 6\n"
     ]
    },
    {
     "data": {
      "application/vnd.jupyter.widget-view+json": {
       "model_id": "f31b1520ab444160826393f60b6f2977",
       "version_major": 2,
       "version_minor": 0
      },
      "text/plain": [
       "Map(center=[17.413175629395553, 9.346513612635333], controls=(WidgetControl(options=['position', 'transparent_…"
      ]
     },
     "execution_count": 3,
     "metadata": {},
     "output_type": "execute_result"
    }
   ],
   "source": [
    "############   STEP2: Importation des données vectorielles - caractéristiques et visualisation  ############\n",
    "\n",
    "# Créons une carte interactive pour afficher les données vectorielles et raster\n",
    "Map = geemap.Map() # Initialise un objet de carte interactive pour afficher les couches de données géospatiales.\n",
    "\n",
    "# Importons et visualisons les données sur la population\n",
    "# Importer les données de shapefiles pour les différents niveaux administratifs du Niger\n",
    "pays = ee.FeatureCollection(\"projects/ee-senemalick123450/assets/geoBoundaries-NER-ADM0\")  # Niveau pays\n",
    "regions = ee.FeatureCollection(\"projects/ee-senemalick123450/assets/geoBoundaries-NER-ADM1\")  # Niveau régions\n",
    "departements = ee.FeatureCollection(\"projects/ee-senemalick123450/assets/geoBoundaries-NER-ADM2\")  # Niveau départements\n",
    "communes = ee.FeatureCollection(\"projects/ee-senemalick123450/assets/geoBoundaries-NER-ADM3\")  # Niveau communes\n",
    "\n",
    "# Calculs statistiques : récupérer et afficher des informations pour le niveau pays\n",
    "country_count = pays.size().getInfo()  # Obtenir le nombre de géométries dans le shapefile des pays\n",
    "print(f'Nombre de géométries (pays) : {country_count}')\n",
    "\n",
    "crs_country = pays.first().geometry().projection().getInfo()  # Obtenir le système de coordonnées (CRS) du shapefile\n",
    "print(f'CRS du shapefile du pays : {crs_country}')\n",
    "\n",
    "extent_country = pays.geometry().bounds().getInfo()  # Obtenir les limites géographiques du shapefile\n",
    "print(f'Extent (limites) du pays : {extent_country}')\n",
    "\n",
    "# Calculs statistiques : récupérer et afficher des informations pour le niveau régions\n",
    "regions_count = regions.size().getInfo()  # Obtenir le nombre de géométries dans le shapefile des pays\n",
    "print(f'Nombre de géométries (regions) : {regions_count}')\n",
    "\n",
    "# Visualisation des shapefiles : ajouter le shapefile du niveau pays sur la carte\n",
    "Map.addLayer(pays, {}, 'Pays')  # Ajouter le layer du pays sans style spécifique\n",
    "Map.addLayer(regions, {}, 'Regions') # Ajouter le layer des régions sans style spécifique\n",
    "Map.centerObject(pays, 6)  # Centrer la vue sur le shapefile du pays avec un niveau de zoom de 6\n",
    "Map"
   ]
  },
  {
   "cell_type": "code",
   "execution_count": 4,
   "id": "faf36bff-a401-4f2c-816f-df0c9d3f0fc9",
   "metadata": {},
   "outputs": [
    {
     "data": {
      "text/html": [
       "\n",
       "            <style>\n",
       "                .geemap-dark {\n",
       "                    --jp-widgets-color: white;\n",
       "                    --jp-widgets-label-color: white;\n",
       "                    --jp-ui-font-color1: white;\n",
       "                    --jp-layout-color2: #454545;\n",
       "                    background-color: #383838;\n",
       "                }\n",
       "\n",
       "                .geemap-dark .jupyter-button {\n",
       "                    --jp-layout-color3: #383838;\n",
       "                }\n",
       "\n",
       "                .geemap-colab {\n",
       "                    background-color: var(--colab-primary-surface-color, white);\n",
       "                }\n",
       "\n",
       "                .geemap-colab .jupyter-button {\n",
       "                    --jp-layout-color3: var(--colab-primary-surface-color, white);\n",
       "                }\n",
       "            </style>\n",
       "            "
      ],
      "text/plain": [
       "<IPython.core.display.HTML object>"
      ]
     },
     "metadata": {},
     "output_type": "display_data"
    },
    {
     "name": "stdout",
     "output_type": "stream",
     "text": [
      "Taille des pixels du raster de population : 92.76624195800512 mètres\n"
     ]
    },
    {
     "data": {
      "application/vnd.jupyter.widget-view+json": {
       "model_id": "f31b1520ab444160826393f60b6f2977",
       "version_major": 2,
       "version_minor": 0
      },
      "text/plain": [
       "Map(bottom=7687.0, center=[17.413175629395553, 9.346513612635333], controls=(WidgetControl(options=['position'…"
      ]
     },
     "execution_count": 4,
     "metadata": {},
     "output_type": "execute_result"
    }
   ],
   "source": [
    "############   STEP3: Données Raster - Visualisation de la population  ############\n",
    "# Charger un raster de population (ex. WorldPop ou une source de données de population pour le Niger)\n",
    "population_raster = ee.Image(\"projects/ee-senemalick123450/assets/NER_population_v1_0_gridded\")\n",
    "\n",
    "# Ajouter le raster de population à la carte avec une palette de couleurs pour représenter les densités de population\n",
    "palette = ['ffffcc', 'c2e699', '78c679', '31a354', '006837']  # Palette de couleurs allant du clair au foncé pour illustrer les variations de densité\n",
    "Map.addLayer(population_raster, {'palette': palette, 'min': 0}, 'Population')  # Définir la palette et les valeurs min de population\n",
    "\n",
    "# Vérifier la résolution spatiale du raster en obtenant la taille des pixels\n",
    "pixel_size = population_raster.projection().nominalScale().getInfo()  # Obtenir la résolution (taille des pixels en mètres)\n",
    "print(f\"Taille des pixels du raster de population : {pixel_size} mètres\")\n",
    "\n",
    "# Afficher la carte combinée (données vectorielles + données raster)\n",
    "Map  # Affiche la carte interactive avec les couches de données ajoutées\n"
   ]
  },
  {
   "cell_type": "code",
   "execution_count": 5,
   "id": "72343c21-37b5-4c3b-a297-eac98b576615",
   "metadata": {},
   "outputs": [
    {
     "data": {
      "text/html": [
       "\n",
       "            <style>\n",
       "                .geemap-dark {\n",
       "                    --jp-widgets-color: white;\n",
       "                    --jp-widgets-label-color: white;\n",
       "                    --jp-ui-font-color1: white;\n",
       "                    --jp-layout-color2: #454545;\n",
       "                    background-color: #383838;\n",
       "                }\n",
       "\n",
       "                .geemap-dark .jupyter-button {\n",
       "                    --jp-layout-color3: #383838;\n",
       "                }\n",
       "\n",
       "                .geemap-colab {\n",
       "                    background-color: var(--colab-primary-surface-color, white);\n",
       "                }\n",
       "\n",
       "                .geemap-colab .jupyter-button {\n",
       "                    --jp-layout-color3: var(--colab-primary-surface-color, white);\n",
       "                }\n",
       "            </style>\n",
       "            "
      ],
      "text/plain": [
       "<IPython.core.display.HTML object>"
      ]
     },
     "metadata": {},
     "output_type": "display_data"
    },
    {
     "name": "stdout",
     "output_type": "stream",
     "text": [
      "Population par pays: [{'ID': '22259449B93083360167036', 'Population': 23952653.819522373}]\n",
      "Population par régions: [{'ID': '87150794B58281898249288', 'Population': 5223641.030233014}, {'ID': '87150794B47488127174201', 'Population': 2858285.7677792907}, {'ID': '87150794B29979307394387', 'Population': 1318309.664393696}, {'ID': '87150794B24708462658640', 'Population': 3877415.9299788587}, {'ID': '87150794B5839560144768', 'Population': 4908233.966592702}, {'ID': '87150794B17606801029036', 'Population': 5856295.435560124}]\n",
      "Les fichiers CSV de population par niveau administratif ont été exportés avec succès.\n"
     ]
    }
   ],
   "source": [
    "############   STEP4: CALCUL DE LA POPULATION AVEC Taille de pixel= 100m  ############\n",
    "# Fonction pour calculer la population dans une zone administrative donnée\n",
    "def calculer_population_par_zone(admin_level, zone_name):\n",
    "    pop_totale = population_raster.reduceRegion(\n",
    "        reducer=ee.Reducer.sum(),  # Utilisation du réducteur de somme pour agréger la population dans la zone\n",
    "        geometry=admin_level.geometry(),  # Définition de la géométrie de la zone administrative\n",
    "        scale=population_raster.projection().nominalScale(),  # Échelle basée sur la résolution du raster de population\n",
    "        maxPixels=1e13  # Limite de pixels pour la réduction\n",
    "    ).get('b1')  # 'b1' correspond à la bande de population par défaut dans WorldPop\n",
    "\n",
    "    return ee.Feature(None, {'ID': zone_name, 'Population': pop_totale})  # Création d'une Feature avec l'ID de la zone et la population calculée\n",
    "\n",
    "# Calculer la population pour chaque niveau administratif en appliquant la fonction sur chaque Feature\n",
    "pop_pays = pays.map(lambda feature: calculer_population_par_zone(feature, feature.get('shapeID')))  # Population par pays\n",
    "pop_regions = regions.map(lambda feature: calculer_population_par_zone(feature, feature.get('shapeID')))  # Population par région\n",
    "pop_departements = departements.map(lambda feature: calculer_population_par_zone(feature, feature.get('shapeID')))  # Population par département\n",
    "pop_communes = communes.map(lambda feature: calculer_population_par_zone(feature, feature.get('shapeID')))  # Population par commune\n",
    "\n",
    "# Fonction pour convertir une FeatureCollection en dictionnaire avec les ID et les populations\n",
    "def features_to_dict(feature_collection):\n",
    "    ids = feature_collection.aggregate_array('ID').getInfo()  # Extraction des IDs de chaque Feature\n",
    "    populations = feature_collection.aggregate_array('Population').getInfo()  # Extraction des valeurs de population\n",
    "    return [{'ID': id, 'Population': pop} for id, pop in zip(ids, populations)]  # Construction d'une liste de dictionnaires avec les données\n",
    "\n",
    "# Obtenir les données sous forme de liste de dictionnaires pour chaque niveau administratif\n",
    "pop_pays_data = features_to_dict(pop_pays)  # Données pour les pays\n",
    "pop_regions_data = features_to_dict(pop_regions)  # Données pour les régions\n",
    "pop_departements_data = features_to_dict(pop_departements)  # Données pour les départements\n",
    "pop_communes_data = features_to_dict(pop_communes)  # Données pour les communes\n",
    "\n",
    "# Convertir les résultats en DataFrames pandas et les exporter en fichiers CSV\n",
    "pop_pays_df = pd.DataFrame(pop_pays_data)  # DataFrame pour les pays\n",
    "pop_regions_df = pd.DataFrame(pop_regions_data)  # DataFrame pour les régions\n",
    "pop_departements_df = pd.DataFrame(pop_departements_data)  # DataFrame pour les départements\n",
    "pop_communes_df = pd.DataFrame(pop_communes_data)  # DataFrame pour les communes\n",
    "\n",
    "# Exportation de chaque DataFrame au format CSV\n",
    "pop_pays_df.to_csv('population_par_pays.csv', index=False)  # Export des données de population par pays\n",
    "pop_regions_df.to_csv('population_par_regions.csv', index=False)  # Export des données de population par régions\n",
    "pop_departements_df.to_csv('population_par_departements.csv', index=False)  # Export des données de population par départements\n",
    "pop_communes_df.to_csv('population_par_communes.csv', index=False)  # Export des données de population par communes\n",
    "\n",
    "# Afficher les populations par niveau administratif dans la console\n",
    "print(\"Population par pays:\", pop_pays_data)\n",
    "print(\"Population par régions:\", pop_regions_data)\n",
    "#print(\"Population par départements:\", pop_departements_data)\n",
    "#print(\"Population par communes:\", pop_communes_data)\n",
    "\n",
    "# Message de confirmation\n",
    "print(\"Les fichiers CSV de population par niveau administratif ont été exportés avec succès.\")\n"
   ]
  },
  {
   "cell_type": "markdown",
   "id": "9969f019-dfa7-4786-85ed-02e41739e6c9",
   "metadata": {},
   "source": [
    "On est entrain d'aller à une taille de pixel beaucoup plus grande que celle qu'on avait. \n",
    "And remember what the teacher told when we were doing flexible scale: Grande taille de pixels\n",
    "implique plus basse résolution et donc moins de précision et de finesse et par conséquent, perte\n",
    "d'informations. \n"
   ]
  },
  {
   "cell_type": "code",
   "execution_count": 6,
   "id": "bf00c1b6-b367-46d4-acc5-09132ee080ca",
   "metadata": {},
   "outputs": [
    {
     "data": {
      "text/html": [
       "\n",
       "            <style>\n",
       "                .geemap-dark {\n",
       "                    --jp-widgets-color: white;\n",
       "                    --jp-widgets-label-color: white;\n",
       "                    --jp-ui-font-color1: white;\n",
       "                    --jp-layout-color2: #454545;\n",
       "                    background-color: #383838;\n",
       "                }\n",
       "\n",
       "                .geemap-dark .jupyter-button {\n",
       "                    --jp-layout-color3: #383838;\n",
       "                }\n",
       "\n",
       "                .geemap-colab {\n",
       "                    background-color: var(--colab-primary-surface-color, white);\n",
       "                }\n",
       "\n",
       "                .geemap-colab .jupyter-button {\n",
       "                    --jp-layout-color3: var(--colab-primary-surface-color, white);\n",
       "                }\n",
       "            </style>\n",
       "            "
      ],
      "text/plain": [
       "<IPython.core.display.HTML object>"
      ]
     },
     "metadata": {},
     "output_type": "display_data"
    },
    {
     "name": "stdout",
     "output_type": "stream",
     "text": [
      "Population totale initiale : 24112742.94720058\n",
      "Population totale après redimensionnement : 1242.0289919135337\n"
     ]
    }
   ],
   "source": [
    "############   STEP4: CALCUL DE LA POPULATION AVEC Taille de pixel= 5000m  ############\n",
    "# Définir la nouvelle résolution pour l'agrégation en mètres (ici, 5 km = 5000 mètres)\n",
    "nouvelle_resolution = 5000\n",
    "\n",
    "# Agréger les pixels du raster de population à la nouvelle résolution définie sans changer la population\n",
    "population_raster_5km = population_raster.reduceResolution(\n",
    "    reducer=ee.Reducer.sum(),  # Utiliser la somme pour agréger les valeurs de population dans chaque zone\n",
    "    maxPixels=65000\n",
    ").reproject(\n",
    "    crs=population_raster.projection(),  # Conserver le système de coordonnées d'origine du raster\n",
    "    scale=nouvelle_resolution  # Appliquer la nouvelle résolution de 5 km\n",
    ")\n",
    "\n",
    "# Calcul de la population totale avant et après redimensionnement pour vérifier que la population reste inchangée\n",
    "population_totale_initiale = population_raster.reduceRegion(\n",
    "    reducer=ee.Reducer.sum(),  # Agréger toutes les valeurs de population\n",
    "    geometry=population_raster.geometry(),  # Zone géographique du pays ou de la zone d'étude\n",
    "    scale=population_raster.projection().nominalScale(),  # Résolution d'origine du raster\n",
    "    maxPixels=1e13  # Limite de pixels pour éviter la surcharge de calcul\n",
    ").get('b1')\n",
    "\n",
    "population_totale_5km = population_raster_5km.reduceRegion(\n",
    "    reducer=ee.Reducer.sum(),  # Agréger toutes les valeurs de population après redimensionnement\n",
    "    geometry=population_raster.geometry(),  # Zone géographique\n",
    "    scale=nouvelle_resolution,  # Résolution de 5 km\n",
    "    maxPixels=1e13  # Limite de pixels pour éviter la surcharge de calcul\n",
    ").get('b1')\n",
    "\n",
    "# Afficher la population totale avant et après redimensionnement\n",
    "print(\"Population totale initiale :\", population_totale_initiale.getInfo())\n",
    "print(\"Population totale après redimensionnement :\", population_totale_5km.getInfo())\n"
   ]
  },
  {
   "cell_type": "markdown",
   "id": "31766e64-8639-44e8-9bec-24c519a6de80",
   "metadata": {},
   "source": [
    "ANOTHER WAY OF DOING: On utilisera des sommes pondérées \n",
    "REMEMBER THE GOAL: L'objectif est de calculer la population totale en considérant la nouvelle résolution (5 km) en partant de petits pixels de 100 m (notre résolution originale) , et s'assurer qu'on ne perd plus trop d'informations comme précédemment. Donc on doit s'assurer que la population dans chaque \"grande zone\" ( celles de 5km) est agrégée de manière juste, c'est-à-dire que chaque pixel contribue à la somme en fonction de sa taille et de sa densité de population.\n",
    "EXPLICATION STEP BY STEP DE LA METHODE QU'ON VA UTILISER: \n",
    "- Dans un premier temps, nous utilisons la méthode reduceResolution avec l'agrégateur ee.Reducer.sum() pour réduire la résolution du raster de 100m à 5 km: Cela signifie que plusieurs petits pixels (100 m) vont être combinés en un seul pixel de 5 km, toutefois  ce stde, les poids ou proportions de chaque pixel ne sont pas encore pris en compte.\n",
    "- Création d'un raster qui prendra en compte le poids de chaque pixel de 100m dans le grand pixel de 5km, puisqu'on sait que chaque pixel de 100m occupe une partie proportionnelle de la zone totale de 5 km: on utilisera la méthode (resample('bilinear'))\n",
    "- Pondération de la population avec les poids précédemment calculés: chaque valeur de population dans le raster de 100m est multipliée par le poids correspondant dans le poids_raster.\n",
    "- Une fois que chaque pixel de 100m a été multiplié par son poids, nous utilisons reduceRegion avec un réducteur de somme (ee.Reducer.sum()) pour agréger toutes les valeurs pondérées et obtenir la population totale dans chaque zone de 5 km. "
   ]
  },
  {
   "cell_type": "code",
   "execution_count": 7,
   "id": "559b2992-e69a-4bbd-8262-b91bfe64a4fa",
   "metadata": {},
   "outputs": [
    {
     "data": {
      "text/html": [
       "\n",
       "            <style>\n",
       "                .geemap-dark {\n",
       "                    --jp-widgets-color: white;\n",
       "                    --jp-widgets-label-color: white;\n",
       "                    --jp-ui-font-color1: white;\n",
       "                    --jp-layout-color2: #454545;\n",
       "                    background-color: #383838;\n",
       "                }\n",
       "\n",
       "                .geemap-dark .jupyter-button {\n",
       "                    --jp-layout-color3: #383838;\n",
       "                }\n",
       "\n",
       "                .geemap-colab {\n",
       "                    background-color: var(--colab-primary-surface-color, white);\n",
       "                }\n",
       "\n",
       "                .geemap-colab .jupyter-button {\n",
       "                    --jp-layout-color3: var(--colab-primary-surface-color, white);\n",
       "                }\n",
       "            </style>\n",
       "            "
      ],
      "text/plain": [
       "<IPython.core.display.HTML object>"
      ]
     },
     "metadata": {},
     "output_type": "display_data"
    },
    {
     "name": "stdout",
     "output_type": "stream",
     "text": [
      "Population totale initiale : 24112742.94720058\n",
      "Population totale après agrégation pondérée : 225659.7769373142\n"
     ]
    }
   ],
   "source": [
    "# Définir la nouvelle résolution (ici 5 km)\n",
    "nouvelle_resolution = 5000  # 5 km\n",
    "\n",
    "# 2. Maintenant, pour ajuster la population en fonction des poids, nous allons créer un raster qui\n",
    "# représente la surface de chaque pixel de 100m dans une zone de 5 km.\n",
    "# On calcule la proportion de chaque pixel dans la zone de 5 km.\n",
    "# Calculer la surface du pixel dans chaque zone de 5 km (le poids est basé sur la surface relative).\n",
    "\n",
    "# Créer un raster de poids basé sur la superficie des zones\n",
    "poids_raster = population_raster.resample('bilinear').reproject(\n",
    "    crs=population_raster.projection(), \n",
    "    scale=nouvelle_resolution  # La même résolution de 5 km\n",
    ")\n",
    "\n",
    "# 3. Appliquer le poids au raster de population. Cela va multiplier la population de chaque pixel par le poids\n",
    "# C'est une forme de pondération basée sur la surface.\n",
    "population_raster_poids = population_raster.multiply(poids_raster)\n",
    "\n",
    "# 4. Agréger les valeurs pondérées pour obtenir la population totale agrégée dans la zone de 5 km.\n",
    "population_totale_ponderee = population_raster_poids.reduceRegion(\n",
    "    reducer=ee.Reducer.sum(),  # Faire la somme de la population pondérée\n",
    "    geometry=population_raster.geometry(),  # Zone géographique\n",
    "    scale=nouvelle_resolution,  # La résolution de 5 km\n",
    "    maxPixels=1e13  # Limite de pixels pour éviter la surcharge\n",
    ")\n",
    "\n",
    "# 5. Afficheons le résultat avant agrégation\n",
    "population_totale_initiale = population_raster.reduceRegion(\n",
    "    reducer=ee.Reducer.sum(),  # Agréger toutes les valeurs de population\n",
    "    geometry=population_raster.geometry(),  # Zone géographique\n",
    "    scale=population_raster.projection().nominalScale(),  # Résolution originale du raster\n",
    "    maxPixels=1e13  # Limite de pixels\n",
    ").get('b1')\n",
    "\n",
    "# Afficher les résultats\n",
    "print(\"Population totale initiale :\", population_totale_initiale.getInfo())\n",
    "print(\"Population totale après agrégation pondérée :\", population_totale_ponderee.get('b1').getInfo())\n",
    "\n",
    "# Visualisation du raster obtenu\n",
    "visualization_params = {\n",
    "    'min': 0,\n",
    "    'max': 5000,\n"
    "    'palette': ['blue', 'yellow', 'orange', 'red']\n",
    "}\n"
   ]
  },
  {
   "cell_type": "code",
   "execution_count": 8,
   "id": "8f29e064-a937-4053-9638-7a3c1fc16356",
   "metadata": {},
   "outputs": [
    {
     "data": {
      "text/html": [
       "\n",
       "            <style>\n",
       "                .geemap-dark {\n",
       "                    --jp-widgets-color: white;\n",
       "                    --jp-widgets-label-color: white;\n",
       "                    --jp-ui-font-color1: white;\n",
       "                    --jp-layout-color2: #454545;\n",
       "                    background-color: #383838;\n",
       "                }\n",
       "\n",
       "                .geemap-dark .jupyter-button {\n",
       "                    --jp-layout-color3: #383838;\n",
       "                }\n",
       "\n",
       "                .geemap-colab {\n",
       "                    background-color: var(--colab-primary-surface-color, white);\n",
       "                }\n",
       "\n",
       "                .geemap-colab .jupyter-button {\n",
       "                    --jp-layout-color3: var(--colab-primary-surface-color, white);\n",
       "                }\n",
       "            </style>\n",
       "            "
      ],
      "text/plain": [
       "<IPython.core.display.HTML object>"
      ]
     },
     "metadata": {},
     "output_type": "display_data"
    },
    {
     "data": {
      "application/vnd.jupyter.widget-view+json": {
       "model_id": "f31b1520ab444160826393f60b6f2977",
       "version_major": 2,
       "version_minor": 0
      },
      "text/plain": [
       "Map(bottom=29913.0, center=[17.07253857905759, 7.336120605468751], controls=(WidgetControl(options=['position'…"
      ]
     },
     "execution_count": 8,
     "metadata": {},
     "output_type": "execute_result"
    }
   ],
   "source": [
    "# Calculer le raster représentant le pourcentage d'enfants âgés de 2 à 10 ans dans la population.\n",
    "# Hypothèse : les enfants de 2 à 10 ans représentent 0,1 % de la population totale\n",
    "population_enfants_2_10 = population_raster_5km.multiply(0.001)\n",
    "\n",
    "# Ajouter le raster calculé pour la population d'enfants (2-10 ans) à la carte pour visualisation\n",
    "# La palette de couleurs et la plage (min et max) sont définies pour représenter les valeurs du pourcentage d'enfants\n",
    "Map.addLayer(\n",
    "    population_enfants_2_10, \n",
    "    {'palette': palette, 'min': 0, 'max': 3},  # Palette de couleurs et limites de l'échelle pour la population d'enfants\n",
    "    'Population Enfants (2-10 ans, 5km resolution)'  # Légende pour indiquer la tranche d'âge et la résolution\n",
    ")\n",
    "\n",
    "# Afficher la carte avec le raster des enfants âgés de 2-10 ans\n",
    "Map"
   ]
  },
  {
   "cell_type": "code",
   "execution_count": 9,
   "id": "f99db47f-3dff-476d-9372-f4ca66893e0f",
   "metadata": {},
   "outputs": [
    {
     "data": {
      "text/html": [
       "\n",
       "            <style>\n",
       "                .geemap-dark {\n",
       "                    --jp-widgets-color: white;\n",
       "                    --jp-widgets-label-color: white;\n",
       "                    --jp-ui-font-color1: white;\n",
       "                    --jp-layout-color2: #454545;\n",
       "                    background-color: #383838;\n",
       "                }\n",
       "\n",
       "                .geemap-dark .jupyter-button {\n",
       "                    --jp-layout-color3: #383838;\n",
       "                }\n",
       "\n",
       "                .geemap-colab {\n",
       "                    background-color: var(--colab-primary-surface-color, white);\n",
       "                }\n",
       "\n",
       "                .geemap-colab .jupyter-button {\n",
       "                    --jp-layout-color3: var(--colab-primary-surface-color, white);\n",
       "                }\n",
       "            </style>\n",
       "            "
      ],
      "text/plain": [
       "<IPython.core.display.HTML object>"
      ]
     },
     "metadata": {},
     "output_type": "display_data"
    }
   ],
   "source": [
    "# Fonction pour obtenir les images raster par année et sélectionner la première bande\n",
    "def importation_rasters(annee):\n",
    "    nom_raster = f\"202406_Global_Pf_Parasite_Rate_NER_{annee}\"\n",
    "    asset_id = f'projects/ee-senemalick123450/assets/{nom_raster}'\n",
    "    return ee.Image(asset_id).select(0)\n",
    "\n",
    "# Liste des années pour les rasters\n",
    "annees = list(range(2000, 2023))\n",
    "\n",
    "# Charger toutes les images raster et sélectionner la première bande\n",
    "rasters = [importation_rasters(annee) for annee in annees]\n",
    "\n",
    "# Créer une collection à partir de la liste d'images\n",
    "stack_raster = ee.ImageCollection(rasters)\n",
    "\n",
    "# Calculer la moyenne sur la collection\n",
    "moyenne_raster = stack_raster.mean()"
   ]
  },
  {
   "cell_type": "code",
   "execution_count": 14,
   "id": "93e28f53-64f5-429b-81c8-5b01521897ec",
   "metadata": {},
   "outputs": [
    {
     "data": {
      "text/html": [
       "\n",
       "            <style>\n",
       "                .geemap-dark {\n",
       "                    --jp-widgets-color: white;\n",
       "                    --jp-widgets-label-color: white;\n",
       "                    --jp-ui-font-color1: white;\n",
       "                    --jp-layout-color2: #454545;\n",
       "                    background-color: #383838;\n",
       "                }\n",
       "\n",
       "                .geemap-dark .jupyter-button {\n",
       "                    --jp-layout-color3: #383838;\n",
       "                }\n",
       "\n",
       "                .geemap-colab {\n",
       "                    background-color: var(--colab-primary-surface-color, white);\n",
       "                }\n",
       "\n",
       "                .geemap-colab .jupyter-button {\n",
       "                    --jp-layout-color3: var(--colab-primary-surface-color, white);\n",
       "                }\n",
       "            </style>\n",
       "            "
      ],
      "text/plain": [
       "<IPython.core.display.HTML object>"
      ]
     },
     "metadata": {},
     "output_type": "display_data"
    },
    {
     "data": {
      "application/vnd.jupyter.widget-view+json": {
       "model_id": "a432b9d133ac4be49ba58a1208ab7916",
       "version_major": 2,
       "version_minor": 0
      },
      "text/plain": [
       "Map(center=[12, -1], controls=(WidgetControl(options=['position', 'transparent_bg'], widget=SearchDataGUI(chil…"
      ]
     },
     "execution_count": 14,
     "metadata": {},
     "output_type": "execute_result"
    }
   ],
   "source": [
    "#projects/ee-fogwoungsarahlauretp2/assets/202406_Global_Pf_Parasite_Rate_NER_2022\n",
    "# Fonction pour importer les images raster par année\n",
    "# ------------------------\n",
    "# Cette fonction prend une année en paramètre, construit le nom du raster et renvoie l'image raster correspondante\n",
    "def importation_rasters(annee):\n",
    "    # Créer le nom du raster en fonction de l'année donnée\n",
    "    nom_raster = f\"202406_Global_Pf_Parasite_Rate_NER_{annee}\"\n",
    "    # Construire l'ID de l'asset dans Google Earth Engine\n",
    "    asset_id = f'projects/ee-senemalick123450/assets/{nom_raster}'\n",
    "    # Retourner l'image raster en sélectionnant la première bande (index 0)\n",
    "    return ee.Image(asset_id).select(0)\n",
    "\n",
    "# ------------------------\n",
    "# Charger les rasters et créer une collection\n",
    "# ------------------------\n",
    "# Liste des années pour les rasters de 2020 à 2022\n",
    "annees = list(range(2000, 2023))\n",
    "\n",
    "# Charger toutes les images raster en utilisant la fonction définie précédemment\n",
    "# Cette liste contient toutes les images raster importées pour chaque année\n",
    "rasters = [importation_rasters(annee) for annee in annees]\n",
    "\n",
    "# Créer une collection d'images à partir de la liste d'images raster\n",
    "stack_raster = ee.ImageCollection(rasters)\n",
    "\n",
    "# Calculer la moyenne et l'écart type des valeurs de pixels pour toutes les images de la collection\n",
    "moyenne_raster = stack_raster.mean()\n",
    "ecart_type_raster = stack_raster.reduce(ee.Reducer.stdDev())\n",
    "\n",
    "# Paramètres de visualisation pour la moyenne et l'écart type\n",
    "vis_params_moyenne = {\n",
    "    'min': 0,\n",
    "    'max': 1,\n",
    "    'palette': ['blue', 'green', 'yellow', 'red']  # Palette de couleurs pour visualiser la moyenne\n",
    "}\n",
    "\n",
    "vis_params_ecart_type = {\n",
    "    'min': 0,\n",
    "    'max': 0.5,\n",
    "    'palette': ['white', 'orange', 'red']  # Palette de couleurs pour visualiser l'écart type\n",
    "}\n",
    "\n",
    "# Créer une carte pour visualiser la moyenne et l'écart type\n",
    "Map_stats = geemap.Map(center=[12, -1], zoom=6)  # Initialiser la carte centrée sur des coordonnées spécifiques\n",
    "Map_stats.addLayer(moyenne_raster, vis_params_moyenne, 'Moyenne Taux Malaria (2000-2022)')  # Ajouter la couche de moyenne\n",
    "Map_stats.addLayer(ecart_type_raster, vis_params_ecart_type, 'Ecart Type Taux Malaria (2000-2022)')  # Ajouter la couche d'écart type\n",
    "\n",
    "# Ajouter des barres de couleur pour les deux couches\n",
    "Map_stats.add_colorbar(vis_params=vis_params_moyenne, label=\"Moyenne des valeurs des pixels\")  # Légende pour la moyenne\n",
    "Map_stats.add_colorbar(vis_params=vis_params_ecart_type, label=\"Ecart Type des valeurs des pixels\")  # Légende pour l'écart type\n",
    "\n",
    "# Afficher la carte\n",
    "Map_stats"
   ]
  },
  {
   "cell_type": "code",
   "execution_count": 13,
   "id": "5ae47325-d947-46a0-ac8f-fcbe88576710",
   "metadata": {},
   "outputs": [
    {
     "data": {
      "text/html": [
       "\n",
       "            <style>\n",
       "                .geemap-dark {\n",
       "                    --jp-widgets-color: white;\n",
       "                    --jp-widgets-label-color: white;\n",
       "                    --jp-ui-font-color1: white;\n",
       "                    --jp-layout-color2: #454545;\n",
       "                    background-color: #383838;\n",
       "                }\n",
       "\n",
       "                .geemap-dark .jupyter-button {\n",
       "                    --jp-layout-color3: #383838;\n",
       "                }\n",
       "\n",
       "                .geemap-colab {\n",
       "                    background-color: var(--colab-primary-surface-color, white);\n",
       "                }\n",
       "\n",
       "                .geemap-colab .jupyter-button {\n",
       "                    --jp-layout-color3: var(--colab-primary-surface-color, white);\n",
       "                }\n",
       "            </style>\n",
       "            "
      ],
      "text/plain": [
       "<IPython.core.display.HTML object>"
      ]
     },
     "metadata": {},
     "output_type": "display_data"
    },
    {
     "data": {
      "application/vnd.jupyter.widget-view+json": {
       "model_id": "b689eb250d614c10be9ac9e7fe4c3bfd",
       "version_major": 2,
       "version_minor": 0
      },
      "text/plain": [
       "Map(center=[12, -1], controls=(WidgetControl(options=['position', 'transparent_bg'], widget=SearchDataGUI(chil…"
      ]
     },
     "execution_count": 13,
     "metadata": {},
     "output_type": "execute_result"
    }
   ],
   "source": [
    "# 2. Représenter la situation de chaque pixel en 2020, 2021 et 2022\n",
    "# ------------------------\n",
    "\n",
    "\n",
    "# Fonction pour représenter la situation de chaque pixel pour une année donnée\n",
    "def representer_situation(annee):\n",
    "    # Importer l'image raster pour l'année spécifiée\n",
    "    image = importation_rasters(annee)\n",
    "    \n",
    "    # Calculer l'indicateur de situation par pixel\n",
    "    # Catégories : \n",
    "    # - Aucune situation grave (valeur < moyenne + écart type)\n",
    "    # - Situation modérée (moyenne + écart type <= valeur < moyenne + 2 * écart type)\n",
    "    # - Crise (valeur >= moyenne + 2 * écart type)\n",
    "    situation = image.expression(\n",
    "        \"(b('b1') < moyenne + ecart_type) ? 1 : (b('b1') < moyenne + 2 * ecart_type) ? 2 : 3\",\n",
    "        {\n",
    "            'b1': image,\n",
    "            'moyenne': moyenne_raster,\n",
    "            'ecart_type': ecart_type_raster\n",
    "        }\n",
    "    )\n",
    "    \n",
    "    # Clipper l'image à la frontière géographique de la région d'intérêt\n",
    "    return situation.clip(ee.FeatureCollection(\"projects/ee-senemalick123450/assets/geoBoundaries-NER-ADM0\"))\n",
    "\n",
    "# Créer une carte pour représenter les situations en 2020, 2021 et 2022\n",
    "Map_situations = geemap.Map(center=[12, -1], zoom=6)\n",
    "\n",
    "# Récupérer les images pour les années 2020, 2021 et 2022\n",
    "situation_2020 = representer_situation(2020)\n",
    "situation_2021 = representer_situation(2021)\n",
    "situation_2022 = representer_situation(2022)\n",
    "\n",
    "# Ajouter les images à la carte avec des paramètres de visualisation\n",
    "vis_params_situation = {\n",
    "    'min': 1,\n",
    "    'max': 3,\n",
    "    'palette': ['green', 'yellow', 'red']  # 1: aucune situation grave, 2: modérée, 3: crise\n",
    "}\n",
    "\n",
    "Map_situations.addLayer(situation_2020, vis_params_situation, 'Situation 2020')\n",
    "Map_situations.addLayer(situation_2021, vis_params_situation, 'Situation 2021')\n",
    "Map_situations.addLayer(situation_2022, vis_params_situation, 'Situation 2022')\n",
    "\n",
    "# Créer un widget HTML pour la légende de la carte\n",
    "legend_html = \"\"\"\n",
    "    <div style='padding: 10px; background-color: white; border-radius: 5px;'>\n",
    "        <h4>Indicateur de Situation (2020-2022)</h4>\n",
    "        <p style='margin: 0'><span style='color: green;'>⬤</span> Aucune situation grave</p>\n",
    "        <p style='margin: 0'><span style='color: yellow;'>⬤</span> Situation modérée</p>\n",
    "        <p style='margin: 0'><span style='color: red;'>⬤</span> Crise</p>\n",
    "    </div>\n",
    "\"\"\"\n",
    "# Créer le widget HTML pour la légende\n",
    "legend_widget = HTML(value=legend_html)\n",
    "\n",
    "# Ajouter le widget de légende à la carte\n",
    "legend_control = WidgetControl(widget=legend_widget, position=\"topright\")\n",
    "Map_situations.add_control(legend_control)\n",
    "\n",
    "# Afficher la carte\n",
    "Map_situations"
   ]
  },
  {
   "cell_type": "code",
   "execution_count": 29,
   "id": "b141fcd3-3847-4013-a7dc-6ace36631eec",
   "metadata": {},
   "outputs": [
    {
     "data": {
      "text/html": [
       "\n",
       "            <style>\n",
       "                .geemap-dark {\n",
       "                    --jp-widgets-color: white;\n",
       "                    --jp-widgets-label-color: white;\n",
       "                    --jp-ui-font-color1: white;\n",
       "                    --jp-layout-color2: #454545;\n",
       "                    background-color: #383838;\n",
       "                }\n",
       "\n",
       "                .geemap-dark .jupyter-button {\n",
       "                    --jp-layout-color3: #383838;\n",
       "                }\n",
       "\n",
       "                .geemap-colab {\n",
       "                    background-color: var(--colab-primary-surface-color, white);\n",
       "                }\n",
       "\n",
       "                .geemap-colab .jupyter-button {\n",
       "                    --jp-layout-color3: var(--colab-primary-surface-color, white);\n",
       "                }\n",
       "            </style>\n",
       "            "
      ],
      "text/plain": [
       "<IPython.core.display.HTML object>"
      ]
     },
     "metadata": {},
     "output_type": "display_data"
    },
    {
     "data": {
      "application/vnd.jupyter.widget-view+json": {
       "model_id": "4a93c0fa16a14af6ac035d1101cdc3c1",
       "version_major": 2,
       "version_minor": 0
      },
      "text/plain": [
       "Map(center=[12, -1], controls=(WidgetControl(options=['position', 'transparent_bg'], widget=SearchDataGUI(chil…"
      ]
     },
     "execution_count": 29,
     "metadata": {},
     "output_type": "execute_result"
    }
   ],
   "source": [
    "# Importer le raster pour l'année 2022\n",
    "raster_2022 = importation_rasters(2022)\n",
    "\n",
    "# Calculer l'indicateur de situation par pixel pour 2022\n",
    "situation_2022 = representer_situation(2022)\n",
    "\n",
    "# Masquer les autres zones en laissant seulement les taux de malaria pour chaque situation\n",
    "taux_aucune_situation = raster_2022.updateMask(situation_2022.eq(1))  # Aucune situation grave\n",
    "taux_situation_moderee = raster_2022.updateMask(situation_2022.eq(2)).multiply(1/2) # Situation modérée\n",
    "taux_situation_crise = raster_2022.updateMask(situation_2022.eq(3)).multiply(1/3)   # Crise\n",
    "\n",
    "# Calculer la population d'enfants pour chaque situation en multipliant les taux par la population d'enfants\n",
    "# population_enfants_2_10 représente la population totale d'enfants dans la plage d'âge souhaitée\n",
    "population_enfants_aucune_situation = population_enfants_2_10.multiply(taux_aucune_situation)\n",
    "population_enfants_situation_moderee = population_enfants_2_10.multiply(taux_situation_moderee)\n",
    "population_enfants_situation_crise = population_enfants_2_10.multiply(taux_situation_crise)\n",
    "\n",
    "# Paramètres de visualisation pour les cartes\n",
    "vis_params_population = {\n",
    "    'min': 0, \n",
    "    'palette': ['black', 'blue','red']  # Palette pour visualiser la population d'enfants\n",
    "}\n",
    "\n",
    "# Créer une carte pour visualiser les populations d'enfants dans chaque situation\n",
    "Map_population = geemap.Map(center=[12, -1], zoom=6)\n",
    "\n",
    "# Ajouter les couches pour chaque situation\n",
    "Map_population.addLayer(population_enfants_aucune_situation, vis_params_population, 'population_enfants_aucune_situation')\n",
    "Map_population.addLayer(population_enfants_situation_moderee, vis_params_population, 'population_enfants_situation_moderee')\n",
    "Map_population.addLayer(population_enfants_situation_crise, vis_params_population, 'population_enfants_situation_crise')\n",
    "\n",
    "\n",
    "# Afficher la carte\n",
    "Map_population\n"
   ]
  },
  {
   "cell_type": "code",
   "execution_count": 22,
   "id": "206100be-dcaa-4c44-95ed-d375f0bfd13b",
   "metadata": {},
   "outputs": [
    {
     "data": {
      "text/html": [
       "\n",
       "            <style>\n",
       "                .geemap-dark {\n",
       "                    --jp-widgets-color: white;\n",
       "                    --jp-widgets-label-color: white;\n",
       "                    --jp-ui-font-color1: white;\n",
       "                    --jp-layout-color2: #454545;\n",
       "                    background-color: #383838;\n",
       "                }\n",
       "\n",
       "                .geemap-dark .jupyter-button {\n",
       "                    --jp-layout-color3: #383838;\n",
       "                }\n",
       "\n",
       "                .geemap-colab {\n",
       "                    background-color: var(--colab-primary-surface-color, white);\n",
       "                }\n",
       "\n",
       "                .geemap-colab .jupyter-button {\n",
       "                    --jp-layout-color3: var(--colab-primary-surface-color, white);\n",
       "                }\n",
       "            </style>\n",
       "            "
      ],
      "text/plain": [
       "<IPython.core.display.HTML object>"
      ]
     },
     "metadata": {},
     "output_type": "display_data"
    },
    {
     "name": "stdout",
     "output_type": "stream",
     "text": [
      "Les fichiers CSV pour chaque situation et niveau administratif ont été exportés avec succès.\n"
     ]
    }
   ],
   "source": [
    "# Fonction pour calculer la population d'enfants dans chaque situation pour un niveau administratif\n",
    "def calculer_population_enfants_par_zone(admin_feature, population_enfants_situation):\n",
    "    pop_totale = population_enfants_situation.reduceRegion(\n",
    "        reducer=ee.Reducer.sum(),\n",
    "        geometry=admin_feature.geometry(),\n",
    "        scale=population_enfants_situation.projection().nominalScale(),\n",
    "        maxPixels=1e13\n",
    "    ).get('b1')  # 'b1' est la bande par défaut pour les données de population\n",
    "\n",
    "    # Créer un Feature avec l'ID de la zone et le nombre d'enfants atteints\n",
    "    return ee.Feature(None, {\n",
    "        'ID': admin_feature.get('shapeID'),  # 'shapeID' représente l'identifiant de la zone, à adapter selon le cas\n",
    "        'Enfants_Atteints': pop_totale\n",
    "    })\n",
    "\n",
    "# Calculer le nombre d'enfants atteints pour chaque situation et chaque niveau administratif\n",
    "# Aucune situation grave\n",
    "population_enfants_aucune_pays = pays.map(lambda feature: calculer_population_enfants_par_zone(feature, population_enfants_aucune_situation))\n",
    "population_enfants_aucune_regions = regions.map(lambda feature: calculer_population_enfants_par_zone(feature, population_enfants_aucune_situation))\n",
    "population_enfants_aucune_departements = departements.map(lambda feature: calculer_population_enfants_par_zone(feature, population_enfants_aucune_situation))\n",
    "population_enfants_aucune_communes = communes.map(lambda feature: calculer_population_enfants_par_zone(feature, population_enfants_aucune_situation))\n",
    "\n",
    "# Situation modérée\n",
    "population_enfants_moderee_pays = pays.map(lambda feature: calculer_population_enfants_par_zone(feature, population_enfants_situation_moderee))\n",
    "population_enfants_moderee_regions = regions.map(lambda feature: calculer_population_enfants_par_zone(feature, population_enfants_situation_moderee))\n",
    "population_enfants_moderee_departements = departements.map(lambda feature: calculer_population_enfants_par_zone(feature, population_enfants_situation_moderee))\n",
    "population_enfants_moderee_communes = communes.map(lambda feature: calculer_population_enfants_par_zone(feature, population_enfants_situation_moderee))\n",
    "\n",
    "# Crise\n",
    "population_enfants_crise_pays = pays.map(lambda feature: calculer_population_enfants_par_zone(feature, population_enfants_situation_crise))\n",
    "population_enfants_crise_regions = regions.map(lambda feature: calculer_population_enfants_par_zone(feature, population_enfants_situation_crise))\n",
    "population_enfants_crise_departements = departements.map(lambda feature: calculer_population_enfants_par_zone(feature, population_enfants_situation_crise))\n",
    "population_enfants_crise_communes = communes.map(lambda feature: calculer_population_enfants_par_zone(feature, population_enfants_situation_crise))\n",
    "\n",
    "# Fonction pour convertir une FeatureCollection en dictionnaire pour extraire les ID et Enfants_Atteints\n",
    "def features_to_dict(feature_collection):\n",
    "    ids = feature_collection.aggregate_array('ID').getInfo()\n",
    "    enfants_atteints = feature_collection.aggregate_array('Enfants_Atteints').getInfo()\n",
    "    return [{'ID': id, 'Enfants_Atteints': enfants} for id, enfants in zip(ids, enfants_atteints)]\n",
    "\n",
    "# Extraire et exporter les données pour chaque niveau administratif et chaque situation\n",
    "\n",
    "# Aucune situation grave\n",
    "data_aucune_pays = features_to_dict(population_enfants_aucune_pays)\n",
    "data_aucune_regions = features_to_dict(population_enfants_aucune_regions)\n",
    "data_aucune_departements = features_to_dict(population_enfants_aucune_departements)\n",
    "data_aucune_communes = features_to_dict(population_enfants_aucune_communes)\n",
    "\n",
    "# Situation modérée\n",
    "data_moderee_pays = features_to_dict(population_enfants_moderee_pays)\n",
    "data_moderee_regions = features_to_dict(population_enfants_moderee_regions)\n",
    "data_moderee_departements = features_to_dict(population_enfants_moderee_departements)\n",
    "data_moderee_communes = features_to_dict(population_enfants_moderee_communes)\n",
    "\n",
    "# Crise\n",
    "data_crise_pays = features_to_dict(population_enfants_crise_pays)\n",
    "data_crise_regions = features_to_dict(population_enfants_crise_regions)\n",
    "data_crise_departements = features_to_dict(population_enfants_crise_departements)\n",
    "data_crise_communes = features_to_dict(population_enfants_crise_communes)\n",
    "\n",
    "# Convertir les données en DataFrames et exporter chaque DataFrame en CSV\n",
    "# Aucune situation grave\n",
    "pd.DataFrame(data_aucune_pays).to_csv('population_enfants_aucune_situation_pays.csv', index=False)\n",
    "pd.DataFrame(data_aucune_regions).to_csv('population_enfants_aucune_situation_regions.csv', index=False)\n",
    "pd.DataFrame(data_aucune_departements).to_csv('population_enfants_aucune_situation_departements.csv', index=False)\n",
    "pd.DataFrame(data_aucune_communes).to_csv('population_enfants_aucune_situation_communes.csv', index=False)\n",
    "\n",
    "# Situation modérée\n",
    "pd.DataFrame(data_moderee_pays).to_csv('population_enfants_moderee_pays.csv', index=False)\n",
    "pd.DataFrame(data_moderee_regions).to_csv('population_enfants_moderee_regions.csv', index=False)\n",
    "pd.DataFrame(data_moderee_departements).to_csv('population_enfants_moderee_departements.csv', index=False)\n",
    "pd.DataFrame(data_moderee_communes).to_csv('population_enfants_moderee_communes.csv', index=False)\n",
    "\n",
    "# Crise\n",
    "pd.DataFrame(data_crise_pays).to_csv('population_enfants_crise_pays.csv', index=False)\n",
    "pd.DataFrame(data_crise_regions).to_csv('population_enfants_crise_regions.csv', index=False)\n",
    "pd.DataFrame(data_crise_departements).to_csv('population_enfants_crise_departements.csv', index=False)\n",
    "pd.DataFrame(data_crise_communes).to_csv('population_enfants_crise_communes.csv', index=False)\n",
    "\n",
    "print(\"Les fichiers CSV pour chaque situation et niveau administratif ont été exportés avec succès.\")"
   ]
  },
  {
   "cell_type": "code",
   "execution_count": 23,
   "id": "61d69dd1-957b-473a-8b5f-d61d1c33f66b",
   "metadata": {},
   "outputs": [
    {
     "data": {
      "text/html": [
       "\n",
       "            <style>\n",
       "                .geemap-dark {\n",
       "                    --jp-widgets-color: white;\n",
       "                    --jp-widgets-label-color: white;\n",
       "                    --jp-ui-font-color1: white;\n",
       "                    --jp-layout-color2: #454545;\n",
       "                    background-color: #383838;\n",
       "                }\n",
       "\n",
       "                .geemap-dark .jupyter-button {\n",
       "                    --jp-layout-color3: #383838;\n",
       "                }\n",
       "\n",
       "                .geemap-colab {\n",
       "                    background-color: var(--colab-primary-surface-color, white);\n",
       "                }\n",
       "\n",
       "                .geemap-colab .jupyter-button {\n",
       "                    --jp-layout-color3: var(--colab-primary-surface-color, white);\n",
       "                }\n",
       "            </style>\n",
       "            "
      ],
      "text/plain": [
       "<IPython.core.display.HTML object>"
      ]
     },
     "metadata": {},
     "output_type": "display_data"
    },
    {
     "name": "stdout",
     "output_type": "stream",
     "text": [
      "Les taux d'enfants atteints de malaria pour 'aucune situation grave' ont été exportés avec succès.\n"
     ]
    }
   ],
   "source": [
    "# Fonction pour calculer la population totale d'enfants par zone administrative\n",
    "def calculer_population_totale_par_zone(admin_feature, population_enfants):\n",
    "    pop_totale = population_enfants.reduceRegion(\n",
    "        reducer=ee.Reducer.sum(),\n",
    "        geometry=admin_feature.geometry(),\n",
    "        scale=population_enfants.projection().nominalScale(),\n",
    "        maxPixels=1e13\n",
    "    ).get('b1')  # 'b1' est la bande par défaut pour les données de population\n",
    "\n",
    "    # Créer un Feature avec l'ID de la zone et la population totale d'enfants\n",
    "    return ee.Feature(None, {\n",
    "        'ID': admin_feature.get('shapeID'),  # 'shapeID' représente l'identifiant de la zone\n",
    "        'Population_Enfants': pop_totale\n",
    "    })\n",
    "\n",
    "# Calculer la population totale d'enfants pour chaque niveau administratif\n",
    "population_totale_pays = pays.map(lambda feature: calculer_population_totale_par_zone(feature, population_enfants_2_10))\n",
    "population_totale_regions = regions.map(lambda feature: calculer_population_totale_par_zone(feature, population_enfants_2_10))\n",
    "population_totale_departements = departements.map(lambda feature: calculer_population_totale_par_zone(feature, population_enfants_2_10))\n",
    "population_totale_communes = communes.map(lambda feature: calculer_population_totale_par_zone(feature, population_enfants_2_10))\n",
    "\n",
    "# Fonction pour calculer le taux en fonction des enfants atteints et de la population totale\n",
    "def calculer_taux_par_zone(enfants_atteints_feature, population_totale_feature):\n",
    "    id_zone = enfants_atteints_feature.get('ID')\n",
    "    enfants_atteints = ee.Number(enfants_atteints_feature.get('Enfants_Atteints'))\n",
    "    population_totale = ee.Number(population_totale_feature.get('Population_Enfants'))\n",
    "    \n",
    "    taux = enfants_atteints.divide(population_totale).multiply(100)\n",
    "    return ee.Feature(None, {\n",
    "        'ID': id_zone,\n",
    "        'Taux_Enfants_Atteints': taux\n",
    "    })\n",
    "\n",
    "# Appliquer la fonction de taux pour chaque situation et niveau administratif\n",
    "\n",
    "# Exemple pour \"Aucune situation grave\" pour les niveaux administratifs\n",
    "taux_aucune_pays = population_enfants_aucune_pays.map(lambda feature: calculer_taux_par_zone(feature, population_totale_pays.filter(ee.Filter.eq('ID', feature.get('ID'))).first()))\n",
    "taux_aucune_regions = population_enfants_aucune_regions.map(lambda feature: calculer_taux_par_zone(feature, population_totale_regions.filter(ee.Filter.eq('ID', feature.get('ID'))).first()))\n",
    "taux_aucune_departements = population_enfants_aucune_departements.map(lambda feature: calculer_taux_par_zone(feature, population_totale_departements.filter(ee.Filter.eq('ID', feature.get('ID'))).first()))\n",
    "taux_aucune_communes = population_enfants_aucune_communes.map(lambda feature: calculer_taux_par_zone(feature, population_totale_communes.filter(ee.Filter.eq('ID', feature.get('ID'))).first()))\n",
    "\n",
    "# Convertir les résultats en DataFrames et exporter au format CSV\n",
    "def taux_to_dict(feature_collection):\n",
    "    ids = feature_collection.aggregate_array('ID').getInfo()\n",
    "    taux = feature_collection.aggregate_array('Taux_Enfants_Atteints').getInfo()\n",
    "    return [{'ID': id, 'Taux_Enfants_Atteints': t} for id, t in zip(ids, taux)]\n",
    "\n",
    "# Extraire les données pour chaque niveau administratif et exporter les résultats en CSV\n",
    "data_taux_aucune_pays = taux_to_dict(taux_aucune_pays)\n",
    "data_taux_aucune_regions = taux_to_dict(taux_aucune_regions)\n",
    "data_taux_aucune_departements = taux_to_dict(taux_aucune_departements)\n",
    "data_taux_aucune_communes = taux_to_dict(taux_aucune_communes)\n",
    "\n",
    "# Exporter chaque DataFrame en CSV\n",
    "pd.DataFrame(data_taux_aucune_pays).to_csv('taux_enfants_aucune_situation_pays.csv', index=False)\n",
    "pd.DataFrame(data_taux_aucune_regions).to_csv('taux_enfants_aucune_situation_regions.csv', index=False)\n",
    "pd.DataFrame(data_taux_aucune_departements).to_csv('taux_enfants_aucune_situation_departements.csv', index=False)\n",
    "pd.DataFrame(data_taux_aucune_communes).to_csv('taux_enfants_aucune_situation_communes.csv', index=False)\n",
    "\n",
    "print(\"Les taux d'enfants atteints de malaria pour 'aucune situation grave' ont été exportés avec succès.\")"
   ]
  },
  {
   "cell_type": "code",
   "execution_count": null,
   "id": "30a1f56a-d478-4768-806e-e7ee0789c3da",
   "metadata": {},
   "outputs": [],
   "source": []
  }
 ],
 "metadata": {
  "kernelspec": {
   "display_name": "Python (gee)",
   "language": "python",
   "name": "gee"
  },
  "language_info": {
   "codemirror_mode": {
    "name": "ipython",
    "version": 3
   },
   "file_extension": ".py",
   "mimetype": "text/x-python",
   "name": "python",
   "nbconvert_exporter": "python",
   "pygments_lexer": "ipython3",
   "version": "3.8.20"
  }
 },
 "nbformat": 4,
 "nbformat_minor": 5
}
