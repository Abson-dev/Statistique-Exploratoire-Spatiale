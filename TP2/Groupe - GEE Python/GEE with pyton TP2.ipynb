{
 "cells": [
  {
   "cell_type": "markdown",
   "id": "31cd8883-4cb0-46fd-bc14-8ebf0dbe66f4",
   "metadata": {},
   "source": [
    "# Introduction to GEE with python"
   ]
  },
  {
   "cell_type": "markdown",
   "id": "a7b09f92-85fa-4ea1-a28b-96dc5887fc2d",
   "metadata": {},
   "source": [
    "conda create -n gee python=3.8\n",
    "\n",
    "conda activate gee\n",
    "\n",
    "pip install earthengine-api geemap windows-curses\n",
    "\n",
    "conda install jupyter\n",
    "\n",
    "conda install ipykernel\n",
    "\n",
    "python -m ipykernel install --user --name gee --display-name \"Python (gee)\"\n",
    "\n",
    "jupyter notebook"
   ]
  },
  {
   "cell_type": "markdown",
   "id": "a755e1b0-e55f-48d7-9356-fcf6184eba8b",
   "metadata": {},
   "source": [
    "# GEE WITH PYTHON"
   ]
  },
  {
   "cell_type": "code",
   "execution_count": 5,
   "id": "519ee2c0-5b7f-450e-a5dc-535d5c098e71",
   "metadata": {},
   "outputs": [
    {
     "data": {
      "text/html": [
       "\n",
       "            <style>\n",
       "                .geemap-dark {\n",
       "                    --jp-widgets-color: white;\n",
       "                    --jp-widgets-label-color: white;\n",
       "                    --jp-ui-font-color1: white;\n",
       "                    --jp-layout-color2: #454545;\n",
       "                    background-color: #383838;\n",
       "                }\n",
       "\n",
       "                .geemap-dark .jupyter-button {\n",
       "                    --jp-layout-color3: #383838;\n",
       "                }\n",
       "\n",
       "                .geemap-colab {\n",
       "                    background-color: var(--colab-primary-surface-color, white);\n",
       "                }\n",
       "\n",
       "                .geemap-colab .jupyter-button {\n",
       "                    --jp-layout-color3: var(--colab-primary-surface-color, white);\n",
       "                }\n",
       "            </style>\n",
       "            "
      ],
      "text/plain": [
       "<IPython.core.display.HTML object>"
      ]
     },
     "metadata": {},
     "output_type": "display_data"
    }
   ],
   "source": [
    "import ee\n",
    "import geemap\n",
    "\n",
    "# Authentifier et initialiser Google Earth Engine\n",
    "ee.Authenticate()\n",
    "ee.Initialize()"
   ]
  },
  {
   "cell_type": "markdown",
   "id": "9b61c2a5-d468-47d6-8804-8613ce2cc224",
   "metadata": {},
   "source": [
    "# Section 1"
   ]
  },
  {
   "cell_type": "code",
   "execution_count": 19,
   "id": "ce751f65-e057-4670-b539-958ec8df3800",
   "metadata": {},
   "outputs": [
    {
     "data": {
      "text/html": [
       "\n",
       "            <style>\n",
       "                .geemap-dark {\n",
       "                    --jp-widgets-color: white;\n",
       "                    --jp-widgets-label-color: white;\n",
       "                    --jp-ui-font-color1: white;\n",
       "                    --jp-layout-color2: #454545;\n",
       "                    background-color: #383838;\n",
       "                }\n",
       "\n",
       "                .geemap-dark .jupyter-button {\n",
       "                    --jp-layout-color3: #383838;\n",
       "                }\n",
       "\n",
       "                .geemap-colab {\n",
       "                    background-color: var(--colab-primary-surface-color, white);\n",
       "                }\n",
       "\n",
       "                .geemap-colab .jupyter-button {\n",
       "                    --jp-layout-color3: var(--colab-primary-surface-color, white);\n",
       "                }\n",
       "            </style>\n",
       "            "
      ],
      "text/plain": [
       "<IPython.core.display.HTML object>"
      ]
     },
     "metadata": {},
     "output_type": "display_data"
    },
    {
     "name": "stdout",
     "output_type": "stream",
     "text": [
      "Nombre de géométries (pays) : 1\n",
      "CRS du shapefile du pays : {'type': 'Projection', 'crs': 'EPSG:4326', 'transform': [1, 0, 0, 0, 1, 0]}\n",
      "Extent (limites) du pays : {'geodesic': False, 'type': 'Polygon', 'coordinates': [[[-17.53114756482535, 12.308126642857681], [-11.345215008418714, 12.308126642857681], [-11.345215008418714, 16.69280533655572], [-17.53114756482535, 16.69280533655572], [-17.53114756482535, 12.308126642857681]]]}\n",
      "Aire totale du pays (en mètres carrés) : 197514802862.18713\n",
      "Périmètre total du pays (en mètres) : 3441351.1148358406\n"
     ]
    },
    {
     "data": {
      "application/vnd.jupyter.widget-view+json": {
       "model_id": "480b948a4615453cad083821f71cc801",
       "version_major": 2,
       "version_minor": 0
      },
      "text/plain": [
       "Map(center=[14.358557193312047, -14.466239286232163], controls=(WidgetControl(options=['position', 'transparen…"
      ]
     },
     "execution_count": 19,
     "metadata": {},
     "output_type": "execute_result"
    }
   ],
   "source": [
    "# Section 1 : Données Vectorielles\n",
    "# Créer une carte interactive pour les données vectorielles\n",
    "Map_vector = geemap.Map()\n",
    "\n",
    "# Importer les pays (0-3 levels shapefiles)\n",
    "pays = ee.FeatureCollection('projects/ee-papaamadouniang2004/assets/sen_admbnda_adm0_anat_20240520')\n",
    "regions = ee.FeatureCollection('projects/ee-papaamadouniang2004/assets/sen_admbnda_adm1_anat_20240520')\n",
    "departements = ee.FeatureCollection('projects/ee-papaamadouniang2004/assets/sen_admbnda_adm2_anat_20240520')\n",
    "communes = ee.FeatureCollection('projects/ee-papaamadouniang2004/assets/sen_admbnda_adm3_anat_20240520')\n",
    "\n",
    "\n",
    "# Calculs statistiques : nombre de géométries, CRS, extent, projection\n",
    "country_count = pays.size().getInfo()\n",
    "print(f'Nombre de géométries (pays) : {country_count}')\n",
    "\n",
    "crs_country = pays.first().geometry().projection().getInfo()\n",
    "print(f'CRS du shapefile du pays : {crs_country}')\n",
    "\n",
    "extent_country = pays.geometry().bounds().getInfo()\n",
    "print(f'Extent (limites) du pays : {extent_country}')\n",
    "\n",
    "# Calculs statistiques 2 : centroïdes, aire, périmètre\n",
    "centroids = pays.map(lambda feature: feature.setGeometry(feature.geometry().centroid()))\n",
    "country_area = pays.geometry().area().getInfo()\n",
    "print(f'Aire totale du pays (en mètres carrés) : {country_area}')\n",
    "\n",
    "country_perimeter = pays.geometry().perimeter().getInfo()\n",
    "print(f'Périmètre total du pays (en mètres) : {country_perimeter}')\n",
    "\n",
    "# Visualisation\n",
    "Map_vector.addLayer(pays, {}, 'Pays')\n",
    "Map_vector.addLayer(centroids, {'color': 'red'}, 'Centroïdes des pays')\n",
    "Map_vector.centerObject(pays, 3)\n",
    "\n",
    "# Afficher la carte\n",
    "Map_vector"
   ]
  },
  {
   "cell_type": "markdown",
   "id": "0a9dc016-f429-454e-bdcb-1431053f1467",
   "metadata": {},
   "source": [
    "# Section 2"
   ]
  },
  {
   "cell_type": "code",
   "execution_count": 18,
   "id": "abaff38a-bea6-4494-bcc2-5f787795102b",
   "metadata": {},
   "outputs": [
    {
     "data": {
      "text/html": [
       "\n",
       "            <style>\n",
       "                .geemap-dark {\n",
       "                    --jp-widgets-color: white;\n",
       "                    --jp-widgets-label-color: white;\n",
       "                    --jp-ui-font-color1: white;\n",
       "                    --jp-layout-color2: #454545;\n",
       "                    background-color: #383838;\n",
       "                }\n",
       "\n",
       "                .geemap-dark .jupyter-button {\n",
       "                    --jp-layout-color3: #383838;\n",
       "                }\n",
       "\n",
       "                .geemap-colab {\n",
       "                    background-color: var(--colab-primary-surface-color, white);\n",
       "                }\n",
       "\n",
       "                .geemap-colab .jupyter-button {\n",
       "                    --jp-layout-color3: var(--colab-primary-surface-color, white);\n",
       "                }\n",
       "            </style>\n",
       "            "
      ],
      "text/plain": [
       "<IPython.core.display.HTML object>"
      ]
     },
     "metadata": {},
     "output_type": "display_data"
    },
    {
     "data": {
      "application/vnd.jupyter.widget-view+json": {
       "model_id": "4211c63ac4e94cc3b51893803a100ee7",
       "version_major": 2,
       "version_minor": 0
      },
      "text/plain": [
       "Map(center=[0, 0], controls=(WidgetControl(options=['position', 'transparent_bg'], widget=SearchDataGUI(childr…"
      ]
     },
     "execution_count": 18,
     "metadata": {},
     "output_type": "execute_result"
    }
   ],
   "source": [
    "# Section 2\n",
    "# Fonction pour obtenir les images raster par année et sélectionner la première bande\n",
    "def get_raster_by_year(year):\n",
    "    raster_name = f\"202406_Global_Pf_Parasite_Rate_SEN_{year}\"\n",
    "    asset_id = f'projects/ee-papaamadouniang2004/assets/{raster_name}'\n",
    "    return ee.Image(asset_id).select(0)\n",
    "\n",
    "# Liste des années pour les rasters\n",
    "years = list(range(2000, 2023))\n",
    "\n",
    "# Charger toutes les images raster et sélectionner la première bande\n",
    "rasters = [get_raster_by_year(year) for year in years]\n",
    "\n",
    "# Créer une collection à partir de la liste d'images\n",
    "raster_collection = ee.ImageCollection(rasters)\n",
    "\n",
    "# Calculer les statistiques sur la collection\n",
    "mean_image = raster_collection.mean()\n",
    "median_image = raster_collection.median()\n",
    "std_image = raster_collection.reduce(ee.Reducer.stdDev())\n",
    "min_image = raster_collection.min()\n",
    "max_image = raster_collection.max()\n",
    "\n",
    "# Paramètres de visualisation\n",
    "vis_params = {\n",
    "    'min': 0,\n",
    "    'max': 1,\n",
    "    'palette': ['blue', 'green', 'yellow', 'red']\n",
    "}\n",
    "\n",
    "# Créer une instance de carte unique\n",
    "Map = geemap.Map(center=[0, 0], zoom=2)\n",
    "\n",
    "# Fonction pour visualiser une image en ajoutant une couche à la carte\n",
    "def visualize_image(image, vis_params, title):\n",
    "    Map.addLayer(image, title, vis_params)\n",
    "\n",
    "# Visualiser chaque statistique\n",
    "visualize_image(mean_image, 'mean_image' , vis_params)\n",
    "\n",
    "visualize_image(median_image, 'median_image', vis_params)\n",
    "\n",
    "visualize_image(std_image,'std_image', vis_params)\n",
    "\n",
    "visualize_image(min_image,'min_image', vis_params)\n",
    "\n",
    "visualize_image(max_image,'max_image', vis_params)\n",
    "\n",
    "# Afficher la carte avec toutes les couches ajoutées\n",
    "Map.add_colorbar(vis_params, label='Indice du Paludisme (2000-2022)')\n",
    "Map"
   ]
  },
  {
   "cell_type": "code",
   "execution_count": null,
   "id": "b30ce82b-fff5-48d5-bb07-568dc282be61",
   "metadata": {},
   "outputs": [],
   "source": []
  }
 ],
 "metadata": {
  "kernelspec": {
   "display_name": "Python (gee2)",
   "language": "python",
   "name": "gee"
  },
  "language_info": {
   "codemirror_mode": {
    "name": "ipython",
    "version": 3
   },
   "file_extension": ".py",
   "mimetype": "text/x-python",
   "name": "python",
   "nbconvert_exporter": "python",
   "pygments_lexer": "ipython3",
   "version": "3.8.20"
  }
 },
 "nbformat": 4,
 "nbformat_minor": 5
}
