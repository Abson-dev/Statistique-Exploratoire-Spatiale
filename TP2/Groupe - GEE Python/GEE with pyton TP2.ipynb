{
 "cells": [
  {
   "cell_type": "code",
   "execution_count": 1,
   "id": "519ee2c0-5b7f-450e-a5dc-535d5c098e71",
   "metadata": {},
   "outputs": [],
   "source": [
    "import ee\n",
    "import geemap\n",
    "\n",
    "# Authentifier et initialiser Google Earth Engine\n",
    "ee.Authenticate()\n",
    "ee.Initialize()"
   ]
  },
  {
   "cell_type": "code",
   "execution_count": 4,
   "id": "ce751f65-e057-4670-b539-958ec8df3800",
   "metadata": {},
   "outputs": [
    {
     "data": {
      "text/html": [
       "\n",
       "            <style>\n",
       "                .geemap-dark {\n",
       "                    --jp-widgets-color: white;\n",
       "                    --jp-widgets-label-color: white;\n",
       "                    --jp-ui-font-color1: white;\n",
       "                    --jp-layout-color2: #454545;\n",
       "                    background-color: #383838;\n",
       "                }\n",
       "\n",
       "                .geemap-dark .jupyter-button {\n",
       "                    --jp-layout-color3: #383838;\n",
       "                }\n",
       "\n",
       "                .geemap-colab {\n",
       "                    background-color: var(--colab-primary-surface-color, white);\n",
       "                }\n",
       "\n",
       "                .geemap-colab .jupyter-button {\n",
       "                    --jp-layout-color3: var(--colab-primary-surface-color, white);\n",
       "                }\n",
       "            </style>\n",
       "            "
      ],
      "text/plain": [
       "<IPython.core.display.HTML object>"
      ]
     },
     "metadata": {},
     "output_type": "display_data"
    },
    {
     "name": "stdout",
     "output_type": "stream",
     "text": [
      "Nombre de géométries (pays) : 1\n",
      "CRS du shapefile des pays : {'type': 'Projection', 'crs': 'EPSG:4326', 'transform': [1, 0, 0, 0, 1, 0]}\n",
      "Extent (limites) des pays : {'geodesic': False, 'type': 'Polygon', 'coordinates': [[[-17.53114756482535, 12.308126642857681], [-11.345215008418714, 12.308126642857681], [-11.345215008418714, 16.69280533655572], [-17.53114756482535, 16.69280533655572], [-17.53114756482535, 12.308126642857681]]]}\n",
      "Aire totale des pays (en mètres carrés) : 197514802862.19406\n",
      "Périmètre total des pays (en mètres) : 3441351.1148358406\n"
     ]
    },
    {
     "data": {
      "application/vnd.jupyter.widget-view+json": {
       "model_id": "49f1266bdafa4ca7bb3f1f6ad202240e",
       "version_major": 2,
       "version_minor": 0
      },
      "text/plain": [
       "Map(center=[14.358557193311563, -14.466239286231914], controls=(WidgetControl(options=['position', 'transparen…"
      ]
     },
     "execution_count": 4,
     "metadata": {},
     "output_type": "execute_result"
    }
   ],
   "source": [
    "# Section 1 : Données Vectorielles\n",
    "# Créer une carte interactive pour les données vectorielles\n",
    "Map_vector = geemap.Map()\n",
    "\n",
    "# Importer les pays (0-3 levels shapefiles)\n",
    "countries = ee.FeatureCollection('projects/ee-papaamadouniang2004/assets/sen_admbnda_adm0_anat_20240520')\n",
    "regions = ee.FeatureCollection('projects/ee-papaamadouniang2004/assets/sen_admbnda_adm1_anat_20240520')\n",
    "districts = ee.FeatureCollection('projects/ee-papaamadouniang2004/assets/sen_admbnda_adm2_anat_20240520')\n",
    "\n",
    "# Calculs statistiques : nombre de géométries, CRS, extent, projection\n",
    "country_count = countries.size().getInfo()\n",
    "print(f'Nombre de géométries (pays) : {country_count}')\n",
    "\n",
    "crs_country = countries.first().geometry().projection().getInfo()\n",
    "print(f'CRS du shapefile des pays : {crs_country}')\n",
    "\n",
    "extent_country = countries.geometry().bounds().getInfo()\n",
    "print(f'Extent (limites) des pays : {extent_country}')\n",
    "\n",
    "# Calculs statistiques 2 : centroïdes, aire, périmètre\n",
    "centroids = countries.map(lambda feature: feature.setGeometry(feature.geometry().centroid()))\n",
    "country_area = regions.geometry().area().getInfo()\n",
    "print(f'Aire totale du pays (en mètres carrés) : {country_area}')\n",
    "\n",
    "country_perimeter = countries.geometry().perimeter().getInfo()\n",
    "print(f'Périmètre total du pays (en mètres) : {country_perimeter}')\n",
    "\n",
    "# Visualisation\n",
    "Map_vector.addLayer(countries, {}, 'Pays')\n",
    "Map_vector.addLayer(centroids, {'color': 'red'}, 'Centroïdes des pays')\n",
    "Map_vector.centerObject(regions, 3)\n",
    "\n",
    "# Afficher la carte\n",
    "Map_vector"
   ]
  },
  {
   "cell_type": "code",
   "execution_count": 3,
   "id": "abaff38a-bea6-4494-bcc2-5f787795102b",
   "metadata": {},
   "outputs": [
    {
     "data": {
      "text/html": [
       "\n",
       "            <style>\n",
       "                .geemap-dark {\n",
       "                    --jp-widgets-color: white;\n",
       "                    --jp-widgets-label-color: white;\n",
       "                    --jp-ui-font-color1: white;\n",
       "                    --jp-layout-color2: #454545;\n",
       "                    background-color: #383838;\n",
       "                }\n",
       "\n",
       "                .geemap-dark .jupyter-button {\n",
       "                    --jp-layout-color3: #383838;\n",
       "                }\n",
       "\n",
       "                .geemap-colab {\n",
       "                    background-color: var(--colab-primary-surface-color, white);\n",
       "                }\n",
       "\n",
       "                .geemap-colab .jupyter-button {\n",
       "                    --jp-layout-color3: var(--colab-primary-surface-color, white);\n",
       "                }\n",
       "            </style>\n",
       "            "
      ],
      "text/plain": [
       "<IPython.core.display.HTML object>"
      ]
     },
     "metadata": {},
     "output_type": "display_data"
    },
    {
     "name": "stdout",
     "output_type": "stream",
     "text": [
      "Tailles des pixels des rasters : [4637.422865601593, 4637.422865601593, 4637.422865601593, 4637.422865601593, 4637.422865601593]\n",
      "Taille de pixel la plus fine : 4637.422865601593\n",
      "Statistiques des images raster :\n",
      " - Médiane : {'b1_median': 0.03865163523397902, 'b2_median': None}\n",
      " - Moyenne : {'b1_mean': 0.039306175054777806, 'b2_mean': None}\n",
      " - Écart type : {'b1_stdDev': 0.009551975310538412, 'b2_stdDev': None}\n",
      " - Min : {'b1_min': 0.027236734600569988, 'b2_min': None}\n",
      " - Max : {'b1_max': 0.055179217951073556, 'b2_max': None}\n"
     ]
    },
    {
     "data": {
      "application/vnd.jupyter.widget-view+json": {
       "model_id": "5c3c29f2d96a4a91bc5704d3e0fe4ab7",
       "version_major": 2,
       "version_minor": 0
      },
      "text/plain": [
       "Map(center=[0, 0], controls=(WidgetControl(options=['position', 'transparent_bg'], widget=SearchDataGUI(childr…"
      ]
     },
     "execution_count": 3,
     "metadata": {},
     "output_type": "execute_result"
    }
   ],
   "source": [
    "# Section 2 : Données Raster\n",
    "# Créer une carte interactive pour les données raster\n",
    "Map_raster = geemap.Map()\n",
    "\n",
    "# Importer les rasters (5)\n",
    "raster1 = ee.Image('projects/ee-papaamadouniang2004/assets/202406_Global_Pf_Parasite_Rate_SEN_2022')\n",
    "raster2 = ee.Image('projects/ee-papaamadouniang2004/assets/202406_Global_Pf_Parasite_Rate_SEN_2021')\n",
    "raster3 = ee.Image('projects/ee-papaamadouniang2004/assets/202406_Global_Pf_Parasite_Rate_SEN_2020')\n",
    "raster4 = ee.Image('projects/ee-papaamadouniang2004/assets/202406_Global_Pf_Parasite_Rate_SEN_2019')\n",
    "raster5 = ee.Image('projects/ee-papaamadouniang2004/assets/202406_Global_Pf_Parasite_Rate_SEN_2018')\n",
    "\n",
    "# Liste des rasters\n",
    "rasters = [raster1, raster2, raster3, raster4, raster5]\n",
    "\n",
    "# Vérifier la taille des pixels pour déterminer la résolution la plus fine\n",
    "pixel_sizes = [raster.projection().nominalScale().getInfo() for raster in rasters]\n",
    "min_pixel_size = min(pixel_sizes)\n",
    "print(f'Tailles des pixels des rasters : {pixel_sizes}')\n",
    "print(f'Taille de pixel la plus fine : {min_pixel_size}')\n",
    "\n",
    "# Reprojeter tous les rasters à la résolution la plus fine\n",
    "rasters_resampled = [raster.reproject(raster.projection(), None, min_pixel_size) for raster in rasters]\n",
    "\n",
    "# Calculer les statistiques : médiane, moyenne, écart type, min, max et créer une image pour chaque statistique\n",
    "# Combiner tous les rasters en une seule image avec plusieurs bandes pour chaque statistique\n",
    "median_image = ee.ImageCollection(rasters_resampled).reduce(ee.Reducer.median())\n",
    "mean_image = ee.ImageCollection(rasters_resampled).reduce(ee.Reducer.mean())\n",
    "std_dev_image = ee.ImageCollection(rasters_resampled).reduce(ee.Reducer.stdDev())\n",
    "min_image = ee.ImageCollection(rasters_resampled).reduce(ee.Reducer.min())\n",
    "max_image = ee.ImageCollection(rasters_resampled).reduce(ee.Reducer.max())\n",
    "\n",
    "# Afficher les statistiques des images raster\n",
    "median_stats = median_image.reduceRegion(reducer=ee.Reducer.mean(), geometry=countries.geometry(), scale=min_pixel_size).getInfo()\n",
    "mean_stats = mean_image.reduceRegion(reducer=ee.Reducer.mean(), geometry=countries.geometry(), scale=min_pixel_size).getInfo()\n",
    "std_dev_stats = std_dev_image.reduceRegion(reducer=ee.Reducer.mean(), geometry=countries.geometry(), scale=min_pixel_size).getInfo()\n",
    "min_stats = min_image.reduceRegion(reducer=ee.Reducer.mean(), geometry=countries.geometry(), scale=min_pixel_size).getInfo()\n",
    "max_stats = max_image.reduceRegion(reducer=ee.Reducer.mean(), geometry=countries.geometry(), scale=min_pixel_size).getInfo()\n",
    "\n",
    "print(f'Statistiques des images raster :')\n",
    "print(f' - Médiane : {median_stats}')\n",
    "print(f' - Moyenne : {mean_stats}')\n",
    "print(f' - Écart type : {std_dev_stats}')\n",
    "print(f' - Min : {min_stats}')\n",
    "print(f' - Max : {max_stats}')\n",
    "\n",
    "# Visualiser les images des statistiques\n",
    "Map_raster.addLayer(median_image, {}, 'Médiane des Rasters')\n",
    "Map_raster.addLayer(mean_image, {}, 'Moyenne des Rasters')\n",
    "Map_raster.addLayer(std_dev_image, {}, 'Écart Type des Rasters')\n",
    "Map_raster.addLayer(min_image, {}, 'Min des Rasters')\n",
    "Map_raster.addLayer(max_image, {}, 'Max des Rasters')\n",
    "\n",
    "# Afficher la carte\n",
    "Map_raster"
   ]
  },
  {
   "cell_type": "code",
   "execution_count": null,
   "id": "68649b5e-ba6e-468a-80cf-89057ec0b924",
   "metadata": {},
   "outputs": [],
   "source": []
  }
 ],
 "metadata": {
  "kernelspec": {
   "display_name": "Python (gee2)",
   "language": "python",
   "name": "gee"
  },
  "language_info": {
   "codemirror_mode": {
    "name": "ipython",
    "version": 3
   },
   "file_extension": ".py",
   "mimetype": "text/x-python",
   "name": "python",
   "nbconvert_exporter": "python",
   "pygments_lexer": "ipython3",
   "version": "3.8.20"
  }
 },
 "nbformat": 4,
 "nbformat_minor": 5
}
