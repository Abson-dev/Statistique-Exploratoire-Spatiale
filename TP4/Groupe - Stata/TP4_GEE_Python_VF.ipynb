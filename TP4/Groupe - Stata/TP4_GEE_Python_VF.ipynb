{
 "cells": [
  {
   "cell_type": "markdown",
   "id": "dd2a1e87-2dca-4588-80b5-c774497cf4fc",
   "metadata": {},
   "source": [
    "## GEE with Python\n",
    "\n",
    "conda create -n gee python=3.8\n",
    "\n",
    "conda activate gee\n",
    "\n",
    "pip install earthengine-api geemap windows-curses\n",
    "\n",
    "conda install jupyter\n",
    "\n",
    "conda install ipykernel\n",
    "\n",
    "python -m ipykernel install --user --name gee --display-name \"Python (gee)\"\n",
    "\n",
    "jupyter notebook"
   ]
  },
  {
   "cell_type": "code",
   "execution_count": 18,
   "id": "f706f1b9-16eb-4081-8ff8-1a6b100ac8bf",
   "metadata": {},
   "outputs": [
    {
     "data": {
      "text/html": [
       "\n",
       "            <style>\n",
       "                .geemap-dark {\n",
       "                    --jp-widgets-color: white;\n",
       "                    --jp-widgets-label-color: white;\n",
       "                    --jp-ui-font-color1: white;\n",
       "                    --jp-layout-color2: #454545;\n",
       "                    background-color: #383838;\n",
       "                }\n",
       "\n",
       "                .geemap-dark .jupyter-button {\n",
       "                    --jp-layout-color3: #383838;\n",
       "                }\n",
       "\n",
       "                .geemap-colab {\n",
       "                    background-color: var(--colab-primary-surface-color, white);\n",
       "                }\n",
       "\n",
       "                .geemap-colab .jupyter-button {\n",
       "                    --jp-layout-color3: var(--colab-primary-surface-color, white);\n",
       "                }\n",
       "            </style>\n",
       "            "
      ],
      "text/plain": [
       "<IPython.core.display.HTML object>"
      ]
     },
     "metadata": {},
     "output_type": "display_data"
    }
   ],
   "source": [
    "import ee\n",
    "import geemap\n",
    "\n",
    "# Authentification et initialisation de Google Earth Engine\n",
    "ee.Authenticate()\n",
    "ee.Initialize()"
   ]
  },
  {
   "cell_type": "markdown",
   "id": "57197619-066a-4c49-83b6-3511743eb3d2",
   "metadata": {},
   "source": [
    "# Importation des données raster"
   ]
  },
  {
   "cell_type": "code",
   "execution_count": 19,
   "id": "6b20aca0-f137-4b73-9407-5fd02dc11156",
   "metadata": {},
   "outputs": [
    {
     "data": {
      "text/html": [
       "\n",
       "            <style>\n",
       "                .geemap-dark {\n",
       "                    --jp-widgets-color: white;\n",
       "                    --jp-widgets-label-color: white;\n",
       "                    --jp-ui-font-color1: white;\n",
       "                    --jp-layout-color2: #454545;\n",
       "                    background-color: #383838;\n",
       "                }\n",
       "\n",
       "                .geemap-dark .jupyter-button {\n",
       "                    --jp-layout-color3: #383838;\n",
       "                }\n",
       "\n",
       "                .geemap-colab {\n",
       "                    background-color: var(--colab-primary-surface-color, white);\n",
       "                }\n",
       "\n",
       "                .geemap-colab .jupyter-button {\n",
       "                    --jp-layout-color3: var(--colab-primary-surface-color, white);\n",
       "                }\n",
       "            </style>\n",
       "            "
      ],
      "text/plain": [
       "<IPython.core.display.HTML object>"
      ]
     },
     "metadata": {},
     "output_type": "display_data"
    }
   ],
   "source": [
    "# Fonction pour obtenir les images raster par année et sélectionner la première bande\n",
    "def importation_rasters(annee):\n",
    "    nom_raster = f\"202406_Global_Pf_Parasite_Rate_BFA_{annee}\"\n",
    "    asset_id = f'projects/ee-khadijaaatou180702/assets/{nom_raster}'\n",
    "    return ee.Image(asset_id).select(0)\n",
    "\n",
    "# Liste des années pour les rasters\n",
    "annees = list(range(2000, 2023))\n",
    "\n",
    "# Charger toutes les images raster et sélectionner la première bande\n",
    "rasters = [importation_rasters(annee) for annee in annees]\n",
    "\n",
    "# Créer une collection à partir de la liste d'images\n",
    "stack_raster = ee.ImageCollection(rasters)"
   ]
  },
  {
   "cell_type": "markdown",
   "id": "994a000b-f37f-46c4-ba80-4df01cb13764",
   "metadata": {},
   "source": [
    "Cherchons le raster portant les taux moyens de parasite entre 2000 et 2022 pour chaque pixel"
   ]
  },
  {
   "cell_type": "code",
   "execution_count": 20,
   "id": "f6039ba9-4106-4689-8839-96af2128748a",
   "metadata": {},
   "outputs": [
    {
     "data": {
      "text/html": [
       "\n",
       "            <style>\n",
       "                .geemap-dark {\n",
       "                    --jp-widgets-color: white;\n",
       "                    --jp-widgets-label-color: white;\n",
       "                    --jp-ui-font-color1: white;\n",
       "                    --jp-layout-color2: #454545;\n",
       "                    background-color: #383838;\n",
       "                }\n",
       "\n",
       "                .geemap-dark .jupyter-button {\n",
       "                    --jp-layout-color3: #383838;\n",
       "                }\n",
       "\n",
       "                .geemap-colab {\n",
       "                    background-color: var(--colab-primary-surface-color, white);\n",
       "                }\n",
       "\n",
       "                .geemap-colab .jupyter-button {\n",
       "                    --jp-layout-color3: var(--colab-primary-surface-color, white);\n",
       "                }\n",
       "            </style>\n",
       "            "
      ],
      "text/plain": [
       "<IPython.core.display.HTML object>"
      ]
     },
     "metadata": {},
     "output_type": "display_data"
    }
   ],
   "source": [
    "# Calculer la moyenne sur la collection\n",
    "moyenne_raster = stack_raster.mean()"
   ]
  },
  {
   "cell_type": "code",
   "execution_count": 21,
   "id": "46349e6d-0532-4576-b605-e31cdf0542e5",
   "metadata": {
    "scrolled": true
   },
   "outputs": [
    {
     "data": {
      "text/html": [
       "\n",
       "            <style>\n",
       "                .geemap-dark {\n",
       "                    --jp-widgets-color: white;\n",
       "                    --jp-widgets-label-color: white;\n",
       "                    --jp-ui-font-color1: white;\n",
       "                    --jp-layout-color2: #454545;\n",
       "                    background-color: #383838;\n",
       "                }\n",
       "\n",
       "                .geemap-dark .jupyter-button {\n",
       "                    --jp-layout-color3: #383838;\n",
       "                }\n",
       "\n",
       "                .geemap-colab {\n",
       "                    background-color: var(--colab-primary-surface-color, white);\n",
       "                }\n",
       "\n",
       "                .geemap-colab .jupyter-button {\n",
       "                    --jp-layout-color3: var(--colab-primary-surface-color, white);\n",
       "                }\n",
       "            </style>\n",
       "            "
      ],
      "text/plain": [
       "<IPython.core.display.HTML object>"
      ]
     },
     "metadata": {},
     "output_type": "display_data"
    },
    {
     "data": {
      "application/vnd.jupyter.widget-view+json": {
       "model_id": "29229e1cc6774539a6a1e19b3fcd0785",
       "version_major": 2,
       "version_minor": 0
      },
      "text/plain": [
       "Map(center=[0, 0], controls=(WidgetControl(options=['position', 'transparent_bg'], widget=SearchDataGUI(childr…"
      ]
     },
     "execution_count": 21,
     "metadata": {},
     "output_type": "execute_result"
    }
   ],
   "source": [
    "from ipyleaflet import ImageOverlay\n",
    "import geemap\n",
    "\n",
    "# Paramètres de visualisation\n",
    "vis_params = {\n",
    "    'min': 0,\n",
    "    'max': 1,\n",
    "    'palette': ['blue', 'green', 'yellow', 'red']\n",
    "}\n",
    "\n",
    "# Créer une instance de carte\n",
    "Map = geemap.Map(center=[0, 0], zoom=2)\n",
    "\n",
    "# Fonction pour visualiser une image en ajoutant une couche à la carte\n",
    "def visualize_image(image, vis_params, title):\n",
    "    Map.addLayer(image, vis_params, title)\n",
    "\n",
    "# Visualiser chaque statistique\n",
    "visualize_image(moyenne_raster, vis_params, 'moyenne_raster')\n",
    "\n",
    "# Ajouter une barre de couleurs (légende automatique)\n",
    "Map.add_colorbar(vis_params=vis_params, label=\"Valeur\", layer_name='moyenne_raster')\n",
    "\n",
    "# Ajouter une flèche du nord plus petite dans le coin supérieur droit\n",
    "north_arrow_url = 'https://img.freepik.com/vecteurs-premium/icone-fleche-nord-symbole-compas-panneau-direction-carte-logo-nord-sud-ouest-est-dans-vecteur-plat_754658-414.jpg?w=2000'\n",
    "north_arrow = ImageOverlay(\n",
    "    url=north_arrow_url,\n",
    "    bounds=[[20, -10], [25, -15]],  # Ajuster les coordonnées pour réduire la taille et positionner en haut à droite\n",
    "    opacity=0.8\n",
    ")\n",
    "Map.add_layer(north_arrow)\n",
    "\n",
    "# Afficher la carte\n",
    "Map\n"
   ]
  },
  {
   "cell_type": "markdown",
   "id": "d3af3355-3e18-477e-88ad-971a69ff3d73",
   "metadata": {},
   "source": [
    "Superposons ce raster avec un shapefile "
   ]
  },
  {
   "cell_type": "code",
   "execution_count": 6,
   "id": "2374b373-4f1f-486f-8b90-012266dc482a",
   "metadata": {
    "scrolled": true
   },
   "outputs": [
    {
     "data": {
      "text/html": [
       "\n",
       "            <style>\n",
       "                .geemap-dark {\n",
       "                    --jp-widgets-color: white;\n",
       "                    --jp-widgets-label-color: white;\n",
       "                    --jp-ui-font-color1: white;\n",
       "                    --jp-layout-color2: #454545;\n",
       "                    background-color: #383838;\n",
       "                }\n",
       "\n",
       "                .geemap-dark .jupyter-button {\n",
       "                    --jp-layout-color3: #383838;\n",
       "                }\n",
       "\n",
       "                .geemap-colab {\n",
       "                    background-color: var(--colab-primary-surface-color, white);\n",
       "                }\n",
       "\n",
       "                .geemap-colab .jupyter-button {\n",
       "                    --jp-layout-color3: var(--colab-primary-surface-color, white);\n",
       "                }\n",
       "            </style>\n",
       "            "
      ],
      "text/plain": [
       "<IPython.core.display.HTML object>"
      ]
     },
     "metadata": {},
     "output_type": "display_data"
    },
    {
     "data": {
      "application/vnd.jupyter.widget-view+json": {
       "model_id": "2ccd822253ef4a77967157f4baa529a5",
       "version_major": 2,
       "version_minor": 0
      },
      "text/plain": [
       "Map(center=[0, 0], controls=(WidgetControl(options=['position', 'transparent_bg'], widget=SearchDataGUI(childr…"
      ]
     },
     "execution_count": 6,
     "metadata": {},
     "output_type": "execute_result"
    }
   ],
   "source": [
    "# Paramètres de visualisation du raster\n",
    "vis_params = {\n",
    "    'min': 0,\n",
    "    'max': 1,\n",
    "    #'palette': ['blue', 'green', 'yellow', 'red']\n",
    "}\n",
    "\n",
    "\n",
    "# Charger le shapefile (FeatureCollection)\n",
    "shapefile = ee.FeatureCollection('projects/ee-khadijaaatou180702/assets/bfa_admbnda_adm0_igb_20200323') \n",
    "\n",
    "# Créer une carte\n",
    "Map = geemap.Map(center=[0, 0], zoom=2)\n",
    "\n",
    "# Ajouter le raster à la carte\n",
    "Map.addLayer(moyenne_raster, vis_params, 'Raster')\n",
    "\n",
    "# Ajouter le shapefile à la carte\n",
    "Map.addLayer(shapefile, {'color': 'black'}, 'Shapefile')\n",
    "\n",
    "# Afficher la carte avec les deux couches superposées\n",
    "Map\n"
   ]
  },
  {
   "cell_type": "markdown",
   "id": "7990644f-d045-4119-b39f-c6ea64ffddd6",
   "metadata": {},
   "source": [
    "## Calculons, à présent, les moyennes des pixels par niveau pour avoir les taux de parasite chez les enfants pour le pays, chaque région, chaque province et chaque département"
   ]
  },
  {
   "cell_type": "code",
   "execution_count": 16,
   "id": "5b52d457-0554-4697-b43a-5e34931debee",
   "metadata": {},
   "outputs": [
    {
     "data": {
      "text/html": [
       "\n",
       "            <style>\n",
       "                .geemap-dark {\n",
       "                    --jp-widgets-color: white;\n",
       "                    --jp-widgets-label-color: white;\n",
       "                    --jp-ui-font-color1: white;\n",
       "                    --jp-layout-color2: #454545;\n",
       "                    background-color: #383838;\n",
       "                }\n",
       "\n",
       "                .geemap-dark .jupyter-button {\n",
       "                    --jp-layout-color3: #383838;\n",
       "                }\n",
       "\n",
       "                .geemap-colab {\n",
       "                    background-color: var(--colab-primary-surface-color, white);\n",
       "                }\n",
       "\n",
       "                .geemap-colab .jupyter-button {\n",
       "                    --jp-layout-color3: var(--colab-primary-surface-color, white);\n",
       "                }\n",
       "            </style>\n",
       "            "
      ],
      "text/plain": [
       "<IPython.core.display.HTML object>"
      ]
     },
     "metadata": {},
     "output_type": "display_data"
    }
   ],
   "source": [
    "\n",
    "# Charger les shapefiles des régions, provinces et du pays\n",
    "pays = ee.FeatureCollection('projects/ee-khadijaaatou180702/assets/bfa_admbnda_adm0_igb_20200323') \n",
    "regions = ee.FeatureCollection('projects/ee-khadijaaatou180702/assets/bfa_admbnda_adm1_igb_20200323')  \n",
    "provinces = ee.FeatureCollection('projects/ee-khadijaaatou180702/assets/bfa_admbnda_adm2_igb_20200323')  \n",
    "communes = ee.FeatureCollection('projects/ee-khadijaaatou180702/assets/bfa_admbnda_adm3_igb_20200323') \n",
    "\n",
    "# Fonction pour calculer les moyennes par zone\n",
    "def statistiques_par_zone(feature_collection, image, statistic_type='mean'):\n",
    "    stats = image.reduceRegions(\n",
    "        collection=feature_collection,\n",
    "        reducer=ee.Reducer.mean(),\n",
    "        scale=30\n",
    "    )\n",
    "    return stats\n",
    "\n",
    "\n"
   ]
  },
  {
   "cell_type": "code",
   "execution_count": 9,
   "id": "9216deba-0ad6-43b0-948c-89089a8afe23",
   "metadata": {},
   "outputs": [
    {
     "data": {
      "text/html": [
       "\n",
       "            <style>\n",
       "                .geemap-dark {\n",
       "                    --jp-widgets-color: white;\n",
       "                    --jp-widgets-label-color: white;\n",
       "                    --jp-ui-font-color1: white;\n",
       "                    --jp-layout-color2: #454545;\n",
       "                    background-color: #383838;\n",
       "                }\n",
       "\n",
       "                .geemap-dark .jupyter-button {\n",
       "                    --jp-layout-color3: #383838;\n",
       "                }\n",
       "\n",
       "                .geemap-colab {\n",
       "                    background-color: var(--colab-primary-surface-color, white);\n",
       "                }\n",
       "\n",
       "                .geemap-colab .jupyter-button {\n",
       "                    --jp-layout-color3: var(--colab-primary-surface-color, white);\n",
       "                }\n",
       "            </style>\n",
       "            "
      ],
      "text/plain": [
       "<IPython.core.display.HTML object>"
      ]
     },
     "metadata": {},
     "output_type": "display_data"
    }
   ],
   "source": [
    "# Calcul pour l'ensemble du pays\n",
    "moyenne_pays = statistiques_par_zone(pays, moyenne_raster)\n",
    "pays_result = moyenne_pays.getInfo()\n",
    "\n",
    "\n",
    "\n",
    "\n"
   ]
  },
  {
   "cell_type": "code",
   "execution_count": 10,
   "id": "524f92fa-32bb-4b0a-a0d8-de798a0636c0",
   "metadata": {},
   "outputs": [
    {
     "data": {
      "text/html": [
       "\n",
       "            <style>\n",
       "                .geemap-dark {\n",
       "                    --jp-widgets-color: white;\n",
       "                    --jp-widgets-label-color: white;\n",
       "                    --jp-ui-font-color1: white;\n",
       "                    --jp-layout-color2: #454545;\n",
       "                    background-color: #383838;\n",
       "                }\n",
       "\n",
       "                .geemap-dark .jupyter-button {\n",
       "                    --jp-layout-color3: #383838;\n",
       "                }\n",
       "\n",
       "                .geemap-colab {\n",
       "                    background-color: var(--colab-primary-surface-color, white);\n",
       "                }\n",
       "\n",
       "                .geemap-colab .jupyter-button {\n",
       "                    --jp-layout-color3: var(--colab-primary-surface-color, white);\n",
       "                }\n",
       "            </style>\n",
       "            "
      ],
      "text/plain": [
       "<IPython.core.display.HTML object>"
      ]
     },
     "metadata": {},
     "output_type": "display_data"
    }
   ],
   "source": [
    "# Calcul par région\n",
    "moyenne_regions = statistiques_par_zone(regions, moyenne_raster)\n",
    "regions_result = moyenne_regions.getInfo()\n",
    "\n"
   ]
  },
  {
   "cell_type": "code",
   "execution_count": 13,
   "id": "43ca471a-426d-42e0-bd59-a09ff3ce7a6f",
   "metadata": {},
   "outputs": [
    {
     "data": {
      "text/html": [
       "\n",
       "            <style>\n",
       "                .geemap-dark {\n",
       "                    --jp-widgets-color: white;\n",
       "                    --jp-widgets-label-color: white;\n",
       "                    --jp-ui-font-color1: white;\n",
       "                    --jp-layout-color2: #454545;\n",
       "                    background-color: #383838;\n",
       "                }\n",
       "\n",
       "                .geemap-dark .jupyter-button {\n",
       "                    --jp-layout-color3: #383838;\n",
       "                }\n",
       "\n",
       "                .geemap-colab {\n",
       "                    background-color: var(--colab-primary-surface-color, white);\n",
       "                }\n",
       "\n",
       "                .geemap-colab .jupyter-button {\n",
       "                    --jp-layout-color3: var(--colab-primary-surface-color, white);\n",
       "                }\n",
       "            </style>\n",
       "            "
      ],
      "text/plain": [
       "<IPython.core.display.HTML object>"
      ]
     },
     "metadata": {},
     "output_type": "display_data"
    }
   ],
   "source": [
    "# Calcul par province\n",
    "moyenne_provinces = statistiques_par_zone(provinces, moyenne_raster)\n",
    "provinces_result = moyenne_provinces.getInfo()\n",
    "\n"
   ]
  },
  {
   "cell_type": "code",
   "execution_count": 27,
   "id": "185577e8-858a-4fac-8f86-46868ba5fc48",
   "metadata": {},
   "outputs": [
    {
     "data": {
      "text/html": [
       "\n",
       "            <style>\n",
       "                .geemap-dark {\n",
       "                    --jp-widgets-color: white;\n",
       "                    --jp-widgets-label-color: white;\n",
       "                    --jp-ui-font-color1: white;\n",
       "                    --jp-layout-color2: #454545;\n",
       "                    background-color: #383838;\n",
       "                }\n",
       "\n",
       "                .geemap-dark .jupyter-button {\n",
       "                    --jp-layout-color3: #383838;\n",
       "                }\n",
       "\n",
       "                .geemap-colab {\n",
       "                    background-color: var(--colab-primary-surface-color, white);\n",
       "                }\n",
       "\n",
       "                .geemap-colab .jupyter-button {\n",
       "                    --jp-layout-color3: var(--colab-primary-surface-color, white);\n",
       "                }\n",
       "            </style>\n",
       "            "
      ],
      "text/plain": [
       "<IPython.core.display.HTML object>"
      ]
     },
     "metadata": {},
     "output_type": "display_data"
    }
   ],
   "source": [
    "# Calcul par commune\n",
    "moyenne_commune = statistiques_par_zone(communes, moyenne_raster)\n",
    "communes_result = moyenne_commune.getInfo()"
   ]
  },
  {
   "cell_type": "code",
   "execution_count": 11,
   "id": "3e9005ab-ead2-477b-9ada-147022aac4b1",
   "metadata": {},
   "outputs": [
    {
     "data": {
      "text/html": [
       "\n",
       "            <style>\n",
       "                .geemap-dark {\n",
       "                    --jp-widgets-color: white;\n",
       "                    --jp-widgets-label-color: white;\n",
       "                    --jp-ui-font-color1: white;\n",
       "                    --jp-layout-color2: #454545;\n",
       "                    background-color: #383838;\n",
       "                }\n",
       "\n",
       "                .geemap-dark .jupyter-button {\n",
       "                    --jp-layout-color3: #383838;\n",
       "                }\n",
       "\n",
       "                .geemap-colab {\n",
       "                    background-color: var(--colab-primary-surface-color, white);\n",
       "                }\n",
       "\n",
       "                .geemap-colab .jupyter-button {\n",
       "                    --jp-layout-color3: var(--colab-primary-surface-color, white);\n",
       "                }\n",
       "            </style>\n",
       "            "
      ],
      "text/plain": [
       "<IPython.core.display.HTML object>"
      ]
     },
     "metadata": {},
     "output_type": "display_data"
    },
    {
     "name": "stdout",
     "output_type": "stream",
     "text": [
      "           Pays  Moyenne des taux de parasite chez les enfants\n",
      "0  Burkina Faso                                       0.551528\n"
     ]
    }
   ],
   "source": [
    "import pandas as pd\n",
    "\n",
    "# Initialiser une liste pour stocker les données\n",
    "data = []\n",
    "\n",
    "# Boucler sur les résultats du pays \n",
    "for feature in pays_result['features']:\n",
    "    nom_pays = feature['properties']['ADM0_FR']\n",
    "    moyenne_valeur = feature['properties']['mean']\n",
    "    \n",
    "    # Ajouter chaque ligne sous forme de dictionnaire\n",
    "    data.append({\"Pays\": nom_pays, \"Moyenne des taux de parasite chez les enfants\": moyenne_valeur})\n",
    "\n",
    "# Convertir la liste en DataFrame\n",
    "df = pd.DataFrame(data)\n",
    "\n",
    "# Afficher le tableau (optionnel)\n",
    "print(df)\n",
    "\n",
    "# Exporter en CSV\n",
    "df.to_csv(\"C:/Users/HP/OneDrive/1231116193333-Desktop/Desktop/Stat_explo_spatiale/Statistique-Exploratoire-Spatiale/TP3/moyenne_par_pays.csv\", index=False)\n"
   ]
  },
  {
   "cell_type": "code",
   "execution_count": 12,
   "id": "af9f38a7-d17b-4d2a-af54-8295f4b0aa3b",
   "metadata": {},
   "outputs": [
    {
     "data": {
      "text/html": [
       "\n",
       "            <style>\n",
       "                .geemap-dark {\n",
       "                    --jp-widgets-color: white;\n",
       "                    --jp-widgets-label-color: white;\n",
       "                    --jp-ui-font-color1: white;\n",
       "                    --jp-layout-color2: #454545;\n",
       "                    background-color: #383838;\n",
       "                }\n",
       "\n",
       "                .geemap-dark .jupyter-button {\n",
       "                    --jp-layout-color3: #383838;\n",
       "                }\n",
       "\n",
       "                .geemap-colab {\n",
       "                    background-color: var(--colab-primary-surface-color, white);\n",
       "                }\n",
       "\n",
       "                .geemap-colab .jupyter-button {\n",
       "                    --jp-layout-color3: var(--colab-primary-surface-color, white);\n",
       "                }\n",
       "            </style>\n",
       "            "
      ],
      "text/plain": [
       "<IPython.core.display.HTML object>"
      ]
     },
     "metadata": {},
     "output_type": "display_data"
    },
    {
     "name": "stdout",
     "output_type": "stream",
     "text": [
      "               Région  Moyenne des taux de parasite chez les enfants\n",
      "0   Boucle du Mouhoun                                       0.588348\n",
      "1            Cascades                                       0.555316\n",
      "2              Centre                                       0.381428\n",
      "3          Centre-Est                                       0.514621\n",
      "4         Centre-Nord                                       0.556379\n",
      "5        Centre-Ouest                                       0.581839\n",
      "6          Centre-Sud                                       0.500188\n",
      "7                 Est                                       0.576530\n",
      "8       Hauts-Bassins                                       0.533363\n",
      "9                Nord                                       0.550932\n",
      "10    Plateau-Central                                       0.472275\n",
      "11              Sahel                                       0.518248\n",
      "12          Sud-Ouest                                       0.595293\n"
     ]
    }
   ],
   "source": [
    "import pandas as pd\n",
    "\n",
    "# Initialiser une liste pour stocker les données\n",
    "data = []\n",
    "\n",
    "# Boucler sur les résultats des régions (similaire à `regions_result['features']`)\n",
    "for feature in regions_result['features']:\n",
    "    nom_region = feature['properties']['ADM1_FR']\n",
    "    moyenne_valeur = feature['properties']['mean']\n",
    "    \n",
    "    # Ajouter chaque ligne sous forme de dictionnaire\n",
    "    data.append({\"Région\": nom_region, \"Moyenne des taux de parasite chez les enfants\": moyenne_valeur})\n",
    "\n",
    "# Convertir la liste en DataFrame\n",
    "df = pd.DataFrame(data)\n",
    "\n",
    "# Afficher le tableau (optionnel)\n",
    "print(df)\n",
    "\n",
    "# Exporter en CSV\n",
    "df.to_csv(\"C:/Users/HP/OneDrive/1231116193333-Desktop/Desktop/Stat_explo_spatiale/Statistique-Exploratoire-Spatiale/TP3/moyennes_par_region.csv\", index=False)\n"
   ]
  },
  {
   "cell_type": "code",
   "execution_count": 14,
   "id": "4357233d-5e7d-431f-a7b3-364ba5373b84",
   "metadata": {},
   "outputs": [
    {
     "data": {
      "text/html": [
       "\n",
       "            <style>\n",
       "                .geemap-dark {\n",
       "                    --jp-widgets-color: white;\n",
       "                    --jp-widgets-label-color: white;\n",
       "                    --jp-ui-font-color1: white;\n",
       "                    --jp-layout-color2: #454545;\n",
       "                    background-color: #383838;\n",
       "                }\n",
       "\n",
       "                .geemap-dark .jupyter-button {\n",
       "                    --jp-layout-color3: #383838;\n",
       "                }\n",
       "\n",
       "                .geemap-colab {\n",
       "                    background-color: var(--colab-primary-surface-color, white);\n",
       "                }\n",
       "\n",
       "                .geemap-colab .jupyter-button {\n",
       "                    --jp-layout-color3: var(--colab-primary-surface-color, white);\n",
       "                }\n",
       "            </style>\n",
       "            "
      ],
      "text/plain": [
       "<IPython.core.display.HTML object>"
      ]
     },
     "metadata": {},
     "output_type": "display_data"
    },
    {
     "name": "stdout",
     "output_type": "stream",
     "text": [
      "       Province  Moyenne des taux de parasite chez les enfants\n",
      "0          Balé                                       0.585731\n",
      "1         Banwa                                       0.572779\n",
      "2         Kossi                                       0.604405\n",
      "3       Mouhoun                                       0.580954\n",
      "4        Nayala                                       0.606472\n",
      "5        Sourou                                       0.582945\n",
      "6         Comoé                                       0.568416\n",
      "7        Léraba                                       0.482906\n",
      "8       Kadiogo                                       0.381428\n",
      "9       Boulgou                                       0.475284\n",
      "10   Koulpélogo                                       0.566808\n",
      "11  Kourittenga                                       0.504774\n",
      "12          Bam                                       0.571812\n",
      "13   Namentenga                                       0.584335\n",
      "14   Sanmatenga                                       0.530714\n",
      "15   Boulkiemdé                                       0.545567\n",
      "16      Sanguié                                       0.595137\n",
      "17      Sissili                                       0.596368\n",
      "18         Ziro                                       0.578777\n",
      "19       Bazèga                                       0.498811\n",
      "20      Nahouri                                       0.507221\n",
      "21   Zoundwéogo                                       0.494641\n",
      "22       Gnagna                                       0.563609\n",
      "23       Gourma                                       0.590875\n",
      "24   Komandjari                                       0.536749\n",
      "25    Kompienga                                       0.630122\n",
      "26        Tapoa                                       0.561613\n",
      "27        Houet                                       0.516636\n",
      "28   Kénédougou                                       0.538419\n",
      "29          Tuy                                       0.560581\n",
      "30       Loroum                                       0.567409\n",
      "31      Passoré                                       0.562614\n",
      "32      Yatenga                                       0.530743\n",
      "33      Zondoma                                       0.563401\n",
      "34   Ganzourgou                                       0.478821\n",
      "35    Kourwéogo                                       0.518104\n",
      "36   Oubritenga                                       0.434298\n",
      "37      Oudalan                                       0.469127\n",
      "38         Séno                                       0.507649\n",
      "39         Soum                                       0.599398\n",
      "40        Yagha                                       0.446845\n",
      "41   Bougouriba                                       0.581689\n",
      "42         Ioba                                       0.562204\n",
      "43     Noumbiel                                       0.609442\n",
      "44         Poni                                       0.609512\n"
     ]
    }
   ],
   "source": [
    "import pandas as pd\n",
    "\n",
    "# Initialiser une liste pour stocker les données\n",
    "data = []\n",
    "\n",
    "# Boucler sur les résultats des provinces \n",
    "for feature in provinces_result['features']:\n",
    "    nom_province = feature['properties']['ADM2_FR']\n",
    "    moyenne_valeur = feature['properties']['mean']\n",
    "    \n",
    "    # Ajouter chaque ligne sous forme de dictionnaire\n",
    "    data.append({\"Province\": nom_province, \"Moyenne des taux de parasite chez les enfants\": moyenne_valeur})\n",
    "\n",
    "# Convertir la liste en DataFrame\n",
    "df = pd.DataFrame(data)\n",
    "\n",
    "# Afficher le tableau (optionnel)\n",
    "print(df)\n",
    "\n",
    "# Exporter en CSV\n",
    "df.to_csv(\"C:/Users/HP/OneDrive/1231116193333-Desktop/Desktop/Stat_explo_spatiale/Statistique-Exploratoire-Spatiale/TP3/moyennes_par_province.csv\", index=False)\n"
   ]
  },
  {
   "cell_type": "code",
   "execution_count": 29,
   "id": "bc7152e9-c064-4b39-937b-9164dc231c2d",
   "metadata": {},
   "outputs": [
    {
     "data": {
      "text/html": [
       "\n",
       "            <style>\n",
       "                .geemap-dark {\n",
       "                    --jp-widgets-color: white;\n",
       "                    --jp-widgets-label-color: white;\n",
       "                    --jp-ui-font-color1: white;\n",
       "                    --jp-layout-color2: #454545;\n",
       "                    background-color: #383838;\n",
       "                }\n",
       "\n",
       "                .geemap-dark .jupyter-button {\n",
       "                    --jp-layout-color3: #383838;\n",
       "                }\n",
       "\n",
       "                .geemap-colab {\n",
       "                    background-color: var(--colab-primary-surface-color, white);\n",
       "                }\n",
       "\n",
       "                .geemap-colab .jupyter-button {\n",
       "                    --jp-layout-color3: var(--colab-primary-surface-color, white);\n",
       "                }\n",
       "            </style>\n",
       "            "
      ],
      "text/plain": [
       "<IPython.core.display.HTML object>"
      ]
     },
     "metadata": {},
     "output_type": "display_data"
    },
    {
     "name": "stdout",
     "output_type": "stream",
     "text": [
      "     departement  Moyenne des taux de parasite chez les enfants\n",
      "0    Komki-Ipala                                       0.469569\n",
      "1       Komsilga                                       0.419024\n",
      "2         Koubri                                       0.360350\n",
      "3    Ouagadougou                                       0.311628\n",
      "4          Pabré                                       0.441001\n",
      "..           ...                                            ...\n",
      "346       Kampti                                       0.601319\n",
      "347     Loropéni                                       0.623214\n",
      "348        Malba                                       0.583591\n",
      "349         Nako                                       0.597619\n",
      "350     Périgban                                       0.614309\n",
      "\n",
      "[351 rows x 2 columns]\n"
     ]
    }
   ],
   "source": [
    "import pandas as pd\n",
    "# Initialiser une liste pour stocker les données\n",
    "data = []\n",
    "\n",
    "# Supposons que `departements_result` soit le résultat du code initial\n",
    "for feature in communes_result['features']:\n",
    "    nom_commune = feature['properties']['ADM3_FR']\n",
    "    moyenne_valeur = feature['properties']['mean']\n",
    "    # Ajouter chaque ligne sous forme de dictionnaire\n",
    "    data.append({\"departement\": nom_commune, \"Moyenne des taux de parasite chez les enfants\": moyenne_valeur})\n",
    "\n",
    "# Convertir en DataFrame\n",
    "df = pd.DataFrame(data)\n",
    "\n",
    "# Afficher le tableau\n",
    "print(df)\n",
    "\n",
    "# Optionnel : Exporter en CSV\n",
    "df.to_csv(\"C:/Users/HP/OneDrive/1231116193333-Desktop/Desktop/Stat_explo_spatiale/Statistique-Exploratoire-Spatiale/TP3/moyennes_par_departement.csv\", index=False)\n",
    "\n",
    "\n",
    "\n"
   ]
  },
  {
   "cell_type": "markdown",
   "id": "c245332e-046d-454d-b229-dfbb86bca45c",
   "metadata": {},
   "source": [
    "## Visualisons les cartes avec OpenstreetMap"
   ]
  },
  {
   "cell_type": "code",
   "execution_count": 30,
   "id": "8f0a8276-e69e-4c20-9efa-c759257740ef",
   "metadata": {
    "scrolled": true
   },
   "outputs": [
    {
     "data": {
      "text/html": [
       "\n",
       "            <style>\n",
       "                .geemap-dark {\n",
       "                    --jp-widgets-color: white;\n",
       "                    --jp-widgets-label-color: white;\n",
       "                    --jp-ui-font-color1: white;\n",
       "                    --jp-layout-color2: #454545;\n",
       "                    background-color: #383838;\n",
       "                }\n",
       "\n",
       "                .geemap-dark .jupyter-button {\n",
       "                    --jp-layout-color3: #383838;\n",
       "                }\n",
       "\n",
       "                .geemap-colab {\n",
       "                    background-color: var(--colab-primary-surface-color, white);\n",
       "                }\n",
       "\n",
       "                .geemap-colab .jupyter-button {\n",
       "                    --jp-layout-color3: var(--colab-primary-surface-color, white);\n",
       "                }\n",
       "            </style>\n",
       "            "
      ],
      "text/plain": [
       "<IPython.core.display.HTML object>"
      ]
     },
     "metadata": {},
     "output_type": "display_data"
    }
   ],
   "source": [
    "\n",
    "# Fonction pour mettre à jour le shapefile avec les moyennes calculées\n",
    "def shp_avec_les_moyennes(feature_collection, image, mean_property_name='Moyenne_Pixels'):\n",
    "    stats = image.reduceRegions(\n",
    "        collection=feature_collection,\n",
    "        reducer=ee.Reducer.mean(),\n",
    "        scale=30\n",
    "    )\n",
    "    # Ajouter les moyennes comme propriété\n",
    "    return stats.map(lambda feature: feature.set(mean_property_name, feature.get('mean')))\n",
    "\n",
    "# Fonction pour créer une image à partir des valeurs moyennes\n",
    "def creer_image(feature_collection, mean_property_name):\n",
    "    \"\"\"Crée une image raster à partir des valeurs moyennes des entités.\"\"\"\n",
    "    return feature_collection.reduceToImage(\n",
    "        properties=[mean_property_name],\n",
    "        reducer=ee.Reducer.first()\n",
    "    )\n",
    "\n",
    "# Mettre à jour les shapefiles avec les moyennes\n",
    "pays_updated = shp_avec_les_moyennes(pays, moyenne_raster, 'Moyenne_Pays')\n",
    "regions_updated = shp_avec_les_moyennes(regions, moyenne_raster, 'Moyenne_Région')\n",
    "provinces_updated = shp_avec_les_moyennes(provinces, moyenne_raster, 'Moyenne_Province')\n",
    "communes_updated = shp_avec_les_moyennes(communes, moyenne_raster, 'Moyenne_Commune')\n",
    "\n",
    "# Créer des images pour les moyennes de chaque niveau\n",
    "pays_image = creer_image(pays_updated, 'Moyenne_Pays')\n",
    "regions_image = creer_image(regions_updated, 'Moyenne_Région')\n",
    "provinces_image = creer_image(provinces_updated, 'Moyenne_Province')\n",
    "communes_image = creer_image(communes_updated, 'Moyenne_Commune')\n",
    "\n",
    "# Calculer les valeurs min et max pour les visualisations dynamiques\n",
    "min_value = 0\n",
    "max_value = 1  \n",
    "\n",
    "# Paramètres de visualisation dynamiques pour les couleurs\n",
    "vis_params = {\n",
    "    'min': min_value,\n",
    "    'max': max_value,\n",
    "    'palette': ['blue', 'green', 'yellow', 'red']\n",
    "}\n",
    "\n",
    "# Créer une carte pour chaque niveau administratif\n",
    "Map_pays = geemap.Map(center=[12, -1], zoom=6)\n",
    "Map_regions = geemap.Map(center=[12, -1], zoom=6)\n",
    "Map_provinces = geemap.Map(center=[12, -1], zoom=6)\n",
    "Map_communes = geemap.Map(center=[12, -1], zoom=6)\n",
    "\n",
    "# Ajouter les images à chaque carte avec les paramètres de visualisation\n",
    "Map_pays.addLayer(pays_image, vis_params, 'Pays - Moyenne')\n",
    "Map_regions.addLayer(regions_image, vis_params, 'Régions - Moyenne')\n",
    "Map_provinces.addLayer(provinces_image, vis_params, 'Provinces - Moyenne')\n",
    "Map_communes.addLayer(communes_image, vis_params, 'Communes - Moyenne')\n",
    "\n",
    "# Ajouter une légende pour chaque carte\n",
    "Map_pays.add_colorbar(vis_params=vis_params, label=\"Moyenne des valeurs des pixels - Pays\")\n",
    "Map_regions.add_colorbar(vis_params=vis_params, label=\"Moyenne des valeurs des pixels - Régions\")\n",
    "Map_provinces.add_colorbar(vis_params=vis_params, label=\"Moyenne des valeurs des pixels - Provinces\")\n",
    "Map_communes.add_colorbar(vis_params=vis_params, label=\"Moyenne des valeurs des pixels - Communes\")\n",
    "\n",
    "\n"
   ]
  },
  {
   "cell_type": "markdown",
   "id": "7b0d1e45-c58f-4d87-a19d-01437d67b2a5",
   "metadata": {},
   "source": [
    "Afficher les cartes"
   ]
  },
  {
   "cell_type": "code",
   "execution_count": 31,
   "id": "f70bcd48-0cf3-4a4c-a3bb-728f7987c161",
   "metadata": {},
   "outputs": [
    {
     "data": {
      "text/html": [
       "\n",
       "            <style>\n",
       "                .geemap-dark {\n",
       "                    --jp-widgets-color: white;\n",
       "                    --jp-widgets-label-color: white;\n",
       "                    --jp-ui-font-color1: white;\n",
       "                    --jp-layout-color2: #454545;\n",
       "                    background-color: #383838;\n",
       "                }\n",
       "\n",
       "                .geemap-dark .jupyter-button {\n",
       "                    --jp-layout-color3: #383838;\n",
       "                }\n",
       "\n",
       "                .geemap-colab {\n",
       "                    background-color: var(--colab-primary-surface-color, white);\n",
       "                }\n",
       "\n",
       "                .geemap-colab .jupyter-button {\n",
       "                    --jp-layout-color3: var(--colab-primary-surface-color, white);\n",
       "                }\n",
       "            </style>\n",
       "            "
      ],
      "text/plain": [
       "<IPython.core.display.HTML object>"
      ]
     },
     "metadata": {},
     "output_type": "display_data"
    },
    {
     "name": "stdout",
     "output_type": "stream",
     "text": [
      "Carte pour le niveau Pays :\n"
     ]
    },
    {
     "data": {
      "application/vnd.jupyter.widget-view+json": {
       "model_id": "8fce576044e34ad7a6fbb4919f12a0a6",
       "version_major": 2,
       "version_minor": 0
      },
      "text/plain": [
       "Map(center=[12, -1], controls=(WidgetControl(options=['position', 'transparent_bg'], widget=SearchDataGUI(chil…"
      ]
     },
     "execution_count": 31,
     "metadata": {},
     "output_type": "execute_result"
    }
   ],
   "source": [
    "print(\"Carte pour le niveau Pays :\")\n",
    "Map_pays"
   ]
  },
  {
   "cell_type": "code",
   "execution_count": 32,
   "id": "54e7b197-e004-4599-a742-629e9e5731af",
   "metadata": {},
   "outputs": [
    {
     "data": {
      "text/html": [
       "\n",
       "            <style>\n",
       "                .geemap-dark {\n",
       "                    --jp-widgets-color: white;\n",
       "                    --jp-widgets-label-color: white;\n",
       "                    --jp-ui-font-color1: white;\n",
       "                    --jp-layout-color2: #454545;\n",
       "                    background-color: #383838;\n",
       "                }\n",
       "\n",
       "                .geemap-dark .jupyter-button {\n",
       "                    --jp-layout-color3: #383838;\n",
       "                }\n",
       "\n",
       "                .geemap-colab {\n",
       "                    background-color: var(--colab-primary-surface-color, white);\n",
       "                }\n",
       "\n",
       "                .geemap-colab .jupyter-button {\n",
       "                    --jp-layout-color3: var(--colab-primary-surface-color, white);\n",
       "                }\n",
       "            </style>\n",
       "            "
      ],
      "text/plain": [
       "<IPython.core.display.HTML object>"
      ]
     },
     "metadata": {},
     "output_type": "display_data"
    },
    {
     "name": "stdout",
     "output_type": "stream",
     "text": [
      "Carte pour le niveau Régions :\n"
     ]
    },
    {
     "data": {
      "application/vnd.jupyter.widget-view+json": {
       "model_id": "dddf173aadbf4513b1e6158f91e9e542",
       "version_major": 2,
       "version_minor": 0
      },
      "text/plain": [
       "Map(center=[12, -1], controls=(WidgetControl(options=['position', 'transparent_bg'], widget=SearchDataGUI(chil…"
      ]
     },
     "execution_count": 32,
     "metadata": {},
     "output_type": "execute_result"
    }
   ],
   "source": [
    "print(\"Carte pour le niveau Régions :\")\n",
    "Map_regions"
   ]
  },
  {
   "cell_type": "code",
   "execution_count": 34,
   "id": "d089af0c-6394-4864-b80b-77c88e2a4332",
   "metadata": {
    "scrolled": true
   },
   "outputs": [
    {
     "data": {
      "text/html": [
       "\n",
       "            <style>\n",
       "                .geemap-dark {\n",
       "                    --jp-widgets-color: white;\n",
       "                    --jp-widgets-label-color: white;\n",
       "                    --jp-ui-font-color1: white;\n",
       "                    --jp-layout-color2: #454545;\n",
       "                    background-color: #383838;\n",
       "                }\n",
       "\n",
       "                .geemap-dark .jupyter-button {\n",
       "                    --jp-layout-color3: #383838;\n",
       "                }\n",
       "\n",
       "                .geemap-colab {\n",
       "                    background-color: var(--colab-primary-surface-color, white);\n",
       "                }\n",
       "\n",
       "                .geemap-colab .jupyter-button {\n",
       "                    --jp-layout-color3: var(--colab-primary-surface-color, white);\n",
       "                }\n",
       "            </style>\n",
       "            "
      ],
      "text/plain": [
       "<IPython.core.display.HTML object>"
      ]
     },
     "metadata": {},
     "output_type": "display_data"
    },
    {
     "name": "stdout",
     "output_type": "stream",
     "text": [
      "Carte pour le niveau Provinces :\n"
     ]
    },
    {
     "data": {
      "application/vnd.jupyter.widget-view+json": {
       "model_id": "cc5560dbe1394fb09a926683252d83f3",
       "version_major": 2,
       "version_minor": 0
      },
      "text/plain": [
       "Map(bottom=8039.0, center=[9.903921416774978, -1.36243447117131], controls=(WidgetControl(options=['position',…"
      ]
     },
     "execution_count": 34,
     "metadata": {},
     "output_type": "execute_result"
    }
   ],
   "source": [
    "print(\"Carte pour le niveau Provinces :\")\n",
    "Map_provinces"
   ]
  },
  {
   "cell_type": "code",
   "execution_count": 35,
   "id": "c406148e-5968-42d4-8fbd-5f3d832531de",
   "metadata": {},
   "outputs": [
    {
     "data": {
      "text/html": [
       "\n",
       "            <style>\n",
       "                .geemap-dark {\n",
       "                    --jp-widgets-color: white;\n",
       "                    --jp-widgets-label-color: white;\n",
       "                    --jp-ui-font-color1: white;\n",
       "                    --jp-layout-color2: #454545;\n",
       "                    background-color: #383838;\n",
       "                }\n",
       "\n",
       "                .geemap-dark .jupyter-button {\n",
       "                    --jp-layout-color3: #383838;\n",
       "                }\n",
       "\n",
       "                .geemap-colab {\n",
       "                    background-color: var(--colab-primary-surface-color, white);\n",
       "                }\n",
       "\n",
       "                .geemap-colab .jupyter-button {\n",
       "                    --jp-layout-color3: var(--colab-primary-surface-color, white);\n",
       "                }\n",
       "            </style>\n",
       "            "
      ],
      "text/plain": [
       "<IPython.core.display.HTML object>"
      ]
     },
     "metadata": {},
     "output_type": "display_data"
    },
    {
     "name": "stdout",
     "output_type": "stream",
     "text": [
      "Carte pour le niveau Communes :\n"
     ]
    },
    {
     "data": {
      "application/vnd.jupyter.widget-view+json": {
       "model_id": "3ba5a2ef21f2449d8eb1c02f19605779",
       "version_major": 2,
       "version_minor": 0
      },
      "text/plain": [
       "Map(center=[12, -1], controls=(WidgetControl(options=['position', 'transparent_bg'], widget=SearchDataGUI(chil…"
      ]
     },
     "execution_count": 35,
     "metadata": {},
     "output_type": "execute_result"
    }
   ],
   "source": [
    "Map_communes.addLayer(communes, {'color': 'black'}, 'Shapefile')\n",
    "print(\"Carte pour le niveau Communes :\")\n",
    "Map_communes"
   ]
  },
  {
   "cell_type": "markdown",
   "id": "da5af17f-3f93-4b9f-969e-d153fffb1eba",
   "metadata": {},
   "source": [
    "# Essayons now d'afficher les noms des niveaux et les taux moyens correspondants"
   ]
  },
  {
   "cell_type": "markdown",
   "id": "5077adab-3527-4292-ab12-647013d981d9",
   "metadata": {},
   "source": [
    "### Pour le Burkina Faso"
   ]
  },
  {
   "cell_type": "code",
   "execution_count": 36,
   "id": "0c836e1f-388b-4a8a-995f-15c8a8464554",
   "metadata": {
    "scrolled": true
   },
   "outputs": [
    {
     "data": {
      "text/html": [
       "\n",
       "            <style>\n",
       "                .geemap-dark {\n",
       "                    --jp-widgets-color: white;\n",
       "                    --jp-widgets-label-color: white;\n",
       "                    --jp-ui-font-color1: white;\n",
       "                    --jp-layout-color2: #454545;\n",
       "                    background-color: #383838;\n",
       "                }\n",
       "\n",
       "                .geemap-dark .jupyter-button {\n",
       "                    --jp-layout-color3: #383838;\n",
       "                }\n",
       "\n",
       "                .geemap-colab {\n",
       "                    background-color: var(--colab-primary-surface-color, white);\n",
       "                }\n",
       "\n",
       "                .geemap-colab .jupyter-button {\n",
       "                    --jp-layout-color3: var(--colab-primary-surface-color, white);\n",
       "                }\n",
       "            </style>\n",
       "            "
      ],
      "text/plain": [
       "<IPython.core.display.HTML object>"
      ]
     },
     "metadata": {},
     "output_type": "display_data"
    },
    {
     "name": "stdout",
     "output_type": "stream",
     "text": [
      "Carte pour les Régions :\n",
      "Carte pour les Pays :\n"
     ]
    },
    {
     "data": {
      "application/vnd.jupyter.widget-view+json": {
       "model_id": "31d61cd8d94d4413b1dce3cf97eb55d2",
       "version_major": 2,
       "version_minor": 0
      },
      "text/plain": [
       "Map(center=[12, -1], controls=(WidgetControl(options=['position', 'transparent_bg'], widget=SearchDataGUI(chil…"
      ]
     },
     "execution_count": 36,
     "metadata": {},
     "output_type": "execute_result"
    }
   ],
   "source": [
    "# Paramètres de visualisation\n",
    "vis_params = {\n",
    "    'min': min_value,\n",
    "    'max': max_value,\n",
    "    'palette': ['pink']\n",
    "}\n",
    "# Créer la carte pour les pays\n",
    "Map_pays = geemap.Map(center=[12, -1], zoom=6)\n",
    "Map_pays.addLayer(pays_image, vis_params, 'Pays - Moyenne')\n",
    "\n",
    "# Ajouter les labels pour les pays\n",
    "for feature in pays_updated.getInfo()['features']:\n",
    "    pays_name = feature['properties']['ADM0_FR']\n",
    "    moyenne_valeur = feature['properties']['Moyenne_Pays']\n",
    "    label_text = f\"{pays_name}: {moyenne_valeur:.2f}\"\n",
    "    \n",
    "    # Extraire les coordonnées du centre du pays\n",
    "    centroid = ee.Feature(feature).geometry().centroid().coordinates().getInfo()\n",
    "    \n",
    "    # Ajouter le texte sur la carte\n",
    "    Map_pays.add_text(\n",
    "        text=label_text,\n",
    "        xy=centroid,\n",
    "        font_size=15,\n",
    "        font_color='black',\n",
    "        font_family='monospace'\n",
    "    )\n",
    "\n",
    "# Ajouter une légende pour les pays\n",
    "Map_pays.add_colorbar(vis_params=vis_params, label=\"Moyenne des valeurs des pixels - Pays\")\n",
    "\n",
    "\n",
    "print(\"Carte pour les Pays :\")\n",
    "Map_pays"
   ]
  },
  {
   "cell_type": "markdown",
   "id": "e76257e2-2860-4a34-8f57-f729713e2828",
   "metadata": {},
   "source": [
    "### Pour les régions du Burkina Faso"
   ]
  },
  {
   "cell_type": "code",
   "execution_count": 37,
   "id": "2788e047-cbeb-4e8d-9817-68fd8954b929",
   "metadata": {},
   "outputs": [
    {
     "data": {
      "text/html": [
       "\n",
       "            <style>\n",
       "                .geemap-dark {\n",
       "                    --jp-widgets-color: white;\n",
       "                    --jp-widgets-label-color: white;\n",
       "                    --jp-ui-font-color1: white;\n",
       "                    --jp-layout-color2: #454545;\n",
       "                    background-color: #383838;\n",
       "                }\n",
       "\n",
       "                .geemap-dark .jupyter-button {\n",
       "                    --jp-layout-color3: #383838;\n",
       "                }\n",
       "\n",
       "                .geemap-colab {\n",
       "                    background-color: var(--colab-primary-surface-color, white);\n",
       "                }\n",
       "\n",
       "                .geemap-colab .jupyter-button {\n",
       "                    --jp-layout-color3: var(--colab-primary-surface-color, white);\n",
       "                }\n",
       "            </style>\n",
       "            "
      ],
      "text/plain": [
       "<IPython.core.display.HTML object>"
      ]
     },
     "metadata": {},
     "output_type": "display_data"
    },
    {
     "data": {
      "application/vnd.jupyter.widget-view+json": {
       "model_id": "b8c8f392585b4ff3b929f559b7934689",
       "version_major": 2,
       "version_minor": 0
      },
      "text/plain": [
       "Map(center=[12, -1], controls=(WidgetControl(options=['position', 'transparent_bg'], widget=SearchDataGUI(chil…"
      ]
     },
     "execution_count": 37,
     "metadata": {},
     "output_type": "execute_result"
    }
   ],
   "source": [
    "\n",
    "# Mettre à jour les shapefiles avec les moyennes calculées\n",
    "def update_shapefile_with_mean(feature_collection, image, mean_property_name='Moyenne_Pixels'):\n",
    "    stats = image.reduceRegions(\n",
    "        collection=feature_collection,\n",
    "        reducer=ee.Reducer.mean(),\n",
    "        scale=30\n",
    "    )\n",
    "    # Ajouter les moyennes comme propriété\n",
    "    return stats.map(lambda feature: feature.set(mean_property_name, feature.get('mean')))\n",
    "\n",
    "# Mettre à jour les entités géographiques avec les moyennes des régions\n",
    "regions_updated = update_shapefile_with_mean(regions, moyenne_raster, 'Moyenne_Région')\n",
    "\n",
    "# Créer une image des moyennes des régions\n",
    "regions_image = regions_updated.reduceToImage(\n",
    "    properties=['Moyenne_Région'],\n",
    "    reducer=ee.Reducer.first()\n",
    ")\n",
    "\n",
    "# Paramètres de visualisation\n",
    "vis_params = {\n",
    "    'min': min_value,\n",
    "    'max': max_value,\n",
    "    'palette': ['white', '#fee5d9', '#fcae91', '#fb6a4a', '#de2d26', '#a50f15']\n",
    "}\n",
    "\n",
    "# Créer la carte\n",
    "Map_regions = geemap.Map(center=[12, -1], zoom=6)\n",
    "\n",
    "# Ajouter l'image des régions à la carte\n",
    "Map_regions.addLayer(regions_image, vis_params, 'Régions - Moyenne')\n",
    "\n",
    "# Ajouter les labels avec le texte des noms des régions et les moyennes\n",
    "for feature in regions_updated.getInfo()['features']:\n",
    "    region_name = feature['properties']['ADM1_FR']\n",
    "    moyenne_valeur = feature['properties']['Moyenne_Région']\n",
    "    label_text = f\"{region_name}: {moyenne_valeur:.2f}\"\n",
    "    \n",
    "    # Extraire les coordonnées du centre de chaque région\n",
    "    centroid = ee.Feature(feature).geometry().centroid().coordinates().getInfo()\n",
    "    \n",
    "    # Ajouter le texte sur la carte\n",
    "    Map_regions.add_text(\n",
    "        text=label_text,\n",
    "        xy=centroid,\n",
    "        font_size=15,\n",
    "        font_color='black',\n",
    "        font_family='monospace'\n",
    "    )\n",
    "\n",
    "# Ajouter une légende pour la carte\n",
    "Map_regions.add_colorbar(vis_params=vis_params, label=\"Moyenne des valeurs des pixels - Régions\")\n",
    "\n",
    "# Afficher la carte\n",
    "Map_regions\n"
   ]
  },
  {
   "cell_type": "markdown",
   "id": "b16bd596-82a9-4537-81fb-7713b0c0393e",
   "metadata": {},
   "source": [
    "### Pour les provinces du Burkina Faso"
   ]
  },
  {
   "cell_type": "code",
   "execution_count": 16,
   "id": "50d29d4e-a12b-45af-bc9e-bff9d4f2c98d",
   "metadata": {},
   "outputs": [
    {
     "data": {
      "text/html": [
       "\n",
       "            <style>\n",
       "                .geemap-dark {\n",
       "                    --jp-widgets-color: white;\n",
       "                    --jp-widgets-label-color: white;\n",
       "                    --jp-ui-font-color1: white;\n",
       "                    --jp-layout-color2: #454545;\n",
       "                    background-color: #383838;\n",
       "                }\n",
       "\n",
       "                .geemap-dark .jupyter-button {\n",
       "                    --jp-layout-color3: #383838;\n",
       "                }\n",
       "\n",
       "                .geemap-colab {\n",
       "                    background-color: var(--colab-primary-surface-color, white);\n",
       "                }\n",
       "\n",
       "                .geemap-colab .jupyter-button {\n",
       "                    --jp-layout-color3: var(--colab-primary-surface-color, white);\n",
       "                }\n",
       "            </style>\n",
       "            "
      ],
      "text/plain": [
       "<IPython.core.display.HTML object>"
      ]
     },
     "metadata": {},
     "output_type": "display_data"
    },
    {
     "data": {
      "application/vnd.jupyter.widget-view+json": {
       "model_id": "940d908a3b314dc5bf8c7008be823e10",
       "version_major": 2,
       "version_minor": 0
      },
      "text/plain": [
       "Map(center=[12, -1], controls=(WidgetControl(options=['position', 'transparent_bg'], widget=SearchDataGUI(chil…"
      ]
     },
     "execution_count": 16,
     "metadata": {},
     "output_type": "execute_result"
    }
   ],
   "source": [
    "# Mettre à jour les shapefiles avec les moyennes calculées\n",
    "def update_shapefile_with_mean(feature_collection, image, mean_property_name='Moyenne_Pixels'):\n",
    "    stats = image.reduceRegions(\n",
    "        collection=feature_collection,\n",
    "        reducer=ee.Reducer.mean(),\n",
    "        scale=30\n",
    "    )\n",
    "    # Ajouter les moyennes comme propriété\n",
    "    return stats.map(lambda feature: feature.set(mean_property_name, feature.get('mean')))\n",
    "\n",
    "# Mettre à jour les entités géographiques avec les moyennes pour les provinces\n",
    "provinces_updated = update_shapefile_with_mean(provinces, moyenne_raster, 'Moyenne_Province')\n",
    "\n",
    "# Créer une image des moyennes pour les provinces\n",
    "provinces_image = provinces_updated.reduceToImage(\n",
    "    properties=['Moyenne_Province'],\n",
    "    reducer=ee.Reducer.first()\n",
    ")\n",
    "\n",
    "# Paramètres de visualisation\n",
    "vis_params = {\n",
    "    'min': min_value,\n",
    "    'max': max_value,\n",
    "    'palette': ['white', '#fee5d9', '#fcae91', '#fb6a4a', '#de2d26', '#a50f15']\n",
    "}\n",
    "\n",
    "# Créer la carte pour les provinces\n",
    "Map_provinces = geemap.Map(center=[12, -1], zoom=6)\n",
    "Map_provinces.addLayer(provinces_image, vis_params, 'Provinces - Moyenne')\n",
    "\n",
    "# Ajouter les labels pour les provinces\n",
    "for feature in provinces_updated.getInfo()['features']:\n",
    "    province_name = feature['properties']['ADM2_FR']\n",
    "    moyenne_valeur = feature['properties']['Moyenne_Province']\n",
    "    label_text = f\"{province_name}: {moyenne_valeur:.2f}\"\n",
    "    \n",
    "    # Extraire les coordonnées du centre de chaque province\n",
    "    centroid = ee.Feature(feature).geometry().centroid().coordinates().getInfo()\n",
    "    \n",
    "    # Ajouter le texte sur la carte\n",
    "    Map_provinces.add_text(\n",
    "        text=label_text,\n",
    "        xy=centroid,\n",
    "        font_size=12,\n",
    "        font_color='black',\n",
    "        font_family='monospace'\n",
    "    )\n",
    "\n",
    "# Ajouter une légende pour les provinces\n",
    "Map_provinces.add_colorbar(vis_params=vis_params, label=\"Moyenne des valeurs des pixels - Provinces\")\n",
    "\n",
    "# Afficher la carte pour les provinces\n",
    "Map_provinces\n"
   ]
  },
  {
   "cell_type": "code",
   "execution_count": 17,
   "id": "a01ab1da-b693-42e6-80fa-253134d2b60e",
   "metadata": {},
   "outputs": [
    {
     "data": {
      "text/html": [
       "\n",
       "            <style>\n",
       "                .geemap-dark {\n",
       "                    --jp-widgets-color: white;\n",
       "                    --jp-widgets-label-color: white;\n",
       "                    --jp-ui-font-color1: white;\n",
       "                    --jp-layout-color2: #454545;\n",
       "                    background-color: #383838;\n",
       "                }\n",
       "\n",
       "                .geemap-dark .jupyter-button {\n",
       "                    --jp-layout-color3: #383838;\n",
       "                }\n",
       "\n",
       "                .geemap-colab {\n",
       "                    background-color: var(--colab-primary-surface-color, white);\n",
       "                }\n",
       "\n",
       "                .geemap-colab .jupyter-button {\n",
       "                    --jp-layout-color3: var(--colab-primary-surface-color, white);\n",
       "                }\n",
       "            </style>\n",
       "            "
      ],
      "text/plain": [
       "<IPython.core.display.HTML object>"
      ]
     },
     "metadata": {},
     "output_type": "display_data"
    },
    {
     "name": "stdout",
     "output_type": "stream",
     "text": [
      "Exemple de données mises à jour pour les communes :\n",
      "{'ADM0_FR': 'Burkina Faso', 'ADM0_PCODE': 'BF', 'ADM1_FR': 'Centre', 'ADM1_PCODE': 'BF13', 'ADM2_FR': 'Kadiogo', 'ADM2_PCODE': 'BF1300', 'ADM3ALT1FR': '', 'ADM3ALT2FR': '', 'ADM3_FR': 'Komki-Ipala', 'ADM3_PCODE': 'BF130001', 'ADM3_REF': '', 'Moyenne_Commune': 0.4695694495897671, 'Shape_Area': 0.018067813842, 'Shape_Leng': 0.618847952881, 'date': 1584514800000, 'mean': 0.4695694495897671, 'validOn': 1584946800000}\n"
     ]
    },
    {
     "data": {
      "application/vnd.jupyter.widget-view+json": {
       "model_id": "36a869d9c26640339d68abf0ecae3592",
       "version_major": 2,
       "version_minor": 0
      },
      "text/plain": [
       "Map(center=[12, -1], controls=(WidgetControl(options=['position', 'transparent_bg'], widget=SearchDataGUI(chil…"
      ]
     },
     "execution_count": 17,
     "metadata": {},
     "output_type": "execute_result"
    }
   ],
   "source": [
    "# Mettre à jour les shapefiles avec les moyennes calculées\n",
    "def update_shapefile_with_mean(feature_collection, image, mean_property_name='Moyenne_Pixels'):\n",
    "    stats = image.reduceRegions(\n",
    "        collection=feature_collection,\n",
    "        reducer=ee.Reducer.mean(),\n",
    "        scale=30\n",
    "    )\n",
    "    # Ajouter les moyennes comme propriété\n",
    "    return stats.map(lambda feature: feature.set(mean_property_name, feature.get('mean')))\n",
    "\n",
    "# Mis à jour des entités géographiques avec les moyennes pour les communes\n",
    "communes_updated = update_shapefile_with_mean(communes, moyenne_raster, 'Moyenne_Commune')\n",
    "\n",
    "# Vérifier les résultats\n",
    "communes_info = communes_updated.getInfo()\n",
    "print(\"Exemple de données mises à jour pour les communes :\")\n",
    "print(communes_info['features'][0]['properties'])  # Imprimer les propriétés d'une des communes pour vérification\n",
    "\n",
    "# Créer une image des moyennes pour les communes\n",
    "communes_image = communes_updated.reduceToImage(\n",
    "    properties=['Moyenne_Commune'],\n",
    "    reducer=ee.Reducer.first()\n",
    ")\n",
    "\n",
    "# Paramètres de visualisation\n",
    "vis_params = {\n",
    "    'min': min_value,\n",
    "    'max': max_value,\n",
    "    'palette': ['white', '#fee5d9', '#fcae91', '#fb6a4a', '#de2d26', '#a50f15']\n",
    "}\n",
    "\n",
    "# Créer la carte pour les communes\n",
    "Map_communes = geemap.Map(center=[12, -1], zoom=6)\n",
    "Map_communes.addLayer(communes_image, vis_params, 'Communes - Moyenne')\n",
    "\n",
    "# Ajouter les labels pour les communes\n",
    "for feature in communes_info['features']:\n",
    "    commune_name = feature['properties']['ADM3_FR']\n",
    "    moyenne_valeur = feature['properties'].get('Moyenne_Commune', 'Non calculée')  # Utilisez get() pour éviter KeyError\n",
    "    label_text = f\"{commune_name}: {moyenne_valeur:.2f}\" if moyenne_valeur != 'Non calculée' else f\"{commune_name}: Non calculée\"\n",
    "    \n",
    "    # Extraire les coordonnées du centre de chaque commune\n",
    "    centroid = ee.Feature(feature).geometry().centroid().coordinates().getInfo()\n",
    "    \n",
    "    # Ajouter le texte sur la carte\n",
    "    Map_communes.add_text(\n",
    "        text=label_text,\n",
    "        xy=centroid,\n",
    "        font_size=12,\n",
    "        font_color='black',\n",
    "        font_family='monospace'\n",
    "    )\n",
    "\n",
    "# Ajouter une légende pour les communes\n",
    "Map_communes.add_colorbar(vis_params=vis_params, label=\"Moyenne des valeurs des pixels - Communes\")\n",
    "\n",
    "# Afficher la carte pour les communes\n",
    "Map_communes\n"
   ]
  },
  {
   "cell_type": "code",
   "execution_count": 21,
   "id": "c850255a-b090-4dc1-ac20-72b26f73034a",
   "metadata": {},
   "outputs": [
    {
     "data": {
      "text/html": [
       "\n",
       "            <style>\n",
       "                .geemap-dark {\n",
       "                    --jp-widgets-color: white;\n",
       "                    --jp-widgets-label-color: white;\n",
       "                    --jp-ui-font-color1: white;\n",
       "                    --jp-layout-color2: #454545;\n",
       "                    background-color: #383838;\n",
       "                }\n",
       "\n",
       "                .geemap-dark .jupyter-button {\n",
       "                    --jp-layout-color3: #383838;\n",
       "                }\n",
       "\n",
       "                .geemap-colab {\n",
       "                    background-color: var(--colab-primary-surface-color, white);\n",
       "                }\n",
       "\n",
       "                .geemap-colab .jupyter-button {\n",
       "                    --jp-layout-color3: var(--colab-primary-surface-color, white);\n",
       "                }\n",
       "            </style>\n",
       "            "
      ],
      "text/plain": [
       "<IPython.core.display.HTML object>"
      ]
     },
     "metadata": {},
     "output_type": "display_data"
    }
   ],
   "source": [
    "# Charger les shapefiles des régions, provinces et du pays\n",
    "pays = ee.FeatureCollection('projects/ee-kalioune879/assets/bfa_admbnda_adm0_igb_20200323')  \n",
    "regions = ee.FeatureCollection('projects/ee-kalioune879/assets/bfa_admbnda_adm1_igb_20200323')  \n",
    "provinces = ee.FeatureCollection('projects/ee-kalioune879/assets/bfa_admbnda_adm2_igb_20200323') \n",
    "communes = ee.FeatureCollection('projects/ee-kalioune879/assets/bfa_admbnda_adm3_igb_20200323')\n"
   ]
  },
  {
   "cell_type": "code",
   "execution_count": null,
   "id": "86d0d30f-422c-4340-902a-4e6d524b3770",
   "metadata": {
    "scrolled": true
   },
   "outputs": [],
   "source": []
  },
  {
   "cell_type": "markdown",
   "id": "769269ea-b70e-4479-ab7d-6c597f28147e",
   "metadata": {},
   "source": [
    "# Calculer la moyenne et l'écart type du taux de malaria entre 2000 et 2022"
   ]
  },
  {
   "cell_type": "code",
   "execution_count": 39,
   "id": "4b3d551c-714e-4431-bd23-2336c5a9f901",
   "metadata": {},
   "outputs": [
    {
     "data": {
      "text/html": [
       "\n",
       "            <style>\n",
       "                .geemap-dark {\n",
       "                    --jp-widgets-color: white;\n",
       "                    --jp-widgets-label-color: white;\n",
       "                    --jp-ui-font-color1: white;\n",
       "                    --jp-layout-color2: #454545;\n",
       "                    background-color: #383838;\n",
       "                }\n",
       "\n",
       "                .geemap-dark .jupyter-button {\n",
       "                    --jp-layout-color3: #383838;\n",
       "                }\n",
       "\n",
       "                .geemap-colab {\n",
       "                    background-color: var(--colab-primary-surface-color, white);\n",
       "                }\n",
       "\n",
       "                .geemap-colab .jupyter-button {\n",
       "                    --jp-layout-color3: var(--colab-primary-surface-color, white);\n",
       "                }\n",
       "            </style>\n",
       "            "
      ],
      "text/plain": [
       "<IPython.core.display.HTML object>"
      ]
     },
     "metadata": {},
     "output_type": "display_data"
    },
    {
     "data": {
      "application/vnd.jupyter.widget-view+json": {
       "model_id": "c69538c7b44f495dae64cfc3ffa6adbc",
       "version_major": 2,
       "version_minor": 0
      },
      "text/plain": [
       "Map(center=[12, -1], controls=(WidgetControl(options=['position', 'transparent_bg'], widget=SearchDataGUI(chil…"
      ]
     },
     "execution_count": 39,
     "metadata": {},
     "output_type": "execute_result"
    }
   ],
   "source": [
    "# Fonction pour importer les images raster par année\n",
    "# ------------------------\n",
    "# Fonction pour obtenir les images raster par année et sélectionner la première bande\n",
    "def importation_rasters(annee):\n",
    "    nom_raster = f\"202406_Global_Pf_Parasite_Rate_BFA_{annee}\"\n",
    "    asset_id = f'projects/ee-khadijaaatou180702/assets/{nom_raster}'\n",
    "    return ee.Image(asset_id).select(0)\n",
    "\n",
    "# ------------------------\n",
    "# Charger les rasters et créer une collection\n",
    "# ------------------------\n",
    "# Liste des années pour les rasters\n",
    "annees = list(range(2000, 2023))\n",
    "\n",
    "# Charger toutes les images raster et sélectionner la première bande\n",
    "rasters = [importation_rasters(annee) for annee in annees]\n",
    "\n",
    "# Créer une collection à partir de la liste d'images\n",
    "stack_raster = ee.ImageCollection(rasters)\n",
    "\n",
    "moyenne_raster = stack_raster.mean()\n",
    "ecart_type_raster = stack_raster.reduce(ee.Reducer.stdDev())\n",
    "\n",
    "\n",
    "# Paramètres de visualisation pour la moyenne et l'écart type\n",
    "vis_params_moyenne = {\n",
    "    'min': 0,\n",
    "    'max': 1,\n",
    "    'palette': ['blue', 'green', 'yellow', 'red']\n",
    "}\n",
    "\n",
    "vis_params_ecart_type = {\n",
    "    'min': 0,\n",
    "    'max': 0.5,\n",
    "    'palette': ['white', 'orange', 'red']\n",
    "}\n",
    "\n",
    "# Créer une carte pour visualiser la moyenne et l'écart type\n",
    "Map_stats = geemap.Map(center=[12, -1], zoom=6)\n",
    "Map_stats.addLayer(moyenne_raster, vis_params_moyenne, 'Moyenne Taux Malaria (2000-2022)')\n",
    "Map_stats.addLayer(ecart_type_raster, vis_params_ecart_type, 'Ecart Type Taux Malaria (2000-2022)')\n",
    "Map_stats.add_colorbar(vis_params=vis_params_moyenne, label=\"Moyenne des valeurs des pixels\")\n",
    "Map_stats.add_colorbar(vis_params=vis_params_ecart_type, label=\"Ecart Type des valeurs des pixels\")\n",
    "\n",
    "# Afficher la carte\n",
    "Map_stats\n"
   ]
  },
  {
   "cell_type": "markdown",
   "id": "f5faed42-0f36-40f0-869f-d810bf4b7bea",
   "metadata": {},
   "source": [
    "# Représenter la situation de chaque pixel en 2020, 2021 et 2022 Calcul indicateur // Aucune situation grave, situation modérée, crise // Par pixel (A la fin, il ne faut voir que 3 couleurs)"
   ]
  },
  {
   "cell_type": "code",
   "execution_count": 41,
   "id": "c0ecdb20-f78e-4d0f-a68a-f2e6c373480d",
   "metadata": {},
   "outputs": [
    {
     "data": {
      "text/html": [
       "\n",
       "            <style>\n",
       "                .geemap-dark {\n",
       "                    --jp-widgets-color: white;\n",
       "                    --jp-widgets-label-color: white;\n",
       "                    --jp-ui-font-color1: white;\n",
       "                    --jp-layout-color2: #454545;\n",
       "                    background-color: #383838;\n",
       "                }\n",
       "\n",
       "                .geemap-dark .jupyter-button {\n",
       "                    --jp-layout-color3: #383838;\n",
       "                }\n",
       "\n",
       "                .geemap-colab {\n",
       "                    background-color: var(--colab-primary-surface-color, white);\n",
       "                }\n",
       "\n",
       "                .geemap-colab .jupyter-button {\n",
       "                    --jp-layout-color3: var(--colab-primary-surface-color, white);\n",
       "                }\n",
       "            </style>\n",
       "            "
      ],
      "text/plain": [
       "<IPython.core.display.HTML object>"
      ]
     },
     "metadata": {},
     "output_type": "display_data"
    },
    {
     "data": {
      "application/vnd.jupyter.widget-view+json": {
       "model_id": "1f651e22b22e4b12819a5eedd4ea99d0",
       "version_major": 2,
       "version_minor": 0
      },
      "text/plain": [
       "Map(center=[12, -1], controls=(WidgetControl(options=['position', 'transparent_bg'], widget=SearchDataGUI(chil…"
      ]
     },
     "execution_count": 41,
     "metadata": {},
     "output_type": "execute_result"
    }
   ],
   "source": [
    "# 2. Représenter la situation de chaque pixel en 2020, 2021 et 2022\n",
    "# ------------------------\n",
    "from ipyleaflet import WidgetControl\n",
    "from ipywidgets import VBox, HTML\n",
    "def representer_situation(annee):\n",
    "    image = importation_rasters(annee)\n",
    "    \n",
    "    # Calculer l'indicateur de situation par pixel\n",
    "    # Catégories : \n",
    "    # - Aucune situation grave (valeur < moyenne + écart type)\n",
    "    # - Situation modérée (moyenne + écart type <= valeur < moyenne + 2 * écart type)\n",
    "    # - Crise (valeur >= moyenne + 2 * écart type)\n",
    "    situation = image.expression(\n",
    "        \"(b('b1') < moyenne + ecart_type) ? 1 : (b('b1') < moyenne + 2 * ecart_type) ? 2 : 3\",\n",
    "        {\n",
    "            'b1': image,\n",
    "            'moyenne': moyenne_raster,\n",
    "            'ecart_type': ecart_type_raster\n",
    "        }\n",
    "    )\n",
    "    \n",
    "    return situation.clip(ee.FeatureCollection('projects/ee-khadijaaatou180702/assets/bfa_admbnda_adm0_igb_20200323'))\n",
    "\n",
    "# Créer une carte pour représenter les situations en 2020, 2021 et 2022\n",
    "Map_situations = geemap.Map(center=[12, -1], zoom=6)\n",
    "\n",
    "# Récupérer les images pour les années 2020, 2021 et 2022\n",
    "situation_2020 = representer_situation(2020)\n",
    "situation_2021 = representer_situation(2021)\n",
    "situation_2022 = representer_situation(2022)\n",
    "\n",
    "# Ajouter les images à la carte\n",
    "vis_params_situation = {\n",
    "    'min': 1,\n",
    "    'max': 3,\n",
    "    'palette': ['green', 'yellow', 'red']  # 1: aucune situation grave, 2: modérée, 3: crise\n",
    "}\n",
    "\n",
    "Map_situations.addLayer(situation_2020, vis_params_situation, 'Situation 2020')\n",
    "Map_situations.addLayer(situation_2021, vis_params_situation, 'Situation 2021')\n",
    "Map_situations.addLayer(situation_2022, vis_params_situation, 'Situation 2022')\n",
    "\n",
    "# Créer un widget HTML pour la légende\n",
    "legend_html = \"\"\"\n",
    "    <div style='padding: 10px; background-color: white; border-radius: 5px;'>\n",
    "        <h4>Indicateur de Situation (2020-2022)</h4>\n",
    "        <p style='margin: 0'><span style='color: green;'>⬤</span> Aucune situation grave</p>\n",
    "        <p style='margin: 0'><span style='color: yellow;'>⬤</span> Situation modérée</p>\n",
    "        <p style='margin: 0'><span style='color: red;'>⬤</span> Crise</p>\n",
    "    </div>\n",
    "\"\"\"\n",
    "legend_widget = HTML(value=legend_html)\n",
    "\n",
    "# Ajouter le widget de légende à la carte\n",
    "legend_control = WidgetControl(widget=legend_widget, position=\"topright\")\n",
    "Map_situations.add_control(legend_control)\n",
    "\n",
    "# Afficher la carte\n",
    "Map_situations"
   ]
  },
  {
   "cell_type": "code",
   "execution_count": 42,
   "id": "9a534579-647c-49c1-9e54-92396a9ccc49",
   "metadata": {},
   "outputs": [
    {
     "data": {
      "text/html": [
       "\n",
       "            <style>\n",
       "                .geemap-dark {\n",
       "                    --jp-widgets-color: white;\n",
       "                    --jp-widgets-label-color: white;\n",
       "                    --jp-ui-font-color1: white;\n",
       "                    --jp-layout-color2: #454545;\n",
       "                    background-color: #383838;\n",
       "                }\n",
       "\n",
       "                .geemap-dark .jupyter-button {\n",
       "                    --jp-layout-color3: #383838;\n",
       "                }\n",
       "\n",
       "                .geemap-colab {\n",
       "                    background-color: var(--colab-primary-surface-color, white);\n",
       "                }\n",
       "\n",
       "                .geemap-colab .jupyter-button {\n",
       "                    --jp-layout-color3: var(--colab-primary-surface-color, white);\n",
       "                }\n",
       "            </style>\n",
       "            "
      ],
      "text/plain": [
       "<IPython.core.display.HTML object>"
      ]
     },
     "metadata": {},
     "output_type": "display_data"
    },
    {
     "data": {
      "application/vnd.jupyter.widget-view+json": {
       "model_id": "d4d772a827a949e2af921dc24a366010",
       "version_major": 2,
       "version_minor": 0
      },
      "text/plain": [
       "Map(center=[12, -1], controls=(WidgetControl(options=['position', 'transparent_bg'], widget=SearchDataGUI(chil…"
      ]
     },
     "execution_count": 42,
     "metadata": {},
     "output_type": "execute_result"
    }
   ],
   "source": [
    "# 2. Représenter la situation de chaque pixel en 2020, 2021 et 2022\n",
    "# ------------------------\n",
    "from ipyleaflet import WidgetControl\n",
    "from ipywidgets import VBox, HTML\n",
    "def representer_situation(annee):\n",
    "    image = importation_rasters(annee)\n",
    "    \n",
    "    # Calculer l'indicateur de situation par pixel\n",
    "    # Catégories : \n",
    "    # - Aucune situation grave (valeur < moyenne + écart type)\n",
    "    # - Situation modérée (moyenne + écart type <= valeur < moyenne + 2 * écart type)\n",
    "    # - Crise (valeur >= moyenne + 2 * écart type)\n",
    "    situation = image.expression(\n",
    "        \"(b('b1') < moyenne + ecart_type) ? 1 : (b('b1') < moyenne + 2 * ecart_type) ? 2 : 3\",\n",
    "        {\n",
    "            'b1': image,\n",
    "            'moyenne': moyenne_raster,\n",
    "            'ecart_type': ecart_type_raster\n",
    "        }\n",
    "    )\n",
    "    \n",
    "    return situation.clip(ee.FeatureCollection('projects/ee-khadijaaatou180702/assets/bfa_admbnda_adm0_igb_20200323'))\n",
    "\n",
    "# Créer une carte pour représenter les situations en 2020, 2021 et 2022\n",
    "Map_situations = geemap.Map(center=[12, -1], zoom=6)\n",
    "\n",
    "# Récupérer les images pour les années 2020, 2021 et 2022\n",
    "situation_2020 = representer_situation(2000)\n",
    "situation_2021 = representer_situation(2021)\n",
    "situation_2022 = representer_situation(2022)\n",
    "\n",
    "# Ajouter les images à la carte\n",
    "vis_params_situation = {\n",
    "    'min': 1,\n",
    "    'max': 3,\n",
    "    'palette': ['green', 'yellow', 'red']  # 1: aucune situation grave, 2: modérée, 3: crise\n",
    "}\n",
    "\n",
    "Map_situations.addLayer(situation_2020, vis_params_situation, 'Situation 2000')\n",
    "Map_situations.addLayer(situation_2021, vis_params_situation, 'Situation 2021')\n",
    "Map_situations.addLayer(situation_2022, vis_params_situation, 'Situation 2022')\n",
    "\n",
    "# Créer un widget HTML pour la légende\n",
    "legend_html = \"\"\"\n",
    "    <div style='padding: 10px; background-color: white; border-radius: 5px;'>\n",
    "        <h4>Indicateur de Situation (2020-2022)</h4>\n",
    "        <p style='margin: 0'><span style='color: green;'>⬤</span> Aucune situation grave</p>\n",
    "        <p style='margin: 0'><span style='color: yellow;'>⬤</span> Situation modérée</p>\n",
    "        <p style='margin: 0'><span style='color: red;'>⬤</span> Crise</p>\n",
    "    </div>\n",
    "\"\"\"\n",
    "legend_widget = HTML(value=legend_html)\n",
    "\n",
    "# Ajouter le widget de légende à la carte\n",
    "legend_control = WidgetControl(widget=legend_widget, position=\"topright\")\n",
    "Map_situations.add_control(legend_control)\n",
    "\n",
    "# Afficher la carte\n",
    "Map_situations"
   ]
  },
  {
   "cell_type": "code",
   "execution_count": null,
   "id": "b1173a1b-da91-447f-9b33-a982801d7223",
   "metadata": {},
   "outputs": [],
   "source": []
  }
 ],
 "metadata": {
  "kernelspec": {
   "display_name": "Python (gee)",
   "language": "python",
   "name": "gee"
  },
  "language_info": {
   "codemirror_mode": {
    "name": "ipython",
    "version": 3
   },
   "file_extension": ".py",
   "mimetype": "text/x-python",
   "name": "python",
   "nbconvert_exporter": "python",
   "pygments_lexer": "ipython3",
   "version": "3.8.20"
  }
 },
 "nbformat": 4,
 "nbformat_minor": 5
}
