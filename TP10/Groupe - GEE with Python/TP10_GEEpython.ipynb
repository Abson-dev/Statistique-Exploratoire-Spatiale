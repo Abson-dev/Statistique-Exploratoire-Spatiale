{
 "cells": [
  {
   "cell_type": "markdown",
   "id": "622b0015-8c61-4b2f-bbf9-080b52a1af2f",
   "metadata": {},
   "source": [
    "<center><h1 style=\"font-size:35px; font-family: 'Calisto MT'; letter-spacing: 0.1em; background-color: RGB(128,0,128);\"> <br> Statistiques Exploratoire Spatiales <br> </h1></center>\n",
    "<center><h3 style=\"font-size:25px; font-family: 'Calisto MT'; letter-spacing: 0.1em; background-color: RGB(51,165,182);\"> Réalisé par le Groupe \"GEE with Python\"  </h3></center>\n",
    " <center>  <br> Professeur : M. HEMA Aboubacar </center>\n",
    "ENSAE 2024 : ISE1 CL <right> <br> Par : <br> COULIBALY Khadidiatou <br> DIENG Samba <br> ONANENA AMANA Jeanne De La Flèche <br> NDONG Tamsir </right>"
   ]
  },
  {
   "cell_type": "markdown",
   "id": "e304a561-4aa7-4e44-ba9e-6cc80ddc54b8",
   "metadata": {},
   "source": [
    "<center><h2 style=\"font-size:28px; font-family: 'Calisto MT'; letter-spacing: 0.3em;\"> TP10 </h2></center>"
   ]
  },
  {
   "cell_type": "markdown",
   "id": "967ff68c-1044-4451-a7ad-9c30a4898b1e",
   "metadata": {},
   "source": [
    "_________________________________________"
   ]
  },
  {
   "cell_type": "markdown",
   "id": "9925ccf9-7fa5-49d0-905e-1c4b8abd6698",
   "metadata": {},
   "source": [
    "<h2 style=\"text-align:center; background-color:RGB(51,165,182);font-size:45px;font-family:Algerian\">Les préliminaires...</h2>"
   ]
  },
  {
   "cell_type": "markdown",
   "id": "c0d81eaa-acf0-4c2b-b283-198ff4437dae",
   "metadata": {},
   "source": [
    "<h1 style=\"font-size:35px; text-align:center; font-family: 'Times New Roman'; letter-spacing: 0.1em;\"> CONSIGNE : Calcul d'indices spectraux </h1>"
   ]
  },
  {
   "cell_type": "markdown",
   "id": "caddab84-3cb8-4370-bd1d-ab87a19b80ed",
   "metadata": {},
   "source": [
    "Nous allons calculer les 5 indices spectraux présentés ci-dessous.\n",
    "\n",
    " - **Le (MNDWI) Modified Normalized Difference Water Index** est un indice spectral \n",
    "commun pour l'extraction les surfaces d’eau modifiée par rapport au traditionnel indice de \n",
    "différence normalisé des eaux (NDWI). Encore une fois, les valeurs vont de -1 à 1 et les valeurs \n",
    "supérieures à 0 représentent généralement des plans d'eau (océans, lacs, rivières, etc.). Le \n",
    "MNDWI est calculé similaire à NDVI, comme suit : (Green - SWIR)/(Green + SMIR).\n",
    "\n",
    "\n",
    " - **Le Normalized Difference Vegetation Index (NDVI)** est peut-être le plus indice spectral commun est l'indice de différence de végétation \n",
    "normalisée (NDVI). Cet indice est principalement utilisé pour détecter la densité et la santé de \n",
    "la végétation. NDVI est dérivé comme suit : (NIR - RED)/(NIR + RED).\n",
    "\n",
    "\n",
    " - **Le Normalized Difference Built-up Index (NDBI)** décrit la densité de construction de toute zone géographique. Il utilise les bandes du proche infrarouge (NIR) et de l'infrarouge à ondes courtes (SWIR) pour mettre en évidence les zones bâties manufacturées.  Il se calcule comme suit : NDBI =(SWIR - NIR) / (SWIR + NIR).\n",
    "\n",
    "\n",
    " - L'**EVI (*Enhanced Vegetation Index*)** est similaire à l'**NDVI** et peut être utilisé pour quantifier la verdure de la végétation. Cependant, l'EVI corrige certains effets des conditions atmosphériques ainsi que du **bruit de fond de la canopée**, c'est-à-dire l'influence des sols ou des éléments non végétaux visibles à travers un couvert végétal clairsemé. De plus, l'EVI est plus sensible dans les zones de végétation dense, ce qui le rend particulièrement utile pour des analyses précises dans ces environnements.En effet, il est conçu pour surmonter les limites du NDVI, notamment sa saturation dans les zones de végétation dense. La saturation se produit lorsque le NDVI atteint des valeurs maximales proches de 1, le rendant incapable de différencier les variations de végétation très dense, comme dans les forêts tropicales. L’EVI corrige ce problème en intégrant des ajustements pour le bruit atmosphérique et les effets du sol, permettant une analyse plus précise.\n",
    "\n",
    " - Le **Bare Soil Index (BSI)** est un indice spectral utilisé pour détecter et caractériser les sols nus à partir d’images satellites. Il met en évidence les zones où la végétation est absente ou peu dense, en contrastant les propriétés spectrales du sol avec celles des surfaces végétalisées ou aquatiques. A noter que, d'après nos recherches, il existe d'autres formules du BSI.\n"
   ]
  },
  {
   "cell_type": "markdown",
   "id": "47fcd502-15ff-4bb6-994f-f85308e2030d",
   "metadata": {},
   "source": [
    "<h1 style=\"font-size: 35px; text-align: center; font-family: 'Times New Roman'; color: blue; letter-spacing: 0.1em;\">\n",
    "    Résumé Indices Spectraux\n",
    "</h1>\n",
    "\n",
    "\n",
    "\n",
    "## Tableau des indices spectraux\n",
    "\n",
    "| *Nom de l'indice* | *Nom complet*                            | *Formule*                                          | *Description*                                                                                      |\n",
    "|----------------------|--------------------------------------------|-----------------------------------------------------|------------------------------------------------------------------------------------------------------|\n",
    "| *NDVI*             | Normalized Difference Vegetation Index     | (NIR - RED) / (NIR + RED)                           | Mesure de la végétation en surface. Valeurs élevées indiquent une végétation dense et saine.         |\n",
    "| *MNDWI*            | Modified Normalized Difference Water Index | (GREEN - SWIR) / (GREEN + SWIR)                     | Met en évidence les plans d'eau. Les valeurs élevées indiquent la présence d'eau en surface.         |\n",
    "| *NDBI*             | Normalized Difference Built-Up Index       | (SWIR - NIR) / (SWIR + NIR)                          | Détecte les zones urbanisées. Les valeurs positives indiquent des zones construites.                 |\n",
    "| *EVI*              | Enhanced Vegetation Index                  | G * (NIR - RED) / (NIR + C1 * RED - C2 * BLUE + L)   | Alternative au NDVI, plus sensible à la saturation et aux conditions atmosphériques.                 |\n",
    "| *BIS1*             | Bare Soil Index                            | ((S1 + R) - (N + B)) / ((S1 + R) + (N + B))          | Utilisé pour détecter les sols nus. Il distingue les sols non végétalisés des autres types de surface. |"
   ]
  },
  {
   "cell_type": "markdown",
   "id": "ff9839c3-2945-4705-b993-3d7dc614f200",
   "metadata": {},
   "source": [
    "<h1 style=\"font-size:35px; font-family: 'Times New Roman'; letter-spacing: 0.1em;\"> Authentification, Initialisation et Authentification </h1>"
   ]
  },
  {
   "cell_type": "code",
   "execution_count": null,
   "id": "98e9c294-db5b-423c-8d44-e3f03668515a",
   "metadata": {},
   "outputs": [],
   "source": [
    "## ----------------------------------------------------TO RUN IN ANACONDA PROMPT-------------------------------------------------------------------------\n",
    "# Cette ligne crée un nouvel environnement Conda nommé \"gee\" avec Python 3.8\n",
    "\n",
    "conda create -n gee python=3.8\n",
    "\n",
    "# Cette ligne active l'environnement \"gee\" \n",
    "conda activate gee\n",
    "\n",
    "# Cette ligne installe les bibliothèques nécessaires : API de Google Earth Engine, geemap, et windows-curses \n",
    "pip install earthengine-api geemap windows-curses\n",
    "\n",
    "# Cette ligne installe Jupyter Notebook dans l'environnement\n",
    "conda install jupyter\n",
    "\n",
    "# Cette ligne installe ipykernel pour connecter l'environnement à Jupyter Notebook\n",
    "conda install ipykernel\n",
    "\n",
    "# Cette ligne configure l'environnement \"gee\" comme kernel pour Jupyter Notebook \n",
    "python -m ipykernel install --user --name gee --display-name \"Python (gee)\"\n",
    "\n",
    "# Cette ligne lance Jupyter Notebook \n",
    "jupyter notebook"
   ]
  },
  {
   "cell_type": "code",
   "execution_count": null,
   "id": "33864949-bc13-45cb-944e-ff2abb04958b",
   "metadata": {},
   "outputs": [],
   "source": [
    "import ee  # bibliothèque Python qui permet d'accéder à l'API de Google Earth Engine\n",
    "import geemap #  permet de créer et visualiser des cartes interactives basées sur des données GEE.\n",
    "\n",
    "ee.Authenticate()  # Ceci permet de gérer le processus d'authentification pour accéder à Google Earth Engine.\n",
    "ee.Initialize()   # Initialise l'instance Earth Engine pour permettre certaines opérations qu'on fera par la suite"
   ]
  },
  {
   "cell_type": "markdown",
   "id": "ba9f7cb6-26f0-43e2-8c0d-a83930f46f37",
   "metadata": {},
   "source": [
    "<h2 style=\"text-align:center; background-color:RGB(51,165,182);font-size:45px;font-family:Algerian\"> Le TP proprement dit</h2>"
   ]
  },
  {
   "cell_type": "markdown",
   "id": "9bb63cda-7568-49ad-9974-dfd571ec4d8e",
   "metadata": {},
   "source": [
    "<h2 style=\"font-size:35px; font-family: 'Times New Roman'; letter-spacing: 0.1em;\"> Importation </h2>"
   ]
  },
  {
   "cell_type": "code",
   "execution_count": 19,
   "id": "7f03f068",
   "metadata": {},
   "outputs": [
    {
     "data": {
      "text/html": [
       "\n",
       "            <style>\n",
       "                .geemap-dark {\n",
       "                    --jp-widgets-color: white;\n",
       "                    --jp-widgets-label-color: white;\n",
       "                    --jp-ui-font-color1: white;\n",
       "                    --jp-layout-color2: #454545;\n",
       "                    background-color: #383838;\n",
       "                }\n",
       "\n",
       "                .geemap-dark .jupyter-button {\n",
       "                    --jp-layout-color3: #383838;\n",
       "                }\n",
       "\n",
       "                .geemap-colab {\n",
       "                    background-color: var(--colab-primary-surface-color, white);\n",
       "                }\n",
       "\n",
       "                .geemap-colab .jupyter-button {\n",
       "                    --jp-layout-color3: var(--colab-primary-surface-color, white);\n",
       "                }\n",
       "            </style>\n",
       "            "
      ],
      "text/plain": [
       "<IPython.core.display.HTML object>"
      ]
     },
     "metadata": {},
     "output_type": "display_data"
    }
   ],
   "source": [
    "# Charger la limite géographique du Cameroun\n",
    "cameroun = ee.FeatureCollection(\"projects/ee-sambadiengys122003/assets/cmr_admbnda_adm0_inc_20180104\")\n",
    "# Charger les images Sentinel-2 (filtrées par date et nuages)\n",
    "images = (ee.ImageCollection('COPERNICUS/S2_SR_HARMONIZED')\n",
    "          .filterBounds(cameroun)\n",
    "          .filterDate('2020-01-01', '2020-01-31')\n",
    "          .filterMetadata('CLOUDY_PIXEL_PERCENTAGE', 'less_than', 30)\n",
    "          .sort('CLOUDY_PIXEL_PERCENTAGE'))\n",
    "\n",
    "# Créer une mosaïque des images\n",
    "mosaic = images.mosaic()"
   ]
  },
  {
   "cell_type": "markdown",
   "id": "1f30f173-09ca-459d-8781-125678ce9b88",
   "metadata": {},
   "source": [
    "<h2 style=\"font-size:35px; font-family: 'Times New Roman'; letter-spacing: 0.1em;\"> Définition de nos bandes </h2>"
   ]
  },
  {
   "cell_type": "code",
   "execution_count": 20,
   "id": "04029b07",
   "metadata": {},
   "outputs": [
    {
     "data": {
      "text/html": [
       "\n",
       "            <style>\n",
       "                .geemap-dark {\n",
       "                    --jp-widgets-color: white;\n",
       "                    --jp-widgets-label-color: white;\n",
       "                    --jp-ui-font-color1: white;\n",
       "                    --jp-layout-color2: #454545;\n",
       "                    background-color: #383838;\n",
       "                }\n",
       "\n",
       "                .geemap-dark .jupyter-button {\n",
       "                    --jp-layout-color3: #383838;\n",
       "                }\n",
       "\n",
       "                .geemap-colab {\n",
       "                    background-color: var(--colab-primary-surface-color, white);\n",
       "                }\n",
       "\n",
       "                .geemap-colab .jupyter-button {\n",
       "                    --jp-layout-color3: var(--colab-primary-surface-color, white);\n",
       "                }\n",
       "            </style>\n",
       "            "
      ],
      "text/plain": [
       "<IPython.core.display.HTML object>"
      ]
     },
     "metadata": {},
     "output_type": "display_data"
    }
   ],
   "source": [
    "# Affectation de chaque bande à une variable\n",
    "nir = mosaic.select('B8')  # Bande NIR\n",
    "red = mosaic.select('B4')  # Bande Rouge\n",
    "green = mosaic.select('B3')  # Bande verte\n",
    "swir = mosaic.select('B11')  # Bande SWIR1 (infra rouge à ondes courtes\n",
    "blue = mosaic.select('B2')  # Bande bleue"
   ]
  },
  {
   "cell_type": "markdown",
   "id": "ab8673c1-e9e2-4f2b-a537-5f8c331d27e3",
   "metadata": {},
   "source": [
    "<h2 style=\"text-align:center; background-color:RGB(0,220,250);font-size:45px;font-family:Algerian\"> N D V I</h2>"
   ]
  },
  {
   "cell_type": "code",
   "execution_count": 21,
   "id": "d5ff8532",
   "metadata": {
    "scrolled": true
   },
   "outputs": [
    {
     "data": {
      "text/html": [
       "\n",
       "            <style>\n",
       "                .geemap-dark {\n",
       "                    --jp-widgets-color: white;\n",
       "                    --jp-widgets-label-color: white;\n",
       "                    --jp-ui-font-color1: white;\n",
       "                    --jp-layout-color2: #454545;\n",
       "                    background-color: #383838;\n",
       "                }\n",
       "\n",
       "                .geemap-dark .jupyter-button {\n",
       "                    --jp-layout-color3: #383838;\n",
       "                }\n",
       "\n",
       "                .geemap-colab {\n",
       "                    background-color: var(--colab-primary-surface-color, white);\n",
       "                }\n",
       "\n",
       "                .geemap-colab .jupyter-button {\n",
       "                    --jp-layout-color3: var(--colab-primary-surface-color, white);\n",
       "                }\n",
       "            </style>\n",
       "            "
      ],
      "text/plain": [
       "<IPython.core.display.HTML object>"
      ]
     },
     "metadata": {},
     "output_type": "display_data"
    },
    {
     "name": "stdout",
     "output_type": "stream",
     "text": [
      "Statistiques du NDVI (GEE) : {'NDVI_GEE': 0.47096079212104347}\n",
      "Statistiques du NDVI (Manuel) : {'NDVI_Manual': 0.4709607921210435}\n",
      "hii\n"
     ]
    },
    {
     "data": {
      "application/vnd.jupyter.widget-view+json": {
       "model_id": "9a7cb8ad6e4848cf9b04e79b624d537b",
       "version_major": 2,
       "version_minor": 0
      },
      "text/plain": [
       "Map(center=[5.678447869599417, 12.742045206778005], controls=(WidgetControl(options=['position', 'transparent_…"
      ]
     },
     "metadata": {},
     "output_type": "display_data"
    }
   ],
   "source": [
    "\"-------------------------------------Calcul du NDVI:Normalized Difference Vegetation Index-------------------------------\"\n",
    "\n",
    "ndvi_gee = (mosaic.normalizedDifference(['B8', 'B4'])\n",
    "            .rename('NDVI_GEE')\n",
    "            .clip(cameroun))\n",
    "# Sélectionner les bandes NIR (B8) et Rouge (B4)\n",
    "\n",
    "\n",
    "# Calcul du NDVI manuellement avec la formule (NIR - Red) / (NIR + Red)\n",
    "ndvi_manual = (nir.subtract(red)\n",
    "               .divide(nir.add(red))\n",
    "               .rename('NDVI_Manual')\n",
    "               .clip(cameroun))\n",
    "\n",
    "# Définir les paramètres de visualisation pour le NDVI\n",
    "ndvi_params = {'min': -1, 'max': 1, 'palette': ['blue', 'white', 'green']}\n",
    "\n",
    "\n",
    "# Comparer les statistiques globales entre la méthode GEE et la méthode manuelle\n",
    "stats_gee_ndvi = ndvi_gee.reduceRegion(\n",
    "    reducer=ee.Reducer.mean(),\n",
    "    geometry=cameroun.geometry(),\n",
    "    scale=500,\n",
    "    maxPixels=1e13\n",
    ")\n",
    "\n",
    "stats_manual_ndvi = ndvi_manual.reduceRegion(\n",
    "    reducer=ee.Reducer.mean(),\n",
    "    geometry=cameroun.geometry(),\n",
    "    scale=500,\n",
    "    maxPixels=1e13\n",
    ")\n",
    "\n",
    "# Afficher les statistiques des deux méthodes\n",
    "print(\"Statistiques du NDVI (GEE) :\", stats_gee_ndvi.getInfo())\n",
    "print(\"Statistiques du NDVI (Manuel) :\", stats_manual_ndvi.getInfo())\n",
    "print(\"hii\")\n",
    "# Visualiser la carte du NDVI manuel\n",
    "\n",
    "Map_ndvi = geemap.Map()\n",
    "Map_ndvi.addLayer(ndvi_manual, ndvi_params, 'NDVI (Manuel)')\n",
    "Map_ndvi.centerObject(cameroun, 6)  # Centrer la carte sur le Cameroun\n",
    "Map_ndvi\n"
   ]
  },
  {
   "cell_type": "code",
   "execution_count": 22,
   "id": "5aadff2a",
   "metadata": {},
   "outputs": [
    {
     "data": {
      "text/html": [
       "\n",
       "            <style>\n",
       "                .geemap-dark {\n",
       "                    --jp-widgets-color: white;\n",
       "                    --jp-widgets-label-color: white;\n",
       "                    --jp-ui-font-color1: white;\n",
       "                    --jp-layout-color2: #454545;\n",
       "                    background-color: #383838;\n",
       "                }\n",
       "\n",
       "                .geemap-dark .jupyter-button {\n",
       "                    --jp-layout-color3: #383838;\n",
       "                }\n",
       "\n",
       "                .geemap-colab {\n",
       "                    background-color: var(--colab-primary-surface-color, white);\n",
       "                }\n",
       "\n",
       "                .geemap-colab .jupyter-button {\n",
       "                    --jp-layout-color3: var(--colab-primary-surface-color, white);\n",
       "                }\n",
       "            </style>\n",
       "            "
      ],
      "text/plain": [
       "<IPython.core.display.HTML object>"
      ]
     },
     "metadata": {},
     "output_type": "display_data"
    },
    {
     "data": {
      "application/vnd.jupyter.widget-view+json": {
       "model_id": "b80d8a60673440a893a5db902d8b82ca",
       "version_major": 2,
       "version_minor": 0
      },
      "text/plain": [
       "Map(center=[5.678447869599417, 12.742045206778005], controls=(WidgetControl(options=['position', 'transparent_…"
      ]
     },
     "metadata": {},
     "output_type": "display_data"
    }
   ],
   "source": [
    "\n",
    "difference_ndvi = ndvi_manual.multiply(-1).add(ndvi_gee)\n",
    "\n",
    "Map_dif_ndvi = geemap.Map()\n",
    "Map_dif_ndvi.addLayer(difference_ndvi,{'min': -1, 'max': 1, 'palette': ['blue', 'white', 'red']},'difference des deux méthodes')\n",
    "Map_dif_ndvi.centerObject(cameroun, 6)  # Centrer la carte sur le Cameroun\n",
    "Map_dif_ndvi"
   ]
  },
  {
   "cell_type": "markdown",
   "id": "3c254be5-9967-4574-849a-817c094135bf",
   "metadata": {},
   "source": [
    "<h2 style=\"text-align:center; background-color:RGB(0,220,250);font-size:45px;font-family:Algerian\"> M N D W I</h2>"
   ]
  },
  {
   "cell_type": "code",
   "execution_count": 23,
   "id": "7ea09b01",
   "metadata": {},
   "outputs": [
    {
     "data": {
      "text/html": [
       "\n",
       "            <style>\n",
       "                .geemap-dark {\n",
       "                    --jp-widgets-color: white;\n",
       "                    --jp-widgets-label-color: white;\n",
       "                    --jp-ui-font-color1: white;\n",
       "                    --jp-layout-color2: #454545;\n",
       "                    background-color: #383838;\n",
       "                }\n",
       "\n",
       "                .geemap-dark .jupyter-button {\n",
       "                    --jp-layout-color3: #383838;\n",
       "                }\n",
       "\n",
       "                .geemap-colab {\n",
       "                    background-color: var(--colab-primary-surface-color, white);\n",
       "                }\n",
       "\n",
       "                .geemap-colab .jupyter-button {\n",
       "                    --jp-layout-color3: var(--colab-primary-surface-color, white);\n",
       "                }\n",
       "            </style>\n",
       "            "
      ],
      "text/plain": [
       "<IPython.core.display.HTML object>"
      ]
     },
     "metadata": {},
     "output_type": "display_data"
    },
    {
     "name": "stdout",
     "output_type": "stream",
     "text": [
      "Statistiques du MNDWI gee : {'MNDWI': -0.4125581926681054}\n",
      "Statistiques du MNDWI Manuel : {'MNDWI': -0.4125581926681054}\n"
     ]
    },
    {
     "data": {
      "application/vnd.jupyter.widget-view+json": {
       "model_id": "6248c55d312c4967a679662b1f000806",
       "version_major": 2,
       "version_minor": 0
      },
      "text/plain": [
       "Map(center=[5.678447869599417, 12.742045206778005], controls=(WidgetControl(options=['position', 'transparent_…"
      ]
     },
     "metadata": {},
     "output_type": "display_data"
    }
   ],
   "source": [
    "\"---------------------------------Calcul du MNDWI:Modified Normalized Difference Water Index---------------------------------\"\n",
    "\n",
    "# Calcul du MNDWI (Green et SWIR1) avec la méthode normalizedDifference\n",
    "mndwi_gee = mosaic.normalizedDifference(['B3', 'B11']).rename('MNDWI').clip(cameroun)\n",
    "\n",
    "\n",
    "\n",
    "# Sélectionner les bandes nécessaires : Green (B3) et MIR (B11)\n",
    "\n",
    "\n",
    "# Calcul du MNDWI avec la formule (Green - MIR) / (Green + MIR)\n",
    "mndwi_manual = (green.subtract(swir)\n",
    "         .divide(green.add(swir))\n",
    "         .rename('MNDWI')\n",
    "         .clip(cameroun))\n",
    "\n",
    "# Définir les paramètres de visualisation pour le MNDWI avec une palette bleue\n",
    "mndwi_params = {'min': -1, 'max': 1, 'palette': ['white', 'blue']}\n",
    "\n",
    "\n",
    "\n",
    "# Comparer les statistiques globales entre la méthode GEE et la méthode manuelle (si applicable)\n",
    "stats_gee_mndwi = mndwi_gee.reduceRegion(\n",
    "    reducer=ee.Reducer.mean(),\n",
    "    geometry=cameroun.geometry(),\n",
    "    scale=500,\n",
    "    maxPixels=1e13\n",
    ")\n",
    "\n",
    "stats_manual_mndwi = mndwi_manual.reduceRegion(\n",
    "    reducer=ee.Reducer.mean(),\n",
    "    geometry=cameroun.geometry(),\n",
    "    scale=500,\n",
    "    maxPixels=1e13\n",
    ")\n",
    "\n",
    "\n",
    "# Afficher les statistiques du MNDWI\n",
    "print(\"Statistiques du MNDWI gee :\", stats_gee_mndwi.getInfo())\n",
    "print(\"Statistiques du MNDWI Manuel :\", stats_manual_mndwi.getInfo())\n",
    "# Visualiser la carte du MNDWI\n",
    "Map_mndwi = geemap.Map()\n",
    "Map_mndwi.addLayer(mndwi_manual, mndwi_params, 'MNDWI')\n",
    "Map_mndwi.centerObject(cameroun, 6)  # Centrer la carte sur le Cameroun\n",
    "Map_mndwi\n"
   ]
  },
  {
   "cell_type": "code",
   "execution_count": 24,
   "id": "ce9b4c4f",
   "metadata": {},
   "outputs": [
    {
     "data": {
      "text/html": [
       "\n",
       "            <style>\n",
       "                .geemap-dark {\n",
       "                    --jp-widgets-color: white;\n",
       "                    --jp-widgets-label-color: white;\n",
       "                    --jp-ui-font-color1: white;\n",
       "                    --jp-layout-color2: #454545;\n",
       "                    background-color: #383838;\n",
       "                }\n",
       "\n",
       "                .geemap-dark .jupyter-button {\n",
       "                    --jp-layout-color3: #383838;\n",
       "                }\n",
       "\n",
       "                .geemap-colab {\n",
       "                    background-color: var(--colab-primary-surface-color, white);\n",
       "                }\n",
       "\n",
       "                .geemap-colab .jupyter-button {\n",
       "                    --jp-layout-color3: var(--colab-primary-surface-color, white);\n",
       "                }\n",
       "            </style>\n",
       "            "
      ],
      "text/plain": [
       "<IPython.core.display.HTML object>"
      ]
     },
     "metadata": {},
     "output_type": "display_data"
    },
    {
     "data": {
      "application/vnd.jupyter.widget-view+json": {
       "model_id": "ceb8841f06f74e18af6ab2180c7ab1fb",
       "version_major": 2,
       "version_minor": 0
      },
      "text/plain": [
       "Map(center=[5.678447869599417, 12.742045206778005], controls=(WidgetControl(options=['position', 'transparent_…"
      ]
     },
     "metadata": {},
     "output_type": "display_data"
    }
   ],
   "source": [
    "difference_mndwi = mndwi_manual.multiply(-1).add(mndwi_gee)\n",
    "\n",
    "Map_dif_mndwi = geemap.Map()\n",
    "Map_dif_mndwi.addLayer(difference_mndwi,{'min': -1, 'max': 1, 'palette': ['blue', 'white', 'red']},'difference des deux méthodes')\n",
    "Map_dif_mndwi.centerObject(cameroun, 6)  # Centrer la carte sur le Cameroun\n",
    "Map_dif_mndwi"
   ]
  },
  {
   "cell_type": "markdown",
   "id": "beb5f06c-8e1e-458d-9c39-86a34c04b115",
   "metadata": {},
   "source": [
    "<h2 style=\"text-align:center; background-color:RGB(0,220,250);font-size:45px;font-family:Algerian\">N D B I </h2>"
   ]
  },
  {
   "cell_type": "code",
   "execution_count": 25,
   "id": "5f5fb7ea",
   "metadata": {},
   "outputs": [
    {
     "data": {
      "text/html": [
       "\n",
       "            <style>\n",
       "                .geemap-dark {\n",
       "                    --jp-widgets-color: white;\n",
       "                    --jp-widgets-label-color: white;\n",
       "                    --jp-ui-font-color1: white;\n",
       "                    --jp-layout-color2: #454545;\n",
       "                    background-color: #383838;\n",
       "                }\n",
       "\n",
       "                .geemap-dark .jupyter-button {\n",
       "                    --jp-layout-color3: #383838;\n",
       "                }\n",
       "\n",
       "                .geemap-colab {\n",
       "                    background-color: var(--colab-primary-surface-color, white);\n",
       "                }\n",
       "\n",
       "                .geemap-colab .jupyter-button {\n",
       "                    --jp-layout-color3: var(--colab-primary-surface-color, white);\n",
       "                }\n",
       "            </style>\n",
       "            "
      ],
      "text/plain": [
       "<IPython.core.display.HTML object>"
      ]
     },
     "metadata": {},
     "output_type": "display_data"
    },
    {
     "name": "stdout",
     "output_type": "stream",
     "text": [
      "Statistiques du NDBI gee: {'NDBI': -0.09268242235381893}\n",
      "Statistiques du NDBI Manuel : {'NDBI_Manual': -0.09268242235381893}\n"
     ]
    },
    {
     "data": {
      "application/vnd.jupyter.widget-view+json": {
       "model_id": "3b3bd2d4902d4a3598aac9326ff51164",
       "version_major": 2,
       "version_minor": 0
      },
      "text/plain": [
       "Map(center=[5.678447869599417, 12.742045206778005], controls=(WidgetControl(options=['position', 'transparent_…"
      ]
     },
     "metadata": {},
     "output_type": "display_data"
    }
   ],
   "source": [
    "\"-------------------------------------Calcul du NDBI:Normalized Difference Built-Up Index--------------------------------------\"\n",
    "# Sélectionner les bandes nécessaires : SWIR1 (B11) et NIR (B8)\n",
    "\n",
    "\n",
    "# Calcul manuel du NDBI avec la formule (SWIR - NIR) / (SWIR + NIR)\n",
    "ndbi_manual = (swir.subtract(nir)\n",
    "               .divide(swir.add(nir))\n",
    "               .rename('NDBI_Manual')\n",
    "               .clip(cameroun))\n",
    "\n",
    "# Calcul du NDBI directement avec la méthode normalizedDifference\n",
    "ndbi_gee = mosaic.normalizedDifference(['B11', 'B8']).rename('NDBI').clip(cameroun)\n",
    "\n",
    "# Définir les paramètres de visualisation pour le NDBI\n",
    "ndbi_params = {'min': -1, 'max': 1, 'palette': ['blue', 'white', 'brown']}\n",
    "\n",
    "# Comparer les statistiques globales pour le NDBI\n",
    "stats_gee_ndbi = ndbi_gee.reduceRegion(\n",
    "    reducer=ee.Reducer.mean(),\n",
    "    geometry=cameroun.geometry(),\n",
    "    scale=500,\n",
    "    maxPixels=1e13\n",
    ")\n",
    "\n",
    "stats_manual_ndbi = ndbi_manual.reduceRegion(\n",
    "    reducer=ee.Reducer.mean(),\n",
    "    geometry=cameroun.geometry(),\n",
    "    scale=500,\n",
    "    maxPixels=1e13\n",
    ")\n",
    "\n",
    "\n",
    "# Afficher les statistiques du NDBI\n",
    "print(\"Statistiques du NDBI gee:\", stats_gee_ndbi.getInfo())\n",
    "print(\"Statistiques du NDBI Manuel :\", stats_manual_ndbi.getInfo())\n",
    "\n",
    "# Visualiser la carte du NDBI\n",
    "Map_ndbi = geemap.Map()\n",
    "Map_ndbi.addLayer(ndbi_gee, ndbi_params, 'NDBI')\n",
    "Map_ndbi.centerObject(cameroun, 6)  # Centrer la carte sur le Cameroun\n",
    "Map_ndbi\n"
   ]
  },
  {
   "cell_type": "code",
   "execution_count": 26,
   "id": "77128098",
   "metadata": {},
   "outputs": [
    {
     "data": {
      "text/html": [
       "\n",
       "            <style>\n",
       "                .geemap-dark {\n",
       "                    --jp-widgets-color: white;\n",
       "                    --jp-widgets-label-color: white;\n",
       "                    --jp-ui-font-color1: white;\n",
       "                    --jp-layout-color2: #454545;\n",
       "                    background-color: #383838;\n",
       "                }\n",
       "\n",
       "                .geemap-dark .jupyter-button {\n",
       "                    --jp-layout-color3: #383838;\n",
       "                }\n",
       "\n",
       "                .geemap-colab {\n",
       "                    background-color: var(--colab-primary-surface-color, white);\n",
       "                }\n",
       "\n",
       "                .geemap-colab .jupyter-button {\n",
       "                    --jp-layout-color3: var(--colab-primary-surface-color, white);\n",
       "                }\n",
       "            </style>\n",
       "            "
      ],
      "text/plain": [
       "<IPython.core.display.HTML object>"
      ]
     },
     "metadata": {},
     "output_type": "display_data"
    },
    {
     "data": {
      "application/vnd.jupyter.widget-view+json": {
       "model_id": "3df2634916074f89935599d82e4004de",
       "version_major": 2,
       "version_minor": 0
      },
      "text/plain": [
       "Map(center=[5.678447869599417, 12.742045206778005], controls=(WidgetControl(options=['position', 'transparent_…"
      ]
     },
     "metadata": {},
     "output_type": "display_data"
    }
   ],
   "source": [
    "difference_ndbi = ndbi_manual.multiply(-1).add(ndbi_gee)\n",
    "\n",
    "Map_dif_ndbi = geemap.Map()\n",
    "Map_dif_ndbi.addLayer(difference_ndbi,{'min': -1, 'max': 1, 'palette': ['blue', 'white', 'red']},'difference des deux méthodes')\n",
    "Map_dif_ndbi.centerObject(cameroun, 6)  # Centrer la carte sur le Cameroun\n",
    "Map_dif_ndbi"
   ]
  },
  {
   "cell_type": "markdown",
   "id": "2b1338d3-a127-4fe4-a05c-f4b42c8aa99d",
   "metadata": {},
   "source": [
    "<h2 style=\"text-align:center; background-color:RGB(0,220,250);font-size:45px;font-family:Algerian\"> E V I</h2>"
   ]
  },
  {
   "cell_type": "code",
   "execution_count": 27,
   "id": "917a74c8",
   "metadata": {},
   "outputs": [
    {
     "data": {
      "text/html": [
       "\n",
       "            <style>\n",
       "                .geemap-dark {\n",
       "                    --jp-widgets-color: white;\n",
       "                    --jp-widgets-label-color: white;\n",
       "                    --jp-ui-font-color1: white;\n",
       "                    --jp-layout-color2: #454545;\n",
       "                    background-color: #383838;\n",
       "                }\n",
       "\n",
       "                .geemap-dark .jupyter-button {\n",
       "                    --jp-layout-color3: #383838;\n",
       "                }\n",
       "\n",
       "                .geemap-colab {\n",
       "                    background-color: var(--colab-primary-surface-color, white);\n",
       "                }\n",
       "\n",
       "                .geemap-colab .jupyter-button {\n",
       "                    --jp-layout-color3: var(--colab-primary-surface-color, white);\n",
       "                }\n",
       "            </style>\n",
       "            "
      ],
      "text/plain": [
       "<IPython.core.display.HTML object>"
      ]
     },
     "metadata": {},
     "output_type": "display_data"
    },
    {
     "name": "stdout",
     "output_type": "stream",
     "text": [
      "Statistiques de l'EVI (GEE) : {'EVI': 1.393362463787161}\n"
     ]
    },
    {
     "data": {
      "application/vnd.jupyter.widget-view+json": {
       "model_id": "94d8597cbc5b483381d1b44e88051203",
       "version_major": 2,
       "version_minor": 0
      },
      "text/plain": [
       "Map(center=[5.678447869599417, 12.742045206778005], controls=(WidgetControl(options=['position', 'transparent_…"
      ]
     },
     "metadata": {},
     "output_type": "display_data"
    }
   ],
   "source": [
    "\"----------------------------------------Calcul du EVI:Enhanced Vegetation Index-----------------------------------------------\"\n",
    "# Définir les paramètres de l'EVI\n",
    "G = 2.5\n",
    "C1 = 6\n",
    "C2 = 7.5\n",
    "L = 100\n",
    "\n",
    "# Calculer l'EVI \n",
    "evi_gee = mosaic.expression(\n",
    "    '(G * (NIR - RED)) / (NIR + C1 * RED - C2 * BLUE + L)', {\n",
    "        'NIR': mosaic.select('B8'),  # Bande NIR\n",
    "        'RED': mosaic.select('B4'),  # Bande Rouge\n",
    "        'BLUE': mosaic.select('B2'),  # Bande Bleue\n",
    "        'G': G,\n",
    "        'C1': C1,\n",
    "        'C2': C2,\n",
    "        'L': L\n",
    "    }\n",
    ").rename('EVI').clip(cameroun)\n",
    "\n",
    "\n",
    "# Calcul du EVI manuellement avec la formule : \n",
    "# EVI = G * (NIR - RED) / (NIR + C1 * RED - C2 * BLUE + L)\n",
    "evi_manual = nir.subtract(red).multiply(G) \\\n",
    "    .divide(nir.add(red.multiply(C1)).subtract(blue.multiply(C2)).add(L)) \\\n",
    "    .rename('EVI_Manual') \\\n",
    "    .clip(cameroun)\n",
    "\n",
    "# Définir les paramètres de visualisation pour l'EVI\n",
    "evi_params = {'min': -1, 'max': 1, 'palette': ['blue', 'white', 'green']}\n",
    "\n",
    "# Comparer les statistiques globales pour l'EVI calculé par GEE\n",
    "stats_evi_gee = evi_gee.reduceRegion(\n",
    "    reducer=ee.Reducer.mean(),\n",
    "    geometry=cameroun.geometry(),\n",
    "    scale=500,\n",
    "    maxPixels=1e13\n",
    ")\n",
    "\n",
    "# Afficher les statistiques de l'EVI\n",
    "print(\"Statistiques de l'EVI (GEE) :\", stats_evi_gee.getInfo())\n",
    "\n",
    "# Visualiser la carte de l'EVI\n",
    "Map_evi = geemap.Map()\n",
    "Map_evi.addLayer(evi_gee, evi_params, 'EVI (GEE)')\n",
    "Map_evi.centerObject(cameroun, 6)  # Centrer la carte sur le Cameroun\n",
    "Map_evi\n"
   ]
  },
  {
   "cell_type": "markdown",
   "id": "4257328c-ca73-4181-8d70-86a754077a1b",
   "metadata": {},
   "source": [
    "<h2 style=\"text-align:center; background-color:RGB(0,220,250);font-size:45px;font-family:Algerian\">B S I 1</h2>"
   ]
  },
  {
   "cell_type": "code",
   "execution_count": 28,
   "id": "9f432ffd",
   "metadata": {},
   "outputs": [
    {
     "data": {
      "text/html": [
       "\n",
       "            <style>\n",
       "                .geemap-dark {\n",
       "                    --jp-widgets-color: white;\n",
       "                    --jp-widgets-label-color: white;\n",
       "                    --jp-ui-font-color1: white;\n",
       "                    --jp-layout-color2: #454545;\n",
       "                    background-color: #383838;\n",
       "                }\n",
       "\n",
       "                .geemap-dark .jupyter-button {\n",
       "                    --jp-layout-color3: #383838;\n",
       "                }\n",
       "\n",
       "                .geemap-colab {\n",
       "                    background-color: var(--colab-primary-surface-color, white);\n",
       "                }\n",
       "\n",
       "                .geemap-colab .jupyter-button {\n",
       "                    --jp-layout-color3: var(--colab-primary-surface-color, white);\n",
       "                }\n",
       "            </style>\n",
       "            "
      ],
      "text/plain": [
       "<IPython.core.display.HTML object>"
      ]
     },
     "metadata": {},
     "output_type": "display_data"
    },
    {
     "name": "stdout",
     "output_type": "stream",
     "text": [
      "Statistiques du Bare Soil Index 1: {'Bare_Soil_Index_Manual': -0.04128014706041831}\n"
     ]
    },
    {
     "data": {
      "application/vnd.jupyter.widget-view+json": {
       "model_id": "d07bb3c45f5846ba9f390038ff776d26",
       "version_major": 2,
       "version_minor": 0
      },
      "text/plain": [
       "Map(center=[5.678447869599417, 12.742045206778005], controls=(WidgetControl(options=['position', 'transparent_…"
      ]
     },
     "metadata": {},
     "output_type": "display_data"
    }
   ],
   "source": [
    "\"--------------------------------------------Calcul du BSI1:Bare Soil Index ----------------------------------------------------\"\n",
    "\n",
    "# Sélectionner les bandes nécessaires : NIR (B8), Rouge (B4), SWIR1 (B11) et Bleue (B2)\n",
    "\n",
    "\n",
    "# Calcul manuel du Bare Soil Index (BI) avec la formule donnée\n",
    "bi_manual = (swir.add(red).subtract(nir.add(blue))\n",
    "                          .divide(swir.add(red).add(nir).add(blue))\n",
    "                          .rename('Bare_Soil_Index_Manual')\n",
    "                          .clip(cameroun))\n",
    "\n",
    "# Calcul du Bare Soil Index (BI) directement avec la méthode intégrée (si disponible dans GEE)\n",
    "# (Si une fonction directe était disponible, nous l'utiliserions ici. Sinon, nous restons avec le calcul manuel.)\n",
    "\n",
    "# Définir les paramètres de visualisation pour le Bare Soil Index\n",
    "bi_params = {'min': -1, 'max': 1, 'palette': ['white', 'yellow', 'brown']}\n",
    "\n",
    "# Comparer les statistiques globales pour le Bare Soil Index\n",
    "stats_gee_bi = bi_manual.reduceRegion(\n",
    "    reducer=ee.Reducer.mean(),\n",
    "    geometry=cameroun.geometry(),\n",
    "    scale=500,\n",
    "    maxPixels=1e13\n",
    ")\n",
    "\n",
    "\n",
    "\n",
    "# Afficher les statistiques du Bare Soil Index\n",
    "print(\"Statistiques du Bare Soil Index 1:\", stats_gee_bi.getInfo())\n",
    "\n",
    "# Visualiser la carte du Bare Soil Index\n",
    "Map_bi = geemap.Map()\n",
    "Map_bi.addLayer(bi_manual, bi_params, 'Bare Soil Index 1')\n",
    "Map_bi.centerObject(cameroun, 6)  # Centrer la carte sur le Cameroun\n",
    "Map_bi\n"
   ]
  },
  {
   "cell_type": "markdown",
   "id": "a8af8984-6e6a-4817-ab2e-da711604d39c",
   "metadata": {},
   "source": [
    "<h2 style=\"text-align:center; background-color:RGB(0,220,250);font-size:45px;font-family:Algerian\"> VISUALISATION GENERALE </h2>"
   ]
  },
  {
   "cell_type": "code",
   "execution_count": 31,
   "id": "b3c7b15a",
   "metadata": {},
   "outputs": [
    {
     "data": {
      "text/html": [
       "\n",
       "            <style>\n",
       "                .geemap-dark {\n",
       "                    --jp-widgets-color: white;\n",
       "                    --jp-widgets-label-color: white;\n",
       "                    --jp-ui-font-color1: white;\n",
       "                    --jp-layout-color2: #454545;\n",
       "                    background-color: #383838;\n",
       "                }\n",
       "\n",
       "                .geemap-dark .jupyter-button {\n",
       "                    --jp-layout-color3: #383838;\n",
       "                }\n",
       "\n",
       "                .geemap-colab {\n",
       "                    background-color: var(--colab-primary-surface-color, white);\n",
       "                }\n",
       "\n",
       "                .geemap-colab .jupyter-button {\n",
       "                    --jp-layout-color3: var(--colab-primary-surface-color, white);\n",
       "                }\n",
       "            </style>\n",
       "            "
      ],
      "text/plain": [
       "<IPython.core.display.HTML object>"
      ]
     },
     "metadata": {},
     "output_type": "display_data"
    },
    {
     "data": {
      "application/vnd.jupyter.widget-view+json": {
       "model_id": "b3fa41b418da44788522bccc885075ea",
       "version_major": 2,
       "version_minor": 0
      },
      "text/plain": [
       "Map(center=[5.678447869599417, 12.742045206778005], controls=(WidgetControl(options=['position', 'transparent_…"
      ]
     },
     "metadata": {},
     "output_type": "display_data"
    }
   ],
   "source": [
    "#AFFICHAGE DE TOUTES LES CARTES SUR UNE SEULE CARTE\n",
    "Map=geemap.Map()\n",
    "Map.addLayer(ndvi_manual, ndvi_params, 'NDVI:Normalized Difference Vegetation Index')\n",
    "Map.addLayer(mndwi_manual, mndwi_params, 'MNDWI:Modified Normalized Difference Water Index')\n",
    "Map.addLayer(ndbi_gee, ndbi_params, 'NDBI:Normalized Difference Built-Up Index')\n",
    "Map.addLayer(evi_gee, evi_params, 'EVI:Enhanced Vegetation Index ')\n",
    "Map.addLayer(bi_manual, bi_params, 'B1I 1:Bare Soil Index')\n",
    "Map.centerObject(cameroun, 6)\n",
    "Map"
   ]
  },
  {
   "cell_type": "markdown",
   "id": "ac4bfb28-e95d-4d0a-90cd-601ddaa8d6ed",
   "metadata": {},
   "source": [
    "<h1 style=\"text-align:center; background-color:RGB(0,220,250);font-size:45px;font-family:Algerian\"> Fin du TP </h1>"
   ]
  },
  {
   "cell_type": "code",
   "execution_count": null,
   "id": "5ba837dc-5cd1-4b98-8478-19cfc54bf789",
   "metadata": {},
   "outputs": [],
   "source": []
  }
 ],
 "metadata": {
  "kernelspec": {
   "display_name": "Python 3 (ipykernel)",
   "language": "python",
   "name": "python3"
  },
  "language_info": {
   "codemirror_mode": {
    "name": "ipython",
    "version": 3
   },
   "file_extension": ".py",
   "mimetype": "text/x-python",
   "name": "python",
   "nbconvert_exporter": "python",
   "pygments_lexer": "ipython3",
   "version": "3.10.9"
  },
  "widgets": {
   "application/vnd.jupyter.widget-state+json": {
    "state": {
     "0021efa6e3a3485ea0fc2df0c28c9243": {
      "model_module": "@jupyter-widgets/controls",
      "model_module_version": "2.0.0",
      "model_name": "VBoxModel",
      "state": {
       "_dom_classes": [
        "geemap-light"
       ],
       "children": [
        "IPY_MODEL_6b9b12a699bc4b50a1ae1385f5dd0f65",
        "IPY_MODEL_e8fd28dc0e02489ba268bcfa00b5ce7b"
       ],
       "layout": "IPY_MODEL_ffd6c667b46a455aa4e1268232f27726"
      }
     },
     "00dbd35d6de2444c906a2b197c10f254": {
      "model_module": "@jupyter-widgets/base",
      "model_module_version": "2.0.0",
      "model_name": "LayoutModel",
      "state": {
       "height": "28px",
       "width": "72px"
      }
     },
     "012ddcf17cb947c795b780f7a788ef1f": {
      "model_module": "@jupyter-widgets/controls",
      "model_module_version": "2.0.0",
      "model_name": "VBoxModel",
      "state": {
       "children": [
        "IPY_MODEL_55c98b74cb6a4355b25bdacef4d1f1c9",
        "IPY_MODEL_0904d59add874bf5802345ed8cb41092"
       ],
       "layout": "IPY_MODEL_2a3d5d3dd7f1447bbfca15ab42c2bf49"
      }
     },
     "01e4f9f72fe348b4b71a28053bf75e76": {
      "model_module": "@jupyter-widgets/base",
      "model_module_version": "2.0.0",
      "model_name": "LayoutModel",
      "state": {}
     },
     "03d61dc84cac4664a597329126481ce6": {
      "model_module": "@jupyter-widgets/controls",
      "model_module_version": "2.0.0",
      "model_name": "ToggleButtonStyleModel",
      "state": {
       "description_width": "",
       "font_family": null,
       "font_size": null,
       "font_style": null,
       "font_variant": null,
       "font_weight": null,
       "text_color": null,
       "text_decoration": null
      }
     },
     "03f7d1fb6af24379b751fcfb0afc2df0": {
      "model_module": "@jupyter-widgets/base",
      "model_module_version": "2.0.0",
      "model_name": "LayoutModel",
      "state": {
       "height": "auto",
       "padding": "0px 0px 0px 4px",
       "width": "auto"
      }
     },
     "04b05549d5aa40b0976ee8993f8193bc": {
      "model_module": "@jupyter-widgets/controls",
      "model_module_version": "2.0.0",
      "model_name": "ButtonStyleModel",
      "state": {
       "font_family": null,
       "font_size": null,
       "font_style": null,
       "font_variant": null,
       "font_weight": null,
       "text_color": null,
       "text_decoration": null
      }
     },
     "05b836531dd6472c93c104efb3998f54": {
      "model_module": "@jupyter-widgets/base",
      "model_module_version": "2.0.0",
      "model_name": "LayoutModel",
      "state": {
       "height": "600px"
      }
     },
     "05ba798bdced46ebb845e513b29ad0f7": {
      "model_module": "@jupyter-widgets/controls",
      "model_module_version": "2.0.0",
      "model_name": "ToggleButtonStyleModel",
      "state": {
       "description_width": "",
       "font_family": null,
       "font_size": null,
       "font_style": null,
       "font_variant": null,
       "font_weight": null,
       "text_color": null,
       "text_decoration": null
      }
     },
     "07aa684ffd794a40b2a4ad8bb2d5d3d3": {
      "model_module": "@jupyter-widgets/controls",
      "model_module_version": "2.0.0",
      "model_name": "HBoxModel",
      "state": {
       "children": [
        "IPY_MODEL_e94a3b6d3a5b41b5afa2c7590e655015",
        "IPY_MODEL_ca088641c4724eec98b7a42328aa2390",
        "IPY_MODEL_5c1ae4e879144deca69ea3fa131e5a08",
        "IPY_MODEL_214c273d90ee4d78a7cf560277927b26"
       ],
       "layout": "IPY_MODEL_391b59c56fc24a0ba29e9fc6793f68d2"
      }
     },
     "0904d59add874bf5802345ed8cb41092": {
      "model_module": "@jupyter-widgets/controls",
      "model_module_version": "2.0.0",
      "model_name": "TextModel",
      "state": {
       "layout": "IPY_MODEL_ffb05d0887594fc4afa5a390be5b6770",
       "placeholder": "Search by place name or address",
       "style": "IPY_MODEL_68172ed687564a64bbb132d1e231f765",
       "tooltip": "Search location"
      }
     },
     "0935ca3cab6b4b0fb00b264e28b49f31": {
      "model_module": "@jupyter-widgets/controls",
      "model_module_version": "2.0.0",
      "model_name": "ToggleButtonModel",
      "state": {
       "button_style": "primary",
       "icon": "globe",
       "layout": "IPY_MODEL_29df9fe7de67455081de99a620c1ac87",
       "style": "IPY_MODEL_e4a053848b1141aba5b4cbb1b245d0f5",
       "tooltip": "Create timelapse"
      }
     },
     "0967c51a23584568b81ddf18b89739b8": {
      "model_module": "@jupyter-widgets/output",
      "model_module_version": "1.0.0",
      "model_name": "OutputModel",
      "state": {
       "layout": "IPY_MODEL_c1d56bb4a32345f4890bb7c7a3497fb2"
      }
     },
     "09744412099044028fd130a84a699545": {
      "model_module": "@jupyter-widgets/base",
      "model_module_version": "2.0.0",
      "model_name": "LayoutModel",
      "state": {}
     },
     "09cb6e0a51b44b55a7afbd3cd0c84814": {
      "model_module": "@jupyter-widgets/controls",
      "model_module_version": "2.0.0",
      "model_name": "ToggleButtonStyleModel",
      "state": {
       "description_width": "",
       "font_family": null,
       "font_size": null,
       "font_style": null,
       "font_variant": null,
       "font_weight": null,
       "text_color": null,
       "text_decoration": null
      }
     },
     "0a96c1d665c140e68dc6e28c6668161a": {
      "model_module": "@jupyter-widgets/controls",
      "model_module_version": "2.0.0",
      "model_name": "VBoxModel",
      "state": {
       "children": [
        "IPY_MODEL_67d8c8640bdd476ca41b3032b8771057",
        "IPY_MODEL_c659e5e852034f7ebbb43e4133ced76c",
        "IPY_MODEL_07aa684ffd794a40b2a4ad8bb2d5d3d3"
       ],
       "layout": "IPY_MODEL_7f68617a49e54d479b1d377db1772757"
      }
     },
     "0aa9ad0332384522a43242eecbc0da0d": {
      "model_module": "jupyter-leaflet",
      "model_module_version": "^0.19",
      "model_name": "LeafletScaleControlModel",
      "state": {
       "_model_module_version": "^0.19",
       "_view_module_version": "^0.19",
       "imperial": true,
       "max_width": 100,
       "metric": true,
       "options": [
        "imperial",
        "max_width",
        "metric",
        "position",
        "update_when_idle"
       ],
       "position": "bottomleft",
       "update_when_idle": false
      }
     },
     "0d6f7cdc95934864af4ba1ef12e53e41": {
      "model_module": "@jupyter-widgets/controls",
      "model_module_version": "2.0.0",
      "model_name": "ToggleButtonModel",
      "state": {
       "button_style": "primary",
       "icon": "folder-open",
       "layout": "IPY_MODEL_a54d7906c2ce4709937627544a03ee13",
       "style": "IPY_MODEL_257864f5bfaf4b5ab0dd5992c8c15e99",
       "tooltip": "Open local vector/raster data"
      }
     },
     "0e0b869ab31a42318dfff083a2810dd9": {
      "model_module": "ipyevents",
      "model_module_version": "2.0.2",
      "model_name": "EventModel",
      "state": {
       "_supported_key_events": [
        "keydown",
        "keyup"
       ],
       "_supported_mouse_events": [
        "click",
        "auxclick",
        "dblclick",
        "mouseenter",
        "mouseleave",
        "mousedown",
        "mouseup",
        "mousemove",
        "wheel",
        "contextmenu",
        "dragstart",
        "drag",
        "dragend",
        "dragenter",
        "dragover",
        "dragleave",
        "drop"
       ],
       "_supported_touch_events": [
        "touchstart",
        "touchend",
        "touchmove",
        "touchcancel"
       ],
       "_view_module": "@jupyter-widgets/controls",
       "source": "IPY_MODEL_214c273d90ee4d78a7cf560277927b26",
       "throttle_or_debounce": "",
       "watched_events": [
        "mouseenter",
        "mouseleave"
       ],
       "xy_coordinate_system": ""
      }
     },
     "0e80f54247204698859e239e10a81747": {
      "model_module": "@jupyter-widgets/controls",
      "model_module_version": "2.0.0",
      "model_name": "ToggleButtonStyleModel",
      "state": {
       "description_width": "",
       "font_family": null,
       "font_size": null,
       "font_style": null,
       "font_variant": null,
       "font_weight": null,
       "text_color": null,
       "text_decoration": null
      }
     },
     "0e894dc7dae54a58940c507f7341603a": {
      "model_module": "@jupyter-widgets/base",
      "model_module_version": "2.0.0",
      "model_name": "LayoutModel",
      "state": {
       "padding": "0px 4px 0px 4px"
      }
     },
     "10b800fcd153441898cd74aceadd85a2": {
      "model_module": "@jupyter-widgets/base",
      "model_module_version": "2.0.0",
      "model_name": "LayoutModel",
      "state": {
       "padding": "0px 4px 0px 4px"
      }
     },
     "1110806c4c804e618c759bea36a94835": {
      "model_module": "@jupyter-widgets/controls",
      "model_module_version": "2.0.0",
      "model_name": "ToggleButtonModel",
      "state": {
       "button_style": "primary",
       "icon": "bar-chart",
       "layout": "IPY_MODEL_b3aa30fa6db54ac5b7dc1b06a4e9d45b",
       "style": "IPY_MODEL_5ba2824dcc954b5ca0ef61fddd33a5a4",
       "tooltip": "Plotting"
      }
     },
     "116ea22fba5b4c17bf44ad2808c041eb": {
      "model_module": "@jupyter-widgets/controls",
      "model_module_version": "2.0.0",
      "model_name": "HBoxModel",
      "state": {
       "children": [
        "IPY_MODEL_d1e6a6f768a14fdca3de9f936c6623d6",
        "IPY_MODEL_1196465845fd46f39b7d6ef8c167bdf9"
       ],
       "layout": "IPY_MODEL_bc6f61463be04c13a211e6bf979cc482"
      }
     },
     "1196465845fd46f39b7d6ef8c167bdf9": {
      "model_module": "@jupyter-widgets/controls",
      "model_module_version": "2.0.0",
      "model_name": "ToggleButtonModel",
      "state": {
       "icon": "server",
       "layout": "IPY_MODEL_ed9a0b0cfb2c462e9ecdafb7b4109e47",
       "style": "IPY_MODEL_1b434cb092814d67a92d1bed57c0b653",
       "tooltip": "Layer Manager",
       "value": true
      }
     },
     "127dbad0c4ef4219b9cd11efccccf9ae": {
      "model_module": "@jupyter-widgets/base",
      "model_module_version": "2.0.0",
      "model_name": "LayoutModel",
      "state": {
       "height": "25px",
       "padding": "0px",
       "width": "25px"
      }
     },
     "1729eaad997346c783fa5f7cfb6fd6ee": {
      "model_module": "@jupyter-widgets/controls",
      "model_module_version": "2.0.0",
      "model_name": "ToggleButtonStyleModel",
      "state": {
       "description_width": "",
       "font_family": null,
       "font_size": null,
       "font_style": null,
       "font_variant": null,
       "font_weight": null,
       "text_color": null,
       "text_decoration": null
      }
     },
     "17b229295eee4389afa51d4123ce49ee": {
      "model_module": "@jupyter-widgets/controls",
      "model_module_version": "2.0.0",
      "model_name": "ToggleButtonModel",
      "state": {
       "icon": "server",
       "layout": "IPY_MODEL_00dbd35d6de2444c906a2b197c10f254",
       "style": "IPY_MODEL_82c420516466496cb71985bdce6f621d",
       "tooltip": "Layers",
       "value": true
      }
     },
     "190b5aa67b9c4a59a68afc4acefe0deb": {
      "model_module": "@jupyter-widgets/controls",
      "model_module_version": "2.0.0",
      "model_name": "ButtonStyleModel",
      "state": {
       "font_family": null,
       "font_size": null,
       "font_style": null,
       "font_variant": null,
       "font_weight": null,
       "text_color": null,
       "text_decoration": null
      }
     },
     "1b434cb092814d67a92d1bed57c0b653": {
      "model_module": "@jupyter-widgets/controls",
      "model_module_version": "2.0.0",
      "model_name": "ToggleButtonStyleModel",
      "state": {
       "description_width": "",
       "font_family": null,
       "font_size": null,
       "font_style": null,
       "font_variant": null,
       "font_weight": null,
       "text_color": null,
       "text_decoration": null
      }
     },
     "1bb153276b854ad292c7155742b98c48": {
      "model_module": "@jupyter-widgets/base",
      "model_module_version": "2.0.0",
      "model_name": "LayoutModel",
      "state": {
       "max_width": "57px",
       "min_width": "57px"
      }
     },
     "1c2ec65b22294a9bb73c3b71cdbbcf7b": {
      "model_module": "ipyevents",
      "model_module_version": "2.0.2",
      "model_name": "EventModel",
      "state": {
       "_supported_key_events": [
        "keydown",
        "keyup"
       ],
       "_supported_mouse_events": [
        "click",
        "auxclick",
        "dblclick",
        "mouseenter",
        "mouseleave",
        "mousedown",
        "mouseup",
        "mousemove",
        "wheel",
        "contextmenu",
        "dragstart",
        "drag",
        "dragend",
        "dragenter",
        "dragover",
        "dragleave",
        "drop"
       ],
       "_supported_touch_events": [
        "touchstart",
        "touchend",
        "touchmove",
        "touchcancel"
       ],
       "_view_module": "@jupyter-widgets/controls",
       "source": "IPY_MODEL_3edeacf4c96b4688acd3160f4249162c",
       "throttle_or_debounce": "",
       "watched_events": [
        "mouseenter",
        "mouseleave"
       ],
       "xy_coordinate_system": ""
      }
     },
     "214c273d90ee4d78a7cf560277927b26": {
      "model_module": "@jupyter-widgets/controls",
      "model_module_version": "2.0.0",
      "model_name": "ButtonModel",
      "state": {
       "_view_count": 1,
       "icon": "times",
       "layout": "IPY_MODEL_127dbad0c4ef4219b9cd11efccccf9ae",
       "style": "IPY_MODEL_340ce618c4434edeb67020892c290e6f",
       "tooltip": "Loaded"
      }
     },
     "22efb46c78ad409c9e9197b0ffbdfb33": {
      "model_module": "@jupyter-widgets/base",
      "model_module_version": "2.0.0",
      "model_name": "LayoutModel",
      "state": {
       "height": "auto",
       "padding": "0px 0px 0px 4px",
       "width": "auto"
      }
     },
     "257864f5bfaf4b5ab0dd5992c8c15e99": {
      "model_module": "@jupyter-widgets/controls",
      "model_module_version": "2.0.0",
      "model_name": "ToggleButtonStyleModel",
      "state": {
       "description_width": "",
       "font_family": null,
       "font_size": null,
       "font_style": null,
       "font_variant": null,
       "font_weight": null,
       "text_color": null,
       "text_decoration": null
      }
     },
     "28bbafd9091942799675f76314e69518": {
      "model_module": "@jupyter-widgets/base",
      "model_module_version": "2.0.0",
      "model_name": "LayoutModel",
      "state": {
       "height": "auto",
       "padding": "0px 0px 0px 4px",
       "width": "auto"
      }
     },
     "294f4a8160d849ae8aefea422e974025": {
      "model_module": "@jupyter-widgets/controls",
      "model_module_version": "2.0.0",
      "model_name": "ToggleButtonModel",
      "state": {
       "button_style": "primary",
       "icon": "line-chart",
       "layout": "IPY_MODEL_4bd1a12a4b4e4c4fb356ccc36d132419",
       "style": "IPY_MODEL_672a7e9e73534eca8fe95eae0da24aab",
       "tooltip": "Creating and plotting transects"
      }
     },
     "29712cbeb3b7423a9f100454cab5c64e": {
      "model_module": "@jupyter-widgets/controls",
      "model_module_version": "2.0.0",
      "model_name": "ButtonStyleModel",
      "state": {
       "font_family": null,
       "font_size": null,
       "font_style": null,
       "font_variant": null,
       "font_weight": null,
       "text_color": null,
       "text_decoration": null
      }
     },
     "29c2353dc5d4414499a51ec48aa3688d": {
      "model_module": "@jupyter-widgets/controls",
      "model_module_version": "2.0.0",
      "model_name": "ToggleButtonStyleModel",
      "state": {
       "description_width": "",
       "font_family": null,
       "font_size": null,
       "font_style": null,
       "font_variant": null,
       "font_weight": null,
       "text_color": null,
       "text_decoration": null
      }
     },
     "29df9fe7de67455081de99a620c1ac87": {
      "model_module": "@jupyter-widgets/base",
      "model_module_version": "2.0.0",
      "model_name": "LayoutModel",
      "state": {
       "height": "auto",
       "padding": "0px 0px 0px 4px",
       "width": "auto"
      }
     },
     "2a3d5d3dd7f1447bbfca15ab42c2bf49": {
      "model_module": "@jupyter-widgets/base",
      "model_module_version": "2.0.0",
      "model_name": "LayoutModel",
      "state": {}
     },
     "2b8a48ca0a4f4966be456084183ee5dd": {
      "model_module": "jupyter-leaflet",
      "model_module_version": "^0.19",
      "model_name": "LeafletTileLayerModel",
      "state": {
       "_model_module_version": "^0.19",
       "_view_module_version": "^0.19",
       "attribution": "&copy; <a href=\"https://www.openstreetmap.org/copyright\">OpenStreetMap</a> contributors",
       "base": true,
       "max_zoom": 19,
       "min_zoom": 1,
       "name": "OpenStreetMap.Mapnik",
       "options": [
        "attribution",
        "bounds",
        "detect_retina",
        "max_native_zoom",
        "max_zoom",
        "min_native_zoom",
        "min_zoom",
        "no_wrap",
        "tile_size",
        "tms",
        "zoom_offset"
       ],
       "url": "https://tile.openstreetmap.org/{z}/{x}/{y}.png"
      }
     },
     "2ca85796d46e4c1e8c36ac423f1423f0": {
      "model_module": "@jupyter-widgets/controls",
      "model_module_version": "2.0.0",
      "model_name": "HBoxModel",
      "state": {
       "children": [
        "IPY_MODEL_4fc405ce11214eaa99db0eec39ec9b14",
        "IPY_MODEL_4e202ec27229478e9469886adb1c9829"
       ],
       "layout": "IPY_MODEL_a0ddd8dac6994168ae30b66986b94571"
      }
     },
     "2d1e1cab169f40afbaa4555969f40d63": {
      "model_module": "jupyter-leaflet",
      "model_module_version": "^0.19",
      "model_name": "LeafletMeasureControlModel",
      "state": {
       "_model_module_version": "^0.19",
       "_view_module_version": "^0.19",
       "active_color": "orange",
       "options": [
        "active_color",
        "capture_z_index",
        "completed_color",
        "popup_options",
        "position",
        "primary_area_unit",
        "primary_length_unit",
        "secondary_area_unit",
        "secondary_length_unit"
       ],
       "position": "bottomleft",
       "primary_length_unit": "kilometers",
       "secondary_area_unit": null,
       "secondary_length_unit": null
      }
     },
     "2dbd78c82f9742a4bf444a6c49dddcf9": {
      "model_module": "jupyter-leaflet",
      "model_module_version": "^0.19",
      "model_name": "LeafletFullScreenControlModel",
      "state": {
       "_model_module_version": "^0.19",
       "_view_module_version": "^0.19",
       "options": [
        "position"
       ]
      }
     },
     "30d10f8e3b0b4cd89affacd56e428985": {
      "model_module": "@jupyter-widgets/controls",
      "model_module_version": "2.0.0",
      "model_name": "ToggleButtonsStyleModel",
      "state": {
       "button_width": "110px",
       "description_width": ""
      }
     },
     "337e9a4e13bc441f99ad2a905f6e8609": {
      "model_module": "jupyter-leaflet",
      "model_module_version": "^0.19",
      "model_name": "LeafletMapStyleModel",
      "state": {
       "_model_module_version": "^0.19"
      }
     },
     "340ce618c4434edeb67020892c290e6f": {
      "model_module": "@jupyter-widgets/controls",
      "model_module_version": "2.0.0",
      "model_name": "ButtonStyleModel",
      "state": {
       "font_family": null,
       "font_size": null,
       "font_style": null,
       "font_variant": null,
       "font_weight": null,
       "text_color": null,
       "text_decoration": null
      }
     },
     "3512aa366f18401f90410e93cef6db33": {
      "model_module": "@jupyter-widgets/base",
      "model_module_version": "2.0.0",
      "model_name": "LayoutModel",
      "state": {
       "align_items": "center",
       "display": "flex",
       "justify_content": "flex-end"
      }
     },
     "35c3067a6f72470fa67fe1f22e4ae904": {
      "model_module": "@jupyter-widgets/base",
      "model_module_version": "2.0.0",
      "model_name": "LayoutModel",
      "state": {}
     },
     "36d17ced107744369ff0500b858675b7": {
      "model_module": "@jupyter-widgets/base",
      "model_module_version": "2.0.0",
      "model_name": "LayoutModel",
      "state": {
       "padding": "0px 3px 0px 0px",
       "width": "70px"
      }
     },
     "37fd6d7e7ef146ac8b49e35ec43f5fbe": {
      "model_module": "@jupyter-widgets/controls",
      "model_module_version": "2.0.0",
      "model_name": "ToggleButtonStyleModel",
      "state": {
       "description_width": "",
       "font_family": null,
       "font_size": null,
       "font_style": null,
       "font_variant": null,
       "font_weight": null,
       "text_color": null,
       "text_decoration": null
      }
     },
     "380a0c4803dc470b86ed3f12f024ac9a": {
      "model_module": "@jupyter-widgets/base",
      "model_module_version": "2.0.0",
      "model_name": "LayoutModel",
      "state": {
       "height": "18px",
       "padding": "0px 4px 25px 4px",
       "width": "30ex"
      }
     },
     "391b59c56fc24a0ba29e9fc6793f68d2": {
      "model_module": "@jupyter-widgets/base",
      "model_module_version": "2.0.0",
      "model_name": "LayoutModel",
      "state": {
       "padding": "0px 4px 0px 4px"
      }
     },
     "3ae8ce9a142546f88489b18a39692dad": {
      "model_module": "@jupyter-widgets/controls",
      "model_module_version": "2.0.0",
      "model_name": "FloatSliderModel",
      "state": {
       "behavior": "drag-tap",
       "layout": "IPY_MODEL_d9b4b14cbf5a4b36bdd155949d4c4467",
       "max": 1,
       "readout": false,
       "step": 0.01,
       "style": "IPY_MODEL_6461d803394548c892034fe0286823ba",
       "value": 1
      }
     },
     "3bb308a9abae44bebaa629ea262cef81": {
      "model_module": "@jupyter-widgets/controls",
      "model_module_version": "2.0.0",
      "model_name": "ToggleButtonModel",
      "state": {
       "button_style": "primary",
       "icon": "hand-o-up",
       "layout": "IPY_MODEL_ed12a0974ee34c56b562ad5ae18cbb88",
       "style": "IPY_MODEL_88a3f82043834dd69835403a0b9c6c26",
       "tooltip": "Collect training samples"
      }
     },
     "3edeacf4c96b4688acd3160f4249162c": {
      "model_module": "@jupyter-widgets/controls",
      "model_module_version": "2.0.0",
      "model_name": "ButtonModel",
      "state": {
       "icon": "times",
       "layout": "IPY_MODEL_9e26b907627a473e9efdb383922f6365",
       "style": "IPY_MODEL_588ad86381bd4351811f113d3433fa5e",
       "tooltip": "Loaded"
      }
     },
     "3f2347a9b9824eaf9ea6351dc244f5ed": {
      "model_module": "@jupyter-widgets/base",
      "model_module_version": "2.0.0",
      "model_name": "LayoutModel",
      "state": {
       "height": "auto",
       "padding": "0px 0px 0px 4px",
       "width": "auto"
      }
     },
     "41ac32843dcd4ce9bafe3cbfdf1c1113": {
      "model_module": "@jupyter-widgets/controls",
      "model_module_version": "2.0.0",
      "model_name": "ToggleButtonStyleModel",
      "state": {
       "description_width": "",
       "font_family": null,
       "font_size": null,
       "font_style": null,
       "font_variant": null,
       "font_weight": null,
       "text_color": null,
       "text_decoration": null
      }
     },
     "4a7c3c722c1f4d7684b18979f23aa78d": {
      "model_module": "jupyter-leaflet",
      "model_module_version": "^0.19",
      "model_name": "LeafletZoomControlModel",
      "state": {
       "_model_module_version": "^0.19",
       "_view_module_version": "^0.19",
       "options": [
        "position",
        "zoom_in_text",
        "zoom_in_title",
        "zoom_out_text",
        "zoom_out_title"
       ]
      }
     },
     "4b192d808f0a4e899807b95bdb52657a": {
      "model_module": "@jupyter-widgets/controls",
      "model_module_version": "2.0.0",
      "model_name": "ToggleButtonStyleModel",
      "state": {
       "description_width": "",
       "font_family": null,
       "font_size": null,
       "font_style": null,
       "font_variant": null,
       "font_weight": null,
       "text_color": null,
       "text_decoration": null
      }
     },
     "4bd1a12a4b4e4c4fb356ccc36d132419": {
      "model_module": "@jupyter-widgets/base",
      "model_module_version": "2.0.0",
      "model_name": "LayoutModel",
      "state": {
       "height": "auto",
       "padding": "0px 0px 0px 4px",
       "width": "auto"
      }
     },
     "4d29dee42d1c449ebe09ae6f03330b03": {
      "model_module": "@jupyter-widgets/controls",
      "model_module_version": "2.0.0",
      "model_name": "RadioButtonsModel",
      "state": {
       "index": null,
       "layout": "IPY_MODEL_8d5b486e125f403e97ab33fcd7a0adae",
       "style": "IPY_MODEL_f29bdbc1bcc1415397d9178db3acc556"
      }
     },
     "4e202ec27229478e9469886adb1c9829": {
      "model_module": "@jupyter-widgets/controls",
      "model_module_version": "2.0.0",
      "model_name": "DropdownModel",
      "state": {
       "index": null,
       "layout": "IPY_MODEL_f354093b5e15467e8541005248825433",
       "style": "IPY_MODEL_af9de3304fc1402a9b724d6417cc48c4"
      }
     },
     "4e46c15614274ac2b8c4ae279863077f": {
      "model_module": "ipyevents",
      "model_module_version": "2.0.2",
      "model_name": "EventModel",
      "state": {
       "_supported_key_events": [
        "keydown",
        "keyup"
       ],
       "_supported_mouse_events": [
        "click",
        "auxclick",
        "dblclick",
        "mouseenter",
        "mouseleave",
        "mousedown",
        "mouseup",
        "mousemove",
        "wheel",
        "contextmenu",
        "dragstart",
        "drag",
        "dragend",
        "dragenter",
        "dragover",
        "dragleave",
        "drop"
       ],
       "_supported_touch_events": [
        "touchstart",
        "touchend",
        "touchmove",
        "touchcancel"
       ],
       "_view_module": "@jupyter-widgets/controls",
       "source": "IPY_MODEL_cebe3170d0fa48b0a5d80c0b9a842059",
       "throttle_or_debounce": "",
       "watched_events": [
        "mouseenter",
        "mouseleave"
       ],
       "xy_coordinate_system": ""
      }
     },
     "4fc405ce11214eaa99db0eec39ec9b14": {
      "model_module": "@jupyter-widgets/controls",
      "model_module_version": "2.0.0",
      "model_name": "ButtonModel",
      "state": {
       "button_style": "primary",
       "description": "import",
       "layout": "IPY_MODEL_1bb153276b854ad292c7155742b98c48",
       "style": "IPY_MODEL_cbc3c45699dc4e37b4c69f521cb2bb0e",
       "tooltip": "Click to import the selected asset"
      }
     },
     "5018acb04eef473fba2a4e9595163a29": {
      "model_module": "@jupyter-widgets/base",
      "model_module_version": "2.0.0",
      "model_name": "LayoutModel",
      "state": {
       "height": "18px",
       "width": "140px"
      }
     },
     "514a3adaf8ab48c28b8ce833d154b06e": {
      "model_module": "jupyter-leaflet",
      "model_module_version": "^0.19",
      "model_name": "LeafletMapStyleModel",
      "state": {
       "_model_module_version": "^0.19"
      }
     },
     "521489098d2549e7930d8ec536212dfe": {
      "model_module": "@jupyter-widgets/controls",
      "model_module_version": "2.0.0",
      "model_name": "ToggleButtonModel",
      "state": {
       "button_style": "primary",
       "icon": "google",
       "layout": "IPY_MODEL_e299865e0c794adf991c1a7c08ff1b50",
       "style": "IPY_MODEL_09cb6e0a51b44b55a7afbd3cd0c84814",
       "tooltip": "GEE Toolbox for cloud computing"
      }
     },
     "5274a4437f7d4d5f98a9372e2a44e745": {
      "model_module": "@jupyter-widgets/controls",
      "model_module_version": "2.0.0",
      "model_name": "FloatSliderModel",
      "state": {
       "behavior": "drag-tap",
       "layout": "IPY_MODEL_a963bfc80d34489da8d482f2b21f4b1b",
       "max": 1,
       "readout": false,
       "step": 0.01,
       "style": "IPY_MODEL_a84254c3bb4149de8bf43f506130db8d",
       "value": 1
      }
     },
     "53b01bc9467c4829ba9143247873b429": {
      "model_module": "@jupyter-widgets/base",
      "model_module_version": "2.0.0",
      "model_name": "LayoutModel",
      "state": {
       "height": "28px",
       "padding": "0px 0px 0px 4px",
       "width": "28px"
      }
     },
     "5411f8578d864690b0fa18f3d5686dec": {
      "model_module": "@jupyter-widgets/controls",
      "model_module_version": "2.0.0",
      "model_name": "CheckboxStyleModel",
      "state": {
       "description_width": ""
      }
     },
     "55c98b74cb6a4355b25bdacef4d1f1c9": {
      "model_module": "@jupyter-widgets/controls",
      "model_module_version": "2.0.0",
      "model_name": "ToggleButtonsModel",
      "state": {
       "_options_labels": [
        "name/address",
        "lat-lon",
        "data"
       ],
       "button_style": "",
       "icons": [],
       "index": 0,
       "layout": "IPY_MODEL_01e4f9f72fe348b4b71a28053bf75e76",
       "style": "IPY_MODEL_30d10f8e3b0b4cd89affacd56e428985",
       "tooltips": [
        "Search by place name or address",
        "Search by lat-lon coordinates",
        "Search Earth Engine data catalog"
       ]
      }
     },
     "588ad86381bd4351811f113d3433fa5e": {
      "model_module": "@jupyter-widgets/controls",
      "model_module_version": "2.0.0",
      "model_name": "ButtonStyleModel",
      "state": {
       "font_family": null,
       "font_size": null,
       "font_style": null,
       "font_variant": null,
       "font_weight": null,
       "text_color": null,
       "text_decoration": null
      }
     },
     "5ba2824dcc954b5ca0ef61fddd33a5a4": {
      "model_module": "@jupyter-widgets/controls",
      "model_module_version": "2.0.0",
      "model_name": "ToggleButtonStyleModel",
      "state": {
       "description_width": "",
       "font_family": null,
       "font_size": null,
       "font_style": null,
       "font_variant": null,
       "font_weight": null,
       "text_color": null,
       "text_decoration": null
      }
     },
     "5c1ae4e879144deca69ea3fa131e5a08": {
      "model_module": "@jupyter-widgets/controls",
      "model_module_version": "2.0.0",
      "model_name": "ButtonModel",
      "state": {
       "icon": "gear",
       "layout": "IPY_MODEL_667c9cffb626472bb9124e666f47b8e3",
       "style": "IPY_MODEL_be7ee08bbbbe4cfcbc9aaf84b17b8ada",
       "tooltip": "NDVI (Manuel)"
      }
     },
     "5c814b756d0f4f728ccdb175a39254b3": {
      "model_module": "@jupyter-widgets/controls",
      "model_module_version": "2.0.0",
      "model_name": "SliderStyleModel",
      "state": {
       "description_width": ""
      }
     },
     "5c8228da0f684c4d8397d1017fd00eda": {
      "model_module": "@jupyter-widgets/controls",
      "model_module_version": "2.0.0",
      "model_name": "ToggleButtonModel",
      "state": {
       "button_style": "primary",
       "icon": "adjust",
       "layout": "IPY_MODEL_fe4d0c3924494c4081acb2eb6edbef02",
       "style": "IPY_MODEL_0e80f54247204698859e239e10a81747",
       "tooltip": "Planet imagery"
      }
     },
     "5ce805db3b5342c7b3b30f6a5ca1baad": {
      "model_module": "@jupyter-widgets/base",
      "model_module_version": "2.0.0",
      "model_name": "LayoutModel",
      "state": {
       "height": "auto",
       "padding": "0px 0px 0px 4px",
       "width": "auto"
      }
     },
     "62b4d34b2891415da739f7f632bc75eb": {
      "model_module": "@jupyter-widgets/base",
      "model_module_version": "2.0.0",
      "model_name": "LayoutModel",
      "state": {
       "height": "25px",
       "padding": "0px",
       "width": "25px"
      }
     },
     "6461d803394548c892034fe0286823ba": {
      "model_module": "@jupyter-widgets/controls",
      "model_module_version": "2.0.0",
      "model_name": "SliderStyleModel",
      "state": {
       "description_width": ""
      }
     },
     "667c9cffb626472bb9124e666f47b8e3": {
      "model_module": "@jupyter-widgets/base",
      "model_module_version": "2.0.0",
      "model_name": "LayoutModel",
      "state": {
       "height": "25px",
       "padding": "0px",
       "width": "25px"
      }
     },
     "672a7e9e73534eca8fe95eae0da24aab": {
      "model_module": "@jupyter-widgets/controls",
      "model_module_version": "2.0.0",
      "model_name": "ToggleButtonStyleModel",
      "state": {
       "description_width": "",
       "font_family": null,
       "font_size": null,
       "font_style": null,
       "font_variant": null,
       "font_weight": null,
       "text_color": null,
       "text_decoration": null
      }
     },
     "67d8c8640bdd476ca41b3032b8771057": {
      "model_module": "@jupyter-widgets/controls",
      "model_module_version": "2.0.0",
      "model_name": "CheckboxModel",
      "state": {
       "description": "All layers on/off",
       "disabled": false,
       "indent": false,
       "layout": "IPY_MODEL_380a0c4803dc470b86ed3f12f024ac9a",
       "style": "IPY_MODEL_d17af6f32102485b8de6a37b5ae96439",
       "value": false
      }
     },
     "68172ed687564a64bbb132d1e231f765": {
      "model_module": "@jupyter-widgets/controls",
      "model_module_version": "2.0.0",
      "model_name": "TextStyleModel",
      "state": {
       "description_width": "",
       "font_size": null,
       "text_color": null
      }
     },
     "69282844db474a7f885ed684c5345ed7": {
      "model_module": "@jupyter-widgets/controls",
      "model_module_version": "2.0.0",
      "model_name": "CheckboxModel",
      "state": {
       "description": "OpenStreetMap.Mapnik",
       "disabled": false,
       "indent": false,
       "layout": "IPY_MODEL_770e05adb45f4a48a217065b6fa396d1",
       "style": "IPY_MODEL_a95cc8c030ef4e5c94fba61f5a04e52c",
       "value": true
      }
     },
     "6b9b12a699bc4b50a1ae1385f5dd0f65": {
      "model_module": "@jupyter-widgets/controls",
      "model_module_version": "2.0.0",
      "model_name": "HBoxModel",
      "state": {
       "children": [
        "IPY_MODEL_17b229295eee4389afa51d4123ce49ee",
        "IPY_MODEL_b6792c71517f4359945a8548926301ac"
       ],
       "layout": "IPY_MODEL_3512aa366f18401f90410e93cef6db33"
      }
     },
     "721c6dafd9ff48c59afce942bce453b7": {
      "model_module": "jupyter-leaflet",
      "model_module_version": "^0.19",
      "model_name": "LeafletWidgetControlModel",
      "state": {
       "_model_module_version": "^0.19",
       "_view_module_version": "^0.19",
       "options": [
        "position",
        "transparent_bg"
       ],
       "widget": "IPY_MODEL_cebe3170d0fa48b0a5d80c0b9a842059"
      }
     },
     "770e05adb45f4a48a217065b6fa396d1": {
      "model_module": "@jupyter-widgets/base",
      "model_module_version": "2.0.0",
      "model_name": "LayoutModel",
      "state": {
       "height": "18px",
       "width": "140px"
      }
     },
     "785ae2fc7f6c40b09d09aa64d117ab1e": {
      "model_module": "@jupyter-widgets/base",
      "model_module_version": "2.0.0",
      "model_name": "LayoutModel",
      "state": {
       "height": "25px",
       "padding": "0px",
       "width": "25px"
      }
     },
     "7f68617a49e54d479b1d377db1772757": {
      "model_module": "@jupyter-widgets/base",
      "model_module_version": "2.0.0",
      "model_name": "LayoutModel",
      "state": {}
     },
     "810d47b0b12940628de18b42fbaf92e1": {
      "model_module": "jupyter-leaflet",
      "model_module_version": "^0.19",
      "model_name": "LeafletAttributionControlModel",
      "state": {
       "_model_module_version": "^0.19",
       "_view_module_version": "^0.19",
       "options": [
        "position",
        "prefix"
       ],
       "position": "bottomright",
       "prefix": "ipyleaflet"
      }
     },
     "82c420516466496cb71985bdce6f621d": {
      "model_module": "@jupyter-widgets/controls",
      "model_module_version": "2.0.0",
      "model_name": "ToggleButtonStyleModel",
      "state": {
       "description_width": "",
       "font_family": null,
       "font_size": null,
       "font_style": null,
       "font_variant": null,
       "font_weight": null,
       "text_color": null,
       "text_decoration": null
      }
     },
     "84b7084848fc421b893b59860107d5cd": {
      "model_module": "@jupyter-widgets/controls",
      "model_module_version": "2.0.0",
      "model_name": "ToggleButtonStyleModel",
      "state": {
       "description_width": "",
       "font_family": null,
       "font_size": null,
       "font_style": null,
       "font_variant": null,
       "font_weight": null,
       "text_color": null,
       "text_decoration": null
      }
     },
     "8698aaa0dc7146bfad121c8b1f16d254": {
      "model_module": "@jupyter-widgets/controls",
      "model_module_version": "2.0.0",
      "model_name": "ToggleButtonModel",
      "state": {
       "button_style": "primary",
       "icon": "random",
       "layout": "IPY_MODEL_caab6462b7ff442e959c6ac793a9755f",
       "style": "IPY_MODEL_37fd6d7e7ef146ac8b49e35ec43f5fbe",
       "tooltip": "Sankey plots"
      }
     },
     "88a3f82043834dd69835403a0b9c6c26": {
      "model_module": "@jupyter-widgets/controls",
      "model_module_version": "2.0.0",
      "model_name": "ToggleButtonStyleModel",
      "state": {
       "description_width": "",
       "font_family": null,
       "font_size": null,
       "font_style": null,
       "font_variant": null,
       "font_weight": null,
       "text_color": null,
       "text_decoration": null
      }
     },
     "8d5b486e125f403e97ab33fcd7a0adae": {
      "model_module": "@jupyter-widgets/base",
      "model_module_version": "2.0.0",
      "model_name": "LayoutModel",
      "state": {}
     },
     "90913d0152d74377bd4ea13f42be2a7d": {
      "model_module": "@jupyter-widgets/controls",
      "model_module_version": "2.0.0",
      "model_name": "ToggleButtonStyleModel",
      "state": {
       "description_width": "",
       "font_family": null,
       "font_size": null,
       "font_style": null,
       "font_variant": null,
       "font_weight": null,
       "text_color": null,
       "text_decoration": null
      }
     },
     "93740b3b2b0443b781f13d9e08db96ef": {
      "model_module": "@jupyter-widgets/controls",
      "model_module_version": "2.0.0",
      "model_name": "HBoxModel",
      "state": {
       "children": [
        "IPY_MODEL_a7046a62bce049cfb9d5af54f2720ddb",
        "IPY_MODEL_5274a4437f7d4d5f98a9372e2a44e745",
        "IPY_MODEL_bdd56cac0d5949a4ba7a25ef1a2164ac",
        "IPY_MODEL_3edeacf4c96b4688acd3160f4249162c"
       ],
       "layout": "IPY_MODEL_10b800fcd153441898cd74aceadd85a2"
      }
     },
     "94e72d241b3f4de5a6423314190d764b": {
      "model_module": "@jupyter-widgets/base",
      "model_module_version": "2.0.0",
      "model_name": "LayoutModel",
      "state": {
       "height": "28px",
       "padding": "0px",
       "width": "28px"
      }
     },
     "9581b5786ff54a89934e4d39ff8e3d86": {
      "model_module": "@jupyter-widgets/base",
      "model_module_version": "2.0.0",
      "model_name": "LayoutModel",
      "state": {
       "height": "28px",
       "padding": "0px 0px 0px 4px",
       "width": "28px"
      }
     },
     "98b4e4c918de472bb0c34f9a16eb83f0": {
      "model_module": "@jupyter-widgets/base",
      "model_module_version": "2.0.0",
      "model_name": "LayoutModel",
      "state": {}
     },
     "9bdd7812b83646e097e35017fcd7b611": {
      "model_module": "jupyter-leaflet",
      "model_module_version": "^0.19",
      "model_name": "LeafletMapModel",
      "state": {
       "_model_module_version": "^0.19",
       "_view_module_version": "^0.19",
       "bottom": 1813329,
       "center": [
        23.681881449834943,
        -713.996481249222
       ],
       "controls": [
        "IPY_MODEL_721c6dafd9ff48c59afce942bce453b7",
        "IPY_MODEL_4a7c3c722c1f4d7684b18979f23aa78d",
        "IPY_MODEL_2dbd78c82f9742a4bf444a6c49dddcf9",
        "IPY_MODEL_fb11b9f0ccee4750bd50d9c170b92235",
        "IPY_MODEL_0aa9ad0332384522a43242eecbc0da0d",
        "IPY_MODEL_2d1e1cab169f40afbaa4555969f40d63",
        "IPY_MODEL_dcd7d42c22ff4b3486b5d062f61bb3ed",
        "IPY_MODEL_810d47b0b12940628de18b42fbaf92e1"
       ],
       "default_style": "IPY_MODEL_337e9a4e13bc441f99ad2a905f6e8609",
       "dragging_style": "IPY_MODEL_e6b57acbf94e404fbf17c3aa783b62f1",
       "east": -713.9492797851564,
       "fullscreen": false,
       "interpolation": "bilinear",
       "layers": [
        "IPY_MODEL_2b8a48ca0a4f4966be456084183ee5dd",
        "IPY_MODEL_fcf99bca16e64eff9d10bd7e46751c80"
       ],
       "layout": "IPY_MODEL_05b836531dd6472c93c104efb3998f54",
       "left": -6222059,
       "max_zoom": 24,
       "modisdate": "2024-12-05",
       "north": 23.70544462418905,
       "options": [
        "bounce_at_zoom_limits",
        "box_zoom",
        "center",
        "close_popup_on_click",
        "double_click_zoom",
        "dragging",
        "fullscreen",
        "inertia",
        "inertia_deceleration",
        "inertia_max_speed",
        "interpolation",
        "keyboard",
        "keyboard_pan_offset",
        "keyboard_zoom_offset",
        "max_zoom",
        "min_zoom",
        "prefer_canvas",
        "scroll_wheel_zoom",
        "tap",
        "tap_tolerance",
        "touch_zoom",
        "world_copy_jump",
        "zoom",
        "zoom_animation_threshold",
        "zoom_delta",
        "zoom_snap"
       ],
       "prefer_canvas": false,
       "scroll_wheel_zoom": true,
       "south": 23.658282905703434,
       "style": "IPY_MODEL_e6b57acbf94e404fbf17c3aa783b62f1",
       "top": 1812729,
       "west": -714.0436077117921,
       "window_url": "http://localhost:8888/notebooks/Documents/ISEP3_2025/Stats_spatiale/Statistique-Exploratoire-Spatiale/TP10/Groupe%20-%20GEE%20with%20Python/TP10_GEEpython.ipynb#B-I-",
       "zoom": 14
      }
     },
     "9e26b907627a473e9efdb383922f6365": {
      "model_module": "@jupyter-widgets/base",
      "model_module_version": "2.0.0",
      "model_name": "LayoutModel",
      "state": {
       "height": "25px",
       "padding": "0px",
       "width": "25px"
      }
     },
     "a0ddd8dac6994168ae30b66986b94571": {
      "model_module": "@jupyter-widgets/base",
      "model_module_version": "2.0.0",
      "model_name": "LayoutModel",
      "state": {}
     },
     "a281a11fe179415dafb417f108ff94f7": {
      "model_module": "@jupyter-widgets/controls",
      "model_module_version": "2.0.0",
      "model_name": "ToggleButtonModel",
      "state": {
       "button_style": "primary",
       "icon": "info",
       "layout": "IPY_MODEL_22efb46c78ad409c9e9197b0ffbdfb33",
       "style": "IPY_MODEL_84b7084848fc421b893b59860107d5cd",
       "tooltip": "Inspector"
      }
     },
     "a3da38e0708541bd8dd3782d35ec0394": {
      "model_module": "@jupyter-widgets/controls",
      "model_module_version": "2.0.0",
      "model_name": "HTMLModel",
      "state": {
       "layout": "IPY_MODEL_09744412099044028fd130a84a699545",
       "style": "IPY_MODEL_e6f9f9eea446442b882fcf1b37794ee8"
      }
     },
     "a54d7906c2ce4709937627544a03ee13": {
      "model_module": "@jupyter-widgets/base",
      "model_module_version": "2.0.0",
      "model_name": "LayoutModel",
      "state": {
       "height": "auto",
       "padding": "0px 0px 0px 4px",
       "width": "auto"
      }
     },
     "a5ddaddf92bd4152a08b0ba6dcd6e952": {
      "model_module": "@jupyter-widgets/controls",
      "model_module_version": "2.0.0",
      "model_name": "CheckboxStyleModel",
      "state": {
       "description_width": ""
      }
     },
     "a7046a62bce049cfb9d5af54f2720ddb": {
      "model_module": "@jupyter-widgets/controls",
      "model_module_version": "2.0.0",
      "model_name": "CheckboxModel",
      "state": {
       "description": "OpenStreetMap.Mapnik",
       "disabled": false,
       "indent": false,
       "layout": "IPY_MODEL_d163804e6f284939b38b631ded3e9473",
       "style": "IPY_MODEL_5411f8578d864690b0fa18f3d5686dec",
       "value": true
      }
     },
     "a84254c3bb4149de8bf43f506130db8d": {
      "model_module": "@jupyter-widgets/controls",
      "model_module_version": "2.0.0",
      "model_name": "SliderStyleModel",
      "state": {
       "description_width": ""
      }
     },
     "a95cc8c030ef4e5c94fba61f5a04e52c": {
      "model_module": "@jupyter-widgets/controls",
      "model_module_version": "2.0.0",
      "model_name": "CheckboxStyleModel",
      "state": {
       "description_width": ""
      }
     },
     "a963bfc80d34489da8d482f2b21f4b1b": {
      "model_module": "@jupyter-widgets/base",
      "model_module_version": "2.0.0",
      "model_name": "LayoutModel",
      "state": {
       "padding": "0px 3px 0px 0px",
       "width": "70px"
      }
     },
     "af9de3304fc1402a9b724d6417cc48c4": {
      "model_module": "@jupyter-widgets/controls",
      "model_module_version": "2.0.0",
      "model_name": "DescriptionStyleModel",
      "state": {
       "description_width": ""
      }
     },
     "b0d8fb4ac56e4018a199541fcc6e74d8": {
      "model_module": "@jupyter-widgets/controls",
      "model_module_version": "2.0.0",
      "model_name": "ToggleButtonStyleModel",
      "state": {
       "description_width": "",
       "font_family": null,
       "font_size": null,
       "font_style": null,
       "font_variant": null,
       "font_weight": null,
       "text_color": null,
       "text_decoration": null
      }
     },
     "b1957a15fb584f0bba3946220f720d75": {
      "model_module": "@jupyter-widgets/controls",
      "model_module_version": "2.0.0",
      "model_name": "ToggleButtonModel",
      "state": {
       "button_style": "primary",
       "icon": "fast-forward",
       "layout": "IPY_MODEL_bf0fbcd06166457199b6cbc91b8fd27f",
       "style": "IPY_MODEL_4b192d808f0a4e899807b95bdb52657a",
       "tooltip": "Activate timeslider"
      }
     },
     "b3aa30fa6db54ac5b7dc1b06a4e9d45b": {
      "model_module": "@jupyter-widgets/base",
      "model_module_version": "2.0.0",
      "model_name": "LayoutModel",
      "state": {
       "height": "auto",
       "padding": "0px 0px 0px 4px",
       "width": "auto"
      }
     },
     "b6792c71517f4359945a8548926301ac": {
      "model_module": "@jupyter-widgets/controls",
      "model_module_version": "2.0.0",
      "model_name": "ToggleButtonModel",
      "state": {
       "icon": "wrench",
       "layout": "IPY_MODEL_9581b5786ff54a89934e4d39ff8e3d86",
       "style": "IPY_MODEL_41ac32843dcd4ce9bafe3cbfdf1c1113",
       "tooltip": "Toolbar"
      }
     },
     "b79ec2fe8039429487effa4704644442": {
      "model_module": "@jupyter-widgets/base",
      "model_module_version": "2.0.0",
      "model_name": "LayoutModel",
      "state": {
       "height": "auto",
       "padding": "0px 0px 0px 4px",
       "width": "auto"
      }
     },
     "b91358836a314b29b6d8df4b129575ee": {
      "model_module": "@jupyter-widgets/base",
      "model_module_version": "2.0.0",
      "model_name": "LayoutModel",
      "state": {
       "height": "18px",
       "padding": "0px 4px 25px 4px",
       "width": "30ex"
      }
     },
     "bc0aeeca2987435ca433fd619f3e673c": {
      "model_module": "@jupyter-widgets/base",
      "model_module_version": "2.0.0",
      "model_name": "LayoutModel",
      "state": {
       "height": "25px",
       "padding": "0px",
       "width": "25px"
      }
     },
     "bc6f61463be04c13a211e6bf979cc482": {
      "model_module": "@jupyter-widgets/base",
      "model_module_version": "2.0.0",
      "model_name": "LayoutModel",
      "state": {
       "display": "none"
      }
     },
     "bdd56cac0d5949a4ba7a25ef1a2164ac": {
      "model_module": "@jupyter-widgets/controls",
      "model_module_version": "2.0.0",
      "model_name": "ButtonModel",
      "state": {
       "icon": "gear",
       "layout": "IPY_MODEL_785ae2fc7f6c40b09d09aa64d117ab1e",
       "style": "IPY_MODEL_29712cbeb3b7423a9f100454cab5c64e",
       "tooltip": "OpenStreetMap.Mapnik"
      }
     },
     "bdd9d4ee4b9743b5b392eaa8b7ed001a": {
      "model_module": "@jupyter-widgets/controls",
      "model_module_version": "2.0.0",
      "model_name": "VBoxModel",
      "state": {
       "_dom_classes": [
        "geemap-light"
       ],
       "children": [
        "IPY_MODEL_116ea22fba5b4c17bf44ad2808c041eb",
        "IPY_MODEL_0a96c1d665c140e68dc6e28c6668161a"
       ],
       "layout": "IPY_MODEL_35c3067a6f72470fa67fe1f22e4ae904"
      }
     },
     "be14960a7fa34943beeb0000764a1213": {
      "model_module": "@jupyter-widgets/controls",
      "model_module_version": "2.0.0",
      "model_name": "ToggleButtonModel",
      "state": {
       "button_style": "primary",
       "icon": "eraser",
       "layout": "IPY_MODEL_d4a1df5dd3894cc380525ebc3693d955",
       "style": "IPY_MODEL_03d61dc84cac4664a597329126481ce6",
       "tooltip": "Remove all drawn features"
      }
     },
     "be7ee08bbbbe4cfcbc9aaf84b17b8ada": {
      "model_module": "@jupyter-widgets/controls",
      "model_module_version": "2.0.0",
      "model_name": "ButtonStyleModel",
      "state": {
       "font_family": null,
       "font_size": null,
       "font_style": null,
       "font_variant": null,
       "font_weight": null,
       "text_color": null,
       "text_decoration": null
      }
     },
     "bee1c37e26074c12a9341b77de10c08b": {
      "model_module": "@jupyter-widgets/controls",
      "model_module_version": "2.0.0",
      "model_name": "GridBoxModel",
      "state": {
       "children": [
        "IPY_MODEL_a281a11fe179415dafb417f108ff94f7",
        "IPY_MODEL_1110806c4c804e618c759bea36a94835",
        "IPY_MODEL_0935ca3cab6b4b0fb00b264e28b49f31",
        "IPY_MODEL_e163964359104a24a75ad022a7b2ad3a",
        "IPY_MODEL_ce6ba415713a4606affae15ece64acda",
        "IPY_MODEL_f6f1e0ba7eca4257b029b4d125399c6f"
       ],
       "layout": "IPY_MODEL_d99934f8a40e4427a15df886af0bbcf6"
      }
     },
     "bf0fbcd06166457199b6cbc91b8fd27f": {
      "model_module": "@jupyter-widgets/base",
      "model_module_version": "2.0.0",
      "model_name": "LayoutModel",
      "state": {
       "height": "auto",
       "padding": "0px 0px 0px 4px",
       "width": "auto"
      }
     },
     "c1d56bb4a32345f4890bb7c7a3497fb2": {
      "model_module": "@jupyter-widgets/base",
      "model_module_version": "2.0.0",
      "model_name": "LayoutModel",
      "state": {
       "max_height": "350px",
       "max_width": "340px",
       "overflow": "scroll"
      }
     },
     "c659e5e852034f7ebbb43e4133ced76c": {
      "model_module": "@jupyter-widgets/controls",
      "model_module_version": "2.0.0",
      "model_name": "HBoxModel",
      "state": {
       "children": [
        "IPY_MODEL_69282844db474a7f885ed684c5345ed7",
        "IPY_MODEL_3ae8ce9a142546f88489b18a39692dad",
        "IPY_MODEL_f3bec47101b340beaeb588ea8261ca26",
        "IPY_MODEL_f7f510da13514becb2477df583b14e28"
       ],
       "layout": "IPY_MODEL_0e894dc7dae54a58940c507f7341603a"
      }
     },
     "ca088641c4724eec98b7a42328aa2390": {
      "model_module": "@jupyter-widgets/controls",
      "model_module_version": "2.0.0",
      "model_name": "FloatSliderModel",
      "state": {
       "behavior": "drag-tap",
       "layout": "IPY_MODEL_36d17ced107744369ff0500b858675b7",
       "max": 1,
       "readout": false,
       "step": 0.01,
       "style": "IPY_MODEL_5c814b756d0f4f728ccdb175a39254b3",
       "value": 1
      }
     },
     "caab6462b7ff442e959c6ac793a9755f": {
      "model_module": "@jupyter-widgets/base",
      "model_module_version": "2.0.0",
      "model_name": "LayoutModel",
      "state": {
       "height": "auto",
       "padding": "0px 0px 0px 4px",
       "width": "auto"
      }
     },
     "cbc3c45699dc4e37b4c69f521cb2bb0e": {
      "model_module": "@jupyter-widgets/controls",
      "model_module_version": "2.0.0",
      "model_name": "ButtonStyleModel",
      "state": {
       "font_family": null,
       "font_size": null,
       "font_style": null,
       "font_variant": null,
       "font_weight": null,
       "text_color": null,
       "text_decoration": null
      }
     },
     "cc201f3166844415b1b689e317099af7": {
      "model_module": "ipyevents",
      "model_module_version": "2.0.2",
      "model_name": "EventModel",
      "state": {
       "_supported_key_events": [
        "keydown",
        "keyup"
       ],
       "_supported_mouse_events": [
        "click",
        "auxclick",
        "dblclick",
        "mouseenter",
        "mouseleave",
        "mousedown",
        "mouseup",
        "mousemove",
        "wheel",
        "contextmenu",
        "dragstart",
        "drag",
        "dragend",
        "dragenter",
        "dragover",
        "dragleave",
        "drop"
       ],
       "_supported_touch_events": [
        "touchstart",
        "touchend",
        "touchmove",
        "touchcancel"
       ],
       "_view_module": "@jupyter-widgets/controls",
       "source": "IPY_MODEL_f7f510da13514becb2477df583b14e28",
       "throttle_or_debounce": "",
       "watched_events": [
        "mouseenter",
        "mouseleave"
       ],
       "xy_coordinate_system": ""
      }
     },
     "ce6ba415713a4606affae15ece64acda": {
      "model_module": "@jupyter-widgets/controls",
      "model_module_version": "2.0.0",
      "model_name": "ToggleButtonModel",
      "state": {
       "button_style": "primary",
       "icon": "retweet",
       "layout": "IPY_MODEL_b79ec2fe8039429487effa4704644442",
       "style": "IPY_MODEL_1729eaad997346c783fa5f7cfb6fd6ee",
       "tooltip": "Convert Earth Engine JavaScript to Python"
      }
     },
     "cebe3170d0fa48b0a5d80c0b9a842059": {
      "model_module": "@jupyter-widgets/controls",
      "model_module_version": "2.0.0",
      "model_name": "HBoxModel",
      "state": {
       "_dom_classes": [
        "geemap-light"
       ],
       "_view_count": 1,
       "children": [
        "IPY_MODEL_f28392ec2cb34fceab94d1bb88bd56f5"
       ],
       "layout": "IPY_MODEL_e574ad5a3a8f409a8d726481ff882a4f"
      }
     },
     "d013f09b18424415a3f5553537b5261e": {
      "model_module": "@jupyter-widgets/controls",
      "model_module_version": "2.0.0",
      "model_name": "ToggleButtonStyleModel",
      "state": {
       "description_width": "",
       "font_family": null,
       "font_size": null,
       "font_style": null,
       "font_variant": null,
       "font_weight": null,
       "text_color": null,
       "text_decoration": null
      }
     },
     "d163804e6f284939b38b631ded3e9473": {
      "model_module": "@jupyter-widgets/base",
      "model_module_version": "2.0.0",
      "model_name": "LayoutModel",
      "state": {
       "height": "18px",
       "width": "140px"
      }
     },
     "d17af6f32102485b8de6a37b5ae96439": {
      "model_module": "@jupyter-widgets/controls",
      "model_module_version": "2.0.0",
      "model_name": "CheckboxStyleModel",
      "state": {
       "description_width": ""
      }
     },
     "d1e6a6f768a14fdca3de9f936c6623d6": {
      "model_module": "@jupyter-widgets/controls",
      "model_module_version": "2.0.0",
      "model_name": "ButtonModel",
      "state": {
       "button_style": "primary",
       "icon": "times",
       "layout": "IPY_MODEL_94e72d241b3f4de5a6423314190d764b",
       "style": "IPY_MODEL_04b05549d5aa40b0976ee8993f8193bc",
       "tooltip": "Close the tool"
      }
     },
     "d4a1df5dd3894cc380525ebc3693d955": {
      "model_module": "@jupyter-widgets/base",
      "model_module_version": "2.0.0",
      "model_name": "LayoutModel",
      "state": {
       "height": "auto",
       "padding": "0px 0px 0px 4px",
       "width": "auto"
      }
     },
     "d62728aacec3493e925418844b2598da": {
      "model_module": "@jupyter-widgets/base",
      "model_module_version": "2.0.0",
      "model_name": "LayoutModel",
      "state": {
       "width": "500px"
      }
     },
     "d6c56c3a5e584817b9469215883fcb7d": {
      "model_module": "@jupyter-widgets/controls",
      "model_module_version": "2.0.0",
      "model_name": "CheckboxModel",
      "state": {
       "description": "All layers on/off",
       "disabled": false,
       "indent": false,
       "layout": "IPY_MODEL_b91358836a314b29b6d8df4b129575ee",
       "style": "IPY_MODEL_ff6d2192fd914a49b28199f1f11769c1",
       "value": false
      }
     },
     "d99934f8a40e4427a15df886af0bbcf6": {
      "model_module": "@jupyter-widgets/base",
      "model_module_version": "2.0.0",
      "model_name": "LayoutModel",
      "state": {
       "grid_gap": "1px 1px",
       "grid_template_columns": "32px 32px 32px ",
       "grid_template_rows": "32px 32px ",
       "padding": "5px",
       "width": "109px"
      }
     },
     "d9b4b14cbf5a4b36bdd155949d4c4467": {
      "model_module": "@jupyter-widgets/base",
      "model_module_version": "2.0.0",
      "model_name": "LayoutModel",
      "state": {
       "padding": "0px 3px 0px 0px",
       "width": "70px"
      }
     },
     "db5c969fc4d64254b3a86381a0b366bd": {
      "model_module": "@jupyter-widgets/controls",
      "model_module_version": "2.0.0",
      "model_name": "ToggleButtonModel",
      "state": {
       "button_style": "primary",
       "icon": "question",
       "layout": "IPY_MODEL_5ce805db3b5342c7b3b30f6a5ca1baad",
       "style": "IPY_MODEL_b0d8fb4ac56e4018a199541fcc6e74d8",
       "tooltip": "Get help"
      }
     },
     "dcd7d42c22ff4b3486b5d062f61bb3ed": {
      "model_module": "jupyter-leaflet",
      "model_module_version": "^0.19",
      "model_name": "LeafletWidgetControlModel",
      "state": {
       "_model_module_version": "^0.19",
       "_view_module_version": "^0.19",
       "options": [
        "position",
        "transparent_bg"
       ],
       "position": "topright",
       "widget": "IPY_MODEL_0021efa6e3a3485ea0fc2df0c28c9243"
      }
     },
     "e05b06e6898042b78652be43c368d709": {
      "model_module": "@jupyter-widgets/controls",
      "model_module_version": "2.0.0",
      "model_name": "ToggleButtonStyleModel",
      "state": {
       "description_width": "",
       "font_family": null,
       "font_size": null,
       "font_style": null,
       "font_variant": null,
       "font_weight": null,
       "text_color": null,
       "text_decoration": null
      }
     },
     "e163964359104a24a75ad022a7b2ad3a": {
      "model_module": "@jupyter-widgets/controls",
      "model_module_version": "2.0.0",
      "model_name": "ToggleButtonModel",
      "state": {
       "button_style": "primary",
       "icon": "map",
       "layout": "IPY_MODEL_03f7d1fb6af24379b751fcfb0afc2df0",
       "style": "IPY_MODEL_d013f09b18424415a3f5553537b5261e",
       "tooltip": "Change basemap"
      }
     },
     "e299865e0c794adf991c1a7c08ff1b50": {
      "model_module": "@jupyter-widgets/base",
      "model_module_version": "2.0.0",
      "model_name": "LayoutModel",
      "state": {
       "height": "auto",
       "padding": "0px 0px 0px 4px",
       "width": "auto"
      }
     },
     "e2cb7da547254e61a5f06d5cefc6b8fd": {
      "model_module": "@jupyter-widgets/controls",
      "model_module_version": "2.0.0",
      "model_name": "ButtonStyleModel",
      "state": {
       "font_family": null,
       "font_size": null,
       "font_style": null,
       "font_variant": null,
       "font_weight": null,
       "text_color": null,
       "text_decoration": null
      }
     },
     "e4a053848b1141aba5b4cbb1b245d0f5": {
      "model_module": "@jupyter-widgets/controls",
      "model_module_version": "2.0.0",
      "model_name": "ToggleButtonStyleModel",
      "state": {
       "description_width": "",
       "font_family": null,
       "font_size": null,
       "font_style": null,
       "font_variant": null,
       "font_weight": null,
       "text_color": null,
       "text_decoration": null
      }
     },
     "e574ad5a3a8f409a8d726481ff882a4f": {
      "model_module": "@jupyter-widgets/base",
      "model_module_version": "2.0.0",
      "model_name": "LayoutModel",
      "state": {}
     },
     "e6367b4f50ea401e959b6f227e2b9793": {
      "model_module": "@jupyter-widgets/controls",
      "model_module_version": "2.0.0",
      "model_name": "ToggleButtonModel",
      "state": {
       "button_style": "primary",
       "icon": "gears",
       "layout": "IPY_MODEL_28bbafd9091942799675f76314e69518",
       "style": "IPY_MODEL_90913d0152d74377bd4ea13f42be2a7d",
       "tooltip": "WhiteboxTools for local geoprocessing"
      }
     },
     "e6b57acbf94e404fbf17c3aa783b62f1": {
      "model_module": "jupyter-leaflet",
      "model_module_version": "^0.19",
      "model_name": "LeafletMapStyleModel",
      "state": {
       "_model_module_version": "^0.19",
       "cursor": "move"
      }
     },
     "e6f9f9eea446442b882fcf1b37794ee8": {
      "model_module": "@jupyter-widgets/controls",
      "model_module_version": "2.0.0",
      "model_name": "HTMLStyleModel",
      "state": {
       "description_width": "",
       "font_size": null,
       "text_color": null
      }
     },
     "e8fd28dc0e02489ba268bcfa00b5ce7b": {
      "model_module": "@jupyter-widgets/controls",
      "model_module_version": "2.0.0",
      "model_name": "VBoxModel",
      "state": {
       "children": [
        "IPY_MODEL_bdd9d4ee4b9743b5b392eaa8b7ed001a"
       ],
       "layout": "IPY_MODEL_98b4e4c918de472bb0c34f9a16eb83f0"
      }
     },
     "e94a3b6d3a5b41b5afa2c7590e655015": {
      "model_module": "@jupyter-widgets/controls",
      "model_module_version": "2.0.0",
      "model_name": "CheckboxModel",
      "state": {
       "description": "NDVI (Manuel)",
       "disabled": false,
       "indent": false,
       "layout": "IPY_MODEL_5018acb04eef473fba2a4e9595163a29",
       "style": "IPY_MODEL_a5ddaddf92bd4152a08b0ba6dcd6e952",
       "value": true
      }
     },
     "e9f832a25b5e4c1799fefd8247b5c72e": {
      "model_module": "@jupyter-widgets/base",
      "model_module_version": "2.0.0",
      "model_name": "LayoutModel",
      "state": {
       "height": "auto",
       "padding": "0px 0px 0px 4px",
       "width": "auto"
      }
     },
     "ed0c70cd8ace4603be3c5648dd3b4964": {
      "model_module": "@jupyter-widgets/controls",
      "model_module_version": "2.0.0",
      "model_name": "ToggleButtonModel",
      "state": {
       "button_style": "primary",
       "icon": "info-circle",
       "layout": "IPY_MODEL_3f2347a9b9824eaf9ea6351dc244f5ed",
       "style": "IPY_MODEL_29c2353dc5d4414499a51ec48aa3688d",
       "tooltip": "Get COG/STAC pixel value"
      }
     },
     "ed12a0974ee34c56b562ad5ae18cbb88": {
      "model_module": "@jupyter-widgets/base",
      "model_module_version": "2.0.0",
      "model_name": "LayoutModel",
      "state": {
       "height": "auto",
       "padding": "0px 0px 0px 4px",
       "width": "auto"
      }
     },
     "ed9a0b0cfb2c462e9ecdafb7b4109e47": {
      "model_module": "@jupyter-widgets/base",
      "model_module_version": "2.0.0",
      "model_name": "LayoutModel",
      "state": {
       "height": "28px",
       "padding": "0px 0px 0px 4px",
       "width": "28px"
      }
     },
     "f28392ec2cb34fceab94d1bb88bd56f5": {
      "model_module": "@jupyter-widgets/controls",
      "model_module_version": "2.0.0",
      "model_name": "ToggleButtonModel",
      "state": {
       "icon": "globe",
       "layout": "IPY_MODEL_53b01bc9467c4829ba9143247873b429",
       "style": "IPY_MODEL_05ba798bdced46ebb845e513b29ad0f7",
       "tooltip": "Search location/data"
      }
     },
     "f29bdbc1bcc1415397d9178db3acc556": {
      "model_module": "@jupyter-widgets/controls",
      "model_module_version": "2.0.0",
      "model_name": "DescriptionStyleModel",
      "state": {
       "description_width": ""
      }
     },
     "f354093b5e15467e8541005248825433": {
      "model_module": "@jupyter-widgets/base",
      "model_module_version": "2.0.0",
      "model_name": "LayoutModel",
      "state": {
       "max_width": "279px",
       "min_width": "279px"
      }
     },
     "f3bec47101b340beaeb588ea8261ca26": {
      "model_module": "@jupyter-widgets/controls",
      "model_module_version": "2.0.0",
      "model_name": "ButtonModel",
      "state": {
       "icon": "gear",
       "layout": "IPY_MODEL_62b4d34b2891415da739f7f632bc75eb",
       "style": "IPY_MODEL_190b5aa67b9c4a59a68afc4acefe0deb",
       "tooltip": "OpenStreetMap.Mapnik"
      }
     },
     "f6f1e0ba7eca4257b029b4d125399c6f": {
      "model_module": "@jupyter-widgets/controls",
      "model_module_version": "2.0.0",
      "model_name": "ToggleButtonModel",
      "state": {
       "button_style": "primary",
       "icon": "plus",
       "layout": "IPY_MODEL_e9f832a25b5e4c1799fefd8247b5c72e",
       "style": "IPY_MODEL_e05b06e6898042b78652be43c368d709",
       "tooltip": "Expand toolbar"
      }
     },
     "f7f510da13514becb2477df583b14e28": {
      "model_module": "@jupyter-widgets/controls",
      "model_module_version": "2.0.0",
      "model_name": "ButtonModel",
      "state": {
       "_view_count": 1,
       "icon": "times",
       "layout": "IPY_MODEL_bc0aeeca2987435ca433fd619f3e673c",
       "style": "IPY_MODEL_e2cb7da547254e61a5f06d5cefc6b8fd",
       "tooltip": "Loaded"
      }
     },
     "fb11b9f0ccee4750bd50d9c170b92235": {
      "model_module": "jupyter-leaflet",
      "model_module_version": "^0.19",
      "model_name": "LeafletDrawControlModel",
      "state": {
       "_model_module_version": "^0.19",
       "_view_module_version": "^0.19",
       "marker": {
        "shapeOptions": {
         "color": "#3388ff"
        }
       },
       "options": [
        "position"
       ],
       "rectangle": {
        "shapeOptions": {
         "color": "#3388ff"
        }
       }
      }
     },
     "fcf99bca16e64eff9d10bd7e46751c80": {
      "model_module": "jupyter-leaflet",
      "model_module_version": "^0.19",
      "model_name": "LeafletTileLayerModel",
      "state": {
       "_model_module_version": "^0.19",
       "_view_module_version": "^0.19",
       "attribution": "Google Earth Engine",
       "max_zoom": 24,
       "name": "NDVI (Manuel)",
       "options": [
        "attribution",
        "bounds",
        "detect_retina",
        "max_native_zoom",
        "max_zoom",
        "min_native_zoom",
        "min_zoom",
        "no_wrap",
        "tile_size",
        "tms",
        "zoom_offset"
       ],
       "url": "https://earthengine.googleapis.com/v1/projects/187773910538/maps/01224098c21c91139c6fff4794f23d14-724fe161dfe83120f70115ba3b3fdac1/tiles/{z}/{x}/{y}"
      }
     },
     "fe4d0c3924494c4081acb2eb6edbef02": {
      "model_module": "@jupyter-widgets/base",
      "model_module_version": "2.0.0",
      "model_name": "LayoutModel",
      "state": {
       "height": "auto",
       "padding": "0px 0px 0px 4px",
       "width": "auto"
      }
     },
     "ff6d2192fd914a49b28199f1f11769c1": {
      "model_module": "@jupyter-widgets/controls",
      "model_module_version": "2.0.0",
      "model_name": "CheckboxStyleModel",
      "state": {
       "description_width": ""
      }
     },
     "ffb05d0887594fc4afa5a390be5b6770": {
      "model_module": "@jupyter-widgets/base",
      "model_module_version": "2.0.0",
      "model_name": "LayoutModel",
      "state": {
       "width": "340px"
      }
     },
     "ffd6c667b46a455aa4e1268232f27726": {
      "model_module": "@jupyter-widgets/base",
      "model_module_version": "2.0.0",
      "model_name": "LayoutModel",
      "state": {}
     }
    },
    "version_major": 2,
    "version_minor": 0
   }
  }
 },
 "nbformat": 4,
 "nbformat_minor": 5
}
