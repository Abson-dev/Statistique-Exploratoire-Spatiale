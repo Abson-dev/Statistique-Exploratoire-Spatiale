{
 "cells": [
  {
   "cell_type": "markdown",
   "id": "a309ad62-0427-4033-ad54-d151ee8b80c7",
   "metadata": {
    "slideshow": {
     "slide_type": "slide"
    }
   },
   "source": [
    "<center><h1 style=\"font-size:35px; font-family: 'Calisto MT'; letter-spacing: 0.1em; background-color: RGB(128,0,128);\"> <br> Statistiques Exploratoire Spatiales <br> </h1></center>\n",
    "<center><h3 style=\"font-size:25px; font-family: 'Calisto MT'; letter-spacing: 0.1em; background-color: RGB(51,165,182);\"> Réalisé par le Groupe \"GEE with Python\"  </h3></center>\n",
    " <center>  <br> Professeur : M. HEMA Aboubacar </center>\n",
    "ENSAE 2024 : ISE1 CL <right> <br> Par : <br> COULIBALY Khadidiatou <br> DIENG Samba <br> ONANENA AMANA Jeanne De La Flèche <br> NDONG Tamsir </right>"
   ]
  },
  {
   "cell_type": "markdown",
   "id": "0c07a8f2-f95b-4000-9ad0-17485aac0767",
   "metadata": {
    "slideshow": {
     "slide_type": "slide"
    }
   },
   "source": [
    "<center><h2 style=\"font-size:28px; font-family: 'Calisto MT'; letter-spacing: 0.1em;\"> TP11 </h2></center>"
   ]
  },
  {
   "cell_type": "markdown",
   "id": "4f42fb35-1553-4758-bb64-da5fa157dca6",
   "metadata": {},
   "source": [
    "________________________"
   ]
  },
  {
   "cell_type": "markdown",
   "id": "2e2043ad-6e4f-4d1c-a556-9ed626798fed",
   "metadata": {
    "slideshow": {
     "slide_type": "slide"
    }
   },
   "source": [
    "<h2 style=\"text-align:center; background-color:RGB(51,165,182);font-size:45px;font-family:Algerian\">Les préliminaires...</h2>"
   ]
  },
  {
   "cell_type": "markdown",
   "id": "e6af4d7f-e550-4993-8152-fae0a84f33d1",
   "metadata": {},
   "source": [
    "<h1 style=\"font-size:35px; font-family: 'Times New Roman'; letter-spacing: 0.1em;\"> CONSIGNE </h1>"
   ]
  },
  {
   "cell_type": "markdown",
   "id": "dd934909-1064-466f-9606-1c404c6b712d",
   "metadata": {},
   "source": [
    "Le pays considéré est le Mali et l'année est 2024.\n",
    "\n",
    "1. **Importation et visualisation des rasters de population et des événements politiques (R1 et R2).**\n",
    "2. **Binarisation de R1 pour identifier les zones avec plus de 50 personnes (RA) et de R2 pour les zones avec plus de 5 événements (RB).**\n",
    "3. **Calcul de l'indice de diffusion des conflits (CDI) : somme(RA*RB) / somme(RA).**\n",
    "4. **Calcul du CDI par entité administrative : somme_par_admin(RA*RB) / somme_par_admin(RA).**"
   ]
  },
  {
   "cell_type": "markdown",
   "id": "9cb319d1-4d0e-45c2-9d14-e1ed12248f15",
   "metadata": {},
   "source": [
    "<h1 style=\"font-size:35px; font-family: 'Times New Roman'; letter-spacing: 0.1em;\"> Authentification, Initialisation et Authentification </h1>"
   ]
  },
  {
   "cell_type": "code",
   "execution_count": null,
   "id": "4a7fc354-fd42-49dd-8f00-3231dd5b29d6",
   "metadata": {},
   "outputs": [],
   "source": [
    "## ----------------------------------------------------TO RUN IN ANACONDA PROMPT-------------------------------------------------------------------------\n",
    "# Cette ligne crée un nouvel environnement Conda nommé \"gee\" avec Python 3.8\n",
    "\n",
    "conda create -n gee python=3.8\n",
    "\n",
    "# Cette ligne active l'environnement \"gee\" \n",
    "conda activate gee\n",
    "\n",
    "# Cette ligne installe les bibliothèques nécessaires : API de Google Earth Engine, geemap, et windows-curses \n",
    "pip install earthengine-api geemap windows-curses\n",
    "\n",
    "# Cette ligne installe Jupyter Notebook dans l'environnement\n",
    "conda install jupyter\n",
    "\n",
    "# Cette ligne installe ipykernel pour connecter l'environnement à Jupyter Notebook\n",
    "conda install ipykernel\n",
    "\n",
    "# Cette ligne configure l'environnement \"gee\" comme kernel pour Jupyter Notebook \n",
    "python -m ipykernel install --user --name gee --display-name \"Python (gee)\"\n",
    "\n",
    "# Cette ligne lance Jupyter Notebook \n",
    "jupyter notebook"
   ]
  },
  {
   "cell_type": "code",
   "execution_count": 2,
   "id": "4858c417-d3bd-405d-b7ed-e9ea8b602627",
   "metadata": {},
   "outputs": [],
   "source": [
    "import ee  # bibliothèque Python qui permet d'accéder à l'API de Google Earth Engine\n",
    "import geemap #  permet de créer et visualiser des cartes interactives basées sur des données GEE.\n",
    "import pandas as pd\n",
    "\n",
    "ee.Authenticate()  # Ceci permet de gérer le processus d'authentification pour accéder à Google Earth Engine.\n",
    "ee.Initialize()   # Initialise l'instance Earth Engine pour permettre certaines opérations qu'on fera par la suite"
   ]
  },
  {
   "cell_type": "markdown",
   "id": "06329568-dc4f-4956-8538-7280f968d44f",
   "metadata": {
    "slideshow": {
     "slide_type": "slide"
    }
   },
   "source": [
    "<h2 style=\"text-align:center; background-color:RGB(51,165,182);font-size:45px;font-family:Algerian\"> Le contexte</h2>"
   ]
  },
  {
   "cell_type": "markdown",
   "id": "14b9afab-6c8d-4893-9068-93986dab5f41",
   "metadata": {},
   "source": [
    "**Armed Conflict Location & Event Data (ACLED)** est une initiative de collecte de données désagrégées, d’analyse et de cartographie des crises. L’ACLED recueille des informations sur les dates, les acteurs, les lieux, les décès et les types de violences politiques et de manifestations signalées dans le monde. L’équipe de l’ACLED effectue des analyses pour décrire et explorer les tendances en matière de conflits. (https://acleddata.com/about-acled/)\n",
    "\n",
    "L’indice de conflit d’ACLED évalue chaque pays et territoire dans le monde selon quatre indicateurs : la létalité, le danger pour les civils, la diffusion géographique et la fragmentation des groupes armés **(deadliness, danger, diffusion, fragmentation)**, sur la base de l’analyse des données sur les événements de violence politique collectées au cours de l’année écoulée. Les 50 premiers pays et territoires classés connaissent des niveaux de conflit extrêmes, élevés ou turbulents.(https://acleddata.com/conflict-index/).\n",
    "\n",
    "Dans le présente travail, nous nous interessons à la troisième dimension (DIFFUSION), mesurée par le Confilct Diffusion Indicator (CDI)."
   ]
  },
  {
   "cell_type": "markdown",
   "id": "8d35f7d6-da06-40ce-93e1-af6efff61c40",
   "metadata": {},
   "source": [
    "\n",
    "<p style=\"font-style : italic\">\"La troisième dimension est la diffusion, qui est obtenue en utilisant les géocoordonnées de chaque événement de violence politique combinées avec les données de population de WorldPop. La construction de cet indicateur implique les trois étapes suivantes. Premièrement, nous superposons une grille de 10x10 km sur tous les pays du G5 Sahel. Deuxièmement, pour éviter que les zones faiblement peuplées n’aient un impact excessif sur l’indicateur final de diffusion, nous excluons toutes les cellules de la grille ayant moins de 50 habitants, selon les estimations des ensembles de données WorldPop. Enfin, pour chaque unité administrative de second niveau, nous calculons la proportion de cellules de la grille admissibles ayant trois événements de conflit ou plus par an. Ainsi, cet indicateur vise à mesurer la répartition géographique de la violence politique au sein de chaque unité administrative : des pourcentages plus élevés indiquent des conditions de violence élevée plus dispersées, tandis que des pourcentages plus faibles signalent que les niveaux élevés de violence sont plus spatialement concentrés. De la même manière, cette dimension spatiale est également indicative des défis et des coûts correspondants pour résoudre ou réduire les conflits dans une unité administrative donnée.\" <br>  <br> \n",
    " \"Political Violence in the G5 Sahel Countries (2018-2023), <br>\n",
    "An Application of ACLED’s Conflict Index Methodology\" <br>\n",
    "Wim MARIVOET,\n",
    "Aboubacar HEMA,\n",
    "Héni NSAIBIA. </p> "
   ]
  },
  {
   "cell_type": "markdown",
   "id": "1d982457-218b-4cf4-9a7f-43f71dfcd4fd",
   "metadata": {},
   "source": [
    " Dans notre cas, pour ce TP, nous considérons les zones (pixels) où il y a 5 évènements et où il y a plus de 50 individus. On fait alors le rapport du nombre de pixels ayant remplissant ces deux conditions sur le nombre de pixels remplissant la seconde.\n",
    "\n",
    "  **Ainsi, le Conflict DiffusionIndicator (CDI) se présente comme un taux de prévalence.** "
   ]
  },
  {
   "cell_type": "markdown",
   "id": "72844bcc-ad15-4822-a273-3e6e7d9a9d20",
   "metadata": {
    "slideshow": {
     "slide_type": "slide"
    }
   },
   "source": [
    "<h2 style=\"text-align:center; background-color:RGB(51,165,182);font-size:45px;font-family:Algerian\"> Le TP proprement dit</h2>"
   ]
  },
  {
   "cell_type": "markdown",
   "id": "4fa142d4-72bc-4e90-b7b2-f0faa19a1325",
   "metadata": {},
   "source": [
    "<h2 style=\"font-size:35px; font-family: 'Times New Roman'; letter-spacing: 0.1em;\"> 1. Importation et visualisation </h2>"
   ]
  },
  {
   "cell_type": "code",
   "execution_count": 3,
   "id": "7d465665-a1e6-443d-95d4-64eddca0f866",
   "metadata": {},
   "outputs": [
    {
     "data": {
      "text/html": [
       "\n",
       "            <style>\n",
       "                .geemap-dark {\n",
       "                    --jp-widgets-color: white;\n",
       "                    --jp-widgets-label-color: white;\n",
       "                    --jp-ui-font-color1: white;\n",
       "                    --jp-layout-color2: #454545;\n",
       "                    background-color: #383838;\n",
       "                }\n",
       "\n",
       "                .geemap-dark .jupyter-button {\n",
       "                    --jp-layout-color3: #383838;\n",
       "                }\n",
       "\n",
       "                .geemap-colab {\n",
       "                    background-color: var(--colab-primary-surface-color, white);\n",
       "                }\n",
       "\n",
       "                .geemap-colab .jupyter-button {\n",
       "                    --jp-layout-color3: var(--colab-primary-surface-color, white);\n",
       "                }\n",
       "            </style>\n",
       "            "
      ],
      "text/plain": [
       "<IPython.core.display.HTML object>"
      ]
     },
     "metadata": {},
     "output_type": "display_data"
    }
   ],
   "source": [
    "## NOS RASTERS ----------------------\n",
    "\n",
    "R1 = ee.Image(\"projects/ee-coulibalykhadidiatou-tp4/assets/Mali_pop_2020\") # --- Population \n",
    "R2 = ee.Image(\"projects/ee-coulibalykhadidiatou-tp4/assets/Mali_events_2020\")  # évènements 2020 -- obtenu suite au TP6\n",
    "Mali_adm0= ee.FeatureCollection(\"projects/ee-coulibalykhadidiatou-tp4/assets/Mali_adm0\")\n",
    "Mali_adm1= ee.FeatureCollection(\"projects/ee-coulibalykhadidiatou-tp4/assets/Mali_adm1\")\n",
    "Mali_adm2= ee.FeatureCollection(\"projects/ee-coulibalykhadidiatou-tp4/assets/Mali_adm2\")\n"
   ]
  },
  {
   "cell_type": "code",
   "execution_count": 4,
   "id": "0f191757-d6f2-4cf0-95a4-b9d2246b5a54",
   "metadata": {
    "scrolled": true
   },
   "outputs": [
    {
     "data": {
      "text/html": [
       "\n",
       "            <style>\n",
       "                .geemap-dark {\n",
       "                    --jp-widgets-color: white;\n",
       "                    --jp-widgets-label-color: white;\n",
       "                    --jp-ui-font-color1: white;\n",
       "                    --jp-layout-color2: #454545;\n",
       "                    background-color: #383838;\n",
       "                }\n",
       "\n",
       "                .geemap-dark .jupyter-button {\n",
       "                    --jp-layout-color3: #383838;\n",
       "                }\n",
       "\n",
       "                .geemap-colab {\n",
       "                    background-color: var(--colab-primary-surface-color, white);\n",
       "                }\n",
       "\n",
       "                .geemap-colab .jupyter-button {\n",
       "                    --jp-layout-color3: var(--colab-primary-surface-color, white);\n",
       "                }\n",
       "            </style>\n",
       "            "
      ],
      "text/plain": [
       "<IPython.core.display.HTML object>"
      ]
     },
     "metadata": {},
     "output_type": "display_data"
    },
    {
     "data": {
      "application/vnd.jupyter.widget-view+json": {
       "model_id": "e9ab434e0bc04af1a1876dc3e06efeef",
       "version_major": 2,
       "version_minor": 0
      },
      "text/plain": [
       "Map(center=[17.53619966576521, -3.99894130227134], controls=(WidgetControl(options=['position', 'transparent_b…"
      ]
     },
     "execution_count": 4,
     "metadata": {},
     "output_type": "execute_result"
    }
   ],
   "source": [
    "\n",
    "Map = geemap.Map()\n",
    "\n",
    "palette = ['ffffcc', 'c2e699', '78c679', '31a354', '006837']  # Palette de couleurs allant du clair au foncé pour illustrer les variations \n",
    "\n",
    "Map.addLayer(Mali_adm1, {'color' :'red'}, 'adm1 Mali')\n",
    "Map.addLayer(Mali_adm2, {'color' :'red'}, 'adm2 Mali')\n",
    "\n",
    "Map.addLayer(R1, {'palette': palette, 'min': 0}, 'Population Mali')  # Définir la palette et les valeurs min de population\n",
    "Map.addLayer(R2, {'palette': palette, 'min': 0}, 'Events Mali')  # Définir la palette et les valeurs min des events\n",
    "\n",
    "Map.centerObject(R1, 6) \n",
    "Map"
   ]
  },
  {
   "cell_type": "markdown",
   "id": "4be18a40-0b23-4562-910f-e65594ebd110",
   "metadata": {},
   "source": [
    "<h2 style=\"font-size:35px; font-family: 'Times New Roman'; letter-spacing: 0.1em;\"> 2. Binarisation de R1 et R2 </h2>"
   ]
  },
  {
   "cell_type": "markdown",
   "id": "e0e6d556-3220-4522-9cde-93f7c2d3a6c2",
   "metadata": {},
   "source": [
    "# Binarisation de R2 (qui est déjà à 5km de résolution)"
   ]
  },
  {
   "cell_type": "code",
   "execution_count": 5,
   "id": "fec83705-272c-4277-bff7-4c2851698dcf",
   "metadata": {},
   "outputs": [
    {
     "data": {
      "text/html": [
       "\n",
       "            <style>\n",
       "                .geemap-dark {\n",
       "                    --jp-widgets-color: white;\n",
       "                    --jp-widgets-label-color: white;\n",
       "                    --jp-ui-font-color1: white;\n",
       "                    --jp-layout-color2: #454545;\n",
       "                    background-color: #383838;\n",
       "                }\n",
       "\n",
       "                .geemap-dark .jupyter-button {\n",
       "                    --jp-layout-color3: #383838;\n",
       "                }\n",
       "\n",
       "                .geemap-colab {\n",
       "                    background-color: var(--colab-primary-surface-color, white);\n",
       "                }\n",
       "\n",
       "                .geemap-colab .jupyter-button {\n",
       "                    --jp-layout-color3: var(--colab-primary-surface-color, white);\n",
       "                }\n",
       "            </style>\n",
       "            "
      ],
      "text/plain": [
       "<IPython.core.display.HTML object>"
      ]
     },
     "metadata": {},
     "output_type": "display_data"
    }
   ],
   "source": [
    "#Binarisation de  R2 ---  (1--- plus de 5 events --- 0 sinon)\n",
    "RB = R2.gte(5)"
   ]
  },
  {
   "cell_type": "markdown",
   "id": "7d7e77f2-eb14-4cb2-9107-5f0116f231b6",
   "metadata": {},
   "source": [
    "________________"
   ]
  },
  {
   "cell_type": "markdown",
   "id": "ef8d8249-312a-41fb-8823-a7841434da75",
   "metadata": {},
   "source": [
    "# Binatisation de R1, the tricky part : aggregating first to lower resolution (from 100m to 5000m)"
   ]
  },
  {
   "cell_type": "markdown",
   "id": "0123d573-d0e7-4c8d-86dc-87178194d108",
   "metadata": {},
   "source": [
    "## Calcul de la valeur de la population pour vérification"
   ]
  },
  {
   "cell_type": "code",
   "execution_count": 6,
   "id": "e06b44f3-1b88-495d-b224-d38797d7fb03",
   "metadata": {},
   "outputs": [
    {
     "data": {
      "text/html": [
       "\n",
       "            <style>\n",
       "                .geemap-dark {\n",
       "                    --jp-widgets-color: white;\n",
       "                    --jp-widgets-label-color: white;\n",
       "                    --jp-ui-font-color1: white;\n",
       "                    --jp-layout-color2: #454545;\n",
       "                    background-color: #383838;\n",
       "                }\n",
       "\n",
       "                .geemap-dark .jupyter-button {\n",
       "                    --jp-layout-color3: #383838;\n",
       "                }\n",
       "\n",
       "                .geemap-colab {\n",
       "                    background-color: var(--colab-primary-surface-color, white);\n",
       "                }\n",
       "\n",
       "                .geemap-colab .jupyter-button {\n",
       "                    --jp-layout-color3: var(--colab-primary-surface-color, white);\n",
       "                }\n",
       "            </style>\n",
       "            "
      ],
      "text/plain": [
       "<IPython.core.display.HTML object>"
      ]
     },
     "metadata": {},
     "output_type": "display_data"
    },
    {
     "name": "stdout",
     "output_type": "stream",
     "text": [
      "17419562.0\n"
     ]
    }
   ],
   "source": [
    "# Calcul de la population totale avant  redimensionnement pour vérifier que la population reste inchangée\n",
    "population_totale = R1.reduceRegion(\n",
    "    reducer=ee.Reducer.sum(),  # Agréger toutes les valeurs de population\n",
    "    geometry=Mali_adm0.geometry(),  # Zone géographique du pays ou de la zone d'étude\n",
    "    scale=100,  # Résolution d'origine du raster\n",
    "    maxPixels=1e13  # Limite de pixels pour éviter la surcharge de calcul\n",
    ").get('b1')\n",
    "\n",
    "population =round(population_totale.getInfo(), 0)\n",
    "print(population)"
   ]
  },
  {
   "cell_type": "markdown",
   "id": "41ca857b-6cf2-4c48-8bca-bf334ec17a37",
   "metadata": {},
   "source": [
    "## Ajout de buffer à notre raster : en ajoute 50 pixels de 100m à notre raster R1"
   ]
  },
  {
   "cell_type": "code",
   "execution_count": 7,
   "id": "1825a375-056c-435c-b0e4-49ae0ee115bf",
   "metadata": {},
   "outputs": [
    {
     "data": {
      "text/html": [
       "\n",
       "            <style>\n",
       "                .geemap-dark {\n",
       "                    --jp-widgets-color: white;\n",
       "                    --jp-widgets-label-color: white;\n",
       "                    --jp-ui-font-color1: white;\n",
       "                    --jp-layout-color2: #454545;\n",
       "                    background-color: #383838;\n",
       "                }\n",
       "\n",
       "                .geemap-dark .jupyter-button {\n",
       "                    --jp-layout-color3: #383838;\n",
       "                }\n",
       "\n",
       "                .geemap-colab {\n",
       "                    background-color: var(--colab-primary-surface-color, white);\n",
       "                }\n",
       "\n",
       "                .geemap-colab .jupyter-button {\n",
       "                    --jp-layout-color3: var(--colab-primary-surface-color, white);\n",
       "                }\n",
       "            </style>\n",
       "            "
      ],
      "text/plain": [
       "<IPython.core.display.HTML object>"
      ]
     },
     "metadata": {},
     "output_type": "display_data"
    }
   ],
   "source": [
    "## ---------------------------------------------ETENDRE LE RASTER BUFFERS\n",
    "\n",
    "# Obtenir la projection et la résolution du raster\n",
    "proj = R1.projection()\n",
    "scale = 100  # Résolution (100 m dans ton cas)\n",
    "\n",
    "# Distance pour 50 pixels supplémentaires\n",
    "buffer_distance = 5000  # 50 pixels * 100 m = 5000 m\n",
    "\n",
    "# Étendre les limites (\"bounding box\") du raster\n",
    "geometrie = R1.geometry()  \n",
    "extended_boundaries = geometrie.buffer(buffer_distance)  # Ajouter 5000 m de chaque côté\n",
    "\n",
    "# Créer un raster vide avec les nouvelles limites\n",
    "raster_vide = ee.Image(0).rename(['band1']).reproject(crs=proj, scale=scale).clip(extended_boundaries)\n",
    "\n",
    "# Fusionner le raster d'origine avec le raster étendu\n",
    "raster_large = raster_vide.where(R1.mask(), R1)"
   ]
  },
  {
   "cell_type": "markdown",
   "id": "e03f64ad-a987-44a6-b2b9-50f6af784371",
   "metadata": {},
   "source": [
    "## Vérification avec le nouveau raster (population totale)"
   ]
  },
  {
   "cell_type": "code",
   "execution_count": 8,
   "id": "0b4d4a3a-bac6-4925-b377-cf71c001226c",
   "metadata": {},
   "outputs": [
    {
     "data": {
      "text/html": [
       "\n",
       "            <style>\n",
       "                .geemap-dark {\n",
       "                    --jp-widgets-color: white;\n",
       "                    --jp-widgets-label-color: white;\n",
       "                    --jp-ui-font-color1: white;\n",
       "                    --jp-layout-color2: #454545;\n",
       "                    background-color: #383838;\n",
       "                }\n",
       "\n",
       "                .geemap-dark .jupyter-button {\n",
       "                    --jp-layout-color3: #383838;\n",
       "                }\n",
       "\n",
       "                .geemap-colab {\n",
       "                    background-color: var(--colab-primary-surface-color, white);\n",
       "                }\n",
       "\n",
       "                .geemap-colab .jupyter-button {\n",
       "                    --jp-layout-color3: var(--colab-primary-surface-color, white);\n",
       "                }\n",
       "            </style>\n",
       "            "
      ],
      "text/plain": [
       "<IPython.core.display.HTML object>"
      ]
     },
     "metadata": {},
     "output_type": "display_data"
    },
    {
     "name": "stdout",
     "output_type": "stream",
     "text": [
      "17419562.0\n"
     ]
    }
   ],
   "source": [
    "## ---------------------------------------------------Avec celui qui étendu pour vérifier-------------------------------------------------------------\n",
    "\n",
    "# Calcul de la population totale après  redimensionnement pour vérifier que la population reste inchangée\n",
    "population_test = raster_large.clip(Mali_adm0).reduceRegion(\n",
    "    reducer=ee.Reducer.sum(),  # Agréger toutes les valeurs de population\n",
    "    geometry=Mali_adm0.geometry(),  # Zone géographique du pays ou de la zone d'étude\n",
    "    scale=100,  # Résolution d'origine du raster\n",
    "    maxPixels=1e13  # Limite de pixels pour éviter la surcharge de calcul\n",
    ").get('band1')\n",
    "population_test =round(population_test.getInfo(), 0)\n",
    "print(population_test) ### DEAL !! -- bonne valeur"
   ]
  },
  {
   "cell_type": "markdown",
   "id": "f6b6ec71-1c06-4cb0-b6eb-fc391819f483",
   "metadata": {},
   "source": [
    "## Rescaling : from 500m to 1000m"
   ]
  },
  {
   "cell_type": "code",
   "execution_count": 9,
   "id": "d84274ba-2f33-48e0-bdd5-4b20af8aaea9",
   "metadata": {},
   "outputs": [
    {
     "data": {
      "text/html": [
       "\n",
       "            <style>\n",
       "                .geemap-dark {\n",
       "                    --jp-widgets-color: white;\n",
       "                    --jp-widgets-label-color: white;\n",
       "                    --jp-ui-font-color1: white;\n",
       "                    --jp-layout-color2: #454545;\n",
       "                    background-color: #383838;\n",
       "                }\n",
       "\n",
       "                .geemap-dark .jupyter-button {\n",
       "                    --jp-layout-color3: #383838;\n",
       "                }\n",
       "\n",
       "                .geemap-colab {\n",
       "                    background-color: var(--colab-primary-surface-color, white);\n",
       "                }\n",
       "\n",
       "                .geemap-colab .jupyter-button {\n",
       "                    --jp-layout-color3: var(--colab-primary-surface-color, white);\n",
       "                }\n",
       "            </style>\n",
       "            "
      ],
      "text/plain": [
       "<IPython.core.display.HTML object>"
      ]
     },
     "metadata": {},
     "output_type": "display_data"
    }
   ],
   "source": [
    "## FROM 1000 TO 5000\n",
    "## proj= R1.projection() -------------rappel\n",
    "p_1=proj.atScale(5000)\n",
    "R_test= raster_large.reduceResolution(\n",
    "    reducer=ee.Reducer.sum().unweighted(),\n",
    "    maxPixels= 65000\n",
    "  ).reproject(\n",
    "    crs= p_1\n",
    "  ).clip(Mali_adm0)\n",
    "# Pop_500m"
   ]
  },
  {
   "cell_type": "code",
   "execution_count": 10,
   "id": "ff9638d7-ae14-4c14-a2af-e4edc32e594f",
   "metadata": {},
   "outputs": [
    {
     "data": {
      "text/html": [
       "\n",
       "            <style>\n",
       "                .geemap-dark {\n",
       "                    --jp-widgets-color: white;\n",
       "                    --jp-widgets-label-color: white;\n",
       "                    --jp-ui-font-color1: white;\n",
       "                    --jp-layout-color2: #454545;\n",
       "                    background-color: #383838;\n",
       "                }\n",
       "\n",
       "                .geemap-dark .jupyter-button {\n",
       "                    --jp-layout-color3: #383838;\n",
       "                }\n",
       "\n",
       "                .geemap-colab {\n",
       "                    background-color: var(--colab-primary-surface-color, white);\n",
       "                }\n",
       "\n",
       "                .geemap-colab .jupyter-button {\n",
       "                    --jp-layout-color3: var(--colab-primary-surface-color, white);\n",
       "                }\n",
       "            </style>\n",
       "            "
      ],
      "text/plain": [
       "<IPython.core.display.HTML object>"
      ]
     },
     "metadata": {},
     "output_type": "display_data"
    },
    {
     "name": "stdout",
     "output_type": "stream",
     "text": [
      "17364745.0\n"
     ]
    }
   ],
   "source": [
    "## ------------------------------------------------------------VERIFICATION--------------------------------------------------------------------------\n",
    "\n",
    "# Calcul de la population totale après  redimensionnement pour vérifier que la population reste inchangée\n",
    "population_test = R_test.clip(Mali_adm0).reduceRegion(\n",
    "    reducer=ee.Reducer.sum(),  # Agréger toutes les valeurs de population\n",
    "    geometry=Mali_adm0.geometry(),  # Zone géographique du pays ou de la zone d'étude\n",
    "    scale=5000,  # Résolution d'origine du raster\n",
    "    maxPixels=1e13  # Limite de pixels pour éviter la surcharge de calcul\n",
    ").get('band1')\n",
    "population_1 =round(population_test.getInfo(), 0)\n",
    "print(population_1)"
   ]
  },
  {
   "cell_type": "markdown",
   "id": "3c5af96f-67fd-44d1-990b-160b163ee3dd",
   "metadata": {},
   "source": [
    "## Binarisation de nouveau raster de 5km et visualisation"
   ]
  },
  {
   "cell_type": "code",
   "execution_count": 11,
   "id": "1bbe1bef-e26d-4296-bf39-8323986729b4",
   "metadata": {},
   "outputs": [
    {
     "data": {
      "text/html": [
       "\n",
       "            <style>\n",
       "                .geemap-dark {\n",
       "                    --jp-widgets-color: white;\n",
       "                    --jp-widgets-label-color: white;\n",
       "                    --jp-ui-font-color1: white;\n",
       "                    --jp-layout-color2: #454545;\n",
       "                    background-color: #383838;\n",
       "                }\n",
       "\n",
       "                .geemap-dark .jupyter-button {\n",
       "                    --jp-layout-color3: #383838;\n",
       "                }\n",
       "\n",
       "                .geemap-colab {\n",
       "                    background-color: var(--colab-primary-surface-color, white);\n",
       "                }\n",
       "\n",
       "                .geemap-colab .jupyter-button {\n",
       "                    --jp-layout-color3: var(--colab-primary-surface-color, white);\n",
       "                }\n",
       "            </style>\n",
       "            "
      ],
      "text/plain": [
       "<IPython.core.display.HTML object>"
      ]
     },
     "metadata": {},
     "output_type": "display_data"
    }
   ],
   "source": [
    "# Binarisation  de R1 (1 -- plus de 50 personnes --- 0 sinon)\n",
    "RA = R_test.gte(50)"
   ]
  },
  {
   "cell_type": "code",
   "execution_count": 12,
   "id": "69020151-cfe1-458b-9ea2-3051f09f2eae",
   "metadata": {
    "scrolled": true
   },
   "outputs": [
    {
     "data": {
      "text/html": [
       "\n",
       "            <style>\n",
       "                .geemap-dark {\n",
       "                    --jp-widgets-color: white;\n",
       "                    --jp-widgets-label-color: white;\n",
       "                    --jp-ui-font-color1: white;\n",
       "                    --jp-layout-color2: #454545;\n",
       "                    background-color: #383838;\n",
       "                }\n",
       "\n",
       "                .geemap-dark .jupyter-button {\n",
       "                    --jp-layout-color3: #383838;\n",
       "                }\n",
       "\n",
       "                .geemap-colab {\n",
       "                    background-color: var(--colab-primary-surface-color, white);\n",
       "                }\n",
       "\n",
       "                .geemap-colab .jupyter-button {\n",
       "                    --jp-layout-color3: var(--colab-primary-surface-color, white);\n",
       "                }\n",
       "            </style>\n",
       "            "
      ],
      "text/plain": [
       "<IPython.core.display.HTML object>"
      ]
     },
     "metadata": {},
     "output_type": "display_data"
    },
    {
     "data": {
      "application/vnd.jupyter.widget-view+json": {
       "model_id": "e9ab434e0bc04af1a1876dc3e06efeef",
       "version_major": 2,
       "version_minor": 0
      },
      "text/plain": [
       "Map(center=[17.53619966576521, -3.99894130227134], controls=(WidgetControl(options=['position', 'transparent_b…"
      ]
     },
     "execution_count": 12,
     "metadata": {},
     "output_type": "execute_result"
    }
   ],
   "source": [
    "# ---------------------------------------------------VISUALISATION\n",
    "# Visualisation\n",
    "bins = {\n",
    "  'min': 0,\n",
    "  'max': 1,\n",
    "  'palette': ['white', 'black']\n",
    "}\n",
    "\n",
    "Map.addLayer(RB,  bins, 'Binar Events Mali')  \n",
    "Map.addLayer(RA,  bins, 'Binar population Mali')  \n",
    "Map"
   ]
  },
  {
   "cell_type": "markdown",
   "id": "ff2f8807-b024-484f-a943-36ab04fa7af4",
   "metadata": {},
   "source": [
    "_____________________________________________________________________"
   ]
  },
  {
   "cell_type": "markdown",
   "id": "6d19e391-7de9-40e5-9de2-718f3ccb5b83",
   "metadata": {},
   "source": [
    "<h2 style=\"font-size:35px; font-family: 'Times New Roman'; letter-spacing: 0.1em;\"> 3. Calcul du CDI pour le pays </h2>"
   ]
  },
  {
   "cell_type": "code",
   "execution_count": 13,
   "id": "26e0020b-72be-4c30-acb6-f8307107a677",
   "metadata": {},
   "outputs": [
    {
     "data": {
      "text/html": [
       "\n",
       "            <style>\n",
       "                .geemap-dark {\n",
       "                    --jp-widgets-color: white;\n",
       "                    --jp-widgets-label-color: white;\n",
       "                    --jp-ui-font-color1: white;\n",
       "                    --jp-layout-color2: #454545;\n",
       "                    background-color: #383838;\n",
       "                }\n",
       "\n",
       "                .geemap-dark .jupyter-button {\n",
       "                    --jp-layout-color3: #383838;\n",
       "                }\n",
       "\n",
       "                .geemap-colab {\n",
       "                    background-color: var(--colab-primary-surface-color, white);\n",
       "                }\n",
       "\n",
       "                .geemap-colab .jupyter-button {\n",
       "                    --jp-layout-color3: var(--colab-primary-surface-color, white);\n",
       "                }\n",
       "            </style>\n",
       "            "
      ],
      "text/plain": [
       "<IPython.core.display.HTML object>"
      ]
     },
     "metadata": {},
     "output_type": "display_data"
    },
    {
     "data": {
      "text/plain": [
       "461.5607843137255"
      ]
     },
     "execution_count": 13,
     "metadata": {},
     "output_type": "execute_result"
    }
   ],
   "source": [
    "numerator= RA.multiply(RB).reduceRegion(\n",
    "    reducer=ee.Reducer.sum(),  # Agréger toutes les valeurs de population\n",
    "    geometry=Mali_adm0.geometry(),  # Zone géographique du pays ou de la zone d'étude\n",
    "    scale=5000,  # Résolution \n",
    "    maxPixels=1e13  # Limite de pixels pour éviter la surcharge de calcul\n",
    ").get('band1')\n",
    "\n",
    "numerator= numerator.getInfo()\n",
    "numerator"
   ]
  },
  {
   "cell_type": "code",
   "execution_count": 14,
   "id": "6c3d90cf-f481-4430-8245-acfb8f439387",
   "metadata": {},
   "outputs": [
    {
     "data": {
      "text/html": [
       "\n",
       "            <style>\n",
       "                .geemap-dark {\n",
       "                    --jp-widgets-color: white;\n",
       "                    --jp-widgets-label-color: white;\n",
       "                    --jp-ui-font-color1: white;\n",
       "                    --jp-layout-color2: #454545;\n",
       "                    background-color: #383838;\n",
       "                }\n",
       "\n",
       "                .geemap-dark .jupyter-button {\n",
       "                    --jp-layout-color3: #383838;\n",
       "                }\n",
       "\n",
       "                .geemap-colab {\n",
       "                    background-color: var(--colab-primary-surface-color, white);\n",
       "                }\n",
       "\n",
       "                .geemap-colab .jupyter-button {\n",
       "                    --jp-layout-color3: var(--colab-primary-surface-color, white);\n",
       "                }\n",
       "            </style>\n",
       "            "
      ],
      "text/plain": [
       "<IPython.core.display.HTML object>"
      ]
     },
     "metadata": {},
     "output_type": "display_data"
    },
    {
     "data": {
      "text/plain": [
       "16155.27843137249"
      ]
     },
     "execution_count": 14,
     "metadata": {},
     "output_type": "execute_result"
    }
   ],
   "source": [
    "denominator= RA.reduceRegion(\n",
    "    reducer=ee.Reducer.sum(),  # Agréger toutes les valeurs de population\n",
    "    geometry=Mali_adm0.geometry(),  # Zone géographique du pays ou de la zone d'étude\n",
    "    scale=5000,  # Résolution \n",
    "    maxPixels=1e13  # Limite de pixels pour éviter la surcharge de calcul\n",
    ").get('band1')\n",
    "\n",
    "denominator= denominator.getInfo()\n",
    "denominator"
   ]
  },
  {
   "cell_type": "code",
   "execution_count": 15,
   "id": "5d6968a9-ca83-4aac-8926-47d30a95a4d9",
   "metadata": {},
   "outputs": [
    {
     "data": {
      "text/html": [
       "\n",
       "            <style>\n",
       "                .geemap-dark {\n",
       "                    --jp-widgets-color: white;\n",
       "                    --jp-widgets-label-color: white;\n",
       "                    --jp-ui-font-color1: white;\n",
       "                    --jp-layout-color2: #454545;\n",
       "                    background-color: #383838;\n",
       "                }\n",
       "\n",
       "                .geemap-dark .jupyter-button {\n",
       "                    --jp-layout-color3: #383838;\n",
       "                }\n",
       "\n",
       "                .geemap-colab {\n",
       "                    background-color: var(--colab-primary-surface-color, white);\n",
       "                }\n",
       "\n",
       "                .geemap-colab .jupyter-button {\n",
       "                    --jp-layout-color3: var(--colab-primary-surface-color, white);\n",
       "                }\n",
       "            </style>\n",
       "            "
      ],
      "text/plain": [
       "<IPython.core.display.HTML object>"
      ]
     },
     "metadata": {},
     "output_type": "display_data"
    },
    {
     "name": "stdout",
     "output_type": "stream",
     "text": [
      "La Conflict Diffusion Indicator est : 0.028570277279616845\n"
     ]
    }
   ],
   "source": [
    "CDI= numerator/denominator\n",
    "print(f\"La Conflict Diffusion Indicator est : {CDI}\")"
   ]
  },
  {
   "cell_type": "markdown",
   "id": "48b08938-e6ea-4218-96bf-1cbed26732b7",
   "metadata": {},
   "source": [
    "<h2 style=\"font-size:35px; font-family: 'Times New Roman'; letter-spacing: 0.1em;\"> 4. Calcul du CDI pour les admin 1 et 2 </h2>"
   ]
  },
  {
   "cell_type": "code",
   "execution_count": 16,
   "id": "5db1666d-08bd-49d2-965e-353106bdd158",
   "metadata": {},
   "outputs": [
    {
     "data": {
      "text/html": [
       "\n",
       "            <style>\n",
       "                .geemap-dark {\n",
       "                    --jp-widgets-color: white;\n",
       "                    --jp-widgets-label-color: white;\n",
       "                    --jp-ui-font-color1: white;\n",
       "                    --jp-layout-color2: #454545;\n",
       "                    background-color: #383838;\n",
       "                }\n",
       "\n",
       "                .geemap-dark .jupyter-button {\n",
       "                    --jp-layout-color3: #383838;\n",
       "                }\n",
       "\n",
       "                .geemap-colab {\n",
       "                    background-color: var(--colab-primary-surface-color, white);\n",
       "                }\n",
       "\n",
       "                .geemap-colab .jupyter-button {\n",
       "                    --jp-layout-color3: var(--colab-primary-surface-color, white);\n",
       "                }\n",
       "            </style>\n",
       "            "
      ],
      "text/plain": [
       "<IPython.core.display.HTML object>"
      ]
     },
     "metadata": {},
     "output_type": "display_data"
    }
   ],
   "source": [
    "## ------------------------------------------------------FONCTION POUR LE CALCUL-----------------------------------------------------\n",
    "\n",
    "def somme_par_admin(raster, admin_shp, Nom, result ):\n",
    "    # Calcul des valeurs\n",
    "    stats = raster.reduceRegions(\n",
    "        collection=admin_shp,\n",
    "        reducer=ee.Reducer.sum(),\n",
    "        scale=5000\n",
    "    ).getInfo()\n",
    "    # Boucler sur les résultats du pays \n",
    "    data = []\n",
    "    for feature in stats['features']:\n",
    "        Name = feature['properties'][Nom]\n",
    "        somme = feature['properties']['sum']\n",
    "        # Ajouter chaque ligne sous forme de dictionnaire\n",
    "        data.append({\"admin\": Name, result : somme})\n",
    "\n",
    "    # Mise en forme de dataframe\n",
    "    df = pd.DataFrame(data)\n",
    "    return df"
   ]
  },
  {
   "cell_type": "code",
   "execution_count": 17,
   "id": "ddf135c2-e98b-4ba1-ac92-6ed9c2b50b3f",
   "metadata": {},
   "outputs": [
    {
     "data": {
      "text/html": [
       "\n",
       "            <style>\n",
       "                .geemap-dark {\n",
       "                    --jp-widgets-color: white;\n",
       "                    --jp-widgets-label-color: white;\n",
       "                    --jp-ui-font-color1: white;\n",
       "                    --jp-layout-color2: #454545;\n",
       "                    background-color: #383838;\n",
       "                }\n",
       "\n",
       "                .geemap-dark .jupyter-button {\n",
       "                    --jp-layout-color3: #383838;\n",
       "                }\n",
       "\n",
       "                .geemap-colab {\n",
       "                    background-color: var(--colab-primary-surface-color, white);\n",
       "                }\n",
       "\n",
       "                .geemap-colab .jupyter-button {\n",
       "                    --jp-layout-color3: var(--colab-primary-surface-color, white);\n",
       "                }\n",
       "            </style>\n",
       "            "
      ],
      "text/plain": [
       "<IPython.core.display.HTML object>"
      ]
     },
     "metadata": {},
     "output_type": "display_data"
    }
   ],
   "source": [
    "somme_num=somme_par_admin(RA.multiply(RB), Mali_adm1,'ADM1_FR', 'somme_num')"
   ]
  },
  {
   "cell_type": "code",
   "execution_count": 18,
   "id": "e59ae2b6-f109-41a4-940e-d49e603ef878",
   "metadata": {},
   "outputs": [
    {
     "data": {
      "text/html": [
       "\n",
       "            <style>\n",
       "                .geemap-dark {\n",
       "                    --jp-widgets-color: white;\n",
       "                    --jp-widgets-label-color: white;\n",
       "                    --jp-ui-font-color1: white;\n",
       "                    --jp-layout-color2: #454545;\n",
       "                    background-color: #383838;\n",
       "                }\n",
       "\n",
       "                .geemap-dark .jupyter-button {\n",
       "                    --jp-layout-color3: #383838;\n",
       "                }\n",
       "\n",
       "                .geemap-colab {\n",
       "                    background-color: var(--colab-primary-surface-color, white);\n",
       "                }\n",
       "\n",
       "                .geemap-colab .jupyter-button {\n",
       "                    --jp-layout-color3: var(--colab-primary-surface-color, white);\n",
       "                }\n",
       "            </style>\n",
       "            "
      ],
      "text/plain": [
       "<IPython.core.display.HTML object>"
      ]
     },
     "metadata": {},
     "output_type": "display_data"
    }
   ],
   "source": [
    "somme_denom=somme_par_admin(RA, Mali_adm1,'ADM1_FR', 'somme_denom')"
   ]
  },
  {
   "cell_type": "code",
   "execution_count": 19,
   "id": "3af2def2-0744-4ed9-aaa5-654a70a1cd7c",
   "metadata": {},
   "outputs": [
    {
     "data": {
      "text/html": [
       "\n",
       "            <style>\n",
       "                .geemap-dark {\n",
       "                    --jp-widgets-color: white;\n",
       "                    --jp-widgets-label-color: white;\n",
       "                    --jp-ui-font-color1: white;\n",
       "                    --jp-layout-color2: #454545;\n",
       "                    background-color: #383838;\n",
       "                }\n",
       "\n",
       "                .geemap-dark .jupyter-button {\n",
       "                    --jp-layout-color3: #383838;\n",
       "                }\n",
       "\n",
       "                .geemap-colab {\n",
       "                    background-color: var(--colab-primary-surface-color, white);\n",
       "                }\n",
       "\n",
       "                .geemap-colab .jupyter-button {\n",
       "                    --jp-layout-color3: var(--colab-primary-surface-color, white);\n",
       "                }\n",
       "            </style>\n",
       "            "
      ],
      "text/plain": [
       "<IPython.core.display.HTML object>"
      ]
     },
     "metadata": {},
     "output_type": "display_data"
    },
    {
     "data": {
      "text/html": [
       "<div>\n",
       "<style scoped>\n",
       "    .dataframe tbody tr th:only-of-type {\n",
       "        vertical-align: middle;\n",
       "    }\n",
       "\n",
       "    .dataframe tbody tr th {\n",
       "        vertical-align: top;\n",
       "    }\n",
       "\n",
       "    .dataframe thead th {\n",
       "        text-align: right;\n",
       "    }\n",
       "</style>\n",
       "<table border=\"1\" class=\"dataframe\">\n",
       "  <thead>\n",
       "    <tr style=\"text-align: right;\">\n",
       "      <th></th>\n",
       "      <th>admin</th>\n",
       "      <th>somme_num</th>\n",
       "    </tr>\n",
       "  </thead>\n",
       "  <tbody>\n",
       "    <tr>\n",
       "      <th>0</th>\n",
       "      <td>Kayes</td>\n",
       "      <td>14.945098</td>\n",
       "    </tr>\n",
       "    <tr>\n",
       "      <th>1</th>\n",
       "      <td>Koulikoro</td>\n",
       "      <td>15.309804</td>\n",
       "    </tr>\n",
       "    <tr>\n",
       "      <th>2</th>\n",
       "      <td>Sikasso</td>\n",
       "      <td>12.000000</td>\n",
       "    </tr>\n",
       "    <tr>\n",
       "      <th>3</th>\n",
       "      <td>Mopti</td>\n",
       "      <td>210.772549</td>\n",
       "    </tr>\n",
       "    <tr>\n",
       "      <th>4</th>\n",
       "      <td>Tombouctou</td>\n",
       "      <td>32.807843</td>\n",
       "    </tr>\n",
       "  </tbody>\n",
       "</table>\n",
       "</div>"
      ],
      "text/plain": [
       "        admin   somme_num\n",
       "0       Kayes   14.945098\n",
       "1   Koulikoro   15.309804\n",
       "2     Sikasso   12.000000\n",
       "3       Mopti  210.772549\n",
       "4  Tombouctou   32.807843"
      ]
     },
     "execution_count": 19,
     "metadata": {},
     "output_type": "execute_result"
    }
   ],
   "source": [
    "somme_num.head(5)"
   ]
  },
  {
   "cell_type": "code",
   "execution_count": 20,
   "id": "9a5e9086-a31c-4b45-841e-b0a025a5e8ca",
   "metadata": {},
   "outputs": [
    {
     "data": {
      "text/html": [
       "\n",
       "            <style>\n",
       "                .geemap-dark {\n",
       "                    --jp-widgets-color: white;\n",
       "                    --jp-widgets-label-color: white;\n",
       "                    --jp-ui-font-color1: white;\n",
       "                    --jp-layout-color2: #454545;\n",
       "                    background-color: #383838;\n",
       "                }\n",
       "\n",
       "                .geemap-dark .jupyter-button {\n",
       "                    --jp-layout-color3: #383838;\n",
       "                }\n",
       "\n",
       "                .geemap-colab {\n",
       "                    background-color: var(--colab-primary-surface-color, white);\n",
       "                }\n",
       "\n",
       "                .geemap-colab .jupyter-button {\n",
       "                    --jp-layout-color3: var(--colab-primary-surface-color, white);\n",
       "                }\n",
       "            </style>\n",
       "            "
      ],
      "text/plain": [
       "<IPython.core.display.HTML object>"
      ]
     },
     "metadata": {},
     "output_type": "display_data"
    },
    {
     "data": {
      "text/html": [
       "<div>\n",
       "<style scoped>\n",
       "    .dataframe tbody tr th:only-of-type {\n",
       "        vertical-align: middle;\n",
       "    }\n",
       "\n",
       "    .dataframe tbody tr th {\n",
       "        vertical-align: top;\n",
       "    }\n",
       "\n",
       "    .dataframe thead th {\n",
       "        text-align: right;\n",
       "    }\n",
       "</style>\n",
       "<table border=\"1\" class=\"dataframe\">\n",
       "  <thead>\n",
       "    <tr style=\"text-align: right;\">\n",
       "      <th></th>\n",
       "      <th>admin</th>\n",
       "      <th>somme_denom</th>\n",
       "    </tr>\n",
       "  </thead>\n",
       "  <tbody>\n",
       "    <tr>\n",
       "      <th>0</th>\n",
       "      <td>Kayes</td>\n",
       "      <td>3121.827451</td>\n",
       "    </tr>\n",
       "    <tr>\n",
       "      <th>1</th>\n",
       "      <td>Koulikoro</td>\n",
       "      <td>2580.725490</td>\n",
       "    </tr>\n",
       "    <tr>\n",
       "      <th>2</th>\n",
       "      <td>Sikasso</td>\n",
       "      <td>2687.247059</td>\n",
       "    </tr>\n",
       "    <tr>\n",
       "      <th>3</th>\n",
       "      <td>Mopti</td>\n",
       "      <td>2343.619608</td>\n",
       "    </tr>\n",
       "    <tr>\n",
       "      <th>4</th>\n",
       "      <td>Tombouctou</td>\n",
       "      <td>1484.270588</td>\n",
       "    </tr>\n",
       "  </tbody>\n",
       "</table>\n",
       "</div>"
      ],
      "text/plain": [
       "        admin  somme_denom\n",
       "0       Kayes  3121.827451\n",
       "1   Koulikoro  2580.725490\n",
       "2     Sikasso  2687.247059\n",
       "3       Mopti  2343.619608\n",
       "4  Tombouctou  1484.270588"
      ]
     },
     "execution_count": 20,
     "metadata": {},
     "output_type": "execute_result"
    }
   ],
   "source": [
    "somme_denom.head(5)"
   ]
  },
  {
   "cell_type": "code",
   "execution_count": 21,
   "id": "e2cb0daa-d7c3-4e0d-a76d-77d6835f4dc6",
   "metadata": {},
   "outputs": [
    {
     "data": {
      "text/html": [
       "\n",
       "            <style>\n",
       "                .geemap-dark {\n",
       "                    --jp-widgets-color: white;\n",
       "                    --jp-widgets-label-color: white;\n",
       "                    --jp-ui-font-color1: white;\n",
       "                    --jp-layout-color2: #454545;\n",
       "                    background-color: #383838;\n",
       "                }\n",
       "\n",
       "                .geemap-dark .jupyter-button {\n",
       "                    --jp-layout-color3: #383838;\n",
       "                }\n",
       "\n",
       "                .geemap-colab {\n",
       "                    background-color: var(--colab-primary-surface-color, white);\n",
       "                }\n",
       "\n",
       "                .geemap-colab .jupyter-button {\n",
       "                    --jp-layout-color3: var(--colab-primary-surface-color, white);\n",
       "                }\n",
       "            </style>\n",
       "            "
      ],
      "text/plain": [
       "<IPython.core.display.HTML object>"
      ]
     },
     "metadata": {},
     "output_type": "display_data"
    },
    {
     "data": {
      "text/html": [
       "<div>\n",
       "<style scoped>\n",
       "    .dataframe tbody tr th:only-of-type {\n",
       "        vertical-align: middle;\n",
       "    }\n",
       "\n",
       "    .dataframe tbody tr th {\n",
       "        vertical-align: top;\n",
       "    }\n",
       "\n",
       "    .dataframe thead th {\n",
       "        text-align: right;\n",
       "    }\n",
       "</style>\n",
       "<table border=\"1\" class=\"dataframe\">\n",
       "  <thead>\n",
       "    <tr style=\"text-align: right;\">\n",
       "      <th></th>\n",
       "      <th>admin</th>\n",
       "      <th>CDI</th>\n",
       "    </tr>\n",
       "  </thead>\n",
       "  <tbody>\n",
       "    <tr>\n",
       "      <th>0</th>\n",
       "      <td>Kayes</td>\n",
       "      <td>0.004787</td>\n",
       "    </tr>\n",
       "    <tr>\n",
       "      <th>1</th>\n",
       "      <td>Koulikoro</td>\n",
       "      <td>0.005932</td>\n",
       "    </tr>\n",
       "    <tr>\n",
       "      <th>2</th>\n",
       "      <td>Sikasso</td>\n",
       "      <td>0.004466</td>\n",
       "    </tr>\n",
       "    <tr>\n",
       "      <th>3</th>\n",
       "      <td>Mopti</td>\n",
       "      <td>0.089935</td>\n",
       "    </tr>\n",
       "    <tr>\n",
       "      <th>4</th>\n",
       "      <td>Tombouctou</td>\n",
       "      <td>0.022104</td>\n",
       "    </tr>\n",
       "    <tr>\n",
       "      <th>5</th>\n",
       "      <td>Gao</td>\n",
       "      <td>0.055450</td>\n",
       "    </tr>\n",
       "    <tr>\n",
       "      <th>6</th>\n",
       "      <td>Kidal</td>\n",
       "      <td>0.027594</td>\n",
       "    </tr>\n",
       "    <tr>\n",
       "      <th>7</th>\n",
       "      <td>Bamako</td>\n",
       "      <td>0.068350</td>\n",
       "    </tr>\n",
       "    <tr>\n",
       "      <th>8</th>\n",
       "      <td>Menaka</td>\n",
       "      <td>0.061743</td>\n",
       "    </tr>\n",
       "    <tr>\n",
       "      <th>9</th>\n",
       "      <td>Ségou</td>\n",
       "      <td>0.038142</td>\n",
       "    </tr>\n",
       "  </tbody>\n",
       "</table>\n",
       "</div>"
      ],
      "text/plain": [
       "        admin       CDI\n",
       "0       Kayes  0.004787\n",
       "1   Koulikoro  0.005932\n",
       "2     Sikasso  0.004466\n",
       "3       Mopti  0.089935\n",
       "4  Tombouctou  0.022104\n",
       "5         Gao  0.055450\n",
       "6       Kidal  0.027594\n",
       "7      Bamako  0.068350\n",
       "8      Menaka  0.061743\n",
       "9       Ségou  0.038142"
      ]
     },
     "execution_count": 21,
     "metadata": {},
     "output_type": "execute_result"
    }
   ],
   "source": [
    "## CDI pour admin 1\n",
    "somme_denom['CDI'] = somme_num['somme_num'] / somme_denom['somme_denom']\n",
    "\n",
    "# Créer un nouveau DataFrame contenant uniquement admin et CDI\n",
    "result_admin1 = somme_denom[['admin', 'CDI']]\n",
    "result_admin1=pd.DataFrame(result_admin1)\n",
    "# Afficher le DataFrame\n",
    "result_admin1"
   ]
  },
  {
   "cell_type": "code",
   "execution_count": 22,
   "id": "734da5b3-6244-4ea3-a447-41144a7fb10f",
   "metadata": {
    "scrolled": true
   },
   "outputs": [
    {
     "data": {
      "text/html": [
       "\n",
       "            <style>\n",
       "                .geemap-dark {\n",
       "                    --jp-widgets-color: white;\n",
       "                    --jp-widgets-label-color: white;\n",
       "                    --jp-ui-font-color1: white;\n",
       "                    --jp-layout-color2: #454545;\n",
       "                    background-color: #383838;\n",
       "                }\n",
       "\n",
       "                .geemap-dark .jupyter-button {\n",
       "                    --jp-layout-color3: #383838;\n",
       "                }\n",
       "\n",
       "                .geemap-colab {\n",
       "                    background-color: var(--colab-primary-surface-color, white);\n",
       "                }\n",
       "\n",
       "                .geemap-colab .jupyter-button {\n",
       "                    --jp-layout-color3: var(--colab-primary-surface-color, white);\n",
       "                }\n",
       "            </style>\n",
       "            "
      ],
      "text/plain": [
       "<IPython.core.display.HTML object>"
      ]
     },
     "metadata": {},
     "output_type": "display_data"
    },
    {
     "data": {
      "text/plain": [
       "['date',\n",
       " 'ADM1_PCODE',\n",
       " 'ADM2_PCODE',\n",
       " 'Shape_Leng',\n",
       " 'ADM2_FR',\n",
       " 'validOn',\n",
       " 'Shape_Area',\n",
       " 'ADM1_FR',\n",
       " 'ADM0_FR',\n",
       " 'ADM0_PCODE',\n",
       " 'ADM2_REF',\n",
       " 'ADM2ALT1FR',\n",
       " 'ADM2ALT2FR',\n",
       " 'system:index']"
      ]
     },
     "execution_count": 22,
     "metadata": {},
     "output_type": "execute_result"
    }
   ],
   "source": [
    "Mali_adm2.first().propertyNames().getInfo()"
   ]
  },
  {
   "cell_type": "code",
   "execution_count": 23,
   "id": "61a886aa-e5dd-4fde-9bfb-15662405f3df",
   "metadata": {},
   "outputs": [
    {
     "data": {
      "text/html": [
       "\n",
       "            <style>\n",
       "                .geemap-dark {\n",
       "                    --jp-widgets-color: white;\n",
       "                    --jp-widgets-label-color: white;\n",
       "                    --jp-ui-font-color1: white;\n",
       "                    --jp-layout-color2: #454545;\n",
       "                    background-color: #383838;\n",
       "                }\n",
       "\n",
       "                .geemap-dark .jupyter-button {\n",
       "                    --jp-layout-color3: #383838;\n",
       "                }\n",
       "\n",
       "                .geemap-colab {\n",
       "                    background-color: var(--colab-primary-surface-color, white);\n",
       "                }\n",
       "\n",
       "                .geemap-colab .jupyter-button {\n",
       "                    --jp-layout-color3: var(--colab-primary-surface-color, white);\n",
       "                }\n",
       "            </style>\n",
       "            "
      ],
      "text/plain": [
       "<IPython.core.display.HTML object>"
      ]
     },
     "metadata": {},
     "output_type": "display_data"
    }
   ],
   "source": [
    "somme_num=somme_par_admin(RA.multiply(RB), Mali_adm2,'ADM2_FR', 'somme_num')"
   ]
  },
  {
   "cell_type": "code",
   "execution_count": 24,
   "id": "95404e0c-8d3e-4351-bff6-bab2ea176b3a",
   "metadata": {},
   "outputs": [
    {
     "data": {
      "text/html": [
       "\n",
       "            <style>\n",
       "                .geemap-dark {\n",
       "                    --jp-widgets-color: white;\n",
       "                    --jp-widgets-label-color: white;\n",
       "                    --jp-ui-font-color1: white;\n",
       "                    --jp-layout-color2: #454545;\n",
       "                    background-color: #383838;\n",
       "                }\n",
       "\n",
       "                .geemap-dark .jupyter-button {\n",
       "                    --jp-layout-color3: #383838;\n",
       "                }\n",
       "\n",
       "                .geemap-colab {\n",
       "                    background-color: var(--colab-primary-surface-color, white);\n",
       "                }\n",
       "\n",
       "                .geemap-colab .jupyter-button {\n",
       "                    --jp-layout-color3: var(--colab-primary-surface-color, white);\n",
       "                }\n",
       "            </style>\n",
       "            "
      ],
      "text/plain": [
       "<IPython.core.display.HTML object>"
      ]
     },
     "metadata": {},
     "output_type": "display_data"
    }
   ],
   "source": [
    "somme_denom=somme_par_admin(RA, Mali_adm2,'ADM2_FR', 'somme_denom')"
   ]
  },
  {
   "cell_type": "code",
   "execution_count": 25,
   "id": "8b1d69de-0852-499b-a146-b3056acada81",
   "metadata": {},
   "outputs": [
    {
     "data": {
      "text/html": [
       "\n",
       "            <style>\n",
       "                .geemap-dark {\n",
       "                    --jp-widgets-color: white;\n",
       "                    --jp-widgets-label-color: white;\n",
       "                    --jp-ui-font-color1: white;\n",
       "                    --jp-layout-color2: #454545;\n",
       "                    background-color: #383838;\n",
       "                }\n",
       "\n",
       "                .geemap-dark .jupyter-button {\n",
       "                    --jp-layout-color3: #383838;\n",
       "                }\n",
       "\n",
       "                .geemap-colab {\n",
       "                    background-color: var(--colab-primary-surface-color, white);\n",
       "                }\n",
       "\n",
       "                .geemap-colab .jupyter-button {\n",
       "                    --jp-layout-color3: var(--colab-primary-surface-color, white);\n",
       "                }\n",
       "            </style>\n",
       "            "
      ],
      "text/plain": [
       "<IPython.core.display.HTML object>"
      ]
     },
     "metadata": {},
     "output_type": "display_data"
    },
    {
     "data": {
      "text/html": [
       "<div>\n",
       "<style scoped>\n",
       "    .dataframe tbody tr th:only-of-type {\n",
       "        vertical-align: middle;\n",
       "    }\n",
       "\n",
       "    .dataframe tbody tr th {\n",
       "        vertical-align: top;\n",
       "    }\n",
       "\n",
       "    .dataframe thead th {\n",
       "        text-align: right;\n",
       "    }\n",
       "</style>\n",
       "<table border=\"1\" class=\"dataframe\">\n",
       "  <thead>\n",
       "    <tr style=\"text-align: right;\">\n",
       "      <th></th>\n",
       "      <th>admin</th>\n",
       "      <th>somme_num</th>\n",
       "    </tr>\n",
       "  </thead>\n",
       "  <tbody>\n",
       "    <tr>\n",
       "      <th>0</th>\n",
       "      <td>Bafoulabe</td>\n",
       "      <td>1.000000</td>\n",
       "    </tr>\n",
       "    <tr>\n",
       "      <th>1</th>\n",
       "      <td>Diéma</td>\n",
       "      <td>4.000000</td>\n",
       "    </tr>\n",
       "    <tr>\n",
       "      <th>2</th>\n",
       "      <td>Kayes</td>\n",
       "      <td>3.945098</td>\n",
       "    </tr>\n",
       "    <tr>\n",
       "      <th>3</th>\n",
       "      <td>Kéniéba</td>\n",
       "      <td>1.000000</td>\n",
       "    </tr>\n",
       "    <tr>\n",
       "      <th>4</th>\n",
       "      <td>Kita</td>\n",
       "      <td>2.000000</td>\n",
       "    </tr>\n",
       "  </tbody>\n",
       "</table>\n",
       "</div>"
      ],
      "text/plain": [
       "       admin  somme_num\n",
       "0  Bafoulabe   1.000000\n",
       "1      Diéma   4.000000\n",
       "2      Kayes   3.945098\n",
       "3    Kéniéba   1.000000\n",
       "4       Kita   2.000000"
      ]
     },
     "execution_count": 25,
     "metadata": {},
     "output_type": "execute_result"
    }
   ],
   "source": [
    "somme_num.head(5)"
   ]
  },
  {
   "cell_type": "code",
   "execution_count": 26,
   "id": "e3014e40-ab7a-443c-801e-47f38ac730de",
   "metadata": {},
   "outputs": [
    {
     "data": {
      "text/html": [
       "\n",
       "            <style>\n",
       "                .geemap-dark {\n",
       "                    --jp-widgets-color: white;\n",
       "                    --jp-widgets-label-color: white;\n",
       "                    --jp-ui-font-color1: white;\n",
       "                    --jp-layout-color2: #454545;\n",
       "                    background-color: #383838;\n",
       "                }\n",
       "\n",
       "                .geemap-dark .jupyter-button {\n",
       "                    --jp-layout-color3: #383838;\n",
       "                }\n",
       "\n",
       "                .geemap-colab {\n",
       "                    background-color: var(--colab-primary-surface-color, white);\n",
       "                }\n",
       "\n",
       "                .geemap-colab .jupyter-button {\n",
       "                    --jp-layout-color3: var(--colab-primary-surface-color, white);\n",
       "                }\n",
       "            </style>\n",
       "            "
      ],
      "text/plain": [
       "<IPython.core.display.HTML object>"
      ]
     },
     "metadata": {},
     "output_type": "display_data"
    },
    {
     "data": {
      "text/html": [
       "<div>\n",
       "<style scoped>\n",
       "    .dataframe tbody tr th:only-of-type {\n",
       "        vertical-align: middle;\n",
       "    }\n",
       "\n",
       "    .dataframe tbody tr th {\n",
       "        vertical-align: top;\n",
       "    }\n",
       "\n",
       "    .dataframe thead th {\n",
       "        text-align: right;\n",
       "    }\n",
       "</style>\n",
       "<table border=\"1\" class=\"dataframe\">\n",
       "  <thead>\n",
       "    <tr style=\"text-align: right;\">\n",
       "      <th></th>\n",
       "      <th>admin</th>\n",
       "      <th>somme_denom</th>\n",
       "    </tr>\n",
       "  </thead>\n",
       "  <tbody>\n",
       "    <tr>\n",
       "      <th>0</th>\n",
       "      <td>Bafoulabe</td>\n",
       "      <td>495.976471</td>\n",
       "    </tr>\n",
       "    <tr>\n",
       "      <th>1</th>\n",
       "      <td>Diéma</td>\n",
       "      <td>370.258824</td>\n",
       "    </tr>\n",
       "    <tr>\n",
       "      <th>2</th>\n",
       "      <td>Kayes</td>\n",
       "      <td>489.792157</td>\n",
       "    </tr>\n",
       "    <tr>\n",
       "      <th>3</th>\n",
       "      <td>Kéniéba</td>\n",
       "      <td>426.203922</td>\n",
       "    </tr>\n",
       "    <tr>\n",
       "      <th>4</th>\n",
       "      <td>Kita</td>\n",
       "      <td>879.788235</td>\n",
       "    </tr>\n",
       "  </tbody>\n",
       "</table>\n",
       "</div>"
      ],
      "text/plain": [
       "       admin  somme_denom\n",
       "0  Bafoulabe   495.976471\n",
       "1      Diéma   370.258824\n",
       "2      Kayes   489.792157\n",
       "3    Kéniéba   426.203922\n",
       "4       Kita   879.788235"
      ]
     },
     "execution_count": 26,
     "metadata": {},
     "output_type": "execute_result"
    }
   ],
   "source": [
    "somme_denom.head(5)"
   ]
  },
  {
   "cell_type": "code",
   "execution_count": 27,
   "id": "61f51889-cae8-4b05-8598-2d12eaa9fd7d",
   "metadata": {},
   "outputs": [
    {
     "data": {
      "text/html": [
       "\n",
       "            <style>\n",
       "                .geemap-dark {\n",
       "                    --jp-widgets-color: white;\n",
       "                    --jp-widgets-label-color: white;\n",
       "                    --jp-ui-font-color1: white;\n",
       "                    --jp-layout-color2: #454545;\n",
       "                    background-color: #383838;\n",
       "                }\n",
       "\n",
       "                .geemap-dark .jupyter-button {\n",
       "                    --jp-layout-color3: #383838;\n",
       "                }\n",
       "\n",
       "                .geemap-colab {\n",
       "                    background-color: var(--colab-primary-surface-color, white);\n",
       "                }\n",
       "\n",
       "                .geemap-colab .jupyter-button {\n",
       "                    --jp-layout-color3: var(--colab-primary-surface-color, white);\n",
       "                }\n",
       "            </style>\n",
       "            "
      ],
      "text/plain": [
       "<IPython.core.display.HTML object>"
      ]
     },
     "metadata": {},
     "output_type": "display_data"
    },
    {
     "data": {
      "text/html": [
       "<div>\n",
       "<style scoped>\n",
       "    .dataframe tbody tr th:only-of-type {\n",
       "        vertical-align: middle;\n",
       "    }\n",
       "\n",
       "    .dataframe tbody tr th {\n",
       "        vertical-align: top;\n",
       "    }\n",
       "\n",
       "    .dataframe thead th {\n",
       "        text-align: right;\n",
       "    }\n",
       "</style>\n",
       "<table border=\"1\" class=\"dataframe\">\n",
       "  <thead>\n",
       "    <tr style=\"text-align: right;\">\n",
       "      <th></th>\n",
       "      <th>admin</th>\n",
       "      <th>CDI</th>\n",
       "    </tr>\n",
       "  </thead>\n",
       "  <tbody>\n",
       "    <tr>\n",
       "      <th>0</th>\n",
       "      <td>Bafoulabe</td>\n",
       "      <td>0.002016</td>\n",
       "    </tr>\n",
       "    <tr>\n",
       "      <th>1</th>\n",
       "      <td>Diéma</td>\n",
       "      <td>0.010803</td>\n",
       "    </tr>\n",
       "    <tr>\n",
       "      <th>2</th>\n",
       "      <td>Kayes</td>\n",
       "      <td>0.008055</td>\n",
       "    </tr>\n",
       "    <tr>\n",
       "      <th>3</th>\n",
       "      <td>Kéniéba</td>\n",
       "      <td>0.002346</td>\n",
       "    </tr>\n",
       "    <tr>\n",
       "      <th>4</th>\n",
       "      <td>Kita</td>\n",
       "      <td>0.002273</td>\n",
       "    </tr>\n",
       "  </tbody>\n",
       "</table>\n",
       "</div>"
      ],
      "text/plain": [
       "       admin       CDI\n",
       "0  Bafoulabe  0.002016\n",
       "1      Diéma  0.010803\n",
       "2      Kayes  0.008055\n",
       "3    Kéniéba  0.002346\n",
       "4       Kita  0.002273"
      ]
     },
     "execution_count": 27,
     "metadata": {},
     "output_type": "execute_result"
    }
   ],
   "source": [
    "## CDI pour admin 2\n",
    "somme_denom['CDI'] = somme_num['somme_num'] / somme_denom['somme_denom']\n",
    "\n",
    "# Créer un nouveau DataFrame contenant uniquement admin et CDI\n",
    "result_admin2 = somme_denom[['admin', 'CDI']]\n",
    "result_admin2=pd.DataFrame(result_admin2)\n",
    "# Afficher le DataFrame\n",
    "result_admin2.head(5)"
   ]
  },
  {
   "cell_type": "markdown",
   "id": "9952ddf9-9a6a-458e-86bb-84f570d1446a",
   "metadata": {
    "slideshow": {
     "slide_type": "slide"
    }
   },
   "source": [
    "<h2 style=\"text-align:center; background-color:RGB(0,220,250);font-size:45px;font-family:Algerian\">FIN DU TP</h2>"
   ]
  },
  {
   "cell_type": "code",
   "execution_count": null,
   "id": "2149c0a7-5e92-4f97-adbf-bca44c8878bc",
   "metadata": {},
   "outputs": [],
   "source": []
  }
 ],
 "metadata": {
  "kernelspec": {
   "display_name": "Python (gee)",
   "language": "python",
   "name": "gee"
  },
  "language_info": {
   "codemirror_mode": {
    "name": "ipython",
    "version": 3
   },
   "file_extension": ".py",
   "mimetype": "text/x-python",
   "name": "python",
   "nbconvert_exporter": "python",
   "pygments_lexer": "ipython3",
   "version": "3.8.20"
  },
  "widgets": {
   "application/vnd.jupyter.widget-state+json": {
    "state": {
     "00757ea949854432894fbeeddcc3d399": {
      "model_module": "@jupyter-widgets/controls",
      "model_module_version": "2.0.0",
      "model_name": "CheckboxStyleModel",
      "state": {
       "description_width": ""
      }
     },
     "0079ba48ed064f3091a1639c5e987f1d": {
      "model_module": "@jupyter-widgets/base",
      "model_module_version": "2.0.0",
      "model_name": "LayoutModel",
      "state": {
       "height": "25px",
       "padding": "0px",
       "width": "25px"
      }
     },
     "0091843b126841778609f9cdc573cc84": {
      "model_module": "@jupyter-widgets/controls",
      "model_module_version": "2.0.0",
      "model_name": "ButtonStyleModel",
      "state": {
       "font_family": null,
       "font_size": null,
       "font_style": null,
       "font_variant": null,
       "font_weight": null,
       "text_color": null,
       "text_decoration": null
      }
     },
     "00edeba4061e465a8afde8c719c73ea4": {
      "model_module": "@jupyter-widgets/controls",
      "model_module_version": "2.0.0",
      "model_name": "CheckboxModel",
      "state": {
       "description": "Events Mali",
       "disabled": false,
       "indent": false,
       "layout": "IPY_MODEL_4060e79f801044658d687a182aeaab41",
       "style": "IPY_MODEL_559e58be7d0f476da9db2fcae718e28b",
       "value": true
      }
     },
     "014afe6bf6f7474fbbbc0f33384606f0": {
      "model_module": "@jupyter-widgets/controls",
      "model_module_version": "2.0.0",
      "model_name": "ButtonStyleModel",
      "state": {
       "font_family": null,
       "font_size": null,
       "font_style": null,
       "font_variant": null,
       "font_weight": null,
       "text_color": null,
       "text_decoration": null
      }
     },
     "019d12269ea343f986aa433852648a78": {
      "model_module": "@jupyter-widgets/controls",
      "model_module_version": "2.0.0",
      "model_name": "ButtonModel",
      "state": {
       "_view_count": 0,
       "icon": "times",
       "layout": "IPY_MODEL_8bd61415441d413190d7f08fb8fe96e5",
       "style": "IPY_MODEL_3b9168f9d4b244eca9f5ca3595c60b07",
       "tooltip": "Loaded"
      }
     },
     "01f6ba23106d4b84aa79de1608644f02": {
      "model_module": "@jupyter-widgets/base",
      "model_module_version": "2.0.0",
      "model_name": "LayoutModel",
      "state": {
       "height": "25px",
       "padding": "0px",
       "width": "25px"
      }
     },
     "0211071690db458482a0d8aef342351c": {
      "model_module": "@jupyter-widgets/controls",
      "model_module_version": "2.0.0",
      "model_name": "CheckboxModel",
      "state": {
       "description": "adm2 Mali",
       "disabled": false,
       "indent": false,
       "layout": "IPY_MODEL_985f84fd988c490e9c68923a715911eb",
       "style": "IPY_MODEL_2736a8610d7b49f29964b7a286c04f31",
       "value": true
      }
     },
     "0257bc5ee6e14cef809b0ac62e48a74a": {
      "model_module": "@jupyter-widgets/controls",
      "model_module_version": "2.0.0",
      "model_name": "FloatSliderModel",
      "state": {
       "behavior": "drag-tap",
       "layout": "IPY_MODEL_e9d92c40438145e4a514da59193b3ce6",
       "max": 1,
       "readout": false,
       "step": 0.01,
       "style": "IPY_MODEL_0eeda6c9263343e095d4ec843953ee12",
       "value": 1
      }
     },
     "02a54387f21c454ab01f2552479e0635": {
      "model_module": "@jupyter-widgets/controls",
      "model_module_version": "2.0.0",
      "model_name": "ButtonModel",
      "state": {
       "icon": "gear",
       "layout": "IPY_MODEL_276674c1b15842c0b1eceea2a643dcb4",
       "style": "IPY_MODEL_760105b285cd4e10b594536d7e0bcfc0",
       "tooltip": "Population Mali"
      }
     },
     "0364ffdc1d0545768276c8bf0e0166e5": {
      "model_module": "@jupyter-widgets/controls",
      "model_module_version": "2.0.0",
      "model_name": "HTMLStyleModel",
      "state": {
       "description_width": "",
       "font_size": null,
       "text_color": null
      }
     },
     "03d309ea43714d1cac4ba69826ac00d0": {
      "model_module": "@jupyter-widgets/controls",
      "model_module_version": "2.0.0",
      "model_name": "FloatSliderModel",
      "state": {
       "behavior": "drag-tap",
       "layout": "IPY_MODEL_bb6d357b91b846789951efa73a84499e",
       "max": 1,
       "readout": false,
       "step": 0.01,
       "style": "IPY_MODEL_08ae57fbd6664197983369c51a1318e6",
       "value": 1
      }
     },
     "03da8d878b744983bf7d33a2d71989e3": {
      "model_module": "@jupyter-widgets/base",
      "model_module_version": "2.0.0",
      "model_name": "LayoutModel",
      "state": {
       "height": "25px",
       "padding": "0px",
       "width": "25px"
      }
     },
     "042e3822a1f348a389510163ac63a860": {
      "model_module": "@jupyter-widgets/controls",
      "model_module_version": "2.0.0",
      "model_name": "VBoxModel",
      "state": {
       "_dom_classes": [
        "geemap-light"
       ],
       "children": [
        "IPY_MODEL_ee352ba8701249cda8d5cef129264115",
        "IPY_MODEL_4b8318d86e464c5bbb2bf440f0fc47f0"
       ],
       "layout": "IPY_MODEL_c7b23b2056c74bc2a45c0e1cd247a3cc"
      }
     },
     "053facc81fa7484c89a4d1264d077383": {
      "model_module": "@jupyter-widgets/controls",
      "model_module_version": "2.0.0",
      "model_name": "ButtonModel",
      "state": {
       "icon": "gear",
       "layout": "IPY_MODEL_64fd62ec1ca044f3a34931f607391df9",
       "style": "IPY_MODEL_0091843b126841778609f9cdc573cc84",
       "tooltip": "adm2 Mali"
      }
     },
     "069127c377bc4032ab76ea3c644bf277": {
      "model_module": "@jupyter-widgets/base",
      "model_module_version": "2.0.0",
      "model_name": "LayoutModel",
      "state": {}
     },
     "086cc3c1feed47c4acb6f1b8411efd8e": {
      "model_module": "@jupyter-widgets/controls",
      "model_module_version": "2.0.0",
      "model_name": "ToggleButtonModel",
      "state": {
       "button_style": "primary",
       "icon": "bar-chart",
       "layout": "IPY_MODEL_36d6cf5a504249708369ee3457e9643c",
       "style": "IPY_MODEL_7a3245ad74a54adfad89c8668027cfa6",
       "tooltip": "Plotting"
      }
     },
     "08ae57fbd6664197983369c51a1318e6": {
      "model_module": "@jupyter-widgets/controls",
      "model_module_version": "2.0.0",
      "model_name": "SliderStyleModel",
      "state": {
       "description_width": ""
      }
     },
     "09703da8c91343aab12f1761adf6db66": {
      "model_module": "@jupyter-widgets/base",
      "model_module_version": "2.0.0",
      "model_name": "LayoutModel",
      "state": {
       "width": "340px"
      }
     },
     "098bfc2741d44f778608d276bd20b936": {
      "model_module": "ipyevents",
      "model_module_version": "2.0.2",
      "model_name": "EventModel",
      "state": {
       "_supported_key_events": [
        "keydown",
        "keyup"
       ],
       "_supported_mouse_events": [
        "click",
        "auxclick",
        "dblclick",
        "mouseenter",
        "mouseleave",
        "mousedown",
        "mouseup",
        "mousemove",
        "wheel",
        "contextmenu",
        "dragstart",
        "drag",
        "dragend",
        "dragenter",
        "dragover",
        "dragleave",
        "drop"
       ],
       "_supported_touch_events": [
        "touchstart",
        "touchend",
        "touchmove",
        "touchcancel"
       ],
       "_view_module": "@jupyter-widgets/controls",
       "source": "IPY_MODEL_1c88fed7a6b34f2989ace5381fdce7bf",
       "throttle_or_debounce": "",
       "watched_events": [
        "mouseenter",
        "mouseleave"
       ],
       "xy_coordinate_system": ""
      }
     },
     "0a2f9ed8dd51493baa505df2209cc841": {
      "model_module": "@jupyter-widgets/base",
      "model_module_version": "2.0.0",
      "model_name": "LayoutModel",
      "state": {
       "padding": "0px 3px 0px 0px",
       "width": "70px"
      }
     },
     "0a6b031b014140f4ae1f54902cc58f24": {
      "model_module": "@jupyter-widgets/controls",
      "model_module_version": "2.0.0",
      "model_name": "SliderStyleModel",
      "state": {
       "description_width": ""
      }
     },
     "0ad768bec33c4823bddf6a613d185ec2": {
      "model_module": "@jupyter-widgets/base",
      "model_module_version": "2.0.0",
      "model_name": "LayoutModel",
      "state": {
       "padding": "0px 3px 0px 0px",
       "width": "70px"
      }
     },
     "0b2e88565c76459e8afc042be530a14c": {
      "model_module": "@jupyter-widgets/base",
      "model_module_version": "2.0.0",
      "model_name": "LayoutModel",
      "state": {
       "height": "18px",
       "width": "140px"
      }
     },
     "0c039c9be3cc48c294d417fe2bd37fbf": {
      "model_module": "@jupyter-widgets/base",
      "model_module_version": "2.0.0",
      "model_name": "LayoutModel",
      "state": {
       "height": "auto",
       "padding": "0px 0px 0px 4px",
       "width": "auto"
      }
     },
     "0c80691c28114f84a88f8fee8a0a3d3c": {
      "model_module": "@jupyter-widgets/controls",
      "model_module_version": "2.0.0",
      "model_name": "ButtonStyleModel",
      "state": {
       "font_family": null,
       "font_size": null,
       "font_style": null,
       "font_variant": null,
       "font_weight": null,
       "text_color": null,
       "text_decoration": null
      }
     },
     "0cac2d78272d48fbb91c9e09f88f6ad9": {
      "model_module": "@jupyter-widgets/controls",
      "model_module_version": "2.0.0",
      "model_name": "ButtonModel",
      "state": {
       "_view_count": 2,
       "icon": "times",
       "layout": "IPY_MODEL_f24b45c1350e4f149bae75b7996e7d1f",
       "style": "IPY_MODEL_b0c0444068714d2ea0c15125601cc527",
       "tooltip": "Loaded"
      }
     },
     "0d0e2f7f78d74fc5b26610c18bb26192": {
      "model_module": "@jupyter-widgets/controls",
      "model_module_version": "2.0.0",
      "model_name": "CheckboxStyleModel",
      "state": {
       "description_width": ""
      }
     },
     "0d33ab44c265442ca48a66f62f551735": {
      "model_module": "@jupyter-widgets/controls",
      "model_module_version": "2.0.0",
      "model_name": "ButtonModel",
      "state": {
       "icon": "gear",
       "layout": "IPY_MODEL_ce42667738e243e4a0de3e8b105651cd",
       "style": "IPY_MODEL_f6c3901c57f6423593d44dd6570cf56f",
       "tooltip": "OpenStreetMap.Mapnik"
      }
     },
     "0d53a845711c4c4785304fffaba4b234": {
      "model_module": "@jupyter-widgets/base",
      "model_module_version": "2.0.0",
      "model_name": "LayoutModel",
      "state": {
       "height": "25px",
       "padding": "0px",
       "width": "25px"
      }
     },
     "0d68ddc358d44298b898160840391376": {
      "model_module": "@jupyter-widgets/controls",
      "model_module_version": "2.0.0",
      "model_name": "ButtonStyleModel",
      "state": {
       "font_family": null,
       "font_size": null,
       "font_style": null,
       "font_variant": null,
       "font_weight": null,
       "text_color": null,
       "text_decoration": null
      }
     },
     "0d96895941244787ae92fbd1cea46c18": {
      "model_module": "@jupyter-widgets/controls",
      "model_module_version": "2.0.0",
      "model_name": "SliderStyleModel",
      "state": {
       "description_width": ""
      }
     },
     "0e41df960dbe4307883920f1e651bec5": {
      "model_module": "@jupyter-widgets/base",
      "model_module_version": "2.0.0",
      "model_name": "LayoutModel",
      "state": {
       "height": "25px",
       "padding": "0px",
       "width": "25px"
      }
     },
     "0e90dbbab35544d7bf4807d7c39988ad": {
      "model_module": "@jupyter-widgets/base",
      "model_module_version": "2.0.0",
      "model_name": "LayoutModel",
      "state": {
       "padding": "0px 3px 0px 0px",
       "width": "70px"
      }
     },
     "0eeda6c9263343e095d4ec843953ee12": {
      "model_module": "@jupyter-widgets/controls",
      "model_module_version": "2.0.0",
      "model_name": "SliderStyleModel",
      "state": {
       "description_width": ""
      }
     },
     "0f07dc46758348f98017ba6e827b5a86": {
      "model_module": "@jupyter-widgets/controls",
      "model_module_version": "2.0.0",
      "model_name": "SliderStyleModel",
      "state": {
       "description_width": ""
      }
     },
     "0f8eae2893144a3093a5553e726ebe22": {
      "model_module": "@jupyter-widgets/controls",
      "model_module_version": "2.0.0",
      "model_name": "ButtonModel",
      "state": {
       "icon": "gear",
       "layout": "IPY_MODEL_1a45154bb40c4cf3b2925158740e49ed",
       "style": "IPY_MODEL_c5f80c96740148918f8cb64599a1b33d",
       "tooltip": "OpenStreetMap.Mapnik"
      }
     },
     "1065e4f0954941fabe37c76dd2a33e75": {
      "model_module": "@jupyter-widgets/base",
      "model_module_version": "2.0.0",
      "model_name": "LayoutModel",
      "state": {
       "height": "18px",
       "width": "140px"
      }
     },
     "106b75d94e034deba3ec793e9fe28f10": {
      "model_module": "@jupyter-widgets/controls",
      "model_module_version": "2.0.0",
      "model_name": "ButtonStyleModel",
      "state": {
       "font_family": null,
       "font_size": null,
       "font_style": null,
       "font_variant": null,
       "font_weight": null,
       "text_color": null,
       "text_decoration": null
      }
     },
     "110aca21f539464c85c585b5423f56f3": {
      "model_module": "@jupyter-widgets/base",
      "model_module_version": "2.0.0",
      "model_name": "LayoutModel",
      "state": {
       "height": "28px",
       "padding": "0px 0px 0px 4px",
       "width": "28px"
      }
     },
     "1141614fca0e4cc2a63011447846bad2": {
      "model_module": "@jupyter-widgets/base",
      "model_module_version": "2.0.0",
      "model_name": "LayoutModel",
      "state": {
       "height": "18px",
       "width": "140px"
      }
     },
     "12801eb3bcf748e2b294616314375b51": {
      "model_module": "@jupyter-widgets/controls",
      "model_module_version": "2.0.0",
      "model_name": "SliderStyleModel",
      "state": {
       "description_width": ""
      }
     },
     "13668ede3f474491a0121efba4eef215": {
      "model_module": "@jupyter-widgets/controls",
      "model_module_version": "2.0.0",
      "model_name": "ButtonModel",
      "state": {
       "_view_count": 2,
       "icon": "times",
       "layout": "IPY_MODEL_4e4ede4f191545dfa920326f88479b57",
       "style": "IPY_MODEL_6cc84f4931254a94b751f79d9c378609",
       "tooltip": "Loaded"
      }
     },
     "1462eb43ac9a493283efc7607df5c0e5": {
      "model_module": "@jupyter-widgets/controls",
      "model_module_version": "2.0.0",
      "model_name": "ButtonModel",
      "state": {
       "_view_count": 0,
       "icon": "times",
       "layout": "IPY_MODEL_78fd846ec5564e239654dbec852af7c7",
       "style": "IPY_MODEL_3f0b3ccad68942f48332c3b331be269d",
       "tooltip": "Loaded"
      }
     },
     "1616cba4e518410dace1f6a2cda2578b": {
      "model_module": "@jupyter-widgets/controls",
      "model_module_version": "2.0.0",
      "model_name": "ButtonStyleModel",
      "state": {
       "font_family": null,
       "font_size": null,
       "font_style": null,
       "font_variant": null,
       "font_weight": null,
       "text_color": null,
       "text_decoration": null
      }
     },
     "1653606916fb42b68c023be97a9a4554": {
      "model_module": "@jupyter-widgets/controls",
      "model_module_version": "2.0.0",
      "model_name": "ButtonModel",
      "state": {
       "_view_count": 0,
       "icon": "times",
       "layout": "IPY_MODEL_89a5f235759b426ca99b5ae8203814cd",
       "style": "IPY_MODEL_b8d080c16a6844d99cb1b3c7ce3ffee0",
       "tooltip": "Loaded"
      }
     },
     "16e3a37b0c8b44c38d82745c873ce6e6": {
      "model_module": "@jupyter-widgets/controls",
      "model_module_version": "2.0.0",
      "model_name": "ButtonModel",
      "state": {
       "icon": "gear",
       "layout": "IPY_MODEL_2a4e2c42222f4b1e9a365b2264243b97",
       "style": "IPY_MODEL_1c7e5123c8014ce48f40f23bbd2de0bf",
       "tooltip": "Binar population Mali"
      }
     },
     "176d336ab833461d9625f8ee710491ab": {
      "model_module": "@jupyter-widgets/controls",
      "model_module_version": "2.0.0",
      "model_name": "FloatSliderModel",
      "state": {
       "behavior": "drag-tap",
       "layout": "IPY_MODEL_dd011dcbec7742bea244a0e790557fdd",
       "max": 1,
       "readout": false,
       "step": 0.01,
       "style": "IPY_MODEL_fc7f5d101aa84617b02f847bfb6ecf68",
       "value": 1
      }
     },
     "17d4cbfa25d14f6baa0007a400dafa53": {
      "model_module": "@jupyter-widgets/base",
      "model_module_version": "2.0.0",
      "model_name": "LayoutModel",
      "state": {
       "padding": "0px 4px 0px 4px"
      }
     },
     "1822d31cf1164d078583cba9f8361884": {
      "model_module": "@jupyter-widgets/controls",
      "model_module_version": "2.0.0",
      "model_name": "ButtonModel",
      "state": {
       "icon": "gear",
       "layout": "IPY_MODEL_536ee02e70724bc182c83592e87faa9e",
       "style": "IPY_MODEL_3cd84138fdc641c790636b68d2690614",
       "tooltip": "adm1 Mali"
      }
     },
     "183535b2f0934c9f8ae8c92d933981bc": {
      "model_module": "@jupyter-widgets/controls",
      "model_module_version": "2.0.0",
      "model_name": "CheckboxStyleModel",
      "state": {
       "description_width": ""
      }
     },
     "18fc07d40cea412aa12137cc527ff33e": {
      "model_module": "@jupyter-widgets/base",
      "model_module_version": "2.0.0",
      "model_name": "LayoutModel",
      "state": {}
     },
     "18ff3a4a26514dd88c0a3ec20119a887": {
      "model_module": "@jupyter-widgets/controls",
      "model_module_version": "2.0.0",
      "model_name": "ButtonStyleModel",
      "state": {
       "font_family": null,
       "font_size": null,
       "font_style": null,
       "font_variant": null,
       "font_weight": null,
       "text_color": null,
       "text_decoration": null
      }
     },
     "19cc9f835459408c8a51c12e77f834b8": {
      "model_module": "@jupyter-widgets/base",
      "model_module_version": "2.0.0",
      "model_name": "LayoutModel",
      "state": {
       "height": "18px",
       "padding": "0px 4px 25px 4px",
       "width": "30ex"
      }
     },
     "19fb70f667cf48ecb4a7ac591936cc80": {
      "model_module": "@jupyter-widgets/controls",
      "model_module_version": "2.0.0",
      "model_name": "FloatSliderModel",
      "state": {
       "behavior": "drag-tap",
       "layout": "IPY_MODEL_e06de813f765495ab1bc7a8978134454",
       "max": 1,
       "readout": false,
       "step": 0.01,
       "style": "IPY_MODEL_9ab82d0959de4cf98cb37f2cbb9729f1",
       "value": 1
      }
     },
     "1a45154bb40c4cf3b2925158740e49ed": {
      "model_module": "@jupyter-widgets/base",
      "model_module_version": "2.0.0",
      "model_name": "LayoutModel",
      "state": {
       "height": "25px",
       "padding": "0px",
       "width": "25px"
      }
     },
     "1a7e5254438f4c13b685113732cf7ceb": {
      "model_module": "ipyevents",
      "model_module_version": "2.0.2",
      "model_name": "EventModel",
      "state": {
       "_supported_key_events": [
        "keydown",
        "keyup"
       ],
       "_supported_mouse_events": [
        "click",
        "auxclick",
        "dblclick",
        "mouseenter",
        "mouseleave",
        "mousedown",
        "mouseup",
        "mousemove",
        "wheel",
        "contextmenu",
        "dragstart",
        "drag",
        "dragend",
        "dragenter",
        "dragover",
        "dragleave",
        "drop"
       ],
       "_supported_touch_events": [
        "touchstart",
        "touchend",
        "touchmove",
        "touchcancel"
       ],
       "_view_module": "@jupyter-widgets/controls",
       "source": "IPY_MODEL_9b30d168c02444218f76863aec90970b",
       "throttle_or_debounce": "",
       "watched_events": [
        "mouseenter",
        "mouseleave"
       ],
       "xy_coordinate_system": ""
      }
     },
     "1b872fc2195649a1818fb326ec11e879": {
      "model_module": "@jupyter-widgets/controls",
      "model_module_version": "2.0.0",
      "model_name": "ButtonStyleModel",
      "state": {
       "font_family": null,
       "font_size": null,
       "font_style": null,
       "font_variant": null,
       "font_weight": null,
       "text_color": null,
       "text_decoration": null
      }
     },
     "1c2d56a86c334d8db14dd56ffad78f32": {
      "model_module": "@jupyter-widgets/controls",
      "model_module_version": "2.0.0",
      "model_name": "CheckboxStyleModel",
      "state": {
       "description_width": ""
      }
     },
     "1c7e5123c8014ce48f40f23bbd2de0bf": {
      "model_module": "@jupyter-widgets/controls",
      "model_module_version": "2.0.0",
      "model_name": "ButtonStyleModel",
      "state": {
       "font_family": null,
       "font_size": null,
       "font_style": null,
       "font_variant": null,
       "font_weight": null,
       "text_color": null,
       "text_decoration": null
      }
     },
     "1c88fed7a6b34f2989ace5381fdce7bf": {
      "model_module": "@jupyter-widgets/controls",
      "model_module_version": "2.0.0",
      "model_name": "ButtonModel",
      "state": {
       "_view_count": 0,
       "icon": "times",
       "layout": "IPY_MODEL_faf3711177864dccb7ac4af1f9ea76b0",
       "style": "IPY_MODEL_5c54c9025eb94deeb1a2c162b3ec56f0",
       "tooltip": "Loaded"
      }
     },
     "1cd22d8e4b624594a763253b3bfd54af": {
      "model_module": "@jupyter-widgets/base",
      "model_module_version": "2.0.0",
      "model_name": "LayoutModel",
      "state": {
       "padding": "0px 4px 0px 4px"
      }
     },
     "1d00b044c86b41128af72d1e1c0401ff": {
      "model_module": "@jupyter-widgets/base",
      "model_module_version": "2.0.0",
      "model_name": "LayoutModel",
      "state": {
       "height": "18px",
       "width": "140px"
      }
     },
     "1d0d77f42e0d4625bacd68a3c5820dc4": {
      "model_module": "@jupyter-widgets/controls",
      "model_module_version": "2.0.0",
      "model_name": "ButtonStyleModel",
      "state": {
       "font_family": null,
       "font_size": null,
       "font_style": null,
       "font_variant": null,
       "font_weight": null,
       "text_color": null,
       "text_decoration": null
      }
     },
     "1d436dba22984268b600b4a91180b795": {
      "model_module": "@jupyter-widgets/controls",
      "model_module_version": "2.0.0",
      "model_name": "ToggleButtonStyleModel",
      "state": {
       "description_width": "",
       "font_family": null,
       "font_size": null,
       "font_style": null,
       "font_variant": null,
       "font_weight": null,
       "text_color": null,
       "text_decoration": null
      }
     },
     "1d77ae3308e9402aa7cbba2a793f8ce6": {
      "model_module": "@jupyter-widgets/base",
      "model_module_version": "2.0.0",
      "model_name": "LayoutModel",
      "state": {
       "padding": "0px 4px 0px 4px"
      }
     },
     "1d7f9b5da2f64635b652cd1b31850273": {
      "model_module": "@jupyter-widgets/controls",
      "model_module_version": "2.0.0",
      "model_name": "CheckboxStyleModel",
      "state": {
       "description_width": ""
      }
     },
     "1d96441c7d8b422284f6d89392dc85de": {
      "model_module": "@jupyter-widgets/controls",
      "model_module_version": "2.0.0",
      "model_name": "ToggleButtonStyleModel",
      "state": {
       "description_width": "",
       "font_family": null,
       "font_size": null,
       "font_style": null,
       "font_variant": null,
       "font_weight": null,
       "text_color": null,
       "text_decoration": null
      }
     },
     "1db3851dafb840f1b891caf0d6fef1d1": {
      "model_module": "@jupyter-widgets/controls",
      "model_module_version": "2.0.0",
      "model_name": "ToggleButtonModel",
      "state": {
       "button_style": "primary",
       "icon": "fast-forward",
       "layout": "IPY_MODEL_ee8c4fbd8d9e4938b79aa3acae5cf95a",
       "style": "IPY_MODEL_b79dcf5ccc984117b37fcd5966c497ca",
       "tooltip": "Activate timeslider"
      }
     },
     "1de152a5554f47d69919e073ca594e7e": {
      "model_module": "@jupyter-widgets/base",
      "model_module_version": "2.0.0",
      "model_name": "LayoutModel",
      "state": {
       "height": "18px",
       "padding": "0px 4px 25px 4px",
       "width": "30ex"
      }
     },
     "1f0bd676d5624340891abb75723c0844": {
      "model_module": "@jupyter-widgets/base",
      "model_module_version": "2.0.0",
      "model_name": "LayoutModel",
      "state": {
       "height": "auto",
       "padding": "0px 0px 0px 4px",
       "width": "auto"
      }
     },
     "1fee1fb435bb4e96b7ef888d6476d963": {
      "model_module": "@jupyter-widgets/base",
      "model_module_version": "2.0.0",
      "model_name": "LayoutModel",
      "state": {
       "height": "25px",
       "padding": "0px",
       "width": "25px"
      }
     },
     "213fa7bf495c4c0882b67a0d3a06fd35": {
      "model_module": "@jupyter-widgets/controls",
      "model_module_version": "2.0.0",
      "model_name": "CheckboxStyleModel",
      "state": {
       "description_width": ""
      }
     },
     "21c9a3d2c421492184177b95155f2493": {
      "model_module": "@jupyter-widgets/base",
      "model_module_version": "2.0.0",
      "model_name": "LayoutModel",
      "state": {
       "height": "28px",
       "width": "72px"
      }
     },
     "2202a12debfd4b7083bc8c9d5385c2fc": {
      "model_module": "@jupyter-widgets/base",
      "model_module_version": "2.0.0",
      "model_name": "LayoutModel",
      "state": {
       "padding": "0px 3px 0px 0px",
       "width": "70px"
      }
     },
     "24d4af389b034b25906733f7af053163": {
      "model_module": "@jupyter-widgets/base",
      "model_module_version": "2.0.0",
      "model_name": "LayoutModel",
      "state": {
       "padding": "0px 4px 0px 4px"
      }
     },
     "251bd4a6aa8d41689146cfe203edd5ca": {
      "model_module": "@jupyter-widgets/controls",
      "model_module_version": "2.0.0",
      "model_name": "ToggleButtonModel",
      "state": {
       "icon": "server",
       "layout": "IPY_MODEL_42a195d823714a5bbd3657e92c37999c",
       "style": "IPY_MODEL_814710cfe3194f4bac55539699f6b4e8",
       "tooltip": "Layer Manager",
       "value": true
      }
     },
     "25536b4aa3484c89ab1529772f192e0a": {
      "model_module": "@jupyter-widgets/controls",
      "model_module_version": "2.0.0",
      "model_name": "ButtonModel",
      "state": {
       "icon": "gear",
       "layout": "IPY_MODEL_526c823ebb0b46af83096818bec63a91",
       "style": "IPY_MODEL_1d0d77f42e0d4625bacd68a3c5820dc4",
       "tooltip": "OpenStreetMap.Mapnik"
      }
     },
     "2614958e1759462c9ba95146f269b330": {
      "model_module": "@jupyter-widgets/controls",
      "model_module_version": "2.0.0",
      "model_name": "ButtonModel",
      "state": {
       "_view_count": 0,
       "icon": "times",
       "layout": "IPY_MODEL_0079ba48ed064f3091a1639c5e987f1d",
       "style": "IPY_MODEL_4485a76e89d2442f8089c4598f47cee9",
       "tooltip": "Loaded"
      }
     },
     "263531d636d545d5b747ecfa16a13138": {
      "model_module": "@jupyter-widgets/controls",
      "model_module_version": "2.0.0",
      "model_name": "ButtonModel",
      "state": {
       "icon": "gear",
       "layout": "IPY_MODEL_8e87e0595dbf4fde8a8358267b54f4c5",
       "style": "IPY_MODEL_18ff3a4a26514dd88c0a3ec20119a887",
       "tooltip": "Events Mali"
      }
     },
     "26b37e6c29834f6daf708de53293184a": {
      "model_module": "@jupyter-widgets/controls",
      "model_module_version": "2.0.0",
      "model_name": "CheckboxModel",
      "state": {
       "description": "All layers on/off",
       "disabled": false,
       "indent": false,
       "layout": "IPY_MODEL_6ed0e7e54b594e6f838a9806c2e57563",
       "style": "IPY_MODEL_ea977797ae694e6ba47e48513b15b5ab",
       "value": false
      }
     },
     "26dbd48d60ad433395d047710ccf127f": {
      "model_module": "@jupyter-widgets/controls",
      "model_module_version": "2.0.0",
      "model_name": "HBoxModel",
      "state": {
       "children": [
        "IPY_MODEL_00edeba4061e465a8afde8c719c73ea4",
        "IPY_MODEL_df5b054429384ff4a077e36763f7f1e6",
        "IPY_MODEL_c46f04e37a0c49cab4bc140cbfe902dc",
        "IPY_MODEL_d229293962fa435b8876952de76db125"
       ],
       "layout": "IPY_MODEL_9744dc4b3fa449cc885d2f49fb48a954"
      }
     },
     "26f2c5f31ee44f718c35276ea76ce139": {
      "model_module": "@jupyter-widgets/base",
      "model_module_version": "2.0.0",
      "model_name": "LayoutModel",
      "state": {
       "display": "none"
      }
     },
     "27216d8d98624b98a971a009df514f43": {
      "model_module": "@jupyter-widgets/controls",
      "model_module_version": "2.0.0",
      "model_name": "ButtonModel",
      "state": {
       "_view_count": 0,
       "icon": "times",
       "layout": "IPY_MODEL_7fdddeeecfdd44fc86b4b4fcdfdc60fe",
       "style": "IPY_MODEL_517a7ba6310f4b8d99322d641d37a35c",
       "tooltip": "Loaded"
      }
     },
     "2736a8610d7b49f29964b7a286c04f31": {
      "model_module": "@jupyter-widgets/controls",
      "model_module_version": "2.0.0",
      "model_name": "CheckboxStyleModel",
      "state": {
       "description_width": ""
      }
     },
     "276674c1b15842c0b1eceea2a643dcb4": {
      "model_module": "@jupyter-widgets/base",
      "model_module_version": "2.0.0",
      "model_name": "LayoutModel",
      "state": {
       "height": "25px",
       "padding": "0px",
       "width": "25px"
      }
     },
     "27832086f0db44caa5806cdad5a10a4c": {
      "model_module": "@jupyter-widgets/base",
      "model_module_version": "2.0.0",
      "model_name": "LayoutModel",
      "state": {
       "height": "25px",
       "padding": "0px",
       "width": "25px"
      }
     },
     "28d551b72abf4daeba9f704977654357": {
      "model_module": "@jupyter-widgets/controls",
      "model_module_version": "2.0.0",
      "model_name": "SliderStyleModel",
      "state": {
       "description_width": ""
      }
     },
     "28f2b84b0c06467f825cddcda7c9422e": {
      "model_module": "@jupyter-widgets/controls",
      "model_module_version": "2.0.0",
      "model_name": "ButtonStyleModel",
      "state": {
       "font_family": null,
       "font_size": null,
       "font_style": null,
       "font_variant": null,
       "font_weight": null,
       "text_color": null,
       "text_decoration": null
      }
     },
     "293cfa029f314048aa5ec796deb948fc": {
      "model_module": "@jupyter-widgets/controls",
      "model_module_version": "2.0.0",
      "model_name": "ButtonModel",
      "state": {
       "icon": "gear",
       "layout": "IPY_MODEL_fa3e01cd1e354f96931735c89c82e77b",
       "style": "IPY_MODEL_62718cfe31bc45f39ff94425a25ee9ea",
       "tooltip": "adm2 Mali"
      }
     },
     "29da8f2e84184ca8b77f4a6317c5d80f": {
      "model_module": "ipyevents",
      "model_module_version": "2.0.2",
      "model_name": "EventModel",
      "state": {
       "_supported_key_events": [
        "keydown",
        "keyup"
       ],
       "_supported_mouse_events": [
        "click",
        "auxclick",
        "dblclick",
        "mouseenter",
        "mouseleave",
        "mousedown",
        "mouseup",
        "mousemove",
        "wheel",
        "contextmenu",
        "dragstart",
        "drag",
        "dragend",
        "dragenter",
        "dragover",
        "dragleave",
        "drop"
       ],
       "_supported_touch_events": [
        "touchstart",
        "touchend",
        "touchmove",
        "touchcancel"
       ],
       "_view_module": "@jupyter-widgets/controls",
       "source": "IPY_MODEL_83410250676c439189cc1ec6fe260a63",
       "throttle_or_debounce": "",
       "watched_events": [
        "mouseenter",
        "mouseleave"
       ],
       "xy_coordinate_system": ""
      }
     },
     "29e557254ad74d78a5bfedaf1a7a7fa9": {
      "model_module": "@jupyter-widgets/controls",
      "model_module_version": "2.0.0",
      "model_name": "ButtonStyleModel",
      "state": {
       "font_family": null,
       "font_size": null,
       "font_style": null,
       "font_variant": null,
       "font_weight": null,
       "text_color": null,
       "text_decoration": null
      }
     },
     "2a49cdc29d57415b953a6c304b59cffb": {
      "model_module": "@jupyter-widgets/base",
      "model_module_version": "2.0.0",
      "model_name": "LayoutModel",
      "state": {
       "height": "auto",
       "padding": "0px 0px 0px 4px",
       "width": "auto"
      }
     },
     "2a4e2c42222f4b1e9a365b2264243b97": {
      "model_module": "@jupyter-widgets/base",
      "model_module_version": "2.0.0",
      "model_name": "LayoutModel",
      "state": {
       "height": "25px",
       "padding": "0px",
       "width": "25px"
      }
     },
     "2b4d6d6d32994ed7956ecea7b181e6a6": {
      "model_module": "@jupyter-widgets/controls",
      "model_module_version": "2.0.0",
      "model_name": "DescriptionStyleModel",
      "state": {
       "description_width": ""
      }
     },
     "2b6f989d70bd4b4fb5b979af8517e703": {
      "model_module": "@jupyter-widgets/controls",
      "model_module_version": "2.0.0",
      "model_name": "HBoxModel",
      "state": {
       "children": [
        "IPY_MODEL_6236afc3e59b4ccbbbb41440afd65542",
        "IPY_MODEL_cf57cb2715964b85853a7acca7e3e005",
        "IPY_MODEL_293cfa029f314048aa5ec796deb948fc",
        "IPY_MODEL_f600178aba6541dd8916d27c8d0f77b8"
       ],
       "layout": "IPY_MODEL_dcde34f192cf4ffea6993206aaea257c"
      }
     },
     "2c5ffd6ee1af4eb7bbbce60840f55e2b": {
      "model_module": "@jupyter-widgets/base",
      "model_module_version": "2.0.0",
      "model_name": "LayoutModel",
      "state": {
       "height": "25px",
       "padding": "0px",
       "width": "25px"
      }
     },
     "2d67c41e433a429fb75ab927f5c16e6d": {
      "model_module": "@jupyter-widgets/controls",
      "model_module_version": "2.0.0",
      "model_name": "ToggleButtonModel",
      "state": {
       "button_style": "primary",
       "icon": "retweet",
       "layout": "IPY_MODEL_4bc59839c6bd41788e2966815c780bf5",
       "style": "IPY_MODEL_fe6ae33eecfa41658730c36094be9bca",
       "tooltip": "Convert Earth Engine JavaScript to Python"
      }
     },
     "2de3e99d45354d8486fca5c8ef1e4ce9": {
      "model_module": "@jupyter-widgets/controls",
      "model_module_version": "2.0.0",
      "model_name": "CheckboxModel",
      "state": {
       "description": "adm1 Mali",
       "disabled": false,
       "indent": false,
       "layout": "IPY_MODEL_c94851d12ada4598bcdc2593b0a234d8",
       "style": "IPY_MODEL_bc2f5c8f5cf6473a9702b5e0a0e60791",
       "value": true
      }
     },
     "2ec83414e02847649446e6d6415ec7b3": {
      "model_module": "@jupyter-widgets/base",
      "model_module_version": "2.0.0",
      "model_name": "LayoutModel",
      "state": {
       "height": "25px",
       "padding": "0px",
       "width": "25px"
      }
     },
     "2f5dc12d7e1b483fbc1aec3680e370e3": {
      "model_module": "@jupyter-widgets/base",
      "model_module_version": "2.0.0",
      "model_name": "LayoutModel",
      "state": {
       "height": "25px",
       "padding": "0px",
       "width": "25px"
      }
     },
     "30a89943c21143ab9bd334c305fc8031": {
      "model_module": "@jupyter-widgets/controls",
      "model_module_version": "2.0.0",
      "model_name": "ToggleButtonModel",
      "state": {
       "button_style": "primary",
       "icon": "info",
       "layout": "IPY_MODEL_7d9543b5a5574d2587f92de170ecdeeb",
       "style": "IPY_MODEL_35ece0887b1d45dfa27eafc9a2df1279",
       "tooltip": "Inspector"
      }
     },
     "30e3e5c70427412e8ff2f2dfd5e2734e": {
      "model_module": "@jupyter-widgets/base",
      "model_module_version": "2.0.0",
      "model_name": "LayoutModel",
      "state": {
       "height": "18px",
       "width": "140px"
      }
     },
     "31062c62a11648689e1cb8762d37759f": {
      "model_module": "@jupyter-widgets/base",
      "model_module_version": "2.0.0",
      "model_name": "LayoutModel",
      "state": {
       "height": "28px",
       "padding": "0px 0px 0px 4px",
       "width": "28px"
      }
     },
     "312d1742bf52429f8001cfbeb825b7e2": {
      "model_module": "@jupyter-widgets/base",
      "model_module_version": "2.0.0",
      "model_name": "LayoutModel",
      "state": {
       "padding": "0px 3px 0px 0px",
       "width": "70px"
      }
     },
     "3172f15a286c4cd48231d88f0f9a7f78": {
      "model_module": "@jupyter-widgets/base",
      "model_module_version": "2.0.0",
      "model_name": "LayoutModel",
      "state": {
       "height": "auto",
       "padding": "0px 0px 0px 4px",
       "width": "auto"
      }
     },
     "31fcfd5405414c3f992a37760a92401f": {
      "model_module": "@jupyter-widgets/controls",
      "model_module_version": "2.0.0",
      "model_name": "ButtonModel",
      "state": {
       "icon": "gear",
       "layout": "IPY_MODEL_b6d6a10089504eeba09ab85987c48474",
       "style": "IPY_MODEL_606a11d145fa49b5b674370bcfa0ea75",
       "tooltip": "OpenStreetMap.Mapnik"
      }
     },
     "3214e0d9d0eb43f0aa46776489ccc9fc": {
      "model_module": "jupyter-leaflet",
      "model_module_version": "^0.19",
      "model_name": "LeafletMapStyleModel",
      "state": {
       "_model_module_version": "^0.19"
      }
     },
     "32ad551e65954127be3ece9b8d3f5763": {
      "model_module": "@jupyter-widgets/controls",
      "model_module_version": "2.0.0",
      "model_name": "ToggleButtonModel",
      "state": {
       "button_style": "primary",
       "icon": "google",
       "layout": "IPY_MODEL_bb56e051e5ed4d869ef41899a6caa310",
       "style": "IPY_MODEL_9a27234b9e814521b33a4acec2faf9c0",
       "tooltip": "GEE Toolbox for cloud computing"
      }
     },
     "3352acf2235c43938a0c4e3d296284be": {
      "model_module": "@jupyter-widgets/controls",
      "model_module_version": "2.0.0",
      "model_name": "ToggleButtonStyleModel",
      "state": {
       "description_width": "",
       "font_family": null,
       "font_size": null,
       "font_style": null,
       "font_variant": null,
       "font_weight": null,
       "text_color": null,
       "text_decoration": null
      }
     },
     "33bb1f765bad4956957671167eab54aa": {
      "model_module": "@jupyter-widgets/controls",
      "model_module_version": "2.0.0",
      "model_name": "SliderStyleModel",
      "state": {
       "description_width": ""
      }
     },
     "34f98efea9534205a71d840a935c50fa": {
      "model_module": "@jupyter-widgets/controls",
      "model_module_version": "2.0.0",
      "model_name": "ButtonModel",
      "state": {
       "icon": "gear",
       "layout": "IPY_MODEL_dde97162edc24df98cf8dc0609c0c0aa",
       "style": "IPY_MODEL_b39883234c834e4ba3502991e033d80e",
       "tooltip": "adm2 Mali"
      }
     },
     "35ece0887b1d45dfa27eafc9a2df1279": {
      "model_module": "@jupyter-widgets/controls",
      "model_module_version": "2.0.0",
      "model_name": "ToggleButtonStyleModel",
      "state": {
       "description_width": "",
       "font_family": null,
       "font_size": null,
       "font_style": null,
       "font_variant": null,
       "font_weight": null,
       "text_color": null,
       "text_decoration": null
      }
     },
     "361fc87a0e9642d7b55c9acfc0d7f347": {
      "model_module": "@jupyter-widgets/base",
      "model_module_version": "2.0.0",
      "model_name": "LayoutModel",
      "state": {
       "height": "18px",
       "padding": "0px 4px 25px 4px",
       "width": "30ex"
      }
     },
     "36d6cf5a504249708369ee3457e9643c": {
      "model_module": "@jupyter-widgets/base",
      "model_module_version": "2.0.0",
      "model_name": "LayoutModel",
      "state": {
       "height": "auto",
       "padding": "0px 0px 0px 4px",
       "width": "auto"
      }
     },
     "37a4a622e21141619f5b8f1845444c5f": {
      "model_module": "@jupyter-widgets/controls",
      "model_module_version": "2.0.0",
      "model_name": "ButtonStyleModel",
      "state": {
       "font_family": null,
       "font_size": null,
       "font_style": null,
       "font_variant": null,
       "font_weight": null,
       "text_color": null,
       "text_decoration": null
      }
     },
     "3876aa97247443d28aa3120ef040eb49": {
      "model_module": "@jupyter-widgets/controls",
      "model_module_version": "2.0.0",
      "model_name": "ButtonStyleModel",
      "state": {
       "font_family": null,
       "font_size": null,
       "font_style": null,
       "font_variant": null,
       "font_weight": null,
       "text_color": null,
       "text_decoration": null
      }
     },
     "38fdde089d604b17907fb171d79ad93c": {
      "model_module": "@jupyter-widgets/base",
      "model_module_version": "2.0.0",
      "model_name": "LayoutModel",
      "state": {
       "height": "18px",
       "width": "140px"
      }
     },
     "38ffc207c30b49b18eb63ff4659fbcf9": {
      "model_module": "@jupyter-widgets/controls",
      "model_module_version": "2.0.0",
      "model_name": "ButtonModel",
      "state": {
       "button_style": "primary",
       "description": "import",
       "layout": "IPY_MODEL_71f4064520eb4584b7d728cb8adb495b",
       "style": "IPY_MODEL_28f2b84b0c06467f825cddcda7c9422e",
       "tooltip": "Click to import the selected asset"
      }
     },
     "3917e357b0cd4153b9b34eaa3f9f1e60": {
      "model_module": "@jupyter-widgets/controls",
      "model_module_version": "2.0.0",
      "model_name": "SliderStyleModel",
      "state": {
       "description_width": ""
      }
     },
     "392f41e80cdf43d7b6946204cb135ef9": {
      "model_module": "@jupyter-widgets/base",
      "model_module_version": "2.0.0",
      "model_name": "LayoutModel",
      "state": {
       "align_items": "center",
       "display": "flex",
       "justify_content": "flex-end"
      }
     },
     "3a11a093a30548628bf824dd2329828f": {
      "model_module": "@jupyter-widgets/base",
      "model_module_version": "2.0.0",
      "model_name": "LayoutModel",
      "state": {
       "padding": "0px 3px 0px 0px",
       "width": "70px"
      }
     },
     "3a441c28e9034fdb94ac3318050db022": {
      "model_module": "@jupyter-widgets/controls",
      "model_module_version": "2.0.0",
      "model_name": "VBoxModel",
      "state": {
       "_dom_classes": [
        "geemap-light"
       ],
       "children": [
        "IPY_MODEL_7d0fc6a84d04470f9a7d99c7cc919b60",
        "IPY_MODEL_6ef282636c6441f1ae800d67a8efc0de"
       ],
       "layout": "IPY_MODEL_3ddda42a609a4c1796cf9d544ea42a8b"
      }
     },
     "3b9168f9d4b244eca9f5ca3595c60b07": {
      "model_module": "@jupyter-widgets/controls",
      "model_module_version": "2.0.0",
      "model_name": "ButtonStyleModel",
      "state": {
       "font_family": null,
       "font_size": null,
       "font_style": null,
       "font_variant": null,
       "font_weight": null,
       "text_color": null,
       "text_decoration": null
      }
     },
     "3c519bb88f4844348a1e8481088c0af0": {
      "model_module": "@jupyter-widgets/controls",
      "model_module_version": "2.0.0",
      "model_name": "CheckboxStyleModel",
      "state": {
       "description_width": ""
      }
     },
     "3c8589dc55be48eca05e7c6649b203be": {
      "model_module": "@jupyter-widgets/controls",
      "model_module_version": "2.0.0",
      "model_name": "CheckboxStyleModel",
      "state": {
       "description_width": ""
      }
     },
     "3cd84138fdc641c790636b68d2690614": {
      "model_module": "@jupyter-widgets/controls",
      "model_module_version": "2.0.0",
      "model_name": "ButtonStyleModel",
      "state": {
       "font_family": null,
       "font_size": null,
       "font_style": null,
       "font_variant": null,
       "font_weight": null,
       "text_color": null,
       "text_decoration": null
      }
     },
     "3da899444730413cbc72cfac0643c7dc": {
      "model_module": "@jupyter-widgets/controls",
      "model_module_version": "2.0.0",
      "model_name": "CheckboxStyleModel",
      "state": {
       "description_width": ""
      }
     },
     "3db161a452444e67937dff5ab9d3d046": {
      "model_module": "@jupyter-widgets/controls",
      "model_module_version": "2.0.0",
      "model_name": "HBoxModel",
      "state": {
       "children": [
        "IPY_MODEL_59090302591142109a8c067467f61134",
        "IPY_MODEL_0257bc5ee6e14cef809b0ac62e48a74a",
        "IPY_MODEL_9e8d8de4e04d416e94a7c073a7d1c571",
        "IPY_MODEL_91ea03790c6341e19c9ac7124181cbcd"
       ],
       "layout": "IPY_MODEL_d62a52a1ffe74af2af1d21a8af93e7b4"
      }
     },
     "3dd59ec86d3741848652d32ccca03f24": {
      "model_module": "@jupyter-widgets/controls",
      "model_module_version": "2.0.0",
      "model_name": "CheckboxModel",
      "state": {
       "description": "Events Mali",
       "disabled": false,
       "indent": false,
       "layout": "IPY_MODEL_ebd397bbeb7f4d97a0f856dccc4011b5",
       "style": "IPY_MODEL_e640078f1fa544c2a9e558f4d5501935",
       "value": true
      }
     },
     "3ddda42a609a4c1796cf9d544ea42a8b": {
      "model_module": "@jupyter-widgets/base",
      "model_module_version": "2.0.0",
      "model_name": "LayoutModel",
      "state": {}
     },
     "3e18f91df7f743909ed4b57cea50ae1c": {
      "model_module": "@jupyter-widgets/controls",
      "model_module_version": "2.0.0",
      "model_name": "ButtonModel",
      "state": {
       "button_style": "primary",
       "icon": "times",
       "layout": "IPY_MODEL_513cfe2c911f4a10a710685e639c713b",
       "style": "IPY_MODEL_bf9edb8f4c65498a85fb94910cdcdff4",
       "tooltip": "Close the tool"
      }
     },
     "3ec35f3427e24681b23f39bc00ff09b9": {
      "model_module": "@jupyter-widgets/controls",
      "model_module_version": "2.0.0",
      "model_name": "SliderStyleModel",
      "state": {
       "description_width": ""
      }
     },
     "3f0b3ccad68942f48332c3b331be269d": {
      "model_module": "@jupyter-widgets/controls",
      "model_module_version": "2.0.0",
      "model_name": "ButtonStyleModel",
      "state": {
       "font_family": null,
       "font_size": null,
       "font_style": null,
       "font_variant": null,
       "font_weight": null,
       "text_color": null,
       "text_decoration": null
      }
     },
     "3f3d4c4919584454a9b5364261daf3ff": {
      "model_module": "@jupyter-widgets/base",
      "model_module_version": "2.0.0",
      "model_name": "LayoutModel",
      "state": {
       "height": "25px",
       "padding": "0px",
       "width": "25px"
      }
     },
     "3f44a27a2e7d44d7a142be89b32e2c07": {
      "model_module": "@jupyter-widgets/controls",
      "model_module_version": "2.0.0",
      "model_name": "HTMLModel",
      "state": {
       "layout": "IPY_MODEL_f4ae9256828f4035b0db8bb07f1d632a",
       "style": "IPY_MODEL_0364ffdc1d0545768276c8bf0e0166e5"
      }
     },
     "4060e79f801044658d687a182aeaab41": {
      "model_module": "@jupyter-widgets/base",
      "model_module_version": "2.0.0",
      "model_name": "LayoutModel",
      "state": {
       "height": "18px",
       "width": "140px"
      }
     },
     "41778bda6160474d9b8cd755986c8a63": {
      "model_module": "@jupyter-widgets/base",
      "model_module_version": "2.0.0",
      "model_name": "LayoutModel",
      "state": {
       "height": "18px",
       "padding": "0px 4px 25px 4px",
       "width": "30ex"
      }
     },
     "419807b726674aa8b860470046f9a964": {
      "model_module": "ipyevents",
      "model_module_version": "2.0.2",
      "model_name": "EventModel",
      "state": {
       "_supported_key_events": [
        "keydown",
        "keyup"
       ],
       "_supported_mouse_events": [
        "click",
        "auxclick",
        "dblclick",
        "mouseenter",
        "mouseleave",
        "mousedown",
        "mouseup",
        "mousemove",
        "wheel",
        "contextmenu",
        "dragstart",
        "drag",
        "dragend",
        "dragenter",
        "dragover",
        "dragleave",
        "drop"
       ],
       "_supported_touch_events": [
        "touchstart",
        "touchend",
        "touchmove",
        "touchcancel"
       ],
       "_view_module": "@jupyter-widgets/controls",
       "source": "IPY_MODEL_019d12269ea343f986aa433852648a78",
       "throttle_or_debounce": "",
       "watched_events": [
        "mouseenter",
        "mouseleave"
       ],
       "xy_coordinate_system": ""
      }
     },
     "42a195d823714a5bbd3657e92c37999c": {
      "model_module": "@jupyter-widgets/base",
      "model_module_version": "2.0.0",
      "model_name": "LayoutModel",
      "state": {
       "height": "28px",
       "padding": "0px 0px 0px 4px",
       "width": "28px"
      }
     },
     "4485a76e89d2442f8089c4598f47cee9": {
      "model_module": "@jupyter-widgets/controls",
      "model_module_version": "2.0.0",
      "model_name": "ButtonStyleModel",
      "state": {
       "font_family": null,
       "font_size": null,
       "font_style": null,
       "font_variant": null,
       "font_weight": null,
       "text_color": null,
       "text_decoration": null
      }
     },
     "44ba42fb2c964653a15c3ca32aee68cd": {
      "model_module": "@jupyter-widgets/controls",
      "model_module_version": "2.0.0",
      "model_name": "HBoxModel",
      "state": {
       "children": [
        "IPY_MODEL_7cd619abd8a44d25bad60c74c8223ae4",
        "IPY_MODEL_176d336ab833461d9625f8ee710491ab",
        "IPY_MODEL_45ac6f2c21464049a07ebf819e5216b3",
        "IPY_MODEL_47ee18b32e04475a845d75a584d31728"
       ],
       "layout": "IPY_MODEL_60a520e8683f4812803a0e04f2f0f1c4"
      }
     },
     "4512841715c949778620e73b71f955b7": {
      "model_module": "@jupyter-widgets/controls",
      "model_module_version": "2.0.0",
      "model_name": "ToggleButtonStyleModel",
      "state": {
       "description_width": "",
       "font_family": null,
       "font_size": null,
       "font_style": null,
       "font_variant": null,
       "font_weight": null,
       "text_color": null,
       "text_decoration": null
      }
     },
     "45301163c8de455b8425fc1fe2b8fafd": {
      "model_module": "ipyevents",
      "model_module_version": "2.0.2",
      "model_name": "EventModel",
      "state": {
       "_supported_key_events": [
        "keydown",
        "keyup"
       ],
       "_supported_mouse_events": [
        "click",
        "auxclick",
        "dblclick",
        "mouseenter",
        "mouseleave",
        "mousedown",
        "mouseup",
        "mousemove",
        "wheel",
        "contextmenu",
        "dragstart",
        "drag",
        "dragend",
        "dragenter",
        "dragover",
        "dragleave",
        "drop"
       ],
       "_supported_touch_events": [
        "touchstart",
        "touchend",
        "touchmove",
        "touchcancel"
       ],
       "_view_module": "@jupyter-widgets/controls",
       "source": "IPY_MODEL_9c9ab825ec384a36b708f611d7ee92fe",
       "throttle_or_debounce": "",
       "watched_events": [
        "mouseenter",
        "mouseleave"
       ],
       "xy_coordinate_system": ""
      }
     },
     "45839cb6895e4381ba71f75017a6ba7a": {
      "model_module": "@jupyter-widgets/base",
      "model_module_version": "2.0.0",
      "model_name": "LayoutModel",
      "state": {
       "padding": "0px 4px 0px 4px"
      }
     },
     "45ac6f2c21464049a07ebf819e5216b3": {
      "model_module": "@jupyter-widgets/controls",
      "model_module_version": "2.0.0",
      "model_name": "ButtonModel",
      "state": {
       "icon": "gear",
       "layout": "IPY_MODEL_03da8d878b744983bf7d33a2d71989e3",
       "style": "IPY_MODEL_76c412d3b709464a85f321fa1ba27d21",
       "tooltip": "Population Mali"
      }
     },
     "45cff2a0712d4eae886cdae519e9e16e": {
      "model_module": "@jupyter-widgets/base",
      "model_module_version": "2.0.0",
      "model_name": "LayoutModel",
      "state": {
       "height": "18px",
       "width": "140px"
      }
     },
     "46af393e617a4345a846d09b6fc529d2": {
      "model_module": "@jupyter-widgets/controls",
      "model_module_version": "2.0.0",
      "model_name": "ButtonModel",
      "state": {
       "_view_count": 2,
       "icon": "times",
       "layout": "IPY_MODEL_2f5dc12d7e1b483fbc1aec3680e370e3",
       "style": "IPY_MODEL_4aac6a11694e428d8e8a278f2f45e6f0",
       "tooltip": "Loaded"
      }
     },
     "471209b2aeb8483491985f9f73975f0e": {
      "model_module": "@jupyter-widgets/controls",
      "model_module_version": "2.0.0",
      "model_name": "ToggleButtonModel",
      "state": {
       "button_style": "primary",
       "icon": "info-circle",
       "layout": "IPY_MODEL_a70f729997984460bc17e3a1caad1c4d",
       "style": "IPY_MODEL_9826f700b2604a7b82ded3eeb2523129",
       "tooltip": "Get COG/STAC pixel value"
      }
     },
     "47ee18b32e04475a845d75a584d31728": {
      "model_module": "@jupyter-widgets/controls",
      "model_module_version": "2.0.0",
      "model_name": "ButtonModel",
      "state": {
       "_view_count": 0,
       "icon": "times",
       "layout": "IPY_MODEL_55693c86d06d490e9aaea04215f0122c",
       "style": "IPY_MODEL_0c80691c28114f84a88f8fee8a0a3d3c",
       "tooltip": "Loaded"
      }
     },
     "485f4e57c7d7448fb9966af6bff91cc2": {
      "model_module": "@jupyter-widgets/controls",
      "model_module_version": "2.0.0",
      "model_name": "CheckboxStyleModel",
      "state": {
       "description_width": ""
      }
     },
     "4889001e085d4f2eb03d3525ee70e6d6": {
      "model_module": "@jupyter-widgets/controls",
      "model_module_version": "2.0.0",
      "model_name": "ButtonStyleModel",
      "state": {
       "font_family": null,
       "font_size": null,
       "font_style": null,
       "font_variant": null,
       "font_weight": null,
       "text_color": null,
       "text_decoration": null
      }
     },
     "495df608de5743a6a5bc8bfef1c9c5df": {
      "model_module": "@jupyter-widgets/base",
      "model_module_version": "2.0.0",
      "model_name": "LayoutModel",
      "state": {
       "height": "18px",
       "width": "140px"
      }
     },
     "49bb78275bcc4c79b03143bf6458865d": {
      "model_module": "ipyevents",
      "model_module_version": "2.0.2",
      "model_name": "EventModel",
      "state": {
       "_supported_key_events": [
        "keydown",
        "keyup"
       ],
       "_supported_mouse_events": [
        "click",
        "auxclick",
        "dblclick",
        "mouseenter",
        "mouseleave",
        "mousedown",
        "mouseup",
        "mousemove",
        "wheel",
        "contextmenu",
        "dragstart",
        "drag",
        "dragend",
        "dragenter",
        "dragover",
        "dragleave",
        "drop"
       ],
       "_supported_touch_events": [
        "touchstart",
        "touchend",
        "touchmove",
        "touchcancel"
       ],
       "_view_module": "@jupyter-widgets/controls",
       "source": "IPY_MODEL_77ed23771b194458ad17189f1b8f30a1",
       "throttle_or_debounce": "",
       "watched_events": [
        "mouseenter",
        "mouseleave"
       ],
       "xy_coordinate_system": ""
      }
     },
     "4aac6a11694e428d8e8a278f2f45e6f0": {
      "model_module": "@jupyter-widgets/controls",
      "model_module_version": "2.0.0",
      "model_name": "ButtonStyleModel",
      "state": {
       "font_family": null,
       "font_size": null,
       "font_style": null,
       "font_variant": null,
       "font_weight": null,
       "text_color": null,
       "text_decoration": null
      }
     },
     "4b59788c57e44ed698919f05e4d89b6d": {
      "model_module": "@jupyter-widgets/controls",
      "model_module_version": "2.0.0",
      "model_name": "CheckboxStyleModel",
      "state": {
       "description_width": ""
      }
     },
     "4b8318d86e464c5bbb2bf440f0fc47f0": {
      "model_module": "@jupyter-widgets/controls",
      "model_module_version": "2.0.0",
      "model_name": "VBoxModel",
      "state": {
       "children": [
        "IPY_MODEL_91682ac4e1a64bd291d5024643ca4ed0",
        "IPY_MODEL_5443a49e506e4631bcf1f533d4d31978",
        "IPY_MODEL_c920f740735e4c7ba6fad57850ce67c3",
        "IPY_MODEL_7bf81cf5f2b74a07a8fcedcd0c9d31af",
        "IPY_MODEL_ca2e9e697b73419a8eed818ec2a10769",
        "IPY_MODEL_5b40d6d83cfe485e90d2e4694c22384a",
        "IPY_MODEL_3db161a452444e67937dff5ab9d3d046",
        "IPY_MODEL_97706e491fc340dfb3058fc0954b6269"
       ],
       "layout": "IPY_MODEL_18fc07d40cea412aa12137cc527ff33e"
      }
     },
     "4bc59839c6bd41788e2966815c780bf5": {
      "model_module": "@jupyter-widgets/base",
      "model_module_version": "2.0.0",
      "model_name": "LayoutModel",
      "state": {
       "height": "auto",
       "padding": "0px 0px 0px 4px",
       "width": "auto"
      }
     },
     "4bcc87e61d914366a666fbfe12f8f6a8": {
      "model_module": "jupyter-leaflet",
      "model_module_version": "^0.19",
      "model_name": "LeafletZoomControlModel",
      "state": {
       "_model_module_version": "^0.19",
       "_view_module_version": "^0.19",
       "options": [
        "position",
        "zoom_in_text",
        "zoom_in_title",
        "zoom_out_text",
        "zoom_out_title"
       ]
      }
     },
     "4c3aa903b20149fab9fb871b32493e69": {
      "model_module": "@jupyter-widgets/base",
      "model_module_version": "2.0.0",
      "model_name": "LayoutModel",
      "state": {
       "height": "18px",
       "width": "140px"
      }
     },
     "4c4e81be7f62425f8f3f3ef93cb8ca5f": {
      "model_module": "@jupyter-widgets/base",
      "model_module_version": "2.0.0",
      "model_name": "LayoutModel",
      "state": {
       "padding": "0px 3px 0px 0px",
       "width": "70px"
      }
     },
     "4c512ebaa9414c158fbb9be4f0b528f0": {
      "model_module": "@jupyter-widgets/base",
      "model_module_version": "2.0.0",
      "model_name": "LayoutModel",
      "state": {
       "padding": "0px 4px 0px 4px"
      }
     },
     "4d551f51314d409f9ef159e38eb03b56": {
      "model_module": "@jupyter-widgets/base",
      "model_module_version": "2.0.0",
      "model_name": "LayoutModel",
      "state": {
       "height": "25px",
       "padding": "0px",
       "width": "25px"
      }
     },
     "4e4ede4f191545dfa920326f88479b57": {
      "model_module": "@jupyter-widgets/base",
      "model_module_version": "2.0.0",
      "model_name": "LayoutModel",
      "state": {
       "height": "25px",
       "padding": "0px",
       "width": "25px"
      }
     },
     "4e5b8de12c4942ffa9a9b134fef91835": {
      "model_module": "@jupyter-widgets/controls",
      "model_module_version": "2.0.0",
      "model_name": "DropdownModel",
      "state": {
       "index": null,
       "layout": "IPY_MODEL_c51dea94eff042a3bdc60c8a383cd659",
       "style": "IPY_MODEL_2b4d6d6d32994ed7956ecea7b181e6a6"
      }
     },
     "50061b483a7c41bf825c0ab0ba27aabe": {
      "model_module": "@jupyter-widgets/base",
      "model_module_version": "2.0.0",
      "model_name": "LayoutModel",
      "state": {
       "height": "18px",
       "width": "140px"
      }
     },
     "509239bfc80346d698b116b8e80ac182": {
      "model_module": "jupyter-leaflet",
      "model_module_version": "^0.19",
      "model_name": "LeafletFullScreenControlModel",
      "state": {
       "_model_module_version": "^0.19",
       "_view_module_version": "^0.19",
       "options": [
        "position"
       ]
      }
     },
     "50d5a1a024e34170b388cfcb68a83384": {
      "model_module": "@jupyter-widgets/controls",
      "model_module_version": "2.0.0",
      "model_name": "CheckboxStyleModel",
      "state": {
       "description_width": ""
      }
     },
     "50fa089412934c7f9338cc524b76bc2e": {
      "model_module": "@jupyter-widgets/controls",
      "model_module_version": "2.0.0",
      "model_name": "ToggleButtonModel",
      "state": {
       "button_style": "primary",
       "icon": "hand-o-up",
       "layout": "IPY_MODEL_98237e0dc00546049205b2344d3aeb7a",
       "style": "IPY_MODEL_71133b668fea4f979326329b7a1f7f59",
       "tooltip": "Collect training samples"
      }
     },
     "513cfe2c911f4a10a710685e639c713b": {
      "model_module": "@jupyter-widgets/base",
      "model_module_version": "2.0.0",
      "model_name": "LayoutModel",
      "state": {
       "height": "28px",
       "padding": "0px",
       "width": "28px"
      }
     },
     "517a7ba6310f4b8d99322d641d37a35c": {
      "model_module": "@jupyter-widgets/controls",
      "model_module_version": "2.0.0",
      "model_name": "ButtonStyleModel",
      "state": {
       "font_family": null,
       "font_size": null,
       "font_style": null,
       "font_variant": null,
       "font_weight": null,
       "text_color": null,
       "text_decoration": null
      }
     },
     "51cb0db3bc9a4ea8b049c824fd2efde2": {
      "model_module": "@jupyter-widgets/base",
      "model_module_version": "2.0.0",
      "model_name": "LayoutModel",
      "state": {
       "height": "25px",
       "padding": "0px",
       "width": "25px"
      }
     },
     "526c823ebb0b46af83096818bec63a91": {
      "model_module": "@jupyter-widgets/base",
      "model_module_version": "2.0.0",
      "model_name": "LayoutModel",
      "state": {
       "height": "25px",
       "padding": "0px",
       "width": "25px"
      }
     },
     "52cf42816183481fb74cf4271a762089": {
      "model_module": "ipyevents",
      "model_module_version": "2.0.2",
      "model_name": "EventModel",
      "state": {
       "_supported_key_events": [
        "keydown",
        "keyup"
       ],
       "_supported_mouse_events": [
        "click",
        "auxclick",
        "dblclick",
        "mouseenter",
        "mouseleave",
        "mousedown",
        "mouseup",
        "mousemove",
        "wheel",
        "contextmenu",
        "dragstart",
        "drag",
        "dragend",
        "dragenter",
        "dragover",
        "dragleave",
        "drop"
       ],
       "_supported_touch_events": [
        "touchstart",
        "touchend",
        "touchmove",
        "touchcancel"
       ],
       "_view_module": "@jupyter-widgets/controls",
       "source": "IPY_MODEL_1653606916fb42b68c023be97a9a4554",
       "throttle_or_debounce": "",
       "watched_events": [
        "mouseenter",
        "mouseleave"
       ],
       "xy_coordinate_system": ""
      }
     },
     "536ee02e70724bc182c83592e87faa9e": {
      "model_module": "@jupyter-widgets/base",
      "model_module_version": "2.0.0",
      "model_name": "LayoutModel",
      "state": {
       "height": "25px",
       "padding": "0px",
       "width": "25px"
      }
     },
     "53c8ea40fd3d4b1588d66e4755beb8af": {
      "model_module": "@jupyter-widgets/controls",
      "model_module_version": "2.0.0",
      "model_name": "ButtonStyleModel",
      "state": {
       "font_family": null,
       "font_size": null,
       "font_style": null,
       "font_variant": null,
       "font_weight": null,
       "text_color": null,
       "text_decoration": null
      }
     },
     "54369a794a1645dca7fdd5f3a2a88208": {
      "model_module": "@jupyter-widgets/controls",
      "model_module_version": "2.0.0",
      "model_name": "ButtonStyleModel",
      "state": {
       "font_family": null,
       "font_size": null,
       "font_style": null,
       "font_variant": null,
       "font_weight": null,
       "text_color": null,
       "text_decoration": null
      }
     },
     "5443a49e506e4631bcf1f533d4d31978": {
      "model_module": "@jupyter-widgets/controls",
      "model_module_version": "2.0.0",
      "model_name": "HBoxModel",
      "state": {
       "children": [
        "IPY_MODEL_b80f99081b294773a69b0dbc51498b8e",
        "IPY_MODEL_9cee5eca84b2412a817749f5c98caaa5",
        "IPY_MODEL_31fcfd5405414c3f992a37760a92401f",
        "IPY_MODEL_46af393e617a4345a846d09b6fc529d2"
       ],
       "layout": "IPY_MODEL_6051e78fedf24d1b9e736b3a0606b2dd"
      }
     },
     "5452d9231d7649dcaa75be2c2cb41d9c": {
      "model_module": "@jupyter-widgets/controls",
      "model_module_version": "2.0.0",
      "model_name": "FloatSliderModel",
      "state": {
       "behavior": "drag-tap",
       "layout": "IPY_MODEL_e188989db0c7465da2ee5e3047671a94",
       "max": 1,
       "readout": false,
       "step": 0.01,
       "style": "IPY_MODEL_0f07dc46758348f98017ba6e827b5a86",
       "value": 1
      }
     },
     "5491bc9f1cef47d18a2f7683e889ee6b": {
      "model_module": "@jupyter-widgets/base",
      "model_module_version": "2.0.0",
      "model_name": "LayoutModel",
      "state": {
       "height": "18px",
       "width": "140px"
      }
     },
     "54f7c9fbce7a447ea16dd002f64cdada": {
      "model_module": "@jupyter-widgets/base",
      "model_module_version": "2.0.0",
      "model_name": "LayoutModel",
      "state": {
       "padding": "0px 3px 0px 0px",
       "width": "70px"
      }
     },
     "550baab157b54757985214822d446571": {
      "model_module": "jupyter-leaflet",
      "model_module_version": "^0.19",
      "model_name": "LeafletTileLayerModel",
      "state": {
       "_model_module_version": "^0.19",
       "_view_module_version": "^0.19",
       "attribution": "Google Earth Engine",
       "max_zoom": 24,
       "name": "Events Mali",
       "options": [
        "attribution",
        "bounds",
        "detect_retina",
        "max_native_zoom",
        "max_zoom",
        "min_native_zoom",
        "min_zoom",
        "no_wrap",
        "tile_size",
        "tms",
        "zoom_offset"
       ],
       "url": "https://earthengine.googleapis.com/v1/projects/187773910538/maps/e0bd0df05eae9a8abd052572518c9a0f-f1a7f29de526674b029fa295351629cf/tiles/{z}/{x}/{y}"
      }
     },
     "55693c86d06d490e9aaea04215f0122c": {
      "model_module": "@jupyter-widgets/base",
      "model_module_version": "2.0.0",
      "model_name": "LayoutModel",
      "state": {
       "height": "25px",
       "padding": "0px",
       "width": "25px"
      }
     },
     "559e58be7d0f476da9db2fcae718e28b": {
      "model_module": "@jupyter-widgets/controls",
      "model_module_version": "2.0.0",
      "model_name": "CheckboxStyleModel",
      "state": {
       "description_width": ""
      }
     },
     "55a6933b9aa04805a0fcbb464bd8ca30": {
      "model_module": "@jupyter-widgets/controls",
      "model_module_version": "2.0.0",
      "model_name": "ButtonModel",
      "state": {
       "_view_count": 0,
       "icon": "times",
       "layout": "IPY_MODEL_acce6774ff514990861899c22782de53",
       "style": "IPY_MODEL_d7fcb32e6e374399920c3d6914192701",
       "tooltip": "Loaded"
      }
     },
     "5661f1ef65e64ab0b8b3f7422aa604eb": {
      "model_module": "@jupyter-widgets/base",
      "model_module_version": "2.0.0",
      "model_name": "LayoutModel",
      "state": {
       "height": "25px",
       "padding": "0px",
       "width": "25px"
      }
     },
     "56b0db0a5f9b48fe80c15b148c80dd00": {
      "model_module": "@jupyter-widgets/controls",
      "model_module_version": "2.0.0",
      "model_name": "CheckboxStyleModel",
      "state": {
       "description_width": ""
      }
     },
     "57bdb710b7b64779ab16b9597e3bc8f7": {
      "model_module": "ipyevents",
      "model_module_version": "2.0.2",
      "model_name": "EventModel",
      "state": {
       "_supported_key_events": [
        "keydown",
        "keyup"
       ],
       "_supported_mouse_events": [
        "click",
        "auxclick",
        "dblclick",
        "mouseenter",
        "mouseleave",
        "mousedown",
        "mouseup",
        "mousemove",
        "wheel",
        "contextmenu",
        "dragstart",
        "drag",
        "dragend",
        "dragenter",
        "dragover",
        "dragleave",
        "drop"
       ],
       "_supported_touch_events": [
        "touchstart",
        "touchend",
        "touchmove",
        "touchcancel"
       ],
       "_view_module": "@jupyter-widgets/controls",
       "source": "IPY_MODEL_7c3f6cdc8be54dca8178dbefd49f121a",
       "throttle_or_debounce": "",
       "watched_events": [
        "mouseenter",
        "mouseleave"
       ],
       "xy_coordinate_system": ""
      }
     },
     "59090302591142109a8c067467f61134": {
      "model_module": "@jupyter-widgets/controls",
      "model_module_version": "2.0.0",
      "model_name": "CheckboxModel",
      "state": {
       "description": "Binar Events Mali",
       "disabled": false,
       "indent": false,
       "layout": "IPY_MODEL_fc7c356714d94acf89dcc094811d2a7e",
       "style": "IPY_MODEL_bb39a6f496134ad4b8ee00229f9aadd2",
       "value": true
      }
     },
     "593053e1000a40a7b944f88c98dde154": {
      "model_module": "@jupyter-widgets/base",
      "model_module_version": "2.0.0",
      "model_name": "LayoutModel",
      "state": {
       "padding": "0px 3px 0px 0px",
       "width": "70px"
      }
     },
     "59d0af3e689046c88efd691bc53c3194": {
      "model_module": "@jupyter-widgets/controls",
      "model_module_version": "2.0.0",
      "model_name": "HBoxModel",
      "state": {
       "children": [
        "IPY_MODEL_9c416af49bc243b897abae6bda9b8398",
        "IPY_MODEL_19fb70f667cf48ecb4a7ac591936cc80",
        "IPY_MODEL_ae182e44fa364181af252fa226a17f45",
        "IPY_MODEL_cd932321ac4440899b88fa85ef5f2b99"
       ],
       "layout": "IPY_MODEL_17d4cbfa25d14f6baa0007a400dafa53"
      }
     },
     "5b23f79d0df64a66ae1dee51197422e2": {
      "model_module": "@jupyter-widgets/controls",
      "model_module_version": "2.0.0",
      "model_name": "ToggleButtonModel",
      "state": {
       "icon": "wrench",
       "layout": "IPY_MODEL_31062c62a11648689e1cb8762d37759f",
       "style": "IPY_MODEL_e374e6778c624149a64b009d7f267603",
       "tooltip": "Toolbar"
      }
     },
     "5b40d6d83cfe485e90d2e4694c22384a": {
      "model_module": "@jupyter-widgets/controls",
      "model_module_version": "2.0.0",
      "model_name": "HBoxModel",
      "state": {
       "children": [
        "IPY_MODEL_fe615cd530c04346bcc40517700fcda1",
        "IPY_MODEL_ff8daff5a48d475892d328636144bb5c",
        "IPY_MODEL_263531d636d545d5b747ecfa16a13138",
        "IPY_MODEL_fc9680b313be404bb535d68d6132bc9f"
       ],
       "layout": "IPY_MODEL_d4681e31052c41d3806537ce125ef2a1"
      }
     },
     "5c2346ebcf214af6bbf21b3a88c38efd": {
      "model_module": "@jupyter-widgets/controls",
      "model_module_version": "2.0.0",
      "model_name": "CheckboxModel",
      "state": {
       "description": "OpenStreetMap.Mapnik",
       "disabled": false,
       "indent": false,
       "layout": "IPY_MODEL_de78c0a13172402d930f55167b66e965",
       "style": "IPY_MODEL_c9e0bceae3ae4e48ba65179f8720ea74",
       "value": true
      }
     },
     "5c54c9025eb94deeb1a2c162b3ec56f0": {
      "model_module": "@jupyter-widgets/controls",
      "model_module_version": "2.0.0",
      "model_name": "ButtonStyleModel",
      "state": {
       "font_family": null,
       "font_size": null,
       "font_style": null,
       "font_variant": null,
       "font_weight": null,
       "text_color": null,
       "text_decoration": null
      }
     },
     "5fb3013df52b4f178625221f12044e7b": {
      "model_module": "@jupyter-widgets/base",
      "model_module_version": "2.0.0",
      "model_name": "LayoutModel",
      "state": {
       "height": "18px",
       "padding": "0px 4px 25px 4px",
       "width": "30ex"
      }
     },
     "5ff8e35a51a2422c9bdb1c5cc81a4747": {
      "model_module": "@jupyter-widgets/controls",
      "model_module_version": "2.0.0",
      "model_name": "ButtonModel",
      "state": {
       "icon": "gear",
       "layout": "IPY_MODEL_e2dfb9fb1b62401c93a43efba68102af",
       "style": "IPY_MODEL_b429c895f4be4dcaa4df59b6abdff694",
       "tooltip": "adm1 Mali"
      }
     },
     "600defce5fb44b0f9ba27c991deec855": {
      "model_module": "@jupyter-widgets/base",
      "model_module_version": "2.0.0",
      "model_name": "LayoutModel",
      "state": {
       "padding": "0px 3px 0px 0px",
       "width": "70px"
      }
     },
     "6031dec09cdd4f72938832d8f8da396a": {
      "model_module": "@jupyter-widgets/controls",
      "model_module_version": "2.0.0",
      "model_name": "SliderStyleModel",
      "state": {
       "description_width": ""
      }
     },
     "6051e78fedf24d1b9e736b3a0606b2dd": {
      "model_module": "@jupyter-widgets/base",
      "model_module_version": "2.0.0",
      "model_name": "LayoutModel",
      "state": {
       "padding": "0px 4px 0px 4px"
      }
     },
     "606a11d145fa49b5b674370bcfa0ea75": {
      "model_module": "@jupyter-widgets/controls",
      "model_module_version": "2.0.0",
      "model_name": "ButtonStyleModel",
      "state": {
       "font_family": null,
       "font_size": null,
       "font_style": null,
       "font_variant": null,
       "font_weight": null,
       "text_color": null,
       "text_decoration": null
      }
     },
     "60a520e8683f4812803a0e04f2f0f1c4": {
      "model_module": "@jupyter-widgets/base",
      "model_module_version": "2.0.0",
      "model_name": "LayoutModel",
      "state": {
       "padding": "0px 4px 0px 4px"
      }
     },
     "60e581dee4024736b94f7d02edbcd2e0": {
      "model_module": "@jupyter-widgets/controls",
      "model_module_version": "2.0.0",
      "model_name": "ButtonModel",
      "state": {
       "icon": "gear",
       "layout": "IPY_MODEL_7c8c74cf6e03467888cf831340ca20cb",
       "style": "IPY_MODEL_bd9c204329654e8a874fab63f759df1b",
       "tooltip": "OpenStreetMap.Mapnik"
      }
     },
     "61c19fefd6064405a412cdf8240d8166": {
      "model_module": "ipyevents",
      "model_module_version": "2.0.2",
      "model_name": "EventModel",
      "state": {
       "_supported_key_events": [
        "keydown",
        "keyup"
       ],
       "_supported_mouse_events": [
        "click",
        "auxclick",
        "dblclick",
        "mouseenter",
        "mouseleave",
        "mousedown",
        "mouseup",
        "mousemove",
        "wheel",
        "contextmenu",
        "dragstart",
        "drag",
        "dragend",
        "dragenter",
        "dragover",
        "dragleave",
        "drop"
       ],
       "_supported_touch_events": [
        "touchstart",
        "touchend",
        "touchmove",
        "touchcancel"
       ],
       "_view_module": "@jupyter-widgets/controls",
       "source": "IPY_MODEL_d229293962fa435b8876952de76db125",
       "throttle_or_debounce": "",
       "watched_events": [
        "mouseenter",
        "mouseleave"
       ],
       "xy_coordinate_system": ""
      }
     },
     "6236afc3e59b4ccbbbb41440afd65542": {
      "model_module": "@jupyter-widgets/controls",
      "model_module_version": "2.0.0",
      "model_name": "CheckboxModel",
      "state": {
       "description": "adm2 Mali",
       "disabled": false,
       "indent": false,
       "layout": "IPY_MODEL_50061b483a7c41bf825c0ab0ba27aabe",
       "style": "IPY_MODEL_ca296a66cfbc495da32960b7f69cf928",
       "value": true
      }
     },
     "62718cfe31bc45f39ff94425a25ee9ea": {
      "model_module": "@jupyter-widgets/controls",
      "model_module_version": "2.0.0",
      "model_name": "ButtonStyleModel",
      "state": {
       "font_family": null,
       "font_size": null,
       "font_style": null,
       "font_variant": null,
       "font_weight": null,
       "text_color": null,
       "text_decoration": null
      }
     },
     "63b77bb5fd074d1e8a839a649cd35152": {
      "model_module": "ipyevents",
      "model_module_version": "2.0.2",
      "model_name": "EventModel",
      "state": {
       "_supported_key_events": [
        "keydown",
        "keyup"
       ],
       "_supported_mouse_events": [
        "click",
        "auxclick",
        "dblclick",
        "mouseenter",
        "mouseleave",
        "mousedown",
        "mouseup",
        "mousemove",
        "wheel",
        "contextmenu",
        "dragstart",
        "drag",
        "dragend",
        "dragenter",
        "dragover",
        "dragleave",
        "drop"
       ],
       "_supported_touch_events": [
        "touchstart",
        "touchend",
        "touchmove",
        "touchcancel"
       ],
       "_view_module": "@jupyter-widgets/controls",
       "source": "IPY_MODEL_cd932321ac4440899b88fa85ef5f2b99",
       "throttle_or_debounce": "",
       "watched_events": [
        "mouseenter",
        "mouseleave"
       ],
       "xy_coordinate_system": ""
      }
     },
     "6401306e568746428c2c4f3263be74e2": {
      "model_module": "@jupyter-widgets/controls",
      "model_module_version": "2.0.0",
      "model_name": "FloatSliderModel",
      "state": {
       "behavior": "drag-tap",
       "layout": "IPY_MODEL_cbb807c6199d4ef9bb6640bfaee2dfba",
       "max": 1,
       "readout": false,
       "step": 0.01,
       "style": "IPY_MODEL_6aca5cc752e948cc95b5cb4570f84bea",
       "value": 1
      }
     },
     "646bc5d487ae40539e9c368c4c159249": {
      "model_module": "@jupyter-widgets/controls",
      "model_module_version": "2.0.0",
      "model_name": "ToggleButtonModel",
      "state": {
       "button_style": "primary",
       "icon": "globe",
       "layout": "IPY_MODEL_9f70ccce12a141feaa0cb4d8c6e4fc28",
       "style": "IPY_MODEL_f5fc78075914473691deda8dca74aaf6",
       "tooltip": "Create timelapse"
      }
     },
     "64770d4073c846f4aa332352d34fd4f1": {
      "model_module": "@jupyter-widgets/base",
      "model_module_version": "2.0.0",
      "model_name": "LayoutModel",
      "state": {
       "padding": "0px 3px 0px 0px",
       "width": "70px"
      }
     },
     "64f428c1630c433fb616146773200bf1": {
      "model_module": "ipyevents",
      "model_module_version": "2.0.2",
      "model_name": "EventModel",
      "state": {
       "_supported_key_events": [
        "keydown",
        "keyup"
       ],
       "_supported_mouse_events": [
        "click",
        "auxclick",
        "dblclick",
        "mouseenter",
        "mouseleave",
        "mousedown",
        "mouseup",
        "mousemove",
        "wheel",
        "contextmenu",
        "dragstart",
        "drag",
        "dragend",
        "dragenter",
        "dragover",
        "dragleave",
        "drop"
       ],
       "_supported_touch_events": [
        "touchstart",
        "touchend",
        "touchmove",
        "touchcancel"
       ],
       "_view_module": "@jupyter-widgets/controls",
       "source": "IPY_MODEL_13668ede3f474491a0121efba4eef215",
       "throttle_or_debounce": "",
       "watched_events": [
        "mouseenter",
        "mouseleave"
       ],
       "xy_coordinate_system": ""
      }
     },
     "64fd62ec1ca044f3a34931f607391df9": {
      "model_module": "@jupyter-widgets/base",
      "model_module_version": "2.0.0",
      "model_name": "LayoutModel",
      "state": {
       "height": "25px",
       "padding": "0px",
       "width": "25px"
      }
     },
     "6621fa8814654f7e9d385920b55ad724": {
      "model_module": "@jupyter-widgets/controls",
      "model_module_version": "2.0.0",
      "model_name": "CheckboxStyleModel",
      "state": {
       "description_width": ""
      }
     },
     "66edca4e5ee14dfda3d79ba2a25591c7": {
      "model_module": "@jupyter-widgets/base",
      "model_module_version": "2.0.0",
      "model_name": "LayoutModel",
      "state": {
       "height": "25px",
       "padding": "0px",
       "width": "25px"
      }
     },
     "66ff82fd812f49a6afe425c46d6aa44c": {
      "model_module": "@jupyter-widgets/controls",
      "model_module_version": "2.0.0",
      "model_name": "SliderStyleModel",
      "state": {
       "description_width": ""
      }
     },
     "6760f219e1274c4f9aeb59d27be5783b": {
      "model_module": "@jupyter-widgets/controls",
      "model_module_version": "2.0.0",
      "model_name": "FloatSliderModel",
      "state": {
       "behavior": "drag-tap",
       "layout": "IPY_MODEL_4c4e81be7f62425f8f3f3ef93cb8ca5f",
       "max": 1,
       "readout": false,
       "step": 0.01,
       "style": "IPY_MODEL_eb3abdb835cb415796ea7c371d082d84",
       "value": 1
      }
     },
     "67c61014ad5242d694e938d37c656971": {
      "model_module": "@jupyter-widgets/controls",
      "model_module_version": "2.0.0",
      "model_name": "FloatSliderModel",
      "state": {
       "behavior": "drag-tap",
       "layout": "IPY_MODEL_600defce5fb44b0f9ba27c991deec855",
       "max": 1,
       "readout": false,
       "step": 0.01,
       "style": "IPY_MODEL_0a6b031b014140f4ae1f54902cc58f24",
       "value": 1
      }
     },
     "68184aeecb3b4a73b8139cf3f6c82557": {
      "model_module": "@jupyter-widgets/controls",
      "model_module_version": "2.0.0",
      "model_name": "FloatSliderModel",
      "state": {
       "behavior": "drag-tap",
       "layout": "IPY_MODEL_ce857114614341f88e5f382f8635888e",
       "max": 1,
       "readout": false,
       "step": 0.01,
       "style": "IPY_MODEL_6031dec09cdd4f72938832d8f8da396a",
       "value": 1
      }
     },
     "6884cca12e7d47448b196f81cf775fdf": {
      "model_module": "@jupyter-widgets/controls",
      "model_module_version": "2.0.0",
      "model_name": "ToggleButtonStyleModel",
      "state": {
       "description_width": "",
       "font_family": null,
       "font_size": null,
       "font_style": null,
       "font_variant": null,
       "font_weight": null,
       "text_color": null,
       "text_decoration": null
      }
     },
     "6a8e96f818974ca0af88071e63a6ac0d": {
      "model_module": "jupyter-leaflet",
      "model_module_version": "^0.19",
      "model_name": "LeafletScaleControlModel",
      "state": {
       "_model_module_version": "^0.19",
       "_view_module_version": "^0.19",
       "imperial": true,
       "max_width": 100,
       "metric": true,
       "options": [
        "imperial",
        "max_width",
        "metric",
        "position",
        "update_when_idle"
       ],
       "position": "bottomleft",
       "update_when_idle": false
      }
     },
     "6ab67566df5d4474a0d64d33f7de79d4": {
      "model_module": "@jupyter-widgets/base",
      "model_module_version": "2.0.0",
      "model_name": "LayoutModel",
      "state": {
       "padding": "0px 3px 0px 0px",
       "width": "70px"
      }
     },
     "6aca5cc752e948cc95b5cb4570f84bea": {
      "model_module": "@jupyter-widgets/controls",
      "model_module_version": "2.0.0",
      "model_name": "SliderStyleModel",
      "state": {
       "description_width": ""
      }
     },
     "6cc84f4931254a94b751f79d9c378609": {
      "model_module": "@jupyter-widgets/controls",
      "model_module_version": "2.0.0",
      "model_name": "ButtonStyleModel",
      "state": {
       "font_family": null,
       "font_size": null,
       "font_style": null,
       "font_variant": null,
       "font_weight": null,
       "text_color": null,
       "text_decoration": null
      }
     },
     "6cfc0e90315f4671bebc005f8ffe4ee8": {
      "model_module": "@jupyter-widgets/base",
      "model_module_version": "2.0.0",
      "model_name": "LayoutModel",
      "state": {
       "padding": "0px 3px 0px 0px",
       "width": "70px"
      }
     },
     "6ea593dd3ae949399f5f30e067f27ab9": {
      "model_module": "@jupyter-widgets/controls",
      "model_module_version": "2.0.0",
      "model_name": "HBoxModel",
      "state": {
       "children": [
        "IPY_MODEL_ed52927a582842b5a355820620ef0b45",
        "IPY_MODEL_f3636e09dc114c40b46f116522d16123",
        "IPY_MODEL_0d33ab44c265442ca48a66f62f551735",
        "IPY_MODEL_77ed23771b194458ad17189f1b8f30a1"
       ],
       "layout": "IPY_MODEL_24d4af389b034b25906733f7af053163"
      }
     },
     "6ebe46d8f1894bf59f014b58b3068553": {
      "model_module": "@jupyter-widgets/controls",
      "model_module_version": "2.0.0",
      "model_name": "ButtonStyleModel",
      "state": {
       "font_family": null,
       "font_size": null,
       "font_style": null,
       "font_variant": null,
       "font_weight": null,
       "text_color": null,
       "text_decoration": null
      }
     },
     "6ed0e7e54b594e6f838a9806c2e57563": {
      "model_module": "@jupyter-widgets/base",
      "model_module_version": "2.0.0",
      "model_name": "LayoutModel",
      "state": {
       "height": "18px",
       "padding": "0px 4px 25px 4px",
       "width": "30ex"
      }
     },
     "6edcfff3e06a4d12bade80aec726a204": {
      "model_module": "@jupyter-widgets/base",
      "model_module_version": "2.0.0",
      "model_name": "LayoutModel",
      "state": {
       "padding": "0px 4px 0px 4px"
      }
     },
     "6ef282636c6441f1ae800d67a8efc0de": {
      "model_module": "@jupyter-widgets/controls",
      "model_module_version": "2.0.0",
      "model_name": "VBoxModel",
      "state": {
       "children": [
        "IPY_MODEL_042e3822a1f348a389510163ac63a860"
       ],
       "layout": "IPY_MODEL_7ca21bdf30a84c24a35c9775e871d20b"
      }
     },
     "6fb76805d59b4373ae7d5b9a430bb33f": {
      "model_module": "@jupyter-widgets/base",
      "model_module_version": "2.0.0",
      "model_name": "LayoutModel",
      "state": {
       "padding": "0px 4px 0px 4px"
      }
     },
     "6ff0702b448e4f4aab373e2ce548d968": {
      "model_module": "@jupyter-widgets/controls",
      "model_module_version": "2.0.0",
      "model_name": "CheckboxModel",
      "state": {
       "description": "OpenStreetMap.Mapnik",
       "disabled": false,
       "indent": false,
       "layout": "IPY_MODEL_4c3aa903b20149fab9fb871b32493e69",
       "style": "IPY_MODEL_7d7c9792102a4614b740671576966ec3",
       "value": true
      }
     },
     "7057f489e99c4adc9ff50334416854ec": {
      "model_module": "@jupyter-widgets/controls",
      "model_module_version": "2.0.0",
      "model_name": "ButtonModel",
      "state": {
       "icon": "gear",
       "layout": "IPY_MODEL_774b1bd7529c41928d9c64c288d9b128",
       "style": "IPY_MODEL_8fc90b57158b48dfa0c80475116a737f",
       "tooltip": "adm1 Mali"
      }
     },
     "70d56139b4354eaba84817bf8d27ee85": {
      "model_module": "ipyevents",
      "model_module_version": "2.0.2",
      "model_name": "EventModel",
      "state": {
       "_supported_key_events": [
        "keydown",
        "keyup"
       ],
       "_supported_mouse_events": [
        "click",
        "auxclick",
        "dblclick",
        "mouseenter",
        "mouseleave",
        "mousedown",
        "mouseup",
        "mousemove",
        "wheel",
        "contextmenu",
        "dragstart",
        "drag",
        "dragend",
        "dragenter",
        "dragover",
        "dragleave",
        "drop"
       ],
       "_supported_touch_events": [
        "touchstart",
        "touchend",
        "touchmove",
        "touchcancel"
       ],
       "_view_module": "@jupyter-widgets/controls",
       "source": "IPY_MODEL_a71b825159ca499cbeb067c845fb39ff",
       "throttle_or_debounce": "",
       "watched_events": [
        "mouseenter",
        "mouseleave"
       ],
       "xy_coordinate_system": ""
      }
     },
     "7108a8466b884ab1b05091a0caa55896": {
      "model_module": "@jupyter-widgets/base",
      "model_module_version": "2.0.0",
      "model_name": "LayoutModel",
      "state": {}
     },
     "71133b668fea4f979326329b7a1f7f59": {
      "model_module": "@jupyter-widgets/controls",
      "model_module_version": "2.0.0",
      "model_name": "ToggleButtonStyleModel",
      "state": {
       "description_width": "",
       "font_family": null,
       "font_size": null,
       "font_style": null,
       "font_variant": null,
       "font_weight": null,
       "text_color": null,
       "text_decoration": null
      }
     },
     "716a7244dc3a405f822a4df0a0c0ecfa": {
      "model_module": "@jupyter-widgets/controls",
      "model_module_version": "2.0.0",
      "model_name": "ButtonModel",
      "state": {
       "_view_count": 2,
       "icon": "times",
       "layout": "IPY_MODEL_9b52b57e1c8445e0b4bdc420d6edd625",
       "style": "IPY_MODEL_872638bcc9964a19b1c83ed12b2b12de",
       "tooltip": "Loaded"
      }
     },
     "71dde1312a5a434d95e06d753a497795": {
      "model_module": "@jupyter-widgets/controls",
      "model_module_version": "2.0.0",
      "model_name": "ButtonModel",
      "state": {
       "_view_count": 0,
       "icon": "times",
       "layout": "IPY_MODEL_2ec83414e02847649446e6d6415ec7b3",
       "style": "IPY_MODEL_92c04319f0ba420184eb84ba544925a7",
       "tooltip": "Loaded"
      }
     },
     "71f4064520eb4584b7d728cb8adb495b": {
      "model_module": "@jupyter-widgets/base",
      "model_module_version": "2.0.0",
      "model_name": "LayoutModel",
      "state": {
       "max_width": "57px",
       "min_width": "57px"
      }
     },
     "7207eea768c64a92a4d5df5dd6e423c6": {
      "model_module": "ipyevents",
      "model_module_version": "2.0.2",
      "model_name": "EventModel",
      "state": {
       "_supported_key_events": [
        "keydown",
        "keyup"
       ],
       "_supported_mouse_events": [
        "click",
        "auxclick",
        "dblclick",
        "mouseenter",
        "mouseleave",
        "mousedown",
        "mouseup",
        "mousemove",
        "wheel",
        "contextmenu",
        "dragstart",
        "drag",
        "dragend",
        "dragenter",
        "dragover",
        "dragleave",
        "drop"
       ],
       "_supported_touch_events": [
        "touchstart",
        "touchend",
        "touchmove",
        "touchcancel"
       ],
       "_view_module": "@jupyter-widgets/controls",
       "source": "IPY_MODEL_2614958e1759462c9ba95146f269b330",
       "throttle_or_debounce": "",
       "watched_events": [
        "mouseenter",
        "mouseleave"
       ],
       "xy_coordinate_system": ""
      }
     },
     "7504de408fb649bdb9757932ddc357bb": {
      "model_module": "@jupyter-widgets/base",
      "model_module_version": "2.0.0",
      "model_name": "LayoutModel",
      "state": {
       "max_height": "350px",
       "max_width": "340px",
       "overflow": "scroll"
      }
     },
     "75fde512ad1142778c645d72c90cf578": {
      "model_module": "@jupyter-widgets/base",
      "model_module_version": "2.0.0",
      "model_name": "LayoutModel",
      "state": {
       "padding": "0px 3px 0px 0px",
       "width": "70px"
      }
     },
     "760105b285cd4e10b594536d7e0bcfc0": {
      "model_module": "@jupyter-widgets/controls",
      "model_module_version": "2.0.0",
      "model_name": "ButtonStyleModel",
      "state": {
       "font_family": null,
       "font_size": null,
       "font_style": null,
       "font_variant": null,
       "font_weight": null,
       "text_color": null,
       "text_decoration": null
      }
     },
     "76c3092988b043a5895834393278dbe5": {
      "model_module": "@jupyter-widgets/controls",
      "model_module_version": "2.0.0",
      "model_name": "CheckboxStyleModel",
      "state": {
       "description_width": ""
      }
     },
     "76c412d3b709464a85f321fa1ba27d21": {
      "model_module": "@jupyter-widgets/controls",
      "model_module_version": "2.0.0",
      "model_name": "ButtonStyleModel",
      "state": {
       "font_family": null,
       "font_size": null,
       "font_style": null,
       "font_variant": null,
       "font_weight": null,
       "text_color": null,
       "text_decoration": null
      }
     },
     "770507eb9a50496b92438e6f8044223e": {
      "model_module": "@jupyter-widgets/base",
      "model_module_version": "2.0.0",
      "model_name": "LayoutModel",
      "state": {
       "height": "18px",
       "width": "140px"
      }
     },
     "774b1bd7529c41928d9c64c288d9b128": {
      "model_module": "@jupyter-widgets/base",
      "model_module_version": "2.0.0",
      "model_name": "LayoutModel",
      "state": {
       "height": "25px",
       "padding": "0px",
       "width": "25px"
      }
     },
     "77ed23771b194458ad17189f1b8f30a1": {
      "model_module": "@jupyter-widgets/controls",
      "model_module_version": "2.0.0",
      "model_name": "ButtonModel",
      "state": {
       "_view_count": 0,
       "icon": "times",
       "layout": "IPY_MODEL_d826b37a68224372bace170679ed33be",
       "style": "IPY_MODEL_4889001e085d4f2eb03d3525ee70e6d6",
       "tooltip": "Loaded"
      }
     },
     "788a5803423a4431aaef043176ca2f6f": {
      "model_module": "@jupyter-widgets/base",
      "model_module_version": "2.0.0",
      "model_name": "LayoutModel",
      "state": {
       "padding": "0px 4px 0px 4px"
      }
     },
     "78fd846ec5564e239654dbec852af7c7": {
      "model_module": "@jupyter-widgets/base",
      "model_module_version": "2.0.0",
      "model_name": "LayoutModel",
      "state": {
       "height": "25px",
       "padding": "0px",
       "width": "25px"
      }
     },
     "7a3245ad74a54adfad89c8668027cfa6": {
      "model_module": "@jupyter-widgets/controls",
      "model_module_version": "2.0.0",
      "model_name": "ToggleButtonStyleModel",
      "state": {
       "description_width": "",
       "font_family": null,
       "font_size": null,
       "font_style": null,
       "font_variant": null,
       "font_weight": null,
       "text_color": null,
       "text_decoration": null
      }
     },
     "7a58ff94fd2b4cb3bf7ad192669c7d9b": {
      "model_module": "@jupyter-widgets/base",
      "model_module_version": "2.0.0",
      "model_name": "LayoutModel",
      "state": {
       "height": "25px",
       "padding": "0px",
       "width": "25px"
      }
     },
     "7b2c4b37ed114a8a97c5313949d302ae": {
      "model_module": "@jupyter-widgets/base",
      "model_module_version": "2.0.0",
      "model_name": "LayoutModel",
      "state": {
       "height": "25px",
       "padding": "0px",
       "width": "25px"
      }
     },
     "7b9ea4790bbb45d4adee746b6ab0e48d": {
      "model_module": "@jupyter-widgets/controls",
      "model_module_version": "2.0.0",
      "model_name": "CheckboxModel",
      "state": {
       "description": "All layers on/off",
       "disabled": false,
       "indent": false,
       "layout": "IPY_MODEL_361fc87a0e9642d7b55c9acfc0d7f347",
       "style": "IPY_MODEL_e23e7a5509544318b52c28cbcf4f4dee",
       "value": false
      }
     },
     "7bf81cf5f2b74a07a8fcedcd0c9d31af": {
      "model_module": "@jupyter-widgets/controls",
      "model_module_version": "2.0.0",
      "model_name": "HBoxModel",
      "state": {
       "children": [
        "IPY_MODEL_9bbc6b130e344c74b5ed0c6e8234c5f3",
        "IPY_MODEL_f41fa8e63fd645f5a4eeb4c5b43948dd",
        "IPY_MODEL_a8b755cb5c474a58abeacfa8830b9b73",
        "IPY_MODEL_13668ede3f474491a0121efba4eef215"
       ],
       "layout": "IPY_MODEL_6fb76805d59b4373ae7d5b9a430bb33f"
      }
     },
     "7bfc96cc270f4d57b34042eb3e6a5f8a": {
      "model_module": "@jupyter-widgets/controls",
      "model_module_version": "2.0.0",
      "model_name": "ButtonModel",
      "state": {
       "icon": "gear",
       "layout": "IPY_MODEL_27832086f0db44caa5806cdad5a10a4c",
       "style": "IPY_MODEL_29e557254ad74d78a5bfedaf1a7a7fa9",
       "tooltip": "adm1 Mali"
      }
     },
     "7c3f6cdc8be54dca8178dbefd49f121a": {
      "model_module": "@jupyter-widgets/controls",
      "model_module_version": "2.0.0",
      "model_name": "ButtonModel",
      "state": {
       "_view_count": 0,
       "icon": "times",
       "layout": "IPY_MODEL_83d7162e7f734e209edcedcd93f477f6",
       "style": "IPY_MODEL_1616cba4e518410dace1f6a2cda2578b",
       "tooltip": "Loaded"
      }
     },
     "7c7413e6e5fa442287254ef9d4f9b6b1": {
      "model_module": "@jupyter-widgets/controls",
      "model_module_version": "2.0.0",
      "model_name": "ToggleButtonsModel",
      "state": {
       "_options_labels": [
        "name/address",
        "lat-lon",
        "data"
       ],
       "button_style": "",
       "icons": [],
       "index": 0,
       "layout": "IPY_MODEL_ba8eac5a4b7c4daeb3144231343c8388",
       "style": "IPY_MODEL_96c9cb067dec45f3ab8f34633d5c94b9",
       "tooltips": [
        "Search by place name or address",
        "Search by lat-lon coordinates",
        "Search Earth Engine data catalog"
       ]
      }
     },
     "7c8c74cf6e03467888cf831340ca20cb": {
      "model_module": "@jupyter-widgets/base",
      "model_module_version": "2.0.0",
      "model_name": "LayoutModel",
      "state": {
       "height": "25px",
       "padding": "0px",
       "width": "25px"
      }
     },
     "7ca21bdf30a84c24a35c9775e871d20b": {
      "model_module": "@jupyter-widgets/base",
      "model_module_version": "2.0.0",
      "model_name": "LayoutModel",
      "state": {}
     },
     "7cd619abd8a44d25bad60c74c8223ae4": {
      "model_module": "@jupyter-widgets/controls",
      "model_module_version": "2.0.0",
      "model_name": "CheckboxModel",
      "state": {
       "description": "Population Mali",
       "disabled": false,
       "indent": false,
       "layout": "IPY_MODEL_45cff2a0712d4eae886cdae519e9e16e",
       "style": "IPY_MODEL_213fa7bf495c4c0882b67a0d3a06fd35",
       "value": true
      }
     },
     "7d0fc6a84d04470f9a7d99c7cc919b60": {
      "model_module": "@jupyter-widgets/controls",
      "model_module_version": "2.0.0",
      "model_name": "HBoxModel",
      "state": {
       "children": [
        "IPY_MODEL_d5eecdfba5a54abaa95c954f4303a944",
        "IPY_MODEL_5b23f79d0df64a66ae1dee51197422e2"
       ],
       "layout": "IPY_MODEL_392f41e80cdf43d7b6946204cb135ef9"
      }
     },
     "7d30de20edee464a8f8680fa15908b02": {
      "model_module": "@jupyter-widgets/controls",
      "model_module_version": "2.0.0",
      "model_name": "FloatSliderModel",
      "state": {
       "behavior": "drag-tap",
       "layout": "IPY_MODEL_dca5ae48c8124c1d8aef3068e97dd600",
       "max": 1,
       "readout": false,
       "step": 0.01,
       "style": "IPY_MODEL_94263c5beeba407e9b240435369991eb",
       "value": 1
      }
     },
     "7d7c9792102a4614b740671576966ec3": {
      "model_module": "@jupyter-widgets/controls",
      "model_module_version": "2.0.0",
      "model_name": "CheckboxStyleModel",
      "state": {
       "description_width": ""
      }
     },
     "7d9543b5a5574d2587f92de170ecdeeb": {
      "model_module": "@jupyter-widgets/base",
      "model_module_version": "2.0.0",
      "model_name": "LayoutModel",
      "state": {
       "height": "auto",
       "padding": "0px 0px 0px 4px",
       "width": "auto"
      }
     },
     "7f216501edff449ba0b8bf557eca4823": {
      "model_module": "ipyevents",
      "model_module_version": "2.0.2",
      "model_name": "EventModel",
      "state": {
       "_supported_key_events": [
        "keydown",
        "keyup"
       ],
       "_supported_mouse_events": [
        "click",
        "auxclick",
        "dblclick",
        "mouseenter",
        "mouseleave",
        "mousedown",
        "mouseup",
        "mousemove",
        "wheel",
        "contextmenu",
        "dragstart",
        "drag",
        "dragend",
        "dragenter",
        "dragover",
        "dragleave",
        "drop"
       ],
       "_supported_touch_events": [
        "touchstart",
        "touchend",
        "touchmove",
        "touchcancel"
       ],
       "_view_module": "@jupyter-widgets/controls",
       "source": "IPY_MODEL_716a7244dc3a405f822a4df0a0c0ecfa",
       "throttle_or_debounce": "",
       "watched_events": [
        "mouseenter",
        "mouseleave"
       ],
       "xy_coordinate_system": ""
      }
     },
     "7f2f496dd8ee423e889bd2ada7e2c144": {
      "model_module": "@jupyter-widgets/controls",
      "model_module_version": "2.0.0",
      "model_name": "CheckboxStyleModel",
      "state": {
       "description_width": ""
      }
     },
     "7f83a48d7b584f1eb9b99fc10784a771": {
      "model_module": "@jupyter-widgets/controls",
      "model_module_version": "2.0.0",
      "model_name": "CheckboxModel",
      "state": {
       "description": "Binar Events Mali",
       "disabled": false,
       "indent": false,
       "layout": "IPY_MODEL_d2991ae74f77436c964a7e1edbd9360d",
       "style": "IPY_MODEL_e3278a9b0b564b139d56a21f56602bb1",
       "value": true
      }
     },
     "7fdddeeecfdd44fc86b4b4fcdfdc60fe": {
      "model_module": "@jupyter-widgets/base",
      "model_module_version": "2.0.0",
      "model_name": "LayoutModel",
      "state": {
       "height": "25px",
       "padding": "0px",
       "width": "25px"
      }
     },
     "803d3db6240c436d84f71425641c7447": {
      "model_module": "@jupyter-widgets/base",
      "model_module_version": "2.0.0",
      "model_name": "LayoutModel",
      "state": {
       "padding": "0px 4px 0px 4px"
      }
     },
     "806b5a32287040b1a5ec1e819e9a8581": {
      "model_module": "@jupyter-widgets/controls",
      "model_module_version": "2.0.0",
      "model_name": "HBoxModel",
      "state": {
       "children": [
        "IPY_MODEL_3dd59ec86d3741848652d32ccca03f24",
        "IPY_MODEL_94dfc28d6bb440f1bb9b5726d35b7100",
        "IPY_MODEL_827d7300da79406da1f6cf23ebdec734",
        "IPY_MODEL_1c88fed7a6b34f2989ace5381fdce7bf"
       ],
       "layout": "IPY_MODEL_b08137e42a1d4f0096c55f616bc1cf2e"
      }
     },
     "814710cfe3194f4bac55539699f6b4e8": {
      "model_module": "@jupyter-widgets/controls",
      "model_module_version": "2.0.0",
      "model_name": "ToggleButtonStyleModel",
      "state": {
       "description_width": "",
       "font_family": null,
       "font_size": null,
       "font_style": null,
       "font_variant": null,
       "font_weight": null,
       "text_color": null,
       "text_decoration": null
      }
     },
     "827d7300da79406da1f6cf23ebdec734": {
      "model_module": "@jupyter-widgets/controls",
      "model_module_version": "2.0.0",
      "model_name": "ButtonModel",
      "state": {
       "icon": "gear",
       "layout": "IPY_MODEL_66edca4e5ee14dfda3d79ba2a25591c7",
       "style": "IPY_MODEL_cc020a6b270e44ecbb4ee16a624d0c7d",
       "tooltip": "Events Mali"
      }
     },
     "8282ddcfe0f24285a28816d218c08246": {
      "model_module": "@jupyter-widgets/controls",
      "model_module_version": "2.0.0",
      "model_name": "ToggleButtonStyleModel",
      "state": {
       "description_width": "",
       "font_family": null,
       "font_size": null,
       "font_style": null,
       "font_variant": null,
       "font_weight": null,
       "text_color": null,
       "text_decoration": null
      }
     },
     "82b69fbfea284f7094b2d488fd5762c9": {
      "model_module": "@jupyter-widgets/base",
      "model_module_version": "2.0.0",
      "model_name": "LayoutModel",
      "state": {
       "padding": "0px 3px 0px 0px",
       "width": "70px"
      }
     },
     "83410250676c439189cc1ec6fe260a63": {
      "model_module": "@jupyter-widgets/controls",
      "model_module_version": "2.0.0",
      "model_name": "ButtonModel",
      "state": {
       "_view_count": 2,
       "icon": "times",
       "layout": "IPY_MODEL_0d53a845711c4c4785304fffaba4b234",
       "style": "IPY_MODEL_37a4a622e21141619f5b8f1845444c5f",
       "tooltip": "Loaded"
      }
     },
     "83d7162e7f734e209edcedcd93f477f6": {
      "model_module": "@jupyter-widgets/base",
      "model_module_version": "2.0.0",
      "model_name": "LayoutModel",
      "state": {
       "height": "25px",
       "padding": "0px",
       "width": "25px"
      }
     },
     "854eb81cc51e49ebb2ebb6f24c9af5a8": {
      "model_module": "@jupyter-widgets/controls",
      "model_module_version": "2.0.0",
      "model_name": "ToggleButtonModel",
      "state": {
       "button_style": "primary",
       "icon": "line-chart",
       "layout": "IPY_MODEL_9310e39f814547259a6c5eb56044b8e4",
       "style": "IPY_MODEL_94820cc130904ebdb6c78175bd603c61",
       "tooltip": "Creating and plotting transects"
      }
     },
     "8630a4c29c424b319c4fd780d07bae47": {
      "model_module": "@jupyter-widgets/controls",
      "model_module_version": "2.0.0",
      "model_name": "CheckboxModel",
      "state": {
       "description": "OpenStreetMap.Mapnik",
       "disabled": false,
       "indent": false,
       "layout": "IPY_MODEL_cd1255e96b094e11a049c96475832351",
       "style": "IPY_MODEL_c43df56ef973425fb4ae5d9c89fef01d",
       "value": true
      }
     },
     "8686baaf89504905b949b855a9c2ff25": {
      "model_module": "@jupyter-widgets/controls",
      "model_module_version": "2.0.0",
      "model_name": "CheckboxStyleModel",
      "state": {
       "description_width": ""
      }
     },
     "86ebd4d8727d4a55a6f5385844e317c4": {
      "model_module": "@jupyter-widgets/controls",
      "model_module_version": "2.0.0",
      "model_name": "FloatSliderModel",
      "state": {
       "behavior": "drag-tap",
       "layout": "IPY_MODEL_3a11a093a30548628bf824dd2329828f",
       "max": 1,
       "readout": false,
       "step": 0.01,
       "style": "IPY_MODEL_aca333f62ae74b2aa8b7fc060833f2b8",
       "value": 1
      }
     },
     "872638bcc9964a19b1c83ed12b2b12de": {
      "model_module": "@jupyter-widgets/controls",
      "model_module_version": "2.0.0",
      "model_name": "ButtonStyleModel",
      "state": {
       "font_family": null,
       "font_size": null,
       "font_style": null,
       "font_variant": null,
       "font_weight": null,
       "text_color": null,
       "text_decoration": null
      }
     },
     "89a5f235759b426ca99b5ae8203814cd": {
      "model_module": "@jupyter-widgets/base",
      "model_module_version": "2.0.0",
      "model_name": "LayoutModel",
      "state": {
       "height": "25px",
       "padding": "0px",
       "width": "25px"
      }
     },
     "8b55382cbed241e2bb8339cc7d4c6f44": {
      "model_module": "@jupyter-widgets/controls",
      "model_module_version": "2.0.0",
      "model_name": "HBoxModel",
      "state": {
       "children": [
        "IPY_MODEL_afbd1dc9b5394afeac057f42ca95ef66",
        "IPY_MODEL_5452d9231d7649dcaa75be2c2cb41d9c",
        "IPY_MODEL_053facc81fa7484c89a4d1264d077383",
        "IPY_MODEL_c4cca7fc5e524c2e879399e31e5f63f1"
       ],
       "layout": "IPY_MODEL_1cd22d8e4b624594a763253b3bfd54af"
      }
     },
     "8b80a330958445d18bfad4960462384d": {
      "model_module": "@jupyter-widgets/controls",
      "model_module_version": "2.0.0",
      "model_name": "TextStyleModel",
      "state": {
       "description_width": "",
       "font_size": null,
       "text_color": null
      }
     },
     "8bd61415441d413190d7f08fb8fe96e5": {
      "model_module": "@jupyter-widgets/base",
      "model_module_version": "2.0.0",
      "model_name": "LayoutModel",
      "state": {
       "height": "25px",
       "padding": "0px",
       "width": "25px"
      }
     },
     "8c69f0d6237648dfa694871b1bf65046": {
      "model_module": "@jupyter-widgets/base",
      "model_module_version": "2.0.0",
      "model_name": "LayoutModel",
      "state": {
       "height": "18px",
       "width": "140px"
      }
     },
     "8e0ef853d8d44320afb98a25dba909c4": {
      "model_module": "jupyter-leaflet",
      "model_module_version": "^0.19",
      "model_name": "LeafletDrawControlModel",
      "state": {
       "_model_module_version": "^0.19",
       "_view_module_version": "^0.19",
       "marker": {
        "shapeOptions": {
         "color": "#3388ff"
        }
       },
       "options": [
        "position"
       ],
       "polygon": {
        "shapeOptions": {
         "clickable": true,
         "color": "#3388ff",
         "fill": true,
         "fillColor": null,
         "fillOpacity": 0.2,
         "opacity": 0.5,
         "stroke": true,
         "weight": 4
        }
       },
       "polyline": {
        "shapeOptions": {
         "clickable": true,
         "color": "#3388ff",
         "fill": false,
         "opacity": 0.5,
         "stroke": true,
         "weight": 4
        }
       },
       "rectangle": {
        "shapeOptions": {
         "clickable": true,
         "color": "#3388ff",
         "fill": true,
         "fillColor": null,
         "fillOpacity": 0.2,
         "opacity": 0.5,
         "stroke": true,
         "weight": 4
        }
       }
      }
     },
     "8e5e1daba33347d9abede864184e66fd": {
      "model_module": "@jupyter-widgets/controls",
      "model_module_version": "2.0.0",
      "model_name": "ButtonModel",
      "state": {
       "icon": "gear",
       "layout": "IPY_MODEL_dcbf7912593b4862a329ce0a04d38fc5",
       "style": "IPY_MODEL_53c8ea40fd3d4b1588d66e4755beb8af",
       "tooltip": "OpenStreetMap.Mapnik"
      }
     },
     "8e87e0595dbf4fde8a8358267b54f4c5": {
      "model_module": "@jupyter-widgets/base",
      "model_module_version": "2.0.0",
      "model_name": "LayoutModel",
      "state": {
       "height": "25px",
       "padding": "0px",
       "width": "25px"
      }
     },
     "8fc90b57158b48dfa0c80475116a737f": {
      "model_module": "@jupyter-widgets/controls",
      "model_module_version": "2.0.0",
      "model_name": "ButtonStyleModel",
      "state": {
       "font_family": null,
       "font_size": null,
       "font_style": null,
       "font_variant": null,
       "font_weight": null,
       "text_color": null,
       "text_decoration": null
      }
     },
     "9013e30535874c64b80ce71655fa284d": {
      "model_module": "@jupyter-widgets/controls",
      "model_module_version": "2.0.0",
      "model_name": "FloatSliderModel",
      "state": {
       "behavior": "drag-tap",
       "layout": "IPY_MODEL_dc64cc003d7e47cfa4bcca97ee157962",
       "max": 1,
       "readout": false,
       "step": 0.01,
       "style": "IPY_MODEL_9ddb2e9ae81041a0a8fcac278470002a",
       "value": 1
      }
     },
     "903792e445c44560b011f5717cb0d450": {
      "model_module": "@jupyter-widgets/controls",
      "model_module_version": "2.0.0",
      "model_name": "ButtonModel",
      "state": {
       "_view_count": 0,
       "icon": "times",
       "layout": "IPY_MODEL_c89577fd7742490e965c545226f9f484",
       "style": "IPY_MODEL_ea54dfc6165a45749435148d52600800",
       "tooltip": "Loaded"
      }
     },
     "90b4a2931ee848bb941f9c4f46cdfe44": {
      "model_module": "@jupyter-widgets/base",
      "model_module_version": "2.0.0",
      "model_name": "LayoutModel",
      "state": {
       "padding": "0px 4px 0px 4px"
      }
     },
     "913c5178000a43f5b98d02aae284610d": {
      "model_module": "@jupyter-widgets/controls",
      "model_module_version": "2.0.0",
      "model_name": "ButtonStyleModel",
      "state": {
       "font_family": null,
       "font_size": null,
       "font_style": null,
       "font_variant": null,
       "font_weight": null,
       "text_color": null,
       "text_decoration": null
      }
     },
     "91682ac4e1a64bd291d5024643ca4ed0": {
      "model_module": "@jupyter-widgets/controls",
      "model_module_version": "2.0.0",
      "model_name": "CheckboxModel",
      "state": {
       "description": "All layers on/off",
       "disabled": false,
       "indent": false,
       "layout": "IPY_MODEL_da74a3e248274928939aa547e3fa10fe",
       "style": "IPY_MODEL_8686baaf89504905b949b855a9c2ff25",
       "value": false
      }
     },
     "91ae78aa52454374851c47d1f1b196e6": {
      "model_module": "@jupyter-widgets/controls",
      "model_module_version": "2.0.0",
      "model_name": "HBoxModel",
      "state": {
       "children": [
        "IPY_MODEL_eb21ea2d63474c028a73f6842b834a1f",
        "IPY_MODEL_ceb959dc4ef547b4854a069258fc6783",
        "IPY_MODEL_ec1df5bb268f4eeb8a658d2fba28e4a2",
        "IPY_MODEL_55a6933b9aa04805a0fcbb464bd8ca30"
       ],
       "layout": "IPY_MODEL_1d77ae3308e9402aa7cbba2a793f8ce6"
      }
     },
     "91ea03790c6341e19c9ac7124181cbcd": {
      "model_module": "@jupyter-widgets/controls",
      "model_module_version": "2.0.0",
      "model_name": "ButtonModel",
      "state": {
       "_view_count": 2,
       "icon": "times",
       "layout": "IPY_MODEL_5661f1ef65e64ab0b8b3f7422aa604eb",
       "style": "IPY_MODEL_c3af58148b564e93a8f38884d59e2f32",
       "tooltip": "Loaded"
      }
     },
     "92c04319f0ba420184eb84ba544925a7": {
      "model_module": "@jupyter-widgets/controls",
      "model_module_version": "2.0.0",
      "model_name": "ButtonStyleModel",
      "state": {
       "font_family": null,
       "font_size": null,
       "font_style": null,
       "font_variant": null,
       "font_weight": null,
       "text_color": null,
       "text_decoration": null
      }
     },
     "9310e39f814547259a6c5eb56044b8e4": {
      "model_module": "@jupyter-widgets/base",
      "model_module_version": "2.0.0",
      "model_name": "LayoutModel",
      "state": {
       "height": "auto",
       "padding": "0px 0px 0px 4px",
       "width": "auto"
      }
     },
     "93774fe1fc0b41588eb885f2d1590280": {
      "model_module": "@jupyter-widgets/controls",
      "model_module_version": "2.0.0",
      "model_name": "HBoxModel",
      "state": {
       "children": [
        "IPY_MODEL_0211071690db458482a0d8aef342351c",
        "IPY_MODEL_df26e78e5bfe41e58ba7f82ec20a1ef6",
        "IPY_MODEL_34f98efea9534205a71d840a935c50fa",
        "IPY_MODEL_019d12269ea343f986aa433852648a78"
       ],
       "layout": "IPY_MODEL_c40d4f1ba979485bb7117466849b553f"
      }
     },
     "93df5c51d78c4af8a55ec3cd5a99f023": {
      "model_module": "@jupyter-widgets/controls",
      "model_module_version": "2.0.0",
      "model_name": "SliderStyleModel",
      "state": {
       "description_width": ""
      }
     },
     "94263c5beeba407e9b240435369991eb": {
      "model_module": "@jupyter-widgets/controls",
      "model_module_version": "2.0.0",
      "model_name": "SliderStyleModel",
      "state": {
       "description_width": ""
      }
     },
     "94820cc130904ebdb6c78175bd603c61": {
      "model_module": "@jupyter-widgets/controls",
      "model_module_version": "2.0.0",
      "model_name": "ToggleButtonStyleModel",
      "state": {
       "description_width": "",
       "font_family": null,
       "font_size": null,
       "font_style": null,
       "font_variant": null,
       "font_weight": null,
       "text_color": null,
       "text_decoration": null
      }
     },
     "94998b52af4347f7995151640f438a99": {
      "model_module": "@jupyter-widgets/controls",
      "model_module_version": "2.0.0",
      "model_name": "ToggleButtonModel",
      "state": {
       "button_style": "primary",
       "icon": "adjust",
       "layout": "IPY_MODEL_2a49cdc29d57415b953a6c304b59cffb",
       "style": "IPY_MODEL_6884cca12e7d47448b196f81cf775fdf",
       "tooltip": "Planet imagery"
      }
     },
     "94d4aa75eae14b9c8705e110e08af8ec": {
      "model_module": "@jupyter-widgets/controls",
      "model_module_version": "2.0.0",
      "model_name": "CheckboxStyleModel",
      "state": {
       "description_width": ""
      }
     },
     "94dfc28d6bb440f1bb9b5726d35b7100": {
      "model_module": "@jupyter-widgets/controls",
      "model_module_version": "2.0.0",
      "model_name": "FloatSliderModel",
      "state": {
       "behavior": "drag-tap",
       "layout": "IPY_MODEL_2202a12debfd4b7083bc8c9d5385c2fc",
       "max": 1,
       "readout": false,
       "step": 0.01,
       "style": "IPY_MODEL_3917e357b0cd4153b9b34eaa3f9f1e60",
       "value": 1
      }
     },
     "952e2e8d01a54bc082ac420710f8b787": {
      "model_module": "@jupyter-widgets/controls",
      "model_module_version": "2.0.0",
      "model_name": "FloatSliderModel",
      "state": {
       "behavior": "drag-tap",
       "layout": "IPY_MODEL_0ad768bec33c4823bddf6a613d185ec2",
       "max": 1,
       "readout": false,
       "step": 0.01,
       "style": "IPY_MODEL_e5abaa4c3df74ef5b14e9f37ccc5269e",
       "value": 1
      }
     },
     "95e1c4f336ce4d72bdc401a72bc85cee": {
      "model_module": "@jupyter-widgets/base",
      "model_module_version": "2.0.0",
      "model_name": "LayoutModel",
      "state": {
       "height": "auto",
       "padding": "0px 0px 0px 4px",
       "width": "auto"
      }
     },
     "96c9cb067dec45f3ab8f34633d5c94b9": {
      "model_module": "@jupyter-widgets/controls",
      "model_module_version": "2.0.0",
      "model_name": "ToggleButtonsStyleModel",
      "state": {
       "button_width": "110px",
       "description_width": ""
      }
     },
     "972c0f58ff6d4464b50733e4626533f4": {
      "model_module": "@jupyter-widgets/base",
      "model_module_version": "2.0.0",
      "model_name": "LayoutModel",
      "state": {
       "height": "18px",
       "width": "140px"
      }
     },
     "9744dc4b3fa449cc885d2f49fb48a954": {
      "model_module": "@jupyter-widgets/base",
      "model_module_version": "2.0.0",
      "model_name": "LayoutModel",
      "state": {
       "padding": "0px 4px 0px 4px"
      }
     },
     "9749da04a22d471e95a86fb397049f7c": {
      "model_module": "@jupyter-widgets/controls",
      "model_module_version": "2.0.0",
      "model_name": "ButtonModel",
      "state": {
       "_view_count": 0,
       "icon": "times",
       "layout": "IPY_MODEL_a972e105eecf4a00beecd179a5c4c2d6",
       "style": "IPY_MODEL_3876aa97247443d28aa3120ef040eb49",
       "tooltip": "Loaded"
      }
     },
     "97706e491fc340dfb3058fc0954b6269": {
      "model_module": "@jupyter-widgets/controls",
      "model_module_version": "2.0.0",
      "model_name": "HBoxModel",
      "state": {
       "children": [
        "IPY_MODEL_9f32e5d9ac2249cd9b512f8bfd9cbbda",
        "IPY_MODEL_67c61014ad5242d694e938d37c656971",
        "IPY_MODEL_16e3a37b0c8b44c38d82745c873ce6e6",
        "IPY_MODEL_716a7244dc3a405f822a4df0a0c0ecfa"
       ],
       "layout": "IPY_MODEL_da72ebecca5a48efb73d5599a379dc6a"
      }
     },
     "98237e0dc00546049205b2344d3aeb7a": {
      "model_module": "@jupyter-widgets/base",
      "model_module_version": "2.0.0",
      "model_name": "LayoutModel",
      "state": {
       "height": "auto",
       "padding": "0px 0px 0px 4px",
       "width": "auto"
      }
     },
     "9826f700b2604a7b82ded3eeb2523129": {
      "model_module": "@jupyter-widgets/controls",
      "model_module_version": "2.0.0",
      "model_name": "ToggleButtonStyleModel",
      "state": {
       "description_width": "",
       "font_family": null,
       "font_size": null,
       "font_style": null,
       "font_variant": null,
       "font_weight": null,
       "text_color": null,
       "text_decoration": null
      }
     },
     "985f84fd988c490e9c68923a715911eb": {
      "model_module": "@jupyter-widgets/base",
      "model_module_version": "2.0.0",
      "model_name": "LayoutModel",
      "state": {
       "height": "18px",
       "width": "140px"
      }
     },
     "98b95d6f45754be49e939f5ea3339399": {
      "model_module": "@jupyter-widgets/base",
      "model_module_version": "2.0.0",
      "model_name": "LayoutModel",
      "state": {
       "height": "auto",
       "padding": "0px 0px 0px 4px",
       "width": "auto"
      }
     },
     "98fef30e756f41a09e164b14de4ae53d": {
      "model_module": "@jupyter-widgets/controls",
      "model_module_version": "2.0.0",
      "model_name": "FloatSliderModel",
      "state": {
       "behavior": "drag-tap",
       "layout": "IPY_MODEL_593053e1000a40a7b944f88c98dde154",
       "max": 1,
       "readout": false,
       "step": 0.01,
       "style": "IPY_MODEL_28d551b72abf4daeba9f704977654357",
       "value": 1
      }
     },
     "992955ce519143238daceb45677d5cd8": {
      "model_module": "@jupyter-widgets/controls",
      "model_module_version": "2.0.0",
      "model_name": "ToggleButtonModel",
      "state": {
       "button_style": "primary",
       "icon": "folder-open",
       "layout": "IPY_MODEL_98b95d6f45754be49e939f5ea3339399",
       "style": "IPY_MODEL_cd6fcffa0bdb4987acd029316174dd84",
       "tooltip": "Open local vector/raster data"
      }
     },
     "9998cdf0c134445286d360173ebedfdd": {
      "model_module": "@jupyter-widgets/base",
      "model_module_version": "2.0.0",
      "model_name": "LayoutModel",
      "state": {
       "padding": "0px 4px 0px 4px"
      }
     },
     "9a27234b9e814521b33a4acec2faf9c0": {
      "model_module": "@jupyter-widgets/controls",
      "model_module_version": "2.0.0",
      "model_name": "ToggleButtonStyleModel",
      "state": {
       "description_width": "",
       "font_family": null,
       "font_size": null,
       "font_style": null,
       "font_variant": null,
       "font_weight": null,
       "text_color": null,
       "text_decoration": null
      }
     },
     "9ab82d0959de4cf98cb37f2cbb9729f1": {
      "model_module": "@jupyter-widgets/controls",
      "model_module_version": "2.0.0",
      "model_name": "SliderStyleModel",
      "state": {
       "description_width": ""
      }
     },
     "9b30d168c02444218f76863aec90970b": {
      "model_module": "@jupyter-widgets/controls",
      "model_module_version": "2.0.0",
      "model_name": "HBoxModel",
      "state": {
       "_dom_classes": [
        "geemap-light"
       ],
       "_view_count": 2,
       "children": [
        "IPY_MODEL_9b8a0642ce454495b8d78bd0887b53a7"
       ],
       "layout": "IPY_MODEL_069127c377bc4032ab76ea3c644bf277"
      }
     },
     "9b52b57e1c8445e0b4bdc420d6edd625": {
      "model_module": "@jupyter-widgets/base",
      "model_module_version": "2.0.0",
      "model_name": "LayoutModel",
      "state": {
       "height": "25px",
       "padding": "0px",
       "width": "25px"
      }
     },
     "9b8a0642ce454495b8d78bd0887b53a7": {
      "model_module": "@jupyter-widgets/controls",
      "model_module_version": "2.0.0",
      "model_name": "ToggleButtonModel",
      "state": {
       "icon": "globe",
       "layout": "IPY_MODEL_110aca21f539464c85c585b5423f56f3",
       "style": "IPY_MODEL_df6b39ab67ba4562a23537a20e0f4ecb",
       "tooltip": "Search location/data"
      }
     },
     "9b91bb5afc9f4107a1a5f87a1be0a4a1": {
      "model_module": "@jupyter-widgets/controls",
      "model_module_version": "2.0.0",
      "model_name": "CheckboxModel",
      "state": {
       "description": "Population Mali",
       "disabled": false,
       "indent": false,
       "layout": "IPY_MODEL_cf042f7d2ea048c9b7b491916da5d7c1",
       "style": "IPY_MODEL_1d7f9b5da2f64635b652cd1b31850273",
       "value": true
      }
     },
     "9bbc6b130e344c74b5ed0c6e8234c5f3": {
      "model_module": "@jupyter-widgets/controls",
      "model_module_version": "2.0.0",
      "model_name": "CheckboxModel",
      "state": {
       "description": "adm2 Mali",
       "disabled": false,
       "indent": false,
       "layout": "IPY_MODEL_770507eb9a50496b92438e6f8044223e",
       "style": "IPY_MODEL_94d4aa75eae14b9c8705e110e08af8ec",
       "value": true
      }
     },
     "9c416af49bc243b897abae6bda9b8398": {
      "model_module": "@jupyter-widgets/controls",
      "model_module_version": "2.0.0",
      "model_name": "CheckboxModel",
      "state": {
       "description": "adm1 Mali",
       "disabled": false,
       "indent": false,
       "layout": "IPY_MODEL_5491bc9f1cef47d18a2f7683e889ee6b",
       "style": "IPY_MODEL_cad2ff5637e94fd08b62c4fceec370f1",
       "value": true
      }
     },
     "9c574e70852c49319e7e050e107b9f6a": {
      "model_module": "@jupyter-widgets/controls",
      "model_module_version": "2.0.0",
      "model_name": "CheckboxModel",
      "state": {
       "description": "adm1 Mali",
       "disabled": false,
       "indent": false,
       "layout": "IPY_MODEL_1065e4f0954941fabe37c76dd2a33e75",
       "style": "IPY_MODEL_7f2f496dd8ee423e889bd2ada7e2c144",
       "value": true
      }
     },
     "9c9ab825ec384a36b708f611d7ee92fe": {
      "model_module": "@jupyter-widgets/controls",
      "model_module_version": "2.0.0",
      "model_name": "ButtonModel",
      "state": {
       "_view_count": 0,
       "icon": "times",
       "layout": "IPY_MODEL_d57a0f95c9944a6785902b174d983d5b",
       "style": "IPY_MODEL_f39c9add0d7e43bc820c55cb06173717",
       "tooltip": "Loaded"
      }
     },
     "9cee5eca84b2412a817749f5c98caaa5": {
      "model_module": "@jupyter-widgets/controls",
      "model_module_version": "2.0.0",
      "model_name": "FloatSliderModel",
      "state": {
       "behavior": "drag-tap",
       "layout": "IPY_MODEL_e79e4936c3a9410ab6845e4aa1fffff4",
       "max": 1,
       "readout": false,
       "step": 0.01,
       "style": "IPY_MODEL_93df5c51d78c4af8a55ec3cd5a99f023",
       "value": 1
      }
     },
     "9d0dcc4f3e64427093685a733a563850": {
      "model_module": "ipyevents",
      "model_module_version": "2.0.2",
      "model_name": "EventModel",
      "state": {
       "_supported_key_events": [
        "keydown",
        "keyup"
       ],
       "_supported_mouse_events": [
        "click",
        "auxclick",
        "dblclick",
        "mouseenter",
        "mouseleave",
        "mousedown",
        "mouseup",
        "mousemove",
        "wheel",
        "contextmenu",
        "dragstart",
        "drag",
        "dragend",
        "dragenter",
        "dragover",
        "dragleave",
        "drop"
       ],
       "_supported_touch_events": [
        "touchstart",
        "touchend",
        "touchmove",
        "touchcancel"
       ],
       "_view_module": "@jupyter-widgets/controls",
       "source": "IPY_MODEL_903792e445c44560b011f5717cb0d450",
       "throttle_or_debounce": "",
       "watched_events": [
        "mouseenter",
        "mouseleave"
       ],
       "xy_coordinate_system": ""
      }
     },
     "9d7129f1c20b49bab606c3648cb6fd6c": {
      "model_module": "jupyter-leaflet",
      "model_module_version": "^0.19",
      "model_name": "LeafletMapStyleModel",
      "state": {
       "_model_module_version": "^0.19",
       "cursor": "move"
      }
     },
     "9ddb2e9ae81041a0a8fcac278470002a": {
      "model_module": "@jupyter-widgets/controls",
      "model_module_version": "2.0.0",
      "model_name": "SliderStyleModel",
      "state": {
       "description_width": ""
      }
     },
     "9e8d8de4e04d416e94a7c073a7d1c571": {
      "model_module": "@jupyter-widgets/controls",
      "model_module_version": "2.0.0",
      "model_name": "ButtonModel",
      "state": {
       "icon": "gear",
       "layout": "IPY_MODEL_7a58ff94fd2b4cb3bf7ad192669c7d9b",
       "style": "IPY_MODEL_54369a794a1645dca7fdd5f3a2a88208",
       "tooltip": "Binar Events Mali"
      }
     },
     "9f32e5d9ac2249cd9b512f8bfd9cbbda": {
      "model_module": "@jupyter-widgets/controls",
      "model_module_version": "2.0.0",
      "model_name": "CheckboxModel",
      "state": {
       "description": "Binar population Mali",
       "disabled": false,
       "indent": false,
       "layout": "IPY_MODEL_972c0f58ff6d4464b50733e4626533f4",
       "style": "IPY_MODEL_bfcd863db6824c13bcd65b61633aa72e",
       "value": true
      }
     },
     "9f70ccce12a141feaa0cb4d8c6e4fc28": {
      "model_module": "@jupyter-widgets/base",
      "model_module_version": "2.0.0",
      "model_name": "LayoutModel",
      "state": {
       "height": "auto",
       "padding": "0px 0px 0px 4px",
       "width": "auto"
      }
     },
     "a0cccdcda61342b59915617f51d4372c": {
      "model_module": "@jupyter-widgets/controls",
      "model_module_version": "2.0.0",
      "model_name": "ToggleButtonModel",
      "state": {
       "button_style": "primary",
       "icon": "random",
       "layout": "IPY_MODEL_faf2197a51df4c87be25cefb72ff7e06",
       "style": "IPY_MODEL_3352acf2235c43938a0c4e3d296284be",
       "tooltip": "Sankey plots"
      }
     },
     "a1a0fe2fb5b24e31817a1d4ea7e45d14": {
      "model_module": "@jupyter-widgets/controls",
      "model_module_version": "2.0.0",
      "model_name": "ButtonStyleModel",
      "state": {
       "font_family": null,
       "font_size": null,
       "font_style": null,
       "font_variant": null,
       "font_weight": null,
       "text_color": null,
       "text_decoration": null
      }
     },
     "a214be4406964ab78e5c4a723ec5b0c1": {
      "model_module": "@jupyter-widgets/base",
      "model_module_version": "2.0.0",
      "model_name": "LayoutModel",
      "state": {
       "height": "25px",
       "padding": "0px",
       "width": "25px"
      }
     },
     "a2f6321985594b2292e273cde32a1ffa": {
      "model_module": "@jupyter-widgets/controls",
      "model_module_version": "2.0.0",
      "model_name": "ButtonStyleModel",
      "state": {
       "font_family": null,
       "font_size": null,
       "font_style": null,
       "font_variant": null,
       "font_weight": null,
       "text_color": null,
       "text_decoration": null
      }
     },
     "a30309657d074cb28c4c5f909e546863": {
      "model_module": "@jupyter-widgets/controls",
      "model_module_version": "2.0.0",
      "model_name": "ToggleButtonStyleModel",
      "state": {
       "description_width": "",
       "font_family": null,
       "font_size": null,
       "font_style": null,
       "font_variant": null,
       "font_weight": null,
       "text_color": null,
       "text_decoration": null
      }
     },
     "a3687b9c1a774f5289a41ae685c468fe": {
      "model_module": "@jupyter-widgets/base",
      "model_module_version": "2.0.0",
      "model_name": "LayoutModel",
      "state": {
       "padding": "0px 4px 0px 4px"
      }
     },
     "a42e61c26a93435bbe9c74ad81baa8dc": {
      "model_module": "@jupyter-widgets/controls",
      "model_module_version": "2.0.0",
      "model_name": "ToggleButtonModel",
      "state": {
       "button_style": "primary",
       "icon": "map",
       "layout": "IPY_MODEL_95e1c4f336ce4d72bdc401a72bc85cee",
       "style": "IPY_MODEL_d46d7ccea1c34efdbf78ea0870bdfd84",
       "tooltip": "Change basemap"
      }
     },
     "a487253308be4beab2a92fbfd2744580": {
      "model_module": "@jupyter-widgets/controls",
      "model_module_version": "2.0.0",
      "model_name": "HBoxModel",
      "state": {
       "children": [
        "IPY_MODEL_2de3e99d45354d8486fca5c8ef1e4ce9",
        "IPY_MODEL_03d309ea43714d1cac4ba69826ac00d0",
        "IPY_MODEL_ea8d75dbe4034eadadab78b316319791",
        "IPY_MODEL_1653606916fb42b68c023be97a9a4554"
       ],
       "layout": "IPY_MODEL_90b4a2931ee848bb941f9c4f46cdfe44"
      }
     },
     "a5f1e7d2e532460e8b4b1db1f5a9f3ea": {
      "model_module": "@jupyter-widgets/base",
      "model_module_version": "2.0.0",
      "model_name": "LayoutModel",
      "state": {
       "height": "25px",
       "padding": "0px",
       "width": "25px"
      }
     },
     "a62564cc50164c409657fea5e419cd45": {
      "model_module": "@jupyter-widgets/controls",
      "model_module_version": "2.0.0",
      "model_name": "CheckboxStyleModel",
      "state": {
       "description_width": ""
      }
     },
     "a667012006d34c1587e72daad4c12020": {
      "model_module": "@jupyter-widgets/base",
      "model_module_version": "2.0.0",
      "model_name": "LayoutModel",
      "state": {
       "height": "25px",
       "padding": "0px",
       "width": "25px"
      }
     },
     "a681347b3f4e4c0096ecb08bf2fd4c5b": {
      "model_module": "@jupyter-widgets/base",
      "model_module_version": "2.0.0",
      "model_name": "LayoutModel",
      "state": {
       "height": "25px",
       "padding": "0px",
       "width": "25px"
      }
     },
     "a69a899520844a8eb0fea492b1f8bc9e": {
      "model_module": "@jupyter-widgets/controls",
      "model_module_version": "2.0.0",
      "model_name": "SliderStyleModel",
      "state": {
       "description_width": ""
      }
     },
     "a6ed5d153d954b4ab48f11bd1ca907a0": {
      "model_module": "@jupyter-widgets/controls",
      "model_module_version": "2.0.0",
      "model_name": "ButtonStyleModel",
      "state": {
       "font_family": null,
       "font_size": null,
       "font_style": null,
       "font_variant": null,
       "font_weight": null,
       "text_color": null,
       "text_decoration": null
      }
     },
     "a6fc3fad99804484a2be838091559ab2": {
      "model_module": "@jupyter-widgets/base",
      "model_module_version": "2.0.0",
      "model_name": "LayoutModel",
      "state": {
       "height": "18px",
       "width": "140px"
      }
     },
     "a70f729997984460bc17e3a1caad1c4d": {
      "model_module": "@jupyter-widgets/base",
      "model_module_version": "2.0.0",
      "model_name": "LayoutModel",
      "state": {
       "height": "auto",
       "padding": "0px 0px 0px 4px",
       "width": "auto"
      }
     },
     "a71b825159ca499cbeb067c845fb39ff": {
      "model_module": "@jupyter-widgets/controls",
      "model_module_version": "2.0.0",
      "model_name": "ButtonModel",
      "state": {
       "_view_count": 0,
       "icon": "times",
       "layout": "IPY_MODEL_01f6ba23106d4b84aa79de1608644f02",
       "style": "IPY_MODEL_d9dc9d3446784f8f8f3539b1b895d085",
       "tooltip": "Loaded"
      }
     },
     "a72b400d82d34524b89e921c55578954": {
      "model_module": "@jupyter-widgets/controls",
      "model_module_version": "2.0.0",
      "model_name": "HBoxModel",
      "state": {
       "children": [
        "IPY_MODEL_dc8c336b6fb240da827147af9b89d555",
        "IPY_MODEL_6760f219e1274c4f9aeb59d27be5783b",
        "IPY_MODEL_5ff8e35a51a2422c9bdb1c5cc81a4747",
        "IPY_MODEL_c9cc9be26bfe48c9a8c2740cb73df2bd"
       ],
       "layout": "IPY_MODEL_bed8c949f9ba42b58cff7803e8928531"
      }
     },
     "a87559b1036b4604b290791d42b77ad4": {
      "model_module": "@jupyter-widgets/controls",
      "model_module_version": "2.0.0",
      "model_name": "ToggleButtonModel",
      "state": {
       "button_style": "primary",
       "icon": "plus",
       "layout": "IPY_MODEL_e516e54839d84bcbbe83a27459e41726",
       "style": "IPY_MODEL_a30309657d074cb28c4c5f909e546863",
       "tooltip": "Expand toolbar"
      }
     },
     "a8b755cb5c474a58abeacfa8830b9b73": {
      "model_module": "@jupyter-widgets/controls",
      "model_module_version": "2.0.0",
      "model_name": "ButtonModel",
      "state": {
       "icon": "gear",
       "layout": "IPY_MODEL_c02d6c1bb0134014b1c47b3aa4b9d271",
       "style": "IPY_MODEL_b38ab08c54584b71bda5e58933aa12db",
       "tooltip": "adm2 Mali"
      }
     },
     "a972e105eecf4a00beecd179a5c4c2d6": {
      "model_module": "@jupyter-widgets/base",
      "model_module_version": "2.0.0",
      "model_name": "LayoutModel",
      "state": {
       "height": "25px",
       "padding": "0px",
       "width": "25px"
      }
     },
     "a9c01e18f90e4c5abe9c19b7c16d0f68": {
      "model_module": "ipyevents",
      "model_module_version": "2.0.2",
      "model_name": "EventModel",
      "state": {
       "_supported_key_events": [
        "keydown",
        "keyup"
       ],
       "_supported_mouse_events": [
        "click",
        "auxclick",
        "dblclick",
        "mouseenter",
        "mouseleave",
        "mousedown",
        "mouseup",
        "mousemove",
        "wheel",
        "contextmenu",
        "dragstart",
        "drag",
        "dragend",
        "dragenter",
        "dragover",
        "dragleave",
        "drop"
       ],
       "_supported_touch_events": [
        "touchstart",
        "touchend",
        "touchmove",
        "touchcancel"
       ],
       "_view_module": "@jupyter-widgets/controls",
       "source": "IPY_MODEL_1462eb43ac9a493283efc7607df5c0e5",
       "throttle_or_debounce": "",
       "watched_events": [
        "mouseenter",
        "mouseleave"
       ],
       "xy_coordinate_system": ""
      }
     },
     "aaea00ddf121441d93eecf5a61dd2263": {
      "model_module": "@jupyter-widgets/controls",
      "model_module_version": "2.0.0",
      "model_name": "SliderStyleModel",
      "state": {
       "description_width": ""
      }
     },
     "ab0bbdd1dc734de9a0e98670a104b54d": {
      "model_module": "@jupyter-widgets/controls",
      "model_module_version": "2.0.0",
      "model_name": "HBoxModel",
      "state": {
       "children": [
        "IPY_MODEL_ee80c3a0abb3423ba3b1c189cc7ad55d",
        "IPY_MODEL_f1941fa8cb7f47199a83845d7fe1699a",
        "IPY_MODEL_1822d31cf1164d078583cba9f8361884",
        "IPY_MODEL_9c9ab825ec384a36b708f611d7ee92fe"
       ],
       "layout": "IPY_MODEL_803d3db6240c436d84f71425641c7447"
      }
     },
     "aca333f62ae74b2aa8b7fc060833f2b8": {
      "model_module": "@jupyter-widgets/controls",
      "model_module_version": "2.0.0",
      "model_name": "SliderStyleModel",
      "state": {
       "description_width": ""
      }
     },
     "acce6774ff514990861899c22782de53": {
      "model_module": "@jupyter-widgets/base",
      "model_module_version": "2.0.0",
      "model_name": "LayoutModel",
      "state": {
       "height": "25px",
       "padding": "0px",
       "width": "25px"
      }
     },
     "ace03a523f13421ab20b5ddf32f54089": {
      "model_module": "@jupyter-widgets/controls",
      "model_module_version": "2.0.0",
      "model_name": "FloatSliderModel",
      "state": {
       "behavior": "drag-tap",
       "layout": "IPY_MODEL_75fde512ad1142778c645d72c90cf578",
       "max": 1,
       "readout": false,
       "step": 0.01,
       "style": "IPY_MODEL_f55f477a53a944d28de88313c78eb7e4",
       "value": 1
      }
     },
     "ae12f94ae2ca4ab68c7aa3d8d413d20f": {
      "model_module": "@jupyter-widgets/controls",
      "model_module_version": "2.0.0",
      "model_name": "ToggleButtonModel",
      "state": {
       "button_style": "primary",
       "icon": "gears",
       "layout": "IPY_MODEL_0c039c9be3cc48c294d417fe2bd37fbf",
       "style": "IPY_MODEL_1d436dba22984268b600b4a91180b795",
       "tooltip": "WhiteboxTools for local geoprocessing"
      }
     },
     "ae182e44fa364181af252fa226a17f45": {
      "model_module": "@jupyter-widgets/controls",
      "model_module_version": "2.0.0",
      "model_name": "ButtonModel",
      "state": {
       "icon": "gear",
       "layout": "IPY_MODEL_a5f1e7d2e532460e8b4b1db1f5a9f3ea",
       "style": "IPY_MODEL_1b872fc2195649a1818fb326ec11e879",
       "tooltip": "adm1 Mali"
      }
     },
     "af0febda6c004652b41e67d606b19824": {
      "model_module": "ipyevents",
      "model_module_version": "2.0.2",
      "model_name": "EventModel",
      "state": {
       "_supported_key_events": [
        "keydown",
        "keyup"
       ],
       "_supported_mouse_events": [
        "click",
        "auxclick",
        "dblclick",
        "mouseenter",
        "mouseleave",
        "mousedown",
        "mouseup",
        "mousemove",
        "wheel",
        "contextmenu",
        "dragstart",
        "drag",
        "dragend",
        "dragenter",
        "dragover",
        "dragleave",
        "drop"
       ],
       "_supported_touch_events": [
        "touchstart",
        "touchend",
        "touchmove",
        "touchcancel"
       ],
       "_view_module": "@jupyter-widgets/controls",
       "source": "IPY_MODEL_55a6933b9aa04805a0fcbb464bd8ca30",
       "throttle_or_debounce": "",
       "watched_events": [
        "mouseenter",
        "mouseleave"
       ],
       "xy_coordinate_system": ""
      }
     },
     "af739d9fcf2141d89a742c5f010efc3a": {
      "model_module": "@jupyter-widgets/controls",
      "model_module_version": "2.0.0",
      "model_name": "CheckboxModel",
      "state": {
       "description": "OpenStreetMap.Mapnik",
       "disabled": false,
       "indent": false,
       "layout": "IPY_MODEL_cdfacaf37190467eb89b400f606615ad",
       "style": "IPY_MODEL_485f4e57c7d7448fb9966af6bff91cc2",
       "value": true
      }
     },
     "afbd1dc9b5394afeac057f42ca95ef66": {
      "model_module": "@jupyter-widgets/controls",
      "model_module_version": "2.0.0",
      "model_name": "CheckboxModel",
      "state": {
       "description": "adm2 Mali",
       "disabled": false,
       "indent": false,
       "layout": "IPY_MODEL_ba618819b1a9495b9e4aa6fd2c7f03bc",
       "style": "IPY_MODEL_b239a622323c4f83946b7d938f989c83",
       "value": true
      }
     },
     "b08137e42a1d4f0096c55f616bc1cf2e": {
      "model_module": "@jupyter-widgets/base",
      "model_module_version": "2.0.0",
      "model_name": "LayoutModel",
      "state": {
       "padding": "0px 4px 0px 4px"
      }
     },
     "b0c0444068714d2ea0c15125601cc527": {
      "model_module": "@jupyter-widgets/controls",
      "model_module_version": "2.0.0",
      "model_name": "ButtonStyleModel",
      "state": {
       "font_family": null,
       "font_size": null,
       "font_style": null,
       "font_variant": null,
       "font_weight": null,
       "text_color": null,
       "text_decoration": null
      }
     },
     "b239a622323c4f83946b7d938f989c83": {
      "model_module": "@jupyter-widgets/controls",
      "model_module_version": "2.0.0",
      "model_name": "CheckboxStyleModel",
      "state": {
       "description_width": ""
      }
     },
     "b255a7446d4c47f09726d27cf38385f4": {
      "model_module": "@jupyter-widgets/controls",
      "model_module_version": "2.0.0",
      "model_name": "DescriptionStyleModel",
      "state": {
       "description_width": ""
      }
     },
     "b38ab08c54584b71bda5e58933aa12db": {
      "model_module": "@jupyter-widgets/controls",
      "model_module_version": "2.0.0",
      "model_name": "ButtonStyleModel",
      "state": {
       "font_family": null,
       "font_size": null,
       "font_style": null,
       "font_variant": null,
       "font_weight": null,
       "text_color": null,
       "text_decoration": null
      }
     },
     "b39883234c834e4ba3502991e033d80e": {
      "model_module": "@jupyter-widgets/controls",
      "model_module_version": "2.0.0",
      "model_name": "ButtonStyleModel",
      "state": {
       "font_family": null,
       "font_size": null,
       "font_style": null,
       "font_variant": null,
       "font_weight": null,
       "text_color": null,
       "text_decoration": null
      }
     },
     "b3ac6cca5c5049a891afb74ab038c2ea": {
      "model_module": "@jupyter-widgets/base",
      "model_module_version": "2.0.0",
      "model_name": "LayoutModel",
      "state": {
       "height": "18px",
       "width": "140px"
      }
     },
     "b4163467b9814944b5fae996677c053e": {
      "model_module": "@jupyter-widgets/controls",
      "model_module_version": "2.0.0",
      "model_name": "GridBoxModel",
      "state": {
       "children": [
        "IPY_MODEL_30a89943c21143ab9bd334c305fc8031",
        "IPY_MODEL_086cc3c1feed47c4acb6f1b8411efd8e",
        "IPY_MODEL_646bc5d487ae40539e9c368c4c159249",
        "IPY_MODEL_a42e61c26a93435bbe9c74ad81baa8dc",
        "IPY_MODEL_2d67c41e433a429fb75ab927f5c16e6d",
        "IPY_MODEL_a87559b1036b4604b290791d42b77ad4"
       ],
       "layout": "IPY_MODEL_d123bd8501a24ee4949336e52896d35f"
      }
     },
     "b429c895f4be4dcaa4df59b6abdff694": {
      "model_module": "@jupyter-widgets/controls",
      "model_module_version": "2.0.0",
      "model_name": "ButtonStyleModel",
      "state": {
       "font_family": null,
       "font_size": null,
       "font_style": null,
       "font_variant": null,
       "font_weight": null,
       "text_color": null,
       "text_decoration": null
      }
     },
     "b4d173309f364f8ba646640923519a07": {
      "model_module": "ipyevents",
      "model_module_version": "2.0.2",
      "model_name": "EventModel",
      "state": {
       "_supported_key_events": [
        "keydown",
        "keyup"
       ],
       "_supported_mouse_events": [
        "click",
        "auxclick",
        "dblclick",
        "mouseenter",
        "mouseleave",
        "mousedown",
        "mouseup",
        "mousemove",
        "wheel",
        "contextmenu",
        "dragstart",
        "drag",
        "dragend",
        "dragenter",
        "dragover",
        "dragleave",
        "drop"
       ],
       "_supported_touch_events": [
        "touchstart",
        "touchend",
        "touchmove",
        "touchcancel"
       ],
       "_view_module": "@jupyter-widgets/controls",
       "source": "IPY_MODEL_91ea03790c6341e19c9ac7124181cbcd",
       "throttle_or_debounce": "",
       "watched_events": [
        "mouseenter",
        "mouseleave"
       ],
       "xy_coordinate_system": ""
      }
     },
     "b514c4b229f04c6a97e1be3c8d83d8ef": {
      "model_module": "@jupyter-widgets/controls",
      "model_module_version": "2.0.0",
      "model_name": "VBoxModel",
      "state": {
       "children": [
        "IPY_MODEL_7c7413e6e5fa442287254ef9d4f9b6b1",
        "IPY_MODEL_b5f2f5d1294644cc87df1bbef4ce1a41"
       ],
       "layout": "IPY_MODEL_7108a8466b884ab1b05091a0caa55896"
      }
     },
     "b5f2f5d1294644cc87df1bbef4ce1a41": {
      "model_module": "@jupyter-widgets/controls",
      "model_module_version": "2.0.0",
      "model_name": "TextModel",
      "state": {
       "layout": "IPY_MODEL_09703da8c91343aab12f1761adf6db66",
       "placeholder": "Search by place name or address",
       "style": "IPY_MODEL_8b80a330958445d18bfad4960462384d",
       "tooltip": "Search location"
      }
     },
     "b67a910deaae4e65879f471aa4f45d24": {
      "model_module": "jupyter-leaflet",
      "model_module_version": "^0.19",
      "model_name": "LeafletTileLayerModel",
      "state": {
       "_model_module_version": "^0.19",
       "_view_module_version": "^0.19",
       "attribution": "&copy; <a href=\"https://www.openstreetmap.org/copyright\">OpenStreetMap</a> contributors",
       "base": true,
       "max_zoom": 19,
       "min_zoom": 1,
       "name": "OpenStreetMap.Mapnik",
       "options": [
        "attribution",
        "bounds",
        "detect_retina",
        "max_native_zoom",
        "max_zoom",
        "min_native_zoom",
        "min_zoom",
        "no_wrap",
        "tile_size",
        "tms",
        "zoom_offset"
       ],
       "url": "https://tile.openstreetmap.org/{z}/{x}/{y}.png"
      }
     },
     "b6d6a10089504eeba09ab85987c48474": {
      "model_module": "@jupyter-widgets/base",
      "model_module_version": "2.0.0",
      "model_name": "LayoutModel",
      "state": {
       "height": "25px",
       "padding": "0px",
       "width": "25px"
      }
     },
     "b72c6c8e6bc2407b8bcd87e4fa2afc25": {
      "model_module": "@jupyter-widgets/controls",
      "model_module_version": "2.0.0",
      "model_name": "RadioButtonsModel",
      "state": {
       "index": null,
       "layout": "IPY_MODEL_dbbd08d4a902432ab106856f07df3cff",
       "style": "IPY_MODEL_b255a7446d4c47f09726d27cf38385f4"
      }
     },
     "b79dcf5ccc984117b37fcd5966c497ca": {
      "model_module": "@jupyter-widgets/controls",
      "model_module_version": "2.0.0",
      "model_name": "ToggleButtonStyleModel",
      "state": {
       "description_width": "",
       "font_family": null,
       "font_size": null,
       "font_style": null,
       "font_variant": null,
       "font_weight": null,
       "text_color": null,
       "text_decoration": null
      }
     },
     "b7cf28b9dcb345a5940125ab89a8805e": {
      "model_module": "@jupyter-widgets/base",
      "model_module_version": "2.0.0",
      "model_name": "LayoutModel",
      "state": {
       "height": "25px",
       "padding": "0px",
       "width": "25px"
      }
     },
     "b80f99081b294773a69b0dbc51498b8e": {
      "model_module": "@jupyter-widgets/controls",
      "model_module_version": "2.0.0",
      "model_name": "CheckboxModel",
      "state": {
       "description": "OpenStreetMap.Mapnik",
       "disabled": false,
       "indent": false,
       "layout": "IPY_MODEL_38fdde089d604b17907fb171d79ad93c",
       "style": "IPY_MODEL_183535b2f0934c9f8ae8c92d933981bc",
       "value": true
      }
     },
     "b8d080c16a6844d99cb1b3c7ce3ffee0": {
      "model_module": "@jupyter-widgets/controls",
      "model_module_version": "2.0.0",
      "model_name": "ButtonStyleModel",
      "state": {
       "font_family": null,
       "font_size": null,
       "font_style": null,
       "font_variant": null,
       "font_weight": null,
       "text_color": null,
       "text_decoration": null
      }
     },
     "ba1bcaf1aa184839abc4a99b625ab435": {
      "model_module": "@jupyter-widgets/controls",
      "model_module_version": "2.0.0",
      "model_name": "ButtonModel",
      "state": {
       "icon": "gear",
       "layout": "IPY_MODEL_7b2c4b37ed114a8a97c5313949d302ae",
       "style": "IPY_MODEL_a6ed5d153d954b4ab48f11bd1ca907a0",
       "tooltip": "OpenStreetMap.Mapnik"
      }
     },
     "ba618819b1a9495b9e4aa6fd2c7f03bc": {
      "model_module": "@jupyter-widgets/base",
      "model_module_version": "2.0.0",
      "model_name": "LayoutModel",
      "state": {
       "height": "18px",
       "width": "140px"
      }
     },
     "ba85b0c2e595419d8422eaf3ddb774a1": {
      "model_module": "@jupyter-widgets/controls",
      "model_module_version": "2.0.0",
      "model_name": "ButtonModel",
      "state": {
       "icon": "gear",
       "layout": "IPY_MODEL_a214be4406964ab78e5c4a723ec5b0c1",
       "style": "IPY_MODEL_913c5178000a43f5b98d02aae284610d",
       "tooltip": "Population Mali"
      }
     },
     "ba8eac5a4b7c4daeb3144231343c8388": {
      "model_module": "@jupyter-widgets/base",
      "model_module_version": "2.0.0",
      "model_name": "LayoutModel",
      "state": {}
     },
     "bb39a6f496134ad4b8ee00229f9aadd2": {
      "model_module": "@jupyter-widgets/controls",
      "model_module_version": "2.0.0",
      "model_name": "CheckboxStyleModel",
      "state": {
       "description_width": ""
      }
     },
     "bb56e051e5ed4d869ef41899a6caa310": {
      "model_module": "@jupyter-widgets/base",
      "model_module_version": "2.0.0",
      "model_name": "LayoutModel",
      "state": {
       "height": "auto",
       "padding": "0px 0px 0px 4px",
       "width": "auto"
      }
     },
     "bb6d357b91b846789951efa73a84499e": {
      "model_module": "@jupyter-widgets/base",
      "model_module_version": "2.0.0",
      "model_name": "LayoutModel",
      "state": {
       "padding": "0px 3px 0px 0px",
       "width": "70px"
      }
     },
     "bc2f5c8f5cf6473a9702b5e0a0e60791": {
      "model_module": "@jupyter-widgets/controls",
      "model_module_version": "2.0.0",
      "model_name": "CheckboxStyleModel",
      "state": {
       "description_width": ""
      }
     },
     "bd9c204329654e8a874fab63f759df1b": {
      "model_module": "@jupyter-widgets/controls",
      "model_module_version": "2.0.0",
      "model_name": "ButtonStyleModel",
      "state": {
       "font_family": null,
       "font_size": null,
       "font_style": null,
       "font_variant": null,
       "font_weight": null,
       "text_color": null,
       "text_decoration": null
      }
     },
     "bed8c949f9ba42b58cff7803e8928531": {
      "model_module": "@jupyter-widgets/base",
      "model_module_version": "2.0.0",
      "model_name": "LayoutModel",
      "state": {
       "padding": "0px 4px 0px 4px"
      }
     },
     "bf9edb8f4c65498a85fb94910cdcdff4": {
      "model_module": "@jupyter-widgets/controls",
      "model_module_version": "2.0.0",
      "model_name": "ButtonStyleModel",
      "state": {
       "font_family": null,
       "font_size": null,
       "font_style": null,
       "font_variant": null,
       "font_weight": null,
       "text_color": null,
       "text_decoration": null
      }
     },
     "bfcd863db6824c13bcd65b61633aa72e": {
      "model_module": "@jupyter-widgets/controls",
      "model_module_version": "2.0.0",
      "model_name": "CheckboxStyleModel",
      "state": {
       "description_width": ""
      }
     },
     "c02d6c1bb0134014b1c47b3aa4b9d271": {
      "model_module": "@jupyter-widgets/base",
      "model_module_version": "2.0.0",
      "model_name": "LayoutModel",
      "state": {
       "height": "25px",
       "padding": "0px",
       "width": "25px"
      }
     },
     "c0f267065c2c4b3ba88b8ab5a5ec7788": {
      "model_module": "@jupyter-widgets/controls",
      "model_module_version": "2.0.0",
      "model_name": "CheckboxModel",
      "state": {
       "description": "All layers on/off",
       "disabled": false,
       "indent": false,
       "layout": "IPY_MODEL_1de152a5554f47d69919e073ca594e7e",
       "style": "IPY_MODEL_3c519bb88f4844348a1e8481088c0af0",
       "value": false
      }
     },
     "c1cd8609d164486bb5046d3a92fa07a4": {
      "model_module": "@jupyter-widgets/controls",
      "model_module_version": "2.0.0",
      "model_name": "ButtonModel",
      "state": {
       "icon": "gear",
       "layout": "IPY_MODEL_a681347b3f4e4c0096ecb08bf2fd4c5b",
       "style": "IPY_MODEL_d1a55d79b5e6459a997b95cbd760066f",
       "tooltip": "adm2 Mali"
      }
     },
     "c20b117dc9084f719b26a12d782d3df4": {
      "model_module": "@jupyter-widgets/base",
      "model_module_version": "2.0.0",
      "model_name": "LayoutModel",
      "state": {
       "height": "600px"
      }
     },
     "c221dc04195d409d8b97898c5fab5566": {
      "model_module": "@jupyter-widgets/controls",
      "model_module_version": "2.0.0",
      "model_name": "CheckboxModel",
      "state": {
       "description": "All layers on/off",
       "disabled": false,
       "indent": false,
       "layout": "IPY_MODEL_41778bda6160474d9b8cd755986c8a63",
       "style": "IPY_MODEL_6621fa8814654f7e9d385920b55ad724",
       "value": false
      }
     },
     "c37fb071c5d4406c8bf965a6d8f0d27f": {
      "model_module": "ipyevents",
      "model_module_version": "2.0.2",
      "model_name": "EventModel",
      "state": {
       "_supported_key_events": [
        "keydown",
        "keyup"
       ],
       "_supported_mouse_events": [
        "click",
        "auxclick",
        "dblclick",
        "mouseenter",
        "mouseleave",
        "mousedown",
        "mouseup",
        "mousemove",
        "wheel",
        "contextmenu",
        "dragstart",
        "drag",
        "dragend",
        "dragenter",
        "dragover",
        "dragleave",
        "drop"
       ],
       "_supported_touch_events": [
        "touchstart",
        "touchend",
        "touchmove",
        "touchcancel"
       ],
       "_view_module": "@jupyter-widgets/controls",
       "source": "IPY_MODEL_fc9680b313be404bb535d68d6132bc9f",
       "throttle_or_debounce": "",
       "watched_events": [
        "mouseenter",
        "mouseleave"
       ],
       "xy_coordinate_system": ""
      }
     },
     "c3900d652a874cba81819284d6fe5814": {
      "model_module": "@jupyter-widgets/base",
      "model_module_version": "2.0.0",
      "model_name": "LayoutModel",
      "state": {}
     },
     "c3af58148b564e93a8f38884d59e2f32": {
      "model_module": "@jupyter-widgets/controls",
      "model_module_version": "2.0.0",
      "model_name": "ButtonStyleModel",
      "state": {
       "font_family": null,
       "font_size": null,
       "font_style": null,
       "font_variant": null,
       "font_weight": null,
       "text_color": null,
       "text_decoration": null
      }
     },
     "c40d4f1ba979485bb7117466849b553f": {
      "model_module": "@jupyter-widgets/base",
      "model_module_version": "2.0.0",
      "model_name": "LayoutModel",
      "state": {
       "padding": "0px 4px 0px 4px"
      }
     },
     "c43df56ef973425fb4ae5d9c89fef01d": {
      "model_module": "@jupyter-widgets/controls",
      "model_module_version": "2.0.0",
      "model_name": "CheckboxStyleModel",
      "state": {
       "description_width": ""
      }
     },
     "c46f04e37a0c49cab4bc140cbfe902dc": {
      "model_module": "@jupyter-widgets/controls",
      "model_module_version": "2.0.0",
      "model_name": "ButtonModel",
      "state": {
       "icon": "gear",
       "layout": "IPY_MODEL_3f3d4c4919584454a9b5364261daf3ff",
       "style": "IPY_MODEL_0d68ddc358d44298b898160840391376",
       "tooltip": "Events Mali"
      }
     },
     "c4b518311983404e979dd512b466de60": {
      "model_module": "@jupyter-widgets/controls",
      "model_module_version": "2.0.0",
      "model_name": "ButtonStyleModel",
      "state": {
       "font_family": null,
       "font_size": null,
       "font_style": null,
       "font_variant": null,
       "font_weight": null,
       "text_color": null,
       "text_decoration": null
      }
     },
     "c4cca7fc5e524c2e879399e31e5f63f1": {
      "model_module": "@jupyter-widgets/controls",
      "model_module_version": "2.0.0",
      "model_name": "ButtonModel",
      "state": {
       "_view_count": 0,
       "icon": "times",
       "layout": "IPY_MODEL_2c5ffd6ee1af4eb7bbbce60840f55e2b",
       "style": "IPY_MODEL_d28578df52f3492f8aff379947a43fbc",
       "tooltip": "Loaded"
      }
     },
     "c51dea94eff042a3bdc60c8a383cd659": {
      "model_module": "@jupyter-widgets/base",
      "model_module_version": "2.0.0",
      "model_name": "LayoutModel",
      "state": {
       "max_width": "279px",
       "min_width": "279px"
      }
     },
     "c53b016afd5240499202a59805238723": {
      "model_module": "ipyevents",
      "model_module_version": "2.0.2",
      "model_name": "EventModel",
      "state": {
       "_supported_key_events": [
        "keydown",
        "keyup"
       ],
       "_supported_mouse_events": [
        "click",
        "auxclick",
        "dblclick",
        "mouseenter",
        "mouseleave",
        "mousedown",
        "mouseup",
        "mousemove",
        "wheel",
        "contextmenu",
        "dragstart",
        "drag",
        "dragend",
        "dragenter",
        "dragover",
        "dragleave",
        "drop"
       ],
       "_supported_touch_events": [
        "touchstart",
        "touchend",
        "touchmove",
        "touchcancel"
       ],
       "_view_module": "@jupyter-widgets/controls",
       "source": "IPY_MODEL_c4cca7fc5e524c2e879399e31e5f63f1",
       "throttle_or_debounce": "",
       "watched_events": [
        "mouseenter",
        "mouseleave"
       ],
       "xy_coordinate_system": ""
      }
     },
     "c5f80c96740148918f8cb64599a1b33d": {
      "model_module": "@jupyter-widgets/controls",
      "model_module_version": "2.0.0",
      "model_name": "ButtonStyleModel",
      "state": {
       "font_family": null,
       "font_size": null,
       "font_style": null,
       "font_variant": null,
       "font_weight": null,
       "text_color": null,
       "text_decoration": null
      }
     },
     "c7b23b2056c74bc2a45c0e1cd247a3cc": {
      "model_module": "@jupyter-widgets/base",
      "model_module_version": "2.0.0",
      "model_name": "LayoutModel",
      "state": {}
     },
     "c7b261e5010d462a88f8e8fca6427e49": {
      "model_module": "jupyter-leaflet",
      "model_module_version": "^0.19",
      "model_name": "LeafletTileLayerModel",
      "state": {
       "_model_module_version": "^0.19",
       "_view_module_version": "^0.19",
       "attribution": "Google Earth Engine",
       "max_zoom": 24,
       "name": "adm1 Mali",
       "options": [
        "attribution",
        "bounds",
        "detect_retina",
        "max_native_zoom",
        "max_zoom",
        "min_native_zoom",
        "min_zoom",
        "no_wrap",
        "tile_size",
        "tms",
        "zoom_offset"
       ],
       "url": "https://earthengine.googleapis.com/v1/projects/187773910538/maps/fdf0f40d5f5a9cba727f1b26658fd96b-106924f2bdd1404bdf8da7adb01d1ded/tiles/{z}/{x}/{y}"
      }
     },
     "c7b7c26d5adb470686dfc5684fba3738": {
      "model_module": "ipyevents",
      "model_module_version": "2.0.2",
      "model_name": "EventModel",
      "state": {
       "_supported_key_events": [
        "keydown",
        "keyup"
       ],
       "_supported_mouse_events": [
        "click",
        "auxclick",
        "dblclick",
        "mouseenter",
        "mouseleave",
        "mousedown",
        "mouseup",
        "mousemove",
        "wheel",
        "contextmenu",
        "dragstart",
        "drag",
        "dragend",
        "dragenter",
        "dragover",
        "dragleave",
        "drop"
       ],
       "_supported_touch_events": [
        "touchstart",
        "touchend",
        "touchmove",
        "touchcancel"
       ],
       "_view_module": "@jupyter-widgets/controls",
       "source": "IPY_MODEL_0cac2d78272d48fbb91c9e09f88f6ad9",
       "throttle_or_debounce": "",
       "watched_events": [
        "mouseenter",
        "mouseleave"
       ],
       "xy_coordinate_system": ""
      }
     },
     "c885c498995e4ec0b94e8fbb840b82b5": {
      "model_module": "@jupyter-widgets/controls",
      "model_module_version": "2.0.0",
      "model_name": "ToggleButtonModel",
      "state": {
       "button_style": "primary",
       "icon": "eraser",
       "layout": "IPY_MODEL_3172f15a286c4cd48231d88f0f9a7f78",
       "style": "IPY_MODEL_1d96441c7d8b422284f6d89392dc85de",
       "tooltip": "Remove all drawn features"
      }
     },
     "c89577fd7742490e965c545226f9f484": {
      "model_module": "@jupyter-widgets/base",
      "model_module_version": "2.0.0",
      "model_name": "LayoutModel",
      "state": {
       "height": "25px",
       "padding": "0px",
       "width": "25px"
      }
     },
     "c920f740735e4c7ba6fad57850ce67c3": {
      "model_module": "@jupyter-widgets/controls",
      "model_module_version": "2.0.0",
      "model_name": "HBoxModel",
      "state": {
       "children": [
        "IPY_MODEL_d2f0e3278b3d4a61bc1f9338590d0463",
        "IPY_MODEL_7d30de20edee464a8f8680fa15908b02",
        "IPY_MODEL_7057f489e99c4adc9ff50334416854ec",
        "IPY_MODEL_0cac2d78272d48fbb91c9e09f88f6ad9"
       ],
       "layout": "IPY_MODEL_fdba856f2ec64cb48ea88c763f2e743d"
      }
     },
     "c94851d12ada4598bcdc2593b0a234d8": {
      "model_module": "@jupyter-widgets/base",
      "model_module_version": "2.0.0",
      "model_name": "LayoutModel",
      "state": {
       "height": "18px",
       "width": "140px"
      }
     },
     "c9847db182b5467da1bc97f42a077cf2": {
      "model_module": "@jupyter-widgets/controls",
      "model_module_version": "2.0.0",
      "model_name": "FloatSliderModel",
      "state": {
       "behavior": "drag-tap",
       "layout": "IPY_MODEL_d3b6f04f932847b0aaad6572664fc080",
       "max": 1,
       "readout": false,
       "step": 0.01,
       "style": "IPY_MODEL_3ec35f3427e24681b23f39bc00ff09b9",
       "value": 1
      }
     },
     "c9cc9be26bfe48c9a8c2740cb73df2bd": {
      "model_module": "@jupyter-widgets/controls",
      "model_module_version": "2.0.0",
      "model_name": "ButtonModel",
      "state": {
       "_view_count": 0,
       "icon": "times",
       "layout": "IPY_MODEL_1fee1fb435bb4e96b7ef888d6476d963",
       "style": "IPY_MODEL_6ebe46d8f1894bf59f014b58b3068553",
       "tooltip": "Loaded"
      }
     },
     "c9e0bceae3ae4e48ba65179f8720ea74": {
      "model_module": "@jupyter-widgets/controls",
      "model_module_version": "2.0.0",
      "model_name": "CheckboxStyleModel",
      "state": {
       "description_width": ""
      }
     },
     "ca296a66cfbc495da32960b7f69cf928": {
      "model_module": "@jupyter-widgets/controls",
      "model_module_version": "2.0.0",
      "model_name": "CheckboxStyleModel",
      "state": {
       "description_width": ""
      }
     },
     "ca2e9e697b73419a8eed818ec2a10769": {
      "model_module": "@jupyter-widgets/controls",
      "model_module_version": "2.0.0",
      "model_name": "HBoxModel",
      "state": {
       "children": [
        "IPY_MODEL_9b91bb5afc9f4107a1a5f87a1be0a4a1",
        "IPY_MODEL_ace03a523f13421ab20b5ddf32f54089",
        "IPY_MODEL_02a54387f21c454ab01f2552479e0635",
        "IPY_MODEL_83410250676c439189cc1ec6fe260a63"
       ],
       "layout": "IPY_MODEL_f85bb8721ec94b918a06207efed80faf"
      }
     },
     "cad2ff5637e94fd08b62c4fceec370f1": {
      "model_module": "@jupyter-widgets/controls",
      "model_module_version": "2.0.0",
      "model_name": "CheckboxStyleModel",
      "state": {
       "description_width": ""
      }
     },
     "cb5677363aeb43199f870b181c57ad1c": {
      "model_module": "jupyter-leaflet",
      "model_module_version": "^0.19",
      "model_name": "LeafletTileLayerModel",
      "state": {
       "_model_module_version": "^0.19",
       "_view_module_version": "^0.19",
       "attribution": "Google Earth Engine",
       "max_zoom": 24,
       "name": "adm2 Mali",
       "options": [
        "attribution",
        "bounds",
        "detect_retina",
        "max_native_zoom",
        "max_zoom",
        "min_native_zoom",
        "min_zoom",
        "no_wrap",
        "tile_size",
        "tms",
        "zoom_offset"
       ],
       "url": "https://earthengine.googleapis.com/v1/projects/187773910538/maps/24d273343cb67bd8a5c9da19294cba9c-6d8093655a6c6242a54ba57d883a8be4/tiles/{z}/{x}/{y}"
      }
     },
     "cb8345215e074b6bb4dd6e6f9b53becd": {
      "model_module": "@jupyter-widgets/controls",
      "model_module_version": "2.0.0",
      "model_name": "ButtonStyleModel",
      "state": {
       "font_family": null,
       "font_size": null,
       "font_style": null,
       "font_variant": null,
       "font_weight": null,
       "text_color": null,
       "text_decoration": null
      }
     },
     "cbb2ec0298c14627a4262eaf829347ec": {
      "model_module": "@jupyter-widgets/controls",
      "model_module_version": "2.0.0",
      "model_name": "CheckboxModel",
      "state": {
       "description": "Population Mali",
       "disabled": false,
       "indent": false,
       "layout": "IPY_MODEL_8c69f0d6237648dfa694871b1bf65046",
       "style": "IPY_MODEL_50d5a1a024e34170b388cfcb68a83384",
       "value": true
      }
     },
     "cbb807c6199d4ef9bb6640bfaee2dfba": {
      "model_module": "@jupyter-widgets/base",
      "model_module_version": "2.0.0",
      "model_name": "LayoutModel",
      "state": {
       "padding": "0px 3px 0px 0px",
       "width": "70px"
      }
     },
     "cc020a6b270e44ecbb4ee16a624d0c7d": {
      "model_module": "@jupyter-widgets/controls",
      "model_module_version": "2.0.0",
      "model_name": "ButtonStyleModel",
      "state": {
       "font_family": null,
       "font_size": null,
       "font_style": null,
       "font_variant": null,
       "font_weight": null,
       "text_color": null,
       "text_decoration": null
      }
     },
     "cc8f4cddd7b24a9ba1e31cb4fd143bab": {
      "model_module": "ipyevents",
      "model_module_version": "2.0.2",
      "model_name": "EventModel",
      "state": {
       "_supported_key_events": [
        "keydown",
        "keyup"
       ],
       "_supported_mouse_events": [
        "click",
        "auxclick",
        "dblclick",
        "mouseenter",
        "mouseleave",
        "mousedown",
        "mouseup",
        "mousemove",
        "wheel",
        "contextmenu",
        "dragstart",
        "drag",
        "dragend",
        "dragenter",
        "dragover",
        "dragleave",
        "drop"
       ],
       "_supported_touch_events": [
        "touchstart",
        "touchend",
        "touchmove",
        "touchcancel"
       ],
       "_view_module": "@jupyter-widgets/controls",
       "source": "IPY_MODEL_27216d8d98624b98a971a009df514f43",
       "throttle_or_debounce": "",
       "watched_events": [
        "mouseenter",
        "mouseleave"
       ],
       "xy_coordinate_system": ""
      }
     },
     "cd00493ebb9448de9e90c07f064c3032": {
      "model_module": "@jupyter-widgets/base",
      "model_module_version": "2.0.0",
      "model_name": "LayoutModel",
      "state": {
       "height": "25px",
       "padding": "0px",
       "width": "25px"
      }
     },
     "cd1255e96b094e11a049c96475832351": {
      "model_module": "@jupyter-widgets/base",
      "model_module_version": "2.0.0",
      "model_name": "LayoutModel",
      "state": {
       "height": "18px",
       "width": "140px"
      }
     },
     "cd4f71cfbf7943c9a12f149ddb131616": {
      "model_module": "jupyter-leaflet",
      "model_module_version": "^0.19",
      "model_name": "LeafletTileLayerModel",
      "state": {
       "_model_module_version": "^0.19",
       "_view_module_version": "^0.19",
       "attribution": "Google Earth Engine",
       "max_zoom": 24,
       "name": "Binar Events Mali",
       "options": [
        "attribution",
        "bounds",
        "detect_retina",
        "max_native_zoom",
        "max_zoom",
        "min_native_zoom",
        "min_zoom",
        "no_wrap",
        "tile_size",
        "tms",
        "zoom_offset"
       ],
       "url": "https://earthengine.googleapis.com/v1/projects/187773910538/maps/cf5ea5cc22e44997cf404460b62573ea-6ae6c119a8bea5eed445ece91855d188/tiles/{z}/{x}/{y}"
      }
     },
     "cd6fcffa0bdb4987acd029316174dd84": {
      "model_module": "@jupyter-widgets/controls",
      "model_module_version": "2.0.0",
      "model_name": "ToggleButtonStyleModel",
      "state": {
       "description_width": "",
       "font_family": null,
       "font_size": null,
       "font_style": null,
       "font_variant": null,
       "font_weight": null,
       "text_color": null,
       "text_decoration": null
      }
     },
     "cd932321ac4440899b88fa85ef5f2b99": {
      "model_module": "@jupyter-widgets/controls",
      "model_module_version": "2.0.0",
      "model_name": "ButtonModel",
      "state": {
       "_view_count": 0,
       "icon": "times",
       "layout": "IPY_MODEL_f2fc8b3f12ab4e6a9607dfd4596b0dff",
       "style": "IPY_MODEL_a1a0fe2fb5b24e31817a1d4ea7e45d14",
       "tooltip": "Loaded"
      }
     },
     "cdfacaf37190467eb89b400f606615ad": {
      "model_module": "@jupyter-widgets/base",
      "model_module_version": "2.0.0",
      "model_name": "LayoutModel",
      "state": {
       "height": "18px",
       "width": "140px"
      }
     },
     "ce42667738e243e4a0de3e8b105651cd": {
      "model_module": "@jupyter-widgets/base",
      "model_module_version": "2.0.0",
      "model_name": "LayoutModel",
      "state": {
       "height": "25px",
       "padding": "0px",
       "width": "25px"
      }
     },
     "ce857114614341f88e5f382f8635888e": {
      "model_module": "@jupyter-widgets/base",
      "model_module_version": "2.0.0",
      "model_name": "LayoutModel",
      "state": {
       "padding": "0px 3px 0px 0px",
       "width": "70px"
      }
     },
     "ceb959dc4ef547b4854a069258fc6783": {
      "model_module": "@jupyter-widgets/controls",
      "model_module_version": "2.0.0",
      "model_name": "FloatSliderModel",
      "state": {
       "behavior": "drag-tap",
       "layout": "IPY_MODEL_cfa7911706f94d57919c52542b94b0bb",
       "max": 1,
       "readout": false,
       "step": 0.01,
       "style": "IPY_MODEL_66ff82fd812f49a6afe425c46d6aa44c",
       "value": 1
      }
     },
     "cf042f7d2ea048c9b7b491916da5d7c1": {
      "model_module": "@jupyter-widgets/base",
      "model_module_version": "2.0.0",
      "model_name": "LayoutModel",
      "state": {
       "height": "18px",
       "width": "140px"
      }
     },
     "cf57cb2715964b85853a7acca7e3e005": {
      "model_module": "@jupyter-widgets/controls",
      "model_module_version": "2.0.0",
      "model_name": "FloatSliderModel",
      "state": {
       "behavior": "drag-tap",
       "layout": "IPY_MODEL_0a2f9ed8dd51493baa505df2209cc841",
       "max": 1,
       "readout": false,
       "step": 0.01,
       "style": "IPY_MODEL_f10071fabc7f492ca528e8389bdb1563",
       "value": 1
      }
     },
     "cfa7911706f94d57919c52542b94b0bb": {
      "model_module": "@jupyter-widgets/base",
      "model_module_version": "2.0.0",
      "model_name": "LayoutModel",
      "state": {
       "padding": "0px 3px 0px 0px",
       "width": "70px"
      }
     },
     "cff1791a55c74e31ae96219fc8cdda36": {
      "model_module": "@jupyter-widgets/controls",
      "model_module_version": "2.0.0",
      "model_name": "SliderStyleModel",
      "state": {
       "description_width": ""
      }
     },
     "d0d3e68e3368473bb0b5a4cfb5565677": {
      "model_module": "@jupyter-widgets/base",
      "model_module_version": "2.0.0",
      "model_name": "LayoutModel",
      "state": {
       "width": "500px"
      }
     },
     "d123bd8501a24ee4949336e52896d35f": {
      "model_module": "@jupyter-widgets/base",
      "model_module_version": "2.0.0",
      "model_name": "LayoutModel",
      "state": {
       "grid_gap": "1px 1px",
       "grid_template_columns": "32px 32px 32px ",
       "grid_template_rows": "32px 32px ",
       "padding": "5px",
       "width": "109px"
      }
     },
     "d1a1af0605d94fca9223ffe8e20509e6": {
      "model_module": "@jupyter-widgets/controls",
      "model_module_version": "2.0.0",
      "model_name": "HBoxModel",
      "state": {
       "children": [
        "IPY_MODEL_6ff0702b448e4f4aab373e2ce548d968",
        "IPY_MODEL_9013e30535874c64b80ce71655fa284d",
        "IPY_MODEL_0f8eae2893144a3093a5553e726ebe22",
        "IPY_MODEL_1462eb43ac9a493283efc7607df5c0e5"
       ],
       "layout": "IPY_MODEL_d1cea072152e4c0f92bcd1082b5adfbb"
      }
     },
     "d1a55d79b5e6459a997b95cbd760066f": {
      "model_module": "@jupyter-widgets/controls",
      "model_module_version": "2.0.0",
      "model_name": "ButtonStyleModel",
      "state": {
       "font_family": null,
       "font_size": null,
       "font_style": null,
       "font_variant": null,
       "font_weight": null,
       "text_color": null,
       "text_decoration": null
      }
     },
     "d1cea072152e4c0f92bcd1082b5adfbb": {
      "model_module": "@jupyter-widgets/base",
      "model_module_version": "2.0.0",
      "model_name": "LayoutModel",
      "state": {
       "padding": "0px 4px 0px 4px"
      }
     },
     "d229293962fa435b8876952de76db125": {
      "model_module": "@jupyter-widgets/controls",
      "model_module_version": "2.0.0",
      "model_name": "ButtonModel",
      "state": {
       "_view_count": 0,
       "icon": "times",
       "layout": "IPY_MODEL_51cb0db3bc9a4ea8b049c824fd2efde2",
       "style": "IPY_MODEL_106b75d94e034deba3ec793e9fe28f10",
       "tooltip": "Loaded"
      }
     },
     "d28578df52f3492f8aff379947a43fbc": {
      "model_module": "@jupyter-widgets/controls",
      "model_module_version": "2.0.0",
      "model_name": "ButtonStyleModel",
      "state": {
       "font_family": null,
       "font_size": null,
       "font_style": null,
       "font_variant": null,
       "font_weight": null,
       "text_color": null,
       "text_decoration": null
      }
     },
     "d2991ae74f77436c964a7e1edbd9360d": {
      "model_module": "@jupyter-widgets/base",
      "model_module_version": "2.0.0",
      "model_name": "LayoutModel",
      "state": {
       "height": "18px",
       "width": "140px"
      }
     },
     "d2f0e3278b3d4a61bc1f9338590d0463": {
      "model_module": "@jupyter-widgets/controls",
      "model_module_version": "2.0.0",
      "model_name": "CheckboxModel",
      "state": {
       "description": "adm1 Mali",
       "disabled": false,
       "indent": false,
       "layout": "IPY_MODEL_d5bdee4112a24e8e871ab23701bdd674",
       "style": "IPY_MODEL_a62564cc50164c409657fea5e419cd45",
       "value": true
      }
     },
     "d346675f5ff94d0d8a48a304689036b5": {
      "model_module": "@jupyter-widgets/controls",
      "model_module_version": "2.0.0",
      "model_name": "HBoxModel",
      "state": {
       "children": [
        "IPY_MODEL_cbb2ec0298c14627a4262eaf829347ec",
        "IPY_MODEL_dc4379976b5342158434349f64f352eb",
        "IPY_MODEL_ba85b0c2e595419d8422eaf3ddb774a1",
        "IPY_MODEL_71dde1312a5a434d95e06d753a497795"
       ],
       "layout": "IPY_MODEL_e0046e92a05b4e76af2b1b6d05011098"
      }
     },
     "d3b6f04f932847b0aaad6572664fc080": {
      "model_module": "@jupyter-widgets/base",
      "model_module_version": "2.0.0",
      "model_name": "LayoutModel",
      "state": {
       "padding": "0px 3px 0px 0px",
       "width": "70px"
      }
     },
     "d4681e31052c41d3806537ce125ef2a1": {
      "model_module": "@jupyter-widgets/base",
      "model_module_version": "2.0.0",
      "model_name": "LayoutModel",
      "state": {
       "padding": "0px 4px 0px 4px"
      }
     },
     "d46d7ccea1c34efdbf78ea0870bdfd84": {
      "model_module": "@jupyter-widgets/controls",
      "model_module_version": "2.0.0",
      "model_name": "ToggleButtonStyleModel",
      "state": {
       "description_width": "",
       "font_family": null,
       "font_size": null,
       "font_style": null,
       "font_variant": null,
       "font_weight": null,
       "text_color": null,
       "text_decoration": null
      }
     },
     "d57a0f95c9944a6785902b174d983d5b": {
      "model_module": "@jupyter-widgets/base",
      "model_module_version": "2.0.0",
      "model_name": "LayoutModel",
      "state": {
       "height": "25px",
       "padding": "0px",
       "width": "25px"
      }
     },
     "d5bdee4112a24e8e871ab23701bdd674": {
      "model_module": "@jupyter-widgets/base",
      "model_module_version": "2.0.0",
      "model_name": "LayoutModel",
      "state": {
       "height": "18px",
       "width": "140px"
      }
     },
     "d5eecdfba5a54abaa95c954f4303a944": {
      "model_module": "@jupyter-widgets/controls",
      "model_module_version": "2.0.0",
      "model_name": "ToggleButtonModel",
      "state": {
       "icon": "server",
       "layout": "IPY_MODEL_21c9a3d2c421492184177b95155f2493",
       "style": "IPY_MODEL_4512841715c949778620e73b71f955b7",
       "tooltip": "Layers",
       "value": true
      }
     },
     "d62a52a1ffe74af2af1d21a8af93e7b4": {
      "model_module": "@jupyter-widgets/base",
      "model_module_version": "2.0.0",
      "model_name": "LayoutModel",
      "state": {
       "padding": "0px 4px 0px 4px"
      }
     },
     "d67835edb5314d809d2e41e260542ddf": {
      "model_module": "jupyter-leaflet",
      "model_module_version": "^0.19",
      "model_name": "LeafletMapStyleModel",
      "state": {
       "_model_module_version": "^0.19"
      }
     },
     "d7fcb32e6e374399920c3d6914192701": {
      "model_module": "@jupyter-widgets/controls",
      "model_module_version": "2.0.0",
      "model_name": "ButtonStyleModel",
      "state": {
       "font_family": null,
       "font_size": null,
       "font_style": null,
       "font_variant": null,
       "font_weight": null,
       "text_color": null,
       "text_decoration": null
      }
     },
     "d826b37a68224372bace170679ed33be": {
      "model_module": "@jupyter-widgets/base",
      "model_module_version": "2.0.0",
      "model_name": "LayoutModel",
      "state": {
       "height": "25px",
       "padding": "0px",
       "width": "25px"
      }
     },
     "d98341643cc940e28f31618c985467ec": {
      "model_module": "jupyter-leaflet",
      "model_module_version": "^0.19",
      "model_name": "LeafletMeasureControlModel",
      "state": {
       "_model_module_version": "^0.19",
       "_view_module_version": "^0.19",
       "active_color": "orange",
       "options": [
        "active_color",
        "capture_z_index",
        "completed_color",
        "popup_options",
        "position",
        "primary_area_unit",
        "primary_length_unit",
        "secondary_area_unit",
        "secondary_length_unit"
       ],
       "position": "bottomleft",
       "primary_length_unit": "kilometers",
       "secondary_area_unit": null,
       "secondary_length_unit": null
      }
     },
     "d98aa742ef0446f790e37ee988d4a57d": {
      "model_module": "@jupyter-widgets/controls",
      "model_module_version": "2.0.0",
      "model_name": "HBoxModel",
      "state": {
       "children": [
        "IPY_MODEL_7f83a48d7b584f1eb9b99fc10784a771",
        "IPY_MODEL_68184aeecb3b4a73b8139cf3f6c82557",
        "IPY_MODEL_e206fe9570f444c7ba09d339be81ed15",
        "IPY_MODEL_9749da04a22d471e95a86fb397049f7c"
       ],
       "layout": "IPY_MODEL_9998cdf0c134445286d360173ebedfdd"
      }
     },
     "d9b79d58c5434a078826da3c0a6760dd": {
      "model_module": "@jupyter-widgets/output",
      "model_module_version": "1.0.0",
      "model_name": "OutputModel",
      "state": {
       "layout": "IPY_MODEL_7504de408fb649bdb9757932ddc357bb"
      }
     },
     "d9dc9d3446784f8f8f3539b1b895d085": {
      "model_module": "@jupyter-widgets/controls",
      "model_module_version": "2.0.0",
      "model_name": "ButtonStyleModel",
      "state": {
       "font_family": null,
       "font_size": null,
       "font_style": null,
       "font_variant": null,
       "font_weight": null,
       "text_color": null,
       "text_decoration": null
      }
     },
     "da03d6f53ec74a08b0c9ff37067c2e13": {
      "model_module": "jupyter-leaflet",
      "model_module_version": "^0.19",
      "model_name": "LeafletWidgetControlModel",
      "state": {
       "_model_module_version": "^0.19",
       "_view_module_version": "^0.19",
       "options": [
        "position",
        "transparent_bg"
       ],
       "position": "topright",
       "widget": "IPY_MODEL_3a441c28e9034fdb94ac3318050db022"
      }
     },
     "da72ebecca5a48efb73d5599a379dc6a": {
      "model_module": "@jupyter-widgets/base",
      "model_module_version": "2.0.0",
      "model_name": "LayoutModel",
      "state": {
       "padding": "0px 4px 0px 4px"
      }
     },
     "da74a3e248274928939aa547e3fa10fe": {
      "model_module": "@jupyter-widgets/base",
      "model_module_version": "2.0.0",
      "model_name": "LayoutModel",
      "state": {
       "height": "18px",
       "padding": "0px 4px 25px 4px",
       "width": "30ex"
      }
     },
     "dad3403b03844f599ef0859b54824b75": {
      "model_module": "@jupyter-widgets/base",
      "model_module_version": "2.0.0",
      "model_name": "LayoutModel",
      "state": {
       "padding": "0px 4px 0px 4px"
      }
     },
     "dbbd08d4a902432ab106856f07df3cff": {
      "model_module": "@jupyter-widgets/base",
      "model_module_version": "2.0.0",
      "model_name": "LayoutModel",
      "state": {}
     },
     "dc4379976b5342158434349f64f352eb": {
      "model_module": "@jupyter-widgets/controls",
      "model_module_version": "2.0.0",
      "model_name": "FloatSliderModel",
      "state": {
       "behavior": "drag-tap",
       "layout": "IPY_MODEL_64770d4073c846f4aa332352d34fd4f1",
       "max": 1,
       "readout": false,
       "step": 0.01,
       "style": "IPY_MODEL_aaea00ddf121441d93eecf5a61dd2263",
       "value": 1
      }
     },
     "dc64cc003d7e47cfa4bcca97ee157962": {
      "model_module": "@jupyter-widgets/base",
      "model_module_version": "2.0.0",
      "model_name": "LayoutModel",
      "state": {
       "padding": "0px 3px 0px 0px",
       "width": "70px"
      }
     },
     "dc8c336b6fb240da827147af9b89d555": {
      "model_module": "@jupyter-widgets/controls",
      "model_module_version": "2.0.0",
      "model_name": "CheckboxModel",
      "state": {
       "description": "adm1 Mali",
       "disabled": false,
       "indent": false,
       "layout": "IPY_MODEL_b3ac6cca5c5049a891afb74ab038c2ea",
       "style": "IPY_MODEL_3da899444730413cbc72cfac0643c7dc",
       "value": true
      }
     },
     "dca5ae48c8124c1d8aef3068e97dd600": {
      "model_module": "@jupyter-widgets/base",
      "model_module_version": "2.0.0",
      "model_name": "LayoutModel",
      "state": {
       "padding": "0px 3px 0px 0px",
       "width": "70px"
      }
     },
     "dcbf7912593b4862a329ce0a04d38fc5": {
      "model_module": "@jupyter-widgets/base",
      "model_module_version": "2.0.0",
      "model_name": "LayoutModel",
      "state": {
       "height": "25px",
       "padding": "0px",
       "width": "25px"
      }
     },
     "dcde34f192cf4ffea6993206aaea257c": {
      "model_module": "@jupyter-widgets/base",
      "model_module_version": "2.0.0",
      "model_name": "LayoutModel",
      "state": {
       "padding": "0px 4px 0px 4px"
      }
     },
     "dd011dcbec7742bea244a0e790557fdd": {
      "model_module": "@jupyter-widgets/base",
      "model_module_version": "2.0.0",
      "model_name": "LayoutModel",
      "state": {
       "padding": "0px 3px 0px 0px",
       "width": "70px"
      }
     },
     "dd234a3cc08e4c4e9d5723937aeed5af": {
      "model_module": "@jupyter-widgets/base",
      "model_module_version": "2.0.0",
      "model_name": "LayoutModel",
      "state": {
       "height": "25px",
       "padding": "0px",
       "width": "25px"
      }
     },
     "dd711f37540d493e9c418391016e4592": {
      "model_module": "@jupyter-widgets/controls",
      "model_module_version": "2.0.0",
      "model_name": "FloatSliderModel",
      "state": {
       "behavior": "drag-tap",
       "layout": "IPY_MODEL_0e90dbbab35544d7bf4807d7c39988ad",
       "max": 1,
       "readout": false,
       "step": 0.01,
       "style": "IPY_MODEL_f634739bd4d442ff8d7b939cc0dd5baa",
       "value": 1
      }
     },
     "dde97162edc24df98cf8dc0609c0c0aa": {
      "model_module": "@jupyter-widgets/base",
      "model_module_version": "2.0.0",
      "model_name": "LayoutModel",
      "state": {
       "height": "25px",
       "padding": "0px",
       "width": "25px"
      }
     },
     "de78c0a13172402d930f55167b66e965": {
      "model_module": "@jupyter-widgets/base",
      "model_module_version": "2.0.0",
      "model_name": "LayoutModel",
      "state": {
       "height": "18px",
       "width": "140px"
      }
     },
     "df26e78e5bfe41e58ba7f82ec20a1ef6": {
      "model_module": "@jupyter-widgets/controls",
      "model_module_version": "2.0.0",
      "model_name": "FloatSliderModel",
      "state": {
       "behavior": "drag-tap",
       "layout": "IPY_MODEL_e2980836890f4d27b9273f3464560024",
       "max": 1,
       "readout": false,
       "step": 0.01,
       "style": "IPY_MODEL_0d96895941244787ae92fbd1cea46c18",
       "value": 1
      }
     },
     "df5b054429384ff4a077e36763f7f1e6": {
      "model_module": "@jupyter-widgets/controls",
      "model_module_version": "2.0.0",
      "model_name": "FloatSliderModel",
      "state": {
       "behavior": "drag-tap",
       "layout": "IPY_MODEL_54f7c9fbce7a447ea16dd002f64cdada",
       "max": 1,
       "readout": false,
       "step": 0.01,
       "style": "IPY_MODEL_fa096e2e3940418b8736b9b30464b7b4",
       "value": 1
      }
     },
     "df6b39ab67ba4562a23537a20e0f4ecb": {
      "model_module": "@jupyter-widgets/controls",
      "model_module_version": "2.0.0",
      "model_name": "ToggleButtonStyleModel",
      "state": {
       "description_width": "",
       "font_family": null,
       "font_size": null,
       "font_style": null,
       "font_variant": null,
       "font_weight": null,
       "text_color": null,
       "text_decoration": null
      }
     },
     "dfd605d703354f2ea3b8f7160c86ee31": {
      "model_module": "@jupyter-widgets/controls",
      "model_module_version": "2.0.0",
      "model_name": "CheckboxModel",
      "state": {
       "description": "All layers on/off",
       "disabled": false,
       "indent": false,
       "layout": "IPY_MODEL_5fb3013df52b4f178625221f12044e7b",
       "style": "IPY_MODEL_4b59788c57e44ed698919f05e4d89b6d",
       "value": false
      }
     },
     "e0046e92a05b4e76af2b1b6d05011098": {
      "model_module": "@jupyter-widgets/base",
      "model_module_version": "2.0.0",
      "model_name": "LayoutModel",
      "state": {
       "padding": "0px 4px 0px 4px"
      }
     },
     "e06de813f765495ab1bc7a8978134454": {
      "model_module": "@jupyter-widgets/base",
      "model_module_version": "2.0.0",
      "model_name": "LayoutModel",
      "state": {
       "padding": "0px 3px 0px 0px",
       "width": "70px"
      }
     },
     "e188989db0c7465da2ee5e3047671a94": {
      "model_module": "@jupyter-widgets/base",
      "model_module_version": "2.0.0",
      "model_name": "LayoutModel",
      "state": {
       "padding": "0px 3px 0px 0px",
       "width": "70px"
      }
     },
     "e206fe9570f444c7ba09d339be81ed15": {
      "model_module": "@jupyter-widgets/controls",
      "model_module_version": "2.0.0",
      "model_name": "ButtonModel",
      "state": {
       "icon": "gear",
       "layout": "IPY_MODEL_a667012006d34c1587e72daad4c12020",
       "style": "IPY_MODEL_014afe6bf6f7474fbbbc0f33384606f0",
       "tooltip": "Binar Events Mali"
      }
     },
     "e23e7a5509544318b52c28cbcf4f4dee": {
      "model_module": "@jupyter-widgets/controls",
      "model_module_version": "2.0.0",
      "model_name": "CheckboxStyleModel",
      "state": {
       "description_width": ""
      }
     },
     "e24f12aa8cec4773a7c83011e0afd6a7": {
      "model_module": "ipyevents",
      "model_module_version": "2.0.2",
      "model_name": "EventModel",
      "state": {
       "_supported_key_events": [
        "keydown",
        "keyup"
       ],
       "_supported_mouse_events": [
        "click",
        "auxclick",
        "dblclick",
        "mouseenter",
        "mouseleave",
        "mousedown",
        "mouseup",
        "mousemove",
        "wheel",
        "contextmenu",
        "dragstart",
        "drag",
        "dragend",
        "dragenter",
        "dragover",
        "dragleave",
        "drop"
       ],
       "_supported_touch_events": [
        "touchstart",
        "touchend",
        "touchmove",
        "touchcancel"
       ],
       "_view_module": "@jupyter-widgets/controls",
       "source": "IPY_MODEL_c9cc9be26bfe48c9a8c2740cb73df2bd",
       "throttle_or_debounce": "",
       "watched_events": [
        "mouseenter",
        "mouseleave"
       ],
       "xy_coordinate_system": ""
      }
     },
     "e2980836890f4d27b9273f3464560024": {
      "model_module": "@jupyter-widgets/base",
      "model_module_version": "2.0.0",
      "model_name": "LayoutModel",
      "state": {
       "padding": "0px 3px 0px 0px",
       "width": "70px"
      }
     },
     "e2dfb9fb1b62401c93a43efba68102af": {
      "model_module": "@jupyter-widgets/base",
      "model_module_version": "2.0.0",
      "model_name": "LayoutModel",
      "state": {
       "height": "25px",
       "padding": "0px",
       "width": "25px"
      }
     },
     "e3278a9b0b564b139d56a21f56602bb1": {
      "model_module": "@jupyter-widgets/controls",
      "model_module_version": "2.0.0",
      "model_name": "CheckboxStyleModel",
      "state": {
       "description_width": ""
      }
     },
     "e374e6778c624149a64b009d7f267603": {
      "model_module": "@jupyter-widgets/controls",
      "model_module_version": "2.0.0",
      "model_name": "ToggleButtonStyleModel",
      "state": {
       "description_width": "",
       "font_family": null,
       "font_size": null,
       "font_style": null,
       "font_variant": null,
       "font_weight": null,
       "text_color": null,
       "text_decoration": null
      }
     },
     "e3c76f499c544d04ab5938c0c3e45b91": {
      "model_module": "@jupyter-widgets/controls",
      "model_module_version": "2.0.0",
      "model_name": "ButtonStyleModel",
      "state": {
       "font_family": null,
       "font_size": null,
       "font_style": null,
       "font_variant": null,
       "font_weight": null,
       "text_color": null,
       "text_decoration": null
      }
     },
     "e4bc17f05d45433ea347acd035ddf45c": {
      "model_module": "jupyter-leaflet",
      "model_module_version": "^0.19",
      "model_name": "LeafletWidgetControlModel",
      "state": {
       "_model_module_version": "^0.19",
       "_view_module_version": "^0.19",
       "options": [
        "position",
        "transparent_bg"
       ],
       "widget": "IPY_MODEL_9b30d168c02444218f76863aec90970b"
      }
     },
     "e516e54839d84bcbbe83a27459e41726": {
      "model_module": "@jupyter-widgets/base",
      "model_module_version": "2.0.0",
      "model_name": "LayoutModel",
      "state": {
       "height": "auto",
       "padding": "0px 0px 0px 4px",
       "width": "auto"
      }
     },
     "e51eb69d24dc4917be07c03c364b4ec4": {
      "model_module": "@jupyter-widgets/controls",
      "model_module_version": "2.0.0",
      "model_name": "HBoxModel",
      "state": {
       "children": [
        "IPY_MODEL_9c574e70852c49319e7e050e107b9f6a",
        "IPY_MODEL_dd711f37540d493e9c418391016e4592",
        "IPY_MODEL_7bfc96cc270f4d57b34042eb3e6a5f8a",
        "IPY_MODEL_a71b825159ca499cbeb067c845fb39ff"
       ],
       "layout": "IPY_MODEL_45839cb6895e4381ba71f75017a6ba7a"
      }
     },
     "e5abaa4c3df74ef5b14e9f37ccc5269e": {
      "model_module": "@jupyter-widgets/controls",
      "model_module_version": "2.0.0",
      "model_name": "SliderStyleModel",
      "state": {
       "description_width": ""
      }
     },
     "e5c159dab77d441dae687bd837bcb620": {
      "model_module": "@jupyter-widgets/controls",
      "model_module_version": "2.0.0",
      "model_name": "HBoxModel",
      "state": {
       "children": [
        "IPY_MODEL_f6d4b9bd6b6b49ac92c2a91a9b3eb810",
        "IPY_MODEL_6401306e568746428c2c4f3263be74e2",
        "IPY_MODEL_60e581dee4024736b94f7d02edbcd2e0",
        "IPY_MODEL_7c3f6cdc8be54dca8178dbefd49f121a"
       ],
       "layout": "IPY_MODEL_4c512ebaa9414c158fbb9be4f0b528f0"
      }
     },
     "e60a7332411346f09c6c7548a2617706": {
      "model_module": "@jupyter-widgets/controls",
      "model_module_version": "2.0.0",
      "model_name": "ButtonModel",
      "state": {
       "_view_count": 0,
       "icon": "times",
       "layout": "IPY_MODEL_dd234a3cc08e4c4e9d5723937aeed5af",
       "style": "IPY_MODEL_c4b518311983404e979dd512b466de60",
       "tooltip": "Loaded"
      }
     },
     "e640078f1fa544c2a9e558f4d5501935": {
      "model_module": "@jupyter-widgets/controls",
      "model_module_version": "2.0.0",
      "model_name": "CheckboxStyleModel",
      "state": {
       "description_width": ""
      }
     },
     "e6688a30d62f4c7996f38de2d006be70": {
      "model_module": "ipyevents",
      "model_module_version": "2.0.2",
      "model_name": "EventModel",
      "state": {
       "_supported_key_events": [
        "keydown",
        "keyup"
       ],
       "_supported_mouse_events": [
        "click",
        "auxclick",
        "dblclick",
        "mouseenter",
        "mouseleave",
        "mousedown",
        "mouseup",
        "mousemove",
        "wheel",
        "contextmenu",
        "dragstart",
        "drag",
        "dragend",
        "dragenter",
        "dragover",
        "dragleave",
        "drop"
       ],
       "_supported_touch_events": [
        "touchstart",
        "touchend",
        "touchmove",
        "touchcancel"
       ],
       "_view_module": "@jupyter-widgets/controls",
       "source": "IPY_MODEL_46af393e617a4345a846d09b6fc529d2",
       "throttle_or_debounce": "",
       "watched_events": [
        "mouseenter",
        "mouseleave"
       ],
       "xy_coordinate_system": ""
      }
     },
     "e67bf554bbc949f294e86ec670cdeeeb": {
      "model_module": "ipyevents",
      "model_module_version": "2.0.2",
      "model_name": "EventModel",
      "state": {
       "_supported_key_events": [
        "keydown",
        "keyup"
       ],
       "_supported_mouse_events": [
        "click",
        "auxclick",
        "dblclick",
        "mouseenter",
        "mouseleave",
        "mousedown",
        "mouseup",
        "mousemove",
        "wheel",
        "contextmenu",
        "dragstart",
        "drag",
        "dragend",
        "dragenter",
        "dragover",
        "dragleave",
        "drop"
       ],
       "_supported_touch_events": [
        "touchstart",
        "touchend",
        "touchmove",
        "touchcancel"
       ],
       "_view_module": "@jupyter-widgets/controls",
       "source": "IPY_MODEL_71dde1312a5a434d95e06d753a497795",
       "throttle_or_debounce": "",
       "watched_events": [
        "mouseenter",
        "mouseleave"
       ],
       "xy_coordinate_system": ""
      }
     },
     "e6b1863da8934f1484e567ec966ac4d9": {
      "model_module": "jupyter-leaflet",
      "model_module_version": "^0.19",
      "model_name": "LeafletAttributionControlModel",
      "state": {
       "_model_module_version": "^0.19",
       "_view_module_version": "^0.19",
       "options": [
        "position",
        "prefix"
       ],
       "position": "bottomright",
       "prefix": "ipyleaflet"
      }
     },
     "e79e4936c3a9410ab6845e4aa1fffff4": {
      "model_module": "@jupyter-widgets/base",
      "model_module_version": "2.0.0",
      "model_name": "LayoutModel",
      "state": {
       "padding": "0px 3px 0px 0px",
       "width": "70px"
      }
     },
     "e9ab434e0bc04af1a1876dc3e06efeef": {
      "model_module": "jupyter-leaflet",
      "model_module_version": "^0.19",
      "model_name": "LeafletMapModel",
      "state": {
       "_model_module_version": "^0.19",
       "_view_module_version": "^0.19",
       "bottom": 1948327,
       "center": [
        12.669191307915677,
        3.9612496938187123
       ],
       "controls": [
        "IPY_MODEL_e4bc17f05d45433ea347acd035ddf45c",
        "IPY_MODEL_4bcc87e61d914366a666fbfe12f8f6a8",
        "IPY_MODEL_509239bfc80346d698b116b8e80ac182",
        "IPY_MODEL_8e0ef853d8d44320afb98a25dba909c4",
        "IPY_MODEL_6a8e96f818974ca0af88071e63a6ac0d",
        "IPY_MODEL_d98341643cc940e28f31618c985467ec",
        "IPY_MODEL_da03d6f53ec74a08b0c9ff37067c2e13",
        "IPY_MODEL_e6b1863da8934f1484e567ec966ac4d9"
       ],
       "default_style": "IPY_MODEL_3214e0d9d0eb43f0aa46776489ccc9fc",
       "dragging_style": "IPY_MODEL_9d7129f1c20b49bab606c3648cb6fd6c",
       "east": 3.9612579345703125,
       "fullscreen": false,
       "interpolation": "bilinear",
       "layers": [
        "IPY_MODEL_b67a910deaae4e65879f471aa4f45d24",
        "IPY_MODEL_c7b261e5010d462a88f8e8fca6427e49",
        "IPY_MODEL_cb5677363aeb43199f870b181c57ad1c",
        "IPY_MODEL_f7f4e2ca4f444b32ba1c640e4fec4fa2",
        "IPY_MODEL_550baab157b54757985214822d446571",
        "IPY_MODEL_cd4f71cfbf7943c9a12f149ddb131616",
        "IPY_MODEL_fb544d191427446c8cab1495b1ab2b7c"
       ],
       "layout": "IPY_MODEL_c20b117dc9084f719b26a12d782d3df4",
       "left": 2143304,
       "max_zoom": 24,
       "modisdate": "2024-12-05",
       "north": 12.669230561476342,
       "options": [
        "bounce_at_zoom_limits",
        "box_zoom",
        "center",
        "close_popup_on_click",
        "double_click_zoom",
        "dragging",
        "fullscreen",
        "inertia",
        "inertia_deceleration",
        "inertia_max_speed",
        "interpolation",
        "keyboard",
        "keyboard_pan_offset",
        "keyboard_zoom_offset",
        "max_zoom",
        "min_zoom",
        "prefer_canvas",
        "scroll_wheel_zoom",
        "tap",
        "tap_tolerance",
        "touch_zoom",
        "world_copy_jump",
        "zoom",
        "zoom_animation_threshold",
        "zoom_delta",
        "zoom_snap"
       ],
       "prefer_canvas": false,
       "right": 2143304,
       "scroll_wheel_zoom": true,
       "south": 12.669230561476342,
       "style": "IPY_MODEL_3214e0d9d0eb43f0aa46776489ccc9fc",
       "top": 1948327,
       "west": 3.9612579345703125,
       "window_url": "http://localhost:8888/notebooks/Documents/ISEP3_2025/Stats_spatiale/Statistique-Exploratoire-Spatiale/TP11/Groupe%20-%20GEE%20with%20Python/TP11_suite_TP6_SES.ipynb",
       "zoom": 14
      }
     },
     "e9d92c40438145e4a514da59193b3ce6": {
      "model_module": "@jupyter-widgets/base",
      "model_module_version": "2.0.0",
      "model_name": "LayoutModel",
      "state": {
       "padding": "0px 3px 0px 0px",
       "width": "70px"
      }
     },
     "ea54dfc6165a45749435148d52600800": {
      "model_module": "@jupyter-widgets/controls",
      "model_module_version": "2.0.0",
      "model_name": "ButtonStyleModel",
      "state": {
       "font_family": null,
       "font_size": null,
       "font_style": null,
       "font_variant": null,
       "font_weight": null,
       "text_color": null,
       "text_decoration": null
      }
     },
     "ea8d75dbe4034eadadab78b316319791": {
      "model_module": "@jupyter-widgets/controls",
      "model_module_version": "2.0.0",
      "model_name": "ButtonModel",
      "state": {
       "icon": "gear",
       "layout": "IPY_MODEL_b7cf28b9dcb345a5940125ab89a8805e",
       "style": "IPY_MODEL_cb8345215e074b6bb4dd6e6f9b53becd",
       "tooltip": "adm1 Mali"
      }
     },
     "ea977797ae694e6ba47e48513b15b5ab": {
      "model_module": "@jupyter-widgets/controls",
      "model_module_version": "2.0.0",
      "model_name": "CheckboxStyleModel",
      "state": {
       "description_width": ""
      }
     },
     "eb21ea2d63474c028a73f6842b834a1f": {
      "model_module": "@jupyter-widgets/controls",
      "model_module_version": "2.0.0",
      "model_name": "CheckboxModel",
      "state": {
       "description": "Population Mali",
       "disabled": false,
       "indent": false,
       "layout": "IPY_MODEL_0b2e88565c76459e8afc042be530a14c",
       "style": "IPY_MODEL_0d0e2f7f78d74fc5b26610c18bb26192",
       "value": true
      }
     },
     "eb3abdb835cb415796ea7c371d082d84": {
      "model_module": "@jupyter-widgets/controls",
      "model_module_version": "2.0.0",
      "model_name": "SliderStyleModel",
      "state": {
       "description_width": ""
      }
     },
     "eb49c16fc8ed44c28164c2554e9d2c8f": {
      "model_module": "@jupyter-widgets/controls",
      "model_module_version": "2.0.0",
      "model_name": "HBoxModel",
      "state": {
       "children": [
        "IPY_MODEL_5c2346ebcf214af6bbf21b3a88c38efd",
        "IPY_MODEL_952e2e8d01a54bc082ac420710f8b787",
        "IPY_MODEL_ba1bcaf1aa184839abc4a99b625ab435",
        "IPY_MODEL_27216d8d98624b98a971a009df514f43"
       ],
       "layout": "IPY_MODEL_788a5803423a4431aaef043176ca2f6f"
      }
     },
     "eb6596d84d4f4c1088b3432a7c681b70": {
      "model_module": "ipyevents",
      "model_module_version": "2.0.2",
      "model_name": "EventModel",
      "state": {
       "_supported_key_events": [
        "keydown",
        "keyup"
       ],
       "_supported_mouse_events": [
        "click",
        "auxclick",
        "dblclick",
        "mouseenter",
        "mouseleave",
        "mousedown",
        "mouseup",
        "mousemove",
        "wheel",
        "contextmenu",
        "dragstart",
        "drag",
        "dragend",
        "dragenter",
        "dragover",
        "dragleave",
        "drop"
       ],
       "_supported_touch_events": [
        "touchstart",
        "touchend",
        "touchmove",
        "touchcancel"
       ],
       "_view_module": "@jupyter-widgets/controls",
       "source": "IPY_MODEL_f600178aba6541dd8916d27c8d0f77b8",
       "throttle_or_debounce": "",
       "watched_events": [
        "mouseenter",
        "mouseleave"
       ],
       "xy_coordinate_system": ""
      }
     },
     "ebd397bbeb7f4d97a0f856dccc4011b5": {
      "model_module": "@jupyter-widgets/base",
      "model_module_version": "2.0.0",
      "model_name": "LayoutModel",
      "state": {
       "height": "18px",
       "width": "140px"
      }
     },
     "ec1df5bb268f4eeb8a658d2fba28e4a2": {
      "model_module": "@jupyter-widgets/controls",
      "model_module_version": "2.0.0",
      "model_name": "ButtonModel",
      "state": {
       "icon": "gear",
       "layout": "IPY_MODEL_0e41df960dbe4307883920f1e651bec5",
       "style": "IPY_MODEL_f01bfca95260404e9dc6a2e113b3f0ec",
       "tooltip": "Population Mali"
      }
     },
     "ec44596261964c7f806bcb80e1c14396": {
      "model_module": "@jupyter-widgets/controls",
      "model_module_version": "2.0.0",
      "model_name": "CheckboxModel",
      "state": {
       "description": "adm2 Mali",
       "disabled": false,
       "indent": false,
       "layout": "IPY_MODEL_a6fc3fad99804484a2be838091559ab2",
       "style": "IPY_MODEL_76c3092988b043a5895834393278dbe5",
       "value": true
      }
     },
     "ecdde2bcdda54efd8bf59abb34a9583b": {
      "model_module": "@jupyter-widgets/controls",
      "model_module_version": "2.0.0",
      "model_name": "ToggleButtonModel",
      "state": {
       "button_style": "primary",
       "icon": "question",
       "layout": "IPY_MODEL_1f0bd676d5624340891abb75723c0844",
       "style": "IPY_MODEL_8282ddcfe0f24285a28816d218c08246",
       "tooltip": "Get help"
      }
     },
     "ed4bfa112db04a46b35a9bcf851c6bc2": {
      "model_module": "ipyevents",
      "model_module_version": "2.0.2",
      "model_name": "EventModel",
      "state": {
       "_supported_key_events": [
        "keydown",
        "keyup"
       ],
       "_supported_mouse_events": [
        "click",
        "auxclick",
        "dblclick",
        "mouseenter",
        "mouseleave",
        "mousedown",
        "mouseup",
        "mousemove",
        "wheel",
        "contextmenu",
        "dragstart",
        "drag",
        "dragend",
        "dragenter",
        "dragover",
        "dragleave",
        "drop"
       ],
       "_supported_touch_events": [
        "touchstart",
        "touchend",
        "touchmove",
        "touchcancel"
       ],
       "_view_module": "@jupyter-widgets/controls",
       "source": "IPY_MODEL_47ee18b32e04475a845d75a584d31728",
       "throttle_or_debounce": "",
       "watched_events": [
        "mouseenter",
        "mouseleave"
       ],
       "xy_coordinate_system": ""
      }
     },
     "ed52927a582842b5a355820620ef0b45": {
      "model_module": "@jupyter-widgets/controls",
      "model_module_version": "2.0.0",
      "model_name": "CheckboxModel",
      "state": {
       "description": "OpenStreetMap.Mapnik",
       "disabled": false,
       "indent": false,
       "layout": "IPY_MODEL_30e3e5c70427412e8ff2f2dfd5e2734e",
       "style": "IPY_MODEL_1c2d56a86c334d8db14dd56ffad78f32",
       "value": true
      }
     },
     "ee352ba8701249cda8d5cef129264115": {
      "model_module": "@jupyter-widgets/controls",
      "model_module_version": "2.0.0",
      "model_name": "HBoxModel",
      "state": {
       "children": [
        "IPY_MODEL_3e18f91df7f743909ed4b57cea50ae1c",
        "IPY_MODEL_251bd4a6aa8d41689146cfe203edd5ca"
       ],
       "layout": "IPY_MODEL_26f2c5f31ee44f718c35276ea76ce139"
      }
     },
     "ee80c3a0abb3423ba3b1c189cc7ad55d": {
      "model_module": "@jupyter-widgets/controls",
      "model_module_version": "2.0.0",
      "model_name": "CheckboxModel",
      "state": {
       "description": "adm1 Mali",
       "disabled": false,
       "indent": false,
       "layout": "IPY_MODEL_495df608de5743a6a5bc8bfef1c9c5df",
       "style": "IPY_MODEL_f0d924a4842b4d1681a041bb42c7d091",
       "value": true
      }
     },
     "ee8c4fbd8d9e4938b79aa3acae5cf95a": {
      "model_module": "@jupyter-widgets/base",
      "model_module_version": "2.0.0",
      "model_name": "LayoutModel",
      "state": {
       "height": "auto",
       "padding": "0px 0px 0px 4px",
       "width": "auto"
      }
     },
     "eff047e42fcd402490c47c68e7366741": {
      "model_module": "@jupyter-widgets/controls",
      "model_module_version": "2.0.0",
      "model_name": "CheckboxModel",
      "state": {
       "description": "All layers on/off",
       "disabled": false,
       "indent": false,
       "layout": "IPY_MODEL_19cc9f835459408c8a51c12e77f834b8",
       "style": "IPY_MODEL_56b0db0a5f9b48fe80c15b148c80dd00",
       "value": false
      }
     },
     "f01bfca95260404e9dc6a2e113b3f0ec": {
      "model_module": "@jupyter-widgets/controls",
      "model_module_version": "2.0.0",
      "model_name": "ButtonStyleModel",
      "state": {
       "font_family": null,
       "font_size": null,
       "font_style": null,
       "font_variant": null,
       "font_weight": null,
       "text_color": null,
       "text_decoration": null
      }
     },
     "f099b07e16dc4c6dac68692ae13795ae": {
      "model_module": "@jupyter-widgets/controls",
      "model_module_version": "2.0.0",
      "model_name": "HBoxModel",
      "state": {
       "children": [
        "IPY_MODEL_af739d9fcf2141d89a742c5f010efc3a",
        "IPY_MODEL_c9847db182b5467da1bc97f42a077cf2",
        "IPY_MODEL_8e5e1daba33347d9abede864184e66fd",
        "IPY_MODEL_2614958e1759462c9ba95146f269b330"
       ],
       "layout": "IPY_MODEL_dad3403b03844f599ef0859b54824b75"
      }
     },
     "f0d924a4842b4d1681a041bb42c7d091": {
      "model_module": "@jupyter-widgets/controls",
      "model_module_version": "2.0.0",
      "model_name": "CheckboxStyleModel",
      "state": {
       "description_width": ""
      }
     },
     "f10071fabc7f492ca528e8389bdb1563": {
      "model_module": "@jupyter-widgets/controls",
      "model_module_version": "2.0.0",
      "model_name": "SliderStyleModel",
      "state": {
       "description_width": ""
      }
     },
     "f1941fa8cb7f47199a83845d7fe1699a": {
      "model_module": "@jupyter-widgets/controls",
      "model_module_version": "2.0.0",
      "model_name": "FloatSliderModel",
      "state": {
       "behavior": "drag-tap",
       "layout": "IPY_MODEL_6ab67566df5d4474a0d64d33f7de79d4",
       "max": 1,
       "readout": false,
       "step": 0.01,
       "style": "IPY_MODEL_cff1791a55c74e31ae96219fc8cdda36",
       "value": 1
      }
     },
     "f24b45c1350e4f149bae75b7996e7d1f": {
      "model_module": "@jupyter-widgets/base",
      "model_module_version": "2.0.0",
      "model_name": "LayoutModel",
      "state": {
       "height": "25px",
       "padding": "0px",
       "width": "25px"
      }
     },
     "f2fc8b3f12ab4e6a9607dfd4596b0dff": {
      "model_module": "@jupyter-widgets/base",
      "model_module_version": "2.0.0",
      "model_name": "LayoutModel",
      "state": {
       "height": "25px",
       "padding": "0px",
       "width": "25px"
      }
     },
     "f3636e09dc114c40b46f116522d16123": {
      "model_module": "@jupyter-widgets/controls",
      "model_module_version": "2.0.0",
      "model_name": "FloatSliderModel",
      "state": {
       "behavior": "drag-tap",
       "layout": "IPY_MODEL_82b69fbfea284f7094b2d488fd5762c9",
       "max": 1,
       "readout": false,
       "step": 0.01,
       "style": "IPY_MODEL_12801eb3bcf748e2b294616314375b51",
       "value": 1
      }
     },
     "f368bf1d54b74a388b6cdfc59a16c141": {
      "model_module": "@jupyter-widgets/controls",
      "model_module_version": "2.0.0",
      "model_name": "HBoxModel",
      "state": {
       "children": [
        "IPY_MODEL_38ffc207c30b49b18eb63ff4659fbcf9",
        "IPY_MODEL_4e5b8de12c4942ffa9a9b134fef91835"
       ],
       "layout": "IPY_MODEL_c3900d652a874cba81819284d6fe5814"
      }
     },
     "f39c9add0d7e43bc820c55cb06173717": {
      "model_module": "@jupyter-widgets/controls",
      "model_module_version": "2.0.0",
      "model_name": "ButtonStyleModel",
      "state": {
       "font_family": null,
       "font_size": null,
       "font_style": null,
       "font_variant": null,
       "font_weight": null,
       "text_color": null,
       "text_decoration": null
      }
     },
     "f41fa8e63fd645f5a4eeb4c5b43948dd": {
      "model_module": "@jupyter-widgets/controls",
      "model_module_version": "2.0.0",
      "model_name": "FloatSliderModel",
      "state": {
       "behavior": "drag-tap",
       "layout": "IPY_MODEL_312d1742bf52429f8001cfbeb825b7e2",
       "max": 1,
       "readout": false,
       "step": 0.01,
       "style": "IPY_MODEL_33bb1f765bad4956957671167eab54aa",
       "value": 1
      }
     },
     "f4ae9256828f4035b0db8bb07f1d632a": {
      "model_module": "@jupyter-widgets/base",
      "model_module_version": "2.0.0",
      "model_name": "LayoutModel",
      "state": {}
     },
     "f55f477a53a944d28de88313c78eb7e4": {
      "model_module": "@jupyter-widgets/controls",
      "model_module_version": "2.0.0",
      "model_name": "SliderStyleModel",
      "state": {
       "description_width": ""
      }
     },
     "f5fc78075914473691deda8dca74aaf6": {
      "model_module": "@jupyter-widgets/controls",
      "model_module_version": "2.0.0",
      "model_name": "ToggleButtonStyleModel",
      "state": {
       "description_width": "",
       "font_family": null,
       "font_size": null,
       "font_style": null,
       "font_variant": null,
       "font_weight": null,
       "text_color": null,
       "text_decoration": null
      }
     },
     "f600178aba6541dd8916d27c8d0f77b8": {
      "model_module": "@jupyter-widgets/controls",
      "model_module_version": "2.0.0",
      "model_name": "ButtonModel",
      "state": {
       "_view_count": 0,
       "icon": "times",
       "layout": "IPY_MODEL_cd00493ebb9448de9e90c07f064c3032",
       "style": "IPY_MODEL_e3c76f499c544d04ab5938c0c3e45b91",
       "tooltip": "Loaded"
      }
     },
     "f634739bd4d442ff8d7b939cc0dd5baa": {
      "model_module": "@jupyter-widgets/controls",
      "model_module_version": "2.0.0",
      "model_name": "SliderStyleModel",
      "state": {
       "description_width": ""
      }
     },
     "f6c3901c57f6423593d44dd6570cf56f": {
      "model_module": "@jupyter-widgets/controls",
      "model_module_version": "2.0.0",
      "model_name": "ButtonStyleModel",
      "state": {
       "font_family": null,
       "font_size": null,
       "font_style": null,
       "font_variant": null,
       "font_weight": null,
       "text_color": null,
       "text_decoration": null
      }
     },
     "f6d4b9bd6b6b49ac92c2a91a9b3eb810": {
      "model_module": "@jupyter-widgets/controls",
      "model_module_version": "2.0.0",
      "model_name": "CheckboxModel",
      "state": {
       "description": "OpenStreetMap.Mapnik",
       "disabled": false,
       "indent": false,
       "layout": "IPY_MODEL_1141614fca0e4cc2a63011447846bad2",
       "style": "IPY_MODEL_00757ea949854432894fbeeddcc3d399",
       "value": true
      }
     },
     "f7f4e2ca4f444b32ba1c640e4fec4fa2": {
      "model_module": "jupyter-leaflet",
      "model_module_version": "^0.19",
      "model_name": "LeafletTileLayerModel",
      "state": {
       "_model_module_version": "^0.19",
       "_view_module_version": "^0.19",
       "attribution": "Google Earth Engine",
       "max_zoom": 24,
       "name": "Population Mali",
       "options": [
        "attribution",
        "bounds",
        "detect_retina",
        "max_native_zoom",
        "max_zoom",
        "min_native_zoom",
        "min_zoom",
        "no_wrap",
        "tile_size",
        "tms",
        "zoom_offset"
       ],
       "url": "https://earthengine.googleapis.com/v1/projects/187773910538/maps/2f48fca5f9ab30fa8f853ec67d793226-6ab4c79c5fbe0d8c2b3d1927d6cdefc9/tiles/{z}/{x}/{y}"
      }
     },
     "f85bb8721ec94b918a06207efed80faf": {
      "model_module": "@jupyter-widgets/base",
      "model_module_version": "2.0.0",
      "model_name": "LayoutModel",
      "state": {
       "padding": "0px 4px 0px 4px"
      }
     },
     "f8932cbbe0444ee9a4ff0f0869a36872": {
      "model_module": "ipyevents",
      "model_module_version": "2.0.2",
      "model_name": "EventModel",
      "state": {
       "_supported_key_events": [
        "keydown",
        "keyup"
       ],
       "_supported_mouse_events": [
        "click",
        "auxclick",
        "dblclick",
        "mouseenter",
        "mouseleave",
        "mousedown",
        "mouseup",
        "mousemove",
        "wheel",
        "contextmenu",
        "dragstart",
        "drag",
        "dragend",
        "dragenter",
        "dragover",
        "dragleave",
        "drop"
       ],
       "_supported_touch_events": [
        "touchstart",
        "touchend",
        "touchmove",
        "touchcancel"
       ],
       "_view_module": "@jupyter-widgets/controls",
       "source": "IPY_MODEL_e60a7332411346f09c6c7548a2617706",
       "throttle_or_debounce": "",
       "watched_events": [
        "mouseenter",
        "mouseleave"
       ],
       "xy_coordinate_system": ""
      }
     },
     "fa096e2e3940418b8736b9b30464b7b4": {
      "model_module": "@jupyter-widgets/controls",
      "model_module_version": "2.0.0",
      "model_name": "SliderStyleModel",
      "state": {
       "description_width": ""
      }
     },
     "fa3e01cd1e354f96931735c89c82e77b": {
      "model_module": "@jupyter-widgets/base",
      "model_module_version": "2.0.0",
      "model_name": "LayoutModel",
      "state": {
       "height": "25px",
       "padding": "0px",
       "width": "25px"
      }
     },
     "faf2197a51df4c87be25cefb72ff7e06": {
      "model_module": "@jupyter-widgets/base",
      "model_module_version": "2.0.0",
      "model_name": "LayoutModel",
      "state": {
       "height": "auto",
       "padding": "0px 0px 0px 4px",
       "width": "auto"
      }
     },
     "faf3711177864dccb7ac4af1f9ea76b0": {
      "model_module": "@jupyter-widgets/base",
      "model_module_version": "2.0.0",
      "model_name": "LayoutModel",
      "state": {
       "height": "25px",
       "padding": "0px",
       "width": "25px"
      }
     },
     "fb544d191427446c8cab1495b1ab2b7c": {
      "model_module": "jupyter-leaflet",
      "model_module_version": "^0.19",
      "model_name": "LeafletTileLayerModel",
      "state": {
       "_model_module_version": "^0.19",
       "_view_module_version": "^0.19",
       "attribution": "Google Earth Engine",
       "max_zoom": 24,
       "name": "Binar population Mali",
       "options": [
        "attribution",
        "bounds",
        "detect_retina",
        "max_native_zoom",
        "max_zoom",
        "min_native_zoom",
        "min_zoom",
        "no_wrap",
        "tile_size",
        "tms",
        "zoom_offset"
       ],
       "url": "https://earthengine.googleapis.com/v1/projects/187773910538/maps/4f1fea0db162c9c8de1791871a0b97e9-27209c8d006cc844c8f0b8a5c28afe4e/tiles/{z}/{x}/{y}"
      }
     },
     "fb5aef7d3d2f44129759dfc992d81077": {
      "model_module": "ipyevents",
      "model_module_version": "2.0.2",
      "model_name": "EventModel",
      "state": {
       "_supported_key_events": [
        "keydown",
        "keyup"
       ],
       "_supported_mouse_events": [
        "click",
        "auxclick",
        "dblclick",
        "mouseenter",
        "mouseleave",
        "mousedown",
        "mouseup",
        "mousemove",
        "wheel",
        "contextmenu",
        "dragstart",
        "drag",
        "dragend",
        "dragenter",
        "dragover",
        "dragleave",
        "drop"
       ],
       "_supported_touch_events": [
        "touchstart",
        "touchend",
        "touchmove",
        "touchcancel"
       ],
       "_view_module": "@jupyter-widgets/controls",
       "source": "IPY_MODEL_9749da04a22d471e95a86fb397049f7c",
       "throttle_or_debounce": "",
       "watched_events": [
        "mouseenter",
        "mouseleave"
       ],
       "xy_coordinate_system": ""
      }
     },
     "fc7c356714d94acf89dcc094811d2a7e": {
      "model_module": "@jupyter-widgets/base",
      "model_module_version": "2.0.0",
      "model_name": "LayoutModel",
      "state": {
       "height": "18px",
       "width": "140px"
      }
     },
     "fc7f5d101aa84617b02f847bfb6ecf68": {
      "model_module": "@jupyter-widgets/controls",
      "model_module_version": "2.0.0",
      "model_name": "SliderStyleModel",
      "state": {
       "description_width": ""
      }
     },
     "fc9680b313be404bb535d68d6132bc9f": {
      "model_module": "@jupyter-widgets/controls",
      "model_module_version": "2.0.0",
      "model_name": "ButtonModel",
      "state": {
       "_view_count": 2,
       "icon": "times",
       "layout": "IPY_MODEL_4d551f51314d409f9ef159e38eb03b56",
       "style": "IPY_MODEL_a2f6321985594b2292e273cde32a1ffa",
       "tooltip": "Loaded"
      }
     },
     "fdba856f2ec64cb48ea88c763f2e743d": {
      "model_module": "@jupyter-widgets/base",
      "model_module_version": "2.0.0",
      "model_name": "LayoutModel",
      "state": {
       "padding": "0px 4px 0px 4px"
      }
     },
     "fe17e84ea6054626b232e10fdfe59769": {
      "model_module": "@jupyter-widgets/controls",
      "model_module_version": "2.0.0",
      "model_name": "HBoxModel",
      "state": {
       "children": [
        "IPY_MODEL_ec44596261964c7f806bcb80e1c14396",
        "IPY_MODEL_86ebd4d8727d4a55a6f5385844e317c4",
        "IPY_MODEL_c1cd8609d164486bb5046d3a92fa07a4",
        "IPY_MODEL_e60a7332411346f09c6c7548a2617706"
       ],
       "layout": "IPY_MODEL_a3687b9c1a774f5289a41ae685c468fe"
      }
     },
     "fe615cd530c04346bcc40517700fcda1": {
      "model_module": "@jupyter-widgets/controls",
      "model_module_version": "2.0.0",
      "model_name": "CheckboxModel",
      "state": {
       "description": "Events Mali",
       "disabled": false,
       "indent": false,
       "layout": "IPY_MODEL_1d00b044c86b41128af72d1e1c0401ff",
       "style": "IPY_MODEL_3c8589dc55be48eca05e7c6649b203be",
       "value": true
      }
     },
     "fe6ae33eecfa41658730c36094be9bca": {
      "model_module": "@jupyter-widgets/controls",
      "model_module_version": "2.0.0",
      "model_name": "ToggleButtonStyleModel",
      "state": {
       "description_width": "",
       "font_family": null,
       "font_size": null,
       "font_style": null,
       "font_variant": null,
       "font_weight": null,
       "text_color": null,
       "text_decoration": null
      }
     },
     "fed4453e402247a1bc62634ffd8e237d": {
      "model_module": "@jupyter-widgets/controls",
      "model_module_version": "2.0.0",
      "model_name": "HBoxModel",
      "state": {
       "children": [
        "IPY_MODEL_8630a4c29c424b319c4fd780d07bae47",
        "IPY_MODEL_98fef30e756f41a09e164b14de4ae53d",
        "IPY_MODEL_25536b4aa3484c89ab1529772f192e0a",
        "IPY_MODEL_903792e445c44560b011f5717cb0d450"
       ],
       "layout": "IPY_MODEL_6edcfff3e06a4d12bade80aec726a204"
      }
     },
     "ff8daff5a48d475892d328636144bb5c": {
      "model_module": "@jupyter-widgets/controls",
      "model_module_version": "2.0.0",
      "model_name": "FloatSliderModel",
      "state": {
       "behavior": "drag-tap",
       "layout": "IPY_MODEL_6cfc0e90315f4671bebc005f8ffe4ee8",
       "max": 1,
       "readout": false,
       "step": 0.01,
       "style": "IPY_MODEL_a69a899520844a8eb0fea492b1f8bc9e",
       "value": 1
      }
     }
    },
    "version_major": 2,
    "version_minor": 0
   }
  }
 },
 "nbformat": 4,
 "nbformat_minor": 5
}
