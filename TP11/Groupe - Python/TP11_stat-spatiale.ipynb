{
 "cells": [
  {
   "cell_type": "markdown",
   "id": "6e5f6498-1277-405b-a55f-c408cb802650",
   "metadata": {
    "jp-MarkdownHeadingCollapsed": true
   },
   "source": [
    "# TP11 Statistique exploratoire spatiale\n",
    "\n",
    "## Consigne du TP\n",
    "\n",
    "### Etape 1 : Préparation du raster des évébements\n",
    "* Importer les points;\n",
    "* Filtrer par rapport au pays MALI;\n",
    "* Filtrer par rappor à l'année 2020;\n",
    "* Rasteriser les points (résolution spatiale = 5000 m);\n",
    "* Binariser le raster des événements obtenu (1 si >= 5; 0 sinon).\n",
    "\n",
    "### Etape 2 : Préparation du raster population Mali\n",
    "* Importer le raster worldpop_mali pour l'année 2020;\n",
    "* Diminuer la résolution spatiale en faisant la somme ( 100 m -> 5000 m );\n",
    "* Binariser le raster worldpop_5000m (1 si >= 50; 0 sinon).\n",
    "\n",
    "### Etape 3 : Calcul du confliction diffusion indicator (CDI)\n",
    "* Multiplier les deux rasters;\n",
    "* Calculer par admin le nombre de 1 avec le raster multiplié (a);\n",
    "* Faire la même chose pour le raster Worldpop binarisé (b);\n",
    "* l'indicateur est donné par a/b.\n",
    "\n",
    "## Membre du groupe\n",
    "* Mame Balla BOUSSO\n",
    "* Ameth FAYE\n",
    "* Hiledegarde EDIMA BIYENDA\n",
    "* Papa Amadou NIANG\n"
   ]
  },
  {
   "cell_type": "markdown",
   "id": "260ee6e9-ad96-4fdb-88b1-66350bddc41f",
   "metadata": {},
   "source": [
    "# Importation des packages necessaires"
   ]
  },
  {
   "cell_type": "code",
   "execution_count": 2,
   "id": "b175ac19-e961-4ba1-9b4b-702bd86aef0e",
   "metadata": {},
   "outputs": [],
   "source": [
    "import os\n",
    "import pandas as pd\n",
    "import geopandas as gpd\n",
    "from shapely.geometry import Point\n",
    "import numpy as np\n",
    "import rasterio\n",
    "from rasterio.windows import Window\n",
    "from affine import Affine\n",
    "from rasterio.transform import from_origin\n",
    "from rasterio.features import rasterize\n",
    "from skimage.measure import block_reduce\n",
    "from rasterstats import zonal_stats"
   ]
  },
  {
   "cell_type": "markdown",
   "id": "6584ad95-1ae2-49ff-a5f9-710063be4be7",
   "metadata": {},
   "source": [
    "# Etape 1 : Préparation du raster des évébements"
   ]
  },
  {
   "cell_type": "markdown",
   "id": "8512a2c9-b5f3-4fce-9fbe-7326e5d897f4",
   "metadata": {},
   "source": [
    "## Importation des points"
   ]
  },
  {
   "cell_type": "code",
   "execution_count": 3,
   "id": "d1168860-3c93-40cd-85d8-a014a36fe95f",
   "metadata": {},
   "outputs": [
    {
     "name": "stdout",
     "output_type": "stream",
     "text": [
      "      event_id_cnty  year  latitude  longitude                 geometry\n",
      "42789       MLI4682  2020   14.3493    -3.6102  POINT (-3.6102 14.3493)\n",
      "42794       MLI4683  2020   14.7983    -1.3025  POINT (-1.3025 14.7983)\n",
      "42802       MLI4684  2020   14.8059    -6.0182  POINT (-6.0182 14.8059)\n",
      "42804       MLI4616  2020   13.9581    -3.7103  POINT (-3.7103 13.9581)\n",
      "42832       MLI4681  2020   16.1118    -0.3408  POINT (-0.3408 16.1118)\n"
     ]
    }
   ],
   "source": [
    "# Définir le chemin du dossier\n",
    "dossier_path ='D:\\Statistique exploratoire spatiale\\Cours2\\Statistique-Exploratoire-Spatiale\\TP11\\Groupe - Python'\n",
    "os.chdir(dossier_path)\n",
    "\n",
    "# Construire le chemin complet vers le fichier CSV\n",
    "points = 'data\\Points_data.csv'\n",
    "\n",
    "# Charger les données\n",
    "df = pd.read_csv(points)\n",
    "\n",
    "# Filtrer les données pour le Mali en 2020\n",
    "df_mali_2020 = df[(df['country'] == 'Mali') & (df['year'] == 2020)]\n",
    "\n",
    "# Créer le GeoDataFrame\n",
    "gdf = gpd.GeoDataFrame(\n",
    "    df_mali_2020,\n",
    "    geometry=gpd.points_from_xy(df_mali_2020['longitude'], df_mali_2020['latitude']),\n",
    "    crs='EPSG:4326'\n",
    ")\n",
    "\n",
    "# Sélectionner les colonnes qui nous interesse\n",
    "gdf = gdf[['event_id_cnty', 'year', 'latitude', 'longitude', 'geometry']]\n",
    "\n",
    "# Afficher les premières lignes\n",
    "print(gdf.head())"
   ]
  },
  {
   "cell_type": "markdown",
   "id": "c7747776-f427-4dbc-9a99-e5324039b009",
   "metadata": {},
   "source": [
    "## Rasteriser les événements"
   ]
  },
  {
   "cell_type": "code",
   "execution_count": 5,
   "id": "35f12900-f53d-4400-97a3-b06c276e69c0",
   "metadata": {},
   "outputs": [],
   "source": [
    "# Rasteriser les événements\n",
    "minx, miny, maxx, maxy = gdf.total_bounds\n",
    "width = int((maxx - minx) / 5000) + 1\n",
    "height = int((maxy - miny) / 5000) + 1\n",
    "transform = from_origin(minx, maxy, 5000, 5000)\n",
    "\n",
    "raster_data = np.zeros((height, width), dtype=int)\n",
    "\n",
    "event_counts = rasterize(\n",
    "    [(geom, 1) for geom in gdf.geometry],\n",
    "    out_shape=(height, width),\n",
    "    transform=transform,\n",
    "    fill=0,\n",
    "    all_touched=True,\n",
    "    dtype='int32',\n",
    "    merge_alg=rasterio.enums.MergeAlg.add\n",
    ")\n",
    "\n",
    "meta = {\n",
    "    'driver': 'GTiff',\n",
    "    'height': height,\n",
    "    'width': width,\n",
    "    'count': 1,\n",
    "    'dtype': 'int32',\n",
    "    'crs': gdf.crs,\n",
    "    'transform': transform\n",
    "}\n",
    "\n",
    "with rasterio.open(r'outputs\\raster_evenements_2020.tif', 'w', **meta) as dst:\n",
    "    dst.write(event_counts, 1)"
   ]
  },
  {
   "cell_type": "markdown",
   "id": "0dd473e1-f063-479f-acda-ff4725361daa",
   "metadata": {},
   "source": [
    "## Binariser le raster des événements"
   ]
  },
  {
   "cell_type": "code",
   "execution_count": 6,
   "id": "cbc666fb-ce5c-4b3e-a813-b79f32c07323",
   "metadata": {},
   "outputs": [],
   "source": [
    "# Binariser le raster des événements\n",
    "binary_events = np.where(event_counts >= 5, 1, 0)\n",
    "with rasterio.open(r'outputs\\raster_evenements_binaire.tif', 'w', **meta) as dst:\n",
    "    dst.write(binary_events.astype('int8'), 1)"
   ]
  },
  {
   "cell_type": "markdown",
   "id": "43b02ae8-f32a-42f6-b86c-b2e690f20611",
   "metadata": {},
   "source": [
    "# Etape 2 : Préparation du raster population Mali"
   ]
  },
  {
   "cell_type": "code",
   "execution_count": 6,
   "id": "d23b64fe-71f9-4c16-b891-fed47b78febe",
   "metadata": {
    "scrolled": true
   },
   "outputs": [
    {
     "name": "stdout",
     "output_type": "stream",
     "text": [
      "Agrégation et binarisation terminées avec succès.\n"
     ]
    }
   ],
   "source": [
    "# Chemins d'accès aux fichiers\n",
    "worldpop_path = r'data\\worldpop_mali.tif'\n",
    "worldpop2_path = r'outputs\\worldpop_mali_5000m.tif'\n",
    "\n",
    "# Taille du bloc d'agrégation\n",
    "block_size = 50\n",
    "\n",
    "with rasterio.open(worldpop_path) as src:\n",
    "    # Lire les métadonnées du raster source\n",
    "    src_meta = src.meta.copy()\n",
    "    src_transform = src.transform\n",
    "    src_crs = src.crs\n",
    "    src_width = src.width\n",
    "    src_height = src.height\n",
    "\n",
    "    # Calculer les dimensions du raster agrégé\n",
    "    out_width = src_width // block_size\n",
    "    out_height = src_height // block_size\n",
    "\n",
    "    # Gérer les bords si les dimensions ne sont pas multiples de block_size\n",
    "    if src_width % block_size != 0:\n",
    "        out_width += 1\n",
    "    if src_height % block_size != 0:\n",
    "        out_height += 1\n",
    "\n",
    "    # Mettre à jour la transformation pour le raster agrégé\n",
    "    new_transform = src_transform * Affine.scale(block_size, block_size)\n",
    "\n",
    "    # Mettre à jour les métadonnées pour le raster de sortie\n",
    "    out_meta = src_meta.copy()\n",
    "    out_meta.update({\n",
    "        'height': out_height,\n",
    "        'width': out_width,\n",
    "        'transform': new_transform,\n",
    "        'dtype': 'int8',\n",
    "        'count': 1,\n",
    "        'nodata': -1  # Valeur nodata compatible avec int8\n",
    "    })\n",
    "\n",
    "    # Créer le fichier raster de sortie\n",
    "    with rasterio.open(worldpop2_path, 'w', **out_meta) as dst:\n",
    "        # Parcourir chaque bloc\n",
    "        for row in range(out_height):\n",
    "            for col in range(out_width):\n",
    "                # Définir la fenêtre de lecture\n",
    "                window = Window(col * block_size, row * block_size, block_size, block_size)\n",
    "                \n",
    "                # Lire les données de la fenêtre\n",
    "                data = src.read(1, window=window)\n",
    "                \n",
    "                # Vérifier si la fenêtre dépasse les limites du raster\n",
    "                if data.shape[0] != block_size or data.shape[1] != block_size:\n",
    "                    pad_height = block_size - data.shape[0]\n",
    "                    pad_width = block_size - data.shape[1]\n",
    "                    data = np.pad(data, ((0, pad_height), (0, pad_width)), 'constant', constant_values=0)\n",
    "                \n",
    "                # Calculer la somme des populations dans le bloc\n",
    "                sum_pop = np.sum(data)\n",
    "                \n",
    "                # Binariser selon le seuil (ex: 50)\n",
    "                binary = 1 if sum_pop >= 50 else 0\n",
    "                \n",
    "                # Écrire la valeur binaire dans le raster de sortie\n",
    "                dst.write(np.array([[binary]], dtype='int8'), 1, window=Window(col, row, 1, 1))\n",
    "\n",
    "print(\"Agrégation et binarisation terminées avec succès.\")"
   ]
  },
  {
   "cell_type": "markdown",
   "id": "221673e6-5cfd-4880-a746-7e1f77cac213",
   "metadata": {},
   "source": [
    "# Etape 3 : Calcul du confliction diffusion indicator (CDI)"
   ]
  },
  {
   "cell_type": "code",
   "execution_count": 16,
   "id": "bc9ac9f8-8a61-4d28-81a3-ecd211d72b66",
   "metadata": {},
   "outputs": [
    {
     "name": "stderr",
     "output_type": "stream",
     "text": [
      "C:\\Users\\user\\AppData\\Local\\Temp\\ipykernel_5752\\2591909992.py:41: UserWarning: Column names longer than 10 characters will be truncated when saved to ESRI Shapefile.\n",
      "  gdf_admin.to_file(r'outputs\\admin_mali_indicateur_diffusion.shp')\n",
      "C:\\Users\\user\\anaconda3\\Lib\\site-packages\\pyogrio\\raw.py:723: RuntimeWarning: Field date create as date field, though DateTime requested.\n",
      "  ogr_write(\n",
      "C:\\Users\\user\\anaconda3\\Lib\\site-packages\\pyogrio\\raw.py:723: RuntimeWarning: Field validOn create as date field, though DateTime requested.\n",
      "  ogr_write(\n",
      "C:\\Users\\user\\anaconda3\\Lib\\site-packages\\pyogrio\\raw.py:723: RuntimeWarning: Normalized/laundered field name: 'sum_multiplied' to 'sum_multip'\n",
      "  ogr_write(\n",
      "C:\\Users\\user\\anaconda3\\Lib\\site-packages\\pyogrio\\raw.py:723: RuntimeWarning: Normalized/laundered field name: 'indicateur_diffusion' to 'indicateur'\n",
      "  ogr_write(\n"
     ]
    }
   ],
   "source": [
    "# Charger le raster binaire WorldPop\n",
    "with rasterio.open(worldpop2_path) as src:\n",
    "    binary_worldpop = src.read(1)\n",
    "    meta = src.meta.copy()\n",
    "\n",
    "with rasterio.open(r'outputs\\raster_multiplied.tif', 'w', **meta) as dst:\n",
    "    multiplied_raster = binary_events * binary_worldpop\n",
    "    dst.write(multiplied_raster.astype('int8'), 1)\n",
    "\n",
    "# Charger les unités administratives\n",
    "admin_shp = 'data\\mli_adm_ab_shp\\mli_admbnda_adm1_1m_gov_20211220.shp'\n",
    "gdf_admin = gpd.read_file(admin_shp)\n",
    "gdf_admin = gdf_admin.to_crs(gdf.crs)\n",
    "\n",
    "# Calculer les statistiques zonales\n",
    "stats_multiplied = zonal_stats(\n",
    "    gdf_admin,\n",
    "    r'outputs\\raster_multiplied.tif',\n",
    "    stats='sum',\n",
    "    nodata=0\n",
    ")\n",
    "gdf_admin['sum_multiplied'] = [s['sum'] for s in stats_multiplied]\n",
    "\n",
    "stats_wp = zonal_stats(\n",
    "    gdf_admin,\n",
    "    worldpop2_path,\n",
    "    stats='sum',\n",
    "    nodata=0\n",
    ")\n",
    "gdf_admin['sum_wp'] = [s['sum'] for s in stats_wp]\n",
    "\n",
    "# Calculer l'indicateur en évitant la division par zéro\n",
    "gdf_admin['indicateur_diffusion'] = gdf_admin.apply(\n",
    "    lambda row: row['sum_multiplied'] / row['sum_wp'] if row['sum_wp'] > 0 else 0,\n",
    "    axis=1\n",
    ")\n",
    "\n",
    "\n",
    "# Sauvegarder les résultats\n",
    "gdf_admin.to_file(r'outputs\\admin_mali_indicateur_diffusion.shp')"
   ]
  },
  {
   "cell_type": "code",
   "execution_count": null,
   "id": "998f286b-ad1f-40a8-a24c-19ebdadae3cb",
   "metadata": {},
   "outputs": [],
   "source": []
  }
 ],
 "metadata": {
  "kernelspec": {
   "display_name": "Python 3 (ipykernel)",
   "language": "python",
   "name": "python3"
  },
  "language_info": {
   "codemirror_mode": {
    "name": "ipython",
    "version": 3
   },
   "file_extension": ".py",
   "mimetype": "text/x-python",
   "name": "python",
   "nbconvert_exporter": "python",
   "pygments_lexer": "ipython3",
   "version": "3.11.7"
  }
 },
 "nbformat": 4,
 "nbformat_minor": 5
}
