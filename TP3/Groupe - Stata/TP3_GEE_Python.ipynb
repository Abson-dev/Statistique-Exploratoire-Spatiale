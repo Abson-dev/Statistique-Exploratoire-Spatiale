{
 "cells": [
  {
   "cell_type": "markdown",
   "id": "dd2a1e87-2dca-4588-80b5-c774497cf4fc",
   "metadata": {},
   "source": [
    "## GEE with Python\n",
    "\n",
    "conda create -n gee python=3.8\n",
    "\n",
    "conda activate gee\n",
    "\n",
    "pip install earthengine-api geemap windows-curses\n",
    "\n",
    "conda install jupyter\n",
    "\n",
    "conda install ipykernel\n",
    "\n",
    "python -m ipykernel install --user --name gee --display-name \"Python (gee)\"\n",
    "\n",
    "jupyter notebook"
   ]
  },
  {
   "cell_type": "code",
   "execution_count": 17,
   "id": "f706f1b9-16eb-4081-8ff8-1a6b100ac8bf",
   "metadata": {},
   "outputs": [
    {
     "data": {
      "text/html": [
       "\n",
       "            <style>\n",
       "                .geemap-dark {\n",
       "                    --jp-widgets-color: white;\n",
       "                    --jp-widgets-label-color: white;\n",
       "                    --jp-ui-font-color1: white;\n",
       "                    --jp-layout-color2: #454545;\n",
       "                    background-color: #383838;\n",
       "                }\n",
       "\n",
       "                .geemap-dark .jupyter-button {\n",
       "                    --jp-layout-color3: #383838;\n",
       "                }\n",
       "\n",
       "                .geemap-colab {\n",
       "                    background-color: var(--colab-primary-surface-color, white);\n",
       "                }\n",
       "\n",
       "                .geemap-colab .jupyter-button {\n",
       "                    --jp-layout-color3: var(--colab-primary-surface-color, white);\n",
       "                }\n",
       "            </style>\n",
       "            "
      ],
      "text/plain": [
       "<IPython.core.display.HTML object>"
      ]
     },
     "metadata": {},
     "output_type": "display_data"
    }
   ],
   "source": [
    "import ee\n",
    "import geemap\n",
    "\n",
    "# Authentification et initialisation de Google Earth Engine\n",
    "ee.Authenticate()\n",
    "ee.Initialize()"
   ]
  },
  {
   "cell_type": "markdown",
   "id": "57197619-066a-4c49-83b6-3511743eb3d2",
   "metadata": {},
   "source": [
    "# Importation des données raster"
   ]
  },
  {
   "cell_type": "code",
   "execution_count": 18,
   "id": "6b20aca0-f137-4b73-9407-5fd02dc11156",
   "metadata": {},
   "outputs": [
    {
     "data": {
      "text/html": [
       "\n",
       "            <style>\n",
       "                .geemap-dark {\n",
       "                    --jp-widgets-color: white;\n",
       "                    --jp-widgets-label-color: white;\n",
       "                    --jp-ui-font-color1: white;\n",
       "                    --jp-layout-color2: #454545;\n",
       "                    background-color: #383838;\n",
       "                }\n",
       "\n",
       "                .geemap-dark .jupyter-button {\n",
       "                    --jp-layout-color3: #383838;\n",
       "                }\n",
       "\n",
       "                .geemap-colab {\n",
       "                    background-color: var(--colab-primary-surface-color, white);\n",
       "                }\n",
       "\n",
       "                .geemap-colab .jupyter-button {\n",
       "                    --jp-layout-color3: var(--colab-primary-surface-color, white);\n",
       "                }\n",
       "            </style>\n",
       "            "
      ],
      "text/plain": [
       "<IPython.core.display.HTML object>"
      ]
     },
     "metadata": {},
     "output_type": "display_data"
    }
   ],
   "source": [
    "# Fonction pour obtenir les images raster par année et sélectionner la première bande\n",
    "def importation_rasters(annee):\n",
    "    nom_raster = f\"202406_Global_Pf_Parasite_Rate_BFA_{annee}\"\n",
    "    asset_id = f'projects/ee-khadijaaatou180702/assets/{nom_raster}'\n",
    "    return ee.Image(asset_id).select(0)\n",
    "\n",
    "# Liste des années pour les rasters\n",
    "annees = list(range(2000, 2023))\n",
    "\n",
    "# Charger toutes les images raster et sélectionner la première bande\n",
    "rasters = [importation_rasters(annee) for annee in annees]\n",
    "\n",
    "# Créer une collection à partir de la liste d'images\n",
    "stack_raster = ee.ImageCollection(rasters)"
   ]
  },
  {
   "cell_type": "markdown",
   "id": "994a000b-f37f-46c4-ba80-4df01cb13764",
   "metadata": {},
   "source": [
    "Cherchons le raster portant les taux moyens de parasite entre 2000 et 2022 pour chaque pixel"
   ]
  },
  {
   "cell_type": "code",
   "execution_count": 19,
   "id": "f6039ba9-4106-4689-8839-96af2128748a",
   "metadata": {},
   "outputs": [
    {
     "data": {
      "text/html": [
       "\n",
       "            <style>\n",
       "                .geemap-dark {\n",
       "                    --jp-widgets-color: white;\n",
       "                    --jp-widgets-label-color: white;\n",
       "                    --jp-ui-font-color1: white;\n",
       "                    --jp-layout-color2: #454545;\n",
       "                    background-color: #383838;\n",
       "                }\n",
       "\n",
       "                .geemap-dark .jupyter-button {\n",
       "                    --jp-layout-color3: #383838;\n",
       "                }\n",
       "\n",
       "                .geemap-colab {\n",
       "                    background-color: var(--colab-primary-surface-color, white);\n",
       "                }\n",
       "\n",
       "                .geemap-colab .jupyter-button {\n",
       "                    --jp-layout-color3: var(--colab-primary-surface-color, white);\n",
       "                }\n",
       "            </style>\n",
       "            "
      ],
      "text/plain": [
       "<IPython.core.display.HTML object>"
      ]
     },
     "metadata": {},
     "output_type": "display_data"
    }
   ],
   "source": [
    "# Calculer la moyenne sur la collection\n",
    "moyenne_raster = stack_raster.mean()"
   ]
  },
  {
   "cell_type": "code",
   "execution_count": 20,
   "id": "46349e6d-0532-4576-b605-e31cdf0542e5",
   "metadata": {
    "scrolled": true
   },
   "outputs": [
    {
     "data": {
      "text/html": [
       "\n",
       "            <style>\n",
       "                .geemap-dark {\n",
       "                    --jp-widgets-color: white;\n",
       "                    --jp-widgets-label-color: white;\n",
       "                    --jp-ui-font-color1: white;\n",
       "                    --jp-layout-color2: #454545;\n",
       "                    background-color: #383838;\n",
       "                }\n",
       "\n",
       "                .geemap-dark .jupyter-button {\n",
       "                    --jp-layout-color3: #383838;\n",
       "                }\n",
       "\n",
       "                .geemap-colab {\n",
       "                    background-color: var(--colab-primary-surface-color, white);\n",
       "                }\n",
       "\n",
       "                .geemap-colab .jupyter-button {\n",
       "                    --jp-layout-color3: var(--colab-primary-surface-color, white);\n",
       "                }\n",
       "            </style>\n",
       "            "
      ],
      "text/plain": [
       "<IPython.core.display.HTML object>"
      ]
     },
     "metadata": {},
     "output_type": "display_data"
    },
    {
     "data": {
      "application/vnd.jupyter.widget-view+json": {
       "model_id": "55b317e0845a433bbd7fc94f086c7238",
       "version_major": 2,
       "version_minor": 0
      },
      "text/plain": [
       "Map(center=[0, 0], controls=(WidgetControl(options=['position', 'transparent_bg'], widget=SearchDataGUI(childr…"
      ]
     },
     "execution_count": 20,
     "metadata": {},
     "output_type": "execute_result"
    }
   ],
   "source": [
    "from ipyleaflet import ImageOverlay\n",
    "# Paramètres de visualisation\n",
    "vis_params = {\n",
    "    'min': 0,\n",
    "    'max': 1,\n",
    "    'palette': ['blue', 'green', 'yellow', 'red']\n",
    "}\n",
    "\n",
    "# Créer une \n",
    "# Créer une instance de carte unique\n",
    "Map = geemap.Map(center=[0, 0], zoom=2)\n",
    "\n",
    "# Fonction pour visualiser une image en ajoutant une couche à la carte\n",
    "def visualize_image(image, vis_params, title):\n",
    "    Map.addLayer(image, title, vis_params)\n",
    "\n",
    "# Visualiser chaque statistique\n",
    "visualize_image(moyenne_raster, 'moyenne_raster' , vis_params)\n",
    "\n",
    "\n",
    "# Ajouter une barre de couleurs (légende automatique)\n",
    "Map.add_colorbar(vis_params=vis_params, label=\"Valeur\", layer_name='moyenne_raster')\n",
    "\n",
    "# Ajouter une flèche du nord\n",
    "north_arrow_url = 'https://upload.wikimedia.org/wikipedia/commons/e/eb/North_arrow.svg'  # URL de l'image de la flèche du nord\n",
    "north_arrow = ImageOverlay(\n",
    "    url=north_arrow_url,\n",
    "    bounds=[[0, 0], [0.1, 0.1]],  # Ajuster les coordonnées pour placer la flèche correctement\n",
    "    opacity=0.8\n",
    ")\n",
    "Map.add_layer(north_arrow)\n",
    "\n",
    "#Pour afficher la carte\n",
    "Map"
   ]
  },
  {
   "cell_type": "markdown",
   "id": "d3af3355-3e18-477e-88ad-971a69ff3d73",
   "metadata": {},
   "source": [
    "Superposons ce raster avec un shapefile "
   ]
  },
  {
   "cell_type": "code",
   "execution_count": 21,
   "id": "2374b373-4f1f-486f-8b90-012266dc482a",
   "metadata": {
    "scrolled": true
   },
   "outputs": [
    {
     "data": {
      "text/html": [
       "\n",
       "            <style>\n",
       "                .geemap-dark {\n",
       "                    --jp-widgets-color: white;\n",
       "                    --jp-widgets-label-color: white;\n",
       "                    --jp-ui-font-color1: white;\n",
       "                    --jp-layout-color2: #454545;\n",
       "                    background-color: #383838;\n",
       "                }\n",
       "\n",
       "                .geemap-dark .jupyter-button {\n",
       "                    --jp-layout-color3: #383838;\n",
       "                }\n",
       "\n",
       "                .geemap-colab {\n",
       "                    background-color: var(--colab-primary-surface-color, white);\n",
       "                }\n",
       "\n",
       "                .geemap-colab .jupyter-button {\n",
       "                    --jp-layout-color3: var(--colab-primary-surface-color, white);\n",
       "                }\n",
       "            </style>\n",
       "            "
      ],
      "text/plain": [
       "<IPython.core.display.HTML object>"
      ]
     },
     "metadata": {},
     "output_type": "display_data"
    },
    {
     "data": {
      "application/vnd.jupyter.widget-view+json": {
       "model_id": "179b6c53e20b48f39f48100970c50321",
       "version_major": 2,
       "version_minor": 0
      },
      "text/plain": [
       "Map(center=[0, 0], controls=(WidgetControl(options=['position', 'transparent_bg'], widget=SearchDataGUI(childr…"
      ]
     },
     "execution_count": 21,
     "metadata": {},
     "output_type": "execute_result"
    }
   ],
   "source": [
    "import geemap\n",
    "import ee\n",
    "\n",
    "# Initialiser l'API Earth Engine\n",
    "ee.Initialize() #Cela permetau script d'accéder à l'ensemble des fonctionnalités et des données disponibles dans la plateforme Earth Engine.\n",
    "\n",
    "# Paramètres de visualisation du raster\n",
    "vis_params = {\n",
    "    'min': 0,\n",
    "    'max': 1,\n",
    "    #'palette': ['blue', 'green', 'yellow', 'red']\n",
    "}\n",
    "\n",
    "\n",
    "# Charger le shapefile (FeatureCollection)\n",
    "shapefile = ee.FeatureCollection('projects/ee-khadijaaatou180702/assets/bfa_admbnda_adm3_igb_20200323') \n",
    "\n",
    "# Créer une carte\n",
    "Map = geemap.Map(center=[0, 0], zoom=2)\n",
    "\n",
    "# Ajouter le raster à la carte\n",
    "Map.addLayer(moyenne_raster, vis_params, 'Raster')\n",
    "\n",
    "# Ajouter le shapefile à la carte\n",
    "Map.addLayer(shapefile, {'color': 'black'}, 'Shapefile')\n",
    "\n",
    "# Afficher la carte avec les deux couches superposées\n",
    "Map\n"
   ]
  },
  {
   "cell_type": "markdown",
   "id": "7990644f-d045-4119-b39f-c6ea64ffddd6",
   "metadata": {},
   "source": [
    "## Calculons, à présent, les moyennes des pixels par niveau pour avoir les taux de parasite chez les enfants pour le pays, chaque région, chaque province et chaque département"
   ]
  },
  {
   "cell_type": "code",
   "execution_count": 23,
   "id": "5b52d457-0554-4697-b43a-5e34931debee",
   "metadata": {},
   "outputs": [
    {
     "data": {
      "text/html": [
       "\n",
       "            <style>\n",
       "                .geemap-dark {\n",
       "                    --jp-widgets-color: white;\n",
       "                    --jp-widgets-label-color: white;\n",
       "                    --jp-ui-font-color1: white;\n",
       "                    --jp-layout-color2: #454545;\n",
       "                    background-color: #383838;\n",
       "                }\n",
       "\n",
       "                .geemap-dark .jupyter-button {\n",
       "                    --jp-layout-color3: #383838;\n",
       "                }\n",
       "\n",
       "                .geemap-colab {\n",
       "                    background-color: var(--colab-primary-surface-color, white);\n",
       "                }\n",
       "\n",
       "                .geemap-colab .jupyter-button {\n",
       "                    --jp-layout-color3: var(--colab-primary-surface-color, white);\n",
       "                }\n",
       "            </style>\n",
       "            "
      ],
      "text/plain": [
       "<IPython.core.display.HTML object>"
      ]
     },
     "metadata": {},
     "output_type": "display_data"
    }
   ],
   "source": [
    "import geemap\n",
    "import ee\n",
    "\n",
    "# Charger les shapefiles des régions, provinces et du pays\n",
    "pays = ee.FeatureCollection('projects/ee-khadijaaatou180702/assets/bfa_admbnda_adm0_igb_20200323') \n",
    "regions = ee.FeatureCollection('projects/ee-khadijaaatou180702/assets/bfa_admbnda_adm1_igb_20200323')  \n",
    "provinces = ee.FeatureCollection('projects/ee-khadijaaatou180702/assets/bfa_admbnda_adm2_igb_20200323')  \n",
    "communes = ee.FeatureCollection('projects/ee-khadijaaatou180702/assets/bfa_admbnda_adm3_igb_20200323') \n",
    "\n",
    "# Fonction pour calculer les moyennes par zone\n",
    "def statistiques_par_zone(feature_collection, image, statistic_type='mean'):\n",
    "    stats = image.reduceRegions(\n",
    "        collection=feature_collection,\n",
    "        reducer=ee.Reducer.mean(),\n",
    "        scale=30\n",
    "    )\n",
    "    return stats\n",
    "\n",
    "\n",
    "# Calcul pour l'ensemble du pays\n",
    "moyenne_pays = statistiques_par_zone(pays, moyenne_raster)\n",
    "pays_result = moyenne_pays.getInfo()\n",
    "\n",
    "# Calcul par région\n",
    "moyenne_regions = statistiques_par_zone(regions, moyenne_raster)\n",
    "regions_result = moyenne_regions.getInfo()\n",
    "\n",
    "# Calcul par province\n",
    "moyenne_provinces = statistiques_par_zone(provinces, moyenne_raster)\n",
    "provinces_result = moyenne_provinces.getInfo()\n",
    "\n",
    "# Calcul par commune\n",
    "moyenne_commune = statistiques_par_zone(communes, moyenne_raster)\n",
    "communes_result = moyenne_commune.getInfo()\n",
    "\n",
    "\n"
   ]
  },
  {
   "cell_type": "code",
   "execution_count": 24,
   "id": "3e9005ab-ead2-477b-9ada-147022aac4b1",
   "metadata": {},
   "outputs": [
    {
     "data": {
      "text/html": [
       "\n",
       "            <style>\n",
       "                .geemap-dark {\n",
       "                    --jp-widgets-color: white;\n",
       "                    --jp-widgets-label-color: white;\n",
       "                    --jp-ui-font-color1: white;\n",
       "                    --jp-layout-color2: #454545;\n",
       "                    background-color: #383838;\n",
       "                }\n",
       "\n",
       "                .geemap-dark .jupyter-button {\n",
       "                    --jp-layout-color3: #383838;\n",
       "                }\n",
       "\n",
       "                .geemap-colab {\n",
       "                    background-color: var(--colab-primary-surface-color, white);\n",
       "                }\n",
       "\n",
       "                .geemap-colab .jupyter-button {\n",
       "                    --jp-layout-color3: var(--colab-primary-surface-color, white);\n",
       "                }\n",
       "            </style>\n",
       "            "
      ],
      "text/plain": [
       "<IPython.core.display.HTML object>"
      ]
     },
     "metadata": {},
     "output_type": "display_data"
    },
    {
     "name": "stdout",
     "output_type": "stream",
     "text": [
      "Moyenne pour le pays :\n",
      "Pays: Burkina Faso, Moyenne des valeurs des pixels: 0.5515284458355636\n"
     ]
    }
   ],
   "source": [
    "# Afficher les résultats\n",
    "print(\"Moyenne pour le pays :\")\n",
    "for feature in pays_result['features']:\n",
    "    nom_pays = feature['properties']['ADM0_FR']  \n",
    "    moyenne_valeur = feature['properties']['mean']\n",
    "    print(f\"Pays: {nom_pays}, Moyenne des valeurs des pixels: {moyenne_valeur}\")\n",
    "    \n"
   ]
  },
  {
   "cell_type": "code",
   "execution_count": 25,
   "id": "af9f38a7-d17b-4d2a-af54-8295f4b0aa3b",
   "metadata": {},
   "outputs": [
    {
     "data": {
      "text/html": [
       "\n",
       "            <style>\n",
       "                .geemap-dark {\n",
       "                    --jp-widgets-color: white;\n",
       "                    --jp-widgets-label-color: white;\n",
       "                    --jp-ui-font-color1: white;\n",
       "                    --jp-layout-color2: #454545;\n",
       "                    background-color: #383838;\n",
       "                }\n",
       "\n",
       "                .geemap-dark .jupyter-button {\n",
       "                    --jp-layout-color3: #383838;\n",
       "                }\n",
       "\n",
       "                .geemap-colab {\n",
       "                    background-color: var(--colab-primary-surface-color, white);\n",
       "                }\n",
       "\n",
       "                .geemap-colab .jupyter-button {\n",
       "                    --jp-layout-color3: var(--colab-primary-surface-color, white);\n",
       "                }\n",
       "            </style>\n",
       "            "
      ],
      "text/plain": [
       "<IPython.core.display.HTML object>"
      ]
     },
     "metadata": {},
     "output_type": "display_data"
    },
    {
     "name": "stdout",
     "output_type": "stream",
     "text": [
      "\n",
      "Moyennes par région :\n",
      "Région: Boucle du Mouhoun, Moyenne des valeurs des pixels: 0.588347845724836\n",
      "Région: Cascades, Moyenne des valeurs des pixels: 0.5553158279612954\n",
      "Région: Centre, Moyenne des valeurs des pixels: 0.38142843214033134\n",
      "Région: Centre-Est, Moyenne des valeurs des pixels: 0.5146212316149344\n",
      "Région: Centre-Nord, Moyenne des valeurs des pixels: 0.5563787706642385\n",
      "Région: Centre-Ouest, Moyenne des valeurs des pixels: 0.5818394973996383\n",
      "Région: Centre-Sud, Moyenne des valeurs des pixels: 0.500187854412427\n",
      "Région: Est, Moyenne des valeurs des pixels: 0.5765296859560157\n",
      "Région: Hauts-Bassins, Moyenne des valeurs des pixels: 0.5333631165982764\n",
      "Région: Nord, Moyenne des valeurs des pixels: 0.5509315323431959\n",
      "Région: Plateau-Central, Moyenne des valeurs des pixels: 0.4722754548632032\n",
      "Région: Sahel, Moyenne des valeurs des pixels: 0.5182482182139102\n",
      "Région: Sud-Ouest, Moyenne des valeurs des pixels: 0.5952927750503144\n"
     ]
    }
   ],
   "source": [
    "print(\"\\nMoyennes par région :\")\n",
    "for feature in regions_result['features']:\n",
    "    nom_region = feature['properties']['ADM1_FR']  \n",
    "    moyenne_valeur = feature['properties']['mean']\n",
    "    print(f\"Région: {nom_region}, Moyenne des valeurs des pixels: {moyenne_valeur}\")\n",
    "\n"
   ]
  },
  {
   "cell_type": "code",
   "execution_count": 26,
   "id": "4357233d-5e7d-431f-a7b3-364ba5373b84",
   "metadata": {},
   "outputs": [
    {
     "data": {
      "text/html": [
       "\n",
       "            <style>\n",
       "                .geemap-dark {\n",
       "                    --jp-widgets-color: white;\n",
       "                    --jp-widgets-label-color: white;\n",
       "                    --jp-ui-font-color1: white;\n",
       "                    --jp-layout-color2: #454545;\n",
       "                    background-color: #383838;\n",
       "                }\n",
       "\n",
       "                .geemap-dark .jupyter-button {\n",
       "                    --jp-layout-color3: #383838;\n",
       "                }\n",
       "\n",
       "                .geemap-colab {\n",
       "                    background-color: var(--colab-primary-surface-color, white);\n",
       "                }\n",
       "\n",
       "                .geemap-colab .jupyter-button {\n",
       "                    --jp-layout-color3: var(--colab-primary-surface-color, white);\n",
       "                }\n",
       "            </style>\n",
       "            "
      ],
      "text/plain": [
       "<IPython.core.display.HTML object>"
      ]
     },
     "metadata": {},
     "output_type": "display_data"
    },
    {
     "name": "stdout",
     "output_type": "stream",
     "text": [
      "\n",
      "Moyennes par province :\n",
      "Province: Balé, Moyenne des valeurs des pixels: 0.5857305292623181\n",
      "Province: Banwa, Moyenne des valeurs des pixels: 0.5727793942701935\n",
      "Province: Kossi, Moyenne des valeurs des pixels: 0.6044048991698723\n",
      "Province: Mouhoun, Moyenne des valeurs des pixels: 0.5809540356431531\n",
      "Province: Nayala, Moyenne des valeurs des pixels: 0.6064716119811142\n",
      "Province: Sourou, Moyenne des valeurs des pixels: 0.5829449970952151\n",
      "Province: Comoé, Moyenne des valeurs des pixels: 0.568416093672027\n",
      "Province: Léraba, Moyenne des valeurs des pixels: 0.4829059361508742\n",
      "Province: Kadiogo, Moyenne des valeurs des pixels: 0.38142843214033106\n",
      "Province: Boulgou, Moyenne des valeurs des pixels: 0.47528371543247233\n",
      "Province: Koulpélogo, Moyenne des valeurs des pixels: 0.5668082222875127\n",
      "Province: Kourittenga, Moyenne des valeurs des pixels: 0.5047744926539366\n",
      "Province: Bam, Moyenne des valeurs des pixels: 0.571812221473271\n",
      "Province: Namentenga, Moyenne des valeurs des pixels: 0.5843352913917237\n",
      "Province: Sanmatenga, Moyenne des valeurs des pixels: 0.5307142935035847\n",
      "Province: Boulkiemdé, Moyenne des valeurs des pixels: 0.545567350347097\n",
      "Province: Sanguié, Moyenne des valeurs des pixels: 0.5951366413715259\n",
      "Province: Sissili, Moyenne des valeurs des pixels: 0.5963682284851837\n",
      "Province: Ziro, Moyenne des valeurs des pixels: 0.5787769986709175\n",
      "Province: Bazèga, Moyenne des valeurs des pixels: 0.49881082423752826\n",
      "Province: Nahouri, Moyenne des valeurs des pixels: 0.5072210215387042\n",
      "Province: Zoundwéogo, Moyenne des valeurs des pixels: 0.4946409779698928\n",
      "Province: Gnagna, Moyenne des valeurs des pixels: 0.5636091596213268\n",
      "Province: Gourma, Moyenne des valeurs des pixels: 0.5908746598461371\n",
      "Province: Komandjari, Moyenne des valeurs des pixels: 0.536749423292792\n",
      "Province: Kompienga, Moyenne des valeurs des pixels: 0.6301218749906115\n",
      "Province: Tapoa, Moyenne des valeurs des pixels: 0.5616132181953911\n",
      "Province: Houet, Moyenne des valeurs des pixels: 0.516636076183788\n",
      "Province: Kénédougou, Moyenne des valeurs des pixels: 0.5384186433280852\n",
      "Province: Tuy, Moyenne des valeurs des pixels: 0.5605805750582006\n",
      "Province: Loroum, Moyenne des valeurs des pixels: 0.5674091900684143\n",
      "Province: Passoré, Moyenne des valeurs des pixels: 0.5626136955164851\n",
      "Province: Yatenga, Moyenne des valeurs des pixels: 0.5307429315059854\n",
      "Province: Zondoma, Moyenne des valeurs des pixels: 0.5634008520355613\n",
      "Province: Ganzourgou, Moyenne des valeurs des pixels: 0.47882143227341994\n",
      "Province: Kourwéogo, Moyenne des valeurs des pixels: 0.5181037818816476\n",
      "Province: Oubritenga, Moyenne des valeurs des pixels: 0.4342984772922359\n",
      "Province: Oudalan, Moyenne des valeurs des pixels: 0.4691270608198962\n",
      "Province: Séno, Moyenne des valeurs des pixels: 0.5076494286316158\n",
      "Province: Soum, Moyenne des valeurs des pixels: 0.5993976253943044\n",
      "Province: Yagha, Moyenne des valeurs des pixels: 0.4468451237836992\n",
      "Province: Bougouriba, Moyenne des valeurs des pixels: 0.5816891166572687\n",
      "Province: Ioba, Moyenne des valeurs des pixels: 0.5622042507355849\n",
      "Province: Noumbiel, Moyenne des valeurs des pixels: 0.6094423858231095\n",
      "Province: Poni, Moyenne des valeurs des pixels: 0.6095117246627829\n"
     ]
    }
   ],
   "source": [
    "print(\"\\nMoyennes par province :\")\n",
    "for feature in provinces_result['features']:\n",
    "    nom_province = feature['properties']['ADM2_FR'] \n",
    "    moyenne_valeur = feature['properties']['mean']\n",
    "    print(f\"Province: {nom_province}, Moyenne des valeurs des pixels: {moyenne_valeur}\")\n"
   ]
  },
  {
   "cell_type": "code",
   "execution_count": 27,
   "id": "bc7152e9-c064-4b39-937b-9164dc231c2d",
   "metadata": {},
   "outputs": [
    {
     "data": {
      "text/html": [
       "\n",
       "            <style>\n",
       "                .geemap-dark {\n",
       "                    --jp-widgets-color: white;\n",
       "                    --jp-widgets-label-color: white;\n",
       "                    --jp-ui-font-color1: white;\n",
       "                    --jp-layout-color2: #454545;\n",
       "                    background-color: #383838;\n",
       "                }\n",
       "\n",
       "                .geemap-dark .jupyter-button {\n",
       "                    --jp-layout-color3: #383838;\n",
       "                }\n",
       "\n",
       "                .geemap-colab {\n",
       "                    background-color: var(--colab-primary-surface-color, white);\n",
       "                }\n",
       "\n",
       "                .geemap-colab .jupyter-button {\n",
       "                    --jp-layout-color3: var(--colab-primary-surface-color, white);\n",
       "                }\n",
       "            </style>\n",
       "            "
      ],
      "text/plain": [
       "<IPython.core.display.HTML object>"
      ]
     },
     "metadata": {},
     "output_type": "display_data"
    },
    {
     "name": "stdout",
     "output_type": "stream",
     "text": [
      "\n",
      "Moyennes par commune :\n",
      "Communes: Komki-Ipala, Moyenne des valeurs des pixels: 0.4695694495897671\n",
      "Communes: Komsilga, Moyenne des valeurs des pixels: 0.41902372195533416\n",
      "Communes: Koubri, Moyenne des valeurs des pixels: 0.3603503250885049\n",
      "Communes: Ouagadougou, Moyenne des valeurs des pixels: 0.3116276740232843\n",
      "Communes: Pabré, Moyenne des valeurs des pixels: 0.4410011382929217\n",
      "Communes: Saaba, Moyenne des valeurs des pixels: 0.33779571020209465\n",
      "Communes: Tanguen-Dassouri, Moyenne des valeurs des pixels: 0.43560184886065584\n",
      "Communes: Bagassi, Moyenne des valeurs des pixels: 0.5793835254413017\n",
      "Communes: Bana, Moyenne des valeurs des pixels: 0.5717056426803911\n",
      "Communes: Boromo, Moyenne des valeurs des pixels: 0.5957179424942176\n",
      "Communes: Fara, Moyenne des valeurs des pixels: 0.5719930741271986\n",
      "Communes: Ouri, Moyenne des valeurs des pixels: 0.6092189181381377\n",
      "Communes: Pâ, Moyenne des valeurs des pixels: 0.5712220708134487\n",
      "Communes: Pompoï, Moyenne des valeurs des pixels: 0.583160873060674\n",
      "Communes: Poura, Moyenne des valeurs des pixels: 0.5688405092992832\n",
      "Communes: Siby, Moyenne des valeurs des pixels: 0.6069012573632522\n",
      "Communes: Yaho, Moyenne des valeurs des pixels: 0.5672161559164883\n",
      "Communes: Balavé, Moyenne des valeurs des pixels: 0.5759887545475991\n",
      "Communes: Kouka, Moyenne des valeurs des pixels: 0.5792987517299756\n",
      "Communes: Sami, Moyenne des valeurs des pixels: 0.5990536431079716\n",
      "Communes: Sanaba, Moyenne des valeurs des pixels: 0.5389267324249378\n",
      "Communes: Solenzo, Moyenne des valeurs des pixels: 0.5756882666585091\n",
      "Communes: Tansila, Moyenne des valeurs des pixels: 0.5816454513329172\n",
      "Communes: Barani, Moyenne des valeurs des pixels: 0.6356084300821854\n",
      "Communes: Bomborokui, Moyenne des valeurs des pixels: 0.626083317080019\n",
      "Communes: Bourasso, Moyenne des valeurs des pixels: 0.5602942370535038\n",
      "Communes: Djibasso, Moyenne des valeurs des pixels: 0.6288970326485679\n",
      "Communes: Dokui, Moyenne des valeurs des pixels: 0.570925087843372\n",
      "Communes: Doumbala, Moyenne des valeurs des pixels: 0.612499078816913\n",
      "Communes: Kombori, Moyenne des valeurs des pixels: 0.6596840558852327\n",
      "Communes: Madouba, Moyenne des valeurs des pixels: 0.623304318550133\n",
      "Communes: Nouna, Moyenne des valeurs des pixels: 0.5762375978174162\n",
      "Communes: Sônô, Moyenne des valeurs des pixels: 0.6063996115375379\n",
      "Communes: Bondokui, Moyenne des valeurs des pixels: 0.5655007822765037\n",
      "Communes: Dédougou, Moyenne des valeurs des pixels: 0.5550314987770132\n",
      "Communes: Douroula, Moyenne des valeurs des pixels: 0.5999611908853576\n",
      "Communes: Kona, Moyenne des valeurs des pixels: 0.5907004319486243\n",
      "Communes: Ouarkoye, Moyenne des valeurs des pixels: 0.5674206761027767\n",
      "Communes: Safané, Moyenne des valeurs des pixels: 0.5937207297124752\n",
      "Communes: Tchériba, Moyenne des valeurs des pixels: 0.6126365169871393\n",
      "Communes: Gassan, Moyenne des valeurs des pixels: 0.6083574615668962\n",
      "Communes: Gossina, Moyenne des valeurs des pixels: 0.6119822239432059\n",
      "Communes: Kougny, Moyenne des valeurs des pixels: 0.6067790603676614\n",
      "Communes: Toma, Moyenne des valeurs des pixels: 0.6096538688657409\n",
      "Communes: Yaba, Moyenne des valeurs des pixels: 0.60728245367219\n",
      "Communes: Yé, Moyenne des valeurs des pixels: 0.5981127013095896\n",
      "Communes: Di, Moyenne des valeurs des pixels: 0.5919761171075998\n",
      "Communes: Gomboro, Moyenne des valeurs des pixels: 0.5775935378082115\n",
      "Communes: Kassoum, Moyenne des valeurs des pixels: 0.5954078616188965\n",
      "Communes: Kiembara, Moyenne des valeurs des pixels: 0.5718224997115089\n",
      "Communes: Lanfièra, Moyenne des valeurs des pixels: 0.586063878065165\n",
      "Communes: Lankoué, Moyenne des valeurs des pixels: 0.5687093423282752\n",
      "Communes: Toéni, Moyenne des valeurs des pixels: 0.5873146941787954\n",
      "Communes: Tougan, Moyenne des valeurs des pixels: 0.5823917676588078\n",
      "Communes: Banfora, Moyenne des valeurs des pixels: 0.48214380214197716\n",
      "Communes: Bérégadougou, Moyenne des valeurs des pixels: 0.46129372810892644\n",
      "Communes: Mangodara, Moyenne des valeurs des pixels: 0.6178011215851723\n",
      "Communes: Moussodougou, Moyenne des valeurs des pixels: 0.4998118065890577\n",
      "Communes: Niangoloko, Moyenne des valeurs des pixels: 0.542953401972772\n",
      "Communes: Ouô, Moyenne des valeurs des pixels: 0.6212474313620296\n",
      "Communes: Sidéradougou, Moyenne des valeurs des pixels: 0.5877631213353158\n",
      "Communes: Soubakaniédougou, Moyenne des valeurs des pixels: 0.49699181327074693\n",
      "Communes: Tiéfora, Moyenne des valeurs des pixels: 0.5180764634437082\n",
      "Communes: Dakôrô, Moyenne des valeurs des pixels: 0.49226050558018464\n",
      "Communes: Douna, Moyenne des valeurs des pixels: 0.4842611198324592\n",
      "Communes: Kankalaba, Moyenne des valeurs des pixels: 0.47924086258886206\n",
      "Communes: Loumana, Moyenne des valeurs des pixels: 0.47008675111796194\n",
      "Communes: Niankôrôdougou, Moyenne des valeurs des pixels: 0.469355823056826\n",
      "Communes: Ouéléni, Moyenne des valeurs des pixels: 0.49699581846022056\n",
      "Communes: Sindou, Moyenne des valeurs des pixels: 0.4831826890592267\n",
      "Communes: Wolonkoto, Moyenne des valeurs des pixels: 0.4991740727529617\n",
      "Communes: Bagré, Moyenne des valeurs des pixels: 0.44654564005547465\n",
      "Communes: Bané, Moyenne des valeurs des pixels: 0.4939178702905964\n",
      "Communes: Béguédo, Moyenne des valeurs des pixels: 0.41614447199845267\n",
      "Communes: Bissiga, Moyenne des valeurs des pixels: 0.5462693209744434\n",
      "Communes: Bitou, Moyenne des valeurs des pixels: 0.4854694947364469\n",
      "Communes: Boussouma, Moyenne des valeurs des pixels: 0.4335494677060199\n",
      "Communes: Garango, Moyenne des valeurs des pixels: 0.4438501567119311\n",
      "Communes: Komtoèga, Moyenne des valeurs des pixels: 0.46740551997149865\n",
      "Communes: Niaogho, Moyenne des valeurs des pixels: 0.4533042863988326\n",
      "Communes: Tenkodogo, Moyenne des valeurs des pixels: 0.4912930052665188\n",
      "Communes: Zabré, Moyenne des valeurs des pixels: 0.4706081677683022\n",
      "Communes: Zoaga, Moyenne des valeurs des pixels: 0.46755574308869285\n",
      "Communes: Zonsé, Moyenne des valeurs des pixels: 0.4566990178107413\n",
      "Communes: Dourtenga, Moyenne des valeurs des pixels: 0.5292986149471688\n",
      "Communes: Komin-Yanga, Moyenne des valeurs des pixels: 0.5709258504148347\n",
      "Communes: Lalgaye, Moyenne des valeurs des pixels: 0.5208777346905114\n",
      "Communes: Ouargaye, Moyenne des valeurs des pixels: 0.5356533625524613\n",
      "Communes: Sangha, Moyenne des valeurs des pixels: 0.546796989501221\n",
      "Communes: Soudougui, Moyenne des valeurs des pixels: 0.5991775778624844\n",
      "Communes: Yargatenga, Moyenne des valeurs des pixels: 0.5257854351802831\n",
      "Communes: Yondé, Moyenne des valeurs des pixels: 0.5817570172285322\n",
      "Communes: Andemtenga, Moyenne des valeurs des pixels: 0.5218362379601653\n",
      "Communes: Baskouré, Moyenne des valeurs des pixels: 0.5312404779208467\n",
      "Communes: Dialgaye, Moyenne des valeurs des pixels: 0.48009299912207815\n",
      "Communes: Gounguen, Moyenne des valeurs des pixels: 0.5237018948637939\n",
      "Communes: Kando, Moyenne des valeurs des pixels: 0.5105397095643829\n",
      "Communes: Koupèla, Moyenne des valeurs des pixels: 0.48270784168949216\n",
      "Communes: Pouytenga, Moyenne des valeurs des pixels: 0.45990363069125884\n",
      "Communes: Tensobentenga, Moyenne des valeurs des pixels: 0.5073545848711497\n",
      "Communes: Yargo, Moyenne des valeurs des pixels: 0.5025474371614018\n",
      "Communes: Bourzanga, Moyenne des valeurs des pixels: 0.651006766816484\n",
      "Communes: Guibaré, Moyenne des valeurs des pixels: 0.4459685432333332\n",
      "Communes: Kongoussi, Moyenne des valeurs des pixels: 0.5418529846037767\n",
      "Communes: Nasséré, Moyenne des valeurs des pixels: 0.5009779740150933\n",
      "Communes: Rollo, Moyenne des valeurs des pixels: 0.6265969898080581\n",
      "Communes: Roukô, Moyenne des valeurs des pixels: 0.49037742338172857\n",
      "Communes: Sabsé, Moyenne des valeurs des pixels: 0.44701208021832856\n",
      "Communes: Tikaré, Moyenne des valeurs des pixels: 0.5593992624419161\n",
      "Communes: Zimtanga, Moyenne des valeurs des pixels: 0.5727729008373924\n",
      "Communes: Boala, Moyenne des valeurs des pixels: 0.5873711808856262\n",
      "Communes: Boulsa, Moyenne des valeurs des pixels: 0.5606020300956294\n",
      "Communes: Bouroum, Moyenne des valeurs des pixels: 0.5828148889371602\n",
      "Communes: Dargo, Moyenne des valeurs des pixels: 0.5700409982076479\n",
      "Communes: Nagbingou, Moyenne des valeurs des pixels: 0.5888779242493895\n",
      "Communes: Tougouri, Moyenne des valeurs des pixels: 0.6009607728243009\n",
      "Communes: Yalgo, Moyenne des valeurs des pixels: 0.584826800574946\n",
      "Communes: Zéguédéguen, Moyenne des valeurs des pixels: 0.5977362717883306\n",
      "Communes: Barsalogho, Moyenne des valeurs des pixels: 0.593444133224225\n",
      "Communes: Boussouma, Moyenne des valeurs des pixels: 0.42407209692335907\n",
      "Communes: Dablo, Moyenne des valeurs des pixels: 0.6343167732209176\n",
      "Communes: Kaya, Moyenne des valeurs des pixels: 0.42922285459226606\n",
      "Communes: Korsimoro, Moyenne des valeurs des pixels: 0.4433066562386294\n",
      "Communes: Mané, Moyenne des valeurs des pixels: 0.4269367322367753\n",
      "Communes: Namissiguima, Moyenne des valeurs des pixels: 0.5809424382039786\n",
      "Communes: Pensa, Moyenne des valeurs des pixels: 0.5990345632002112\n",
      "Communes: Pibaoré, Moyenne des valeurs des pixels: 0.5528148499576989\n",
      "Communes: Pissila, Moyenne des valeurs des pixels: 0.5664581600796512\n",
      "Communes: Ziga, Moyenne des valeurs des pixels: 0.5139913116151209\n",
      "Communes: Bingo, Moyenne des valeurs des pixels: 0.5184722823239877\n",
      "Communes: Imasgho, Moyenne des valeurs des pixels: 0.5602871193184754\n",
      "Communes: Kindi, Moyenne des valeurs des pixels: 0.5518176705969526\n",
      "Communes: Kokologo, Moyenne des valeurs des pixels: 0.5028707420767622\n",
      "Communes: Koudougou, Moyenne des valeurs des pixels: 0.559360360844805\n",
      "Communes: Nandiala, Moyenne des valeurs des pixels: 0.5461095798156442\n",
      "Communes: Nanoro, Moyenne des valeurs des pixels: 0.5507567383031071\n",
      "Communes: Pella, Moyenne des valeurs des pixels: 0.5533935820528191\n",
      "Communes: Poa, Moyenne des valeurs des pixels: 0.5367395156158333\n",
      "Communes: Ramongo, Moyenne des valeurs des pixels: 0.5511553899373166\n",
      "Communes: Sabou, Moyenne des valeurs des pixels: 0.5474014044705366\n",
      "Communes: Siglé, Moyenne des valeurs des pixels: 0.531762911774447\n",
      "Communes: Soa, Moyenne des valeurs des pixels: 0.5484508770876498\n",
      "Communes: Sourgou, Moyenne des valeurs des pixels: 0.5665789185736072\n",
      "Communes: Thiou, Moyenne des valeurs des pixels: 0.5488974376255871\n",
      "Communes: Dassa, Moyenne des valeurs des pixels: 0.5949751296494191\n",
      "Communes: Didyr, Moyenne des valeurs des pixels: 0.5971554153010408\n",
      "Communes: Godyr, Moyenne des valeurs des pixels: 0.6085957626978764\n",
      "Communes: Kordié, Moyenne des valeurs des pixels: 0.5725643458388068\n",
      "Communes: Kyon, Moyenne des valeurs des pixels: 0.5901939037043719\n",
      "Communes: Pouni, Moyenne des valeurs des pixels: 0.5958666652644858\n",
      "Communes: Réo, Moyenne des valeurs des pixels: 0.5510729563260918\n",
      "Communes: Ténado, Moyenne des valeurs des pixels: 0.6102124393712582\n",
      "Communes: Zamo, Moyenne des valeurs des pixels: 0.6049642108878804\n",
      "Communes: Zawara, Moyenne des valeurs des pixels: 0.6021787773049853\n",
      "Communes: Bieha, Moyenne des valeurs des pixels: 0.5746883363474325\n",
      "Communes: Boura, Moyenne des valeurs des pixels: 0.5990826778772279\n",
      "Communes: Léo, Moyenne des valeurs des pixels: 0.586774376076829\n",
      "Communes: Nébiélianayou, Moyenne des valeurs des pixels: 0.5931340202455062\n",
      "Communes: Niabouri, Moyenne des valeurs des pixels: 0.6052700956350066\n",
      "Communes: Silly, Moyenne des valeurs des pixels: 0.6108397662678122\n",
      "Communes: To, Moyenne des valeurs des pixels: 0.6140730016538368\n",
      "Communes: Bakata, Moyenne des valeurs des pixels: 0.5545185735056135\n",
      "Communes: Bougnounou, Moyenne des valeurs des pixels: 0.5632546869375662\n",
      "Communes: Dalô, Moyenne des valeurs des pixels: 0.5666113054992569\n",
      "Communes: Gaô, Moyenne des valeurs des pixels: 0.596731345944518\n",
      "Communes: Kassou, Moyenne des valeurs des pixels: 0.6005279062746816\n",
      "Communes: Sapouy, Moyenne des valeurs des pixels: 0.5747424433983244\n",
      "Communes: Doulougou, Moyenne des valeurs des pixels: 0.5142454071577669\n",
      "Communes: Gaongo, Moyenne des valeurs des pixels: 0.4650309031064782\n",
      "Communes: Ipelsé, Moyenne des valeurs des pixels: 0.49281709649266814\n",
      "Communes: Kayao, Moyenne des valeurs des pixels: 0.5233155959465616\n",
      "Communes: Kombissiri, Moyenne des valeurs des pixels: 0.4864920349948086\n",
      "Communes: Saponé, Moyenne des valeurs des pixels: 0.4619172488319679\n",
      "Communes: Toécé, Moyenne des valeurs des pixels: 0.537370613851114\n",
      "Communes: Guiaro, Moyenne des valeurs des pixels: 0.5352607807262107\n",
      "Communes: Po, Moyenne des valeurs des pixels: 0.49985490444897\n",
      "Communes: Tiébélé, Moyenne des valeurs des pixels: 0.4539376451754013\n",
      "Communes: Zecco, Moyenne des valeurs des pixels: 0.47509369597972495\n",
      "Communes: Ziou, Moyenne des valeurs des pixels: 0.4641532261365568\n",
      "Communes: Béré, Moyenne des valeurs des pixels: 0.5114857643137861\n",
      "Communes: Bindé, Moyenne des valeurs des pixels: 0.4969169111164412\n",
      "Communes: Gogo, Moyenne des valeurs des pixels: 0.4987215880368903\n",
      "Communes: Gomboussougou, Moyenne des valeurs des pixels: 0.461177050857852\n",
      "Communes: Guiba, Moyenne des valeurs des pixels: 0.5084257136840032\n",
      "Communes: Manga, Moyenne des valeurs des pixels: 0.5014983184856383\n",
      "Communes: Nobéré, Moyenne des valeurs des pixels: 0.5059468870675131\n",
      "Communes: Bilanga, Moyenne des valeurs des pixels: 0.5598173339118143\n",
      "Communes: Bogandé, Moyenne des valeurs des pixels: 0.5837011228092547\n",
      "Communes: Koala, Moyenne des valeurs des pixels: 0.5755785907565509\n",
      "Communes: Liptougou, Moyenne des valeurs des pixels: 0.5217954626789837\n",
      "Communes: Mani, Moyenne des valeurs des pixels: 0.5818764728330763\n",
      "Communes: Piéla, Moyenne des valeurs des pixels: 0.5469560526357091\n",
      "Communes: Thion, Moyenne des valeurs des pixels: 0.5978009860444364\n",
      "Communes: Diabo, Moyenne des valeurs des pixels: 0.5443642935806906\n",
      "Communes: Diapangou, Moyenne des valeurs des pixels: 0.5715920926078809\n",
      "Communes: Fada-Ngourma, Moyenne des valeurs des pixels: 0.6013330377043925\n",
      "Communes: Matiakoali, Moyenne des valeurs des pixels: 0.5959450172739472\n",
      "Communes: Tibga, Moyenne des valeurs des pixels: 0.5684655041837773\n",
      "Communes: Yamba, Moyenne des valeurs des pixels: 0.5920470222136861\n",
      "Communes: Bartiébougou, Moyenne des valeurs des pixels: 0.5077148406148211\n",
      "Communes: Foutouri, Moyenne des valeurs des pixels: 0.49519505586706614\n",
      "Communes: Gayéri, Moyenne des valeurs des pixels: 0.5650307676768762\n",
      "Communes: Kompienga, Moyenne des valeurs des pixels: 0.57598358368612\n",
      "Communes: Madjoari, Moyenne des valeurs des pixels: 0.63981458625878\n",
      "Communes: Pama, Moyenne des valeurs des pixels: 0.6343823251499815\n",
      "Communes: Botou, Moyenne des valeurs des pixels: 0.541830509478165\n",
      "Communes: Diapaga, Moyenne des valeurs des pixels: 0.5484160271459508\n",
      "Communes: Kantchari, Moyenne des valeurs des pixels: 0.5649343983863719\n",
      "Communes: Lôgbou, Moyenne des valeurs des pixels: 0.5824571602192549\n",
      "Communes: Namouno, Moyenne des valeurs des pixels: 0.5805959829789302\n",
      "Communes: Partiaga, Moyenne des valeurs des pixels: 0.5791226428999228\n",
      "Communes: Tambaga, Moyenne des valeurs des pixels: 0.5814555185557204\n",
      "Communes: Tansarga, Moyenne des valeurs des pixels: 0.529186496825859\n",
      "Communes: Bama, Moyenne des valeurs des pixels: 0.4807621957032868\n",
      "Communes: Bobo-Dioulasso, Moyenne des valeurs des pixels: 0.44967760793592654\n",
      "Communes: Dandé, Moyenne des valeurs des pixels: 0.531518707032897\n",
      "Communes: Faramana, Moyenne des valeurs des pixels: 0.5870665109577059\n",
      "Communes: Fo, Moyenne des valeurs des pixels: 0.5812836405705876\n",
      "Communes: Karangasso-Sambla, Moyenne des valeurs des pixels: 0.49652253767040355\n",
      "Communes: Karangasso-Vigué, Moyenne des valeurs des pixels: 0.5633678815678661\n",
      "Communes: Koundougou, Moyenne des valeurs des pixels: 0.5552734133731987\n",
      "Communes: Lèna, Moyenne des valeurs des pixels: 0.5337595060738164\n",
      "Communes: Padéma, Moyenne des valeurs des pixels: 0.5531936754739283\n",
      "Communes: Péni, Moyenne des valeurs des pixels: 0.5187961048186623\n",
      "Communes: Satiri, Moyenne des valeurs des pixels: 0.5201962380843667\n",
      "Communes: Toussiana, Moyenne des valeurs des pixels: 0.46793713556388783\n",
      "Communes: Banzon, Moyenne des valeurs des pixels: 0.5443244820271964\n",
      "Communes: Djigouèra, Moyenne des valeurs des pixels: 0.527380701378798\n",
      "Communes: Kangala, Moyenne des valeurs des pixels: 0.5248071256739562\n",
      "Communes: Kayan, Moyenne des valeurs des pixels: 0.5677976216316477\n",
      "Communes: Kôlôkô, Moyenne des valeurs des pixels: 0.504542412121759\n",
      "Communes: Kourinion, Moyenne des valeurs des pixels: 0.5022392573526926\n",
      "Communes: Kourouma, Moyenne des valeurs des pixels: 0.5552546731657896\n",
      "Communes: Morlaba, Moyenne des valeurs des pixels: 0.5447559027642893\n",
      "Communes: Ndôrôla, Moyenne des valeurs des pixels: 0.5602335710539688\n",
      "Communes: Orodara, Moyenne des valeurs des pixels: 0.5311281009503838\n",
      "Communes: Samôgôgouan, Moyenne des valeurs des pixels: 0.5447935008969697\n",
      "Communes: Samôgôyiri, Moyenne des valeurs des pixels: 0.530794080123844\n",
      "Communes: Sindo, Moyenne des valeurs des pixels: 0.5287804507356115\n",
      "Communes: Békui, Moyenne des valeurs des pixels: 0.5438445492372166\n",
      "Communes: Béréba, Moyenne des valeurs des pixels: 0.5568070855428962\n",
      "Communes: Boni, Moyenne des valeurs des pixels: 0.5632496372367636\n",
      "Communes: Founzan, Moyenne des valeurs des pixels: 0.5769789717685735\n",
      "Communes: Houndé, Moyenne des valeurs des pixels: 0.5579564763560547\n",
      "Communes: Koti, Moyenne des valeurs des pixels: 0.5757692618793994\n",
      "Communes: Koumbia, Moyenne des valeurs des pixels: 0.5526015039549695\n",
      "Communes: Bahn, Moyenne des valeurs des pixels: 0.5352842310686328\n",
      "Communes: Ouindigui, Moyenne des valeurs des pixels: 0.6036212279612723\n",
      "Communes: Sollé, Moyenne des valeurs des pixels: 0.5775129900205735\n",
      "Communes: Titao, Moyenne des valeurs des pixels: 0.5717765458873616\n",
      "Communes: Arbollé, Moyenne des valeurs des pixels: 0.5745916113170764\n",
      "Communes: Bagaré, Moyenne des valeurs des pixels: 0.6082535047572332\n",
      "Communes: Boken, Moyenne des valeurs des pixels: 0.5132035031900214\n",
      "Communes: Gomponsom, Moyenne des valeurs des pixels: 0.5511490801836586\n",
      "Communes: Kirsi, Moyenne des valeurs des pixels: 0.5737563843396455\n",
      "Communes: La-Toden, Moyenne des valeurs des pixels: 0.5883208285702046\n",
      "Communes: Pilimpikou, Moyenne des valeurs des pixels: 0.5534040570280205\n",
      "Communes: Samba, Moyenne des valeurs des pixels: 0.5770634371283779\n",
      "Communes: Yako, Moyenne des valeurs des pixels: 0.5616510954618656\n",
      "Communes: Barga, Moyenne des valeurs des pixels: 0.5109293887501386\n",
      "Communes: Kaïn, Moyenne des valeurs des pixels: 0.5186572671561993\n",
      "Communes: Kalsaka, Moyenne des valeurs des pixels: 0.5489714382301593\n",
      "Communes: Kossouka, Moyenne des valeurs des pixels: 0.5657940843591084\n",
      "Communes: Koumbri, Moyenne des valeurs des pixels: 0.5175129609399481\n",
      "Communes: Namissiguima, Moyenne des valeurs des pixels: 0.5274218366464056\n",
      "Communes: Ouahigouya, Moyenne des valeurs des pixels: 0.4983335064432332\n",
      "Communes: Oula, Moyenne des valeurs des pixels: 0.5380380229223123\n",
      "Communes: Rambo, Moyenne des valeurs des pixels: 0.5543065798312024\n",
      "Communes: Senguènèga, Moyenne des valeurs des pixels: 0.5544516599719559\n",
      "Communes: Tangaye, Moyenne des valeurs des pixels: 0.529974840936582\n",
      "Communes: Thiou, Moyenne des valeurs des pixels: 0.5218611000859644\n",
      "Communes: Zogoré, Moyenne des valeurs des pixels: 0.5414122626376674\n",
      "Communes: Bassi, Moyenne des valeurs des pixels: 0.5566274354100278\n",
      "Communes: Boussou, Moyenne des valeurs des pixels: 0.6003207891309771\n",
      "Communes: Goursi, Moyenne des valeurs des pixels: 0.5560350205058358\n",
      "Communes: Lèba, Moyenne des valeurs des pixels: 0.5455261953579216\n",
      "Communes: Tougo, Moyenne des valeurs des pixels: 0.5355054496689797\n",
      "Communes: Boudri, Moyenne des valeurs des pixels: 0.474746849733897\n",
      "Communes: Kogho, Moyenne des valeurs des pixels: 0.5726139277535301\n",
      "Communes: Mégué, Moyenne des valeurs des pixels: 0.5177109366290794\n",
      "Communes: Môgtédo, Moyenne des valeurs des pixels: 0.42838069724414873\n",
      "Communes: Saolgo, Moyenne des valeurs des pixels: 0.536165692112312\n",
      "Communes: Zam, Moyenne des valeurs des pixels: 0.4501492220052216\n",
      "Communes: Zôrgho, Moyenne des valeurs des pixels: 0.498177511435665\n",
      "Communes: Zoungou, Moyenne des valeurs des pixels: 0.45534904245914365\n",
      "Communes: Boussé, Moyenne des valeurs des pixels: 0.5138157786712053\n",
      "Communes: Laye, Moyenne des valeurs des pixels: 0.5052294347128701\n",
      "Communes: Niou, Moyenne des valeurs des pixels: 0.5422924727524525\n",
      "Communes: Sourgoubila, Moyenne des valeurs des pixels: 0.5105921037175066\n",
      "Communes: Toèguen, Moyenne des valeurs des pixels: 0.511319140873073\n",
      "Communes: Ambsouya, Moyenne des valeurs des pixels: 0.44774340329224527\n",
      "Communes: Dapeolgo, Moyenne des valeurs des pixels: 0.4697532036335594\n",
      "Communes: Loumbila, Moyenne des valeurs des pixels: 0.3547458023481973\n",
      "Communes: Nagréongo, Moyenne des valeurs des pixels: 0.39471765335080244\n",
      "Communes: Ourgou-Manéga, Moyenne des valeurs des pixels: 0.48709717613125864\n",
      "Communes: Ziniaré, Moyenne des valeurs des pixels: 0.4137181347002687\n",
      "Communes: Zitenga, Moyenne des valeurs des pixels: 0.4474359864751669\n",
      "Communes: Déou, Moyenne des valeurs des pixels: 0.5038913510037077\n",
      "Communes: Gorom-Gorom, Moyenne des valeurs des pixels: 0.49444138819772376\n",
      "Communes: Markoye, Moyenne des valeurs des pixels: 0.4258802412469563\n",
      "Communes: Oursi, Moyenne des valeurs des pixels: 0.480577723304973\n",
      "Communes: Tin-Akoff, Moyenne des valeurs des pixels: 0.4175723067629252\n",
      "Communes: Bani, Moyenne des valeurs des pixels: 0.5535022611493348\n",
      "Communes: Dori, Moyenne des valeurs des pixels: 0.49700549887813406\n",
      "Communes: Falagountou, Moyenne des valeurs des pixels: 0.4023940280887729\n",
      "Communes: Gorgadji, Moyenne des valeurs des pixels: 0.5684194615675137\n",
      "Communes: Sampelga, Moyenne des valeurs des pixels: 0.498339734020122\n",
      "Communes: Seytenga, Moyenne des valeurs des pixels: 0.45670312614941566\n",
      "Communes: Arbinda, Moyenne des valeurs des pixels: 0.5900067012989267\n",
      "Communes: Baraboulé, Moyenne des valeurs des pixels: 0.6037227747608961\n",
      "Communes: Diguel, Moyenne des valeurs des pixels: 0.5897209442838441\n",
      "Communes: Djibo, Moyenne des valeurs des pixels: 0.6070003998292071\n",
      "Communes: Kelbo, Moyenne des valeurs des pixels: 0.6462258056995456\n",
      "Communes: Koutougou, Moyenne des valeurs des pixels: 0.5429541729033134\n",
      "Communes: Nassoumbou, Moyenne des valeurs des pixels: 0.581201432468353\n",
      "Communes: Pobé-Mengao, Moyenne des valeurs des pixels: 0.6325432085819767\n",
      "Communes: Tongomayel, Moyenne des valeurs des pixels: 0.6408149529418289\n",
      "Communes: Boundoré, Moyenne des valeurs des pixels: 0.36818481851443213\n",
      "Communes: Mansila, Moyenne des valeurs des pixels: 0.4552152702743357\n",
      "Communes: Sebba, Moyenne des valeurs des pixels: 0.44377690905079964\n",
      "Communes: Solhan, Moyenne des valeurs des pixels: 0.5078477621425681\n",
      "Communes: Tankougounadié, Moyenne des valeurs des pixels: 0.3996176613427893\n",
      "Communes: Titabè, Moyenne des valeurs des pixels: 0.4931567995209525\n",
      "Communes: Diébougou, Moyenne des valeurs des pixels: 0.5471075286638474\n",
      "Communes: Dolo, Moyenne des valeurs des pixels: 0.5873630543330816\n",
      "Communes: Gbondjigui, Moyenne des valeurs des pixels: 0.568679079141321\n",
      "Communes: Iôlôniôrô, Moyenne des valeurs des pixels: 0.6003659830870368\n",
      "Communes: Tiankoura, Moyenne des valeurs des pixels: 0.6169208602705364\n",
      "Communes: Dano, Moyenne des valeurs des pixels: 0.5610365513417721\n",
      "Communes: Dissihn, Moyenne des valeurs des pixels: 0.5651841489941515\n",
      "Communes: Guéguéré, Moyenne des valeurs des pixels: 0.5485315133864344\n",
      "Communes: Koper, Moyenne des valeurs des pixels: 0.5657808656200675\n",
      "Communes: Niégo, Moyenne des valeurs des pixels: 0.5814969010158265\n",
      "Communes: Oronkua, Moyenne des valeurs des pixels: 0.5606534060761489\n",
      "Communes: Ouéssa, Moyenne des valeurs des pixels: 0.5575073364021879\n",
      "Communes: Zambo, Moyenne des valeurs des pixels: 0.5736608945346567\n",
      "Communes: Batié, Moyenne des valeurs des pixels: 0.609654865020762\n",
      "Communes: Boussou-Koula, Moyenne des valeurs des pixels: 0.6069347686874668\n",
      "Communes: Kpuéré, Moyenne des valeurs des pixels: 0.6047083322294325\n",
      "Communes: Legmoin, Moyenne des valeurs des pixels: 0.6054468118451225\n",
      "Communes: Midebdo, Moyenne des valeurs des pixels: 0.6161376274312051\n",
      "Communes: Bouroum-Bouroum, Moyenne des valeurs des pixels: 0.6232789814194244\n",
      "Communes: Bousséra, Moyenne des valeurs des pixels: 0.5849560822068959\n",
      "Communes: Djigouè, Moyenne des valeurs des pixels: 0.6285880527700369\n",
      "Communes: Gaoua, Moyenne des valeurs des pixels: 0.5990841805812034\n",
      "Communes: Gbomblora, Moyenne des valeurs des pixels: 0.598051257694271\n",
      "Communes: Kampti, Moyenne des valeurs des pixels: 0.6013194345294108\n",
      "Communes: Loropéni, Moyenne des valeurs des pixels: 0.6232144169229874\n",
      "Communes: Malba, Moyenne des valeurs des pixels: 0.5835908315348735\n",
      "Communes: Nako, Moyenne des valeurs des pixels: 0.5976188129661417\n",
      "Communes: Périgban, Moyenne des valeurs des pixels: 0.6143094149153127\n"
     ]
    }
   ],
   "source": [
    "\n",
    "print(\"\\nMoyennes par commune :\")\n",
    "for feature in communes_result['features']:\n",
    "    nom_commune = feature['properties']['ADM3_FR'] \n",
    "    moyenne_valeur = feature['properties']['mean']\n",
    "    print(f\"Communes: {nom_commune}, Moyenne des valeurs des pixels: {moyenne_valeur}\")"
   ]
  },
  {
   "cell_type": "markdown",
   "id": "c245332e-046d-454d-b229-dfbb86bca45c",
   "metadata": {},
   "source": [
    "## Visualisons les cartes avec OpenstreetMap"
   ]
  },
  {
   "cell_type": "code",
   "execution_count": 28,
   "id": "8f0a8276-e69e-4c20-9efa-c759257740ef",
   "metadata": {
    "scrolled": true
   },
   "outputs": [
    {
     "data": {
      "text/html": [
       "\n",
       "            <style>\n",
       "                .geemap-dark {\n",
       "                    --jp-widgets-color: white;\n",
       "                    --jp-widgets-label-color: white;\n",
       "                    --jp-ui-font-color1: white;\n",
       "                    --jp-layout-color2: #454545;\n",
       "                    background-color: #383838;\n",
       "                }\n",
       "\n",
       "                .geemap-dark .jupyter-button {\n",
       "                    --jp-layout-color3: #383838;\n",
       "                }\n",
       "\n",
       "                .geemap-colab {\n",
       "                    background-color: var(--colab-primary-surface-color, white);\n",
       "                }\n",
       "\n",
       "                .geemap-colab .jupyter-button {\n",
       "                    --jp-layout-color3: var(--colab-primary-surface-color, white);\n",
       "                }\n",
       "            </style>\n",
       "            "
      ],
      "text/plain": [
       "<IPython.core.display.HTML object>"
      ]
     },
     "metadata": {},
     "output_type": "display_data"
    }
   ],
   "source": [
    "import geemap\n",
    "import ee\n",
    "\n",
    "# Initialiser l'API Earth Engine\n",
    "ee.Initialize()\n",
    "\n",
    "# Fonction pour mettre à jour le shapefile avec les moyennes calculées\n",
    "def shp_avec_les_moyennes(feature_collection, image, mean_property_name='Moyenne_Pixels'):\n",
    "    stats = image.reduceRegions(\n",
    "        collection=feature_collection,\n",
    "        reducer=ee.Reducer.mean(),\n",
    "        scale=30\n",
    "    )\n",
    "    # Ajouter les moyennes comme propriété\n",
    "    return stats.map(lambda feature: feature.set(mean_property_name, feature.get('mean')))\n",
    "\n",
    "# Fonction pour créer une image à partir des valeurs moyennes\n",
    "def creer_image(feature_collection, mean_property_name):\n",
    "    \"\"\"Crée une image raster à partir des valeurs moyennes des entités.\"\"\"\n",
    "    return feature_collection.reduceToImage(\n",
    "        properties=[mean_property_name],\n",
    "        reducer=ee.Reducer.first()\n",
    "    )\n",
    "\n",
    "# Mettre à jour les shapefiles avec les moyennes\n",
    "pays_updated = shp_avec_les_moyennes(pays, moyenne_raster, 'Moyenne_Pays')\n",
    "regions_updated = shp_avec_les_moyennes(regions, moyenne_raster, 'Moyenne_Région')\n",
    "provinces_updated = shp_avec_les_moyennes(provinces, moyenne_raster, 'Moyenne_Province')\n",
    "communes_updated = shp_avec_les_moyennes(communes, moyenne_raster, 'Moyenne_Commune')\n",
    "\n",
    "# Créer des images pour les moyennes de chaque niveau\n",
    "pays_image = creer_image(pays_updated, 'Moyenne_Pays')\n",
    "regions_image = creer_image(regions_updated, 'Moyenne_Région')\n",
    "provinces_image = creer_image(provinces_updated, 'Moyenne_Province')\n",
    "communes_image = creer_image(communes_updated, 'Moyenne_Commune')\n",
    "\n",
    "# Calculer les valeurs min et max pour les visualisations dynamiques\n",
    "min_value = 0\n",
    "max_value = 1  \n",
    "\n",
    "# Paramètres de visualisation dynamiques pour les couleurs\n",
    "vis_params = {\n",
    "    'min': min_value,\n",
    "    'max': max_value,\n",
    "    'palette': ['blue', 'green', 'yellow', 'red']\n",
    "}\n",
    "\n",
    "# Créer une carte pour chaque niveau administratif\n",
    "Map_pays = geemap.Map(center=[12, -1], zoom=6)\n",
    "Map_regions = geemap.Map(center=[12, -1], zoom=6)\n",
    "Map_provinces = geemap.Map(center=[12, -1], zoom=6)\n",
    "Map_communes = geemap.Map(center=[12, -1], zoom=6)\n",
    "\n",
    "# Ajouter les images à chaque carte avec les paramètres de visualisation\n",
    "Map_pays.addLayer(pays_image, vis_params, 'Pays - Moyenne')\n",
    "Map_regions.addLayer(regions_image, vis_params, 'Régions - Moyenne')\n",
    "Map_provinces.addLayer(provinces_image, vis_params, 'Provinces - Moyenne')\n",
    "Map_communes.addLayer(communes_image, vis_params, 'Communes - Moyenne')\n",
    "\n",
    "# Ajouter une légende pour chaque carte\n",
    "Map_pays.add_colorbar(vis_params=vis_params, label=\"Moyenne des valeurs des pixels - Pays\")\n",
    "Map_regions.add_colorbar(vis_params=vis_params, label=\"Moyenne des valeurs des pixels - Régions\")\n",
    "Map_provinces.add_colorbar(vis_params=vis_params, label=\"Moyenne des valeurs des pixels - Provinces\")\n",
    "Map_communes.add_colorbar(vis_params=vis_params, label=\"Moyenne des valeurs des pixels - Communes\")\n",
    "\n",
    "\n"
   ]
  },
  {
   "cell_type": "markdown",
   "id": "7b0d1e45-c58f-4d87-a19d-01437d67b2a5",
   "metadata": {},
   "source": [
    "Afficher les cartes"
   ]
  },
  {
   "cell_type": "code",
   "execution_count": 29,
   "id": "f70bcd48-0cf3-4a4c-a3bb-728f7987c161",
   "metadata": {},
   "outputs": [
    {
     "data": {
      "text/html": [
       "\n",
       "            <style>\n",
       "                .geemap-dark {\n",
       "                    --jp-widgets-color: white;\n",
       "                    --jp-widgets-label-color: white;\n",
       "                    --jp-ui-font-color1: white;\n",
       "                    --jp-layout-color2: #454545;\n",
       "                    background-color: #383838;\n",
       "                }\n",
       "\n",
       "                .geemap-dark .jupyter-button {\n",
       "                    --jp-layout-color3: #383838;\n",
       "                }\n",
       "\n",
       "                .geemap-colab {\n",
       "                    background-color: var(--colab-primary-surface-color, white);\n",
       "                }\n",
       "\n",
       "                .geemap-colab .jupyter-button {\n",
       "                    --jp-layout-color3: var(--colab-primary-surface-color, white);\n",
       "                }\n",
       "            </style>\n",
       "            "
      ],
      "text/plain": [
       "<IPython.core.display.HTML object>"
      ]
     },
     "metadata": {},
     "output_type": "display_data"
    },
    {
     "name": "stdout",
     "output_type": "stream",
     "text": [
      "Carte pour le niveau Pays :\n"
     ]
    },
    {
     "data": {
      "application/vnd.jupyter.widget-view+json": {
       "model_id": "b82d6bd141754c1e965809a357d980e7",
       "version_major": 2,
       "version_minor": 0
      },
      "text/plain": [
       "Map(center=[12, -1], controls=(WidgetControl(options=['position', 'transparent_bg'], widget=SearchDataGUI(chil…"
      ]
     },
     "execution_count": 29,
     "metadata": {},
     "output_type": "execute_result"
    }
   ],
   "source": [
    "print(\"Carte pour le niveau Pays :\")\n",
    "Map_pays"
   ]
  },
  {
   "cell_type": "code",
   "execution_count": 30,
   "id": "54e7b197-e004-4599-a742-629e9e5731af",
   "metadata": {},
   "outputs": [
    {
     "data": {
      "text/html": [
       "\n",
       "            <style>\n",
       "                .geemap-dark {\n",
       "                    --jp-widgets-color: white;\n",
       "                    --jp-widgets-label-color: white;\n",
       "                    --jp-ui-font-color1: white;\n",
       "                    --jp-layout-color2: #454545;\n",
       "                    background-color: #383838;\n",
       "                }\n",
       "\n",
       "                .geemap-dark .jupyter-button {\n",
       "                    --jp-layout-color3: #383838;\n",
       "                }\n",
       "\n",
       "                .geemap-colab {\n",
       "                    background-color: var(--colab-primary-surface-color, white);\n",
       "                }\n",
       "\n",
       "                .geemap-colab .jupyter-button {\n",
       "                    --jp-layout-color3: var(--colab-primary-surface-color, white);\n",
       "                }\n",
       "            </style>\n",
       "            "
      ],
      "text/plain": [
       "<IPython.core.display.HTML object>"
      ]
     },
     "metadata": {},
     "output_type": "display_data"
    },
    {
     "name": "stdout",
     "output_type": "stream",
     "text": [
      "Carte pour le niveau Régions :\n"
     ]
    },
    {
     "data": {
      "application/vnd.jupyter.widget-view+json": {
       "model_id": "7b2f939095614178b1408e5eeaba3a79",
       "version_major": 2,
       "version_minor": 0
      },
      "text/plain": [
       "Map(center=[12, -1], controls=(WidgetControl(options=['position', 'transparent_bg'], widget=SearchDataGUI(chil…"
      ]
     },
     "execution_count": 30,
     "metadata": {},
     "output_type": "execute_result"
    }
   ],
   "source": [
    "print(\"Carte pour le niveau Régions :\")\n",
    "Map_regions"
   ]
  },
  {
   "cell_type": "code",
   "execution_count": 31,
   "id": "d089af0c-6394-4864-b80b-77c88e2a4332",
   "metadata": {
    "scrolled": true
   },
   "outputs": [
    {
     "data": {
      "text/html": [
       "\n",
       "            <style>\n",
       "                .geemap-dark {\n",
       "                    --jp-widgets-color: white;\n",
       "                    --jp-widgets-label-color: white;\n",
       "                    --jp-ui-font-color1: white;\n",
       "                    --jp-layout-color2: #454545;\n",
       "                    background-color: #383838;\n",
       "                }\n",
       "\n",
       "                .geemap-dark .jupyter-button {\n",
       "                    --jp-layout-color3: #383838;\n",
       "                }\n",
       "\n",
       "                .geemap-colab {\n",
       "                    background-color: var(--colab-primary-surface-color, white);\n",
       "                }\n",
       "\n",
       "                .geemap-colab .jupyter-button {\n",
       "                    --jp-layout-color3: var(--colab-primary-surface-color, white);\n",
       "                }\n",
       "            </style>\n",
       "            "
      ],
      "text/plain": [
       "<IPython.core.display.HTML object>"
      ]
     },
     "metadata": {},
     "output_type": "display_data"
    },
    {
     "name": "stdout",
     "output_type": "stream",
     "text": [
      "Carte pour le niveau Provinces :\n"
     ]
    },
    {
     "data": {
      "application/vnd.jupyter.widget-view+json": {
       "model_id": "1acd18e47bbd4eb4aeb553220527bdbc",
       "version_major": 2,
       "version_minor": 0
      },
      "text/plain": [
       "Map(center=[12, -1], controls=(WidgetControl(options=['position', 'transparent_bg'], widget=SearchDataGUI(chil…"
      ]
     },
     "execution_count": 31,
     "metadata": {},
     "output_type": "execute_result"
    }
   ],
   "source": [
    "print(\"Carte pour le niveau Provinces :\")\n",
    "Map_provinces"
   ]
  },
  {
   "cell_type": "code",
   "execution_count": 32,
   "id": "c406148e-5968-42d4-8fbd-5f3d832531de",
   "metadata": {},
   "outputs": [
    {
     "data": {
      "text/html": [
       "\n",
       "            <style>\n",
       "                .geemap-dark {\n",
       "                    --jp-widgets-color: white;\n",
       "                    --jp-widgets-label-color: white;\n",
       "                    --jp-ui-font-color1: white;\n",
       "                    --jp-layout-color2: #454545;\n",
       "                    background-color: #383838;\n",
       "                }\n",
       "\n",
       "                .geemap-dark .jupyter-button {\n",
       "                    --jp-layout-color3: #383838;\n",
       "                }\n",
       "\n",
       "                .geemap-colab {\n",
       "                    background-color: var(--colab-primary-surface-color, white);\n",
       "                }\n",
       "\n",
       "                .geemap-colab .jupyter-button {\n",
       "                    --jp-layout-color3: var(--colab-primary-surface-color, white);\n",
       "                }\n",
       "            </style>\n",
       "            "
      ],
      "text/plain": [
       "<IPython.core.display.HTML object>"
      ]
     },
     "metadata": {},
     "output_type": "display_data"
    },
    {
     "name": "stdout",
     "output_type": "stream",
     "text": [
      "Carte pour le niveau Communes :\n"
     ]
    },
    {
     "data": {
      "application/vnd.jupyter.widget-view+json": {
       "model_id": "a89a44068c3142db8194d5d077c7c68b",
       "version_major": 2,
       "version_minor": 0
      },
      "text/plain": [
       "Map(center=[12, -1], controls=(WidgetControl(options=['position', 'transparent_bg'], widget=SearchDataGUI(chil…"
      ]
     },
     "execution_count": 32,
     "metadata": {},
     "output_type": "execute_result"
    }
   ],
   "source": [
    "Map_communes.addLayer(communes, {'color': 'black'}, 'Shapefile')\n",
    "print(\"Carte pour le niveau Communes :\")\n",
    "Map_communes"
   ]
  },
  {
   "cell_type": "markdown",
   "id": "da5af17f-3f93-4b9f-969e-d153fffb1eba",
   "metadata": {},
   "source": [
    "# Essayons now d'afficher les noms des niveaux et les taux moyens correspondants"
   ]
  },
  {
   "cell_type": "markdown",
   "id": "5077adab-3527-4292-ab12-647013d981d9",
   "metadata": {},
   "source": [
    "### Pour le Burkina Faso"
   ]
  },
  {
   "cell_type": "code",
   "execution_count": 33,
   "id": "0c836e1f-388b-4a8a-995f-15c8a8464554",
   "metadata": {},
   "outputs": [
    {
     "data": {
      "text/html": [
       "\n",
       "            <style>\n",
       "                .geemap-dark {\n",
       "                    --jp-widgets-color: white;\n",
       "                    --jp-widgets-label-color: white;\n",
       "                    --jp-ui-font-color1: white;\n",
       "                    --jp-layout-color2: #454545;\n",
       "                    background-color: #383838;\n",
       "                }\n",
       "\n",
       "                .geemap-dark .jupyter-button {\n",
       "                    --jp-layout-color3: #383838;\n",
       "                }\n",
       "\n",
       "                .geemap-colab {\n",
       "                    background-color: var(--colab-primary-surface-color, white);\n",
       "                }\n",
       "\n",
       "                .geemap-colab .jupyter-button {\n",
       "                    --jp-layout-color3: var(--colab-primary-surface-color, white);\n",
       "                }\n",
       "            </style>\n",
       "            "
      ],
      "text/plain": [
       "<IPython.core.display.HTML object>"
      ]
     },
     "metadata": {},
     "output_type": "display_data"
    },
    {
     "name": "stdout",
     "output_type": "stream",
     "text": [
      "Carte pour les Régions :\n",
      "Carte pour les Pays :\n"
     ]
    },
    {
     "data": {
      "application/vnd.jupyter.widget-view+json": {
       "model_id": "57dd552b7c1d4f979dba3563ec5ac540",
       "version_major": 2,
       "version_minor": 0
      },
      "text/plain": [
       "Map(center=[12, -1], controls=(WidgetControl(options=['position', 'transparent_bg'], widget=SearchDataGUI(chil…"
      ]
     },
     "execution_count": 33,
     "metadata": {},
     "output_type": "execute_result"
    }
   ],
   "source": [
    "# Paramètres de visualisation\n",
    "vis_params = {\n",
    "    'min': min_value,\n",
    "    'max': max_value,\n",
    "    'palette': ['pink']\n",
    "}\n",
    "# Créer la carte pour les pays\n",
    "Map_pays = geemap.Map(center=[12, -1], zoom=6)\n",
    "Map_pays.addLayer(pays_image, vis_params, 'Pays - Moyenne')\n",
    "\n",
    "# Ajouter les labels pour les pays\n",
    "for feature in pays_updated.getInfo()['features']:\n",
    "    pays_name = feature['properties']['ADM0_FR']\n",
    "    moyenne_valeur = feature['properties']['Moyenne_Pays']\n",
    "    label_text = f\"{pays_name}: {moyenne_valeur:.2f}\"\n",
    "    \n",
    "    # Extraire les coordonnées du centre du pays\n",
    "    centroid = ee.Feature(feature).geometry().centroid().coordinates().getInfo()\n",
    "    \n",
    "    # Ajouter le texte sur la carte\n",
    "    Map_pays.add_text(\n",
    "        text=label_text,\n",
    "        xy=centroid,\n",
    "        font_size=15,\n",
    "        font_color='black',\n",
    "        font_family='monospace'\n",
    "    )\n",
    "\n",
    "# Ajouter une légende pour les pays\n",
    "Map_pays.add_colorbar(vis_params=vis_params, label=\"Moyenne des valeurs des pixels - Pays\")\n",
    "\n",
    "# Afficher les cartes\n",
    "print(\"Carte pour les Régions :\")\n",
    "Map_regions\n",
    "\n",
    "print(\"Carte pour les Pays :\")\n",
    "Map_pays"
   ]
  },
  {
   "cell_type": "markdown",
   "id": "e76257e2-2860-4a34-8f57-f729713e2828",
   "metadata": {},
   "source": [
    "### Pour les provinces du Burkina Faso"
   ]
  },
  {
   "cell_type": "code",
   "execution_count": null,
   "id": "2788e047-cbeb-4e8d-9817-68fd8954b929",
   "metadata": {},
   "outputs": [],
   "source": [
    "import geemap\n",
    "import ee\n",
    "\n",
    "# Initialiser l'API Earth Engine\n",
    "ee.Initialize()\n",
    "\n",
    "# Mettre à jour les shapefiles avec les moyennes calculées\n",
    "def update_shapefile_with_mean(feature_collection, image, mean_property_name='Moyenne_Pixels'):\n",
    "    stats = image.reduceRegions(\n",
    "        collection=feature_collection,\n",
    "        reducer=ee.Reducer.mean(),\n",
    "        scale=30\n",
    "    )\n",
    "    # Ajouter les moyennes comme propriété\n",
    "    return stats.map(lambda feature: feature.set(mean_property_name, feature.get('mean')))\n",
    "\n",
    "# Mettre à jour les entités géographiques avec les moyennes des régions\n",
    "regions_updated = update_shapefile_with_mean(regions, moyenne_raster, 'Moyenne_Région')\n",
    "\n",
    "# Créer une image des moyennes des régions\n",
    "regions_image = regions_updated.reduceToImage(\n",
    "    properties=['Moyenne_Région'],\n",
    "    reducer=ee.Reducer.first()\n",
    ")\n",
    "\n",
    "# Paramètres de visualisation\n",
    "vis_params = {\n",
    "    'min': min_value,\n",
    "    'max': max_value,\n",
    "    'palette': ['white', '#fee5d9', '#fcae91', '#fb6a4a', '#de2d26', '#a50f15']\n",
    "}\n",
    "\n",
    "# Créer la carte\n",
    "Map_regions = geemap.Map(center=[12, -1], zoom=6)\n",
    "\n",
    "# Ajouter l'image des régions à la carte\n",
    "Map_regions.addLayer(regions_image, vis_params, 'Régions - Moyenne')\n",
    "\n",
    "# Ajouter les labels avec le texte des noms des régions et les moyennes\n",
    "for feature in regions_updated.getInfo()['features']:\n",
    "    region_name = feature['properties']['ADM1_FR']\n",
    "    moyenne_valeur = feature['properties']['Moyenne_Région']\n",
    "    label_text = f\"{region_name}: {moyenne_valeur:.2f}\"\n",
    "    \n",
    "    # Extraire les coordonnées du centre de chaque région\n",
    "    centroid = ee.Feature(feature).geometry().centroid().coordinates().getInfo()\n",
    "    \n",
    "    # Ajouter le texte sur la carte\n",
    "    Map_regions.add_text(\n",
    "        text=label_text,\n",
    "        xy=centroid,\n",
    "        font_size=15,\n",
    "        font_color='black',\n",
    "        font_family='monospace'\n",
    "    )\n",
    "\n",
    "# Ajouter une légende pour la carte\n",
    "Map_regions.add_colorbar(vis_params=vis_params, label=\"Moyenne des valeurs des pixels - Régions\")\n",
    "\n",
    "# Afficher la carte\n",
    "Map_regions\n"
   ]
  },
  {
   "cell_type": "markdown",
   "id": "b16bd596-82a9-4537-81fb-7713b0c0393e",
   "metadata": {},
   "source": [
    "### Pour les régions du Burkina Faso"
   ]
  },
  {
   "cell_type": "code",
   "execution_count": null,
   "id": "50d29d4e-a12b-45af-bc9e-bff9d4f2c98d",
   "metadata": {},
   "outputs": [],
   "source": [
    "import geemap\n",
    "import ee\n",
    "\n",
    "# Initialiser l'API Earth Engine\n",
    "ee.Initialize()\n",
    "\n",
    "# Mettre à jour les shapefiles avec les moyennes calculées\n",
    "def update_shapefile_with_mean(feature_collection, image, mean_property_name='Moyenne_Pixels'):\n",
    "    stats = image.reduceRegions(\n",
    "        collection=feature_collection,\n",
    "        reducer=ee.Reducer.mean(),\n",
    "        scale=30\n",
    "    )\n",
    "    # Ajouter les moyennes comme propriété\n",
    "    return stats.map(lambda feature: feature.set(mean_property_name, feature.get('mean')))\n",
    "\n",
    "# Mettre à jour les entités géographiques avec les moyennes pour les provinces\n",
    "provinces_updated = update_shapefile_with_mean(provinces, moyenne_raster, 'Moyenne_Province')\n",
    "\n",
    "# Créer une image des moyennes pour les provinces\n",
    "provinces_image = provinces_updated.reduceToImage(\n",
    "    properties=['Moyenne_Province'],\n",
    "    reducer=ee.Reducer.first()\n",
    ")\n",
    "\n",
    "# Paramètres de visualisation\n",
    "vis_params = {\n",
    "    'min': min_value,\n",
    "    'max': max_value,\n",
    "    'palette': ['white', '#fee5d9', '#fcae91', '#fb6a4a', '#de2d26', '#a50f15']\n",
    "}\n",
    "\n",
    "# Créer la carte pour les provinces\n",
    "Map_provinces = geemap.Map(center=[12, -1], zoom=6)\n",
    "Map_provinces.addLayer(provinces_image, vis_params, 'Provinces - Moyenne')\n",
    "\n",
    "# Ajouter les labels pour les provinces\n",
    "for feature in provinces_updated.getInfo()['features']:\n",
    "    province_name = feature['properties']['ADM2_FR']\n",
    "    moyenne_valeur = feature['properties']['Moyenne_Province']\n",
    "    label_text = f\"{province_name}: {moyenne_valeur:.2f}\"\n",
    "    \n",
    "    # Extraire les coordonnées du centre de chaque province\n",
    "    centroid = ee.Feature(feature).geometry().centroid().coordinates().getInfo()\n",
    "    \n",
    "    # Ajouter le texte sur la carte\n",
    "    Map_provinces.add_text(\n",
    "        text=label_text,\n",
    "        xy=centroid,\n",
    "        font_size=12,\n",
    "        font_color='black',\n",
    "        font_family='monospace'\n",
    "    )\n",
    "\n",
    "# Ajouter une légende pour les provinces\n",
    "Map_provinces.add_colorbar(vis_params=vis_params, label=\"Moyenne des valeurs des pixels - Provinces\")\n",
    "\n",
    "# Afficher la carte pour les provinces\n",
    "Map_provinces\n"
   ]
  },
  {
   "cell_type": "code",
   "execution_count": null,
   "id": "a01ab1da-b693-42e6-80fa-253134d2b60e",
   "metadata": {},
   "outputs": [],
   "source": [
    "import geemap\n",
    "import ee\n",
    "\n",
    "# Initialiser l'API Earth Engine\n",
    "ee.Initialize()\n",
    "\n",
    "# Mettre à jour les shapefiles avec les moyennes calculées\n",
    "def update_shapefile_with_mean(feature_collection, image, mean_property_name='Moyenne_Pixels'):\n",
    "    stats = image.reduceRegions(\n",
    "        collection=feature_collection,\n",
    "        reducer=ee.Reducer.mean(),\n",
    "        scale=30\n",
    "    )\n",
    "    # Ajouter les moyennes comme propriété\n",
    "    return stats.map(lambda feature: feature.set(mean_property_name, feature.get('mean')))\n",
    "\n",
    "# Mis à jour des entités géographiques avec les moyennes pour les communes\n",
    "communes_updated = update_shapefile_with_mean(communes, moyenne_raster, 'Moyenne_Commune')\n",
    "\n",
    "# Vérifier les résultats\n",
    "communes_info = communes_updated.getInfo()\n",
    "print(\"Exemple de données mises à jour pour les communes :\")\n",
    "print(communes_info['features'][0]['properties'])  # Imprimer les propriétés d'une des communes pour vérification\n",
    "\n",
    "# Créer une image des moyennes pour les communes\n",
    "communes_image = communes_updated.reduceToImage(\n",
    "    properties=['Moyenne_Commune'],\n",
    "    reducer=ee.Reducer.first()\n",
    ")\n",
    "\n",
    "# Paramètres de visualisation\n",
    "vis_params = {\n",
    "    'min': min_value,\n",
    "    'max': max_value,\n",
    "    'palette': ['white', '#fee5d9', '#fcae91', '#fb6a4a', '#de2d26', '#a50f15']\n",
    "}\n",
    "\n",
    "# Créer la carte pour les communes\n",
    "Map_communes = geemap.Map(center=[12, -1], zoom=6)\n",
    "Map_communes.addLayer(communes_image, vis_params, 'Communes - Moyenne')\n",
    "\n",
    "# Ajouter les labels pour les communes\n",
    "for feature in communes_info['features']:\n",
    "    commune_name = feature['properties']['ADM3_FR']\n",
    "    moyenne_valeur = feature['properties'].get('Moyenne_Commune', 'Non calculée')  # Utilisez get() pour éviter KeyError\n",
    "    label_text = f\"{commune_name}: {moyenne_valeur:.2f}\" if moyenne_valeur != 'Non calculée' else f\"{commune_name}: Non calculée\"\n",
    "    \n",
    "    # Extraire les coordonnées du centre de chaque commune\n",
    "    centroid = ee.Feature(feature).geometry().centroid().coordinates().getInfo()\n",
    "    \n",
    "    # Ajouter le texte sur la carte\n",
    "    Map_communes.add_text(\n",
    "        text=label_text,\n",
    "        xy=centroid,\n",
    "        font_size=12,\n",
    "        font_color='black',\n",
    "        font_family='monospace'\n",
    "    )\n",
    "\n",
    "# Ajouter une légende pour les communes\n",
    "Map_communes.add_colorbar(vis_params=vis_params, label=\"Moyenne des valeurs des pixels - Communes\")\n",
    "\n",
    "# Afficher la carte pour les communes\n",
    "Map_communes\n"
   ]
  },
  {
   "cell_type": "code",
   "execution_count": null,
   "id": "c850255a-b090-4dc1-ac20-72b26f73034a",
   "metadata": {},
   "outputs": [],
   "source": []
  },
  {
   "cell_type": "code",
   "execution_count": 121,
   "id": "86d0d30f-422c-4340-902a-4e6d524b3770",
   "metadata": {
    "scrolled": true
   },
   "outputs": [
    {
     "data": {
      "text/html": [
       "\n",
       "            <style>\n",
       "                .geemap-dark {\n",
       "                    --jp-widgets-color: white;\n",
       "                    --jp-widgets-label-color: white;\n",
       "                    --jp-ui-font-color1: white;\n",
       "                    --jp-layout-color2: #454545;\n",
       "                    background-color: #383838;\n",
       "                }\n",
       "\n",
       "                .geemap-dark .jupyter-button {\n",
       "                    --jp-layout-color3: #383838;\n",
       "                }\n",
       "\n",
       "                .geemap-colab {\n",
       "                    background-color: var(--colab-primary-surface-color, white);\n",
       "                }\n",
       "\n",
       "                .geemap-colab .jupyter-button {\n",
       "                    --jp-layout-color3: var(--colab-primary-surface-color, white);\n",
       "                }\n",
       "            </style>\n",
       "            "
      ],
      "text/plain": [
       "<IPython.core.display.HTML object>"
      ]
     },
     "metadata": {},
     "output_type": "display_data"
    },
    {
     "ename": "KeyboardInterrupt",
     "evalue": "",
     "output_type": "error",
     "traceback": [
      "\u001b[1;31m---------------------------------------------------------------------------\u001b[0m",
      "\u001b[1;31mKeyboardInterrupt\u001b[0m                         Traceback (most recent call last)",
      "Cell \u001b[1;32mIn[121], line 56\u001b[0m\n\u001b[0;32m     54\u001b[0m \u001b[38;5;28;01mtry\u001b[39;00m:\n\u001b[0;32m     55\u001b[0m     moyenne_commune \u001b[38;5;241m=\u001b[39m zonal_statistics(communes, moyenne_raster, statistic_type\u001b[38;5;241m=\u001b[39m\u001b[38;5;124m'\u001b[39m\u001b[38;5;124mmean\u001b[39m\u001b[38;5;124m'\u001b[39m)\n\u001b[1;32m---> 56\u001b[0m     communes_result \u001b[38;5;241m=\u001b[39m \u001b[43mmoyenne_commune\u001b[49m\u001b[38;5;241;43m.\u001b[39;49m\u001b[43mgetInfo\u001b[49m\u001b[43m(\u001b[49m\u001b[43m)\u001b[49m\n\u001b[0;32m     57\u001b[0m \u001b[38;5;28;01mexcept\u001b[39;00m \u001b[38;5;167;01mException\u001b[39;00m \u001b[38;5;28;01mas\u001b[39;00m e:\n\u001b[0;32m     58\u001b[0m     \u001b[38;5;28mprint\u001b[39m(\u001b[38;5;124mf\u001b[39m\u001b[38;5;124m\"\u001b[39m\u001b[38;5;124mErreur lors du calcul pour les communes : \u001b[39m\u001b[38;5;132;01m{\u001b[39;00me\u001b[38;5;132;01m}\u001b[39;00m\u001b[38;5;124m\"\u001b[39m)\n",
      "File \u001b[1;32m~\\anaconda3\\envs\\gee\\lib\\site-packages\\ee\\collection.py:560\u001b[0m, in \u001b[0;36mCollection.getInfo\u001b[1;34m(self)\u001b[0m\n\u001b[0;32m    547\u001b[0m \u001b[38;5;28;01mdef\u001b[39;00m \u001b[38;5;21mgetInfo\u001b[39m(\u001b[38;5;28mself\u001b[39m) \u001b[38;5;241m-\u001b[39m\u001b[38;5;241m>\u001b[39m Optional[Any]:\n\u001b[0;32m    548\u001b[0m \u001b[38;5;250m  \u001b[39m\u001b[38;5;124;03m\"\"\"Returns all the known information about this collection.\u001b[39;00m\n\u001b[0;32m    549\u001b[0m \n\u001b[0;32m    550\u001b[0m \u001b[38;5;124;03m  This function makes a REST call to to retrieve all the known information\u001b[39;00m\n\u001b[1;32m   (...)\u001b[0m\n\u001b[0;32m    558\u001b[0m \u001b[38;5;124;03m         properties.\u001b[39;00m\n\u001b[0;32m    559\u001b[0m \u001b[38;5;124;03m  \"\"\"\u001b[39;00m\n\u001b[1;32m--> 560\u001b[0m   \u001b[38;5;28;01mreturn\u001b[39;00m \u001b[38;5;28;43msuper\u001b[39;49m\u001b[43m(\u001b[49m\u001b[43m)\u001b[49m\u001b[38;5;241;43m.\u001b[39;49m\u001b[43mgetInfo\u001b[49m\u001b[43m(\u001b[49m\u001b[43m)\u001b[49m\n",
      "File \u001b[1;32m~\\anaconda3\\envs\\gee\\lib\\site-packages\\ee\\computedobject.py:107\u001b[0m, in \u001b[0;36mComputedObject.getInfo\u001b[1;34m(self)\u001b[0m\n\u001b[0;32m    101\u001b[0m \u001b[38;5;28;01mdef\u001b[39;00m \u001b[38;5;21mgetInfo\u001b[39m(\u001b[38;5;28mself\u001b[39m) \u001b[38;5;241m-\u001b[39m\u001b[38;5;241m>\u001b[39m Optional[Any]:\n\u001b[0;32m    102\u001b[0m \u001b[38;5;250m  \u001b[39m\u001b[38;5;124;03m\"\"\"Fetch and return information about this object.\u001b[39;00m\n\u001b[0;32m    103\u001b[0m \n\u001b[0;32m    104\u001b[0m \u001b[38;5;124;03m  Returns:\u001b[39;00m\n\u001b[0;32m    105\u001b[0m \u001b[38;5;124;03m    The object can evaluate to anything.\u001b[39;00m\n\u001b[0;32m    106\u001b[0m \u001b[38;5;124;03m  \"\"\"\u001b[39;00m\n\u001b[1;32m--> 107\u001b[0m   \u001b[38;5;28;01mreturn\u001b[39;00m \u001b[43mdata\u001b[49m\u001b[38;5;241;43m.\u001b[39;49m\u001b[43mcomputeValue\u001b[49m\u001b[43m(\u001b[49m\u001b[38;5;28;43mself\u001b[39;49m\u001b[43m)\u001b[49m\n",
      "File \u001b[1;32m~\\anaconda3\\envs\\gee\\lib\\site-packages\\ee\\data.py:1126\u001b[0m, in \u001b[0;36mcomputeValue\u001b[1;34m(obj)\u001b[0m\n\u001b[0;32m   1123\u001b[0m body \u001b[38;5;241m=\u001b[39m {\u001b[38;5;124m'\u001b[39m\u001b[38;5;124mexpression\u001b[39m\u001b[38;5;124m'\u001b[39m: serializer\u001b[38;5;241m.\u001b[39mencode(obj, for_cloud_api\u001b[38;5;241m=\u001b[39m\u001b[38;5;28;01mTrue\u001b[39;00m)}\n\u001b[0;32m   1124\u001b[0m _maybe_populate_workload_tag(body)\n\u001b[1;32m-> 1126\u001b[0m \u001b[38;5;28;01mreturn\u001b[39;00m \u001b[43m_execute_cloud_call\u001b[49m\u001b[43m(\u001b[49m\n\u001b[0;32m   1127\u001b[0m \u001b[43m    \u001b[49m\u001b[43m_get_cloud_projects\u001b[49m\u001b[43m(\u001b[49m\u001b[43m)\u001b[49m\n\u001b[0;32m   1128\u001b[0m \u001b[43m    \u001b[49m\u001b[38;5;241;43m.\u001b[39;49m\u001b[43mvalue\u001b[49m\u001b[43m(\u001b[49m\u001b[43m)\u001b[49m\n\u001b[0;32m   1129\u001b[0m \u001b[43m    \u001b[49m\u001b[38;5;241;43m.\u001b[39;49m\u001b[43mcompute\u001b[49m\u001b[43m(\u001b[49m\u001b[43mbody\u001b[49m\u001b[38;5;241;43m=\u001b[39;49m\u001b[43mbody\u001b[49m\u001b[43m,\u001b[49m\u001b[43m \u001b[49m\u001b[43mproject\u001b[49m\u001b[38;5;241;43m=\u001b[39;49m\u001b[43m_get_projects_path\u001b[49m\u001b[43m(\u001b[49m\u001b[43m)\u001b[49m\u001b[43m,\u001b[49m\u001b[43m \u001b[49m\u001b[43mprettyPrint\u001b[49m\u001b[38;5;241;43m=\u001b[39;49m\u001b[38;5;28;43;01mFalse\u001b[39;49;00m\u001b[43m)\u001b[49m\n\u001b[0;32m   1130\u001b[0m \u001b[43m\u001b[49m\u001b[43m)\u001b[49m[\u001b[38;5;124m'\u001b[39m\u001b[38;5;124mresult\u001b[39m\u001b[38;5;124m'\u001b[39m]\n",
      "File \u001b[1;32m~\\anaconda3\\envs\\gee\\lib\\site-packages\\ee\\data.py:406\u001b[0m, in \u001b[0;36m_execute_cloud_call\u001b[1;34m(call, num_retries)\u001b[0m\n\u001b[0;32m    404\u001b[0m num_retries \u001b[38;5;241m=\u001b[39m _max_retries \u001b[38;5;28;01mif\u001b[39;00m num_retries \u001b[38;5;129;01mis\u001b[39;00m \u001b[38;5;28;01mNone\u001b[39;00m \u001b[38;5;28;01melse\u001b[39;00m num_retries\n\u001b[0;32m    405\u001b[0m \u001b[38;5;28;01mtry\u001b[39;00m:\n\u001b[1;32m--> 406\u001b[0m   \u001b[38;5;28;01mreturn\u001b[39;00m \u001b[43mcall\u001b[49m\u001b[38;5;241;43m.\u001b[39;49m\u001b[43mexecute\u001b[49m\u001b[43m(\u001b[49m\u001b[43mnum_retries\u001b[49m\u001b[38;5;241;43m=\u001b[39;49m\u001b[43mnum_retries\u001b[49m\u001b[43m)\u001b[49m\n\u001b[0;32m    407\u001b[0m \u001b[38;5;28;01mexcept\u001b[39;00m googleapiclient\u001b[38;5;241m.\u001b[39merrors\u001b[38;5;241m.\u001b[39mHttpError \u001b[38;5;28;01mas\u001b[39;00m e:\n\u001b[0;32m    408\u001b[0m   \u001b[38;5;28;01mraise\u001b[39;00m _translate_cloud_exception(e)\n",
      "File \u001b[1;32m~\\anaconda3\\envs\\gee\\lib\\site-packages\\googleapiclient\\_helpers.py:130\u001b[0m, in \u001b[0;36mpositional.<locals>.positional_decorator.<locals>.positional_wrapper\u001b[1;34m(*args, **kwargs)\u001b[0m\n\u001b[0;32m    128\u001b[0m     \u001b[38;5;28;01melif\u001b[39;00m positional_parameters_enforcement \u001b[38;5;241m==\u001b[39m POSITIONAL_WARNING:\n\u001b[0;32m    129\u001b[0m         logger\u001b[38;5;241m.\u001b[39mwarning(message)\n\u001b[1;32m--> 130\u001b[0m \u001b[38;5;28;01mreturn\u001b[39;00m \u001b[43mwrapped\u001b[49m\u001b[43m(\u001b[49m\u001b[38;5;241;43m*\u001b[39;49m\u001b[43margs\u001b[49m\u001b[43m,\u001b[49m\u001b[43m \u001b[49m\u001b[38;5;241;43m*\u001b[39;49m\u001b[38;5;241;43m*\u001b[39;49m\u001b[43mkwargs\u001b[49m\u001b[43m)\u001b[49m\n",
      "File \u001b[1;32m~\\anaconda3\\envs\\gee\\lib\\site-packages\\googleapiclient\\http.py:923\u001b[0m, in \u001b[0;36mHttpRequest.execute\u001b[1;34m(self, http, num_retries)\u001b[0m\n\u001b[0;32m    920\u001b[0m     \u001b[38;5;28mself\u001b[39m\u001b[38;5;241m.\u001b[39mheaders[\u001b[38;5;124m\"\u001b[39m\u001b[38;5;124mcontent-length\u001b[39m\u001b[38;5;124m\"\u001b[39m] \u001b[38;5;241m=\u001b[39m \u001b[38;5;28mstr\u001b[39m(\u001b[38;5;28mlen\u001b[39m(\u001b[38;5;28mself\u001b[39m\u001b[38;5;241m.\u001b[39mbody))\n\u001b[0;32m    922\u001b[0m \u001b[38;5;66;03m# Handle retries for server-side errors.\u001b[39;00m\n\u001b[1;32m--> 923\u001b[0m resp, content \u001b[38;5;241m=\u001b[39m \u001b[43m_retry_request\u001b[49m\u001b[43m(\u001b[49m\n\u001b[0;32m    924\u001b[0m \u001b[43m    \u001b[49m\u001b[43mhttp\u001b[49m\u001b[43m,\u001b[49m\n\u001b[0;32m    925\u001b[0m \u001b[43m    \u001b[49m\u001b[43mnum_retries\u001b[49m\u001b[43m,\u001b[49m\n\u001b[0;32m    926\u001b[0m \u001b[43m    \u001b[49m\u001b[38;5;124;43m\"\u001b[39;49m\u001b[38;5;124;43mrequest\u001b[39;49m\u001b[38;5;124;43m\"\u001b[39;49m\u001b[43m,\u001b[49m\n\u001b[0;32m    927\u001b[0m \u001b[43m    \u001b[49m\u001b[38;5;28;43mself\u001b[39;49m\u001b[38;5;241;43m.\u001b[39;49m\u001b[43m_sleep\u001b[49m\u001b[43m,\u001b[49m\n\u001b[0;32m    928\u001b[0m \u001b[43m    \u001b[49m\u001b[38;5;28;43mself\u001b[39;49m\u001b[38;5;241;43m.\u001b[39;49m\u001b[43m_rand\u001b[49m\u001b[43m,\u001b[49m\n\u001b[0;32m    929\u001b[0m \u001b[43m    \u001b[49m\u001b[38;5;28;43mstr\u001b[39;49m\u001b[43m(\u001b[49m\u001b[38;5;28;43mself\u001b[39;49m\u001b[38;5;241;43m.\u001b[39;49m\u001b[43muri\u001b[49m\u001b[43m)\u001b[49m\u001b[43m,\u001b[49m\n\u001b[0;32m    930\u001b[0m \u001b[43m    \u001b[49m\u001b[43mmethod\u001b[49m\u001b[38;5;241;43m=\u001b[39;49m\u001b[38;5;28;43mstr\u001b[39;49m\u001b[43m(\u001b[49m\u001b[38;5;28;43mself\u001b[39;49m\u001b[38;5;241;43m.\u001b[39;49m\u001b[43mmethod\u001b[49m\u001b[43m)\u001b[49m\u001b[43m,\u001b[49m\n\u001b[0;32m    931\u001b[0m \u001b[43m    \u001b[49m\u001b[43mbody\u001b[49m\u001b[38;5;241;43m=\u001b[39;49m\u001b[38;5;28;43mself\u001b[39;49m\u001b[38;5;241;43m.\u001b[39;49m\u001b[43mbody\u001b[49m\u001b[43m,\u001b[49m\n\u001b[0;32m    932\u001b[0m \u001b[43m    \u001b[49m\u001b[43mheaders\u001b[49m\u001b[38;5;241;43m=\u001b[39;49m\u001b[38;5;28;43mself\u001b[39;49m\u001b[38;5;241;43m.\u001b[39;49m\u001b[43mheaders\u001b[49m\u001b[43m,\u001b[49m\n\u001b[0;32m    933\u001b[0m \u001b[43m\u001b[49m\u001b[43m)\u001b[49m\n\u001b[0;32m    935\u001b[0m \u001b[38;5;28;01mfor\u001b[39;00m callback \u001b[38;5;129;01min\u001b[39;00m \u001b[38;5;28mself\u001b[39m\u001b[38;5;241m.\u001b[39mresponse_callbacks:\n\u001b[0;32m    936\u001b[0m     callback(resp)\n",
      "File \u001b[1;32m~\\anaconda3\\envs\\gee\\lib\\site-packages\\googleapiclient\\http.py:191\u001b[0m, in \u001b[0;36m_retry_request\u001b[1;34m(http, num_retries, req_type, sleep, rand, uri, method, *args, **kwargs)\u001b[0m\n\u001b[0;32m    189\u001b[0m \u001b[38;5;28;01mtry\u001b[39;00m:\n\u001b[0;32m    190\u001b[0m     exception \u001b[38;5;241m=\u001b[39m \u001b[38;5;28;01mNone\u001b[39;00m\n\u001b[1;32m--> 191\u001b[0m     resp, content \u001b[38;5;241m=\u001b[39m \u001b[43mhttp\u001b[49m\u001b[38;5;241;43m.\u001b[39;49m\u001b[43mrequest\u001b[49m\u001b[43m(\u001b[49m\u001b[43muri\u001b[49m\u001b[43m,\u001b[49m\u001b[43m \u001b[49m\u001b[43mmethod\u001b[49m\u001b[43m,\u001b[49m\u001b[43m \u001b[49m\u001b[38;5;241;43m*\u001b[39;49m\u001b[43margs\u001b[49m\u001b[43m,\u001b[49m\u001b[43m \u001b[49m\u001b[38;5;241;43m*\u001b[39;49m\u001b[38;5;241;43m*\u001b[39;49m\u001b[43mkwargs\u001b[49m\u001b[43m)\u001b[49m\n\u001b[0;32m    192\u001b[0m \u001b[38;5;66;03m# Retry on SSL errors and socket timeout errors.\u001b[39;00m\n\u001b[0;32m    193\u001b[0m \u001b[38;5;28;01mexcept\u001b[39;00m _ssl_SSLError \u001b[38;5;28;01mas\u001b[39;00m ssl_error:\n",
      "File \u001b[1;32m~\\anaconda3\\envs\\gee\\lib\\site-packages\\google_auth_httplib2.py:218\u001b[0m, in \u001b[0;36mAuthorizedHttp.request\u001b[1;34m(self, uri, method, body, headers, redirections, connection_type, **kwargs)\u001b[0m\n\u001b[0;32m    215\u001b[0m     body_stream_position \u001b[38;5;241m=\u001b[39m body\u001b[38;5;241m.\u001b[39mtell()\n\u001b[0;32m    217\u001b[0m \u001b[38;5;66;03m# Make the request.\u001b[39;00m\n\u001b[1;32m--> 218\u001b[0m response, content \u001b[38;5;241m=\u001b[39m \u001b[38;5;28;43mself\u001b[39;49m\u001b[38;5;241;43m.\u001b[39;49m\u001b[43mhttp\u001b[49m\u001b[38;5;241;43m.\u001b[39;49m\u001b[43mrequest\u001b[49m\u001b[43m(\u001b[49m\n\u001b[0;32m    219\u001b[0m \u001b[43m    \u001b[49m\u001b[43muri\u001b[49m\u001b[43m,\u001b[49m\n\u001b[0;32m    220\u001b[0m \u001b[43m    \u001b[49m\u001b[43mmethod\u001b[49m\u001b[43m,\u001b[49m\n\u001b[0;32m    221\u001b[0m \u001b[43m    \u001b[49m\u001b[43mbody\u001b[49m\u001b[38;5;241;43m=\u001b[39;49m\u001b[43mbody\u001b[49m\u001b[43m,\u001b[49m\n\u001b[0;32m    222\u001b[0m \u001b[43m    \u001b[49m\u001b[43mheaders\u001b[49m\u001b[38;5;241;43m=\u001b[39;49m\u001b[43mrequest_headers\u001b[49m\u001b[43m,\u001b[49m\n\u001b[0;32m    223\u001b[0m \u001b[43m    \u001b[49m\u001b[43mredirections\u001b[49m\u001b[38;5;241;43m=\u001b[39;49m\u001b[43mredirections\u001b[49m\u001b[43m,\u001b[49m\n\u001b[0;32m    224\u001b[0m \u001b[43m    \u001b[49m\u001b[43mconnection_type\u001b[49m\u001b[38;5;241;43m=\u001b[39;49m\u001b[43mconnection_type\u001b[49m\u001b[43m,\u001b[49m\n\u001b[0;32m    225\u001b[0m \u001b[43m    \u001b[49m\u001b[38;5;241;43m*\u001b[39;49m\u001b[38;5;241;43m*\u001b[39;49m\u001b[43mkwargs\u001b[49m\n\u001b[0;32m    226\u001b[0m \u001b[43m\u001b[49m\u001b[43m)\u001b[49m\n\u001b[0;32m    228\u001b[0m \u001b[38;5;66;03m# If the response indicated that the credentials needed to be\u001b[39;00m\n\u001b[0;32m    229\u001b[0m \u001b[38;5;66;03m# refreshed, then refresh the credentials and re-attempt the\u001b[39;00m\n\u001b[0;32m    230\u001b[0m \u001b[38;5;66;03m# request.\u001b[39;00m\n\u001b[0;32m    231\u001b[0m \u001b[38;5;66;03m# A stored token may expire between the time it is retrieved and\u001b[39;00m\n\u001b[0;32m    232\u001b[0m \u001b[38;5;66;03m# the time the request is made, so we may need to try twice.\u001b[39;00m\n\u001b[0;32m    233\u001b[0m \u001b[38;5;28;01mif\u001b[39;00m (\n\u001b[0;32m    234\u001b[0m     response\u001b[38;5;241m.\u001b[39mstatus \u001b[38;5;129;01min\u001b[39;00m \u001b[38;5;28mself\u001b[39m\u001b[38;5;241m.\u001b[39m_refresh_status_codes\n\u001b[0;32m    235\u001b[0m     \u001b[38;5;129;01mand\u001b[39;00m _credential_refresh_attempt \u001b[38;5;241m<\u001b[39m \u001b[38;5;28mself\u001b[39m\u001b[38;5;241m.\u001b[39m_max_refresh_attempts\n\u001b[0;32m    236\u001b[0m ):\n",
      "File \u001b[1;32m~\\anaconda3\\envs\\gee\\lib\\site-packages\\ee\\_cloud_api_utils.py:70\u001b[0m, in \u001b[0;36m_Http.request\u001b[1;34m(***failed resolving arguments***)\u001b[0m\n\u001b[0;32m     63\u001b[0m \u001b[38;5;28;01mdel\u001b[39;00m redirections  \u001b[38;5;66;03m# Ignored\u001b[39;00m\n\u001b[0;32m     65\u001b[0m \u001b[38;5;28;01mtry\u001b[39;00m:\n\u001b[0;32m     66\u001b[0m   \u001b[38;5;66;03m# googleapiclient is expecting an httplib2 object, and doesn't include\u001b[39;00m\n\u001b[0;32m     67\u001b[0m   \u001b[38;5;66;03m# requests error in the list of transient errors. Therefore, transient\u001b[39;00m\n\u001b[0;32m     68\u001b[0m   \u001b[38;5;66;03m# requests errors should be converted to kinds that googleapiclient\u001b[39;00m\n\u001b[0;32m     69\u001b[0m   \u001b[38;5;66;03m# consider transient.\u001b[39;00m\n\u001b[1;32m---> 70\u001b[0m   response \u001b[38;5;241m=\u001b[39m \u001b[38;5;28;43mself\u001b[39;49m\u001b[38;5;241;43m.\u001b[39;49m\u001b[43m_session\u001b[49m\u001b[38;5;241;43m.\u001b[39;49m\u001b[43mrequest\u001b[49m\u001b[43m(\u001b[49m\n\u001b[0;32m     71\u001b[0m \u001b[43m      \u001b[49m\u001b[43mmethod\u001b[49m\u001b[43m,\u001b[49m\u001b[43m \u001b[49m\u001b[43muri\u001b[49m\u001b[43m,\u001b[49m\u001b[43m \u001b[49m\u001b[43mdata\u001b[49m\u001b[38;5;241;43m=\u001b[39;49m\u001b[43mbody\u001b[49m\u001b[43m,\u001b[49m\u001b[43m \u001b[49m\u001b[43mheaders\u001b[49m\u001b[38;5;241;43m=\u001b[39;49m\u001b[43mheaders\u001b[49m\u001b[43m,\u001b[49m\u001b[43m \u001b[49m\u001b[43mtimeout\u001b[49m\u001b[38;5;241;43m=\u001b[39;49m\u001b[38;5;28;43mself\u001b[39;49m\u001b[38;5;241;43m.\u001b[39;49m\u001b[43m_timeout\u001b[49m\n\u001b[0;32m     72\u001b[0m \u001b[43m  \u001b[49m\u001b[43m)\u001b[49m\n\u001b[0;32m     73\u001b[0m \u001b[38;5;28;01mexcept\u001b[39;00m requests\u001b[38;5;241m.\u001b[39mexceptions\u001b[38;5;241m.\u001b[39mConnectionError \u001b[38;5;28;01mas\u001b[39;00m connection_error:\n\u001b[0;32m     74\u001b[0m   \u001b[38;5;28;01mraise\u001b[39;00m \u001b[38;5;167;01mConnectionError\u001b[39;00m(connection_error) \u001b[38;5;28;01mfrom\u001b[39;00m \u001b[38;5;21;01mconnection_error\u001b[39;00m\n",
      "File \u001b[1;32m~\\anaconda3\\envs\\gee\\lib\\site-packages\\requests\\sessions.py:589\u001b[0m, in \u001b[0;36mSession.request\u001b[1;34m(self, method, url, params, data, headers, cookies, files, auth, timeout, allow_redirects, proxies, hooks, stream, verify, cert, json)\u001b[0m\n\u001b[0;32m    584\u001b[0m send_kwargs \u001b[38;5;241m=\u001b[39m {\n\u001b[0;32m    585\u001b[0m     \u001b[38;5;124m\"\u001b[39m\u001b[38;5;124mtimeout\u001b[39m\u001b[38;5;124m\"\u001b[39m: timeout,\n\u001b[0;32m    586\u001b[0m     \u001b[38;5;124m\"\u001b[39m\u001b[38;5;124mallow_redirects\u001b[39m\u001b[38;5;124m\"\u001b[39m: allow_redirects,\n\u001b[0;32m    587\u001b[0m }\n\u001b[0;32m    588\u001b[0m send_kwargs\u001b[38;5;241m.\u001b[39mupdate(settings)\n\u001b[1;32m--> 589\u001b[0m resp \u001b[38;5;241m=\u001b[39m \u001b[38;5;28;43mself\u001b[39;49m\u001b[38;5;241;43m.\u001b[39;49m\u001b[43msend\u001b[49m\u001b[43m(\u001b[49m\u001b[43mprep\u001b[49m\u001b[43m,\u001b[49m\u001b[43m \u001b[49m\u001b[38;5;241;43m*\u001b[39;49m\u001b[38;5;241;43m*\u001b[39;49m\u001b[43msend_kwargs\u001b[49m\u001b[43m)\u001b[49m\n\u001b[0;32m    591\u001b[0m \u001b[38;5;28;01mreturn\u001b[39;00m resp\n",
      "File \u001b[1;32m~\\anaconda3\\envs\\gee\\lib\\site-packages\\requests\\sessions.py:746\u001b[0m, in \u001b[0;36mSession.send\u001b[1;34m(self, request, **kwargs)\u001b[0m\n\u001b[0;32m    743\u001b[0m         \u001b[38;5;28;01mpass\u001b[39;00m\n\u001b[0;32m    745\u001b[0m \u001b[38;5;28;01mif\u001b[39;00m \u001b[38;5;129;01mnot\u001b[39;00m stream:\n\u001b[1;32m--> 746\u001b[0m     \u001b[43mr\u001b[49m\u001b[38;5;241;43m.\u001b[39;49m\u001b[43mcontent\u001b[49m\n\u001b[0;32m    748\u001b[0m \u001b[38;5;28;01mreturn\u001b[39;00m r\n",
      "File \u001b[1;32m~\\anaconda3\\envs\\gee\\lib\\site-packages\\requests\\models.py:902\u001b[0m, in \u001b[0;36mResponse.content\u001b[1;34m(self)\u001b[0m\n\u001b[0;32m    900\u001b[0m         \u001b[38;5;28mself\u001b[39m\u001b[38;5;241m.\u001b[39m_content \u001b[38;5;241m=\u001b[39m \u001b[38;5;28;01mNone\u001b[39;00m\n\u001b[0;32m    901\u001b[0m     \u001b[38;5;28;01melse\u001b[39;00m:\n\u001b[1;32m--> 902\u001b[0m         \u001b[38;5;28mself\u001b[39m\u001b[38;5;241m.\u001b[39m_content \u001b[38;5;241m=\u001b[39m \u001b[38;5;124;43mb\u001b[39;49m\u001b[38;5;124;43m\"\u001b[39;49m\u001b[38;5;124;43m\"\u001b[39;49m\u001b[38;5;241;43m.\u001b[39;49m\u001b[43mjoin\u001b[49m\u001b[43m(\u001b[49m\u001b[38;5;28;43mself\u001b[39;49m\u001b[38;5;241;43m.\u001b[39;49m\u001b[43miter_content\u001b[49m\u001b[43m(\u001b[49m\u001b[43mCONTENT_CHUNK_SIZE\u001b[49m\u001b[43m)\u001b[49m\u001b[43m)\u001b[49m \u001b[38;5;129;01mor\u001b[39;00m \u001b[38;5;124mb\u001b[39m\u001b[38;5;124m\"\u001b[39m\u001b[38;5;124m\"\u001b[39m\n\u001b[0;32m    904\u001b[0m \u001b[38;5;28mself\u001b[39m\u001b[38;5;241m.\u001b[39m_content_consumed \u001b[38;5;241m=\u001b[39m \u001b[38;5;28;01mTrue\u001b[39;00m\n\u001b[0;32m    905\u001b[0m \u001b[38;5;66;03m# don't need to release the connection; that's been handled by urllib3\u001b[39;00m\n\u001b[0;32m    906\u001b[0m \u001b[38;5;66;03m# since we exhausted the data.\u001b[39;00m\n",
      "File \u001b[1;32m~\\anaconda3\\envs\\gee\\lib\\site-packages\\requests\\models.py:820\u001b[0m, in \u001b[0;36mResponse.iter_content.<locals>.generate\u001b[1;34m()\u001b[0m\n\u001b[0;32m    818\u001b[0m \u001b[38;5;28;01mif\u001b[39;00m \u001b[38;5;28mhasattr\u001b[39m(\u001b[38;5;28mself\u001b[39m\u001b[38;5;241m.\u001b[39mraw, \u001b[38;5;124m\"\u001b[39m\u001b[38;5;124mstream\u001b[39m\u001b[38;5;124m\"\u001b[39m):\n\u001b[0;32m    819\u001b[0m     \u001b[38;5;28;01mtry\u001b[39;00m:\n\u001b[1;32m--> 820\u001b[0m         \u001b[38;5;28;01myield from\u001b[39;00m \u001b[38;5;28mself\u001b[39m\u001b[38;5;241m.\u001b[39mraw\u001b[38;5;241m.\u001b[39mstream(chunk_size, decode_content\u001b[38;5;241m=\u001b[39m\u001b[38;5;28;01mTrue\u001b[39;00m)\n\u001b[0;32m    821\u001b[0m     \u001b[38;5;28;01mexcept\u001b[39;00m ProtocolError \u001b[38;5;28;01mas\u001b[39;00m e:\n\u001b[0;32m    822\u001b[0m         \u001b[38;5;28;01mraise\u001b[39;00m ChunkedEncodingError(e)\n",
      "File \u001b[1;32m~\\anaconda3\\envs\\gee\\lib\\site-packages\\urllib3\\response.py:1057\u001b[0m, in \u001b[0;36mHTTPResponse.stream\u001b[1;34m(self, amt, decode_content)\u001b[0m\n\u001b[0;32m   1041\u001b[0m \u001b[38;5;250m\u001b[39m\u001b[38;5;124;03m\"\"\"\u001b[39;00m\n\u001b[0;32m   1042\u001b[0m \u001b[38;5;124;03mA generator wrapper for the read() method. A call will block until\u001b[39;00m\n\u001b[0;32m   1043\u001b[0m \u001b[38;5;124;03m``amt`` bytes have been read from the connection or until the\u001b[39;00m\n\u001b[1;32m   (...)\u001b[0m\n\u001b[0;32m   1054\u001b[0m \u001b[38;5;124;03m    'content-encoding' header.\u001b[39;00m\n\u001b[0;32m   1055\u001b[0m \u001b[38;5;124;03m\"\"\"\u001b[39;00m\n\u001b[0;32m   1056\u001b[0m \u001b[38;5;28;01mif\u001b[39;00m \u001b[38;5;28mself\u001b[39m\u001b[38;5;241m.\u001b[39mchunked \u001b[38;5;129;01mand\u001b[39;00m \u001b[38;5;28mself\u001b[39m\u001b[38;5;241m.\u001b[39msupports_chunked_reads():\n\u001b[1;32m-> 1057\u001b[0m     \u001b[38;5;28;01myield from\u001b[39;00m \u001b[38;5;28mself\u001b[39m\u001b[38;5;241m.\u001b[39mread_chunked(amt, decode_content\u001b[38;5;241m=\u001b[39mdecode_content)\n\u001b[0;32m   1058\u001b[0m \u001b[38;5;28;01melse\u001b[39;00m:\n\u001b[0;32m   1059\u001b[0m     \u001b[38;5;28;01mwhile\u001b[39;00m \u001b[38;5;129;01mnot\u001b[39;00m is_fp_closed(\u001b[38;5;28mself\u001b[39m\u001b[38;5;241m.\u001b[39m_fp) \u001b[38;5;129;01mor\u001b[39;00m \u001b[38;5;28mlen\u001b[39m(\u001b[38;5;28mself\u001b[39m\u001b[38;5;241m.\u001b[39m_decoded_buffer) \u001b[38;5;241m>\u001b[39m \u001b[38;5;241m0\u001b[39m:\n",
      "File \u001b[1;32m~\\anaconda3\\envs\\gee\\lib\\site-packages\\urllib3\\response.py:1209\u001b[0m, in \u001b[0;36mHTTPResponse.read_chunked\u001b[1;34m(self, amt, decode_content)\u001b[0m\n\u001b[0;32m   1207\u001b[0m \u001b[38;5;28;01mif\u001b[39;00m \u001b[38;5;28mself\u001b[39m\u001b[38;5;241m.\u001b[39mchunk_left \u001b[38;5;241m==\u001b[39m \u001b[38;5;241m0\u001b[39m:\n\u001b[0;32m   1208\u001b[0m     \u001b[38;5;28;01mbreak\u001b[39;00m\n\u001b[1;32m-> 1209\u001b[0m chunk \u001b[38;5;241m=\u001b[39m \u001b[38;5;28;43mself\u001b[39;49m\u001b[38;5;241;43m.\u001b[39;49m\u001b[43m_handle_chunk\u001b[49m\u001b[43m(\u001b[49m\u001b[43mamt\u001b[49m\u001b[43m)\u001b[49m\n\u001b[0;32m   1210\u001b[0m decoded \u001b[38;5;241m=\u001b[39m \u001b[38;5;28mself\u001b[39m\u001b[38;5;241m.\u001b[39m_decode(\n\u001b[0;32m   1211\u001b[0m     chunk, decode_content\u001b[38;5;241m=\u001b[39mdecode_content, flush_decoder\u001b[38;5;241m=\u001b[39m\u001b[38;5;28;01mFalse\u001b[39;00m\n\u001b[0;32m   1212\u001b[0m )\n\u001b[0;32m   1213\u001b[0m \u001b[38;5;28;01mif\u001b[39;00m decoded:\n",
      "File \u001b[1;32m~\\anaconda3\\envs\\gee\\lib\\site-packages\\urllib3\\response.py:1146\u001b[0m, in \u001b[0;36mHTTPResponse._handle_chunk\u001b[1;34m(self, amt)\u001b[0m\n\u001b[0;32m   1144\u001b[0m     \u001b[38;5;28mself\u001b[39m\u001b[38;5;241m.\u001b[39mchunk_left \u001b[38;5;241m=\u001b[39m \u001b[38;5;28;01mNone\u001b[39;00m\n\u001b[0;32m   1145\u001b[0m \u001b[38;5;28;01melif\u001b[39;00m \u001b[38;5;28mself\u001b[39m\u001b[38;5;241m.\u001b[39mchunk_left \u001b[38;5;129;01mis\u001b[39;00m \u001b[38;5;129;01mnot\u001b[39;00m \u001b[38;5;28;01mNone\u001b[39;00m \u001b[38;5;129;01mand\u001b[39;00m amt \u001b[38;5;241m<\u001b[39m \u001b[38;5;28mself\u001b[39m\u001b[38;5;241m.\u001b[39mchunk_left:\n\u001b[1;32m-> 1146\u001b[0m     value \u001b[38;5;241m=\u001b[39m \u001b[38;5;28;43mself\u001b[39;49m\u001b[38;5;241;43m.\u001b[39;49m\u001b[43m_fp\u001b[49m\u001b[38;5;241;43m.\u001b[39;49m\u001b[43m_safe_read\u001b[49m\u001b[43m(\u001b[49m\u001b[43mamt\u001b[49m\u001b[43m)\u001b[49m  \u001b[38;5;66;03m# type: ignore[union-attr]\u001b[39;00m\n\u001b[0;32m   1147\u001b[0m     \u001b[38;5;28mself\u001b[39m\u001b[38;5;241m.\u001b[39mchunk_left \u001b[38;5;241m=\u001b[39m \u001b[38;5;28mself\u001b[39m\u001b[38;5;241m.\u001b[39mchunk_left \u001b[38;5;241m-\u001b[39m amt\n\u001b[0;32m   1148\u001b[0m     returned_chunk \u001b[38;5;241m=\u001b[39m value\n",
      "File \u001b[1;32m~\\anaconda3\\envs\\gee\\lib\\http\\client.py:613\u001b[0m, in \u001b[0;36mHTTPResponse._safe_read\u001b[1;34m(self, amt)\u001b[0m\n\u001b[0;32m    606\u001b[0m \u001b[38;5;28;01mdef\u001b[39;00m \u001b[38;5;21m_safe_read\u001b[39m(\u001b[38;5;28mself\u001b[39m, amt):\n\u001b[0;32m    607\u001b[0m \u001b[38;5;250m    \u001b[39m\u001b[38;5;124;03m\"\"\"Read the number of bytes requested.\u001b[39;00m\n\u001b[0;32m    608\u001b[0m \n\u001b[0;32m    609\u001b[0m \u001b[38;5;124;03m    This function should be used when <amt> bytes \"should\" be present for\u001b[39;00m\n\u001b[0;32m    610\u001b[0m \u001b[38;5;124;03m    reading. If the bytes are truly not available (due to EOF), then the\u001b[39;00m\n\u001b[0;32m    611\u001b[0m \u001b[38;5;124;03m    IncompleteRead exception can be used to detect the problem.\u001b[39;00m\n\u001b[0;32m    612\u001b[0m \u001b[38;5;124;03m    \"\"\"\u001b[39;00m\n\u001b[1;32m--> 613\u001b[0m     data \u001b[38;5;241m=\u001b[39m \u001b[38;5;28;43mself\u001b[39;49m\u001b[38;5;241;43m.\u001b[39;49m\u001b[43mfp\u001b[49m\u001b[38;5;241;43m.\u001b[39;49m\u001b[43mread\u001b[49m\u001b[43m(\u001b[49m\u001b[43mamt\u001b[49m\u001b[43m)\u001b[49m\n\u001b[0;32m    614\u001b[0m     \u001b[38;5;28;01mif\u001b[39;00m \u001b[38;5;28mlen\u001b[39m(data) \u001b[38;5;241m<\u001b[39m amt:\n\u001b[0;32m    615\u001b[0m         \u001b[38;5;28;01mraise\u001b[39;00m IncompleteRead(data, amt\u001b[38;5;241m-\u001b[39m\u001b[38;5;28mlen\u001b[39m(data))\n",
      "File \u001b[1;32m~\\anaconda3\\envs\\gee\\lib\\socket.py:681\u001b[0m, in \u001b[0;36mSocketIO.readinto\u001b[1;34m(self, b)\u001b[0m\n\u001b[0;32m    679\u001b[0m \u001b[38;5;28;01mwhile\u001b[39;00m \u001b[38;5;28;01mTrue\u001b[39;00m:\n\u001b[0;32m    680\u001b[0m     \u001b[38;5;28;01mtry\u001b[39;00m:\n\u001b[1;32m--> 681\u001b[0m         \u001b[38;5;28;01mreturn\u001b[39;00m \u001b[38;5;28;43mself\u001b[39;49m\u001b[38;5;241;43m.\u001b[39;49m\u001b[43m_sock\u001b[49m\u001b[38;5;241;43m.\u001b[39;49m\u001b[43mrecv_into\u001b[49m\u001b[43m(\u001b[49m\u001b[43mb\u001b[49m\u001b[43m)\u001b[49m\n\u001b[0;32m    682\u001b[0m     \u001b[38;5;28;01mexcept\u001b[39;00m timeout:\n\u001b[0;32m    683\u001b[0m         \u001b[38;5;28mself\u001b[39m\u001b[38;5;241m.\u001b[39m_timeout_occurred \u001b[38;5;241m=\u001b[39m \u001b[38;5;28;01mTrue\u001b[39;00m\n",
      "File \u001b[1;32m~\\anaconda3\\envs\\gee\\lib\\ssl.py:1274\u001b[0m, in \u001b[0;36mSSLSocket.recv_into\u001b[1;34m(self, buffer, nbytes, flags)\u001b[0m\n\u001b[0;32m   1270\u001b[0m     \u001b[38;5;28;01mif\u001b[39;00m flags \u001b[38;5;241m!=\u001b[39m \u001b[38;5;241m0\u001b[39m:\n\u001b[0;32m   1271\u001b[0m         \u001b[38;5;28;01mraise\u001b[39;00m \u001b[38;5;167;01mValueError\u001b[39;00m(\n\u001b[0;32m   1272\u001b[0m           \u001b[38;5;124m\"\u001b[39m\u001b[38;5;124mnon-zero flags not allowed in calls to recv_into() on \u001b[39m\u001b[38;5;132;01m%s\u001b[39;00m\u001b[38;5;124m\"\u001b[39m \u001b[38;5;241m%\u001b[39m\n\u001b[0;32m   1273\u001b[0m           \u001b[38;5;28mself\u001b[39m\u001b[38;5;241m.\u001b[39m\u001b[38;5;18m__class__\u001b[39m)\n\u001b[1;32m-> 1274\u001b[0m     \u001b[38;5;28;01mreturn\u001b[39;00m \u001b[38;5;28;43mself\u001b[39;49m\u001b[38;5;241;43m.\u001b[39;49m\u001b[43mread\u001b[49m\u001b[43m(\u001b[49m\u001b[43mnbytes\u001b[49m\u001b[43m,\u001b[49m\u001b[43m \u001b[49m\u001b[43mbuffer\u001b[49m\u001b[43m)\u001b[49m\n\u001b[0;32m   1275\u001b[0m \u001b[38;5;28;01melse\u001b[39;00m:\n\u001b[0;32m   1276\u001b[0m     \u001b[38;5;28;01mreturn\u001b[39;00m \u001b[38;5;28msuper\u001b[39m()\u001b[38;5;241m.\u001b[39mrecv_into(buffer, nbytes, flags)\n",
      "File \u001b[1;32m~\\anaconda3\\envs\\gee\\lib\\ssl.py:1132\u001b[0m, in \u001b[0;36mSSLSocket.read\u001b[1;34m(self, len, buffer)\u001b[0m\n\u001b[0;32m   1130\u001b[0m \u001b[38;5;28;01mtry\u001b[39;00m:\n\u001b[0;32m   1131\u001b[0m     \u001b[38;5;28;01mif\u001b[39;00m buffer \u001b[38;5;129;01mis\u001b[39;00m \u001b[38;5;129;01mnot\u001b[39;00m \u001b[38;5;28;01mNone\u001b[39;00m:\n\u001b[1;32m-> 1132\u001b[0m         \u001b[38;5;28;01mreturn\u001b[39;00m \u001b[38;5;28;43mself\u001b[39;49m\u001b[38;5;241;43m.\u001b[39;49m\u001b[43m_sslobj\u001b[49m\u001b[38;5;241;43m.\u001b[39;49m\u001b[43mread\u001b[49m\u001b[43m(\u001b[49m\u001b[38;5;28;43mlen\u001b[39;49m\u001b[43m,\u001b[49m\u001b[43m \u001b[49m\u001b[43mbuffer\u001b[49m\u001b[43m)\u001b[49m\n\u001b[0;32m   1133\u001b[0m     \u001b[38;5;28;01melse\u001b[39;00m:\n\u001b[0;32m   1134\u001b[0m         \u001b[38;5;28;01mreturn\u001b[39;00m \u001b[38;5;28mself\u001b[39m\u001b[38;5;241m.\u001b[39m_sslobj\u001b[38;5;241m.\u001b[39mread(\u001b[38;5;28mlen\u001b[39m)\n",
      "\u001b[1;31mKeyboardInterrupt\u001b[0m: "
     ]
    }
   ],
   "source": [
    "# Charger les shapefiles des régions, provinces et du pays\n",
    "pays = ee.FeatureCollection('projects/ee-khadijaaatou180702/assets/bfa_admbnda_adm0_igb_20200323')  # Remplacez par le chemin de votre shapefile du pays\n",
    "regions = ee.FeatureCollection('projects/ee-khadijaaatou180702/assets/bfa_admbnda_adm1_igb_20200323')  # Remplacez par le chemin de votre shapefile des régions\n",
    "provinces = ee.FeatureCollection('projects/ee-khadijaaatou180702/assets/bfa_admbnda_adm2_igb_20200323')  # Remplacez par le chemin de votre shapefile des provinces\n",
    "communes = ee.FeatureCollection('projects/ee-khadijaaatou180702/assets/bfa_admbnda_adm3_igb_20200323') # Remplacez par le chemin de votre shapefile des communes\n",
    "\n",
    "# Fonction pour calculer les moyennes par zone\n",
    "def zonal_statistics(feature_collection, image, scale=30, statistic_type='mean'):\n",
    "    reducer = None\n",
    "    # Sélectionner le réducteur en fonction du type de statistique\n",
    "    if statistic_type == 'mean':\n",
    "        reducer = ee.Reducer.mean()\n",
    "    elif statistic_type == 'median':\n",
    "        reducer = ee.Reducer.median()\n",
    "    elif statistic_type == 'sum':\n",
    "        reducer = ee.Reducer.sum()\n",
    "    elif statistic_type == 'min':\n",
    "        reducer = ee.Reducer.min()\n",
    "    elif statistic_type == 'max':\n",
    "        reducer = ee.Reducer.max()\n",
    "    else:\n",
    "        raise ValueError(\"Type de statistique non supporté : choisissez parmi 'mean', 'median', 'sum', 'min' ou 'max'.\")\n",
    "\n",
    "    # Calculer les statistiques par zone\n",
    "    stats = image.reduceRegions(\n",
    "        collection=feature_collection,\n",
    "        reducer=reducer,\n",
    "        scale=scale\n",
    "    )\n",
    "    return stats\n",
    "\n",
    "# Exemple de calcul de la moyenne pour l'ensemble du pays\n",
    "try:\n",
    "    moyenne_pays = zonal_statistics(pays, moyenne_raster, statistic_type='mean')\n",
    "    pays_result = moyenne_pays.getInfo()\n",
    "except Exception as e:\n",
    "    print(f\"Erreur lors du calcul pour le pays : {e}\")\n",
    "\n",
    "# Exemple de calcul de la moyenne par région\n",
    "try:\n",
    "    moyenne_regions = zonal_statistics(regions, moyenne_raster, statistic_type='mean')\n",
    "    regions_result = moyenne_regions.getInfo()\n",
    "except Exception as e:\n",
    "    print(f\"Erreur lors du calcul pour les régions : {e}\")\n",
    "\n",
    "# Exemple de calcul de la moyenne par province\n",
    "try:\n",
    "    moyenne_provinces = zonal_statistics(provinces, moyenne_raster, statistic_type='mean')\n",
    "    provinces_result = moyenne_provinces.getInfo()\n",
    "except Exception as e:\n",
    "    print(f\"Erreur lors du calcul pour les provinces : {e}\")\n",
    "\n",
    "# Exemple de calcul de la moyenne par commune\n",
    "try:\n",
    "    moyenne_commune = zonal_statistics(communes, moyenne_raster, statistic_type='mean')\n",
    "    communes_result = moyenne_commune.getInfo()\n",
    "except Exception as e:\n",
    "    print(f\"Erreur lors du calcul pour les communes : {e}\")\n",
    "\n",
    "# Affichage des résultats avec vérification de la présence des clés\n",
    "def afficher_resultats(resultat, niveau_administratif):\n",
    "    if 'features' in resultat:\n",
    "        print(f\"\\nMoyennes par {niveau_administratif} :\")\n",
    "        for feature in resultat['features']:\n",
    "            nom = feature['properties'].get(f'ADM{niveau_administratif}_FR', 'Nom non disponible')\n",
    "            moyenne_valeur = feature['properties'].get('mean', 'Valeur non disponible')\n",
    "            print(f\"{niveau_administratif}: {nom}, Moyenne des valeurs des pixels: {moyenne_valeur}\")\n",
    "    else:\n",
    "        print(f\"Aucun résultat trouvé pour les {niveau_administratif}.\")\n",
    "\n",
    "# Afficher les moyennes pour chaque niveau administratif\n",
    "afficher_resultats(pays_result, \"pays\")\n",
    "afficher_resultats(regions_result, \"région\")\n",
    "afficher_resultats(provinces_result, \"province\")\n",
    "afficher_resultats(communes_result, \"commune\")\n"
   ]
  },
  {
   "cell_type": "code",
   "execution_count": null,
   "id": "ee701c0f-650c-4896-b56d-ad655e015815",
   "metadata": {},
   "outputs": [],
   "source": []
  }
 ],
 "metadata": {
  "kernelspec": {
   "display_name": "Python (gee)",
   "language": "python",
   "name": "gee"
  },
  "language_info": {
   "codemirror_mode": {
    "name": "ipython",
    "version": 3
   },
   "file_extension": ".py",
   "mimetype": "text/x-python",
   "name": "python",
   "nbconvert_exporter": "python",
   "pygments_lexer": "ipython3",
   "version": "3.8.20"
  }
 },
 "nbformat": 4,
 "nbformat_minor": 5
}
