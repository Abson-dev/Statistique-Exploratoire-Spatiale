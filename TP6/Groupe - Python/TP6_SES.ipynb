{
 "cells": [
  {
   "cell_type": "markdown",
   "id": "5445529c-bb08-406f-9fbc-b95b26bf61b2",
   "metadata": {},
   "source": [
    "# Présentation"
   ]
  },
  {
   "cell_type": "markdown",
   "id": "6a029080-09f9-4e63-8948-b2a784bbde9d",
   "metadata": {},
   "source": [
    "Ecole : Ecole natioanle de la Statistique et de l'Analyse économique ENSAE Pierre NDIAYE de Dakar \n",
    "Classe : ISE1-Cycle long\n",
    "Année académique : 2024-2025\n",
    "Module : Statistique exploratoire spacial  avec M.Aboubacre HEMA       \n",
    "Devoir de maison de la séance du vendredi 8 novembre 2024 \n",
    "Pays : Burkina Faso \r",
    " Groupe : Logicils e(TPs 1 and 2)/ GEE (TPs 3 and 4)/ Pytho l(TPs 5 and 6                                                           #   Composé de : Ange Emilson Rayan RAHERINASOLO, Khadidiatou DIAKHATElioune    Abdou Salam KANE et Awa DIAW "
   ]
  },
  {
   "cell_type": "markdown",
   "id": "007abafe-1acc-4bad-afc0-201497887fe0",
   "metadata": {},
   "source": [
    "# Consigne"
   ]
  },
  {
   "cell_type": "markdown",
   "id": "9260d551-8355-4204-b8d6-4e8fc1d1ee34",
   "metadata": {},
   "source": [
    "### TP 6 ###\n",
    "\n",
    "1. Importer les points\n",
    "2. Compter le nombre de points par niveau administratif \n",
    "3. A partir des points, créer un raster de 5km par pixel (regrouper les points)\n",
    "4. Visualiser les rasters sous forme de catégories"
   ]
  },
  {
   "cell_type": "markdown",
   "id": "1c173855-3aba-44c1-b286-89c19a478d01",
   "metadata": {},
   "source": [
    "# Solution"
   ]
  },
  {
   "cell_type": "code",
   "execution_count": 38,
   "id": "b85abfd1-07cf-44de-85a0-b2542e76a1bf",
   "metadata": {},
   "outputs": [],
   "source": [
    "# Nous commençons par importer toutes les library nécessaires (7)\n",
    "\n",
    "\n",
    "import pandas as pd  # gestion des données\n",
    "import geopandas as gpd  # manipuler des données géospatiales\n",
    "import rasterio  # lecture et écriture de fichiers raster\n",
    "from rasterio.transform import from_origin  # fonction pour créer une transformation affine pour les rasters\n",
    "import matplotlib.pyplot as plt  # visualisation graphique\n",
    "import numpy as np  # pour le calcul numérique\n",
    "from shapely.geometry import Point  # travailler avec des objets géométriques de type point\n",
    "import os  # interagir avec le système de fichiers (chemins, fichiers, etc.)\n",
    "import folium  # cartes interactives \n",
    "from folium import plugins  # plugins supplémentaires de folium pour enrichir les cartes\n",
    "from folium import raster_layers  # ajouter des couches raster à une carte folium\n",
    "from branca.colormap import linear  # pour créer des palettes de couleurs linéaires dans folium"
   ]
  },
  {
   "cell_type": "code",
   "execution_count": 52,
   "id": "35a2b82e-93cd-4253-bc6b-4f378e9a4983",
   "metadata": {},
   "outputs": [
    {
     "name": "stdout",
     "output_type": "stream",
     "text": [
      "Le nombre de points du Burkina Faso : 11392\n",
      "  event_id_cnty       event_date  year  time_precision       disorder_type  \\\n",
      "1      BFO12659  04 October 2024  2024               1  Political violence   \n",
      "2      BFO12661  04 October 2024  2024               1  Political violence   \n",
      "\n",
      "                   event_type    sub_event_type  \\\n",
      "1  Explosions/Remote violence  Air/drone strike   \n",
      "2                     Battles       Armed clash   \n",
      "\n",
      "                                         actor1 assoc_actor_1        inter1  \\\n",
      "1       Military Forces of Burkina Faso (2022-)           NaN  State forces   \n",
      "2  JNIM: Group for Support of Islam and Muslims           NaN   Rebel group   \n",
      "\n",
      "   ...     location latitude longitude geo_precision                source  \\\n",
      "1  ...  Dida Forest  10.0116   -4.0287             2    Undisclosed Source   \n",
      "2  ...        Djibo  14.0875   -1.6418             2  Al Zallaqa; Whatsapp   \n",
      "\n",
      "          source_scale                                              notes  \\\n",
      "1  Local partner-Other  On 4 October 2024, the Burkinabe force carried...   \n",
      "2            New media  On 4 October 2024, JNIM militants carried out ...   \n",
      "\n",
      "  fatalities tags   timestamp  \n",
      "1          5  NaN  1728358478  \n",
      "2          0  NaN  1728358478  \n",
      "\n",
      "[2 rows x 31 columns]\n"
     ]
    }
   ],
   "source": [
    "# 1. Importer les points contenus dans le fichier Points_data.csv et filtrer uniquement le pays qui nous intéresse : le Burkina Faso\n",
    "\n",
    "\n",
    "path = r\"C:\\Users\\hp\\Desktop\\AwaDIAW_ISE-CL\\Semestre1\\Informatique_Statistique\\Statistique_exploratoire\\TP6\" #Chemin relatif\n",
    "file = \"Points_data.csv\"\n",
    "data = pd.read_csv(os.path.join(path, file))\n",
    "burkina_points = data[data['event_id_cnty'].str.startswith('BFO')] # Filtre\n",
    "print(f\"Le nombre de points du Burkina Faso : {len(burkina_points)}\") # Checking\n",
    "print(burkina_points.head(2)) # 2 lignes suffisent comme il y a beaucoup de colonnes"
   ]
  },
  {
   "cell_type": "code",
   "execution_count": 53,
   "id": "7411dd27-fd38-45be-a1fa-aebf51afe762",
   "metadata": {},
   "outputs": [
    {
     "name": "stdout",
     "output_type": "stream",
     "text": [
      "Nombre de points du pays :\n",
      " country\n",
      "Burkina Faso    11392\n",
      "Name: count, dtype: int64\n",
      "Nombre de points par région :\n",
      " admin1\n",
      "Sahel                2811\n",
      "Est                  2195\n",
      "Centre-Nord          1489\n",
      "Boucle du Mouhoun    1165\n",
      "Nord                 1115\n",
      "Centre                699\n",
      "Centre-Est            588\n",
      "Hauts-Bassins         435\n",
      "Cascades              354\n",
      "Sud-Ouest             225\n",
      "Centre-Ouest          190\n",
      "Centre-Sud             84\n",
      "Plateau-Central        42\n",
      "Name: count, dtype: int64\n",
      "\n",
      "Nombre de points par département :\n",
      " admin2\n",
      "Soum           1057\n",
      "Oudalan         783\n",
      "Gourma          721\n",
      "Sanmatenga      705\n",
      "Kadiogo         699\n",
      "Tapoa           607\n",
      "Seno            602\n",
      "Yatenga         599\n",
      "Bam             451\n",
      "Kossi           408\n",
      "Yagha           369\n",
      "Loroum          348\n",
      "Koulpelogo      341\n",
      "Comoe           340\n",
      "Namentenga      333\n",
      "Kompienga       324\n",
      "Gnagna          307\n",
      "Sourou          305\n",
      "Houet           255\n",
      "Komandjari      236\n",
      "Boulgou         211\n",
      "Poni            160\n",
      "Mouhoun         155\n",
      "Nayala          140\n",
      "Banwa           131\n",
      "Tuy             125\n",
      "Zondoma         115\n",
      "Boulkiemde       69\n",
      "Sanguie          63\n",
      "Kenedougou       55\n",
      "Passore          53\n",
      "Sissili          40\n",
      "Nahouri          40\n",
      "Kourittenga      36\n",
      "Bougouriba       34\n",
      "Zoundweogo       28\n",
      "Bale             26\n",
      "Ganzourgou       20\n",
      "Noumbiel         19\n",
      "Ziro             18\n",
      "Bazega           16\n",
      "Leraba           14\n",
      "Ioba             12\n",
      "Kourweogo        12\n",
      "Oubritenga       10\n",
      "Name: count, dtype: int64\n",
      "\n",
      "Nombre de points par commune :\n",
      " admin3\n",
      "Ouagadougou      676\n",
      "Fada Ngourma     428\n",
      "Dori             290\n",
      "Djibo            280\n",
      "Markoye          264\n",
      "                ... \n",
      "Nebielianayou      1\n",
      "Oronkua            1\n",
      "Arbolle            1\n",
      "Dalo               1\n",
      "Pella              1\n",
      "Name: count, Length: 292, dtype: int64\n"
     ]
    }
   ],
   "source": [
    "# 2. Compter le nombre de points par niveau admin (pays, région, provine et commune)\n",
    "\n",
    "\n",
    "# Comptage\n",
    "count_pays = burkina_points['country'].value_counts() #country = pays (admin0 lors des TP précédents)\n",
    "count_region = burkina_points['admin1'].value_counts() #admin1=région\n",
    "count_departement = burkina_points['admin2'].value_counts() #admin2=province ou département\n",
    "count_commune = burkina_points['admin3'].value_counts() # admin3=district ou commune\n",
    "\n",
    "# Affichage \n",
    "print(\"Nombre de points du pays :\\n\", count_pays)\n",
    "print(\"Nombre de points par région :\\n\", count_region)\n",
    "print(\"\\nNombre de points par département :\\n\", count_departement)\n",
    "print(\"\\nNombre de points par commune :\\n\", count_commune)\n",
    "\n",
    "#Exportation sous .csv\n"
   ]
  },
  {
   "cell_type": "code",
   "execution_count": 54,
   "id": "e1280e6f-9d34-4c05-a023-b2ffaf8a0452",
   "metadata": {},
   "outputs": [
    {
     "name": "stdout",
     "output_type": "stream",
     "text": [
      "\n",
      "Les sommes des points par commune, département, région et pays sont bien égales et sont égales à 11 392 points.\n"
     ]
    }
   ],
   "source": [
    "#### G O T T A  C H E C K\n",
    "\n",
    "total_pays = count_pays.sum() # Calcul des totaux\n",
    "total_region = count_region.sum()\n",
    "total_departement = count_departement.sum()\n",
    "total_commune = count_commune.sum()\n",
    "\n",
    "if total_pays == total_region == total_departement == total_commune: #Vérification\n",
    "    print(\"\\nLes sommes des points par commune, département, région et pays sont bien égales et sont égales à 11 392 points.\")\n",
    "else:\n",
    "    print(\"\\n Désolée, il y a eu incohérence dans les sommes des points :\")\n",
    "    if total_pays != total_region:\n",
    "        print(f\" - Différence entre pays ({total_pays}) et région ({total_region})\")\n",
    "    if total_region != total_departement:\n",
    "        print(f\" - Différence entre région ({total_region}) et département ({total_departement})\")\n",
    "    if total_departement != total_commune:\n",
    "        print(f\" - Différence entre département ({total_departement}) et commune ({total_commune})\")\n"
   ]
  },
  {
   "cell_type": "code",
   "execution_count": 62,
   "id": "624ca180-ac47-4611-bc9a-6f39bd4b1b5f",
   "metadata": {},
   "outputs": [
    {
     "name": "stdout",
     "output_type": "stream",
     "text": [
      "208\n",
      "297\n",
      "Le raster a été créé avec succès sous le nom 'burkina_tous_points_raster.tif'\n"
     ]
    },
    {
     "data": {
      "text/plain": [
       "array([  0,   1,   2,   3,   4,   5,   6,   7,   8,   9,  10,  11,  12,\n",
       "        13,  14,  15,  16,  17,  18,  19,  20,  21,  22,  23,  24,  25,\n",
       "        26,  27,  28,  29,  30,  31,  32,  33,  34,  35,  36,  37,  38,\n",
       "        39,  40,  41,  42,  44,  46,  47,  48,  49,  51,  52,  53,  54,\n",
       "        58,  59,  60,  61,  62,  65,  66,  70,  81, 110, 116, 138, 152,\n",
       "       217, 639])"
      ]
     },
     "execution_count": 62,
     "metadata": {},
     "output_type": "execute_result"
    }
   ],
   "source": [
    "#3. A partir des points, créer un raster de 5km par pixel (regrouper les points) // En 5 étapes\n",
    "\n",
    "\n",
    "geometry = [Point(xy) for xy in zip(burkina_points['longitude'], burkina_points['latitude'])] # First step : on convertit les points en GeoDataFrame\n",
    "gdf = gpd.GeoDataFrame(burkina_points, geometry=geometry)\n",
    "\n",
    "#Etape2 : les paramètres du raster\n",
    "pixel_size = 5000/111320  # 5 km =5000 m converti en degré vue que les x et y sont en degrés. A l'inverse, on aurait pu convertir ces derniers en m\n",
    "xmin, ymin, xmax, ymax = gdf.total_bounds  # on cherche à encadrer le pays en récupérant, les coordonnées maximales\n",
    "width = int((xmax - xmin) / pixel_size)  # largeur du raster\n",
    "height = int((ymax - ymin) / pixel_size)  # hauteur du raster\n",
    "transform = from_origin(xmin, ymax, pixel_size, pixel_size)  # La fonction from_origin() génère une transformation affine qui permet de convertir les coordonnées géographiques (X, Y) en coordonnées raster (index de ligne et de colonne). \n",
    "#En d'autres termes, elle définit la relation entre les coordonnées géographiques de l'image et l'index des pixels dans l'image.\n",
    "print(width)\n",
    "print(height)\n",
    "\n",
    "raster_data = np.zeros((height, width), dtype=int) # Etape3 : raster vide\n",
    "\n",
    "for point in gdf.geometry: # 4th step : Remplissage de notre raster\n",
    "    x, y = ~transform * (point.x, point.y) #Transformation inverse (coordonnées rasters e coordonnées géographiques)\n",
    "    row, col = int(y), int(x)  # les indices de position des rasters // donc forcément en entier \n",
    "    if 0 <= row < height and 0 <= col < width:  # Check if the point falls within raster bounds\n",
    "        raster_data[row, col] += 1  # Incréméntation\n",
    "\n",
    "with rasterio.open(  #Etape 5 : Enregistrement du raster\n",
    "    'burkina_tous_points_raster.tif', 'w',\n",
    "    driver='GTiff',\n",
    "    height=height,\n",
    "    width=width,\n",
    "    count=1,\n",
    "    dtype=raster_data.dtype,\n",
    "    crs=\"EPSG:4326\",\n",
    "    transform=transform\n",
    ") as dst:\n",
    "    dst.write(raster_data, 1)\n",
    "\n",
    "print(\"Le raster a été créé avec succès sous le nom 'burkina_tous_points_raster.tif'\")\n",
    "raster_path = 'burkina_tous_points_raster.tif' #Vérification du contenu de notre raster\n",
    "with rasterio.open(raster_path) as src:\n",
    "    # Lire la première bande\n",
    "    bandeun = src.read(1)  # 1 pour la première bande\n",
    "np.unique(bandeun)"
   ]
  },
  {
   "cell_type": "code",
   "execution_count": 64,
   "id": "068f3d3f-86ec-4386-a25a-deef6fb238fd",
   "metadata": {},
   "outputs": [
    {
     "name": "stdout",
     "output_type": "stream",
     "text": [
      "Bravo, la carte interactive a été enregistrée sous 'interactive_map.html'.\n"
     ]
    }
   ],
   "source": [
    "#4. Visualiser les rasters sous forme de catégories\n",
    "\n",
    "\n",
    "raster_path = 'burkina_points_raster.tif' \n",
    "with rasterio.open(raster_path) as src:\n",
    "    # Lire la première bande\n",
    "    first_band = src.read(1)\n",
    "\n",
    "xmin, ymin, xmax, ymax = src.bounds \n",
    "center = [(ymin + ymax) / 2, (xmin + xmax) / 2]\n",
    "\n",
    "m = folium.Map(location=center, zoom_start=10) # la carte avec Folium, centrée sur les coordonnées du raster\n",
    "\n",
    "min_value, max_value = np.min(first_band), np.max(first_band) # palette de couleurs en fonction de la distribution des valeurs uniques\n",
    "colormap = linear.Reds_09.scale(min_value, max_value)  # Palette de couleurs pour les valeurs\n",
    "\n",
    "raster_layer = raster_layers.ImageOverlay(# Ajouter le raster à la carte en tant que couche d'image \n",
    "    image=first_band,  \n",
    "    bounds=[[ymin, xmin], [ymax, xmax]],\n",
    "    opacity=0.7,\n",
    "    colormap=colormap\n",
    ")\n",
    "\n",
    "raster_layer.add_to(m) # Ajouter la couche\n",
    "\n",
    "colormap.add_to(m) # Légende\n",
    "\n",
    "folium.LatLngPopup().add_to(m)  # Afficher les coordonnées de la souris\n",
    "plugins.Fullscreen().add_to(m)  # Basculement en mode plein écran\n",
    "plugins.MeasureControl(primaryLengthUnit=\"kilometers\").add_to(m)  # Mesure des distances\n",
    "\n",
    "m.save(path+'interactive_map.html') # Afficher la carte\n",
    "print(\"Bravo, la carte interactive a été enregistrée sous 'interactive_map.html'.\")\n"
   ]
  },
  {
   "cell_type": "markdown",
   "id": "9218c6e5-02b8-42b3-ad0a-55851280b22b",
   "metadata": {},
   "source": [
    "# Fin du TP6"
   ]
  }
 ],
 "metadata": {
  "kernelspec": {
   "display_name": "Python 3 (ipykernel)",
   "language": "python",
   "name": "python3"
  },
  "language_info": {
   "codemirror_mode": {
    "name": "ipython",
    "version": 3
   },
   "file_extension": ".py",
   "mimetype": "text/x-python",
   "name": "python",
   "nbconvert_exporter": "python",
   "pygments_lexer": "ipython3",
   "version": "3.11.7"
  }
 },
 "nbformat": 4,
 "nbformat_minor": 5
}
