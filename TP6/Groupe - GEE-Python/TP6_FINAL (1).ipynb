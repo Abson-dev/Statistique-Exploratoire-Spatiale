{
 "cells": [
  {
   "cell_type": "markdown",
   "id": "b3ffeca0-d00e-450b-ae5f-eb2c4ce7a620",
   "metadata": {},
   "source": [
    " ECOLE NATIONALE DE LA STATISTIQUE ET DE L'ANALYSE ECONOMIQUE PIERRE NDIAYE     \n",
    "        COURS DE STATISTIQUES EXPLORATOIRE ET SPATIALE - ISE1_CYCLE LONG          \n",
    "                        ENSEIGNANT: MR HEMA                                     \n",
    "                  TP5_GOOGLE EARTH ENGINE AVEC PYTHON                            \n",
    "                 MEMBRES: FOGWOUNG DJOUFACK SARAH-LAURE                         \n",
    "                          NGUEMFOUO NGOUMTSA CELINA                            \n",
    "                          NIASS AHMADOU                                       \n",
    "                          SENE MALICK          \n"
   ]
  },
  {
   "cell_type": "code",
   "execution_count": null,
   "id": "37914758-5d9f-440e-b8d5-86feb7571f23",
   "metadata": {},
   "outputs": [],
   "source": [
    "Consigne du TP :\n",
    "\n",
    "    - Importer le fichier csv Points_data envoyé sur GitHub\n",
    "    - Compter le nombre de points par admin\n",
    "    - Créer un raster qui regroupe les différents points\n",
    "    - Visualiser le raster sous forme de catégories \n"
   ]
  },
  {
   "cell_type": "code",
   "execution_count": 1,
   "id": "6dc45439-81cc-42c4-8b2b-6cd3fcf88751",
   "metadata": {},
   "outputs": [
    {
     "name": "stdout",
     "output_type": "stream",
     "text": [
      "DONE\n"
     ]
    }
   ],
   "source": [
    "############   STEP1: Importation des packages   ############\n",
    "\n",
    "import ee  # c'est la bibliothèque Python qui permet d'accéder à l'API de Google Earth Engine\n",
    "import geemap # Elle permet de créer et visualiser des cartes interactives basées sur des données GEE.\n",
    "import pandas as pd # Elle permet la manipulation et l’analyse généralement pour des données tabulaires\n",
    "from folium.plugins import Draw\n",
    "\n",
    "# Authentification et initialisation Google Earth Engine\n",
    "ee.Authenticate()  # Ceci permet de gérer le processus d'authentification pour accéder à Google Earth Engine.\n",
    "ee.Initialize()   # Initialise l'instance Earth Engine pour permettre certaines opérations qu'on fera par la suite\n",
    "\n",
    "print(\"DONE\") # Juste pour savoir quand ca aura finit d'éxecuter "
   ]
  },
  {
   "cell_type": "code",
   "execution_count": 6,
   "id": "681a1b55-cecf-4028-83d8-39be9ab0772f",
   "metadata": {},
   "outputs": [
    {
     "data": {
      "text/html": [
       "\n",
       "            <style>\n",
       "                .geemap-dark {\n",
       "                    --jp-widgets-color: white;\n",
       "                    --jp-widgets-label-color: white;\n",
       "                    --jp-ui-font-color1: white;\n",
       "                    --jp-layout-color2: #454545;\n",
       "                    background-color: #383838;\n",
       "                }\n",
       "\n",
       "                .geemap-dark .jupyter-button {\n",
       "                    --jp-layout-color3: #383838;\n",
       "                }\n",
       "\n",
       "                .geemap-colab {\n",
       "                    background-color: var(--colab-primary-surface-color, white);\n",
       "                }\n",
       "\n",
       "                .geemap-colab .jupyter-button {\n",
       "                    --jp-layout-color3: var(--colab-primary-surface-color, white);\n",
       "                }\n",
       "            </style>\n",
       "            "
      ],
      "text/plain": [
       "<IPython.core.display.HTML object>"
      ]
     },
     "metadata": {},
     "output_type": "display_data"
    },
    {
     "name": "stdout",
     "output_type": "stream",
     "text": [
      "{'type': 'Feature', 'geometry': {'type': 'Point', 'coordinates': [-7.499998394146455, 6.41669992512126]}, 'id': '000000000000000137d3', 'properties': {'actor1': 'Military Forces of France (1995-2007)', 'actor2': 'Private Security Forces (Ivory Coast)', 'admin1': 'Montagnes', 'admin2': 'Cavally', 'admin3': 'Guiglo', 'assoc_actor_1': '', 'assoc_actor_2': '', 'civilian_targeting': '', 'country': 'Ivory Coast', 'disorder_type': 'Political violence', 'event_date': '08 March 2003', 'event_id_cnty': 'CDI470', 'event_type': 'Battles', 'fatalities': 0, 'geo_precision': 1, 'inter1': 'External/Other forces', 'inter2': 'External/Other forces', 'interaction': 'External/Other forces-External/Other forces', 'iso': 384, 'location': 'Moyen-Cavally', 'notes': 'French troops attacked in Duekoue', 'region': 'Western Africa', 'source': 'Guardian (United Kingdom)', 'source_scale': 'International', 'sub_event_type': 'Armed clash', 'tags': '', 'time_precision': 1, 'timestamp': 1665530124, 'year': 2003}}\n"
     ]
    },
    {
     "data": {
      "application/vnd.jupyter.widget-view+json": {
       "model_id": "68969a8b026e4d259c94f115c20b1d47",
       "version_major": 2,
       "version_minor": 0
      },
      "text/plain": [
       "Map(center=[14.693, -17.445], controls=(WidgetControl(options=['position', 'transparent_bg'], widget=SearchDat…"
      ]
     },
     "execution_count": 6,
     "metadata": {},
     "output_type": "execute_result"
    }
   ],
   "source": [
    "############   STEP2: Importation fichier csv et visualisation ############\n",
    "Donnees = ee.FeatureCollection(\"projects/ee-fogwoungsarahlauretp2/assets/Points_data\")\n",
    "    # Affichage de la première ligne pour voir comment c'est organisé\n",
    "print(Donnees.first().getInfo())\n",
    "    # Créeons une carte interactive centrée sur l'Afrique de l'Ouest pour mieux visualiser les données\n",
    "Map = geemap.Map(center=[14.693, -17.445], zoom=4) \n",
    "    # Ajoutons la FeatureCollection à la carte\n",
    "Map.addLayer(Donnees.style(**{'color': 'blue', 'pointSize': 5}), {}, 'Donnees Evenements')\n",
    "Map # Affichage"
   ]
  },
  {
   "cell_type": "code",
   "execution_count": 35,
   "id": "72102011-fb87-4cc1-80e5-4dcb4edccbaf",
   "metadata": {},
   "outputs": [
    {
     "data": {
      "text/html": [
       "\n",
       "            <style>\n",
       "                .geemap-dark {\n",
       "                    --jp-widgets-color: white;\n",
       "                    --jp-widgets-label-color: white;\n",
       "                    --jp-ui-font-color1: white;\n",
       "                    --jp-layout-color2: #454545;\n",
       "                    background-color: #383838;\n",
       "                }\n",
       "\n",
       "                .geemap-dark .jupyter-button {\n",
       "                    --jp-layout-color3: #383838;\n",
       "                }\n",
       "\n",
       "                .geemap-colab {\n",
       "                    background-color: var(--colab-primary-surface-color, white);\n",
       "                }\n",
       "\n",
       "                .geemap-colab .jupyter-button {\n",
       "                    --jp-layout-color3: var(--colab-primary-surface-color, white);\n",
       "                }\n",
       "            </style>\n",
       "            "
      ],
      "text/plain": [
       "<IPython.core.display.HTML object>"
      ]
     },
     "metadata": {},
     "output_type": "display_data"
    },
    {
     "name": "stdout",
     "output_type": "stream",
     "text": [
      "Total de données concernant le Niger : 4437\n",
      "Nombre de valeurs uniques dans admin1 : 8\n",
      "Tableau des régions et leurs fréquences :\n",
      "     Regions  Nombre_occurences\n",
      "0     Agadez                392\n",
      "1      Diffa               1160\n",
      "2      Dosso                145\n",
      "3     Maradi                398\n",
      "4     Niamey                259\n",
      "5     Tahoua                323\n",
      "6  Tillaberi               1695\n",
      "7     Zinder                 65\n",
      "Total compté pour admin1: {'count': 4437}\n"
     ]
    },
    {
     "data": {
      "application/vnd.jupyter.widget-view+json": {
       "model_id": "bf134fb323a14ae398dc9c8ae7fe77a5",
       "version_major": 2,
       "version_minor": 0
      },
      "text/plain": [
       "Map(center=[17.6078, 8.0817], controls=(WidgetControl(options=['position', 'transparent_bg'], widget=SearchDat…"
      ]
     },
     "execution_count": 35,
     "metadata": {},
     "output_type": "execute_result"
    }
   ],
   "source": [
    "############   STEP3: Comptons le nombre de points par admin ############\n",
    "# Filtrons les données du Niger \n",
    "Donnees_Niger = Donnees.filter(ee.Filter.eq(\"country\", \"Niger\"))\n",
    "print(\"Total de données concernant le Niger :\", Donnees_Niger.size().getInfo())\n",
    "\n",
    "                   ############ AU NIVEAU admin1 ############\n",
    "# Afficher le nombre de valeurs uniques qu'on a dans cette colonne\n",
    "print(\"Nombre de valeurs uniques dans admin1 :\", Donnees_Niger.aggregate_array('admin1').distinct().size().getInfo())\n",
    "# Comptons le nombres de resultats pour chacune de ces valeurs unique\n",
    "Donnees_Niger_admin1 = Donnees_Niger.aggregate_array('admin1').reduce(ee.Reducer.frequencyHistogram()).getInfo()\n",
    "df_Donnees_Niger_admin1 = pd.DataFrame(list(Donnees_Niger_admin1.items()), columns=['Regions', 'Nombre_occurences']) # Convertissons sous forme de tableau \n",
    "# Affichons le tableau\n",
    "print(\"Tableau des régions et leurs fréquences :\")\n",
    "print(df_Donnees_Niger_admin1)\n",
    "\n",
    "# VERIFICATION QUE TOUT A BIEN ETE PRIS EN COMPTE\n",
    "Total_admin1 = Donnees_Niger.reduceColumns(\n",
    "    reducer=ee.Reducer.count(),\n",
    "    selectors=[\"admin1\"]\n",
    ")\n",
    "print(\"Total compté pour admin1:\", Total_admin1.getInfo())\n",
    "\n",
    "# Visualisation\n",
    "Map2 = geemap.Map(center=[17.6078, 8.0817], zoom=6)  # Centrer sur le Niger maintenant\n",
    "# Charger les données des régions \n",
    "regions = ee.FeatureCollection(\"projects/ee-fogwoungsarahlauretp2/assets/geoBoundaries-NER-ADM1\")\n",
    "# Aficher les régions sur la carte avec un style\n",
    "Map2.addLayer(regions, {'color': 'blue'}, \"Régions du Niger\")\n",
    "# Afficher les differents points par région\n",
    "Map2.addLayer(Donnees_Niger, {'color': 'green'}, \"Points par régions\")\n",
    "# Afficher la carte\n",
    "Map2"
   ]
  },
  {
   "cell_type": "code",
   "execution_count": 36,
   "id": "1b402bf5-4d14-433d-ab09-ba146d6cfdc1",
   "metadata": {},
   "outputs": [
    {
     "data": {
      "text/html": [
       "\n",
       "            <style>\n",
       "                .geemap-dark {\n",
       "                    --jp-widgets-color: white;\n",
       "                    --jp-widgets-label-color: white;\n",
       "                    --jp-ui-font-color1: white;\n",
       "                    --jp-layout-color2: #454545;\n",
       "                    background-color: #383838;\n",
       "                }\n",
       "\n",
       "                .geemap-dark .jupyter-button {\n",
       "                    --jp-layout-color3: #383838;\n",
       "                }\n",
       "\n",
       "                .geemap-colab {\n",
       "                    background-color: var(--colab-primary-surface-color, white);\n",
       "                }\n",
       "\n",
       "                .geemap-colab .jupyter-button {\n",
       "                    --jp-layout-color3: var(--colab-primary-surface-color, white);\n",
       "                }\n",
       "            </style>\n",
       "            "
      ],
      "text/plain": [
       "<IPython.core.display.HTML object>"
      ]
     },
     "metadata": {},
     "output_type": "display_data"
    },
    {
     "name": "stdout",
     "output_type": "stream",
     "text": [
      "Nombre de valeurs uniques dans admin2 : 64\n",
      "Tableau des départements et leurs fréquences :\n",
      "       Départements  Nombre_occurences\n",
      "0             Abala                180\n",
      "1            Abalak                 25\n",
      "2      Aderbissinat                 20\n",
      "3             Aguie                  3\n",
      "4             Arlit                101\n",
      "..              ...                ...\n",
      "59           Tillia                120\n",
      "60           Torodi                279\n",
      "61  Ville de Maradi                 37\n",
      "62  Ville de Niamey                259\n",
      "63  Ville de Tahoua                 22\n",
      "\n",
      "[64 rows x 2 columns]\n",
      "Total compté pour admin2: {'count': 4437}\n"
     ]
    },
    {
     "data": {
      "application/vnd.jupyter.widget-view+json": {
       "model_id": "bf134fb323a14ae398dc9c8ae7fe77a5",
       "version_major": 2,
       "version_minor": 0
      },
      "text/plain": [
       "Map(bottom=7678.0, center=[17.6078, 8.0817], controls=(WidgetControl(options=['position', 'transparent_bg'], w…"
      ]
     },
     "execution_count": 36,
     "metadata": {},
     "output_type": "execute_result"
    }
   ],
   "source": [
    "            ############ AU NIVEAU admin2 ############\n",
    "# Afficher le nombre de valeurs uniques qu'on a dans cette colonne\n",
    "print(\"Nombre de valeurs uniques dans admin2 :\", Donnees_Niger.aggregate_array('admin2').distinct().size().getInfo())\n",
    "# Comptons le nombres de resultats pour chacune de ces valeurs unique\n",
    "Donnees_Niger_admin2 = Donnees_Niger.aggregate_array('admin2').reduce(ee.Reducer.frequencyHistogram()).getInfo()\n",
    "df_Donnees_Niger_admin2 = pd.DataFrame(list(Donnees_Niger_admin2.items()), columns=['Départements', 'Nombre_occurences']) # Convertissons sous forme de tableau \n",
    "# Affichons le tableau\n",
    "print(\"Tableau des départements et leurs fréquences :\")\n",
    "print(df_Donnees_Niger_admin2)\n",
    "\n",
    "# VERIFICATION QUE TOUT A BIEN ETE PRIS EN COMPTE\n",
    "Total_admin2 = Donnees_Niger.reduceColumns(\n",
    "    reducer=ee.Reducer.count(),\n",
    "    selectors=[\"admin2\"]\n",
    ")\n",
    "print(\"Total compté pour admin2:\", Total_admin2.getInfo())\n",
    "\n",
    "# Visualisation\n",
    "# Charger les données des régions \n",
    "departements = ee.FeatureCollection(\"projects/ee-fogwoungsarahlauretp2/assets/geoBoundaries-NER-ADM2\")\n",
    "# Aficher les departements sur la carte avec un style\n",
    "Map2.addLayer(departements, {'color': 'blue'}, \"Departements du Niger\")\n",
    "# Afficher la carte\n",
    "Map2"
   ]
  },
  {
   "cell_type": "code",
   "execution_count": 38,
   "id": "9c7d2529-d54d-437f-af1d-2f2cbfb29488",
   "metadata": {},
   "outputs": [
    {
     "data": {
      "text/html": [
       "\n",
       "            <style>\n",
       "                .geemap-dark {\n",
       "                    --jp-widgets-color: white;\n",
       "                    --jp-widgets-label-color: white;\n",
       "                    --jp-ui-font-color1: white;\n",
       "                    --jp-layout-color2: #454545;\n",
       "                    background-color: #383838;\n",
       "                }\n",
       "\n",
       "                .geemap-dark .jupyter-button {\n",
       "                    --jp-layout-color3: #383838;\n",
       "                }\n",
       "\n",
       "                .geemap-colab {\n",
       "                    background-color: var(--colab-primary-surface-color, white);\n",
       "                }\n",
       "\n",
       "                .geemap-colab .jupyter-button {\n",
       "                    --jp-layout-color3: var(--colab-primary-surface-color, white);\n",
       "                }\n",
       "            </style>\n",
       "            "
      ],
      "text/plain": [
       "<IPython.core.display.HTML object>"
      ]
     },
     "metadata": {},
     "output_type": "display_data"
    },
    {
     "name": "stdout",
     "output_type": "stream",
     "text": [
      "Nombre de valeurs uniques dans admin3 : 164\n",
      "Tableau des communes et leurs fréquences :\n",
      "         Communes  Nombre_occurences\n",
      "0           Abala                138\n",
      "1          Abalak                 16\n",
      "2    Aderbissinat                 20\n",
      "3          Affala                 13\n",
      "4          Agadez                132\n",
      "..            ...                ...\n",
      "159       Toumour                 74\n",
      "160      Tounouga                  1\n",
      "161     Tsernaoua                  4\n",
      "162         Yelou                  4\n",
      "163         Youri                  2\n",
      "\n",
      "[164 rows x 2 columns]\n",
      "Total compté pour admin3: {'count': 4437}\n"
     ]
    },
    {
     "data": {
      "application/vnd.jupyter.widget-view+json": {
       "model_id": "bf134fb323a14ae398dc9c8ae7fe77a5",
       "version_major": 2,
       "version_minor": 0
      },
      "text/plain": [
       "Map(bottom=7676.0, center=[17.644022027872726, 7.943115234375001], controls=(WidgetControl(options=['position'…"
      ]
     },
     "execution_count": 38,
     "metadata": {},
     "output_type": "execute_result"
    }
   ],
   "source": [
    "            ############ AU NIVEAU admin3 ############\n",
    "# Afficher le nombre de valeurs uniques qu'on a dans cette colonne\n",
    "print(\"Nombre de valeurs uniques dans admin3 :\", Donnees_Niger.aggregate_array('admin3').distinct().size().getInfo())\n",
    "# Comptons le nombres de resultats pour chacune de ces valeurs unique\n",
    "Donnees_Niger_admin3 = Donnees_Niger.aggregate_array('admin3').reduce(ee.Reducer.frequencyHistogram()).getInfo()\n",
    "df_Donnees_Niger_admin3 = pd.DataFrame(list(Donnees_Niger_admin3.items()), columns=['Communes', 'Nombre_occurences']) # Convertissons sous forme de tableau \n",
    "# Affichons le tableau\n",
    "print(\"Tableau des communes et leurs fréquences :\")\n",
    "print(df_Donnees_Niger_admin3)\n",
    "\n",
    "# VERIFICATION QUE TOUT A BIEN ETE PRIS EN COMPTE\n",
    "Total_admin3 = Donnees_Niger.reduceColumns(\n",
    "    reducer=ee.Reducer.count(),\n",
    "    selectors=[\"admin3\"]\n",
    ")\n",
    "print(\"Total compté pour admin3:\", Total_admin3.getInfo())\n",
    "\n",
    "# Visualisation\n",
    "# Charger les données des régions \n",
    "communes = ee.FeatureCollection(\"projects/ee-fogwoungsarahlauretp2/assets/geoBoundaries-NER-ADM3\")\n",
    "# Aficher les communes sur la carte avec un style\n",
    "Map2.addLayer(communes, {'color': 'blue'}, \"Communes du Niger\")\n",
    "# Afficher la carte\n",
    "Map2"
   ]
  },
  {
   "cell_type": "markdown",
   "id": "61b50a3b-2eca-4313-adde-ac441e500c22",
   "metadata": {},
   "source": [
    "############   STEP4: Création d'un raster avec les différents points ############\n",
    "\n",
    "Pour créer notre raster, nous allons d'abord ajouter une propriété count à chaque point, ce qui permettra de compter chaque événement. Ensuite, nous filtrerons ces points pour ne garder que ceux situés au Niger. Nous allons ensuite transformer ces points en un raster en utilisant la fonction reduceToImage(), où chaque pixel représente la somme des événements dans une zone donnée, avec une taille de pixel de 5 km. Enfin, nous afficherons ce raster sur une carte interactive pour visualiser la répartition des événements à travers le Niger."
   ]
  },
  {
   "cell_type": "code",
   "execution_count": 47,
   "id": "1f25fb87-6918-4b69-84e6-b146bf787d6f",
   "metadata": {},
   "outputs": [
    {
     "data": {
      "text/html": [
       "\n",
       "            <style>\n",
       "                .geemap-dark {\n",
       "                    --jp-widgets-color: white;\n",
       "                    --jp-widgets-label-color: white;\n",
       "                    --jp-ui-font-color1: white;\n",
       "                    --jp-layout-color2: #454545;\n",
       "                    background-color: #383838;\n",
       "                }\n",
       "\n",
       "                .geemap-dark .jupyter-button {\n",
       "                    --jp-layout-color3: #383838;\n",
       "                }\n",
       "\n",
       "                .geemap-colab {\n",
       "                    background-color: var(--colab-primary-surface-color, white);\n",
       "                }\n",
       "\n",
       "                .geemap-colab .jupyter-button {\n",
       "                    --jp-layout-color3: var(--colab-primary-surface-color, white);\n",
       "                }\n",
       "            </style>\n",
       "            "
      ],
      "text/plain": [
       "<IPython.core.display.HTML object>"
      ]
     },
     "metadata": {},
     "output_type": "display_data"
    },
    {
     "data": {
      "application/vnd.jupyter.widget-view+json": {
       "model_id": "2b156f7f2be8479887c7c50b14b53ee3",
       "version_major": 2,
       "version_minor": 0
      },
      "text/plain": [
       "Map(center=[17.413175629395553, 9.346513612635333], controls=(WidgetControl(options=['position', 'transparent_…"
      ]
     },
     "execution_count": 47,
     "metadata": {},
     "output_type": "execute_result"
    }
   ],
   "source": [
    "pays = ee.FeatureCollection(\"projects/ee-fogwoungsarahlauretp2/assets/geoBoundaries-NER-ADM0\")\n",
    "\n",
    "# Ajouter une propriété numérique \"count\" à chaque point\n",
    "Comptage_points = Donnees.map(lambda feature: feature.set('count', 1))\n",
    "\n",
    "# Filtrer les points pour le Niger\n",
    "Points_niger = Comptage_points.filter(ee.Filter.eq('country', 'Niger'))\n",
    "\n",
    "# Créer le raster à partir des points du Niger\n",
    "raster_niger = Points_niger.reduceToImage(\n",
    "    properties=[\"count\"],  # Utiliser la propriété numérique \"count\"\n",
    "    reducer=ee.Reducer.sum()  # Réduction par somme\n",
    ").reproject(\n",
    "    crs=\"EPSG:4326\",  # Système de projection WGS84\n",
    "    scale=5000  # Résolution de 5 km\n",
    ")\n",
    "\n",
    "# Découper le raster avec les limites du shapefile 'pays' (qui représente le Niger)\n",
    "raster_clipped_niger = raster_niger.clip(pays)\n",
    "\n",
    "\n",
    "\n"
   ]
  },
  {
   "cell_type": "code",
   "execution_count": 52,
   "id": "e8efd347-5865-431a-8310-7b273ed8f6f1",
   "metadata": {},
   "outputs": [
    {
     "data": {
      "text/html": [
       "\n",
       "            <style>\n",
       "                .geemap-dark {\n",
       "                    --jp-widgets-color: white;\n",
       "                    --jp-widgets-label-color: white;\n",
       "                    --jp-ui-font-color1: white;\n",
       "                    --jp-layout-color2: #454545;\n",
       "                    background-color: #383838;\n",
       "                }\n",
       "\n",
       "                .geemap-dark .jupyter-button {\n",
       "                    --jp-layout-color3: #383838;\n",
       "                }\n",
       "\n",
       "                .geemap-colab {\n",
       "                    background-color: var(--colab-primary-surface-color, white);\n",
       "                }\n",
       "\n",
       "                .geemap-colab .jupyter-button {\n",
       "                    --jp-layout-color3: var(--colab-primary-surface-color, white);\n",
       "                }\n",
       "            </style>\n",
       "            "
      ],
      "text/plain": [
       "<IPython.core.display.HTML object>"
      ]
     },
     "metadata": {},
     "output_type": "display_data"
    },
    {
     "name": "stdout",
     "output_type": "stream",
     "text": [
      "Informations détaillées du raster : {'type': 'Image', 'bands': [{'id': 'sum', 'data_type': {'type': 'PixelType', 'precision': 'int', 'min': -9.223372036854776e+18, 'max': 9.223372036854776e+18}, 'crs': 'EPSG:4326', 'crs_transform': [0.04491576420597607, 0, 0, 0, -0.04491576420597607, 0]}]}\n"
     ]
    }
   ],
   "source": [
    "# Les caractéristiques du raster créé\n",
    "print(\"Informations détaillées du raster :\", raster_clipped_niger.getInfo())"
   ]
  },
  {
   "cell_type": "code",
   "execution_count": 61,
   "id": "5fb7a9bf-011d-4b89-bfc2-6bf48424c255",
   "metadata": {},
   "outputs": [
    {
     "data": {
      "text/html": [
       "\n",
       "            <style>\n",
       "                .geemap-dark {\n",
       "                    --jp-widgets-color: white;\n",
       "                    --jp-widgets-label-color: white;\n",
       "                    --jp-ui-font-color1: white;\n",
       "                    --jp-layout-color2: #454545;\n",
       "                    background-color: #383838;\n",
       "                }\n",
       "\n",
       "                .geemap-dark .jupyter-button {\n",
       "                    --jp-layout-color3: #383838;\n",
       "                }\n",
       "\n",
       "                .geemap-colab {\n",
       "                    background-color: var(--colab-primary-surface-color, white);\n",
       "                }\n",
       "\n",
       "                .geemap-colab .jupyter-button {\n",
       "                    --jp-layout-color3: var(--colab-primary-surface-color, white);\n",
       "                }\n",
       "            </style>\n",
       "            "
      ],
      "text/plain": [
       "<IPython.core.display.HTML object>"
      ]
     },
     "metadata": {},
     "output_type": "display_data"
    },
    {
     "name": "stdout",
     "output_type": "stream",
     "text": [
      "Nombre maximal de points dans un pixel :  254\n",
      "Nombre minimal de points dans un pixel :  0\n"
     ]
    }
   ],
   "source": [
    "# Calculer les statistiques du raster (max, min, total)\n",
    "stats = raster_clipped_niger.reduceRegion(\n",
    "    reducer=ee.Reducer.minMax(),\n",
    "    geometry=pays, \n",
    "    scale=5000, \n",
    "    maxPixels=1e8\n",
    ").getInfo()\n",
    "\n",
    "# Afficher les résultats\n",
    "print(\"Nombre maximal de points dans un pixel : \", stats['sum_max'])\n",
    "print(\"Nombre minimal de points dans un pixel : \", stats['sum_min'])"
   ]
  },
  {
   "cell_type": "code",
   "execution_count": 59,
   "id": "84f9f1cd-ab13-48ca-96d6-477e07b4c979",
   "metadata": {},
   "outputs": [
    {
     "data": {
      "text/html": [
       "\n",
       "            <style>\n",
       "                .geemap-dark {\n",
       "                    --jp-widgets-color: white;\n",
       "                    --jp-widgets-label-color: white;\n",
       "                    --jp-ui-font-color1: white;\n",
       "                    --jp-layout-color2: #454545;\n",
       "                    background-color: #383838;\n",
       "                }\n",
       "\n",
       "                .geemap-dark .jupyter-button {\n",
       "                    --jp-layout-color3: #383838;\n",
       "                }\n",
       "\n",
       "                .geemap-colab {\n",
       "                    background-color: var(--colab-primary-surface-color, white);\n",
       "                }\n",
       "\n",
       "                .geemap-colab .jupyter-button {\n",
       "                    --jp-layout-color3: var(--colab-primary-surface-color, white);\n",
       "                }\n",
       "            </style>\n",
       "            "
      ],
      "text/plain": [
       "<IPython.core.display.HTML object>"
      ]
     },
     "metadata": {},
     "output_type": "display_data"
    },
    {
     "data": {
      "application/vnd.jupyter.widget-view+json": {
       "model_id": "75d7d3aa2ecd4bd09df3dcf7c2f561c4",
       "version_major": 2,
       "version_minor": 0
      },
      "text/plain": [
       "Map(center=[17.413175629395553, 9.346513612635333], controls=(WidgetControl(options=['position', 'transparent_…"
      ]
     },
     "execution_count": 59,
     "metadata": {},
     "output_type": "execute_result"
    }
   ],
   "source": [
    "# Ajouter le raster découpé au Map pour visualisation\n",
    "Map = geemap.Map()\n",
    "Map.centerObject(pays, zoom=6)\n",
    "# Palette de couleurs linéaire du bleu (petites valeurs) au rouge (grandes valeurs)\n",
    "palette_couleur = ['#00008B', '#0000FF', '#00BFFF', '#00FF00', '#FFFF00', '#FFD700', '#FF6347', '#FF0000']\n",
    "\n",
    "Map.addLayer(raster_niger_net, {\n",
    "    'min': 0, \n",
    "    'max': 254, \n",
    "    'palette': palette_couleur\n",
    "}, \"Raster 5km - Niger (Clipped)\")\n",
    "Map.addLayer(pays, {'color': 'black'}, \"Frontières du Niger\")\n",
    "Map"
   ]
  },
  {
   "cell_type": "code",
   "execution_count": 63,
   "id": "2ed33b7f-082a-4ef2-ae15-102b0026a198",
   "metadata": {},
   "outputs": [
    {
     "data": {
      "text/html": [
       "\n",
       "            <style>\n",
       "                .geemap-dark {\n",
       "                    --jp-widgets-color: white;\n",
       "                    --jp-widgets-label-color: white;\n",
       "                    --jp-ui-font-color1: white;\n",
       "                    --jp-layout-color2: #454545;\n",
       "                    background-color: #383838;\n",
       "                }\n",
       "\n",
       "                .geemap-dark .jupyter-button {\n",
       "                    --jp-layout-color3: #383838;\n",
       "                }\n",
       "\n",
       "                .geemap-colab {\n",
       "                    background-color: var(--colab-primary-surface-color, white);\n",
       "                }\n",
       "\n",
       "                .geemap-colab .jupyter-button {\n",
       "                    --jp-layout-color3: var(--colab-primary-surface-color, white);\n",
       "                }\n",
       "            </style>\n",
       "            "
      ],
      "text/plain": [
       "<IPython.core.display.HTML object>"
      ]
     },
     "metadata": {},
     "output_type": "display_data"
    },
    {
     "data": {
      "application/vnd.jupyter.widget-view+json": {
       "model_id": "4662747a3ace4ed4aac39918e93eece4",
       "version_major": 2,
       "version_minor": 0
      },
      "text/plain": [
       "Map(center=[13.5116, 2.1254], controls=(WidgetControl(options=['position', 'transparent_bg'], widget=SearchDat…"
      ]
     },
     "execution_count": 63,
     "metadata": {},
     "output_type": "execute_result"
    }
   ],
   "source": [
    "############   STEP5: Visualiser le raster sous forme de catégories ############\n",
    "\n",
    "# Définir les catégories de densité d'événements\n",
    "palette_categorique = ['blue', 'green', 'yellow', 'orange', 'red']\n",
    "vis_params_categorique = {\n",
    "    'min': 0,\n",
    "    'max': 4,\n",
    "    'palette': palette_categorique\n",
    "}\n",
    "\n",
    "# Reclasser les valeurs dans des catégories\n",
    "def categoriser_raster(raster):\n",
    "    return raster.expression(\n",
    "        \"(b('sum') == 0) ? 0 : \" +    # 0 événement\n",
    "        \"(b('sum') > 0 && b('sum') <= 5) ? 1 : \" +    # 1 à 5 événements\n",
    "        \"(b('sum') > 5 && b('sum') <= 10) ? 2 : \" +   # 6 à 10 événements\n",
    "        \"(b('sum') > 10 && b('sum') <= 20) ? 3 : \" +  # 11 à 20 événements\n",
    "        \"4\"                                           # Plus de 20 événements\n",
    "    )\n",
    "\n",
    "# Appliquer la classification par catégorie sur le raster\n",
    "raster_categorise = categoriser_raster(raster_clipped_niger)\n",
    "\n",
    "# Découper l'image catégorisée aux frontières du Niger\n",
    "raster_categorise_niger = raster_categorise.clip(pays)\n",
    "\n",
    "# Charger la carte\n",
    "Map = geemap.Map(center=[13.5116, 2.1254], zoom=6)  # Centrer sur le Niger\n",
    "Map.addLayer(raster_categorise_niger, vis_params_categorique, \"Densité d'événements - Catégories\")\n",
    "\n",
    "# Afficher la carte\n",
    "Map.addLayerControl()\n",
    "Map\n"
   ]
  },
  {
   "cell_type": "code",
   "execution_count": 81,
   "id": "2937e842-afda-4a76-9230-521b91bd7ad8",
   "metadata": {},
   "outputs": [
    {
     "data": {
      "text/html": [
       "\n",
       "            <style>\n",
       "                .geemap-dark {\n",
       "                    --jp-widgets-color: white;\n",
       "                    --jp-widgets-label-color: white;\n",
       "                    --jp-ui-font-color1: white;\n",
       "                    --jp-layout-color2: #454545;\n",
       "                    background-color: #383838;\n",
       "                }\n",
       "\n",
       "                .geemap-dark .jupyter-button {\n",
       "                    --jp-layout-color3: #383838;\n",
       "                }\n",
       "\n",
       "                .geemap-colab {\n",
       "                    background-color: var(--colab-primary-surface-color, white);\n",
       "                }\n",
       "\n",
       "                .geemap-colab .jupyter-button {\n",
       "                    --jp-layout-color3: var(--colab-primary-surface-color, white);\n",
       "                }\n",
       "            </style>\n",
       "            "
      ],
      "text/plain": [
       "<IPython.core.display.HTML object>"
      ]
     },
     "metadata": {},
     "output_type": "display_data"
    },
    {
     "name": "stdout",
     "output_type": "stream",
     "text": [
      "Tableau des effectifs par catégorie :\n",
      "Developpements strategiques : 1212\n",
      "Violence politique : 2885\n",
      "Demonstrations : 338\n"
     ]
    },
    {
     "data": {
      "application/vnd.jupyter.widget-view+json": {
       "model_id": "7d73179b8ccc4c6a81f439abb42e81b0",
       "version_major": 2,
       "version_minor": 0
      },
      "text/plain": [
       "Map(center=[17.413175629395553, 9.346513612635333], controls=(WidgetControl(options=['position', 'transparent_…"
      ]
     },
     "execution_count": 81,
     "metadata": {},
     "output_type": "execute_result"
    }
   ],
   "source": [
    "#########################  REPRESENTATION SUIVANT LA CATEGORIE \"DISORDER_TYPE\"\n",
    "\n",
    "# Filtrer les points en fonction des catégories de 'disorder_type'\n",
    "categorie_developpements_strategiques = Donnees_Niger.filter(ee.Filter.eq('disorder_type', 'Strategic developments'))\n",
    "categorie_violence_politique = Donnees_Niger.filter(ee.Filter.eq('disorder_type', 'Political violence'))\n",
    "categorie_Manifestations= Donnees_Niger.filter(ee.Filter.eq('disorder_type', 'Demonstrations'))\n",
    "\n",
    "# Compter le nombre de points dans chaque catégorie\n",
    "print(\"Tableau des effectifs par catégorie :\")\n",
    "print(\"Developpements strategiques :\", categorie_developpements_strategiques.size().getInfo())\n",
    "print(\"Violence politique :\", categorie_violence_politique.size().getInfo())\n",
    "print(\"Demonstrations :\", categorie_Manifestations.size().getInfo())\n",
    "\n",
    "# Créer la carte et centrer sur le Niger\n",
    "Map = geemap.Map()\n",
    "Map.centerObject(pays, zoom=6)\n",
    "\n",
    "# Ajouter les points pour chaque catégorie avec une couleur spécifique\n",
    "Map.addLayer(categorie_developpements_strategiques, {'color': 'blue'}, \"Developpements_strategiques\")\n",
    "Map.addLayer(categorie_violence_politique, {'color': 'red'}, \"violence_politique\")\n",
    "Map.addLayer(categorie_Manifestations, {'color': 'yellow'}, \"Manifestations\")\n",
    "\n",
    "# Ajouter les frontières du Niger pour contexte\n",
    "Map.addLayer(pays, {'color': 'black'}, \"Frontières du Niger\")\n",
    "\n",
    "# Afficher la carte\n",
    "Map\n"
   ]
  }
 ],
 "metadata": {
  "kernelspec": {
   "display_name": "Python 3 (ipykernel)",
   "language": "python",
   "name": "python3"
  },
  "language_info": {
   "codemirror_mode": {
    "name": "ipython",
    "version": 3
   },
   "file_extension": ".py",
   "mimetype": "text/x-python",
   "name": "python",
   "nbconvert_exporter": "python",
   "pygments_lexer": "ipython3",
   "version": "3.11.7"
  }
 },
 "nbformat": 4,
 "nbformat_minor": 5
}
