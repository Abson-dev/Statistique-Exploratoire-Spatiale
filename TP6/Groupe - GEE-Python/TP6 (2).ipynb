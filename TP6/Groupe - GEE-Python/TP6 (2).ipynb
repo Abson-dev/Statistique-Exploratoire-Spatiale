{
 "cells": [
  {
   "cell_type": "markdown",
   "id": "b3ffeca0-d00e-450b-ae5f-eb2c4ce7a620",
   "metadata": {},
   "source": [
    " ECOLE NATIONALE DE LA STATISTIQUE ET DE L'ANALYSE ECONOMIQUE PIERRE NDIAYE     \n",
    "        COURS DE STATISTIQUES EXPLORATOIRE ET SPATIALE - ISE1_CYCLE LONG          \n",
    "                        ENSEIGNANT: MR HEMA                                     \n",
    "                  TP5_GOOGLE EARTH ENGINE AVEC PYTHON                            \n",
    "                 MEMBRES: FOGWOUNG DJOUFACK SARAH-LAURE                         \n",
    "                          NGUEMFOUO NGOUMTSA CELINA                            \n",
    "                          NIASS AHMADOU                                       \n",
    "                          SENE MALICK          \n"
   ]
  },
  {
   "cell_type": "markdown",
   "id": "a535e291-d7bb-40e4-b5f9-ff78fa45d983",
   "metadata": {},
   "source": [
    "Consigne du TP :\n",
    "\n",
    "    - Importer le fichier csv Points_data envoyé sur GitHub\n",
    "    - Compter le nombre de points par admin\n",
    "    - Créer un raster qui regroupe les différents points\n",
    "    - Visualiser le raster sous forme de catégories \n"
   ]
  },
  {
   "cell_type": "code",
   "execution_count": 1,
   "id": "6dc45439-81cc-42c4-8b2b-6cd3fcf88751",
   "metadata": {},
   "outputs": [
    {
     "name": "stderr",
     "output_type": "stream",
     "text": [
      "*** Earth Engine *** Share your feedback by taking our Annual Developer Satisfaction Survey: https://google.qualtrics.com/jfe/form/SV_0JLhFqfSY1uiEaW?source=Init\n"
     ]
    },
    {
     "name": "stdout",
     "output_type": "stream",
     "text": [
      "DONE\n"
     ]
    }
   ],
   "source": [
    "############   STEP1: Importation des packages   ############\n",
    "\n",
    "import ee  # c'est la bibliothèque Python qui permet d'accéder à l'API de Google Earth Engine\n",
    "import geemap # Elle permet de créer et visualiser des cartes interactives basées sur des données GEE.\n",
    "import pandas as pd # Elle permet la manipulation et l’analyse généralement pour des données tabulaires\n",
    "from folium.plugins import Draw\n",
    "import os\n",
    "from ipywidgets import VBox, HTML\n",
    "from ipyleaflet import WidgetControl\n",
    "import matplotlib.pyplot as plt\n",
    "\n",
    "# Authentification et initialisation Google Earth Engine\n",
    "ee.Authenticate()  # Ceci permet de gérer le processus d'authentification pour accéder à Google Earth Engine.\n",
    "ee.Initialize()   # Initialise l'instance Earth Engine pour permettre certaines opérations qu'on fera par la suite\n",
    "\n",
    "print(\"DONE\") # Juste pour savoir quand ca aura finit d'éxecuter "
   ]
  },
  {
   "cell_type": "code",
   "execution_count": 2,
   "id": "681a1b55-cecf-4028-83d8-39be9ab0772f",
   "metadata": {},
   "outputs": [
    {
     "data": {
      "text/html": [
       "\n",
       "            <style>\n",
       "                .geemap-dark {\n",
       "                    --jp-widgets-color: white;\n",
       "                    --jp-widgets-label-color: white;\n",
       "                    --jp-ui-font-color1: white;\n",
       "                    --jp-layout-color2: #454545;\n",
       "                    background-color: #383838;\n",
       "                }\n",
       "\n",
       "                .geemap-dark .jupyter-button {\n",
       "                    --jp-layout-color3: #383838;\n",
       "                }\n",
       "\n",
       "                .geemap-colab {\n",
       "                    background-color: var(--colab-primary-surface-color, white);\n",
       "                }\n",
       "\n",
       "                .geemap-colab .jupyter-button {\n",
       "                    --jp-layout-color3: var(--colab-primary-surface-color, white);\n",
       "                }\n",
       "            </style>\n",
       "            "
      ],
      "text/plain": [
       "<IPython.core.display.HTML object>"
      ]
     },
     "metadata": {},
     "output_type": "display_data"
    },
    {
     "name": "stdout",
     "output_type": "stream",
     "text": [
      "{'type': 'Feature', 'geometry': {'type': 'Point', 'coordinates': [-7.499998394146455, 6.41669992512126]}, 'id': '000000000000000137d3', 'properties': {'actor1': 'Military Forces of France (1995-2007)', 'actor2': 'Private Security Forces (Ivory Coast)', 'admin1': 'Montagnes', 'admin2': 'Cavally', 'admin3': 'Guiglo', 'assoc_actor_1': '', 'assoc_actor_2': '', 'civilian_targeting': '', 'country': 'Ivory Coast', 'disorder_type': 'Political violence', 'event_date': '08 March 2003', 'event_id_cnty': 'CDI470', 'event_type': 'Battles', 'fatalities': 0, 'geo_precision': 1, 'inter1': 'External/Other forces', 'inter2': 'External/Other forces', 'interaction': 'External/Other forces-External/Other forces', 'iso': 384, 'location': 'Moyen-Cavally', 'notes': 'French troops attacked in Duekoue', 'region': 'Western Africa', 'source': 'Guardian (United Kingdom)', 'source_scale': 'International', 'sub_event_type': 'Armed clash', 'tags': '', 'time_precision': 1, 'timestamp': 1665530124, 'year': 2003}}\n"
     ]
    },
    {
     "data": {
      "application/vnd.jupyter.widget-view+json": {
       "model_id": "665bd7f0b69840e8b1d96c4e7869a853",
       "version_major": 2,
       "version_minor": 0
      },
      "text/plain": [
       "Map(center=[14.693, -17.445], controls=(WidgetControl(options=['position', 'transparent_bg'], widget=SearchDat…"
      ]
     },
     "execution_count": 2,
     "metadata": {},
     "output_type": "execute_result"
    }
   ],
   "source": [
    "############   STEP2: Importation fichier csv et visualisation ############\n",
    "Donnees = ee.FeatureCollection(\"projects/ee-senemalick123450/assets/Points_data\")\n",
    "    # Affichage de la première ligne pour voir comment c'est organisé\n",
    "# Définir le répertoire de travail\n",
    "repertoire_de_travail = 'C:/Users/DELL/Desktop/ISEP3/Statistique ES/Niger'  # Remplacez par le chemin de votre répertoire\n",
    "os.chdir(repertoire_de_travail)\n",
    "\n",
    "# Importer un fichier CSV dans ce répertoire\n",
    "data = pd.read_csv(\"Points_data.csv\")\n",
    "\n",
    "print(Donnees.first().getInfo())\n",
    "    # Créeons une carte interactive centrée sur l'Afrique de l'Ouest pour mieux visualiser les données\n",
    "Map = geemap.Map(center=[14.693, -17.445], zoom=4) \n",
    "    # Ajoutons la FeatureCollection à la carte\n",
    "Map.addLayer(Donnees.style(**{'color': 'blue', 'pointSize': 5}), {}, 'Donnees Evenements')\n",
    "Map # Affichage"
   ]
  },
  {
   "cell_type": "code",
   "execution_count": 3,
   "id": "843b5438-3090-49eb-8e16-d2370863c11b",
   "metadata": {},
   "outputs": [
    {
     "data": {
      "text/html": [
       "\n",
       "            <style>\n",
       "                .geemap-dark {\n",
       "                    --jp-widgets-color: white;\n",
       "                    --jp-widgets-label-color: white;\n",
       "                    --jp-ui-font-color1: white;\n",
       "                    --jp-layout-color2: #454545;\n",
       "                    background-color: #383838;\n",
       "                }\n",
       "\n",
       "                .geemap-dark .jupyter-button {\n",
       "                    --jp-layout-color3: #383838;\n",
       "                }\n",
       "\n",
       "                .geemap-colab {\n",
       "                    background-color: var(--colab-primary-surface-color, white);\n",
       "                }\n",
       "\n",
       "                .geemap-colab .jupyter-button {\n",
       "                    --jp-layout-color3: var(--colab-primary-surface-color, white);\n",
       "                }\n",
       "            </style>\n",
       "            "
      ],
      "text/plain": [
       "<IPython.core.display.HTML object>"
      ]
     },
     "metadata": {},
     "output_type": "display_data"
    },
    {
     "name": "stdout",
     "output_type": "stream",
     "text": [
      "Nombre de points par admin1 (région) :\n",
      "      admin1  Nombre de Points\n",
      "0     Agadez               392\n",
      "1      Diffa              1160\n",
      "2      Dosso               145\n",
      "3     Maradi               398\n",
      "4     Niamey               259\n",
      "5     Tahoua               323\n",
      "6  Tillaberi              1695\n",
      "7     Zinder                65\n",
      "Nombre total de points au Niger : 4437\n",
      "Somme des points par admin1 (région) : 4437\n",
      "Somme des points par admin2 (département) : 4437\n",
      "Somme des points par admin3 (commune) : 4437\n",
      "\n",
      "Les fichiers CSV des points par niveau administratif ont été exportés avec succès.\n"
     ]
    }
   ],
   "source": [
    "# Filtrer les données pour ne garder que les événements au Niger\n",
    "data_niger = data[data['country'] == 'Niger']\n",
    "\n",
    "# Compter le nombre total de points au Niger (vérification globale)\n",
    "nombre_total_points = len(data_niger)\n",
    "\n",
    "# Compter le nombre de points par niveau administratif\n",
    "# Par admin1 (région)\n",
    "points_par_admin1 = data_niger.groupby('admin1').size().reset_index(name='Nombre de Points')\n",
    "\n",
    "# Par admin2 (département)\n",
    "points_par_admin2 = data_niger.groupby('admin2').size().reset_index(name='Nombre de Points')\n",
    "\n",
    "# Par admin3 (commune)\n",
    "points_par_admin3 = data_niger.groupby('admin3').size().reset_index(name='Nombre de Points')\n",
    "\n",
    "# Afficher les résultats\n",
    "print(\"Nombre de points par admin1 (région) :\")\n",
    "print(points_par_admin1)\n",
    "\n",
    "# Calculer la somme des points pour chaque niveau administratif\n",
    "somme_points_admin1 = points_par_admin1['Nombre de Points'].sum()\n",
    "somme_points_admin2 = points_par_admin2['Nombre de Points'].sum()\n",
    "somme_points_admin3 = points_par_admin3['Nombre de Points'].sum()\n",
    "\n",
    "# Afficher les résultats\n",
    "print(f\"Nombre total de points au Niger : {nombre_total_points}\")\n",
    "print(f\"Somme des points par admin1 (région) : {somme_points_admin1}\")\n",
    "print(f\"Somme des points par admin2 (département) : {somme_points_admin2}\")\n",
    "print(f\"Somme des points par admin3 (commune) : {somme_points_admin3}\")\n",
    "\n",
    "# Exporter les résultats en CSV\n",
    "points_par_admin1.to_csv(\"points_par_admin1_niger.csv\", index=False)\n",
    "points_par_admin2.to_csv(\"points_par_admin2_niger.csv\", index=False)\n",
    "points_par_admin3.to_csv(\"points_par_admin3_niger.csv\", index=False)\n",
    "\n",
    "print(\"\\nLes fichiers CSV des points par niveau administratif ont été exportés avec succès.\")\n"
   ]
  },
  {
   "cell_type": "markdown",
   "id": "61b50a3b-2eca-4313-adde-ac441e500c22",
   "metadata": {},
   "source": [
    "############   STEP4: Création d'un raster avec les différents points ############\n",
    "\n",
    "Pour créer notre raster, nous allons d'abord ajouter une propriété count à chaque point, ce qui permettra de compter chaque événement. Ensuite, nous filtrerons ces points pour ne garder que ceux situés au Niger. Nous allons ensuite transformer ces points en un raster en utilisant la fonction reduceToImage(), où chaque pixel représente la somme des événements dans une zone donnée, avec une taille de pixel de 5 km. Enfin, nous afficherons ce raster sur une carte interactive pour visualiser la répartition des événements à travers le Niger."
   ]
  },
  {
   "cell_type": "code",
   "execution_count": 4,
   "id": "1f25fb87-6918-4b69-84e6-b146bf787d6f",
   "metadata": {},
   "outputs": [
    {
     "data": {
      "text/html": [
       "\n",
       "            <style>\n",
       "                .geemap-dark {\n",
       "                    --jp-widgets-color: white;\n",
       "                    --jp-widgets-label-color: white;\n",
       "                    --jp-ui-font-color1: white;\n",
       "                    --jp-layout-color2: #454545;\n",
       "                    background-color: #383838;\n",
       "                }\n",
       "\n",
       "                .geemap-dark .jupyter-button {\n",
       "                    --jp-layout-color3: #383838;\n",
       "                }\n",
       "\n",
       "                .geemap-colab {\n",
       "                    background-color: var(--colab-primary-surface-color, white);\n",
       "                }\n",
       "\n",
       "                .geemap-colab .jupyter-button {\n",
       "                    --jp-layout-color3: var(--colab-primary-surface-color, white);\n",
       "                }\n",
       "            </style>\n",
       "            "
      ],
      "text/plain": [
       "<IPython.core.display.HTML object>"
      ]
     },
     "metadata": {},
     "output_type": "display_data"
    }
   ],
   "source": [
    "pays = ee.FeatureCollection(\"projects/ee-senemalick123450/assets/geoBoundaries-NER-ADM0\")\n",
    "\n",
    "# Ajouter une propriété numérique \"count\" à chaque point\n",
    "Comptage_points = Donnees.map(lambda feature: feature.set('count', 1))\n",
    "\n",
    "# Filtrer les points pour le Niger\n",
    "Points_niger = Comptage_points.filter(ee.Filter.eq('country', 'Niger'))\n",
    "\n",
    "# Créer le raster à partir des points du Niger\n",
    "raster_niger = Points_niger.reduceToImage(\n",
    "    properties=[\"count\"],  # Utiliser la propriété numérique \"count\"\n",
    "    reducer=ee.Reducer.sum()  # Réduction par somme\n",
    ").reproject(\n",
    "    crs=\"EPSG:4326\",  # Système de projection WGS84\n",
    "    scale=5000  # Résolution de 5 km\n",
    ")\n",
    "\n",
    "# Découper le raster avec les limites du shapefile 'pays' (qui représente le Niger)\n",
    "raster_clipped_niger = raster_niger.clip(pays)\n"
   ]
  },
  {
   "cell_type": "code",
   "execution_count": 5,
   "id": "e8efd347-5865-431a-8310-7b273ed8f6f1",
   "metadata": {},
   "outputs": [
    {
     "data": {
      "text/html": [
       "\n",
       "            <style>\n",
       "                .geemap-dark {\n",
       "                    --jp-widgets-color: white;\n",
       "                    --jp-widgets-label-color: white;\n",
       "                    --jp-ui-font-color1: white;\n",
       "                    --jp-layout-color2: #454545;\n",
       "                    background-color: #383838;\n",
       "                }\n",
       "\n",
       "                .geemap-dark .jupyter-button {\n",
       "                    --jp-layout-color3: #383838;\n",
       "                }\n",
       "\n",
       "                .geemap-colab {\n",
       "                    background-color: var(--colab-primary-surface-color, white);\n",
       "                }\n",
       "\n",
       "                .geemap-colab .jupyter-button {\n",
       "                    --jp-layout-color3: var(--colab-primary-surface-color, white);\n",
       "                }\n",
       "            </style>\n",
       "            "
      ],
      "text/plain": [
       "<IPython.core.display.HTML object>"
      ]
     },
     "metadata": {},
     "output_type": "display_data"
    },
    {
     "name": "stdout",
     "output_type": "stream",
     "text": [
      "Informations détaillées du raster : {'type': 'Image', 'bands': [{'id': 'sum', 'data_type': {'type': 'PixelType', 'precision': 'int', 'min': -9.223372036854776e+18, 'max': 9.223372036854776e+18}, 'crs': 'EPSG:4326', 'crs_transform': [0.04491576420597607, 0, 0, 0, -0.04491576420597607, 0]}]}\n"
     ]
    }
   ],
   "source": [
    "# Les caractéristiques du raster créé\n",
    "print(\"Informations détaillées du raster :\", raster_clipped_niger.getInfo())"
   ]
  },
  {
   "cell_type": "code",
   "execution_count": 6,
   "id": "5fb7a9bf-011d-4b89-bfc2-6bf48424c255",
   "metadata": {},
   "outputs": [
    {
     "data": {
      "text/html": [
       "\n",
       "            <style>\n",
       "                .geemap-dark {\n",
       "                    --jp-widgets-color: white;\n",
       "                    --jp-widgets-label-color: white;\n",
       "                    --jp-ui-font-color1: white;\n",
       "                    --jp-layout-color2: #454545;\n",
       "                    background-color: #383838;\n",
       "                }\n",
       "\n",
       "                .geemap-dark .jupyter-button {\n",
       "                    --jp-layout-color3: #383838;\n",
       "                }\n",
       "\n",
       "                .geemap-colab {\n",
       "                    background-color: var(--colab-primary-surface-color, white);\n",
       "                }\n",
       "\n",
       "                .geemap-colab .jupyter-button {\n",
       "                    --jp-layout-color3: var(--colab-primary-surface-color, white);\n",
       "                }\n",
       "            </style>\n",
       "            "
      ],
      "text/plain": [
       "<IPython.core.display.HTML object>"
      ]
     },
     "metadata": {},
     "output_type": "display_data"
    },
    {
     "name": "stdout",
     "output_type": "stream",
     "text": [
      "Nombre maximal de points dans un pixel :  254\n",
      "Nombre minimal de points dans un pixel :  0\n"
     ]
    }
   ],
   "source": [
    "# Calculer les statistiques du raster (max, min, total)\n",
    "stats = raster_clipped_niger.reduceRegion(\n",
    "    reducer=ee.Reducer.minMax(),\n",
    "    geometry=pays, \n",
    "    scale=5000, \n",
    "    maxPixels=1e8\n",
    ").getInfo()\n",
    "\n",
    "# Afficher les résultats\n",
    "print(\"Nombre maximal de points dans un pixel : \", stats['sum_max'])\n",
    "print(\"Nombre minimal de points dans un pixel : \", stats['sum_min'])"
   ]
  },
  {
   "cell_type": "code",
   "execution_count": 7,
   "id": "84f9f1cd-ab13-48ca-96d6-477e07b4c979",
   "metadata": {},
   "outputs": [
    {
     "data": {
      "text/html": [
       "\n",
       "            <style>\n",
       "                .geemap-dark {\n",
       "                    --jp-widgets-color: white;\n",
       "                    --jp-widgets-label-color: white;\n",
       "                    --jp-ui-font-color1: white;\n",
       "                    --jp-layout-color2: #454545;\n",
       "                    background-color: #383838;\n",
       "                }\n",
       "\n",
       "                .geemap-dark .jupyter-button {\n",
       "                    --jp-layout-color3: #383838;\n",
       "                }\n",
       "\n",
       "                .geemap-colab {\n",
       "                    background-color: var(--colab-primary-surface-color, white);\n",
       "                }\n",
       "\n",
       "                .geemap-colab .jupyter-button {\n",
       "                    --jp-layout-color3: var(--colab-primary-surface-color, white);\n",
       "                }\n",
       "            </style>\n",
       "            "
      ],
      "text/plain": [
       "<IPython.core.display.HTML object>"
      ]
     },
     "metadata": {},
     "output_type": "display_data"
    },
    {
     "data": {
      "application/vnd.jupyter.widget-view+json": {
       "model_id": "a3b3833000bc4bae9e41b3aaa1deb64a",
       "version_major": 2,
       "version_minor": 0
      },
      "text/plain": [
       "Map(center=[17.413175629395553, 9.346513612635333], controls=(WidgetControl(options=['position', 'transparent_…"
      ]
     },
     "execution_count": 7,
     "metadata": {},
     "output_type": "execute_result"
    }
   ],
   "source": [
    "# Ajouter le raster découpé au Map pour visualisation\n",
    "Map = geemap.Map()\n",
    "Map.centerObject(pays, zoom=6)\n",
    "# Palette de couleurs linéaire du bleu (petites valeurs) au rouge (grandes valeurs)\n",
    "palette_couleur = ['#00008B', '#0000FF', '#00BFFF', '#00FF00', '#FFFF00', '#FFD700', '#FF6347', '#FF0000']\n",
    "\n",
    "\n",
    "Map.addLayer(raster_clipped_niger, {\n",
    "   'min': 0, \n",
    "    'max': 20, \n",
    "   'palette': palette_couleur\n",
    "}, \"Raster 5km - Niger (Clipped)\")\n",
    "Map.addLayer(pays, {'color': 'black'}, \"Frontières du Niger\")\n",
    "Map"
   ]
  },
  {
   "cell_type": "markdown",
   "id": "e0c1391e-3394-41a4-8d2d-7f72c55e28dd",
   "metadata": {},
   "source": [
    "La partie suivante vise à visualiser les données de densité d'événements sous forme de catégories\n",
    "en fonction des terciles calculés directement à partir des valeurs min et max.\n",
    " Étapes suivies :\n",
    "1. Définition des terciles :\n",
    "    - Les terciles sont calculés en divisant l'intervalle des valeurs (0 à 30) en trois parties égales.\n",
    "      - Tier1 : 1er tercile correspondant aux valeurs faibles (aucune situation grave).\n",
    "      - Tier2 : 2ème tercile correspondant aux valeurs modérées (situation modérée).\n",
    "      - Au-delà de Tier2 : situation critique.\n",
    " \n",
    " 2. Catégorisation des pixels :\n",
    "    - Les pixels sont reclassés en trois catégories à l'aide de la méthode `expression` :\n",
    "      - 1 : Aucune situation grave (valeurs inférieures ou égales à Tier1).\n",
    "      - 2 : Situation modérée (valeurs entre Tier1 et Tier2).\n",
    "      - 3 : Situation critique (valeurs supérieures à Tier2).\n",
    " "
   ]
  },
  {
   "cell_type": "code",
   "execution_count": 8,
   "id": "9140dd1c-bc76-4ffe-b4bb-ce005415be8b",
   "metadata": {},
   "outputs": [
    {
     "data": {
      "text/html": [
       "\n",
       "            <style>\n",
       "                .geemap-dark {\n",
       "                    --jp-widgets-color: white;\n",
       "                    --jp-widgets-label-color: white;\n",
       "                    --jp-ui-font-color1: white;\n",
       "                    --jp-layout-color2: #454545;\n",
       "                    background-color: #383838;\n",
       "                }\n",
       "\n",
       "                .geemap-dark .jupyter-button {\n",
       "                    --jp-layout-color3: #383838;\n",
       "                }\n",
       "\n",
       "                .geemap-colab {\n",
       "                    background-color: var(--colab-primary-surface-color, white);\n",
       "                }\n",
       "\n",
       "                .geemap-colab .jupyter-button {\n",
       "                    --jp-layout-color3: var(--colab-primary-surface-color, white);\n",
       "                }\n",
       "            </style>\n",
       "            "
      ],
      "text/plain": [
       "<IPython.core.display.HTML object>"
      ]
     },
     "metadata": {},
     "output_type": "display_data"
    },
    {
     "name": "stdout",
     "output_type": "stream",
     "text": [
      "Terciles calculés - Tier1 : 10.0, Tier2 : 20.0\n"
     ]
    },
    {
     "data": {
      "application/vnd.jupyter.widget-view+json": {
       "model_id": "0f7c72787775454e93ab4979fddb25b5",
       "version_major": 2,
       "version_minor": 0
      },
      "text/plain": [
       "Map(center=[13.5116, 2.1254], controls=(WidgetControl(options=['position', 'transparent_bg'], widget=SearchDat…"
      ]
     },
     "execution_count": 8,
     "metadata": {},
     "output_type": "execute_result"
    }
   ],
   "source": [
    "# Définir les terciles en fonction des valeurs min et max\n",
    "min_value = 0\n",
    "max_value = 30\n",
    "\n",
    "tier1 = min_value + (max_value - min_value) / 3  # 1er tercile\n",
    "tier2 = min_value + 2 * (max_value - min_value) / 3  # 2ème tercile\n",
    "\n",
    "# Afficher les terciles pour vérification\n",
    "print(f\"Terciles calculés - Tier1 : {tier1}, Tier2 : {tier2}\")\n",
    "\n",
    "# Fonction pour reclasser les pixels en catégories basées sur les terciles\n",
    "def categoriser_terciles(raster, tier1, tier2):\n",
    "    return raster.expression(\n",
    "        \"(b('sum') <= tier1) ? 1 : \" +                 # 1 : Aucune situation grave\n",
    "        \"(b('sum') > tier1 && b('sum') <= tier2) ? 2 : \" +  # 2 : Situation modérée\n",
    "        \"3\",                                          # 3 : Crise\n",
    "        {\n",
    "            'sum': raster, \n",
    "            'tier1': tier1, \n",
    "            'tier2': tier2\n",
    "        }\n",
    "    )\n",
    "\n",
    "# Appliquer la classification par terciles sur le raster\n",
    "raster_categorise_terciles = categoriser_terciles(raster_clipped_niger, tier1, tier2)\n",
    "\n",
    "# Découper l'image catégorisée aux frontières du Niger\n",
    "raster_categorise_terciles_clipped = raster_categorise_terciles.clip(pays)  \n",
    "\n",
    "# Paramètres de visualisation des terciles\n",
    "vis_params_terciles = {\n",
    "    'min': 1,\n",
    "    'max': 3,\n",
    "    'palette': ['green', 'yellow', 'red']  # Vert : Aucune situation grave, Jaune : Situation modérée, Rouge : Crise\n",
    "}\n",
    "\n",
    "# Charger la carte\n",
    "Map_terciles = geemap.Map(center=[13.5116, 2.1254], zoom=6)\n",
    "Map_terciles.addLayer(raster_categorise_terciles_clipped, vis_params_terciles, \"Situation par Terciles\")\n",
    "\n",
    "# Ajouter une légende\n",
    "legend_html = \"\"\"\n",
    "    <div style='padding: 10px; background-color: white; border-radius: 5px;'>\n",
    "        <h4>Catégories (Terciles)</h4>\n",
    "        <p style='margin: 0'><span style='color: green;'>⬤</span> Aucune situation grave</p>\n",
    "        <p style='margin: 0'><span style='color: yellow;'>⬤</span> Situation modérée</p>\n",
    "        <p style='margin: 0'><span style='color: red;'>⬤</span> Crise</p>\n",
    "    </div>\n",
    "\"\"\"\n",
    "legend_widget = HTML(value=legend_html)\n",
    "legend_control = WidgetControl(widget=legend_widget, position=\"topright\")\n",
    "Map_terciles.add_control(legend_control)\n",
    "\n",
    "# Afficher la carte\n",
    "Map_terciles\n"
   ]
  },
  {
   "cell_type": "code",
   "execution_count": 9,
   "id": "2937e842-afda-4a76-9230-521b91bd7ad8",
   "metadata": {},
   "outputs": [
    {
     "data": {
      "text/html": [
       "\n",
       "            <style>\n",
       "                .geemap-dark {\n",
       "                    --jp-widgets-color: white;\n",
       "                    --jp-widgets-label-color: white;\n",
       "                    --jp-ui-font-color1: white;\n",
       "                    --jp-layout-color2: #454545;\n",
       "                    background-color: #383838;\n",
       "                }\n",
       "\n",
       "                .geemap-dark .jupyter-button {\n",
       "                    --jp-layout-color3: #383838;\n",
       "                }\n",
       "\n",
       "                .geemap-colab {\n",
       "                    background-color: var(--colab-primary-surface-color, white);\n",
       "                }\n",
       "\n",
       "                .geemap-colab .jupyter-button {\n",
       "                    --jp-layout-color3: var(--colab-primary-surface-color, white);\n",
       "                }\n",
       "            </style>\n",
       "            "
      ],
      "text/plain": [
       "<IPython.core.display.HTML object>"
      ]
     },
     "metadata": {},
     "output_type": "display_data"
    },
    {
     "name": "stdout",
     "output_type": "stream",
     "text": [
      "Tableau des effectifs par catégorie pour le Niger :\n",
      "Développements stratégiques : 1212\n",
      "Violence politique : 2885\n",
      "Manifestations : 338\n"
     ]
    },
    {
     "data": {
      "application/vnd.jupyter.widget-view+json": {
       "model_id": "0a131451074b44348ba1395b7e117b7c",
       "version_major": 2,
       "version_minor": 0
      },
      "text/plain": [
       "Map(center=[17.413175629395553, 9.346513612635333], controls=(WidgetControl(options=['position', 'transparent_…"
      ]
     },
     "execution_count": 9,
     "metadata": {},
     "output_type": "execute_result"
    }
   ],
   "source": [
    "#########################  REPRESENTATION SUIVANT LA CATEGORIE \"DISORDER_TYPE\" POUR LE NIGER #########################\n",
    "\n",
    "# Filtrer les points en fonction des catégories de 'disorder_type' et du pays 'Niger'\n",
    "categorie_developpements_strategiques = Donnees.filter(\n",
    "    ee.Filter.And(\n",
    "        ee.Filter.eq('disorder_type', 'Strategic developments'),\n",
    "        ee.Filter.eq('country', 'Niger')\n",
    "    )\n",
    ")\n",
    "categorie_violence_politique = Donnees.filter(\n",
    "    ee.Filter.And(\n",
    "        ee.Filter.eq('disorder_type', 'Political violence'),\n",
    "        ee.Filter.eq('country', 'Niger')\n",
    "    )\n",
    ")\n",
    "categorie_manifestations = Donnees.filter(\n",
    "    ee.Filter.And(\n",
    "        ee.Filter.eq('disorder_type', 'Demonstrations'),\n",
    "        ee.Filter.eq('country', 'Niger')\n",
    "    )\n",
    ")\n",
    "\n",
    "# Compter le nombre de points dans chaque catégorie pour le Niger\n",
    "print(\"Tableau des effectifs par catégorie pour le Niger :\")\n",
    "print(\"Développements stratégiques :\", categorie_developpements_strategiques.size().getInfo())\n",
    "print(\"Violence politique :\", categorie_violence_politique.size().getInfo())\n",
    "print(\"Manifestations :\", categorie_manifestations.size().getInfo())\n",
    "\n",
    "# Créer la carte et centrer sur le Niger\n",
    "Map = geemap.Map()\n",
    "Map.centerObject(pays, zoom=6)\n",
    "\n",
    "# Ajouter les points pour chaque catégorie avec une couleur spécifique\n",
    "Map.addLayer(categorie_developpements_strategiques, {'color': 'blue'}, \"Développements stratégiques\")\n",
    "Map.addLayer(categorie_violence_politique, {'color': 'red'}, \"Violence politique\")\n",
    "Map.addLayer(categorie_manifestations, {'color': 'yellow'}, \"Manifestations\")\n",
    "\n",
    "# Ajouter les frontières du Niger pour contexte\n",
    "Map.addLayer(pays, {'color': 'black'}, \"Frontières du Niger\")\n",
    "\n",
    "# Afficher la carte\n",
    "Map\n"
   ]
  },
  {
   "cell_type": "code",
   "execution_count": 10,
   "id": "db36db7f-8424-422c-a48d-560b43eb411b",
   "metadata": {},
   "outputs": [
    {
     "data": {
      "text/html": [
       "\n",
       "            <style>\n",
       "                .geemap-dark {\n",
       "                    --jp-widgets-color: white;\n",
       "                    --jp-widgets-label-color: white;\n",
       "                    --jp-ui-font-color1: white;\n",
       "                    --jp-layout-color2: #454545;\n",
       "                    background-color: #383838;\n",
       "                }\n",
       "\n",
       "                .geemap-dark .jupyter-button {\n",
       "                    --jp-layout-color3: #383838;\n",
       "                }\n",
       "\n",
       "                .geemap-colab {\n",
       "                    background-color: var(--colab-primary-surface-color, white);\n",
       "                }\n",
       "\n",
       "                .geemap-colab .jupyter-button {\n",
       "                    --jp-layout-color3: var(--colab-primary-surface-color, white);\n",
       "                }\n",
       "            </style>\n",
       "            "
      ],
      "text/plain": [
       "<IPython.core.display.HTML object>"
      ]
     },
     "metadata": {},
     "output_type": "display_data"
    },
    {
     "data": {
      "application/vnd.jupyter.widget-view+json": {
       "model_id": "f3b280889b1a48a2859297ef02e1a7d9",
       "version_major": 2,
       "version_minor": 0
      },
      "text/plain": [
       "Map(center=[13.5116, 2.1254], controls=(WidgetControl(options=['position', 'transparent_bg'], widget=SearchDat…"
      ]
     },
     "execution_count": 10,
     "metadata": {},
     "output_type": "execute_result"
    }
   ],
   "source": [
    "# Palette de couleurs pour les événements\n",
    "palette_evenements = ['lightblue', 'yellow', 'orange']\n",
    "\n",
    "# Initialisation de la carte\n",
    "Map = geemap.Map(center=[13.5116, 2.1254], zoom=6)  # Centrer sur le Niger\n",
    "Map.addLayer(pays, {'color': 'black'}, \"Frontières du Niger\")  # Ajouter les frontières du Niger\n",
    "\n",
    "# Étape 1 : Identifier les années uniques dans les données\n",
    "annees = data['year'].unique()\n",
    "\n",
    "# Initialiser une liste pour stocker le total d'événements par année\n",
    "totaux_par_annee = []\n",
    "\n",
    "# Étape 2 et 3 : Créer un raster de densité pour chaque année et calculer le total des événements\n",
    "for annee in annees:\n",
    "    # Filtrer les événements pour l'année en cours\n",
    "    data_annee = Donnees.filter(ee.Filter.eq('year', int(annee)))\n",
    "    \n",
    "    # Créer un raster de densité\n",
    "    raster_annee = data_annee.reduceToImage(\n",
    "        properties=['timestamp'],  # Utiliser une propriété valide pour identifier les événements\n",
    "        reducer=ee.Reducer.count()  # Compter les événements dans chaque pixel\n",
    "    ).reproject(\n",
    "        crs='EPSG:4326',  # Système de coordonnées géographiques\n",
    "        scale=5000  # Résolution de 5 km\n",
    "    )\n",
    "    \n",
    "    # Découper le raster pour ne conserver que la zone du Niger\n",
    "    raster_clipped = raster_annee.clip(pays)\n",
    "    \n",
    "    # Calculer le total des événements (somme des pixels du raster)\n",
    "    total_evenements = raster_clipped.reduceRegion(\n",
    "        reducer=ee.Reducer.sum(),\n",
    "        geometry=pays.geometry(),  # Clip uniquement sur le Niger\n",
    "        scale=5000,\n",
    "        maxPixels=1e13\n",
    "    ).get('count').getInfo()  # \"count\" correspond à la bande par défaut\n",
    "    \n",
    "    # Ajouter le total à la liste\n",
    "    totaux_par_annee.append(total_evenements)\n",
    "    \n",
    "    # Visualiser le raster sur la carte pour l'année en cours\n",
    "    Map.addLayer(\n",
    "        raster_clipped,\n",
    "        {'min': 0, 'max': 30, 'palette': palette_evenements},\n",
    "        f\"Événements {annee}\"\n",
    "    )\n",
    "\n",
    "# Supprimer les couches des types d'evenement puiquq'on a demandé de visualiser dans distinguer les évenements\n",
    "if 'Developpements_strategiques' in Map.layers:\n",
    "    Map.remove_layer(Map.layers['Developpements_strategiques'])\n",
    "if 'violence_politique' in Map.layers:\n",
    "    Map.remove_layer(Map.layers['violence_politique'])\n",
    "if 'Manifestations' in Map.layers:\n",
    "    Map.remove_layer(Map.layers['Manifestations'])\n",
    "\n",
    "# Ajouter une légende\n",
    "legend_html = \"\"\"\n",
    "    <div style='padding: 10px; background-color: white; border-radius: 5px;'>\n",
    "        <h4>Densité des Événements</h4>\n",
    "        <p style='margin: 0'><span style='color: lightblue;'>⬤</span> Faible</p>\n",
    "        <p style='margin: 0'><span style='color: yellow;'>⬤</span> Modérée</p>\n",
    "        <p style='margin: 0'><span style='color: orange;'>⬤</span> Élevée</p>\n",
    "    </div>\n",
    "\"\"\"\n",
    "legend_widget = HTML(value=legend_html)\n",
    "legend_control = WidgetControl(widget=legend_widget, position=\"topright\")\n",
    "Map.add_control(legend_control)\n",
    "\n",
    "# Afficher la carte\n",
    "Map\n"
   ]
  },
  {
   "cell_type": "code",
   "execution_count": 11,
   "id": "cddc67a9-5d4d-4a4c-b676-841e88d82d06",
   "metadata": {},
   "outputs": [
    {
     "data": {
      "text/html": [
       "\n",
       "            <style>\n",
       "                .geemap-dark {\n",
       "                    --jp-widgets-color: white;\n",
       "                    --jp-widgets-label-color: white;\n",
       "                    --jp-ui-font-color1: white;\n",
       "                    --jp-layout-color2: #454545;\n",
       "                    background-color: #383838;\n",
       "                }\n",
       "\n",
       "                .geemap-dark .jupyter-button {\n",
       "                    --jp-layout-color3: #383838;\n",
       "                }\n",
       "\n",
       "                .geemap-colab {\n",
       "                    background-color: var(--colab-primary-surface-color, white);\n",
       "                }\n",
       "\n",
       "                .geemap-colab .jupyter-button {\n",
       "                    --jp-layout-color3: var(--colab-primary-surface-color, white);\n",
       "                }\n",
       "            </style>\n",
       "            "
      ],
      "text/plain": [
       "<IPython.core.display.HTML object>"
      ]
     },
     "metadata": {},
     "output_type": "display_data"
    },
    {
     "data": {
      "image/png": "[encoded data removed]",
      "text/plain": [
       "<Figure size 1000x600 with 1 Axes>"
      ]
     },
     "metadata": {},
     "output_type": "display_data"
    }
   ],
   "source": [
    "# Étape 4 : Tracer l'évolution des événements au fil des années\n",
    "plt.figure(figsize=(10, 6))\n",
    "plt.plot(annees, totaux_par_annee, marker='o', linestyle='-', color='b')\n",
    "plt.title(\"Évolution des événements au Niger (par année)\")\n",
    "plt.xlabel(\"Année\")\n",
    "plt.ylabel(\"Nombre total d'événements\")\n",
    "plt.grid(True)\n",
    "plt.show()\n",
    "\n"
   ]
  }
 ],
 "metadata": {
  "kernelspec": {
   "display_name": "Python 3 (ipykernel)",
   "language": "python",
   "name": "python3"
  },
  "language_info": {
   "codemirror_mode": {
    "name": "ipython",
    "version": 3
   },
   "file_extension": ".py",
   "mimetype": "text/x-python",
   "name": "python",
   "nbconvert_exporter": "python",
   "pygments_lexer": "ipython3",
   "version": "3.10.6"
  }
 },
 "nbformat": 4,
 "nbformat_minor": 5
}
